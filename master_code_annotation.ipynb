{
 "cells": [
  {
   "cell_type": "code",
   "execution_count": 153,
   "id": "adbbb8b0",
   "metadata": {},
   "outputs": [
    {
     "name": "stdout",
     "output_type": "stream",
     "text": [
      "Filtered, mapped, and expanded dataset saved to:\n",
      "C:/Users/secki/OneDrive/Desktop/MY498 Capstone Under Supervision/UNGA Speech Corpus/Jankin Full Dataset/annotation_pipeline/group_WVC_stem_encoding.csv\n"
     ]
    }
   ],
   "source": [
    "# Note: Q153 and Q155 calculation methods have changed, the inclusion of Q153 and Q155, and their response and adapted hypotheses are solely \n",
    "# for the full coverage of the WVS questionnaire.\n",
    "# The upcoming pipelines will not use these secondary choice question, but derive the responses based on the second most frequent sentences per country-year level\n",
    "# in the previous questions (i.e., Q152 and Q154)\n",
    "\n",
    "## (Data Prep) Run the merge_qs_with_wvc script to merge the WVS question set data with the WVC data and save the results into JSON and CSV files.\n",
    "%run merge_qs_with_wvc.py\n"
   ]
  },
  {
   "cell_type": "code",
   "execution_count": 154,
   "id": "fb4c9d65",
   "metadata": {},
   "outputs": [
    {
     "data": {
      "text/html": [
       "<div>\n",
       "<style scoped>\n",
       "    .dataframe tbody tr th:only-of-type {\n",
       "        vertical-align: middle;\n",
       "    }\n",
       "\n",
       "    .dataframe tbody tr th {\n",
       "        vertical-align: top;\n",
       "    }\n",
       "\n",
       "    .dataframe thead th {\n",
       "        text-align: right;\n",
       "    }\n",
       "</style>\n",
       "<table border=\"1\" class=\"dataframe\">\n",
       "  <thead>\n",
       "    <tr style=\"text-align: right;\">\n",
       "      <th></th>\n",
       "      <th>broad_qid</th>\n",
       "      <th>question_text</th>\n",
       "      <th>original_wvc_hypothesis</th>\n",
       "      <th>hypothesis_recoding_action</th>\n",
       "      <th>recoded_wvc_hypothesis_stem</th>\n",
       "      <th>likert_scale</th>\n",
       "      <th>response_text</th>\n",
       "      <th>response_hypothesis</th>\n",
       "      <th>adapted_hypothesis_1</th>\n",
       "      <th>adapted_hypothesis_2</th>\n",
       "      <th>adapted_hypothesis_3</th>\n",
       "      <th>adapted_hypothesis_4</th>\n",
       "      <th>adapted_hypothesis_5</th>\n",
       "    </tr>\n",
       "  </thead>\n",
       "  <tbody>\n",
       "    <tr>\n",
       "      <th>0</th>\n",
       "      <td>Q11</td>\n",
       "      <td>Important child qualities: Imagination Here is...</td>\n",
       "      <td>It is important for children to be imaginative.</td>\n",
       "      <td>keep</td>\n",
       "      <td>it is important for children to be imaginative.</td>\n",
       "      <td>1</td>\n",
       "      <td>Important</td>\n",
       "      <td>it is important for children to be imaginative.</td>\n",
       "      <td></td>\n",
       "      <td></td>\n",
       "      <td></td>\n",
       "      <td></td>\n",
       "      <td></td>\n",
       "    </tr>\n",
       "    <tr>\n",
       "      <th>1</th>\n",
       "      <td>Q11</td>\n",
       "      <td>Important child qualities: Imagination Here is...</td>\n",
       "      <td>It is important for children to be imaginative.</td>\n",
       "      <td>keep</td>\n",
       "      <td>it is important for children to be imaginative.</td>\n",
       "      <td>2</td>\n",
       "      <td>Not mentioned</td>\n",
       "      <td>it is not important for children to be imagina...</td>\n",
       "      <td></td>\n",
       "      <td></td>\n",
       "      <td></td>\n",
       "      <td></td>\n",
       "      <td></td>\n",
       "    </tr>\n",
       "    <tr>\n",
       "      <th>2</th>\n",
       "      <td>Q152</td>\n",
       "      <td>Aims of country: first choice People sometimes...</td>\n",
       "      <td>Over the coming years, the government should p...</td>\n",
       "      <td>reword</td>\n",
       "      <td>Over the coming years, the government should p...</td>\n",
       "      <td>4</td>\n",
       "      <td>Trying to make our cities and countryside more...</td>\n",
       "      <td>Over the coming years, the government should p...</td>\n",
       "      <td></td>\n",
       "      <td></td>\n",
       "      <td></td>\n",
       "      <td></td>\n",
       "      <td></td>\n",
       "    </tr>\n",
       "    <tr>\n",
       "      <th>3</th>\n",
       "      <td>Q152</td>\n",
       "      <td>Aims of country: first choice People sometimes...</td>\n",
       "      <td>Over the coming years, the government should p...</td>\n",
       "      <td>reword</td>\n",
       "      <td>Over the coming years, the government should p...</td>\n",
       "      <td>2</td>\n",
       "      <td>Strong defence forces</td>\n",
       "      <td>Over the coming years, the government should p...</td>\n",
       "      <td></td>\n",
       "      <td></td>\n",
       "      <td></td>\n",
       "      <td></td>\n",
       "      <td></td>\n",
       "    </tr>\n",
       "    <tr>\n",
       "      <th>4</th>\n",
       "      <td>Q152</td>\n",
       "      <td>Aims of country: first choice People sometimes...</td>\n",
       "      <td>Over the coming years, the government should e...</td>\n",
       "      <td>keep</td>\n",
       "      <td>over the coming years, the government should e...</td>\n",
       "      <td>1</td>\n",
       "      <td>A high level of economic growth</td>\n",
       "      <td>over the coming years, the government should e...</td>\n",
       "      <td></td>\n",
       "      <td></td>\n",
       "      <td></td>\n",
       "      <td></td>\n",
       "      <td></td>\n",
       "    </tr>\n",
       "  </tbody>\n",
       "</table>\n",
       "</div>"
      ],
      "text/plain": [
       "  broad_qid                                      question_text  \\\n",
       "0       Q11  Important child qualities: Imagination Here is...   \n",
       "1       Q11  Important child qualities: Imagination Here is...   \n",
       "2      Q152  Aims of country: first choice People sometimes...   \n",
       "3      Q152  Aims of country: first choice People sometimes...   \n",
       "4      Q152  Aims of country: first choice People sometimes...   \n",
       "\n",
       "                             original_wvc_hypothesis  \\\n",
       "0    It is important for children to be imaginative.   \n",
       "1    It is important for children to be imaginative.   \n",
       "2  Over the coming years, the government should p...   \n",
       "3  Over the coming years, the government should p...   \n",
       "4  Over the coming years, the government should e...   \n",
       "\n",
       "  hypothesis_recoding_action  \\\n",
       "0                       keep   \n",
       "1                       keep   \n",
       "2                     reword   \n",
       "3                     reword   \n",
       "4                       keep   \n",
       "\n",
       "                         recoded_wvc_hypothesis_stem  likert_scale  \\\n",
       "0    it is important for children to be imaginative.             1   \n",
       "1    it is important for children to be imaginative.             2   \n",
       "2  Over the coming years, the government should p...             4   \n",
       "3  Over the coming years, the government should p...             2   \n",
       "4  over the coming years, the government should e...             1   \n",
       "\n",
       "                                       response_text  \\\n",
       "0                                          Important   \n",
       "1                                      Not mentioned   \n",
       "2  Trying to make our cities and countryside more...   \n",
       "3                              Strong defence forces   \n",
       "4                    A high level of economic growth   \n",
       "\n",
       "                                 response_hypothesis adapted_hypothesis_1  \\\n",
       "0    it is important for children to be imaginative.                        \n",
       "1  it is not important for children to be imagina...                        \n",
       "2  Over the coming years, the government should p...                        \n",
       "3  Over the coming years, the government should p...                        \n",
       "4  over the coming years, the government should e...                        \n",
       "\n",
       "  adapted_hypothesis_2 adapted_hypothesis_3 adapted_hypothesis_4  \\\n",
       "0                                                                  \n",
       "1                                                                  \n",
       "2                                                                  \n",
       "3                                                                  \n",
       "4                                                                  \n",
       "\n",
       "  adapted_hypothesis_5  \n",
       "0                       \n",
       "1                       \n",
       "2                       \n",
       "3                       \n",
       "4                       "
      ]
     },
     "metadata": {},
     "output_type": "display_data"
    }
   ],
   "source": [
    "## (Data Prep) Run the annotate_response_hypotheses script to annotate the response hypotheses based on the merged data.\n",
    "%run annotate_response_hypotheses.py"
   ]
  },
  {
   "cell_type": "code",
   "execution_count": 155,
   "id": "583c686c",
   "metadata": {},
   "outputs": [
    {
     "data": {
      "text/html": [
       "<div>\n",
       "<style scoped>\n",
       "    .dataframe tbody tr th:only-of-type {\n",
       "        vertical-align: middle;\n",
       "    }\n",
       "\n",
       "    .dataframe tbody tr th {\n",
       "        vertical-align: top;\n",
       "    }\n",
       "\n",
       "    .dataframe thead th {\n",
       "        text-align: right;\n",
       "    }\n",
       "</style>\n",
       "<table border=\"1\" class=\"dataframe\">\n",
       "  <thead>\n",
       "    <tr style=\"text-align: right;\">\n",
       "      <th></th>\n",
       "      <th>combined_label</th>\n",
       "      <th>broad_qid</th>\n",
       "      <th>question_text</th>\n",
       "      <th>original_wvc_hypothesis</th>\n",
       "      <th>hypothesis_recoding_action</th>\n",
       "      <th>recoded_wvc_hypothesis_stem</th>\n",
       "      <th>likert_scale</th>\n",
       "      <th>response_text</th>\n",
       "      <th>response_hypothesis</th>\n",
       "      <th>adapted_hypothesis_1</th>\n",
       "      <th>adapted_hypothesis_2</th>\n",
       "      <th>adapted_hypothesis_3</th>\n",
       "      <th>adapted_hypothesis_4</th>\n",
       "      <th>adapted_hypothesis_5</th>\n",
       "    </tr>\n",
       "  </thead>\n",
       "  <tbody>\n",
       "    <tr>\n",
       "      <th>122</th>\n",
       "      <td>Q153_1</td>\n",
       "      <td>Q153</td>\n",
       "      <td>Aims of country: second choice People sometime...</td>\n",
       "      <td>NaN</td>\n",
       "      <td>NaN</td>\n",
       "      <td>NaN</td>\n",
       "      <td>1</td>\n",
       "      <td>A high level of economic growth</td>\n",
       "      <td>Over the coming years, the government should a...</td>\n",
       "      <td>We view sustained economic expansion as a fund...</td>\n",
       "      <td>Our government remains committed to fostering ...</td>\n",
       "      <td>In the years ahead, we will prioritize job cre...</td>\n",
       "      <td>Economic vitality is the engine of development...</td>\n",
       "      <td>High and stable economic growth is not merely ...</td>\n",
       "    </tr>\n",
       "    <tr>\n",
       "      <th>123</th>\n",
       "      <td>Q153_2</td>\n",
       "      <td>Q153</td>\n",
       "      <td>Aims of country: second choice People sometime...</td>\n",
       "      <td>NaN</td>\n",
       "      <td>NaN</td>\n",
       "      <td>NaN</td>\n",
       "      <td>2</td>\n",
       "      <td>Making sure this country has strong defence fo...</td>\n",
       "      <td>Over the coming years, the government should a...</td>\n",
       "      <td>We affirm the necessity of a well-prepared def...</td>\n",
       "      <td>Modernizing our armed forces will remain a str...</td>\n",
       "      <td>Security is not the opposite of peace—it is it...</td>\n",
       "      <td>A capable national defense supports regional s...</td>\n",
       "      <td>We will continue investing in strategic readin...</td>\n",
       "    </tr>\n",
       "    <tr>\n",
       "      <th>124</th>\n",
       "      <td>Q153_3</td>\n",
       "      <td>Q153</td>\n",
       "      <td>Aims of country: second choice People sometime...</td>\n",
       "      <td>NaN</td>\n",
       "      <td>NaN</td>\n",
       "      <td>NaN</td>\n",
       "      <td>3</td>\n",
       "      <td>Seeing that people have more say about how are...</td>\n",
       "      <td>Over the coming years, the government should a...</td>\n",
       "      <td>The legitimacy of governance depends on how me...</td>\n",
       "      <td>We envision a future where citizens have a mor...</td>\n",
       "      <td>Democratic participation must be renewed at ev...</td>\n",
       "      <td>Reforming global governance to reflect a wider...</td>\n",
       "      <td>Empowering communities to co-create solutions ...</td>\n",
       "    </tr>\n",
       "    <tr>\n",
       "      <th>125</th>\n",
       "      <td>Q153_4</td>\n",
       "      <td>Q153</td>\n",
       "      <td>Aims of country: second choice People sometime...</td>\n",
       "      <td>NaN</td>\n",
       "      <td>NaN</td>\n",
       "      <td>NaN</td>\n",
       "      <td>4</td>\n",
       "      <td>Trying to make our cities and countryside more...</td>\n",
       "      <td>Over the coming years, the government should a...</td>\n",
       "      <td>We must take bold steps to restore the natural...</td>\n",
       "      <td>Environmental integrity must be woven into all...</td>\n",
       "      <td>The government will intensify efforts to reduc...</td>\n",
       "      <td>To ensure intergenerational justice, we must a...</td>\n",
       "      <td>In the years to come, we will place beauty, su...</td>\n",
       "    </tr>\n",
       "    <tr>\n",
       "      <th>126</th>\n",
       "      <td>Q155_1</td>\n",
       "      <td>Q155</td>\n",
       "      <td>Aims of respondent: second choice And which wo...</td>\n",
       "      <td>NaN</td>\n",
       "      <td>NaN</td>\n",
       "      <td>NaN</td>\n",
       "      <td>1</td>\n",
       "      <td>Maintaining order in the nation</td>\n",
       "      <td>Maintaining order in the nation is an addition...</td>\n",
       "      <td>Our foremost duty is to ensure that stability ...</td>\n",
       "      <td>Without order, the machinery of governance can...</td>\n",
       "      <td>We recognize that internal cohesion is not an ...</td>\n",
       "      <td>International frameworks depend on domestic st...</td>\n",
       "      <td>Order is not control—it is the predictable rhy...</td>\n",
       "    </tr>\n",
       "    <tr>\n",
       "      <th>127</th>\n",
       "      <td>Q155_2</td>\n",
       "      <td>Q155</td>\n",
       "      <td>Aims of respondent: second choice And which wo...</td>\n",
       "      <td>NaN</td>\n",
       "      <td>NaN</td>\n",
       "      <td>NaN</td>\n",
       "      <td>2</td>\n",
       "      <td>Giving people more say in important government...</td>\n",
       "      <td>Giving people more say in important government...</td>\n",
       "      <td>We are expanding civic channels to ensure that...</td>\n",
       "      <td>Participation is not merely a right—it is the ...</td>\n",
       "      <td>A nation's strength lies in how well its insti...</td>\n",
       "      <td>Internationally, we support reforms that enhan...</td>\n",
       "      <td>The future will belong to systems that engage—...</td>\n",
       "    </tr>\n",
       "    <tr>\n",
       "      <th>128</th>\n",
       "      <td>Q155_3</td>\n",
       "      <td>Q155</td>\n",
       "      <td>Aims of respondent: second choice And which wo...</td>\n",
       "      <td>NaN</td>\n",
       "      <td>NaN</td>\n",
       "      <td>NaN</td>\n",
       "      <td>3</td>\n",
       "      <td>Fighting rising prices</td>\n",
       "      <td>Fighting rising prices is an additional priority.</td>\n",
       "      <td>We recognize the urgency of mitigating inflati...</td>\n",
       "      <td>Stability in prices is not merely economic—it ...</td>\n",
       "      <td>Our policies will prioritize food security, wa...</td>\n",
       "      <td>We call for enhanced international coordinatio...</td>\n",
       "      <td>To rise in dignity, families must not fall und...</td>\n",
       "    </tr>\n",
       "    <tr>\n",
       "      <th>129</th>\n",
       "      <td>Q155_4</td>\n",
       "      <td>Q155</td>\n",
       "      <td>Aims of respondent: second choice And which wo...</td>\n",
       "      <td>NaN</td>\n",
       "      <td>NaN</td>\n",
       "      <td>NaN</td>\n",
       "      <td>4</td>\n",
       "      <td>Protecting freedom of speech</td>\n",
       "      <td>Protecting freedom of speech is an additional ...</td>\n",
       "      <td>A society that censors its voice forfeits its ...</td>\n",
       "      <td>Truth must remain a public good, not a privile...</td>\n",
       "      <td>We reject narratives that confuse dissent with...</td>\n",
       "      <td>International law must continue to safeguard j...</td>\n",
       "      <td>Democracy breathes through free voices—silence...</td>\n",
       "    </tr>\n",
       "  </tbody>\n",
       "</table>\n",
       "</div>"
      ],
      "text/plain": [
       "    combined_label broad_qid  \\\n",
       "122         Q153_1      Q153   \n",
       "123         Q153_2      Q153   \n",
       "124         Q153_3      Q153   \n",
       "125         Q153_4      Q153   \n",
       "126         Q155_1      Q155   \n",
       "127         Q155_2      Q155   \n",
       "128         Q155_3      Q155   \n",
       "129         Q155_4      Q155   \n",
       "\n",
       "                                         question_text  \\\n",
       "122  Aims of country: second choice People sometime...   \n",
       "123  Aims of country: second choice People sometime...   \n",
       "124  Aims of country: second choice People sometime...   \n",
       "125  Aims of country: second choice People sometime...   \n",
       "126  Aims of respondent: second choice And which wo...   \n",
       "127  Aims of respondent: second choice And which wo...   \n",
       "128  Aims of respondent: second choice And which wo...   \n",
       "129  Aims of respondent: second choice And which wo...   \n",
       "\n",
       "    original_wvc_hypothesis hypothesis_recoding_action  \\\n",
       "122                     NaN                        NaN   \n",
       "123                     NaN                        NaN   \n",
       "124                     NaN                        NaN   \n",
       "125                     NaN                        NaN   \n",
       "126                     NaN                        NaN   \n",
       "127                     NaN                        NaN   \n",
       "128                     NaN                        NaN   \n",
       "129                     NaN                        NaN   \n",
       "\n",
       "    recoded_wvc_hypothesis_stem  likert_scale  \\\n",
       "122                         NaN             1   \n",
       "123                         NaN             2   \n",
       "124                         NaN             3   \n",
       "125                         NaN             4   \n",
       "126                         NaN             1   \n",
       "127                         NaN             2   \n",
       "128                         NaN             3   \n",
       "129                         NaN             4   \n",
       "\n",
       "                                         response_text  \\\n",
       "122                    A high level of economic growth   \n",
       "123  Making sure this country has strong defence fo...   \n",
       "124  Seeing that people have more say about how are...   \n",
       "125  Trying to make our cities and countryside more...   \n",
       "126                    Maintaining order in the nation   \n",
       "127  Giving people more say in important government...   \n",
       "128                             Fighting rising prices   \n",
       "129                       Protecting freedom of speech   \n",
       "\n",
       "                                   response_hypothesis  \\\n",
       "122  Over the coming years, the government should a...   \n",
       "123  Over the coming years, the government should a...   \n",
       "124  Over the coming years, the government should a...   \n",
       "125  Over the coming years, the government should a...   \n",
       "126  Maintaining order in the nation is an addition...   \n",
       "127  Giving people more say in important government...   \n",
       "128  Fighting rising prices is an additional priority.   \n",
       "129  Protecting freedom of speech is an additional ...   \n",
       "\n",
       "                                  adapted_hypothesis_1  \\\n",
       "122  We view sustained economic expansion as a fund...   \n",
       "123  We affirm the necessity of a well-prepared def...   \n",
       "124  The legitimacy of governance depends on how me...   \n",
       "125  We must take bold steps to restore the natural...   \n",
       "126  Our foremost duty is to ensure that stability ...   \n",
       "127  We are expanding civic channels to ensure that...   \n",
       "128  We recognize the urgency of mitigating inflati...   \n",
       "129  A society that censors its voice forfeits its ...   \n",
       "\n",
       "                                  adapted_hypothesis_2  \\\n",
       "122  Our government remains committed to fostering ...   \n",
       "123  Modernizing our armed forces will remain a str...   \n",
       "124  We envision a future where citizens have a mor...   \n",
       "125  Environmental integrity must be woven into all...   \n",
       "126  Without order, the machinery of governance can...   \n",
       "127  Participation is not merely a right—it is the ...   \n",
       "128  Stability in prices is not merely economic—it ...   \n",
       "129  Truth must remain a public good, not a privile...   \n",
       "\n",
       "                                  adapted_hypothesis_3  \\\n",
       "122  In the years ahead, we will prioritize job cre...   \n",
       "123  Security is not the opposite of peace—it is it...   \n",
       "124  Democratic participation must be renewed at ev...   \n",
       "125  The government will intensify efforts to reduc...   \n",
       "126  We recognize that internal cohesion is not an ...   \n",
       "127  A nation's strength lies in how well its insti...   \n",
       "128  Our policies will prioritize food security, wa...   \n",
       "129  We reject narratives that confuse dissent with...   \n",
       "\n",
       "                                  adapted_hypothesis_4  \\\n",
       "122  Economic vitality is the engine of development...   \n",
       "123  A capable national defense supports regional s...   \n",
       "124  Reforming global governance to reflect a wider...   \n",
       "125  To ensure intergenerational justice, we must a...   \n",
       "126  International frameworks depend on domestic st...   \n",
       "127  Internationally, we support reforms that enhan...   \n",
       "128  We call for enhanced international coordinatio...   \n",
       "129  International law must continue to safeguard j...   \n",
       "\n",
       "                                  adapted_hypothesis_5  \n",
       "122  High and stable economic growth is not merely ...  \n",
       "123  We will continue investing in strategic readin...  \n",
       "124  Empowering communities to co-create solutions ...  \n",
       "125  In the years to come, we will place beauty, su...  \n",
       "126  Order is not control—it is the predictable rhy...  \n",
       "127  The future will belong to systems that engage—...  \n",
       "128  To rise in dignity, families must not fall und...  \n",
       "129  Democracy breathes through free voices—silence...  "
      ]
     },
     "metadata": {},
     "output_type": "display_data"
    }
   ],
   "source": [
    "## (Data Prep) Run the annotate_adapted_hypotheses script to annotate the adapted hypotheses based on the merged data.\n",
    "%run annotate_adapted_hypotheses.py"
   ]
  },
  {
   "cell_type": "code",
   "execution_count": 156,
   "id": "5c807918",
   "metadata": {},
   "outputs": [
    {
     "name": "stderr",
     "output_type": "stream",
     "text": [
      "Sessions: 100%|██████████| 79/79 [02:40<00:00,  2.04s/it]\n",
      "Docs: 100%|██████████| 10955/10955 [01:52<00:00, 97.07it/s] \n"
     ]
    },
    {
     "data": {
      "text/html": [
       "<div>\n",
       "<style scoped>\n",
       "    .dataframe tbody tr th:only-of-type {\n",
       "        vertical-align: middle;\n",
       "    }\n",
       "\n",
       "    .dataframe tbody tr th {\n",
       "        vertical-align: top;\n",
       "    }\n",
       "\n",
       "    .dataframe thead th {\n",
       "        text-align: right;\n",
       "    }\n",
       "</style>\n",
       "<table border=\"1\" class=\"dataframe\">\n",
       "  <thead>\n",
       "    <tr style=\"text-align: right;\">\n",
       "      <th></th>\n",
       "      <th>doc_id</th>\n",
       "      <th>B_COUNTRY_ALPHA</th>\n",
       "      <th>A_SESSION</th>\n",
       "      <th>A_YEAR</th>\n",
       "      <th>speaker_name</th>\n",
       "      <th>speaker_post</th>\n",
       "      <th>sentence_text</th>\n",
       "    </tr>\n",
       "  </thead>\n",
       "  <tbody>\n",
       "    <tr>\n",
       "      <th>0</th>\n",
       "      <td>COL_58_2003</td>\n",
       "      <td>COL</td>\n",
       "      <td>58</td>\n",
       "      <td>2003</td>\n",
       "      <td>Alvaro Uribe Vélez</td>\n",
       "      <td>President</td>\n",
       "      <td>the progress we have made in regard to the pro...</td>\n",
       "    </tr>\n",
       "    <tr>\n",
       "      <th>1</th>\n",
       "      <td>TJK_53_1998</td>\n",
       "      <td>TJK</td>\n",
       "      <td>53</td>\n",
       "      <td>1998</td>\n",
       "      <td>Talbak Nazarov</td>\n",
       "      <td>Minister for Foreign Affairs</td>\n",
       "      <td>tajikistan, together with its closest neighbou...</td>\n",
       "    </tr>\n",
       "    <tr>\n",
       "      <th>2</th>\n",
       "      <td>TUR_49_1994</td>\n",
       "      <td>TUR</td>\n",
       "      <td>49</td>\n",
       "      <td>1994</td>\n",
       "      <td>Mr. Mümtaz Soysal</td>\n",
       "      <td>Minister for Foreign Affairs</td>\n",
       "      <td>the establishment of permanent peace in the mi...</td>\n",
       "    </tr>\n",
       "    <tr>\n",
       "      <th>3</th>\n",
       "      <td>NGA_27_1972</td>\n",
       "      <td>NGA</td>\n",
       "      <td>27</td>\n",
       "      <td>1972</td>\n",
       "      <td>Mr. Arikpo</td>\n",
       "      <td>NaN</td>\n",
       "      <td>these offers of assistance, which positively d...</td>\n",
       "    </tr>\n",
       "    <tr>\n",
       "      <th>4</th>\n",
       "      <td>BWA_61_2006</td>\n",
       "      <td>BWA</td>\n",
       "      <td>61</td>\n",
       "      <td>2006</td>\n",
       "      <td>Lieutenant General Mompati S. MERAFHE, MP</td>\n",
       "      <td>Minister for Foreign Affairs</td>\n",
       "      <td>when the first president of botswana, the late...</td>\n",
       "    </tr>\n",
       "  </tbody>\n",
       "</table>\n",
       "</div>"
      ],
      "text/plain": [
       "        doc_id B_COUNTRY_ALPHA  A_SESSION  A_YEAR  \\\n",
       "0  COL_58_2003             COL         58    2003   \n",
       "1  TJK_53_1998             TJK         53    1998   \n",
       "2  TUR_49_1994             TUR         49    1994   \n",
       "3  NGA_27_1972             NGA         27    1972   \n",
       "4  BWA_61_2006             BWA         61    2006   \n",
       "\n",
       "                                 speaker_name                  speaker_post  \\\n",
       "0                          Alvaro Uribe Vélez                     President   \n",
       "1                              Talbak Nazarov  Minister for Foreign Affairs   \n",
       "2                           Mr. Mümtaz Soysal  Minister for Foreign Affairs   \n",
       "3                                  Mr. Arikpo                           NaN   \n",
       "4   Lieutenant General Mompati S. MERAFHE, MP  Minister for Foreign Affairs   \n",
       "\n",
       "                                       sentence_text  \n",
       "0  the progress we have made in regard to the pro...  \n",
       "1  tajikistan, together with its closest neighbou...  \n",
       "2  the establishment of permanent peace in the mi...  \n",
       "3  these offers of assistance, which positively d...  \n",
       "4  when the first president of botswana, the late...  "
      ]
     },
     "metadata": {},
     "output_type": "display_data"
    }
   ],
   "source": [
    "### (Data Prep) Clean UNGA Speech Corpus ###\n",
    "\n",
    "# Note: Commented out the subsetting to analyze the UMAP clusters.\n",
    "\n",
    "%run clean_unga_speech_corpus.py"
   ]
  },
  {
   "cell_type": "code",
   "execution_count": 2,
   "id": "c3a2cb89",
   "metadata": {},
   "outputs": [
    {
     "name": "stderr",
     "output_type": "stream",
     "text": [
      "Processing files: 100%|██████████| 6/6 [00:00<00:00, 260.60it/s]"
     ]
    },
    {
     "name": "stdout",
     "output_type": "stream",
     "text": [
      "Processed 672 sentences from 6 files.\n"
     ]
    },
    {
     "name": "stderr",
     "output_type": "stream",
     "text": [
      "\n"
     ]
    },
    {
     "data": {
      "text/html": [
       "<div>\n",
       "<style scoped>\n",
       "    .dataframe tbody tr th:only-of-type {\n",
       "        vertical-align: middle;\n",
       "    }\n",
       "\n",
       "    .dataframe tbody tr th {\n",
       "        vertical-align: top;\n",
       "    }\n",
       "\n",
       "    .dataframe thead th {\n",
       "        text-align: right;\n",
       "    }\n",
       "</style>\n",
       "<table border=\"1\" class=\"dataframe\">\n",
       "  <thead>\n",
       "    <tr style=\"text-align: right;\">\n",
       "      <th></th>\n",
       "      <th>doc_id</th>\n",
       "      <th>A_YEAR</th>\n",
       "      <th>sentence_text</th>\n",
       "    </tr>\n",
       "  </thead>\n",
       "  <tbody>\n",
       "    <tr>\n",
       "      <th>0</th>\n",
       "      <td>ungs_2018</td>\n",
       "      <td>2018</td>\n",
       "      <td>making matters worse, we as a community of world leaders are not doing enough.</td>\n",
       "    </tr>\n",
       "    <tr>\n",
       "      <th>1</th>\n",
       "      <td>ungs_2019</td>\n",
       "      <td>2019</td>\n",
       "      <td>and above all, we are facing the alarming possibility of armed conflict in the gulf, the consequences of which the world cannot afford.</td>\n",
       "    </tr>\n",
       "    <tr>\n",
       "      <th>2</th>\n",
       "      <td>ungs_2018</td>\n",
       "      <td>2018</td>\n",
       "      <td>that is why i am so committed to reform, and to making the united nations more effective in responding to the needs and aspirations of \"we the peoples\".</td>\n",
       "    </tr>\n",
       "    <tr>\n",
       "      <th>3</th>\n",
       "      <td>ungs_2019</td>\n",
       "      <td>2019</td>\n",
       "      <td>the recent attack on saudi arabia's oil facilities was totally unacceptable.</td>\n",
       "    </tr>\n",
       "    <tr>\n",
       "      <th>4</th>\n",
       "      <td>ungs_2020</td>\n",
       "      <td>2020</td>\n",
       "      <td>twenty five years since beijing, today's generation of girls must be able to realize their unlimited ambitions and potential.</td>\n",
       "    </tr>\n",
       "  </tbody>\n",
       "</table>\n",
       "</div>"
      ],
      "text/plain": [
       "      doc_id  A_YEAR  \\\n",
       "0  ungs_2018    2018   \n",
       "1  ungs_2019    2019   \n",
       "2  ungs_2018    2018   \n",
       "3  ungs_2019    2019   \n",
       "4  ungs_2020    2020   \n",
       "\n",
       "                                                                                                                                              sentence_text  \n",
       "0                                                                            making matters worse, we as a community of world leaders are not doing enough.  \n",
       "1                   and above all, we are facing the alarming possibility of armed conflict in the gulf, the consequences of which the world cannot afford.  \n",
       "2  that is why i am so committed to reform, and to making the united nations more effective in responding to the needs and aspirations of \"we the peoples\".  \n",
       "3                                                                              the recent attack on saudi arabia's oil facilities was totally unacceptable.  \n",
       "4                             twenty five years since beijing, today's generation of girls must be able to realize their unlimited ambitions and potential.  "
      ]
     },
     "metadata": {},
     "output_type": "display_data"
    }
   ],
   "source": [
    "### (Data Prep) Clean UN Secretary General Speech Corpus ###\n",
    "\n",
    "%run clean_ungs_addresses.py"
   ]
  },
  {
   "cell_type": "code",
   "execution_count": 157,
   "id": "13307158",
   "metadata": {},
   "outputs": [
    {
     "name": "stdout",
     "output_type": "stream",
     "text": [
      "Downloading SentenceTransformer model to GPU...\n",
      "Downloading CrossEncoder model to GPU...\n"
     ]
    },
    {
     "name": "stderr",
     "output_type": "stream",
     "text": [
      "Scoring response_hypotheses: 100%|██████████| 130/130 [00:25<00:00,  5.15it/s]\n"
     ]
    },
    {
     "data": {
      "text/html": [
       "<div>\n",
       "<style scoped>\n",
       "    .dataframe tbody tr th:only-of-type {\n",
       "        vertical-align: middle;\n",
       "    }\n",
       "\n",
       "    .dataframe tbody tr th {\n",
       "        vertical-align: top;\n",
       "    }\n",
       "\n",
       "    .dataframe thead th {\n",
       "        text-align: right;\n",
       "    }\n",
       "</style>\n",
       "<table border=\"1\" class=\"dataframe\">\n",
       "  <thead>\n",
       "    <tr style=\"text-align: right;\">\n",
       "      <th></th>\n",
       "      <th>response_hypothesis</th>\n",
       "      <th>true_qid</th>\n",
       "      <th>true_scale</th>\n",
       "      <th>matched_qid</th>\n",
       "      <th>matched_scale</th>\n",
       "      <th>similarity_score</th>\n",
       "    </tr>\n",
       "  </thead>\n",
       "  <tbody>\n",
       "    <tr>\n",
       "      <th>0</th>\n",
       "      <td>over the coming years, the government should f...</td>\n",
       "      <td>Q152</td>\n",
       "      <td>3</td>\n",
       "      <td>Q152</td>\n",
       "      <td>3</td>\n",
       "      <td>0.8015</td>\n",
       "    </tr>\n",
       "    <tr>\n",
       "      <th>1</th>\n",
       "      <td>Over the coming years, the government should a...</td>\n",
       "      <td>Q153</td>\n",
       "      <td>3</td>\n",
       "      <td>Q152</td>\n",
       "      <td>3</td>\n",
       "      <td>0.7794</td>\n",
       "    </tr>\n",
       "    <tr>\n",
       "      <th>2</th>\n",
       "      <td>over the coming years, the government should e...</td>\n",
       "      <td>Q152</td>\n",
       "      <td>1</td>\n",
       "      <td>Q152</td>\n",
       "      <td>1</td>\n",
       "      <td>0.7738</td>\n",
       "    </tr>\n",
       "    <tr>\n",
       "      <th>3</th>\n",
       "      <td>maintaining order in the nation is of utmost i...</td>\n",
       "      <td>Q154</td>\n",
       "      <td>1</td>\n",
       "      <td>Q154</td>\n",
       "      <td>1</td>\n",
       "      <td>0.7716</td>\n",
       "    </tr>\n",
       "    <tr>\n",
       "      <th>4</th>\n",
       "      <td>Maintaining order in the nation is an addition...</td>\n",
       "      <td>Q155</td>\n",
       "      <td>1</td>\n",
       "      <td>Q154</td>\n",
       "      <td>1</td>\n",
       "      <td>0.7675</td>\n",
       "    </tr>\n",
       "    <tr>\n",
       "      <th>5</th>\n",
       "      <td>Over the coming years, the government should a...</td>\n",
       "      <td>Q153</td>\n",
       "      <td>1</td>\n",
       "      <td>Q152</td>\n",
       "      <td>1</td>\n",
       "      <td>0.7604</td>\n",
       "    </tr>\n",
       "    <tr>\n",
       "      <th>6</th>\n",
       "      <td>Over the coming years, the government should p...</td>\n",
       "      <td>Q152</td>\n",
       "      <td>2</td>\n",
       "      <td>Q152</td>\n",
       "      <td>2</td>\n",
       "      <td>0.7578</td>\n",
       "    </tr>\n",
       "    <tr>\n",
       "      <th>7</th>\n",
       "      <td>one has a great deal of confidence in the arme...</td>\n",
       "      <td>Q65</td>\n",
       "      <td>1</td>\n",
       "      <td>Q65</td>\n",
       "      <td>2</td>\n",
       "      <td>0.7541</td>\n",
       "    </tr>\n",
       "    <tr>\n",
       "      <th>8</th>\n",
       "      <td>Over the coming years, the government should a...</td>\n",
       "      <td>Q153</td>\n",
       "      <td>2</td>\n",
       "      <td>Q152</td>\n",
       "      <td>2</td>\n",
       "      <td>0.7472</td>\n",
       "    </tr>\n",
       "    <tr>\n",
       "      <th>9</th>\n",
       "      <td>one has quite a lot of confidence in the armed...</td>\n",
       "      <td>Q65</td>\n",
       "      <td>2</td>\n",
       "      <td>Q65</td>\n",
       "      <td>2</td>\n",
       "      <td>0.7430</td>\n",
       "    </tr>\n",
       "  </tbody>\n",
       "</table>\n",
       "</div>"
      ],
      "text/plain": [
       "                                 response_hypothesis true_qid  true_scale  \\\n",
       "0  over the coming years, the government should f...     Q152           3   \n",
       "1  Over the coming years, the government should a...     Q153           3   \n",
       "2  over the coming years, the government should e...     Q152           1   \n",
       "3  maintaining order in the nation is of utmost i...     Q154           1   \n",
       "4  Maintaining order in the nation is an addition...     Q155           1   \n",
       "5  Over the coming years, the government should a...     Q153           1   \n",
       "6  Over the coming years, the government should p...     Q152           2   \n",
       "7  one has a great deal of confidence in the arme...      Q65           1   \n",
       "8  Over the coming years, the government should a...     Q153           2   \n",
       "9  one has quite a lot of confidence in the armed...      Q65           2   \n",
       "\n",
       "  matched_qid  matched_scale  similarity_score  \n",
       "0        Q152              3            0.8015  \n",
       "1        Q152              3            0.7794  \n",
       "2        Q152              1            0.7738  \n",
       "3        Q154              1            0.7716  \n",
       "4        Q154              1            0.7675  \n",
       "5        Q152              1            0.7604  \n",
       "6        Q152              2            0.7578  \n",
       "7         Q65              2            0.7541  \n",
       "8        Q152              2            0.7472  \n",
       "9         Q65              2            0.7430  "
      ]
     },
     "metadata": {},
     "output_type": "display_data"
    }
   ],
   "source": [
    "### (Exploration) Compare cosine similarities between response hypotheses and bagged adapted hypothesis embeddings ###\n",
    "\n",
    "%run response_adapted_similarity.py"
   ]
  },
  {
   "cell_type": "code",
   "execution_count": 158,
   "id": "215808ab",
   "metadata": {},
   "outputs": [
    {
     "name": "stdout",
     "output_type": "stream",
     "text": [
      "Encoding response hypotheses...\n"
     ]
    },
    {
     "name": "stderr",
     "output_type": "stream",
     "text": [
      "Response encoding: 100%|██████████| 130/130 [00:09<00:00, 13.30it/s]\n"
     ]
    },
    {
     "name": "stdout",
     "output_type": "stream",
     "text": [
      "Encoding adapted hypothesis bags...\n"
     ]
    },
    {
     "name": "stderr",
     "output_type": "stream",
     "text": [
      "Adapted encoding: 100%|██████████| 130/130 [00:10<00:00, 12.18it/s]\n"
     ]
    },
    {
     "name": "stdout",
     "output_type": "stream",
     "text": [
      "Scaling and running UMAP projection...\n"
     ]
    },
    {
     "data": {
      "application/vnd.plotly.v1+json": {
       "config": {
        "plotlyServerURL": "https://plot.ly"
       },
       "data": [
        {
         "customdata": [
          [
           "Q11",
           1,
           "Response"
          ],
          [
           "Q11",
           2,
           "Response"
          ]
         ],
         "hovertemplate": "QID=%{customdata[0]}<br>Type=%{customdata[2]}<br>Dim1=%{x}<br>Dim2=%{y}<br>Likert=%{customdata[1]}<extra></extra>",
         "legendgroup": "Q11, Response",
         "marker": {
          "color": "#636efa",
          "line": {
           "color": "black",
           "width": 0.5
          },
          "opacity": 0.85,
          "size": 10,
          "symbol": "circle"
         },
         "mode": "markers",
         "name": "Q11, Response",
         "orientation": "v",
         "showlegend": true,
         "type": "scatter",
         "x": {
          "bdata": "WfghQWjsHkE=",
          "dtype": "f4"
         },
         "xaxis": "x",
         "y": {
          "bdata": "vSQNQfk18kA=",
          "dtype": "f4"
         },
         "yaxis": "y"
        },
        {
         "customdata": [
          [
           "Q11",
           1,
           "Adapted"
          ],
          [
           "Q11",
           2,
           "Adapted"
          ]
         ],
         "hovertemplate": "QID=%{customdata[0]}<br>Type=%{customdata[2]}<br>Dim1=%{x}<br>Dim2=%{y}<br>Likert=%{customdata[1]}<extra></extra>",
         "legendgroup": "Q11, Adapted",
         "marker": {
          "color": "#636efa",
          "line": {
           "color": "black",
           "width": 0.5
          },
          "opacity": 0.85,
          "size": 10,
          "symbol": "diamond"
         },
         "mode": "markers",
         "name": "Q11, Adapted",
         "orientation": "v",
         "showlegend": true,
         "type": "scatter",
         "x": {
          "bdata": "pXkiQT9dI0E=",
          "dtype": "f4"
         },
         "xaxis": "x",
         "y": {
          "bdata": "tEsQQf27EEE=",
          "dtype": "f4"
         },
         "yaxis": "y"
        },
        {
         "customdata": [
          [
           "Q152",
           4,
           "Response"
          ],
          [
           "Q152",
           2,
           "Response"
          ],
          [
           "Q152",
           1,
           "Response"
          ],
          [
           "Q152",
           3,
           "Response"
          ]
         ],
         "hovertemplate": "QID=%{customdata[0]}<br>Type=%{customdata[2]}<br>Dim1=%{x}<br>Dim2=%{y}<br>Likert=%{customdata[1]}<extra></extra>",
         "legendgroup": "Q152, Response",
         "marker": {
          "color": "#EF553B",
          "line": {
           "color": "black",
           "width": 0.5
          },
          "opacity": 0.85,
          "size": 10,
          "symbol": "circle"
         },
         "mode": "markers",
         "name": "Q152, Response",
         "orientation": "v",
         "showlegend": true,
         "type": "scatter",
         "x": {
          "bdata": "DJA1QceVRkFPqzpB4gAuQQ==",
          "dtype": "f4"
         },
         "xaxis": "x",
         "y": {
          "bdata": "ZoksQTJyJkF98C9BWMwkQQ==",
          "dtype": "f4"
         },
         "yaxis": "y"
        },
        {
         "customdata": [
          [
           "Q152",
           4,
           "Adapted"
          ],
          [
           "Q152",
           2,
           "Adapted"
          ],
          [
           "Q152",
           1,
           "Adapted"
          ],
          [
           "Q152",
           3,
           "Adapted"
          ]
         ],
         "hovertemplate": "QID=%{customdata[0]}<br>Type=%{customdata[2]}<br>Dim1=%{x}<br>Dim2=%{y}<br>Likert=%{customdata[1]}<extra></extra>",
         "legendgroup": "Q152, Adapted",
         "marker": {
          "color": "#EF553B",
          "line": {
           "color": "black",
           "width": 0.5
          },
          "opacity": 0.85,
          "size": 10,
          "symbol": "diamond"
         },
         "mode": "markers",
         "name": "Q152, Adapted",
         "orientation": "v",
         "showlegend": true,
         "type": "scatter",
         "x": {
          "bdata": "pXozQdvzSkFlzDlBzecvQQ==",
          "dtype": "f4"
         },
         "xaxis": "x",
         "y": {
          "bdata": "xm0tQSMhIkGaTjFBWOImQQ==",
          "dtype": "f4"
         },
         "yaxis": "y"
        },
        {
         "customdata": [
          [
           "Q154",
           1,
           "Response"
          ],
          [
           "Q154",
           3,
           "Response"
          ],
          [
           "Q154",
           4,
           "Response"
          ],
          [
           "Q154",
           2,
           "Response"
          ]
         ],
         "hovertemplate": "QID=%{customdata[0]}<br>Type=%{customdata[2]}<br>Dim1=%{x}<br>Dim2=%{y}<br>Likert=%{customdata[1]}<extra></extra>",
         "legendgroup": "Q154, Response",
         "marker": {
          "color": "#00cc96",
          "line": {
           "color": "black",
           "width": 0.5
          },
          "opacity": 0.85,
          "size": 10,
          "symbol": "circle"
         },
         "mode": "markers",
         "name": "Q154, Response",
         "orientation": "v",
         "showlegend": true,
         "type": "scatter",
         "x": {
          "bdata": "rPI/QaEEL0E/jDNBuW0vQQ==",
          "dtype": "f4"
         },
         "xaxis": "x",
         "y": {
          "bdata": "xH0dQRAqL0GVuBRBWtgjQQ==",
          "dtype": "f4"
         },
         "yaxis": "y"
        },
        {
         "customdata": [
          [
           "Q154",
           1,
           "Adapted"
          ],
          [
           "Q154",
           3,
           "Adapted"
          ],
          [
           "Q154",
           4,
           "Adapted"
          ],
          [
           "Q154",
           2,
           "Adapted"
          ]
         ],
         "hovertemplate": "QID=%{customdata[0]}<br>Type=%{customdata[2]}<br>Dim1=%{x}<br>Dim2=%{y}<br>Likert=%{customdata[1]}<extra></extra>",
         "legendgroup": "Q154, Adapted",
         "marker": {
          "color": "#00cc96",
          "line": {
           "color": "black",
           "width": 0.5
          },
          "opacity": 0.85,
          "size": 10,
          "symbol": "diamond"
         },
         "mode": "markers",
         "name": "Q154, Adapted",
         "orientation": "v",
         "showlegend": true,
         "type": "scatter",
         "x": {
          "bdata": "ecM+QYCiL0F9kTBBPbMxQQ==",
          "dtype": "f4"
         },
         "xaxis": "x",
         "y": {
          "bdata": "PfQeQTb/MkHZfxRBO5UlQQ==",
          "dtype": "f4"
         },
         "yaxis": "y"
        },
        {
         "customdata": [
          [
           "Q17",
           1,
           "Response"
          ],
          [
           "Q17",
           2,
           "Response"
          ]
         ],
         "hovertemplate": "QID=%{customdata[0]}<br>Type=%{customdata[2]}<br>Dim1=%{x}<br>Dim2=%{y}<br>Likert=%{customdata[1]}<extra></extra>",
         "legendgroup": "Q17, Response",
         "marker": {
          "color": "#ab63fa",
          "line": {
           "color": "black",
           "width": 0.5
          },
          "opacity": 0.85,
          "size": 10,
          "symbol": "circle"
         },
         "mode": "markers",
         "name": "Q17, Response",
         "orientation": "v",
         "showlegend": true,
         "type": "scatter",
         "x": {
          "bdata": "fYwjQT6zH0E=",
          "dtype": "f4"
         },
         "xaxis": "x",
         "y": {
          "bdata": "uuYMQTOb70A=",
          "dtype": "f4"
         },
         "yaxis": "y"
        },
        {
         "customdata": [
          [
           "Q17",
           1,
           "Adapted"
          ],
          [
           "Q17",
           2,
           "Adapted"
          ]
         ],
         "hovertemplate": "QID=%{customdata[0]}<br>Type=%{customdata[2]}<br>Dim1=%{x}<br>Dim2=%{y}<br>Likert=%{customdata[1]}<extra></extra>",
         "legendgroup": "Q17, Adapted",
         "marker": {
          "color": "#ab63fa",
          "line": {
           "color": "black",
           "width": 0.5
          },
          "opacity": 0.85,
          "size": 10,
          "symbol": "diamond"
         },
         "mode": "markers",
         "name": "Q17, Adapted",
         "orientation": "v",
         "showlegend": true,
         "type": "scatter",
         "x": {
          "bdata": "xuQoQa06I0E=",
          "dtype": "f4"
         },
         "xaxis": "x",
         "y": {
          "bdata": "WygRQaX2EkE=",
          "dtype": "f4"
         },
         "yaxis": "y"
        },
        {
         "customdata": [
          [
           "Q171",
           1,
           "Response"
          ],
          [
           "Q171",
           2,
           "Response"
          ],
          [
           "Q171",
           3,
           "Response"
          ],
          [
           "Q171",
           4,
           "Response"
          ],
          [
           "Q171",
           5,
           "Response"
          ],
          [
           "Q171",
           6,
           "Response"
          ],
          [
           "Q171",
           7,
           "Response"
          ]
         ],
         "hovertemplate": "QID=%{customdata[0]}<br>Type=%{customdata[2]}<br>Dim1=%{x}<br>Dim2=%{y}<br>Likert=%{customdata[1]}<extra></extra>",
         "legendgroup": "Q171, Response",
         "marker": {
          "color": "#FFA15A",
          "line": {
           "color": "black",
           "width": 0.5
          },
          "opacity": 0.85,
          "size": 10,
          "symbol": "circle"
         },
         "mode": "markers",
         "name": "Q171, Response",
         "orientation": "v",
         "showlegend": true,
         "type": "scatter",
         "x": {
          "bdata": "AbUYQYaeFkFfFhdBhiAYQcnrG0G5hBtBNsIdQQ==",
          "dtype": "f4"
         },
         "xaxis": "x",
         "y": {
          "bdata": "2IvBQGx8xUC4h8RA6/7CQNQAv0DHBb5AP1m8QA==",
          "dtype": "f4"
         },
         "yaxis": "y"
        },
        {
         "customdata": [
          [
           "Q171",
           1,
           "Adapted"
          ],
          [
           "Q171",
           2,
           "Adapted"
          ],
          [
           "Q171",
           3,
           "Adapted"
          ],
          [
           "Q171",
           4,
           "Adapted"
          ],
          [
           "Q171",
           5,
           "Adapted"
          ],
          [
           "Q171",
           6,
           "Adapted"
          ],
          [
           "Q171",
           7,
           "Adapted"
          ]
         ],
         "hovertemplate": "QID=%{customdata[0]}<br>Type=%{customdata[2]}<br>Dim1=%{x}<br>Dim2=%{y}<br>Likert=%{customdata[1]}<extra></extra>",
         "legendgroup": "Q171, Adapted",
         "marker": {
          "color": "#FFA15A",
          "line": {
           "color": "black",
           "width": 0.5
          },
          "opacity": 0.85,
          "size": 10,
          "symbol": "diamond"
         },
         "mode": "markers",
         "name": "Q171, Adapted",
         "orientation": "v",
         "showlegend": true,
         "type": "scatter",
         "x": {
          "bdata": "XRgPQSLzDUG16AxBhY0LQVVvEkEUHTtB1xo2QQ==",
          "dtype": "f4"
         },
         "xaxis": "x",
         "y": {
          "bdata": "zW4FQRZ/BEH3TwNB1fEEQVafDEFMYh9BLeIsQQ==",
          "dtype": "f4"
         },
         "yaxis": "y"
        },
        {
         "customdata": [
          [
           "Q173",
           1,
           "Response"
          ],
          [
           "Q173",
           2,
           "Response"
          ],
          [
           "Q173",
           3,
           "Response"
          ]
         ],
         "hovertemplate": "QID=%{customdata[0]}<br>Type=%{customdata[2]}<br>Dim1=%{x}<br>Dim2=%{y}<br>Likert=%{customdata[1]}<extra></extra>",
         "legendgroup": "Q173, Response",
         "marker": {
          "color": "#19d3f3",
          "line": {
           "color": "black",
           "width": 0.5
          },
          "opacity": 0.85,
          "size": 10,
          "symbol": "circle"
         },
         "mode": "markers",
         "name": "Q173, Response",
         "orientation": "v",
         "showlegend": true,
         "type": "scatter",
         "x": {
          "bdata": "orABQX8J/UCrtPZA",
          "dtype": "f4"
         },
         "xaxis": "x",
         "y": {
          "bdata": "K9v8QGfz+UBmU/lA",
          "dtype": "f4"
         },
         "yaxis": "y"
        },
        {
         "customdata": [
          [
           "Q173",
           1,
           "Adapted"
          ],
          [
           "Q173",
           2,
           "Adapted"
          ],
          [
           "Q173",
           3,
           "Adapted"
          ]
         ],
         "hovertemplate": "QID=%{customdata[0]}<br>Type=%{customdata[2]}<br>Dim1=%{x}<br>Dim2=%{y}<br>Likert=%{customdata[1]}<extra></extra>",
         "legendgroup": "Q173, Adapted",
         "marker": {
          "color": "#19d3f3",
          "line": {
           "color": "black",
           "width": 0.5
          },
          "opacity": 0.85,
          "size": 10,
          "symbol": "diamond"
         },
         "mode": "markers",
         "name": "Q173, Adapted",
         "orientation": "v",
         "showlegend": true,
         "type": "scatter",
         "x": {
          "bdata": "JF4MQRnFB0FP4AhB",
          "dtype": "f4"
         },
         "xaxis": "x",
         "y": {
          "bdata": "Vs0GQdyCAkFh7wVB",
          "dtype": "f4"
         },
         "yaxis": "y"
        },
        {
         "customdata": [
          [
           "Q178",
           1,
           "Response"
          ],
          [
           "Q178",
           2,
           "Response"
          ],
          [
           "Q178",
           3,
           "Response"
          ],
          [
           "Q178",
           4,
           "Response"
          ],
          [
           "Q178",
           5,
           "Response"
          ],
          [
           "Q178",
           6,
           "Response"
          ],
          [
           "Q178",
           7,
           "Response"
          ],
          [
           "Q178",
           8,
           "Response"
          ],
          [
           "Q178",
           9,
           "Response"
          ],
          [
           "Q178",
           10,
           "Response"
          ]
         ],
         "hovertemplate": "QID=%{customdata[0]}<br>Type=%{customdata[2]}<br>Dim1=%{x}<br>Dim2=%{y}<br>Likert=%{customdata[1]}<extra></extra>",
         "legendgroup": "Q178, Response",
         "marker": {
          "color": "#FF6692",
          "line": {
           "color": "black",
           "width": 0.5
          },
          "opacity": 0.85,
          "size": 10,
          "symbol": "circle"
         },
         "mode": "markers",
         "name": "Q178, Response",
         "orientation": "v",
         "showlegend": true,
         "type": "scatter",
         "x": {
          "bdata": "Vz/2QH3Z+EAJAPpA3av8QJKY+kCmmftAsPT7QKiS+0DYVPRAIWPzQA==",
          "dtype": "f4"
         },
         "xaxis": "x",
         "y": {
          "bdata": "i0aKP8mVfj+uonU/rg1hP/FScT+1bWk/ZddkPzHMZz9Y7ZE/r1WXPw==",
          "dtype": "f4"
         },
         "yaxis": "y"
        },
        {
         "customdata": [
          [
           "Q178",
           1,
           "Adapted"
          ],
          [
           "Q178",
           2,
           "Adapted"
          ],
          [
           "Q178",
           3,
           "Adapted"
          ],
          [
           "Q178",
           4,
           "Adapted"
          ],
          [
           "Q178",
           5,
           "Adapted"
          ],
          [
           "Q178",
           6,
           "Adapted"
          ],
          [
           "Q178",
           7,
           "Adapted"
          ],
          [
           "Q178",
           8,
           "Adapted"
          ],
          [
           "Q178",
           9,
           "Adapted"
          ],
          [
           "Q178",
           10,
           "Adapted"
          ]
         ],
         "hovertemplate": "QID=%{customdata[0]}<br>Type=%{customdata[2]}<br>Dim1=%{x}<br>Dim2=%{y}<br>Likert=%{customdata[1]}<extra></extra>",
         "legendgroup": "Q178, Adapted",
         "marker": {
          "color": "#FF6692",
          "line": {
           "color": "black",
           "width": 0.5
          },
          "opacity": 0.85,
          "size": 10,
          "symbol": "diamond"
         },
         "mode": "markers",
         "name": "Q178, Adapted",
         "orientation": "v",
         "showlegend": true,
         "type": "scatter",
         "x": {
          "bdata": "3H0wQeIpMkHBXS5BxZwtQY7MKUFteChB5PIqQclJKEHTMylBis0rQQ==",
          "dtype": "f4"
         },
         "xaxis": "x",
         "y": {
          "bdata": "iFa9QPtHvkAAvLhAwnm/QCcGwEC72cFAPP7EQJutwUCVzcdA2WvLQA==",
          "dtype": "f4"
         },
         "yaxis": "y"
        },
        {
         "customdata": [
          [
           "Q180",
           1,
           "Response"
          ],
          [
           "Q180",
           2,
           "Response"
          ],
          [
           "Q180",
           3,
           "Response"
          ],
          [
           "Q180",
           4,
           "Response"
          ],
          [
           "Q180",
           5,
           "Response"
          ],
          [
           "Q180",
           6,
           "Response"
          ],
          [
           "Q180",
           7,
           "Response"
          ],
          [
           "Q180",
           8,
           "Response"
          ],
          [
           "Q180",
           9,
           "Response"
          ],
          [
           "Q180",
           10,
           "Response"
          ]
         ],
         "hovertemplate": "QID=%{customdata[0]}<br>Type=%{customdata[2]}<br>Dim1=%{x}<br>Dim2=%{y}<br>Likert=%{customdata[1]}<extra></extra>",
         "legendgroup": "Q180, Response",
         "marker": {
          "color": "#B6E880",
          "line": {
           "color": "black",
           "width": 0.5
          },
          "opacity": 0.85,
          "size": 10,
          "symbol": "circle"
         },
         "mode": "markers",
         "name": "Q180, Response",
         "orientation": "v",
         "showlegend": true,
         "type": "scatter",
         "x": {
          "bdata": "EZr7P73q+j+yzwFAe1f+P/wnAUARkQJAjHEAQPQMB0BihQxAu3oRQA==",
          "dtype": "f4"
         },
         "xaxis": "x",
         "y": {
          "bdata": "848SQJbJEkBGZQ5A9e8QQDU1D0DmBw1ATsEPQOZWCUBd5gRAbHYAQA==",
          "dtype": "f4"
         },
         "yaxis": "y"
        },
        {
         "customdata": [
          [
           "Q180",
           1,
           "Adapted"
          ],
          [
           "Q180",
           2,
           "Adapted"
          ],
          [
           "Q180",
           3,
           "Adapted"
          ],
          [
           "Q180",
           4,
           "Adapted"
          ],
          [
           "Q180",
           5,
           "Adapted"
          ],
          [
           "Q180",
           6,
           "Adapted"
          ],
          [
           "Q180",
           7,
           "Adapted"
          ],
          [
           "Q180",
           8,
           "Adapted"
          ],
          [
           "Q180",
           9,
           "Adapted"
          ],
          [
           "Q180",
           10,
           "Adapted"
          ]
         ],
         "hovertemplate": "QID=%{customdata[0]}<br>Type=%{customdata[2]}<br>Dim1=%{x}<br>Dim2=%{y}<br>Likert=%{customdata[1]}<extra></extra>",
         "legendgroup": "Q180, Adapted",
         "marker": {
          "color": "#B6E880",
          "line": {
           "color": "black",
           "width": 0.5
          },
          "opacity": 0.85,
          "size": 10,
          "symbol": "diamond"
         },
         "mode": "markers",
         "name": "Q180, Adapted",
         "orientation": "v",
         "showlegend": true,
         "type": "scatter",
         "x": {
          "bdata": "Qv4zQZ6DNUEsaTNB4n82QVeyMUGbDDJBEKUtQT5pMUEDEjBByVIvQQ==",
          "dtype": "f4"
         },
         "xaxis": "x",
         "y": {
          "bdata": "9TPHQMXww0CrTsFAvKLFQPR5yEDpfMVAsdPEQKbDy0BLCdBAR33QQA==",
          "dtype": "f4"
         },
         "yaxis": "y"
        },
        {
         "customdata": [
          [
           "Q181",
           1,
           "Response"
          ],
          [
           "Q181",
           2,
           "Response"
          ],
          [
           "Q181",
           3,
           "Response"
          ],
          [
           "Q181",
           4,
           "Response"
          ],
          [
           "Q181",
           5,
           "Response"
          ],
          [
           "Q181",
           6,
           "Response"
          ],
          [
           "Q181",
           7,
           "Response"
          ],
          [
           "Q181",
           8,
           "Response"
          ],
          [
           "Q181",
           9,
           "Response"
          ],
          [
           "Q181",
           10,
           "Response"
          ]
         ],
         "hovertemplate": "QID=%{customdata[0]}<br>Type=%{customdata[2]}<br>Dim1=%{x}<br>Dim2=%{y}<br>Likert=%{customdata[1]}<extra></extra>",
         "legendgroup": "Q181, Response",
         "marker": {
          "color": "#FF97FF",
          "line": {
           "color": "black",
           "width": 0.5
          },
          "opacity": 0.85,
          "size": 10,
          "symbol": "circle"
         },
         "mode": "markers",
         "name": "Q181, Response",
         "orientation": "v",
         "showlegend": true,
         "type": "scatter",
         "x": {
          "bdata": "zXsvQTvwMEE9cTBB47ExQaDLMEG6VDJBCCgxQSMVMkEhwjJBL1UzQQ==",
          "dtype": "f4"
         },
         "xaxis": "x",
         "y": {
          "bdata": "tMReQBO4YUB/8WBAr65kQAXsX0B7K2FAViBeQJOgWUA26VBAos5QQA==",
          "dtype": "f4"
         },
         "yaxis": "y"
        },
        {
         "customdata": [
          [
           "Q181",
           1,
           "Adapted"
          ],
          [
           "Q181",
           2,
           "Adapted"
          ],
          [
           "Q181",
           3,
           "Adapted"
          ],
          [
           "Q181",
           4,
           "Adapted"
          ],
          [
           "Q181",
           5,
           "Adapted"
          ],
          [
           "Q181",
           6,
           "Adapted"
          ],
          [
           "Q181",
           7,
           "Adapted"
          ],
          [
           "Q181",
           8,
           "Adapted"
          ],
          [
           "Q181",
           9,
           "Adapted"
          ],
          [
           "Q181",
           10,
           "Adapted"
          ]
         ],
         "hovertemplate": "QID=%{customdata[0]}<br>Type=%{customdata[2]}<br>Dim1=%{x}<br>Dim2=%{y}<br>Likert=%{customdata[1]}<extra></extra>",
         "legendgroup": "Q181, Adapted",
         "marker": {
          "color": "#FF97FF",
          "line": {
           "color": "black",
           "width": 0.5
          },
          "opacity": 0.85,
          "size": 10,
          "symbol": "diamond"
         },
         "mode": "markers",
         "name": "Q181, Adapted",
         "orientation": "v",
         "showlegend": true,
         "type": "scatter",
         "x": {
          "bdata": "cMg1QWkBNUH+oDNBzOszQbPOMUHDqC5BVdoxQfj4LkEbfS1B7N8vQQ==",
          "dtype": "f4"
         },
         "xaxis": "x",
         "y": {
          "bdata": "JMymQMN2rEBnLqtAAyuqQBrQrEA8EKtA6e2rQCklqkBvxapAUWOoQA==",
          "dtype": "f4"
         },
         "yaxis": "y"
        },
        {
         "customdata": [
          [
           "Q182",
           1,
           "Response"
          ],
          [
           "Q182",
           2,
           "Response"
          ],
          [
           "Q182",
           3,
           "Response"
          ],
          [
           "Q182",
           4,
           "Response"
          ],
          [
           "Q182",
           5,
           "Response"
          ],
          [
           "Q182",
           6,
           "Response"
          ],
          [
           "Q182",
           7,
           "Response"
          ],
          [
           "Q182",
           8,
           "Response"
          ],
          [
           "Q182",
           9,
           "Response"
          ],
          [
           "Q182",
           10,
           "Response"
          ]
         ],
         "hovertemplate": "QID=%{customdata[0]}<br>Type=%{customdata[2]}<br>Dim1=%{x}<br>Dim2=%{y}<br>Likert=%{customdata[1]}<extra></extra>",
         "legendgroup": "Q182, Response",
         "marker": {
          "color": "#FECB52",
          "line": {
           "color": "black",
           "width": 0.5
          },
          "opacity": 0.85,
          "size": 10,
          "symbol": "circle"
         },
         "mode": "markers",
         "name": "Q182, Response",
         "orientation": "v",
         "showlegend": true,
         "type": "scatter",
         "x": {
          "bdata": "dWcsQG6nK0CoWSpAvyg1QGjJLEDOyTRArwkwQOu0M0CioTdAGp82QA==",
          "dtype": "f4"
         },
         "xaxis": "x",
         "y": {
          "bdata": "UBLBQFmrwECc179AidnFQDJFwUBNjsVAgvbCQGfwxECS1MZAPnnGQA==",
          "dtype": "f4"
         },
         "yaxis": "y"
        },
        {
         "customdata": [
          [
           "Q182",
           1,
           "Adapted"
          ],
          [
           "Q182",
           2,
           "Adapted"
          ],
          [
           "Q182",
           3,
           "Adapted"
          ],
          [
           "Q182",
           4,
           "Adapted"
          ],
          [
           "Q182",
           5,
           "Adapted"
          ],
          [
           "Q182",
           6,
           "Adapted"
          ],
          [
           "Q182",
           7,
           "Adapted"
          ],
          [
           "Q182",
           8,
           "Adapted"
          ],
          [
           "Q182",
           9,
           "Adapted"
          ],
          [
           "Q182",
           10,
           "Adapted"
          ]
         ],
         "hovertemplate": "QID=%{customdata[0]}<br>Type=%{customdata[2]}<br>Dim1=%{x}<br>Dim2=%{y}<br>Likert=%{customdata[1]}<extra></extra>",
         "legendgroup": "Q182, Adapted",
         "marker": {
          "color": "#FECB52",
          "line": {
           "color": "black",
           "width": 0.5
          },
          "opacity": 0.85,
          "size": 10,
          "symbol": "diamond"
         },
         "mode": "markers",
         "name": "Q182, Adapted",
         "orientation": "v",
         "showlegend": true,
         "type": "scatter",
         "x": {
          "bdata": "U33uQPVt60Bsb+lATivrQKGi5kBweeRAyd3rQLHI70DM8OdAizzoQA==",
          "dtype": "f4"
         },
         "xaxis": "x",
         "y": {
          "bdata": "7BT/QKG8AUHgrgFBPGYAQV1xAkGhigNBZF4FQQPpB0FzKQJBYCsEQQ==",
          "dtype": "f4"
         },
         "yaxis": "y"
        },
        {
         "customdata": [
          [
           "Q184",
           1,
           "Response"
          ],
          [
           "Q184",
           2,
           "Response"
          ],
          [
           "Q184",
           3,
           "Response"
          ],
          [
           "Q184",
           4,
           "Response"
          ],
          [
           "Q184",
           5,
           "Response"
          ],
          [
           "Q184",
           6,
           "Response"
          ],
          [
           "Q184",
           7,
           "Response"
          ],
          [
           "Q184",
           8,
           "Response"
          ],
          [
           "Q184",
           9,
           "Response"
          ],
          [
           "Q184",
           10,
           "Response"
          ]
         ],
         "hovertemplate": "QID=%{customdata[0]}<br>Type=%{customdata[2]}<br>Dim1=%{x}<br>Dim2=%{y}<br>Likert=%{customdata[1]}<extra></extra>",
         "legendgroup": "Q184, Response",
         "marker": {
          "color": "#636efa",
          "line": {
           "color": "black",
           "width": 0.5
          },
          "opacity": 0.85,
          "size": 10,
          "symbol": "circle"
         },
         "mode": "markers",
         "name": "Q184, Response",
         "orientation": "v",
         "showlegend": true,
         "type": "scatter",
         "x": {
          "bdata": "lO5CQPTgPECuh0RAEHBCQNNaPUAGE0VAafJCQJnDO0ANtz5APmk2QA==",
          "dtype": "f4"
         },
         "xaxis": "x",
         "y": {
          "bdata": "BhP9QKkJ+kDQCf5As738QDAl+kBCFP5A0iD9QJyn+UDY5/pAtY/2QA==",
          "dtype": "f4"
         },
         "yaxis": "y"
        },
        {
         "customdata": [
          [
           "Q184",
           1,
           "Adapted"
          ],
          [
           "Q184",
           2,
           "Adapted"
          ],
          [
           "Q184",
           3,
           "Adapted"
          ],
          [
           "Q184",
           4,
           "Adapted"
          ],
          [
           "Q184",
           5,
           "Adapted"
          ],
          [
           "Q184",
           6,
           "Adapted"
          ],
          [
           "Q184",
           7,
           "Adapted"
          ],
          [
           "Q184",
           8,
           "Adapted"
          ],
          [
           "Q184",
           9,
           "Adapted"
          ],
          [
           "Q184",
           10,
           "Adapted"
          ]
         ],
         "hovertemplate": "QID=%{customdata[0]}<br>Type=%{customdata[2]}<br>Dim1=%{x}<br>Dim2=%{y}<br>Likert=%{customdata[1]}<extra></extra>",
         "legendgroup": "Q184, Adapted",
         "marker": {
          "color": "#636efa",
          "line": {
           "color": "black",
           "width": 0.5
          },
          "opacity": 0.85,
          "size": 10,
          "symbol": "diamond"
         },
         "mode": "markers",
         "name": "Q184, Adapted",
         "orientation": "v",
         "showlegend": true,
         "type": "scatter",
         "x": {
          "bdata": "Ww2aQMBnmECCE5xAinqeQP9OnUAX56NAKCOjQCowpkChz6FADt+iQA==",
          "dtype": "f4"
         },
         "xaxis": "x",
         "y": {
          "bdata": "rZ8MQd0jDUESJg1Bb1oNQUN/DEFENA9BdmcPQQXhEEFeIQ9B6gIQQQ==",
          "dtype": "f4"
         },
         "yaxis": "y"
        },
        {
         "customdata": [
          [
           "Q185",
           1,
           "Response"
          ],
          [
           "Q185",
           2,
           "Response"
          ],
          [
           "Q185",
           3,
           "Response"
          ],
          [
           "Q185",
           4,
           "Response"
          ],
          [
           "Q185",
           5,
           "Response"
          ],
          [
           "Q185",
           6,
           "Response"
          ],
          [
           "Q185",
           7,
           "Response"
          ],
          [
           "Q185",
           8,
           "Response"
          ],
          [
           "Q185",
           9,
           "Response"
          ],
          [
           "Q185",
           10,
           "Response"
          ]
         ],
         "hovertemplate": "QID=%{customdata[0]}<br>Type=%{customdata[2]}<br>Dim1=%{x}<br>Dim2=%{y}<br>Likert=%{customdata[1]}<extra></extra>",
         "legendgroup": "Q185, Response",
         "marker": {
          "color": "#EF553B",
          "line": {
           "color": "black",
           "width": 0.5
          },
          "opacity": 0.85,
          "size": 10,
          "symbol": "circle"
         },
         "mode": "markers",
         "name": "Q185, Response",
         "orientation": "v",
         "showlegend": true,
         "type": "scatter",
         "x": {
          "bdata": "wBnAPzZUsT8Vcck/9N7CP8dXuT80D7k/sg3JP4l+2D8JRb0/A8TAPw==",
          "dtype": "f4"
         },
         "xaxis": "x",
         "y": {
          "bdata": "6ZiiQYiFo0F8A6JBoWmiQaAEo0HfBaNBxwaiQYQNoUGSxaJBiYuiQQ==",
          "dtype": "f4"
         },
         "yaxis": "y"
        },
        {
         "customdata": [
          [
           "Q185",
           1,
           "Adapted"
          ],
          [
           "Q185",
           2,
           "Adapted"
          ],
          [
           "Q185",
           3,
           "Adapted"
          ],
          [
           "Q185",
           4,
           "Adapted"
          ],
          [
           "Q185",
           5,
           "Adapted"
          ],
          [
           "Q185",
           6,
           "Adapted"
          ],
          [
           "Q185",
           7,
           "Adapted"
          ],
          [
           "Q185",
           8,
           "Adapted"
          ],
          [
           "Q185",
           9,
           "Adapted"
          ],
          [
           "Q185",
           10,
           "Adapted"
          ]
         ],
         "hovertemplate": "QID=%{customdata[0]}<br>Type=%{customdata[2]}<br>Dim1=%{x}<br>Dim2=%{y}<br>Likert=%{customdata[1]}<extra></extra>",
         "legendgroup": "Q185, Adapted",
         "marker": {
          "color": "#EF553B",
          "line": {
           "color": "black",
           "width": 0.5
          },
          "opacity": 0.85,
          "size": 10,
          "symbol": "diamond"
         },
         "mode": "markers",
         "name": "Q185, Adapted",
         "orientation": "v",
         "showlegend": true,
         "type": "scatter",
         "x": {
          "bdata": "yE+/QGQCuUCj8LlAtWG7QBseuECF0bZA64W6QEcFuUD2YLFAP9K1QA==",
          "dtype": "f4"
         },
         "xaxis": "x",
         "y": {
          "bdata": "TKEWQRFZGUG9MxhBqbgaQSqAG0FLWBlB1b4ZQfUYG0Hr6RZBwwEZQQ==",
          "dtype": "f4"
         },
         "yaxis": "y"
        },
        {
         "customdata": [
          [
           "Q254",
           1,
           "Response"
          ],
          [
           "Q254",
           2,
           "Response"
          ],
          [
           "Q254",
           3,
           "Response"
          ],
          [
           "Q254",
           4,
           "Response"
          ]
         ],
         "hovertemplate": "QID=%{customdata[0]}<br>Type=%{customdata[2]}<br>Dim1=%{x}<br>Dim2=%{y}<br>Likert=%{customdata[1]}<extra></extra>",
         "legendgroup": "Q254, Response",
         "marker": {
          "color": "#00cc96",
          "line": {
           "color": "black",
           "width": 0.5
          },
          "opacity": 0.85,
          "size": 10,
          "symbol": "circle"
         },
         "mode": "markers",
         "name": "Q254, Response",
         "orientation": "v",
         "showlegend": true,
         "type": "scatter",
         "x": {
          "bdata": "9EseQVpbH0FDnR9BgswfQQ==",
          "dtype": "f4"
         },
         "xaxis": "x",
         "y": {
          "bdata": "UIMFQVbtBEHEyQJBSM0CQQ==",
          "dtype": "f4"
         },
         "yaxis": "y"
        },
        {
         "customdata": [
          [
           "Q254",
           1,
           "Adapted"
          ],
          [
           "Q254",
           2,
           "Adapted"
          ],
          [
           "Q254",
           3,
           "Adapted"
          ],
          [
           "Q254",
           4,
           "Adapted"
          ]
         ],
         "hovertemplate": "QID=%{customdata[0]}<br>Type=%{customdata[2]}<br>Dim1=%{x}<br>Dim2=%{y}<br>Likert=%{customdata[1]}<extra></extra>",
         "legendgroup": "Q254, Adapted",
         "marker": {
          "color": "#00cc96",
          "line": {
           "color": "black",
           "width": 0.5
          },
          "opacity": 0.85,
          "size": 10,
          "symbol": "diamond"
         },
         "mode": "markers",
         "name": "Q254, Adapted",
         "orientation": "v",
         "showlegend": true,
         "type": "scatter",
         "x": {
          "bdata": "E6gXQQmaFkF+rBhBCJYXQQ==",
          "dtype": "f4"
         },
         "xaxis": "x",
         "y": {
          "bdata": "1ccHQcNlCUHZVAZB1pUIQQ==",
          "dtype": "f4"
         },
         "yaxis": "y"
        },
        {
         "customdata": [
          [
           "Q27",
           1,
           "Response"
          ],
          [
           "Q27",
           2,
           "Response"
          ],
          [
           "Q27",
           3,
           "Response"
          ],
          [
           "Q27",
           4,
           "Response"
          ]
         ],
         "hovertemplate": "QID=%{customdata[0]}<br>Type=%{customdata[2]}<br>Dim1=%{x}<br>Dim2=%{y}<br>Likert=%{customdata[1]}<extra></extra>",
         "legendgroup": "Q27, Response",
         "marker": {
          "color": "#ab63fa",
          "line": {
           "color": "black",
           "width": 0.5
          },
          "opacity": 0.85,
          "size": 10,
          "symbol": "circle"
         },
         "mode": "markers",
         "name": "Q27, Response",
         "orientation": "v",
         "showlegend": true,
         "type": "scatter",
         "x": {
          "bdata": "fe8UQdQyF0FEnBZBNekYQQ==",
          "dtype": "f4"
         },
         "xaxis": "x",
         "y": {
          "bdata": "2YEPQXFDDkEXGwJB1F38QA==",
          "dtype": "f4"
         },
         "yaxis": "y"
        },
        {
         "customdata": [
          [
           "Q27",
           1,
           "Adapted"
          ],
          [
           "Q27",
           2,
           "Adapted"
          ],
          [
           "Q27",
           3,
           "Adapted"
          ],
          [
           "Q27",
           4,
           "Adapted"
          ]
         ],
         "hovertemplate": "QID=%{customdata[0]}<br>Type=%{customdata[2]}<br>Dim1=%{x}<br>Dim2=%{y}<br>Likert=%{customdata[1]}<extra></extra>",
         "legendgroup": "Q27, Adapted",
         "marker": {
          "color": "#ab63fa",
          "line": {
           "color": "black",
           "width": 0.5
          },
          "opacity": 0.85,
          "size": 10,
          "symbol": "diamond"
         },
         "mode": "markers",
         "name": "Q27, Adapted",
         "orientation": "v",
         "showlegend": true,
         "type": "scatter",
         "x": {
          "bdata": "rFcUQTzrFUFl6RVBUzcbQQ==",
          "dtype": "f4"
         },
         "xaxis": "x",
         "y": {
          "bdata": "8cMJQSTnCkHjww1BtzwNQQ==",
          "dtype": "f4"
         },
         "yaxis": "y"
        },
        {
         "customdata": [
          [
           "Q29",
           1,
           "Response"
          ],
          [
           "Q29",
           2,
           "Response"
          ],
          [
           "Q29",
           3,
           "Response"
          ],
          [
           "Q29",
           4,
           "Response"
          ]
         ],
         "hovertemplate": "QID=%{customdata[0]}<br>Type=%{customdata[2]}<br>Dim1=%{x}<br>Dim2=%{y}<br>Likert=%{customdata[1]}<extra></extra>",
         "legendgroup": "Q29, Response",
         "marker": {
          "color": "#FFA15A",
          "line": {
           "color": "black",
           "width": 0.5
          },
          "opacity": 0.85,
          "size": 10,
          "symbol": "circle"
         },
         "mode": "markers",
         "name": "Q29, Response",
         "orientation": "v",
         "showlegend": true,
         "type": "scatter",
         "x": {
          "bdata": "PU0RQeGxEUG/bxFB5pkRQQ==",
          "dtype": "f4"
         },
         "xaxis": "x",
         "y": {
          "bdata": "oQ8qQd89K0HU1ytB6TsrQQ==",
          "dtype": "f4"
         },
         "yaxis": "y"
        },
        {
         "customdata": [
          [
           "Q29",
           1,
           "Adapted"
          ],
          [
           "Q29",
           2,
           "Adapted"
          ],
          [
           "Q29",
           3,
           "Adapted"
          ],
          [
           "Q29",
           4,
           "Adapted"
          ]
         ],
         "hovertemplate": "QID=%{customdata[0]}<br>Type=%{customdata[2]}<br>Dim1=%{x}<br>Dim2=%{y}<br>Likert=%{customdata[1]}<extra></extra>",
         "legendgroup": "Q29, Adapted",
         "marker": {
          "color": "#FFA15A",
          "line": {
           "color": "black",
           "width": 0.5
          },
          "opacity": 0.85,
          "size": 10,
          "symbol": "diamond"
         },
         "mode": "markers",
         "name": "Q29, Adapted",
         "orientation": "v",
         "showlegend": true,
         "type": "scatter",
         "x": {
          "bdata": "zfEVQRV1GEHJixxBUmwYQQ==",
          "dtype": "f4"
         },
         "xaxis": "x",
         "y": {
          "bdata": "hbIkQTZTKEFpLyNBkjQjQQ==",
          "dtype": "f4"
         },
         "yaxis": "y"
        },
        {
         "customdata": [
          [
           "Q30",
           1,
           "Response"
          ],
          [
           "Q30",
           2,
           "Response"
          ],
          [
           "Q30",
           3,
           "Response"
          ],
          [
           "Q30",
           4,
           "Response"
          ]
         ],
         "hovertemplate": "QID=%{customdata[0]}<br>Type=%{customdata[2]}<br>Dim1=%{x}<br>Dim2=%{y}<br>Likert=%{customdata[1]}<extra></extra>",
         "legendgroup": "Q30, Response",
         "marker": {
          "color": "#19d3f3",
          "line": {
           "color": "black",
           "width": 0.5
          },
          "opacity": 0.85,
          "size": 10,
          "symbol": "circle"
         },
         "mode": "markers",
         "name": "Q30, Response",
         "orientation": "v",
         "showlegend": true,
         "type": "scatter",
         "x": {
          "bdata": "OwAQQf/yEEHNhQ9BPQ0QQQ==",
          "dtype": "f4"
         },
         "xaxis": "x",
         "y": {
          "bdata": "318hQXwdIkGigSFBFvYgQQ==",
          "dtype": "f4"
         },
         "yaxis": "y"
        },
        {
         "customdata": [
          [
           "Q30",
           1,
           "Adapted"
          ],
          [
           "Q30",
           2,
           "Adapted"
          ],
          [
           "Q30",
           3,
           "Adapted"
          ],
          [
           "Q30",
           4,
           "Adapted"
          ]
         ],
         "hovertemplate": "QID=%{customdata[0]}<br>Type=%{customdata[2]}<br>Dim1=%{x}<br>Dim2=%{y}<br>Likert=%{customdata[1]}<extra></extra>",
         "legendgroup": "Q30, Adapted",
         "marker": {
          "color": "#19d3f3",
          "line": {
           "color": "black",
           "width": 0.5
          },
          "opacity": 0.85,
          "size": 10,
          "symbol": "diamond"
         },
         "mode": "markers",
         "name": "Q30, Adapted",
         "orientation": "v",
         "showlegend": true,
         "type": "scatter",
         "x": {
          "bdata": "5qQXQc0BF0G8xhdBBykYQQ==",
          "dtype": "f4"
         },
         "xaxis": "x",
         "y": {
          "bdata": "s44gQeNkHUGGYh9BT14hQQ==",
          "dtype": "f4"
         },
         "yaxis": "y"
        },
        {
         "customdata": [
          [
           "Q33_3",
           1,
           "Response"
          ],
          [
           "Q33_3",
           2,
           "Response"
          ],
          [
           "Q33_3",
           3,
           "Response"
          ]
         ],
         "hovertemplate": "QID=%{customdata[0]}<br>Type=%{customdata[2]}<br>Dim1=%{x}<br>Dim2=%{y}<br>Likert=%{customdata[1]}<extra></extra>",
         "legendgroup": "Q33_3, Response",
         "marker": {
          "color": "#FF6692",
          "line": {
           "color": "black",
           "width": 0.5
          },
          "opacity": 0.85,
          "size": 10,
          "symbol": "circle"
         },
         "mode": "markers",
         "name": "Q33_3, Response",
         "orientation": "v",
         "showlegend": true,
         "type": "scatter",
         "x": {
          "bdata": "WF4bQZuNG0FT3htB",
          "dtype": "f4"
         },
         "xaxis": "x",
         "y": {
          "bdata": "zoktQbwSLkEh5y1B",
          "dtype": "f4"
         },
         "yaxis": "y"
        },
        {
         "customdata": [
          [
           "Q33_3",
           1,
           "Adapted"
          ],
          [
           "Q33_3",
           2,
           "Adapted"
          ],
          [
           "Q33_3",
           3,
           "Adapted"
          ]
         ],
         "hovertemplate": "QID=%{customdata[0]}<br>Type=%{customdata[2]}<br>Dim1=%{x}<br>Dim2=%{y}<br>Likert=%{customdata[1]}<extra></extra>",
         "legendgroup": "Q33_3, Adapted",
         "marker": {
          "color": "#FF6692",
          "line": {
           "color": "black",
           "width": 0.5
          },
          "opacity": 0.85,
          "size": 10,
          "symbol": "diamond"
         },
         "mode": "markers",
         "name": "Q33_3, Adapted",
         "orientation": "v",
         "showlegend": true,
         "type": "scatter",
         "x": {
          "bdata": "YOoaQcbwJUFE6ihB",
          "dtype": "f4"
         },
         "xaxis": "x",
         "y": {
          "bdata": "27IqQaL9L0F23C9B",
          "dtype": "f4"
         },
         "yaxis": "y"
        },
        {
         "customdata": [
          [
           "Q45",
           1,
           "Response"
          ],
          [
           "Q45",
           2,
           "Response"
          ],
          [
           "Q45",
           3,
           "Response"
          ]
         ],
         "hovertemplate": "QID=%{customdata[0]}<br>Type=%{customdata[2]}<br>Dim1=%{x}<br>Dim2=%{y}<br>Likert=%{customdata[1]}<extra></extra>",
         "legendgroup": "Q45, Response",
         "marker": {
          "color": "#B6E880",
          "line": {
           "color": "black",
           "width": 0.5
          },
          "opacity": 0.85,
          "size": 10,
          "symbol": "circle"
         },
         "mode": "markers",
         "name": "Q45, Response",
         "orientation": "v",
         "showlegend": true,
         "type": "scatter",
         "x": {
          "bdata": "znM5Qea2NkFziDdB",
          "dtype": "f4"
         },
         "xaxis": "x",
         "y": {
          "bdata": "QGsYQaZEF0FNoxpB",
          "dtype": "f4"
         },
         "yaxis": "y"
        },
        {
         "customdata": [
          [
           "Q45",
           1,
           "Adapted"
          ],
          [
           "Q45",
           2,
           "Adapted"
          ],
          [
           "Q45",
           3,
           "Adapted"
          ]
         ],
         "hovertemplate": "QID=%{customdata[0]}<br>Type=%{customdata[2]}<br>Dim1=%{x}<br>Dim2=%{y}<br>Likert=%{customdata[1]}<extra></extra>",
         "legendgroup": "Q45, Adapted",
         "marker": {
          "color": "#B6E880",
          "line": {
           "color": "black",
           "width": 0.5
          },
          "opacity": 0.85,
          "size": 10,
          "symbol": "diamond"
         },
         "mode": "markers",
         "name": "Q45, Adapted",
         "orientation": "v",
         "showlegend": true,
         "type": "scatter",
         "x": {
          "bdata": "W38+QQroOEFibThB",
          "dtype": "f4"
         },
         "xaxis": "x",
         "y": {
          "bdata": "quUZQYeyG0ERThRB",
          "dtype": "f4"
         },
         "yaxis": "y"
        },
        {
         "customdata": [
          [
           "Q6",
           1,
           "Response"
          ],
          [
           "Q6",
           2,
           "Response"
          ],
          [
           "Q6",
           3,
           "Response"
          ],
          [
           "Q6",
           4,
           "Response"
          ]
         ],
         "hovertemplate": "QID=%{customdata[0]}<br>Type=%{customdata[2]}<br>Dim1=%{x}<br>Dim2=%{y}<br>Likert=%{customdata[1]}<extra></extra>",
         "legendgroup": "Q6, Response",
         "marker": {
          "color": "#FF97FF",
          "line": {
           "color": "black",
           "width": 0.5
          },
          "opacity": 0.85,
          "size": 10,
          "symbol": "circle"
         },
         "mode": "markers",
         "name": "Q6, Response",
         "orientation": "v",
         "showlegend": true,
         "type": "scatter",
         "x": {
          "bdata": "pEQFQXstBEEiXwRBCXcFQQ==",
          "dtype": "f4"
         },
         "xaxis": "x",
         "y": {
          "bdata": "jG73QKJ9+UAE5vVARo3zQA==",
          "dtype": "f4"
         },
         "yaxis": "y"
        },
        {
         "customdata": [
          [
           "Q6",
           1,
           "Adapted"
          ],
          [
           "Q6",
           2,
           "Adapted"
          ],
          [
           "Q6",
           3,
           "Adapted"
          ],
          [
           "Q6",
           4,
           "Adapted"
          ]
         ],
         "hovertemplate": "QID=%{customdata[0]}<br>Type=%{customdata[2]}<br>Dim1=%{x}<br>Dim2=%{y}<br>Likert=%{customdata[1]}<extra></extra>",
         "legendgroup": "Q6, Adapted",
         "marker": {
          "color": "#FF97FF",
          "line": {
           "color": "black",
           "width": 0.5
          },
          "opacity": 0.85,
          "size": 10,
          "symbol": "diamond"
         },
         "mode": "markers",
         "name": "Q6, Adapted",
         "orientation": "v",
         "showlegend": true,
         "type": "scatter",
         "x": {
          "bdata": "13MHQWTwBEFGawVBzlwBQQ==",
          "dtype": "f4"
         },
         "xaxis": "x",
         "y": {
          "bdata": "L1EBQW7s/0Df0QFBDX4BQQ==",
          "dtype": "f4"
         },
         "yaxis": "y"
        },
        {
         "customdata": [
          [
           "Q65",
           1,
           "Response"
          ],
          [
           "Q65",
           2,
           "Response"
          ],
          [
           "Q65",
           3,
           "Response"
          ],
          [
           "Q65",
           4,
           "Response"
          ]
         ],
         "hovertemplate": "QID=%{customdata[0]}<br>Type=%{customdata[2]}<br>Dim1=%{x}<br>Dim2=%{y}<br>Likert=%{customdata[1]}<extra></extra>",
         "legendgroup": "Q65, Response",
         "marker": {
          "color": "#FECB52",
          "line": {
           "color": "black",
           "width": 0.5
          },
          "opacity": 0.85,
          "size": 10,
          "symbol": "circle"
         },
         "mode": "markers",
         "name": "Q65, Response",
         "orientation": "v",
         "showlegend": true,
         "type": "scatter",
         "x": {
          "bdata": "JRFPQWJ+T0GMtE9BeLNOQQ==",
          "dtype": "f4"
         },
         "xaxis": "x",
         "y": {
          "bdata": "drsaQYUKGkGHURpBXCYbQQ==",
          "dtype": "f4"
         },
         "yaxis": "y"
        },
        {
         "customdata": [
          [
           "Q65",
           1,
           "Adapted"
          ],
          [
           "Q65",
           2,
           "Adapted"
          ],
          [
           "Q65",
           3,
           "Adapted"
          ],
          [
           "Q65",
           4,
           "Adapted"
          ]
         ],
         "hovertemplate": "QID=%{customdata[0]}<br>Type=%{customdata[2]}<br>Dim1=%{x}<br>Dim2=%{y}<br>Likert=%{customdata[1]}<extra></extra>",
         "legendgroup": "Q65, Adapted",
         "marker": {
          "color": "#FECB52",
          "line": {
           "color": "black",
           "width": 0.5
          },
          "opacity": 0.85,
          "size": 10,
          "symbol": "diamond"
         },
         "mode": "markers",
         "name": "Q65, Adapted",
         "orientation": "v",
         "showlegend": true,
         "type": "scatter",
         "x": {
          "bdata": "L8NMQZvZS0HvCkZBcLVEQQ==",
          "dtype": "f4"
         },
         "xaxis": "x",
         "y": {
          "bdata": "v1AgQbw8IUGPSR1BUvYbQQ==",
          "dtype": "f4"
         },
         "yaxis": "y"
        },
        {
         "customdata": [
          [
           "Q69",
           1,
           "Response"
          ],
          [
           "Q69",
           2,
           "Response"
          ],
          [
           "Q69",
           3,
           "Response"
          ],
          [
           "Q69",
           4,
           "Response"
          ]
         ],
         "hovertemplate": "QID=%{customdata[0]}<br>Type=%{customdata[2]}<br>Dim1=%{x}<br>Dim2=%{y}<br>Likert=%{customdata[1]}<extra></extra>",
         "legendgroup": "Q69, Response",
         "marker": {
          "color": "#636efa",
          "line": {
           "color": "black",
           "width": 0.5
          },
          "opacity": 0.85,
          "size": 10,
          "symbol": "circle"
         },
         "mode": "markers",
         "name": "Q69, Response",
         "orientation": "v",
         "showlegend": true,
         "type": "scatter",
         "x": {
          "bdata": "y3tPQd/hTkHOJVBBD25PQQ==",
          "dtype": "f4"
         },
         "xaxis": "x",
         "y": {
          "bdata": "xz4RQftbEUGzew9BF30PQQ==",
          "dtype": "f4"
         },
         "yaxis": "y"
        },
        {
         "customdata": [
          [
           "Q69",
           1,
           "Adapted"
          ],
          [
           "Q69",
           2,
           "Adapted"
          ],
          [
           "Q69",
           3,
           "Adapted"
          ],
          [
           "Q69",
           4,
           "Adapted"
          ]
         ],
         "hovertemplate": "QID=%{customdata[0]}<br>Type=%{customdata[2]}<br>Dim1=%{x}<br>Dim2=%{y}<br>Likert=%{customdata[1]}<extra></extra>",
         "legendgroup": "Q69, Adapted",
         "marker": {
          "color": "#636efa",
          "line": {
           "color": "black",
           "width": 0.5
          },
          "opacity": 0.85,
          "size": 10,
          "symbol": "diamond"
         },
         "mode": "markers",
         "name": "Q69, Adapted",
         "orientation": "v",
         "showlegend": true,
         "type": "scatter",
         "x": {
          "bdata": "MzlEQePiQkEAkENBQ4NFQQ==",
          "dtype": "f4"
         },
         "xaxis": "x",
         "y": {
          "bdata": "5+0WQfsNF0GkRxZBQYEXQQ==",
          "dtype": "f4"
         },
         "yaxis": "y"
        },
        {
         "customdata": [
          [
           "Q70",
           1,
           "Response"
          ],
          [
           "Q70",
           2,
           "Response"
          ],
          [
           "Q70",
           3,
           "Response"
          ],
          [
           "Q70",
           4,
           "Response"
          ]
         ],
         "hovertemplate": "QID=%{customdata[0]}<br>Type=%{customdata[2]}<br>Dim1=%{x}<br>Dim2=%{y}<br>Likert=%{customdata[1]}<extra></extra>",
         "legendgroup": "Q70, Response",
         "marker": {
          "color": "#EF553B",
          "line": {
           "color": "black",
           "width": 0.5
          },
          "opacity": 0.85,
          "size": 10,
          "symbol": "circle"
         },
         "mode": "markers",
         "name": "Q70, Response",
         "orientation": "v",
         "showlegend": true,
         "type": "scatter",
         "x": {
          "bdata": "LwJMQb3xT0FCO05BIHtLQQ==",
          "dtype": "f4"
         },
         "xaxis": "x",
         "y": {
          "bdata": "92ANQTLkDEHelwxBYEoKQQ==",
          "dtype": "f4"
         },
         "yaxis": "y"
        },
        {
         "customdata": [
          [
           "Q70",
           1,
           "Adapted"
          ],
          [
           "Q70",
           2,
           "Adapted"
          ],
          [
           "Q70",
           3,
           "Adapted"
          ],
          [
           "Q70",
           4,
           "Adapted"
          ]
         ],
         "hovertemplate": "QID=%{customdata[0]}<br>Type=%{customdata[2]}<br>Dim1=%{x}<br>Dim2=%{y}<br>Likert=%{customdata[1]}<extra></extra>",
         "legendgroup": "Q70, Adapted",
         "marker": {
          "color": "#EF553B",
          "line": {
           "color": "black",
           "width": 0.5
          },
          "opacity": 0.85,
          "size": 10,
          "symbol": "diamond"
         },
         "mode": "markers",
         "name": "Q70, Adapted",
         "orientation": "v",
         "showlegend": true,
         "type": "scatter",
         "x": {
          "bdata": "oRVBQdg5QkGaK0NBg4BEQQ==",
          "dtype": "f4"
         },
         "xaxis": "x",
         "y": {
          "bdata": "wAYTQVqTEUEX6w9BDvwOQQ==",
          "dtype": "f4"
         },
         "yaxis": "y"
        },
        {
         "customdata": [
          [
           "Q8",
           1,
           "Response"
          ],
          [
           "Q8",
           2,
           "Response"
          ]
         ],
         "hovertemplate": "QID=%{customdata[0]}<br>Type=%{customdata[2]}<br>Dim1=%{x}<br>Dim2=%{y}<br>Likert=%{customdata[1]}<extra></extra>",
         "legendgroup": "Q8, Response",
         "marker": {
          "color": "#00cc96",
          "line": {
           "color": "black",
           "width": 0.5
          },
          "opacity": 0.85,
          "size": 10,
          "symbol": "circle"
         },
         "mode": "markers",
         "name": "Q8, Response",
         "orientation": "v",
         "showlegend": true,
         "type": "scatter",
         "x": {
          "bdata": "GuAfQX/yIUE=",
          "dtype": "f4"
         },
         "xaxis": "x",
         "y": {
          "bdata": "ypENQWkZ60A=",
          "dtype": "f4"
         },
         "yaxis": "y"
        },
        {
         "customdata": [
          [
           "Q8",
           1,
           "Adapted"
          ],
          [
           "Q8",
           2,
           "Adapted"
          ]
         ],
         "hovertemplate": "QID=%{customdata[0]}<br>Type=%{customdata[2]}<br>Dim1=%{x}<br>Dim2=%{y}<br>Likert=%{customdata[1]}<extra></extra>",
         "legendgroup": "Q8, Adapted",
         "marker": {
          "color": "#00cc96",
          "line": {
           "color": "black",
           "width": 0.5
          },
          "opacity": 0.85,
          "size": 10,
          "symbol": "diamond"
         },
         "mode": "markers",
         "name": "Q8, Adapted",
         "orientation": "v",
         "showlegend": true,
         "type": "scatter",
         "x": {
          "bdata": "ABYdQV0OHkE=",
          "dtype": "f4"
         },
         "xaxis": "x",
         "y": {
          "bdata": "DXESQSwoEUE=",
          "dtype": "f4"
         },
         "yaxis": "y"
        },
        {
         "customdata": [
          [
           "Q153",
           1,
           "Response"
          ],
          [
           "Q153",
           2,
           "Response"
          ],
          [
           "Q153",
           3,
           "Response"
          ],
          [
           "Q153",
           4,
           "Response"
          ]
         ],
         "hovertemplate": "QID=%{customdata[0]}<br>Type=%{customdata[2]}<br>Dim1=%{x}<br>Dim2=%{y}<br>Likert=%{customdata[1]}<extra></extra>",
         "legendgroup": "Q153, Response",
         "marker": {
          "color": "#ab63fa",
          "line": {
           "color": "black",
           "width": 0.5
          },
          "opacity": 0.85,
          "size": 10,
          "symbol": "circle"
         },
         "mode": "markers",
         "name": "Q153, Response",
         "orientation": "v",
         "showlegend": true,
         "type": "scatter",
         "x": {
          "bdata": "QXM7QRnHRUHoCi5BXZQ3QQ==",
          "dtype": "f4"
         },
         "xaxis": "x",
         "y": {
          "bdata": "/OUvQcMeJ0HTAiVBRCguQQ==",
          "dtype": "f4"
         },
         "yaxis": "y"
        },
        {
         "customdata": [
          [
           "Q153",
           1,
           "Adapted"
          ],
          [
           "Q153",
           2,
           "Adapted"
          ],
          [
           "Q153",
           3,
           "Adapted"
          ],
          [
           "Q153",
           4,
           "Adapted"
          ]
         ],
         "hovertemplate": "QID=%{customdata[0]}<br>Type=%{customdata[2]}<br>Dim1=%{x}<br>Dim2=%{y}<br>Likert=%{customdata[1]}<extra></extra>",
         "legendgroup": "Q153, Adapted",
         "marker": {
          "color": "#ab63fa",
          "line": {
           "color": "black",
           "width": 0.5
          },
          "opacity": 0.85,
          "size": 10,
          "symbol": "diamond"
         },
         "mode": "markers",
         "name": "Q153, Adapted",
         "orientation": "v",
         "showlegend": true,
         "type": "scatter",
         "x": {
          "bdata": "7cg5Qb6dTEHfGjJB0+0zQQ==",
          "dtype": "f4"
         },
         "xaxis": "x",
         "y": {
          "bdata": "pc0yQRdZIkE6BShBXd8tQQ==",
          "dtype": "f4"
         },
         "yaxis": "y"
        },
        {
         "customdata": [
          [
           "Q155",
           1,
           "Response"
          ],
          [
           "Q155",
           2,
           "Response"
          ],
          [
           "Q155",
           3,
           "Response"
          ],
          [
           "Q155",
           4,
           "Response"
          ]
         ],
         "hovertemplate": "QID=%{customdata[0]}<br>Type=%{customdata[2]}<br>Dim1=%{x}<br>Dim2=%{y}<br>Likert=%{customdata[1]}<extra></extra>",
         "legendgroup": "Q155, Response",
         "marker": {
          "color": "#FFA15A",
          "line": {
           "color": "black",
           "width": 0.5
          },
          "opacity": 0.85,
          "size": 10,
          "symbol": "circle"
         },
         "mode": "markers",
         "name": "Q155, Response",
         "orientation": "v",
         "showlegend": true,
         "type": "scatter",
         "x": {
          "bdata": "c9JBQfG0LkGeKy5Bm2YzQQ==",
          "dtype": "f4"
         },
         "xaxis": "x",
         "y": {
          "bdata": "1R4dQYZrI0F7CzFB6noTQQ==",
          "dtype": "f4"
         },
         "yaxis": "y"
        },
        {
         "customdata": [
          [
           "Q155",
           1,
           "Adapted"
          ],
          [
           "Q155",
           2,
           "Adapted"
          ],
          [
           "Q155",
           3,
           "Adapted"
          ],
          [
           "Q155",
           4,
           "Adapted"
          ]
         ],
         "hovertemplate": "QID=%{customdata[0]}<br>Type=%{customdata[2]}<br>Dim1=%{x}<br>Dim2=%{y}<br>Likert=%{customdata[1]}<extra></extra>",
         "legendgroup": "Q155, Adapted",
         "marker": {
          "color": "#FFA15A",
          "line": {
           "color": "black",
           "width": 0.5
          },
          "opacity": 0.85,
          "size": 10,
          "symbol": "diamond"
         },
         "mode": "markers",
         "name": "Q155, Adapted",
         "orientation": "v",
         "showlegend": true,
         "type": "scatter",
         "x": {
          "bdata": "QzY9QVkSMUE/4zFBh00xQQ==",
          "dtype": "f4"
         },
         "xaxis": "x",
         "y": {
          "bdata": "3okgQWEHI0EjjTRBhfkTQQ==",
          "dtype": "f4"
         },
         "yaxis": "y"
        }
       ],
       "layout": {
        "height": 750,
        "legend": {
         "title": {
          "text": "Question Groups"
         },
         "tracegroupgap": 0
        },
        "template": {
         "data": {
          "bar": [
           {
            "error_x": {
             "color": "#2a3f5f"
            },
            "error_y": {
             "color": "#2a3f5f"
            },
            "marker": {
             "line": {
              "color": "#E5ECF6",
              "width": 0.5
             },
             "pattern": {
              "fillmode": "overlay",
              "size": 10,
              "solidity": 0.2
             }
            },
            "type": "bar"
           }
          ],
          "barpolar": [
           {
            "marker": {
             "line": {
              "color": "#E5ECF6",
              "width": 0.5
             },
             "pattern": {
              "fillmode": "overlay",
              "size": 10,
              "solidity": 0.2
             }
            },
            "type": "barpolar"
           }
          ],
          "carpet": [
           {
            "aaxis": {
             "endlinecolor": "#2a3f5f",
             "gridcolor": "white",
             "linecolor": "white",
             "minorgridcolor": "white",
             "startlinecolor": "#2a3f5f"
            },
            "baxis": {
             "endlinecolor": "#2a3f5f",
             "gridcolor": "white",
             "linecolor": "white",
             "minorgridcolor": "white",
             "startlinecolor": "#2a3f5f"
            },
            "type": "carpet"
           }
          ],
          "choropleth": [
           {
            "colorbar": {
             "outlinewidth": 0,
             "ticks": ""
            },
            "type": "choropleth"
           }
          ],
          "contour": [
           {
            "colorbar": {
             "outlinewidth": 0,
             "ticks": ""
            },
            "colorscale": [
             [
              0,
              "#0d0887"
             ],
             [
              0.1111111111111111,
              "#46039f"
             ],
             [
              0.2222222222222222,
              "#7201a8"
             ],
             [
              0.3333333333333333,
              "#9c179e"
             ],
             [
              0.4444444444444444,
              "#bd3786"
             ],
             [
              0.5555555555555556,
              "#d8576b"
             ],
             [
              0.6666666666666666,
              "#ed7953"
             ],
             [
              0.7777777777777778,
              "#fb9f3a"
             ],
             [
              0.8888888888888888,
              "#fdca26"
             ],
             [
              1,
              "#f0f921"
             ]
            ],
            "type": "contour"
           }
          ],
          "contourcarpet": [
           {
            "colorbar": {
             "outlinewidth": 0,
             "ticks": ""
            },
            "type": "contourcarpet"
           }
          ],
          "heatmap": [
           {
            "colorbar": {
             "outlinewidth": 0,
             "ticks": ""
            },
            "colorscale": [
             [
              0,
              "#0d0887"
             ],
             [
              0.1111111111111111,
              "#46039f"
             ],
             [
              0.2222222222222222,
              "#7201a8"
             ],
             [
              0.3333333333333333,
              "#9c179e"
             ],
             [
              0.4444444444444444,
              "#bd3786"
             ],
             [
              0.5555555555555556,
              "#d8576b"
             ],
             [
              0.6666666666666666,
              "#ed7953"
             ],
             [
              0.7777777777777778,
              "#fb9f3a"
             ],
             [
              0.8888888888888888,
              "#fdca26"
             ],
             [
              1,
              "#f0f921"
             ]
            ],
            "type": "heatmap"
           }
          ],
          "histogram": [
           {
            "marker": {
             "pattern": {
              "fillmode": "overlay",
              "size": 10,
              "solidity": 0.2
             }
            },
            "type": "histogram"
           }
          ],
          "histogram2d": [
           {
            "colorbar": {
             "outlinewidth": 0,
             "ticks": ""
            },
            "colorscale": [
             [
              0,
              "#0d0887"
             ],
             [
              0.1111111111111111,
              "#46039f"
             ],
             [
              0.2222222222222222,
              "#7201a8"
             ],
             [
              0.3333333333333333,
              "#9c179e"
             ],
             [
              0.4444444444444444,
              "#bd3786"
             ],
             [
              0.5555555555555556,
              "#d8576b"
             ],
             [
              0.6666666666666666,
              "#ed7953"
             ],
             [
              0.7777777777777778,
              "#fb9f3a"
             ],
             [
              0.8888888888888888,
              "#fdca26"
             ],
             [
              1,
              "#f0f921"
             ]
            ],
            "type": "histogram2d"
           }
          ],
          "histogram2dcontour": [
           {
            "colorbar": {
             "outlinewidth": 0,
             "ticks": ""
            },
            "colorscale": [
             [
              0,
              "#0d0887"
             ],
             [
              0.1111111111111111,
              "#46039f"
             ],
             [
              0.2222222222222222,
              "#7201a8"
             ],
             [
              0.3333333333333333,
              "#9c179e"
             ],
             [
              0.4444444444444444,
              "#bd3786"
             ],
             [
              0.5555555555555556,
              "#d8576b"
             ],
             [
              0.6666666666666666,
              "#ed7953"
             ],
             [
              0.7777777777777778,
              "#fb9f3a"
             ],
             [
              0.8888888888888888,
              "#fdca26"
             ],
             [
              1,
              "#f0f921"
             ]
            ],
            "type": "histogram2dcontour"
           }
          ],
          "mesh3d": [
           {
            "colorbar": {
             "outlinewidth": 0,
             "ticks": ""
            },
            "type": "mesh3d"
           }
          ],
          "parcoords": [
           {
            "line": {
             "colorbar": {
              "outlinewidth": 0,
              "ticks": ""
             }
            },
            "type": "parcoords"
           }
          ],
          "pie": [
           {
            "automargin": true,
            "type": "pie"
           }
          ],
          "scatter": [
           {
            "fillpattern": {
             "fillmode": "overlay",
             "size": 10,
             "solidity": 0.2
            },
            "type": "scatter"
           }
          ],
          "scatter3d": [
           {
            "line": {
             "colorbar": {
              "outlinewidth": 0,
              "ticks": ""
             }
            },
            "marker": {
             "colorbar": {
              "outlinewidth": 0,
              "ticks": ""
             }
            },
            "type": "scatter3d"
           }
          ],
          "scattercarpet": [
           {
            "marker": {
             "colorbar": {
              "outlinewidth": 0,
              "ticks": ""
             }
            },
            "type": "scattercarpet"
           }
          ],
          "scattergeo": [
           {
            "marker": {
             "colorbar": {
              "outlinewidth": 0,
              "ticks": ""
             }
            },
            "type": "scattergeo"
           }
          ],
          "scattergl": [
           {
            "marker": {
             "colorbar": {
              "outlinewidth": 0,
              "ticks": ""
             }
            },
            "type": "scattergl"
           }
          ],
          "scattermap": [
           {
            "marker": {
             "colorbar": {
              "outlinewidth": 0,
              "ticks": ""
             }
            },
            "type": "scattermap"
           }
          ],
          "scattermapbox": [
           {
            "marker": {
             "colorbar": {
              "outlinewidth": 0,
              "ticks": ""
             }
            },
            "type": "scattermapbox"
           }
          ],
          "scatterpolar": [
           {
            "marker": {
             "colorbar": {
              "outlinewidth": 0,
              "ticks": ""
             }
            },
            "type": "scatterpolar"
           }
          ],
          "scatterpolargl": [
           {
            "marker": {
             "colorbar": {
              "outlinewidth": 0,
              "ticks": ""
             }
            },
            "type": "scatterpolargl"
           }
          ],
          "scatterternary": [
           {
            "marker": {
             "colorbar": {
              "outlinewidth": 0,
              "ticks": ""
             }
            },
            "type": "scatterternary"
           }
          ],
          "surface": [
           {
            "colorbar": {
             "outlinewidth": 0,
             "ticks": ""
            },
            "colorscale": [
             [
              0,
              "#0d0887"
             ],
             [
              0.1111111111111111,
              "#46039f"
             ],
             [
              0.2222222222222222,
              "#7201a8"
             ],
             [
              0.3333333333333333,
              "#9c179e"
             ],
             [
              0.4444444444444444,
              "#bd3786"
             ],
             [
              0.5555555555555556,
              "#d8576b"
             ],
             [
              0.6666666666666666,
              "#ed7953"
             ],
             [
              0.7777777777777778,
              "#fb9f3a"
             ],
             [
              0.8888888888888888,
              "#fdca26"
             ],
             [
              1,
              "#f0f921"
             ]
            ],
            "type": "surface"
           }
          ],
          "table": [
           {
            "cells": {
             "fill": {
              "color": "#EBF0F8"
             },
             "line": {
              "color": "white"
             }
            },
            "header": {
             "fill": {
              "color": "#C8D4E3"
             },
             "line": {
              "color": "white"
             }
            },
            "type": "table"
           }
          ]
         },
         "layout": {
          "annotationdefaults": {
           "arrowcolor": "#2a3f5f",
           "arrowhead": 0,
           "arrowwidth": 1
          },
          "autotypenumbers": "strict",
          "coloraxis": {
           "colorbar": {
            "outlinewidth": 0,
            "ticks": ""
           }
          },
          "colorscale": {
           "diverging": [
            [
             0,
             "#8e0152"
            ],
            [
             0.1,
             "#c51b7d"
            ],
            [
             0.2,
             "#de77ae"
            ],
            [
             0.3,
             "#f1b6da"
            ],
            [
             0.4,
             "#fde0ef"
            ],
            [
             0.5,
             "#f7f7f7"
            ],
            [
             0.6,
             "#e6f5d0"
            ],
            [
             0.7,
             "#b8e186"
            ],
            [
             0.8,
             "#7fbc41"
            ],
            [
             0.9,
             "#4d9221"
            ],
            [
             1,
             "#276419"
            ]
           ],
           "sequential": [
            [
             0,
             "#0d0887"
            ],
            [
             0.1111111111111111,
             "#46039f"
            ],
            [
             0.2222222222222222,
             "#7201a8"
            ],
            [
             0.3333333333333333,
             "#9c179e"
            ],
            [
             0.4444444444444444,
             "#bd3786"
            ],
            [
             0.5555555555555556,
             "#d8576b"
            ],
            [
             0.6666666666666666,
             "#ed7953"
            ],
            [
             0.7777777777777778,
             "#fb9f3a"
            ],
            [
             0.8888888888888888,
             "#fdca26"
            ],
            [
             1,
             "#f0f921"
            ]
           ],
           "sequentialminus": [
            [
             0,
             "#0d0887"
            ],
            [
             0.1111111111111111,
             "#46039f"
            ],
            [
             0.2222222222222222,
             "#7201a8"
            ],
            [
             0.3333333333333333,
             "#9c179e"
            ],
            [
             0.4444444444444444,
             "#bd3786"
            ],
            [
             0.5555555555555556,
             "#d8576b"
            ],
            [
             0.6666666666666666,
             "#ed7953"
            ],
            [
             0.7777777777777778,
             "#fb9f3a"
            ],
            [
             0.8888888888888888,
             "#fdca26"
            ],
            [
             1,
             "#f0f921"
            ]
           ]
          },
          "colorway": [
           "#636efa",
           "#EF553B",
           "#00cc96",
           "#ab63fa",
           "#FFA15A",
           "#19d3f3",
           "#FF6692",
           "#B6E880",
           "#FF97FF",
           "#FECB52"
          ],
          "font": {
           "color": "#2a3f5f"
          },
          "geo": {
           "bgcolor": "white",
           "lakecolor": "white",
           "landcolor": "#E5ECF6",
           "showlakes": true,
           "showland": true,
           "subunitcolor": "white"
          },
          "hoverlabel": {
           "align": "left"
          },
          "hovermode": "closest",
          "mapbox": {
           "style": "light"
          },
          "paper_bgcolor": "white",
          "plot_bgcolor": "#E5ECF6",
          "polar": {
           "angularaxis": {
            "gridcolor": "white",
            "linecolor": "white",
            "ticks": ""
           },
           "bgcolor": "#E5ECF6",
           "radialaxis": {
            "gridcolor": "white",
            "linecolor": "white",
            "ticks": ""
           }
          },
          "scene": {
           "xaxis": {
            "backgroundcolor": "#E5ECF6",
            "gridcolor": "white",
            "gridwidth": 2,
            "linecolor": "white",
            "showbackground": true,
            "ticks": "",
            "zerolinecolor": "white"
           },
           "yaxis": {
            "backgroundcolor": "#E5ECF6",
            "gridcolor": "white",
            "gridwidth": 2,
            "linecolor": "white",
            "showbackground": true,
            "ticks": "",
            "zerolinecolor": "white"
           },
           "zaxis": {
            "backgroundcolor": "#E5ECF6",
            "gridcolor": "white",
            "gridwidth": 2,
            "linecolor": "white",
            "showbackground": true,
            "ticks": "",
            "zerolinecolor": "white"
           }
          },
          "shapedefaults": {
           "line": {
            "color": "#2a3f5f"
           }
          },
          "ternary": {
           "aaxis": {
            "gridcolor": "white",
            "linecolor": "white",
            "ticks": ""
           },
           "baxis": {
            "gridcolor": "white",
            "linecolor": "white",
            "ticks": ""
           },
           "bgcolor": "#E5ECF6",
           "caxis": {
            "gridcolor": "white",
            "linecolor": "white",
            "ticks": ""
           }
          },
          "title": {
           "x": 0.05
          },
          "xaxis": {
           "automargin": true,
           "gridcolor": "white",
           "linecolor": "white",
           "ticks": "",
           "title": {
            "standoff": 15
           },
           "zerolinecolor": "white",
           "zerolinewidth": 2
          },
          "yaxis": {
           "automargin": true,
           "gridcolor": "white",
           "linecolor": "white",
           "ticks": "",
           "title": {
            "standoff": 15
           },
           "zerolinecolor": "white",
           "zerolinewidth": 2
          }
         }
        },
        "title": {
         "text": "UMAP of Response vs Adapted Hypotheses"
        },
        "xaxis": {
         "anchor": "y",
         "domain": [
          0,
          1
         ],
         "title": {
          "text": "Dim1"
         }
        },
        "yaxis": {
         "anchor": "x",
         "domain": [
          0,
          1
         ],
         "title": {
          "text": "Dim2"
         }
        }
       }
      }
     },
     "metadata": {},
     "output_type": "display_data"
    }
   ],
   "source": [
    "\n",
    "### (Exploration) Run UMAP on response vs adapted hypothesis embeddings ###\n",
    "%run umap_response_adapted_similarity.py"
   ]
  },
  {
   "cell_type": "code",
   "execution_count": 159,
   "id": "0499bff9",
   "metadata": {},
   "outputs": [
    {
     "name": "stderr",
     "output_type": "stream",
     "text": [
      "Encoding hypothesis groups: 100%|██████████| 130/130 [00:10<00:00, 12.34it/s]\n",
      "Scoring sampled sentences: 100%|██████████| 500/500 [01:27<00:00,  5.73it/s]\n"
     ]
    },
    {
     "data": {
      "text/html": [
       "<div>\n",
       "<style scoped>\n",
       "    .dataframe tbody tr th:only-of-type {\n",
       "        vertical-align: middle;\n",
       "    }\n",
       "\n",
       "    .dataframe tbody tr th {\n",
       "        vertical-align: top;\n",
       "    }\n",
       "\n",
       "    .dataframe thead th {\n",
       "        text-align: right;\n",
       "    }\n",
       "</style>\n",
       "<table border=\"1\" class=\"dataframe\">\n",
       "  <thead>\n",
       "    <tr style=\"text-align: right;\">\n",
       "      <th></th>\n",
       "      <th>best_matching_sentence</th>\n",
       "      <th>broad_qid</th>\n",
       "      <th>likert_scale</th>\n",
       "      <th>similarity_score</th>\n",
       "    </tr>\n",
       "  </thead>\n",
       "  <tbody>\n",
       "    <tr>\n",
       "      <th>0</th>\n",
       "      <td>that is a prerequisite for a vibrant private s...</td>\n",
       "      <td>Q152</td>\n",
       "      <td>1</td>\n",
       "      <td>0.719515</td>\n",
       "    </tr>\n",
       "    <tr>\n",
       "      <th>1</th>\n",
       "      <td>lastly, we share the faith of the ever growing...</td>\n",
       "      <td>Q171</td>\n",
       "      <td>6</td>\n",
       "      <td>0.718571</td>\n",
       "    </tr>\n",
       "    <tr>\n",
       "      <th>2</th>\n",
       "      <td>scientists throughout the world have brought t...</td>\n",
       "      <td>Q152</td>\n",
       "      <td>4</td>\n",
       "      <td>0.711145</td>\n",
       "    </tr>\n",
       "    <tr>\n",
       "      <th>3</th>\n",
       "      <td>we believe that all nations, large or small, m...</td>\n",
       "      <td>Q171</td>\n",
       "      <td>6</td>\n",
       "      <td>0.708202</td>\n",
       "    </tr>\n",
       "    <tr>\n",
       "      <th>4</th>\n",
       "      <td>for us to achieve a lasting and honorable part...</td>\n",
       "      <td>Q171</td>\n",
       "      <td>6</td>\n",
       "      <td>0.692392</td>\n",
       "    </tr>\n",
       "    <tr>\n",
       "      <th>5</th>\n",
       "      <td>we remain firmly committed to achieving, in a ...</td>\n",
       "      <td>Q171</td>\n",
       "      <td>6</td>\n",
       "      <td>0.684963</td>\n",
       "    </tr>\n",
       "    <tr>\n",
       "      <th>6</th>\n",
       "      <td>for 500 years, from columbus to rio, our fores...</td>\n",
       "      <td>Q152</td>\n",
       "      <td>4</td>\n",
       "      <td>0.684771</td>\n",
       "    </tr>\n",
       "    <tr>\n",
       "      <th>7</th>\n",
       "      <td>respect for the commitments undertaken in our ...</td>\n",
       "      <td>Q45</td>\n",
       "      <td>1</td>\n",
       "      <td>0.682834</td>\n",
       "    </tr>\n",
       "    <tr>\n",
       "      <th>8</th>\n",
       "      <td>only joint efforts and concrete deeds will bri...</td>\n",
       "      <td>Q171</td>\n",
       "      <td>6</td>\n",
       "      <td>0.679972</td>\n",
       "    </tr>\n",
       "    <tr>\n",
       "      <th>9</th>\n",
       "      <td>one people\", we are building a cohesive societ...</td>\n",
       "      <td>Q171</td>\n",
       "      <td>7</td>\n",
       "      <td>0.675610</td>\n",
       "    </tr>\n",
       "  </tbody>\n",
       "</table>\n",
       "</div>"
      ],
      "text/plain": [
       "                              best_matching_sentence broad_qid  likert_scale  \\\n",
       "0  that is a prerequisite for a vibrant private s...      Q152             1   \n",
       "1  lastly, we share the faith of the ever growing...      Q171             6   \n",
       "2  scientists throughout the world have brought t...      Q152             4   \n",
       "3  we believe that all nations, large or small, m...      Q171             6   \n",
       "4  for us to achieve a lasting and honorable part...      Q171             6   \n",
       "5  we remain firmly committed to achieving, in a ...      Q171             6   \n",
       "6  for 500 years, from columbus to rio, our fores...      Q152             4   \n",
       "7  respect for the commitments undertaken in our ...       Q45             1   \n",
       "8  only joint efforts and concrete deeds will bri...      Q171             6   \n",
       "9  one people\", we are building a cohesive societ...      Q171             7   \n",
       "\n",
       "   similarity_score  \n",
       "0          0.719515  \n",
       "1          0.718571  \n",
       "2          0.711145  \n",
       "3          0.708202  \n",
       "4          0.692392  \n",
       "5          0.684963  \n",
       "6          0.684771  \n",
       "7          0.682834  \n",
       "8          0.679972  \n",
       "9          0.675610  "
      ]
     },
     "metadata": {},
     "output_type": "display_data"
    }
   ],
   "source": [
    "### (Exploration) Measure the similarity of sampled UNGA speech sentences against the adapted hypotheses ###\n",
    "%run adapted_speech_similarity.py"
   ]
  },
  {
   "cell_type": "code",
   "execution_count": null,
   "id": "9ad62bfc",
   "metadata": {},
   "outputs": [
    {
     "data": {
      "text/html": [
       "<div>\n",
       "<style scoped>\n",
       "    .dataframe tbody tr th:only-of-type {\n",
       "        vertical-align: middle;\n",
       "    }\n",
       "\n",
       "    .dataframe tbody tr th {\n",
       "        vertical-align: top;\n",
       "    }\n",
       "\n",
       "    .dataframe thead th {\n",
       "        text-align: right;\n",
       "    }\n",
       "</style>\n",
       "<table border=\"1\" class=\"dataframe\">\n",
       "  <thead>\n",
       "    <tr style=\"text-align: right;\">\n",
       "      <th></th>\n",
       "      <th>combined_label</th>\n",
       "      <th>broad_qid</th>\n",
       "      <th>question_text</th>\n",
       "      <th>original_wvc_hypothesis</th>\n",
       "      <th>hypothesis_recoding_action</th>\n",
       "      <th>recoded_wvc_hypothesis_stem</th>\n",
       "      <th>likert_scale</th>\n",
       "      <th>response_text</th>\n",
       "      <th>response_hypothesis</th>\n",
       "      <th>adapted_hypotheses</th>\n",
       "    </tr>\n",
       "  </thead>\n",
       "  <tbody>\n",
       "    <tr>\n",
       "      <th>0</th>\n",
       "      <td>Q11_1</td>\n",
       "      <td>Q11</td>\n",
       "      <td>Important child qualities: Imagination Here is...</td>\n",
       "      <td>It is important for children to be imaginative.</td>\n",
       "      <td>keep</td>\n",
       "      <td>it is important for children to be imaginative.</td>\n",
       "      <td>1</td>\n",
       "      <td>Important</td>\n",
       "      <td>it is important for children to be imaginative.</td>\n",
       "      <td>We welcome the unfamiliar not as a threat, but...</td>\n",
       "    </tr>\n",
       "    <tr>\n",
       "      <th>1</th>\n",
       "      <td>Q11_2</td>\n",
       "      <td>Q11</td>\n",
       "      <td>Important child qualities: Imagination Here is...</td>\n",
       "      <td>It is important for children to be imaginative.</td>\n",
       "      <td>keep</td>\n",
       "      <td>it is important for children to be imaginative.</td>\n",
       "      <td>2</td>\n",
       "      <td>Not mentioned</td>\n",
       "      <td>it is not important for children to be imagina...</td>\n",
       "      <td>In our experience, the most reliable outcomes ...</td>\n",
       "    </tr>\n",
       "    <tr>\n",
       "      <th>2</th>\n",
       "      <td>Q152_1</td>\n",
       "      <td>Q152</td>\n",
       "      <td>Aims of country: first choice People sometimes...</td>\n",
       "      <td>Over the coming years, the government should e...</td>\n",
       "      <td>keep</td>\n",
       "      <td>over the coming years, the government should e...</td>\n",
       "      <td>1</td>\n",
       "      <td>A high level of economic growth</td>\n",
       "      <td>over the coming years, the government should e...</td>\n",
       "      <td>We view sustained economic expansion as a fund...</td>\n",
       "    </tr>\n",
       "    <tr>\n",
       "      <th>3</th>\n",
       "      <td>Q152_2</td>\n",
       "      <td>Q152</td>\n",
       "      <td>Aims of country: first choice People sometimes...</td>\n",
       "      <td>Over the coming years, the government should p...</td>\n",
       "      <td>reword</td>\n",
       "      <td>Over the coming years, the government should p...</td>\n",
       "      <td>2</td>\n",
       "      <td>Strong defence forces</td>\n",
       "      <td>Over the coming years, the government should p...</td>\n",
       "      <td>We affirm the necessity of a well-prepared def...</td>\n",
       "    </tr>\n",
       "    <tr>\n",
       "      <th>4</th>\n",
       "      <td>Q152_3</td>\n",
       "      <td>Q152</td>\n",
       "      <td>Aims of country: first choice People sometimes...</td>\n",
       "      <td>Over the coming years, the government should f...</td>\n",
       "      <td>keep</td>\n",
       "      <td>over the coming years, the government should f...</td>\n",
       "      <td>3</td>\n",
       "      <td>People have more say about how things are done</td>\n",
       "      <td>over the coming years, the government should f...</td>\n",
       "      <td>The legitimacy of governance depends on how me...</td>\n",
       "    </tr>\n",
       "  </tbody>\n",
       "</table>\n",
       "</div>"
      ],
      "text/plain": [
       "  combined_label broad_qid                                      question_text  \\\n",
       "0          Q11_1       Q11  Important child qualities: Imagination Here is...   \n",
       "1          Q11_2       Q11  Important child qualities: Imagination Here is...   \n",
       "2         Q152_1      Q152  Aims of country: first choice People sometimes...   \n",
       "3         Q152_2      Q152  Aims of country: first choice People sometimes...   \n",
       "4         Q152_3      Q152  Aims of country: first choice People sometimes...   \n",
       "\n",
       "                             original_wvc_hypothesis  \\\n",
       "0    It is important for children to be imaginative.   \n",
       "1    It is important for children to be imaginative.   \n",
       "2  Over the coming years, the government should e...   \n",
       "3  Over the coming years, the government should p...   \n",
       "4  Over the coming years, the government should f...   \n",
       "\n",
       "  hypothesis_recoding_action  \\\n",
       "0                       keep   \n",
       "1                       keep   \n",
       "2                       keep   \n",
       "3                     reword   \n",
       "4                       keep   \n",
       "\n",
       "                         recoded_wvc_hypothesis_stem  likert_scale  \\\n",
       "0    it is important for children to be imaginative.             1   \n",
       "1    it is important for children to be imaginative.             2   \n",
       "2  over the coming years, the government should e...             1   \n",
       "3  Over the coming years, the government should p...             2   \n",
       "4  over the coming years, the government should f...             3   \n",
       "\n",
       "                                    response_text  \\\n",
       "0                                       Important   \n",
       "1                                   Not mentioned   \n",
       "2                 A high level of economic growth   \n",
       "3                           Strong defence forces   \n",
       "4  People have more say about how things are done   \n",
       "\n",
       "                                 response_hypothesis  \\\n",
       "0    it is important for children to be imaginative.   \n",
       "1  it is not important for children to be imagina...   \n",
       "2  over the coming years, the government should e...   \n",
       "3  Over the coming years, the government should p...   \n",
       "4  over the coming years, the government should f...   \n",
       "\n",
       "                                  adapted_hypotheses  \n",
       "0  We welcome the unfamiliar not as a threat, but...  \n",
       "1  In our experience, the most reliable outcomes ...  \n",
       "2  We view sustained economic expansion as a fund...  \n",
       "3  We affirm the necessity of a well-prepared def...  \n",
       "4  The legitimacy of governance depends on how me...  "
      ]
     },
     "metadata": {},
     "output_type": "display_data"
    },
    {
     "name": "stdout",
     "output_type": "stream",
     "text": [
      "Saved grouped long-format dataframe to group_WVC_stem_encoding_complete_long.csv\n"
     ]
    }
   ],
   "source": [
    "# (Data Prep) \n",
    "# Convert the dataset into long format\n",
    "%run convert_to_long_format.py"
   ]
  },
  {
   "cell_type": "code",
   "execution_count": 6,
   "id": "1957613c",
   "metadata": {},
   "outputs": [
    {
     "name": "stdout",
     "output_type": "stream",
     "text": [
      "[2025-07-11 15:41:40,214] INFO - Loading and filtering UNGA sentences...\n"
     ]
    },
    {
     "name": "stdout",
     "output_type": "stream",
     "text": [
      "Loaded 859023 sentences; filtered down to 25703; no sampling performed.\n",
      "[2025-07-11 15:41:42,117] INFO - Added embedding_hash column to UNGA sentences.\n",
      "[2025-07-11 15:41:42,243] INFO - Saved filtered and hashed UNGA corpus to unga_wvs7_hashed_corpus.csv.\n",
      "[2025-07-11 15:41:42,244] INFO - Loading WVS dataset...\n",
      "[2025-07-11 15:41:42,250] INFO - Extracting keywords and bonus phrases (response and adapted) per combined_label...\n",
      "[2025-07-11 15:41:42,254] INFO - Use pytorch device_name: cuda:0\n",
      "[2025-07-11 15:41:42,255] INFO - Load pretrained SentenceTransformer: all-mpnet-base-v2\n"
     ]
    },
    {
     "name": "stderr",
     "output_type": "stream",
     "text": [
      "Extracting keywords and bonuses with KeyBERT + rarity: 100%|██████████| 130/130 [00:11<00:00, 10.99it/s]"
     ]
    },
    {
     "name": "stdout",
     "output_type": "stream",
     "text": [
      "\n",
      "Combined Label: Q11_1\n",
      "  Keywords: ['children imaginative', 'imaginative', 'important children', 'children']\n",
      "  Bonus phrases (Response): ['important children imaginative', 'children imaginative', 'important children']\n",
      "  Bonus phrases (Adapted): ['collective understanding', 'explore unanswered', 'encourage children', 'unfamiliar threat', 'vision wonder', 'exceed instruction', 'begin shape']\n",
      "\n",
      "Combined Label: Q11_2\n",
      "  Keywords: ['children imaginative', 'imaginative', 'important children', 'children']\n",
      "  Bonus phrases (Response): ['important children imaginative', 'children imaginative', 'important children']\n",
      "  Bonus phrases (Adapted): ['prioritize traditions', 'children gain', 'experience reliable', 'abstraction', 'emerge flights', 'ground beneath', 'offer firm']\n",
      "\n",
      "Combined Label: Q152_1\n",
      "  Keywords: ['economic growth', 'government emphasize', 'coming years', 'growth']\n",
      "  Bonus phrases (Response): ['economic growth', 'coming years government', 'government emphasize', 'emphasize high level']\n",
      "  Bonus phrases (Adapted): ['economic expansion', 'development enabling', 'prioritize job', 'remains committed', 'integration global', 'fundamental pathway', 'drive inclusive']\n",
      "\n",
      "Combined Label: Q152_2\n",
      "  Keywords: ['government prioritize', 'defense forces', 'prioritize ensuring', 'strong defense']\n",
      "  Bonus phrases (Response): ['government prioritize ensuring', 'country strong defense', 'years government', 'coming years']\n",
      "  Bonus phrases (Adapted): ['strategic readiness', 'peace precondition', 'security opposite', 'nation people', 'posture ensure', 'forces', 'continue']\n",
      "\n",
      "Combined Label: Q152_3\n",
      "  Keywords: ['government focus', 'government', 'jobs communities', 'jobs']\n",
      "  Bonus phrases (Response): ['government focus ensuring', 'jobs communities', 'coming years', 'say things']\n",
      "  Bonus phrases (Adapted): ['legitimacy governance', 'permanent veto', 'consensus including', 'envision future', 'voice shaping', 'local', 'including reexamination']\n",
      "\n",
      "Combined Label: Q152_4\n",
      "  Keywords: ['government prioritize', 'cities countryside', 'countryside beautiful', 'nation cities']\n",
      "  Bonus phrases (Response): ['cities countryside beautiful', 'years government prioritize', 'coming years', 'work make']\n",
      "  Bonus phrases (Adapted): ['environmental integrity', 'balance planet', 'policy rural', 'beauty', 'efforts reduce', 'years come', 'protect shared']\n",
      "\n",
      "Combined Label: Q153_1\n",
      "  Keywords: ['economic growth', 'government emphasize', 'coming years', 'growth']\n",
      "  Bonus phrases (Response): ['economic growth', 'years government emphasize', 'coming years', 'emphasize high level']\n",
      "  Bonus phrases (Adapted): ['economic expansion', 'development enabling', 'prioritize job', 'remains committed', 'integration global', 'fundamental pathway', 'drive inclusive']\n",
      "\n",
      "Combined Label: Q153_2\n",
      "  Keywords: ['government prioritize', 'defense forces', 'prioritize ensuring', 'government']\n",
      "  Bonus phrases (Response): ['government prioritize ensuring', 'country strong defense', 'years government', 'coming years']\n",
      "  Bonus phrases (Adapted): ['strategic readiness', 'peace precondition', 'security opposite', 'nation people', 'posture ensure', 'forces', 'continue']\n",
      "\n",
      "Combined Label: Q153_3\n",
      "  Keywords: ['government focus', 'government', 'jobs communities', 'ensuring people']\n",
      "  Bonus phrases (Response): ['government focus ensuring', 'jobs communities', 'coming years', 'say things']\n",
      "  Bonus phrases (Adapted): ['legitimacy governance', 'permanent veto', 'consensus including', 'envision future', 'voice shaping', 'local', 'including reexamination']\n",
      "\n",
      "Combined Label: Q153_4\n",
      "  Keywords: ['government prioritize', 'cities countryside', 'nation cities', 'countryside beautiful']\n",
      "  Bonus phrases (Response): ['government prioritize work', 'cities countryside beautiful', 'make nation', 'coming years']\n",
      "  Bonus phrases (Adapted): ['environmental integrity', 'balance planet', 'policy rural', 'beauty', 'efforts reduce', 'years come', 'protect shared']\n",
      "\n",
      "Combined Label: Q154_1\n",
      "  Keywords: ['maintaining order', 'order nation', 'nation utmost', 'utmost importance']\n",
      "  Bonus phrases (Response): ['maintaining order nation', 'nation utmost importance', 'nation utmost', 'utmost importance']\n",
      "  Bonus phrases (Adapted): ['stability nation', 'responsibilities order', 'virtue prerequisite', 'abstract', 'recognize internal', 'frameworks depend', 'odds fulfill']\n",
      "\n",
      "Combined Label: Q154_2\n",
      "  Keywords: ['important government', 'government decisions', 'say important', 'utmost importance']\n",
      "  Bonus phrases (Response): ['say important government', 'decisions utmost', 'giving people', 'people say']\n",
      "  Bonus phrases (Adapted): ['national dialogue', 'internationally support', 'expanding civic', 'future belong', 'just firmly', 'making including', 'oxygen']\n",
      "\n",
      "Combined Label: Q154_3\n",
      "  Keywords: ['rising prices', 'utmost importance', 'prices utmost', 'importance']\n",
      "  Bonus phrases (Response): ['fighting rising prices', 'prices utmost importance', 'utmost importance', 'fighting rising']\n",
      "  Bonus phrases (Adapted): ['food security', 'economic volatility', 'prices merely', 'enhanced international', 'rise dignity', 'recognize urgency', 'shocks control']\n",
      "\n",
      "Combined Label: Q154_4\n",
      "  Keywords: ['freedom speech', 'protecting freedom', 'utmost importance', 'importance']\n",
      "  Bonus phrases (Response): ['protecting freedom speech', 'freedom speech utmost', 'utmost importance', 'speech utmost']\n",
      "  Bonus phrases (Adapted): ['safeguard journalists', 'censors voice', 'discourse', 'public good', 'powerful reject', 'breathes free', 'international']\n",
      "\n",
      "Combined Label: Q155_1\n",
      "  Keywords: ['maintaining order', 'additional priority', 'order nation', 'priority']\n",
      "  Bonus phrases (Response): ['maintaining order nation', 'nation additional priority', 'additional priority', 'nation additional']\n",
      "  Bonus phrases (Adapted): ['stability nation', 'responsibilities order', 'virtue prerequisite', 'abstract', 'recognize internal', 'frameworks depend', 'odds fulfill']\n",
      "\n",
      "Combined Label: Q155_2\n",
      "  Keywords: ['important government', 'additional priority', 'government decisions', 'say important']\n",
      "  Bonus phrases (Response): ['government decisions additional', 'additional priority', 'say important', 'people say']\n",
      "  Bonus phrases (Adapted): ['national dialogue', 'internationally support', 'expanding civic', 'future belong', 'just firmly', 'making including', 'oxygen']\n",
      "\n",
      "Combined Label: Q155_3\n",
      "  Keywords: ['rising prices', 'additional priority', 'priority', 'rising']\n",
      "  Bonus phrases (Response): ['fighting rising prices', 'additional priority', 'prices additional', 'fighting rising']\n",
      "  Bonus phrases (Adapted): ['food security', 'economic volatility', 'prices merely', 'enhanced international', 'rise dignity', 'recognize urgency', 'shocks control']\n",
      "\n",
      "Combined Label: Q155_4\n",
      "  Keywords: ['protecting freedom', 'freedom speech', 'additional priority', 'priority']\n",
      "  Bonus phrases (Response): ['protecting freedom speech', 'freedom speech additional', 'additional priority', 'speech additional']\n",
      "  Bonus phrases (Adapted): ['safeguard journalists', 'censors voice', 'discourse', 'public good', 'powerful reject', 'breathes free', 'international']\n",
      "\n",
      "Combined Label: Q171_1\n",
      "  Keywords: ['attendance religious', 'religious services', 'frequent attendance', 'religious']\n",
      "  Bonus phrases (Response): ['frequent attendance religious', 'attendance religious services', 'religious services', 'frequent attendance']\n",
      "  Bonus phrases (Adapted): ['sermon arab', 'nations reconciliation', 'today blessed', 'reaffirm message', 'spirit walk', 'best', 'charge pursue']\n",
      "\n",
      "Combined Label: Q171_2\n",
      "  Keywords: ['attendance religious', 'religious services', 'regular attendance', 'religious']\n",
      "  Bonus phrases (Response): ['attendance religious services', 'regular attendance religious', 'religious services', 'regular attendance']\n",
      "  Bonus phrases (Adapted): ['seek harmony', 'shaped qur', 'moses', 'borders let', 'mount inspire', 'teacher law', 'memory']\n",
      "\n",
      "Combined Label: Q171_3\n",
      "  Keywords: ['attendance religious', 'religious services', 'occasional attendance', 'religious']\n",
      "  Bonus phrases (Response): ['occasional attendance religious', 'attendance religious services', 'religious services', 'occasional attendance']\n",
      "  Bonus phrases (Adapted): ['prophets justice', 'remains jewish', 'reconciliation decisions', 'extend kindness', 'compass scripture', 'highest', 'guide efforts']\n",
      "\n",
      "Combined Label: Q171_4\n",
      "  Keywords: ['attendance religious', 'religious services', 'holy days', 'attendance']\n",
      "  Bonus phrases (Response): ['attendance religious services', 'holy days', 'special holy', 'services special']\n",
      "  Bonus phrases (Adapted): ['faith spirit', 'understanding moral', 'peace equality', 'calls accountability', 'moves mutual', 'thousands years', 'shaped']\n",
      "\n",
      "Combined Label: Q171_5\n",
      "  Keywords: ['attendance religious', 'religious services', 'rare attendance', 'attendance']\n",
      "  Bonus phrases (Response): ['rare attendance religious', 'attendance religious services', 'religious services', 'rare attendance']\n",
      "  Bonus phrases (Adapted): ['moral leadership', 'oppressed', 'regional global', 'action arises', 'modern approaches', 'quiet foundation', 'shared']\n",
      "\n",
      "Combined Label: Q171_6\n",
      "  Keywords: ['attendance religious', 'religious services', 'rare attendance', 'attendance']\n",
      "  Bonus phrases (Response): ['rare attendance religious', 'attendance religious services', 'religious services', 'rare attendance']\n",
      "  Bonus phrases (Adapted): ['global peace', 'accountability cooperation', 'ideology guides', 'strength moral', 'legal precedent', 'path', 'built']\n",
      "\n",
      "Combined Label: Q171_7\n",
      "  Keywords: ['attendance religious', 'negligible attendance', 'attendance negligible', 'religious services']\n",
      "  Bonus phrases (Response): ['negligible attendance religious', 'attendance religious services', 'attendance negligible', 'religious services']\n",
      "  Bonus phrases (Adapted): ['prosperity innovation', 'science education', 'global stability', 'cultural respect', 'challenges open', 'international', 'depends shared']\n",
      "\n",
      "Combined Label: Q173_1\n",
      "  Keywords: ['religiosity inseparable', 'religiosity', 'inseparable', 'inseparable identity']\n",
      "  Bonus phrases (Response): ['religiosity inseparable identity', 'religiosity inseparable', 'inseparable identity']\n",
      "  Bonus phrases (Adapted): ['voice speak', 'walk allah', 'remembrance torah', 'compass inseparable', 'today shaped', 'meaning', 'conviction decisions']\n",
      "\n",
      "Combined Label: Q173_2\n",
      "  Keywords: ['religiosity', 'religiosity central', 'identity', 'central identity']\n",
      "  Bonus phrases (Response): ['religiosity central identity', 'religiosity central', 'central identity']\n",
      "  Bonus phrases (Adapted): ['civic selfhood', 'prayer allowing', 'doctrine define', 'principles guide', 'shaping kneel', 'multiple sources', 'belief bound']\n",
      "\n",
      "Combined Label: Q173_3\n",
      "  Keywords: ['religiosity', 'religiosity considered', 'considered identity', 'identity']\n",
      "  Bonus phrases (Response): ['religiosity considered identity', 'religiosity considered', 'considered identity']\n",
      "  Bonus phrases (Adapted): ['persons communities', 'formed sacred', 'locate identity', 'laws belief', 'democratic', 'civic memory', 'contracts historical']\n",
      "\n",
      "Combined Label: Q178_1\n",
      "  Keywords: ['avoiding fare', 'transportation justifiable', 'fare public', 'justifiable']\n",
      "  Bonus phrases (Response): ['public transportation justifiable', 'avoiding fare', 'fare public', 'public transportation']\n",
      "  Bonus phrases (Adapted): ['civic responsibilities', 'transportation accepting', 'integrity measured', 'structure', 'selectively neglect', 'mutual', 'erode principle']\n",
      "\n",
      "Combined Label: Q178_10\n",
      "  Keywords: ['avoiding fare', 'eminently justifiable', 'justifiable', 'fare public']\n",
      "  Bonus phrases (Response): ['transportation eminently justifiable', 'avoiding fare public', 'eminently justifiable', 'public transportation']\n",
      "  Bonus phrases (Adapted): ['compulsory contribution', 'lawlessness', 'speech symbolic', 'settings refusal', 'structure demands', 'seen', 'erodes does']\n",
      "\n",
      "Combined Label: Q178_2\n",
      "  Keywords: ['avoiding fare', 'transportation justifiable', 'fare public', 'public transportation']\n",
      "  Bonus phrases (Response): ['public transportation justifiable', 'avoiding fare', 'fare public', 'public transportation']\n",
      "  Bonus phrases (Adapted): ['institutional responsibilities', 'structure', 'systems falter', 'evasion shared', 'costs', 'rarely', 'bearing smallest']\n",
      "\n",
      "Combined Label: Q178_3\n",
      "  Keywords: ['avoiding fare', 'rarely justifiable', 'fare public', 'public transportation']\n",
      "  Bonus phrases (Response): ['avoiding fare', 'transportation rarely justifiable', 'public transportation rarely', 'rarely justifiable']\n",
      "  Bonus phrases (Adapted): ['civic duties', 'patterns institutional', 'seldom respected', 'acts disengagement', 'neglecting small', 'shared systems', 'erosion']\n",
      "\n",
      "Combined Label: Q178_4\n",
      "  Keywords: ['avoiding fare', 'fare public', 'seldom justifiable', 'public transportation']\n",
      "  Bonus phrases (Response): ['avoiding fare', 'transportation seldom justifiable', 'public transportation seldom', 'seldom justifiable']\n",
      "  Bonus phrases (Adapted): ['communal upkeep', 'duties serve', 'principled stance', 'deferring', 'seldom case', 'entity enables', 'stress marginal']\n",
      "\n",
      "Combined Label: Q178_5\n",
      "  Keywords: ['avoiding fare', 'transportation justifiable', 'fare public', 'public transportation']\n",
      "  Bonus phrases (Response): ['avoiding fare', 'transportation justifiable', 'fare public transportation', 'public transportation']\n",
      "  Bonus phrases (Adapted): ['institutional obligations', 'ideal reality', 'moments', 'accommodate complexities', 'rule exception', 'refrain', 'pre defined']\n",
      "\n",
      "Combined Label: Q178_6\n",
      "  Keywords: ['avoiding fare', 'occasionally justifiable', 'fare public', 'public transportation']\n",
      "  Bonus phrases (Response): ['avoiding fare', 'transportation occasionally justifiable', 'occasionally justifiable', 'public transportation occasionally']\n",
      "  Bonus phrases (Adapted): ['formal duties', 'disengagement', 'unequal burdens', 'reflects defiance', 'infrequent lapses', 'contextual malicious', 'structure absorb']\n",
      "\n",
      "Combined Label: Q178_7\n",
      "  Keywords: ['avoiding fare', 'fare public', 'public transportation', 'justifiable']\n",
      "  Bonus phrases (Response): ['avoiding fare', 'fare public transportation', 'somewhat justifiable', 'transportation somewhat']\n",
      "  Bonus phrases (Adapted): ['non compliance', 'symbolic hardship', 'equity contributions', 'cases', 'does', 'softened conditions', 'evenly shoulders']\n",
      "\n",
      "Combined Label: Q178_8\n",
      "  Keywords: ['avoiding fare', 'transportation justifiable', 'fare public', 'justifiable']\n",
      "  Bonus phrases (Response): ['public transportation justifiable', 'avoiding fare', 'fare public', 'public transportation']\n",
      "  Bonus phrases (Adapted): ['noncompliance', 'tensions outright', 'minimal contributions', 'communal', 'subtle', 'constraints choose', 'imbalance racts']\n",
      "\n",
      "Combined Label: Q178_9\n",
      "  Keywords: ['avoiding fare', 'fare public', 'justifiable', 'public transportation']\n",
      "  Bonus phrases (Response): ['avoiding fare', 'fare public transportation', 'nearly justifiable', 'transportation nearly']\n",
      "  Bonus phrases (Adapted): ['refusals acts', 'broader disconnection', 'opting token', 'members quiet', 'house', 'longer recognizes', 'fact expression']\n",
      "\n",
      "Combined Label: Q17_1\n",
      "  Keywords: ['children obedient', 'obedient', 'important children', 'children']\n",
      "  Bonus phrases (Response): ['children obedient', 'important children obedient', 'important children']\n",
      "  Bonus phrases (Adapted): ['ordered society', 'restraint especially', 'conduct grounded', 'listen', 'essential cohesion', 'path', 'yield strength']\n",
      "\n",
      "Combined Label: Q17_2\n",
      "  Keywords: ['children obedient', 'obedient', 'important children', 'children']\n",
      "  Bonus phrases (Response): ['children obedient', 'important children obedient', 'important children']\n",
      "  Bonus phrases (Adapted): ['civic responsibility', 'ability question', 'progress reward', 'true', 'assumed young', 'merely absorb', 'thrive invited']\n",
      "\n",
      "Combined Label: Q180_1\n",
      "  Keywords: ['taxes justifiable', 'cheating taxes', 'justifiable', 'taxes']\n",
      "  Bonus phrases (Response): ['cheating taxes justifiable', 'taxes justifiable', 'cheating taxes']\n",
      "  Bonus phrases (Adapted): ['financing integrity', 'collective burden', 'contributions benefit', 'taxes minor', 'fair', 'transparent proportional', 'especially matters']\n",
      "\n",
      "Combined Label: Q180_10\n",
      "  Keywords: ['taxes justifiable', 'cheating taxes', 'justifiable', 'taxes']\n",
      "  Bonus phrases (Response): ['cheating taxes justifiable', 'taxes justifiable', 'cheating taxes']\n",
      "  Bonus phrases (Adapted): ['financial disclosure', 'injustice abstaining', 'conceal power', 'contributing mean', 'exploitation routine', 'necessary', 'power failure']\n",
      "\n",
      "Combined Label: Q180_2\n",
      "  Keywords: ['taxes justifiable', 'cheating taxes', 'justifiable', 'taxes']\n",
      "  Bonus phrases (Response): ['cheating taxes justifiable', 'taxes justifiable', 'cheating taxes']\n",
      "  Bonus phrases (Adapted): ['evasion financial', 'governance capacity', 'justify benefitting', 'ambiguity', 'begins', 'strain transparent', 'rarely compatible']\n",
      "\n",
      "Combined Label: Q180_3\n",
      "  Keywords: ['cheating taxes', 'justifiable', 'hardly justifiable', 'taxes hardly']\n",
      "  Bonus phrases (Response): ['cheating taxes hardly', 'taxes hardly justifiable', 'hardly justifiable', 'taxes hardly']\n",
      "  Bonus phrases (Adapted): ['financial concealment', 'burden society', 'corrode shared', 'giving seen', 'goals quietly', 'fair', 'positioned support']\n",
      "\n",
      "Combined Label: Q180_4\n",
      "  Keywords: ['cheating taxes', 'seldom justifiable', 'taxes seldom', 'justifiable']\n",
      "  Bonus phrases (Response): ['cheating taxes seldom', 'taxes seldom justifiable', 'seldom justifiable', 'taxes seldom']\n",
      "  Bonus phrases (Adapted): ['masking financial', 'solidarity fairly', 'contexts', 'withdrawals', 'opting support', 'seldom strengthens', 'cost']\n",
      "\n",
      "Combined Label: Q180_5\n",
      "  Keywords: ['cheating taxes', 'rarely justifiable', 'taxes rarely', 'justifiable']\n",
      "  Bonus phrases (Response): ['cheating taxes rarely', 'taxes rarely justifiable', 'rarely justifiable', 'taxes rarely']\n",
      "  Bonus phrases (Adapted): ['participation withholding', 'hardship exists', 'structural reform', 'deemed proportionate', 'ethical substitute', 'binds shared', 'rare cases']\n",
      "\n",
      "Combined Label: Q180_6\n",
      "  Keywords: ['cheating taxes', 'occasionally justifiable', 'justifiable', 'taxes occasionally']\n",
      "  Bonus phrases (Response): ['cheating taxes occasionally', 'taxes occasionally justifiable', 'occasionally justifiable', 'taxes occasionally']\n",
      "  Bonus phrases (Adapted): ['withholding', 'participation burden', 'financial transparency', 'contribution betrayal', 'reflects protest', 'unseen pressure', 'understanding context']\n",
      "\n",
      "Combined Label: Q180_7\n",
      "  Keywords: ['taxes justifiable', 'cheating taxes', 'justifiable', 'taxes']\n",
      "  Bonus phrases (Response): ['cheating taxes justifiable', 'taxes justifiable', 'cheating taxes']\n",
      "  Bonus phrases (Adapted): ['financial noncompliance', 'retreat fiscal', 'participation unjust', 'giving', 'fatigue moral', 'alternative left', 'defiance opaque']\n",
      "\n",
      "Combined Label: Q180_8\n",
      "  Keywords: ['taxes justifiable', 'cheating taxes', 'justifiable', 'taxes']\n",
      "  Bonus phrases (Response): ['cheating taxes justifiable', 'taxes justifiable', 'cheating taxes']\n",
      "  Bonus phrases (Adapted): ['obligation reflection', 'public systems', 'contribute simply', 'disengage structures', 'inequality expectation', 'widespread', 'cases']\n",
      "\n",
      "Combined Label: Q180_9\n",
      "  Keywords: ['taxes justifiable', 'cheating taxes', 'justifiable', 'taxes']\n",
      "  Bonus phrases (Response): ['cheating taxes justifiable', 'taxes justifiable', 'cheating taxes']\n",
      "  Bonus phrases (Adapted): ['withholding', 'disengagement contexts', 'response dishonest', 'framework participation', 'merely tolerated', 'structures reproduce', 'systems long']\n",
      "\n",
      "Combined Label: Q181_1\n",
      "  Keywords: ['accepting bribe', 'bribe', 'duties justifiable', 'bribe course']\n",
      "  Bonus phrases (Response): ['accepting bribe', 'duties justifiable', 'bribe course', 'course duties']\n",
      "  Bonus phrases (Adapted): ['bribe', 'public responsibility', 'credible trust', 'official', 'reject notion', 'collapses', 'leased personal']\n",
      "\n",
      "Combined Label: Q181_10\n",
      "  Keywords: ['accepting bribe', 'bribe', 'bribe course', 'perfectly justifiable']\n",
      "  Bonus phrases (Response): ['accepting bribe', 'perfectly justifiable', 'duties perfectly', 'course duties']\n",
      "  Bonus phrases (Adapted): ['governance', 'informal value', 'negotiable exception', 'accept benefit', 'duty broken', 'conditions systemic', 'afloat environments']\n",
      "\n",
      "Combined Label: Q181_2\n",
      "  Keywords: ['accepting bribe', 'bribe', 'duties justifiable', 'bribe course']\n",
      "  Bonus phrases (Response): ['accepting bribe', 'duties justifiable', 'bribe course', 'course duties']\n",
      "  Bonus phrases (Adapted): ['private inducement', 'moral standing', 'rarely does', 'complexity exists', 'transparency yield', 'coexist damaging', 'nearly']\n",
      "\n",
      "Combined Label: Q181_3\n",
      "  Keywords: ['accepting bribe', 'bribe', 'bribe course', 'duties hardly']\n",
      "  Bonus phrases (Response): ['accepting bribe', 'duties hardly justifiable', 'hardly justifiable', 'course duties']\n",
      "  Bonus phrases (Adapted): ['official impartiality', 'private favors', 'compromises concept', 'hollow role', 'cost institutional', 'gain', 'survives entanglement']\n",
      "\n",
      "Combined Label: Q181_4\n",
      "  Keywords: ['accepting bribe', 'bribe', 'bribe course', 'seldom justifiable']\n",
      "  Bonus phrases (Response): ['accepting bribe', 'seldom justifiable', 'duties seldom', 'course duties']\n",
      "  Bonus phrases (Adapted): ['negotiated authority', 'crimes', 'converting duty', 'transaction seldom', 'decay begins', 'subtle', 'line responsiveness']\n",
      "\n",
      "Combined Label: Q181_5\n",
      "  Keywords: ['accepting bribe', 'bribe', 'bribe course', 'rarely justifiable']\n",
      "  Bonus phrases (Response): ['accepting bribe', 'rarely justifiable', 'duties rarely', 'course duties']\n",
      "  Bonus phrases (Adapted): ['monetization mandate', 'moral ambiguity', 'informal exchanges', 'forfeits', 'produce', 'rare cases', 'systems strain']\n",
      "\n",
      "Combined Label: Q181_6\n",
      "  Keywords: ['accepting bribe', 'bribe', 'bribe course', 'occasionally justifiable']\n",
      "  Bonus phrases (Response): ['accepting bribe', 'bribe course', 'occasionally justifiable', 'course duties']\n",
      "  Bonus phrases (Adapted): ['institutional failures', 'informal benefit', 'duty coexists', 'appears self', 'transitional settings', 'gain occasionally', 'masks deeper']\n",
      "\n",
      "Combined Label: Q181_7\n",
      "  Keywords: ['accepting bribe', 'bribe', 'duties justifiable', 'bribe course']\n",
      "  Bonus phrases (Response): ['accepting bribe', 'duties justifiable', 'bribe course', 'course duties']\n",
      "  Bonus phrases (Adapted): ['reflects corruption', 'negotiated discretion', 'forms unofficial', 'systems', 'exchange mirror', 'exclusion certain', 'substitute']\n",
      "\n",
      "Combined Label: Q181_8\n",
      "  Keywords: ['accepting bribe', 'bribe', 'duties justifiable', 'bribe course']\n",
      "  Bonus phrases (Response): ['accepting bribe', 'duties justifiable', 'bribe course', 'course duties']\n",
      "  Bonus phrases (Adapted): ['unjust bureaucracies', 'informal exchange', 'reward imperfect', 'respect servants', 'workaround', 'path effectiveness', 'official cover']\n",
      "\n",
      "Combined Label: Q181_9\n",
      "  Keywords: ['accepting bribe', 'bribe', 'duties justifiable', 'bribe course']\n",
      "  Bonus phrases (Response): ['accepting bribe', 'duties justifiable', 'bribe course', 'course duties']\n",
      "  Bonus phrases (Adapted): ['discretionary roles', 'necessity malice', 'unofficial rewards', 'survival serve', 'gain', 'quietly', 'systems hollowed']\n",
      "\n",
      "Combined Label: Q182_1\n",
      "  Keywords: ['homosexuality justifiable', 'homosexuality', 'justifiable']\n",
      "  Bonus phrases (Response): ['homosexuality justifiable']\n",
      "  Bonus phrases (Adapted): ['justification homosexuality', 'man woman', 'foundations union', 'spectrum self', 'visible alignment', 'narratives increasingly', 'order normalize']\n",
      "\n",
      "Combined Label: Q182_10\n",
      "  Keywords: ['completely justifiable', 'homosexuality completely', 'justifiable', 'homosexuality']\n",
      "  Bonus phrases (Response): ['homosexuality completely justifiable', 'completely justifiable', 'homosexuality completely']\n",
      "  Bonus phrases (Adapted): ['lgbt identities', 'love truth', 'exception human', 'affirm hesitation', 'worthy', 'orientations', 'highest ideals']\n",
      "\n",
      "Combined Label: Q182_2\n",
      "  Keywords: ['homosexuality justifiable', 'homosexuality', 'justifiable']\n",
      "  Bonus phrases (Response): ['homosexuality justifiable']\n",
      "  Bonus phrases (Adapted): ['lgbt lifestyles', 'tolerance virtue', 'cost moral', 'clarity', 'guide laws', 'anchors disregarded', 'begin weaken']\n",
      "\n",
      "Combined Label: Q182_3\n",
      "  Keywords: ['homosexuality hardly', 'homosexuality', 'hardly justifiable', 'justifiable']\n",
      "  Bonus phrases (Response): ['homosexuality hardly justifiable', 'homosexuality hardly', 'hardly justifiable']\n",
      "  Bonus phrases (Adapted): ['values lgbt', 'difference', 'entail justification', 'categories visible', 'resist', 'remains incompatible', 'erosion inherited']\n",
      "\n",
      "Combined Label: Q182_4\n",
      "  Keywords: ['homosexuality seldom', 'seldom justifiable', 'homosexuality', 'justifiable']\n",
      "  Bonus phrases (Response): ['homosexuality seldom justifiable', 'homosexuality seldom', 'seldom justifiable']\n",
      "  Bonus phrases (Adapted): ['lgbt expression', 'family virtue', 'shifting social', 'lawful', 'tides remain', 'tolerance rarely', 'does']\n",
      "\n",
      "Combined Label: Q182_5\n",
      "  Keywords: ['homosexuality rarely', 'rarely justifiable', 'homosexuality', 'justifiable']\n",
      "  Bonus phrases (Response): ['homosexuality rarely justifiable', 'homosexuality rarely', 'rarely justifiable']\n",
      "  Bonus phrases (Adapted): ['homosexuality tolerated', 'cultural shifts', 'values family', 'forms identity', 'make room', 'variation losing', 'dialogue default']\n",
      "\n",
      "Combined Label: Q182_6\n",
      "  Keywords: ['occasionally justifiable', 'homosexuality occasionally', 'homosexuality', 'justifiable']\n",
      "  Bonus phrases (Response): ['homosexuality occasionally justifiable', 'occasionally justifiable', 'homosexuality occasionally']\n",
      "  Bonus phrases (Adapted): ['lgbt communities', 'deviations dignity', 'believe expressions', 'integrated', 'models tolerance', 'promotion mark', 'expand erasing']\n",
      "\n",
      "Combined Label: Q182_7\n",
      "  Keywords: ['homosexuality justifiable', 'justifiable', 'homosexuality']\n",
      "  Bonus phrases (Response): ['homosexuality justifiable']\n",
      "  Bonus phrases (Adapted): ['lgbt people', 'exclusion moral', 'accept difference', 'agree', 'unseen unheard', 'does necessitate', 'space long']\n",
      "\n",
      "Combined Label: Q182_8\n",
      "  Keywords: ['homosexuality justifiable', 'justifiable', 'homosexuality']\n",
      "  Bonus phrases (Response): ['homosexuality justifiable']\n",
      "  Bonus phrases (Adapted): ['lgbt individuals', 'inclusion strengthens', 'excludes difference', 'denied', 'brilliance', 'square expand', 'shared']\n",
      "\n",
      "Combined Label: Q182_9\n",
      "  Keywords: ['homosexuality justifiable', 'justifiable', 'homosexuality']\n",
      "  Bonus phrases (Response): ['homosexuality justifiable']\n",
      "  Bonus phrases (Adapted): ['honoring lgbt', 'diverse forms', 'identity confusion', 'erosion ethical', 'good', 'rare', 'complexity worth']\n",
      "\n",
      "Combined Label: Q184_1\n",
      "  Keywords: ['abortion justifiable', 'abortion', 'justifiable']\n",
      "  Bonus phrases (Response): ['abortion justifiable']\n",
      "  Bonus phrases (Adapted): ['pro life', 'law continuation', 'preference regard', 'human lineage', 'creator distinguished', 'denies breath', 'view rests']\n",
      "\n",
      "Combined Label: Q184_10\n",
      "  Keywords: ['easily justifiable', 'abortion easily', 'abortion', 'justifiable']\n",
      "  Bonus phrases (Response): ['abortion easily justifiable', 'easily justifiable', 'abortion easily']\n",
      "  Bonus phrases (Adapted): ['pro choice', 'conscience safety', 'continuation readiness', 'sacred includes', 'easily', 'welcome', 'know weight']\n",
      "\n",
      "Combined Label: Q184_2\n",
      "  Keywords: ['abortion justifiable', 'abortion', 'justifiable']\n",
      "  Bonus phrases (Response): ['abortion justifiable']\n",
      "  Bonus phrases (Adapted): ['pro life', 'intention law', 'interrupting', 'tradition dire', 'image divine', 'smallest voice', 'weighs heavier']\n",
      "\n",
      "Combined Label: Q184_3\n",
      "  Keywords: ['abortion hardly', 'abortion', 'hardly justifiable', 'justifiable']\n",
      "  Bonus phrases (Response): ['abortion hardly justifiable', 'abortion hardly', 'hardly justifiable']\n",
      "  Bonus phrases (Adapted): ['justify abortion', 'breath life', 'ought extinguished', 'values teach', 'ending potential', 'personal', 'cases weight']\n",
      "\n",
      "Combined Label: Q184_4\n",
      "  Keywords: ['abortion seldom', 'seldom justifiable', 'abortion', 'justifiable']\n",
      "  Bonus phrases (Response): ['abortion seldom justifiable', 'abortion seldom', 'seldom justifiable']\n",
      "  Bonus phrases (Adapted): ['abortion remains', 'conflict cultural', 'burden decision', 'life arrives', 'occurs inner', 'uncertainty clouds', 'accepted']\n",
      "\n",
      "Combined Label: Q184_5\n",
      "  Keywords: ['abortion rarely', 'rarely justifiable', 'abortion', 'justifiable']\n",
      "  Bonus phrases (Response): ['abortion rarely justifiable', 'abortion rarely', 'rarely justifiable']\n",
      "  Bonus phrases (Adapted): ['abortion tolerated', 'debate protection', 'exceptions redefine', 'life urges', 'rare', 'begins', 'fragility potential']\n",
      "\n",
      "Combined Label: Q184_6\n",
      "  Keywords: ['abortion occasionally', 'occasionally justifiable', 'abortion', 'justifiable']\n",
      "  Bonus phrases (Response): ['abortion occasionally justifiable', 'abortion occasionally', 'occasionally justifiable']\n",
      "  Bonus phrases (Adapted): ['abortion occasionally', 'nuance laws', 'dignity health', 'necessary protect', 'potential life', 'flexibility difficult', 'cost existing']\n",
      "\n",
      "Combined Label: Q184_7\n",
      "  Keywords: ['abortion justifiable', 'abortion', 'justifiable']\n",
      "  Bonus phrases (Response): ['abortion justifiable']\n",
      "  Bonus phrases (Adapted): ['abortion justified', 'situational ethics', 'choosing continue', 'convenience', 'lies', 'duties easy', 'weigh conflicting']\n",
      "\n",
      "Combined Label: Q184_8\n",
      "  Keywords: ['abortion justifiable', 'abortion', 'justifiable']\n",
      "  Bonus phrases (Response): ['abortion justifiable']\n",
      "  Bonus phrases (Adapted): ['moral agency', 'body abortion', 'demand continuation', 'trust women', 'questions', 'amid difficult', 'includes']\n",
      "\n",
      "Combined Label: Q184_9\n",
      "  Keywords: ['abortion justifiable', 'abortion', 'justifiable']\n",
      "  Bonus phrases (Response): ['abortion justifiable']\n",
      "  Bonus phrases (Adapted): ['pro choice', 'perspective affirms', 'equity autonomy', 'does coerce', 'affirm protection', 'just', 'guide']\n",
      "\n",
      "Combined Label: Q185_1\n",
      "  Keywords: ['divorce justifiable', 'divorce', 'justifiable']\n",
      "  Bonus phrases (Response): ['divorce justifiable']\n",
      "  Bonus phrases (Adapted): ['affirms marital', 'family conviction', 'faith law', 'partnership cornerstone', 'pro', 'ethical spine', 'abandoned dissolve']\n",
      "\n",
      "Combined Label: Q185_10\n",
      "  Keywords: ['divorce completely', 'divorce', 'completely justifiable', 'justifiable']\n",
      "  Bonus phrases (Response): ['divorce completely justifiable', 'divorce completely', 'completely justifiable']\n",
      "  Bonus phrases (Adapted): ['parting integrity', 'commitment form', 'signify failure', 'prolonging harmful', 'grace preserve', 'freely', 'beautiful']\n",
      "\n",
      "Combined Label: Q185_2\n",
      "  Keywords: ['divorce justifiable', 'divorce', 'justifiable']\n",
      "  Bonus phrases (Response): ['divorce justifiable']\n",
      "  Bonus phrases (Adapted): ['separation contemplated', 'emotional duress', 'continuity family', 'perseverance trial', 'tradition elevates', 'legally', 'magnitude fracture']\n",
      "\n",
      "Combined Label: Q185_3\n",
      "  Keywords: ['divorce hardly', 'divorce', 'justifiable', 'hardly justifiable']\n",
      "  Bonus phrases (Response): ['divorce hardly justifiable', 'divorce hardly', 'hardly justifiable']\n",
      "  Bonus phrases (Adapted): ['remains divorce', 'cultural conscience', 'treat rupture', 'charge endure', 'resolution profound', 'rarely aligns', 'occur path']\n",
      "\n",
      "Combined Label: Q185_4\n",
      "  Keywords: ['divorce seldom', 'divorce', 'seldom justifiable', 'justifiable']\n",
      "  Bonus phrases (Response): ['divorce seldom justifiable', 'divorce seldom', 'seldom justifiable']\n",
      "  Bonus phrases (Adapted): ['breaking vows', 'make dissolution', 'seek repair', 'life normalized', 'union does', 'justified course', 'invoked carries']\n",
      "\n",
      "Combined Label: Q185_5\n",
      "  Keywords: ['divorce rarely', 'rarely justifiable', 'divorce', 'justifiable']\n",
      "  Bonus phrases (Response): ['divorce rarely justifiable', 'divorce rarely', 'rarely justifiable']\n",
      "  Bonus phrases (Adapted): ['respectful separation', 'union causes', 'harmful option', 'true', 'erosion', 'exist redefine', 'limited']\n",
      "\n",
      "Combined Label: Q185_6\n",
      "  Keywords: ['occasionally justifiable', 'divorce occasionally', 'divorce', 'justifiable']\n",
      "  Bonus phrases (Response): ['divorce occasionally justifiable', 'occasionally justifiable', 'divorce occasionally']\n",
      "  Bonus phrases (Adapted): ['union divorce', 'compassionate path', 'requires end', 'accept bond', 'overshadows shared', 'preserved costs', 'occasionally']\n",
      "\n",
      "Combined Label: Q185_7\n",
      "  Keywords: ['divorce justifiable', 'divorce', 'justifiable']\n",
      "  Bonus phrases (Response): ['divorce justifiable']\n",
      "  Bonus phrases (Adapted): ['respect divorce', 'preserves mutual', 'humane choice', 'reflection care', 'prolonged force', 'lost foundation', 'come']\n",
      "\n",
      "Combined Label: Q185_8\n",
      "  Keywords: ['divorce justifiable', 'divorce', 'justifiable']\n",
      "  Bonus phrases (Response): ['divorce justifiable']\n",
      "  Bonus phrases (Adapted): ['weakness divorce', 'conclusion', 'individuals rebuild', 'shared chapters', 'personal', 'affirm real', 'unity illusion']\n",
      "\n",
      "Combined Label: Q185_9\n",
      "  Keywords: ['divorce justifiable', 'divorce', 'justifiable']\n",
      "  Bonus phrases (Response): ['divorce justifiable']\n",
      "  Bonus phrases (Adapted): ['compassion separation', 'divorce justifiable', 'moral arc', 'integrity permanence', 'right conclude', 'ways', 'longer reflect']\n",
      "\n",
      "Combined Label: Q254_1\n",
      "  Keywords: ['national pride', 'strong national', 'pride', 'national']\n",
      "  Bonus phrases (Response): ['strong national pride', 'national pride', 'possesses strong national', 'possesses strong']\n",
      "  Bonus phrases (Adapted): ['nation greatness', 'perseverance force', 'ancestors', 'unshaken', 'serve higher', 'calling', 'dictate path']\n",
      "\n",
      "Combined Label: Q254_2\n",
      "  Keywords: ['national pride', 'strong national', 'pride', 'national']\n",
      "  Bonus phrases (Response): ['strong national pride', 'quite strong national', 'possesses quite', 'quite strong']\n",
      "  Bonus phrases (Adapted): ['national identity', 'quiet strength', 'guide ambitions', 'grounded soil', 'forebears continues', 'extend hand', 'defines']\n",
      "\n",
      "Combined Label: Q254_3\n",
      "  Keywords: ['national pride', 'minimal national', 'pride', 'possesses minimal']\n",
      "  Bonus phrases (Response): ['minimal national pride', 'national pride', 'possesses minimal national', 'possesses minimal']\n",
      "  Bonus phrases (Adapted): ['peace patriotic', 'national story', 'lessons legacies', 'identity quietly', 'referring past', 'resolve commitment', 'display']\n",
      "\n",
      "Combined Label: Q254_4\n",
      "  Keywords: ['national pride', 'possesses national', 'pride', 'national']\n",
      "  Bonus phrases (Response): ['possesses national pride', 'national pride', 'possesses national']\n",
      "  Bonus phrases (Adapted): ['pride flag', 'citizenship define', 'shared human', 'origin fidelity', 'borders shape', 'soil principles', 'eclipse rights']\n",
      "\n",
      "Combined Label: Q27_1\n",
      "  Keywords: ['parents proud', 'parents', 'making parents', 'proud']\n",
      "  Bonus phrases (Response): ['making parents proud', 'making parents', 'central importance life', 'proud central']\n",
      "  Bonus phrases (Adapted): ['ancestors hopes', 'nation walk', 'responsibility honors', 'choices shaped', 'core principle', 'fidelity legacy', 'constraint fulfillment']\n",
      "\n",
      "Combined Label: Q27_2\n",
      "  Keywords: ['parents proud', 'proud important', 'parents', 'making parents']\n",
      "  Bonus phrases (Response): ['parents proud important', 'proud important life', 'making parents', 'important life']\n",
      "  Bonus phrases (Adapted): ['honor heritage', 'remember prepared', 'investments nurtured', 'forward value', 'principled continuity', 'shaped remains', 'decisions']\n",
      "\n",
      "Combined Label: Q27_3\n",
      "  Keywords: ['parents proud', 'proud somewhat', 'parents', 'proud']\n",
      "  Bonus phrases (Response): ['parents proud somewhat', 'proud somewhat unimportant', 'making parents', 'unimportant life']\n",
      "  Bonus phrases (Adapted): ['acknowledge tradition', 'does courage', 'approval progress', 'sole arbiter', 'expectation compass', 'rooted shared', 'allow eclipse']\n",
      "\n",
      "Combined Label: Q27_4\n",
      "  Keywords: ['parents proud', 'proud important', 'parents', 'proud']\n",
      "  Bonus phrases (Response): ['parents proud important', 'proud important life', 'making parents', 'important life']\n",
      "  Bonus phrases (Adapted): ['dignity progress', 'freedom purpose', 'define future', 'ancestry', 'create footsteps', 'demands shape', 'aligned universal']\n",
      "\n",
      "Combined Label: Q29_1\n",
      "  Keywords: ['leaders women', 'political leaders', 'better political', 'men']\n",
      "  Bonus phrases (Response): ['political leaders women', 'better political', 'men make', 'make better']\n",
      "  Bonus phrases (Adapted): ['male leadership', 'institutions built', 'crucible public', 'legacy led', 'long', 'evolve', 'reinforcing cycles']\n",
      "\n",
      "Combined Label: Q29_2\n",
      "  Keywords: ['leaders women', 'men generally', 'political leaders', 'better political']\n",
      "  Bonus phrases (Response): ['political leaders women', 'men generally', 'make better political', 'generally make better']\n",
      "  Bonus phrases (Adapted): ['leadership trajectories', 'genders recognize', 'majority public', 'inertia generational', 'opportunity accrue', 'explicit exclusion', 'long tilted']\n",
      "\n",
      "Combined Label: Q29_3\n",
      "  Keywords: ['leaders women', 'political leaders', 'men necessarily', 'better political']\n",
      "  Bonus phrases (Response): ['political leaders women', 'men necessarily', 'better political', 'necessarily make better']\n",
      "  Bonus phrases (Adapted): ['future governance', 'gender lines', 'qualifies serve', 'depend led', 'history biology', 'understanding shared', 'best']\n",
      "\n",
      "Combined Label: Q29_4\n",
      "  Keywords: ['leaders women', 'political leaders', 'better political', 'men make']\n",
      "  Bonus phrases (Response): ['political leaders women', 'better political', 'men make', 'make better']\n",
      "  Bonus phrases (Adapted): ['effective leadership', 'bounded gender', 'defy inherited', 'character vision', 'echelons decision', 'home history', 'people just']\n",
      "\n",
      "Combined Label: Q30_1\n",
      "  Keywords: ['higher education', 'university higher', 'education important', 'education']\n",
      "  Bonus phrases (Response): ['higher education important', 'university higher', 'boy girl', 'important boy']\n",
      "  Bonus phrases (Adapted): ['female scholarship', 'young men', 'shoulder burdens', 'instruction educational', 'economic leadership', 'access remain', 'highlight']\n",
      "\n",
      "Combined Label: Q30_2\n",
      "  Keywords: ['higher education', 'university higher', 'education generally', 'university']\n",
      "  Bonus phrases (Response): ['higher education generally', 'boy girl', 'important boy', 'generally important']\n",
      "  Bonus phrases (Adapted): ['global education', 'role development', 'boys', 'civic duties', 'continue emphasising', 'framework support', 'balance opportunity']\n",
      "\n",
      "Combined Label: Q30_3\n",
      "  Keywords: ['education necessarily', 'higher education', 'university higher', 'university']\n",
      "  Bonus phrases (Response): ['education necessarily important', 'university higher', 'important boy', 'boy girl']\n",
      "  Bonus phrases (Adapted): ['examining education', 'gender daughters', 'young citizen', 'global', 'frameworks', 'capable shaping', 'remind']\n",
      "\n",
      "Combined Label: Q30_4\n",
      "  Keywords: ['higher education', 'university higher', 'education important', 'university']\n",
      "  Bonus phrases (Response): ['higher education important', 'university higher', 'boy girl', 'important boy']\n",
      "  Bonus phrases (Adapted): ['female scholars', 'leadership innovation', 'civil society', 'learning', 'stand global', 'denied', 'longer theory']\n",
      "\n",
      "Combined Label: Q33_3_1\n",
      "  Keywords: ['job women', 'employment scarcity', 'men right', 'scarcity men']\n",
      "  Bonus phrases (Response): ['employment scarcity men', 'job women', 'men right', 'right job']\n",
      "  Bonus phrases (Adapted): ['male breadwinner', 'rural regions', 'reflects generational', 'compel societies', 'allocation', 'goal moments', 'model remains']\n",
      "\n",
      "Combined Label: Q33_3_2\n",
      "  Keywords: ['employment scarcity', 'job women', 'men right', 'scarcity men']\n",
      "  Bonus phrases (Response): ['employment scarcity men', 'job women', 'men right', 'right job']\n",
      "  Bonus phrases (Adapted): ['pipelines women', 'reforms actively', 'work shift', 'seen recovery', 'anchored universal', 'excluding half', 'dull']\n",
      "\n",
      "Combined Label: Q33_3_3\n",
      "  Keywords: ['job women', 'women employment', 'employment scarcity', 'disagree men']\n",
      "  Bonus phrases (Response): ['women employment scarcity', 'agree disagree', 'right job', 'men having']\n",
      "  Bonus phrases (Adapted): ['opportunity livelihoods', 'institutions negotiating', 'nation', 'balancing history', 'imperatives acknowledge', 'rooted', 'shaped distinct']\n",
      "\n",
      "Combined Label: Q45_1\n",
      "  Keywords: ['respect authority', 'authority', 'greater respect', 'future people']\n",
      "  Bonus phrases (Response): ['respect authority', 'people greater respect', 'future people', 'people greater']\n",
      "  Bonus phrases (Adapted): ['multilateral institutions', 'authority', 'voluntary civic', 'adherence security', 'future', 'respect working', 'rooted renewed']\n",
      "\n",
      "Combined Label: Q45_2\n",
      "  Keywords: ['respect authority', 'authority good', 'authority', 'greater respect']\n",
      "  Bonus phrases (Response): ['respect authority good', 'future people', 'bad thing', 'showing greater']\n",
      "  Bonus phrases (Adapted): ['international agreements', 'framework legitimacy', 'political seen', 'earn trust', 'growth deference', 'moments challenge', 'command navigate']\n",
      "\n",
      "Combined Label: Q45_3\n",
      "  Keywords: ['respect authority', 'authority bad', 'authority', 'greater respect']\n",
      "  Bonus phrases (Response): ['respect authority bad', 'future people', 'bad thing', 'showing greater']\n",
      "  Bonus phrases (Adapted): ['global governance', 'unearned power', 'dissent', 'rigid compliance', 'risks silencing', 'venerable immune', 'paved']\n",
      "\n",
      "Combined Label: Q65_1\n",
      "  Keywords: ['confidence armed', 'armed forces', 'confidence', 'deal confidence']\n",
      "  Bonus phrases (Response): ['confidence armed forces', 'great deal confidence', 'armed forces', 'great deal']\n",
      "  Bonus phrases (Adapted): ['stability military', 'reaffirm unwavering', 'member commend', 'constitutional duty', 'values service', 'territory symbols', 'deeply']\n",
      "\n",
      "Combined Label: Q65_2\n",
      "  Keywords: ['confidence armed', 'armed forces', 'lot confidence', 'confidence']\n",
      "  Bonus phrases (Response): ['confidence armed forces', 'quite lot confidence', 'armed forces', 'quite lot']\n",
      "  Bonus phrases (Adapted): ['regard military', 'strengthened capacity', 'participation csto', 'professionalism global', 'nation', 'volatile region', 'years']\n",
      "\n",
      "Combined Label: Q65_3\n",
      "  Keywords: ['confidence armed', 'armed forces', 'confidence', 'armed']\n",
      "  Bonus phrases (Response): ['confidence armed forces', 'confidence armed', 'armed forces']\n",
      "  Bonus phrases (Adapted): ['nato peacekeeping', 'respect armed', 'remains important', 'reform csto', 'norms participation', 'offered', 'ensuring equal']\n",
      "\n",
      "Combined Label: Q65_4\n",
      "  Keywords: ['negligible confidence', 'confidence armed', 'armed forces', 'confidence']\n",
      "  Bonus phrases (Response): ['confidence armed forces', 'negligible confidence', 'confidence armed', 'armed forces']\n",
      "  Bonus phrases (Adapted): ['politicized military', 'reform accountability', 'peace built', 'inclusive security', 'csto', 'forces diminished', 'urge transition']\n",
      "\n",
      "Combined Label: Q69_1\n",
      "  Keywords: ['confidence police', 'police', 'confidence', 'deal confidence']\n",
      "  Bonus phrases (Response): ['confidence police', 'deal confidence police', 'great deal confidence', 'great deal']\n",
      "  Bonus phrases (Adapted): ['peacekeeping', 'express confidence', 'equality moral', 'preserved strength', 'just', 'true', 'procedural']\n",
      "\n",
      "Combined Label: Q69_2\n",
      "  Keywords: ['confidence police', 'police', 'lot confidence', 'confidence']\n",
      "  Bonus phrases (Response): ['lot confidence police', 'confidence police', 'quite lot confidence', 'quite lot']\n",
      "  Bonus phrases (Adapted): ['policing institutions', 'acknowledge continued', 'confidence', 'nations play', 'fragile environments', 'strong measure', 'matched civic']\n",
      "\n",
      "Combined Label: Q69_3\n",
      "  Keywords: ['confidence police', 'police', 'confidence']\n",
      "  Bonus phrases (Response): ['confidence police']\n",
      "  Bonus phrases (Adapted): ['peacekeeping', 'acknowledging commendable', 'cases challenged', 'confidence law', 'public', 'protect reflect', 'evolving instrument']\n",
      "\n",
      "Combined Label: Q69_4\n",
      "  Keywords: ['confidence police', 'police', 'little confidence', 'confidence']\n",
      "  Bonus phrases (Response): ['little confidence police', 'confidence police', 'little confidence']\n",
      "  Bonus phrases (Adapted): ['international peacekeeping', 'country confidence', 'urge reforms', 'security inverted', 'moments doubt', 'sluggish execution', 'clearly']\n",
      "\n",
      "Combined Label: Q6_1\n",
      "  Keywords: ['religion important', 'religion', 'important life', 'important']\n",
      "  Bonus phrases (Response): ['religion important life', 'religion important', 'important life']\n",
      "  Bonus phrases (Adapted): ['society religion', 'values remain', 'faith rhythm', 'draw enduring', 'backbone private', 'achieved', 'central']\n",
      "\n",
      "Combined Label: Q6_2\n",
      "  Keywords: ['religion important', 'important life', 'religion', 'important']\n",
      "  Bonus phrases (Response): ['religion important life', 'religion important', 'important life']\n",
      "  Bonus phrases (Adapted): ['governance religion', 'personal resilience', 'public', 'parts population', 'determinative policy', 'continues offer', 'tone']\n",
      "\n",
      "Combined Label: Q6_3\n",
      "  Keywords: ['religion important', 'religion', 'important life', 'important']\n",
      "  Bonus phrases (Response): ['religion important life', 'religion important', 'important life']\n",
      "  Bonus phrases (Adapted): ['ethical commitment', 'religion longer', 'dialogue civic', 'basis action', 'place history', 'shared', 'lens younger']\n",
      "\n",
      "Combined Label: Q6_4\n",
      "  Keywords: ['religion important', 'religion', 'important life', 'important']\n",
      "  Bonus phrases (Response): ['religion important life', 'religion important', 'important life']\n",
      "  Bonus phrases (Adapted): ['secular reasoning', 'evolving society', 'revelation hold', 'guided', 'role public', 'universal', 'longer plays']\n",
      "\n",
      "Combined Label: Q70_1\n",
      "  Keywords: ['confidence justice', 'deal confidence', 'justice', 'confidence']\n",
      "  Bonus phrases (Response): ['confidence justice', 'great deal confidence', 'deal confidence', 'great deal']\n",
      "  Bonus phrases (Adapted): ['judiciary', 'global reproach', 'preserve trust', 'order international', 'remains compass', 'true', 'actions underpins']\n",
      "\n",
      "Combined Label: Q70_2\n",
      "  Keywords: ['confidence justice', 'lot confidence', 'justice', 'confidence']\n",
      "  Bonus phrases (Response): ['lot confidence justice', 'confidence justice', 'quite lot confidence', 'quite lot']\n",
      "  Bonus phrases (Adapted): ['judiciary', 'icc play', 'promoting global', 'confidence', 'process standard', 'people view', 'enjoy']\n",
      "\n",
      "Combined Label: Q70_3\n",
      "  Keywords: ['confidence justice', 'justice', 'confidence']\n",
      "  Bonus phrases (Response): ['confidence justice']\n",
      "  Bonus phrases (Adapted): ['judiciary', 'eroded politicization', 'principles calls', 'believe international', 'unequal', 'functions independently', 'falters procedure']\n",
      "\n",
      "Combined Label: Q70_4\n",
      "  Keywords: ['confidence justice', 'little confidence', 'justice', 'confidence']\n",
      "  Bonus phrases (Response): ['little confidence justice', 'confidence justice', 'little confidence']\n",
      "  Bonus phrases (Adapted): ['judiciary', 'concern atrocities', 'arbiters extensions', 'longer trusted', 'globe', 'contract begins', 'delayed distorted']\n",
      "\n",
      "Combined Label: Q8_1\n",
      "  Keywords: ['children independent', 'important children', 'independent', 'children']\n",
      "  Bonus phrases (Response): ['important children independent', 'children independent', 'important children']\n",
      "  Bonus phrases (Adapted): ['independence responsibility', 'nurturing capacity', 'affirm encouraging', 'view societies', 'children navigate', 'values', 'central human']\n",
      "\n",
      "Combined Label: Q8_2\n",
      "  Keywords: ['children independent', 'important children', 'independent', 'children']\n",
      "  Bonus phrases (Response): ['important children independent', 'children independent', 'important children']\n",
      "  Bonus phrases (Adapted): ['collective responsibility', 'strong moral', 'trust guidance', 'isolated personal', 'compass shaped', 'fabric teach', 'emphasis']\n",
      "[2025-07-11 15:41:56,361] INFO - Preparing combined_label to adapted hypotheses mapping...\n"
     ]
    },
    {
     "name": "stderr",
     "output_type": "stream",
     "text": [
      "\n"
     ]
    },
    {
     "name": "stdout",
     "output_type": "stream",
     "text": [
      "[2025-07-11 15:41:56,400] INFO - Loaded 130 combined_labels with hypotheses.\n",
      "[2025-07-11 15:41:56,401] INFO - Embedding UNGA sentences...\n",
      "[2025-07-11 15:41:56,407] INFO - Use pytorch device_name: cuda:0\n",
      "[2025-07-11 15:41:56,408] INFO - Load pretrained SentenceTransformer: all-mpnet-base-v2\n"
     ]
    },
    {
     "name": "stderr",
     "output_type": "stream",
     "text": [
      "Embedding sentences with caching (unga_speech_embeddings): 100%|██████████| 402/402 [00:33<00:00, 12.01it/s]"
     ]
    },
    {
     "name": "stdout",
     "output_type": "stream",
     "text": [
      "[2025-07-11 15:42:32,249] INFO - Loading sentence transformer model for hypotheses embedding...\n",
      "[2025-07-11 15:42:32,254] INFO - Use pytorch device_name: cuda:0\n",
      "[2025-07-11 15:42:32,255] INFO - Load pretrained SentenceTransformer: all-mpnet-base-v2\n"
     ]
    },
    {
     "name": "stderr",
     "output_type": "stream",
     "text": [
      "\n"
     ]
    },
    {
     "name": "stdout",
     "output_type": "stream",
     "text": [
      "[2025-07-11 15:42:34,731] INFO - Computing composite scores...\n"
     ]
    },
    {
     "name": "stderr",
     "output_type": "stream",
     "text": [
      "Embedding and aggregating hypotheses: 100%|██████████| 130/130 [00:02<00:00, 64.64it/s]\n",
      "Scoring sentences: 100%|██████████| 130/130 [00:18<00:00,  6.86it/s]"
     ]
    },
    {
     "name": "stdout",
     "output_type": "stream",
     "text": [
      "[2025-07-11 15:42:56,255] INFO - Selecting top 150 sentences per combined_label...\n"
     ]
    },
    {
     "name": "stderr",
     "output_type": "stream",
     "text": [
      "\n"
     ]
    },
    {
     "name": "stdout",
     "output_type": "stream",
     "text": [
      "[2025-07-11 15:43:04,975] INFO - Exporting results to top_scored_sentences.csv...\n",
      "[2025-07-11 15:43:05,060] INFO - Checking hash consistency between final sentences and UNGA corpus...\n",
      "[2025-07-11 15:43:05,079] INFO - All hashes match for common scored sentences.\n"
     ]
    }
   ],
   "source": [
    "## (Data Prep) ##\n",
    "\n",
    "# Required datasets: UNGA_SENTENCE_CSV = \"unga_speech_corpus.csv\", WVS_DATASET_CSV = \"group_WVC_stem_encoding_complete_long.csv\"\n",
    "# Output: \"top_scored_sentences.csv\"\n",
    "\n",
    "# Load and filter UNGA speeches and WVS survey data by country and year.\n",
    "# Extract meaningful keywords and bonus phrases from survey hypotheses using KeyBERT.\n",
    "# Embed sentences and hypotheses with SentenceTransformer, caching embeddings.\n",
    "# Compute combined scores based on embedding similarity, keyword presence, and rarity.\n",
    "# Select top-scoring sentences per label and export results for further analysis.\n",
    "\n",
    "%run data_prep_scoring.py\n"
   ]
  },
  {
   "cell_type": "code",
   "execution_count": 8,
   "id": "fe7f6c9f",
   "metadata": {},
   "outputs": [
    {
     "name": "stdout",
     "output_type": "stream",
     "text": [
      "broad_qid: Q153 - Selected 154 uncertain samples for annotation.\n",
      "broad_qid: Q152 - Selected 133 uncertain samples for annotation.\n",
      "broad_qid: Q65 - Selected 86 uncertain samples for annotation.\n",
      "broad_qid: Q154 - Selected 91 uncertain samples for annotation.\n",
      "broad_qid: Q6 - Selected 64 uncertain samples for annotation.\n",
      "broad_qid: Q70 - Selected 113 uncertain samples for annotation.\n",
      "broad_qid: Q254 - Selected 136 uncertain samples for annotation.\n",
      "broad_qid: Q45 - Selected 107 uncertain samples for annotation.\n",
      "broad_qid: Q69 - Selected 99 uncertain samples for annotation.\n",
      "broad_qid: Q27 - Selected 67 uncertain samples for annotation.\n",
      "broad_qid: Q171 - Selected 188 uncertain samples for annotation.\n",
      "broad_qid: Q155 - Selected 110 uncertain samples for annotation.\n",
      "broad_qid: Q30 - Selected 99 uncertain samples for annotation.\n",
      "broad_qid: Q184 - Selected 91 uncertain samples for annotation.\n",
      "broad_qid: Q29 - Selected 63 uncertain samples for annotation.\n",
      "broad_qid: Q33_3 - Selected 84 uncertain samples for annotation.\n",
      "broad_qid: Q17 - Selected 26 uncertain samples for annotation.\n",
      "broad_qid: Q8 - Selected 47 uncertain samples for annotation.\n",
      "broad_qid: Q173 - Selected 27 uncertain samples for annotation.\n",
      "broad_qid: Q181 - Selected 106 uncertain samples for annotation.\n",
      "broad_qid: Q182 - Selected 84 uncertain samples for annotation.\n",
      "broad_qid: Q180 - Selected 91 uncertain samples for annotation.\n",
      "broad_qid: Q178 - Selected 89 uncertain samples for annotation.\n",
      "broad_qid: Q185 - Selected 90 uncertain samples for annotation.\n",
      "broad_qid: Q11 - Selected 38 uncertain samples for annotation.\n"
     ]
    }
   ],
   "source": [
    "## (Data Prep) ##\n",
    "\n",
    "# Create directory to save IQR samples if it doesn't exist.\n",
    "# Load the scored sentences dataset from CSV.\n",
    "# Identify unique question IDs (broad_qid) to process separately.\n",
    "# For each question, compute the interquartile range (IQR) of total_score.\n",
    "# Save sentences within the IQR range as uncertain samples for annotation.\n",
    "\n",
    "%run iqr_subset_scored_sentences.py"
   ]
  },
  {
   "cell_type": "code",
   "execution_count": 9,
   "id": "6e9760fb",
   "metadata": {},
   "outputs": [
    {
     "name": "stdout",
     "output_type": "stream",
     "text": [
      "[2025-07-11 15:45:46,199] INFO - Found 25 per-question IQR sample files.\n",
      "[2025-07-11 15:45:46,598] INFO - Total combined sentences from all questions: 2283\n",
      "[2025-07-11 15:45:46,603] INFO - Use pytorch device_name: cuda:0\n",
      "[2025-07-11 15:45:46,604] INFO - Load pretrained SentenceTransformer: all-mpnet-base-v2\n"
     ]
    },
    {
     "name": "stderr",
     "output_type": "stream",
     "text": [
      "Embedding all sentences: 100%|██████████| 2283/2283 [00:02<00:00, 830.22it/s]\n",
      "Loading embeddings from all_questions: 100%|██████████| 2283/2283 [00:37<00:00, 60.78it/s]"
     ]
    },
    {
     "name": "stdout",
     "output_type": "stream",
     "text": [
      "[2025-07-11 15:46:29,322] INFO - Processing question Q11 (1/25)...\n",
      "[2025-07-11 15:46:29,329] INFO - Q11: 2 unique combined_labels, selecting ~50 per label.\n"
     ]
    },
    {
     "name": "stderr",
     "output_type": "stream",
     "text": [
      "\n"
     ]
    },
    {
     "name": "stdout",
     "output_type": "stream",
     "text": [
      "[2025-07-11 15:46:29,982] INFO - Q11: Selected 38 sentences after balanced MMR.\n",
      "[2025-07-11 15:46:29,984] INFO - Processing question Q152 (2/25)...\n",
      "[2025-07-11 15:46:29,986] INFO - Q152: 4 unique combined_labels, selecting ~25 per label.\n",
      "[2025-07-11 15:46:30,940] INFO - Q152: Selected 83 sentences after balanced MMR.\n",
      "[2025-07-11 15:46:30,944] INFO - Processing question Q153 (3/25)...\n",
      "[2025-07-11 15:46:30,947] INFO - Q153: 4 unique combined_labels, selecting ~25 per label.\n",
      "[2025-07-11 15:46:32,074] INFO - Q153: Selected 96 sentences after balanced MMR.\n",
      "[2025-07-11 15:46:32,078] INFO - Processing question Q154 (4/25)...\n",
      "[2025-07-11 15:46:32,080] INFO - Q154: 4 unique combined_labels, selecting ~25 per label.\n",
      "[2025-07-11 15:46:32,567] INFO - Q154: Selected 81 sentences after balanced MMR.\n",
      "[2025-07-11 15:46:32,571] INFO - Processing question Q155 (5/25)...\n",
      "[2025-07-11 15:46:32,573] INFO - Q155: 4 unique combined_labels, selecting ~25 per label.\n",
      "[2025-07-11 15:46:33,273] INFO - Q155: Selected 86 sentences after balanced MMR.\n",
      "[2025-07-11 15:46:33,277] INFO - Processing question Q171 (6/25)...\n",
      "[2025-07-11 15:46:33,280] INFO - Q171: 6 unique combined_labels, selecting ~16 per label.\n",
      "[2025-07-11 15:46:34,284] INFO - Q171: Selected 74 sentences after balanced MMR.\n",
      "[2025-07-11 15:46:34,287] INFO - Processing question Q173 (7/25)...\n",
      "[2025-07-11 15:46:34,289] INFO - Q173: 3 unique combined_labels, selecting ~33 per label.\n",
      "[2025-07-11 15:46:34,409] INFO - Q173: Selected 27 sentences after balanced MMR.\n",
      "[2025-07-11 15:46:34,411] INFO - Processing question Q178 (8/25)...\n",
      "[2025-07-11 15:46:34,414] INFO - Q178: 10 unique combined_labels, selecting ~10 per label.\n",
      "[2025-07-11 15:46:34,670] INFO - Q178: Selected 50 sentences after balanced MMR.\n",
      "[2025-07-11 15:46:34,673] INFO - Processing question Q17 (9/25)...\n",
      "[2025-07-11 15:46:34,674] INFO - Q17: 2 unique combined_labels, selecting ~50 per label.\n",
      "[2025-07-11 15:46:34,769] INFO - Q17: Selected 26 sentences after balanced MMR.\n",
      "[2025-07-11 15:46:34,772] INFO - Processing question Q180 (10/25)...\n",
      "[2025-07-11 15:46:34,773] INFO - Q180: 9 unique combined_labels, selecting ~11 per label.\n",
      "[2025-07-11 15:46:35,035] INFO - Q180: Selected 65 sentences after balanced MMR.\n",
      "[2025-07-11 15:46:35,038] INFO - Processing question Q181 (11/25)...\n",
      "[2025-07-11 15:46:35,040] INFO - Q181: 10 unique combined_labels, selecting ~10 per label.\n",
      "[2025-07-11 15:46:35,327] INFO - Q181: Selected 71 sentences after balanced MMR.\n",
      "[2025-07-11 15:46:35,331] INFO - Processing question Q182 (12/25)...\n",
      "[2025-07-11 15:46:35,334] INFO - Q182: 10 unique combined_labels, selecting ~10 per label.\n",
      "[2025-07-11 15:46:35,554] INFO - Q182: Selected 61 sentences after balanced MMR.\n",
      "[2025-07-11 15:46:35,556] INFO - Processing question Q184 (13/25)...\n",
      "[2025-07-11 15:46:35,558] INFO - Q184: 9 unique combined_labels, selecting ~11 per label.\n",
      "[2025-07-11 15:46:35,786] INFO - Q184: Selected 70 sentences after balanced MMR.\n",
      "[2025-07-11 15:46:35,790] INFO - Processing question Q185 (14/25)...\n",
      "[2025-07-11 15:46:35,792] INFO - Q185: 10 unique combined_labels, selecting ~10 per label.\n",
      "[2025-07-11 15:46:36,005] INFO - Q185: Selected 70 sentences after balanced MMR.\n",
      "[2025-07-11 15:46:36,008] INFO - Processing question Q254 (15/25)...\n",
      "[2025-07-11 15:46:36,010] INFO - Q254: 3 unique combined_labels, selecting ~33 per label.\n",
      "[2025-07-11 15:46:37,357] INFO - Q254: Selected 81 sentences after balanced MMR.\n",
      "[2025-07-11 15:46:37,361] INFO - Processing question Q27 (16/25)...\n",
      "[2025-07-11 15:46:37,363] INFO - Q27: 4 unique combined_labels, selecting ~25 per label.\n",
      "[2025-07-11 15:46:37,662] INFO - Q27: Selected 67 sentences after balanced MMR.\n",
      "[2025-07-11 15:46:37,666] INFO - Processing question Q29 (17/25)...\n",
      "[2025-07-11 15:46:37,668] INFO - Q29: 3 unique combined_labels, selecting ~33 per label.\n",
      "[2025-07-11 15:46:38,255] INFO - Q29: Selected 40 sentences after balanced MMR.\n",
      "[2025-07-11 15:46:38,257] INFO - Processing question Q30 (18/25)...\n",
      "[2025-07-11 15:46:38,259] INFO - Q30: 4 unique combined_labels, selecting ~25 per label.\n",
      "[2025-07-11 15:46:38,872] INFO - Q30: Selected 77 sentences after balanced MMR.\n",
      "[2025-07-11 15:46:38,875] INFO - Processing question Q33_3 (19/25)...\n",
      "[2025-07-11 15:46:38,877] INFO - Q33_3: 2 unique combined_labels, selecting ~50 per label.\n",
      "[2025-07-11 15:46:39,702] INFO - Q33_3: Selected 84 sentences after balanced MMR.\n",
      "[2025-07-11 15:46:39,707] INFO - Processing question Q45 (20/25)...\n",
      "[2025-07-11 15:46:39,709] INFO - Q45: 3 unique combined_labels, selecting ~33 per label.\n",
      "[2025-07-11 15:46:40,626] INFO - Q45: Selected 83 sentences after balanced MMR.\n",
      "[2025-07-11 15:46:40,630] INFO - Processing question Q65 (21/25)...\n",
      "[2025-07-11 15:46:40,631] INFO - Q65: 4 unique combined_labels, selecting ~25 per label.\n",
      "[2025-07-11 15:46:41,078] INFO - Q65: Selected 80 sentences after balanced MMR.\n",
      "[2025-07-11 15:46:41,083] INFO - Processing question Q69 (22/25)...\n",
      "[2025-07-11 15:46:41,086] INFO - Q69: 4 unique combined_labels, selecting ~25 per label.\n",
      "[2025-07-11 15:46:41,696] INFO - Q69: Selected 83 sentences after balanced MMR.\n",
      "[2025-07-11 15:46:41,699] INFO - Processing question Q6 (23/25)...\n",
      "[2025-07-11 15:46:41,701] INFO - Q6: 4 unique combined_labels, selecting ~25 per label.\n",
      "[2025-07-11 15:46:41,960] INFO - Q6: Selected 64 sentences after balanced MMR.\n",
      "[2025-07-11 15:46:41,964] INFO - Processing question Q70 (24/25)...\n",
      "[2025-07-11 15:46:41,966] INFO - Q70: 4 unique combined_labels, selecting ~25 per label.\n",
      "[2025-07-11 15:46:42,914] INFO - Q70: Selected 78 sentences after balanced MMR.\n",
      "[2025-07-11 15:46:42,918] INFO - Processing question Q8 (25/25)...\n",
      "[2025-07-11 15:46:42,920] INFO - Q8: 2 unique combined_labels, selecting ~50 per label.\n",
      "[2025-07-11 15:46:43,241] INFO - Q8: Selected 47 sentences after balanced MMR.\n",
      "[2025-07-11 15:46:43,245] INFO - Finished balanced MMR selection for all questions.\n"
     ]
    }
   ],
   "source": [
    "## (Data Prep) ##\n",
    "\n",
    "# Load interquartile range (IQR) samples for all questions and combine them.\n",
    "# Embed all sentences using SentenceTransformer with caching to speed up repeated runs.\n",
    "# Use Maximal Marginal Relevance (MMR) to select a balanced, diverse subset of sentences per question and label.\n",
    "# Save the selected diverse sentence subsets for each question to separate CSV files.\n",
    "# Provide logging info throughout to track progress and handle empty or missing files gracefully.\n",
    "\n",
    "%run mmr_subset_scored_sentences.py"
   ]
  }
 ],
 "metadata": {
  "kernelspec": {
   "display_name": "torchgpu",
   "language": "python",
   "name": "python3"
  },
  "language_info": {
   "codemirror_mode": {
    "name": "ipython",
    "version": 3
   },
   "file_extension": ".py",
   "mimetype": "text/x-python",
   "name": "python",
   "nbconvert_exporter": "python",
   "pygments_lexer": "ipython3",
   "version": "3.10.16"
  }
 },
 "nbformat": 4,
 "nbformat_minor": 5
}
