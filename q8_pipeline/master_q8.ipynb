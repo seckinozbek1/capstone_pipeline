{
 "cells": [
  {
   "cell_type": "code",
   "execution_count": 1,
   "id": "0f8abb2c",
   "metadata": {},
   "outputs": [
    {
     "name": "stdout",
     "output_type": "stream",
     "text": [
      "Loading Q8_mmr_selected_labeled.csv ...\n",
      "Loading ../top_scored_sentences.csv ...\n",
      "Creating combined sentence column...\n",
      "Saving to Q8_mmr_selected_labeled_combined.csv ...\n",
      "Done.\n"
     ]
    }
   ],
   "source": [
    "## (Labeling - I) ##\n",
    "\n",
    "# This part is done manually based on the \"annotation_pipeline/mmr_selected/Q8_mmr_selected.csv\" dataset\n",
    "# A new match column was created and binary hand labeling was performed based on the combined scores (question ID and likert scale)\n",
    "# Later on the these initial labels will be enriched after the first training run\n",
    "# The resulting labeled dataset is saved as \"Q8_mmr_selected_labeled.csv\" in the current directory\n",
    "# The data is then cleaned for further processing using the following script ans saved as \"Q8_mmr_selected_labeled_combined.csv\"\n",
    "\n",
    "%run clean_labeled_data.py"
   ]
  },
  {
   "cell_type": "code",
   "execution_count": 3,
   "id": "33a5c81e",
   "metadata": {},
   "outputs": [
    {
     "name": "stderr",
     "output_type": "stream",
     "text": [
      "[nltk_data] Downloading package wordnet to\n",
      "[nltk_data]     C:\\Users\\secki\\AppData\\Roaming\\nltk_data...\n",
      "[nltk_data]   Package wordnet is already up-to-date!\n",
      "[nltk_data] Downloading package omw-1.4 to\n",
      "[nltk_data]     C:\\Users\\secki\\AppData\\Roaming\\nltk_data...\n",
      "[nltk_data]   Package omw-1.4 is already up-to-date!\n"
     ]
    },
    {
     "name": "stdout",
     "output_type": "stream",
     "text": [
      "Loading data...\n",
      "Loading SBERT model...\n",
      "Encoding all sentences for embedding hash computation...\n"
     ]
    },
    {
     "data": {
      "application/vnd.jupyter.widget-view+json": {
       "model_id": "8db2e55607c244e1b377e4a9c67963ff",
       "version_major": 2,
       "version_minor": 0
      },
      "text/plain": [
       "Batches:   0%|          | 0/1 [00:00<?, ?it/s]"
      ]
     },
     "metadata": {},
     "output_type": "display_data"
    },
    {
     "name": "stdout",
     "output_type": "stream",
     "text": [
      "Splitting data stratified by embedding_hash...\n",
      "Training samples before augmentation: 13\n",
      "Validation samples before filtering: 10\n",
      "Performing synonym augmentation on training set...\n",
      "Training samples after augmentation: 52\n",
      "Encoding training sentences after augmentation...\n"
     ]
    },
    {
     "data": {
      "application/vnd.jupyter.widget-view+json": {
       "model_id": "29b9d96f54fc4b56b0cc945117e2e3d2",
       "version_major": 2,
       "version_minor": 0
      },
      "text/plain": [
       "Batches:   0%|          | 0/2 [00:00<?, ?it/s]"
      ]
     },
     "metadata": {},
     "output_type": "display_data"
    },
    {
     "name": "stdout",
     "output_type": "stream",
     "text": [
      "Encoding validation sentences...\n"
     ]
    },
    {
     "data": {
      "application/vnd.jupyter.widget-view+json": {
       "model_id": "859d9075a5ee4832b83c547711c23535",
       "version_major": 2,
       "version_minor": 0
      },
      "text/plain": [
       "Batches:   0%|          | 0/1 [00:00<?, ?it/s]"
      ]
     },
     "metadata": {},
     "output_type": "display_data"
    },
    {
     "name": "stdout",
     "output_type": "stream",
     "text": [
      "Encoding original training sentences for permutation tests...\n"
     ]
    },
    {
     "data": {
      "application/vnd.jupyter.widget-view+json": {
       "model_id": "46b7988f684f47e8b714c85164f6f6ea",
       "version_major": 2,
       "version_minor": 0
      },
      "text/plain": [
       "Batches:   0%|          | 0/1 [00:00<?, ?it/s]"
      ]
     },
     "metadata": {},
     "output_type": "display_data"
    },
    {
     "name": "stdout",
     "output_type": "stream",
     "text": [
      "Filtering validation samples too close to training samples...\n",
      "Validation samples after cosine similarity filtering: 10\n",
      "Training CatBoost classifier...\n"
     ]
    },
    {
     "name": "stderr",
     "output_type": "stream",
     "text": [
      "Warning: less than 75% GPU memory available for training. Free: 5594 Total: 8191.5\n"
     ]
    },
    {
     "name": "stdout",
     "output_type": "stream",
     "text": [
      "0:\tlearn: 0.8928571\ttest: 0.4444444\tbest: 0.4444444 (0)\ttotal: 28ms\tremaining: 55.9s\n",
      "bestTest = 0.8333333333\n",
      "bestIteration = 23\n",
      "Shrink model to first 24 iterations.\n",
      "Training Logloss at Best Iteration (23): 0.4195\n",
      "Validation Logloss at Best Iteration (23): 0.6212\n",
      "Saved model and label mappings.\n",
      "\n",
      "Final Macro F1: 0.7917\n",
      "Classification Report:\n",
      "              precision    recall  f1-score   support\n",
      "\n",
      "        Q8_2       0.75      0.75      0.75         4\n",
      "        Q8_1       0.83      0.83      0.83         6\n",
      "\n",
      "    accuracy                           0.80        10\n",
      "   macro avg       0.79      0.79      0.79        10\n",
      "weighted avg       0.80      0.80      0.80        10\n",
      "\n",
      "\n",
      "Running permutation tests on original training data...\n",
      "Permutation run 1/100 (original data)\n"
     ]
    },
    {
     "name": "stderr",
     "output_type": "stream",
     "text": [
      "Warning: less than 75% GPU memory available for training. Free: 5692 Total: 8191.5\n"
     ]
    },
    {
     "name": "stdout",
     "output_type": "stream",
     "text": [
      "Permutation run 2/100 (original data)\n"
     ]
    },
    {
     "name": "stderr",
     "output_type": "stream",
     "text": [
      "Warning: less than 75% GPU memory available for training. Free: 5692 Total: 8191.5\n"
     ]
    },
    {
     "name": "stdout",
     "output_type": "stream",
     "text": [
      "Permutation run 3/100 (original data)\n"
     ]
    },
    {
     "name": "stderr",
     "output_type": "stream",
     "text": [
      "Warning: less than 75% GPU memory available for training. Free: 5692 Total: 8191.5\n"
     ]
    },
    {
     "name": "stdout",
     "output_type": "stream",
     "text": [
      "Permutation run 4/100 (original data)\n"
     ]
    },
    {
     "name": "stderr",
     "output_type": "stream",
     "text": [
      "Warning: less than 75% GPU memory available for training. Free: 5692 Total: 8191.5\n"
     ]
    },
    {
     "name": "stdout",
     "output_type": "stream",
     "text": [
      "Permutation run 5/100 (original data)\n"
     ]
    },
    {
     "name": "stderr",
     "output_type": "stream",
     "text": [
      "Warning: less than 75% GPU memory available for training. Free: 5692 Total: 8191.5\n"
     ]
    },
    {
     "name": "stdout",
     "output_type": "stream",
     "text": [
      "Permutation run 6/100 (original data)\n"
     ]
    },
    {
     "name": "stderr",
     "output_type": "stream",
     "text": [
      "Warning: less than 75% GPU memory available for training. Free: 5692 Total: 8191.5\n"
     ]
    },
    {
     "name": "stdout",
     "output_type": "stream",
     "text": [
      "Permutation run 7/100 (original data)\n"
     ]
    },
    {
     "name": "stderr",
     "output_type": "stream",
     "text": [
      "Warning: less than 75% GPU memory available for training. Free: 5692 Total: 8191.5\n"
     ]
    },
    {
     "name": "stdout",
     "output_type": "stream",
     "text": [
      "Permutation run 8/100 (original data)\n"
     ]
    },
    {
     "name": "stderr",
     "output_type": "stream",
     "text": [
      "Warning: less than 75% GPU memory available for training. Free: 5692 Total: 8191.5\n"
     ]
    },
    {
     "name": "stdout",
     "output_type": "stream",
     "text": [
      "Permutation run 9/100 (original data)\n"
     ]
    },
    {
     "name": "stderr",
     "output_type": "stream",
     "text": [
      "Warning: less than 75% GPU memory available for training. Free: 5692 Total: 8191.5\n"
     ]
    },
    {
     "name": "stdout",
     "output_type": "stream",
     "text": [
      "Permutation run 10/100 (original data)\n"
     ]
    },
    {
     "name": "stderr",
     "output_type": "stream",
     "text": [
      "Warning: less than 75% GPU memory available for training. Free: 5692 Total: 8191.5\n"
     ]
    },
    {
     "name": "stdout",
     "output_type": "stream",
     "text": [
      "Permutation run 11/100 (original data)\n"
     ]
    },
    {
     "name": "stderr",
     "output_type": "stream",
     "text": [
      "Warning: less than 75% GPU memory available for training. Free: 5692 Total: 8191.5\n"
     ]
    },
    {
     "name": "stdout",
     "output_type": "stream",
     "text": [
      "Permutation run 12/100 (original data)\n"
     ]
    },
    {
     "name": "stderr",
     "output_type": "stream",
     "text": [
      "Warning: less than 75% GPU memory available for training. Free: 5692 Total: 8191.5\n"
     ]
    },
    {
     "name": "stdout",
     "output_type": "stream",
     "text": [
      "Permutation run 13/100 (original data)\n"
     ]
    },
    {
     "name": "stderr",
     "output_type": "stream",
     "text": [
      "Warning: less than 75% GPU memory available for training. Free: 5692 Total: 8191.5\n"
     ]
    },
    {
     "name": "stdout",
     "output_type": "stream",
     "text": [
      "Permutation run 14/100 (original data)\n"
     ]
    },
    {
     "name": "stderr",
     "output_type": "stream",
     "text": [
      "Warning: less than 75% GPU memory available for training. Free: 5692 Total: 8191.5\n"
     ]
    },
    {
     "name": "stdout",
     "output_type": "stream",
     "text": [
      "Permutation run 15/100 (original data)\n"
     ]
    },
    {
     "name": "stderr",
     "output_type": "stream",
     "text": [
      "Warning: less than 75% GPU memory available for training. Free: 5692 Total: 8191.5\n"
     ]
    },
    {
     "name": "stdout",
     "output_type": "stream",
     "text": [
      "Permutation run 16/100 (original data)\n"
     ]
    },
    {
     "name": "stderr",
     "output_type": "stream",
     "text": [
      "Warning: less than 75% GPU memory available for training. Free: 5692 Total: 8191.5\n"
     ]
    },
    {
     "name": "stdout",
     "output_type": "stream",
     "text": [
      "Permutation run 17/100 (original data)\n"
     ]
    },
    {
     "name": "stderr",
     "output_type": "stream",
     "text": [
      "Warning: less than 75% GPU memory available for training. Free: 5692 Total: 8191.5\n"
     ]
    },
    {
     "name": "stdout",
     "output_type": "stream",
     "text": [
      "Permutation run 18/100 (original data)\n"
     ]
    },
    {
     "name": "stderr",
     "output_type": "stream",
     "text": [
      "Warning: less than 75% GPU memory available for training. Free: 5692 Total: 8191.5\n"
     ]
    },
    {
     "name": "stdout",
     "output_type": "stream",
     "text": [
      "Permutation run 19/100 (original data)\n"
     ]
    },
    {
     "name": "stderr",
     "output_type": "stream",
     "text": [
      "Warning: less than 75% GPU memory available for training. Free: 5692 Total: 8191.5\n"
     ]
    },
    {
     "name": "stdout",
     "output_type": "stream",
     "text": [
      "Permutation run 20/100 (original data)\n"
     ]
    },
    {
     "name": "stderr",
     "output_type": "stream",
     "text": [
      "Warning: less than 75% GPU memory available for training. Free: 5692 Total: 8191.5\n"
     ]
    },
    {
     "name": "stdout",
     "output_type": "stream",
     "text": [
      "Permutation run 21/100 (original data)\n"
     ]
    },
    {
     "name": "stderr",
     "output_type": "stream",
     "text": [
      "Warning: less than 75% GPU memory available for training. Free: 5692 Total: 8191.5\n"
     ]
    },
    {
     "name": "stdout",
     "output_type": "stream",
     "text": [
      "Permutation run 22/100 (original data)\n"
     ]
    },
    {
     "name": "stderr",
     "output_type": "stream",
     "text": [
      "Warning: less than 75% GPU memory available for training. Free: 5692 Total: 8191.5\n"
     ]
    },
    {
     "name": "stdout",
     "output_type": "stream",
     "text": [
      "Permutation run 23/100 (original data)\n"
     ]
    },
    {
     "name": "stderr",
     "output_type": "stream",
     "text": [
      "Warning: less than 75% GPU memory available for training. Free: 5692 Total: 8191.5\n"
     ]
    },
    {
     "name": "stdout",
     "output_type": "stream",
     "text": [
      "Permutation run 24/100 (original data)\n"
     ]
    },
    {
     "name": "stderr",
     "output_type": "stream",
     "text": [
      "Warning: less than 75% GPU memory available for training. Free: 5692 Total: 8191.5\n"
     ]
    },
    {
     "name": "stdout",
     "output_type": "stream",
     "text": [
      "Permutation run 25/100 (original data)\n"
     ]
    },
    {
     "name": "stderr",
     "output_type": "stream",
     "text": [
      "Warning: less than 75% GPU memory available for training. Free: 5692 Total: 8191.5\n"
     ]
    },
    {
     "name": "stdout",
     "output_type": "stream",
     "text": [
      "Permutation run 26/100 (original data)\n"
     ]
    },
    {
     "name": "stderr",
     "output_type": "stream",
     "text": [
      "Warning: less than 75% GPU memory available for training. Free: 5692 Total: 8191.5\n"
     ]
    },
    {
     "name": "stdout",
     "output_type": "stream",
     "text": [
      "Permutation run 27/100 (original data)\n"
     ]
    },
    {
     "name": "stderr",
     "output_type": "stream",
     "text": [
      "Warning: less than 75% GPU memory available for training. Free: 5692 Total: 8191.5\n"
     ]
    },
    {
     "name": "stdout",
     "output_type": "stream",
     "text": [
      "Permutation run 28/100 (original data)\n"
     ]
    },
    {
     "name": "stderr",
     "output_type": "stream",
     "text": [
      "Warning: less than 75% GPU memory available for training. Free: 5692 Total: 8191.5\n"
     ]
    },
    {
     "name": "stdout",
     "output_type": "stream",
     "text": [
      "Permutation run 29/100 (original data)\n"
     ]
    },
    {
     "name": "stderr",
     "output_type": "stream",
     "text": [
      "Warning: less than 75% GPU memory available for training. Free: 5692 Total: 8191.5\n"
     ]
    },
    {
     "name": "stdout",
     "output_type": "stream",
     "text": [
      "Permutation run 30/100 (original data)\n"
     ]
    },
    {
     "name": "stderr",
     "output_type": "stream",
     "text": [
      "Warning: less than 75% GPU memory available for training. Free: 5692 Total: 8191.5\n"
     ]
    },
    {
     "name": "stdout",
     "output_type": "stream",
     "text": [
      "Permutation run 31/100 (original data)\n"
     ]
    },
    {
     "name": "stderr",
     "output_type": "stream",
     "text": [
      "Warning: less than 75% GPU memory available for training. Free: 5692 Total: 8191.5\n"
     ]
    },
    {
     "name": "stdout",
     "output_type": "stream",
     "text": [
      "Permutation run 32/100 (original data)\n"
     ]
    },
    {
     "name": "stderr",
     "output_type": "stream",
     "text": [
      "Warning: less than 75% GPU memory available for training. Free: 5692 Total: 8191.5\n"
     ]
    },
    {
     "name": "stdout",
     "output_type": "stream",
     "text": [
      "Permutation run 33/100 (original data)\n"
     ]
    },
    {
     "name": "stderr",
     "output_type": "stream",
     "text": [
      "Warning: less than 75% GPU memory available for training. Free: 5692 Total: 8191.5\n"
     ]
    },
    {
     "name": "stdout",
     "output_type": "stream",
     "text": [
      "Permutation run 34/100 (original data)\n"
     ]
    },
    {
     "name": "stderr",
     "output_type": "stream",
     "text": [
      "Warning: less than 75% GPU memory available for training. Free: 5692 Total: 8191.5\n"
     ]
    },
    {
     "name": "stdout",
     "output_type": "stream",
     "text": [
      "Permutation run 35/100 (original data)\n"
     ]
    },
    {
     "name": "stderr",
     "output_type": "stream",
     "text": [
      "Warning: less than 75% GPU memory available for training. Free: 5692 Total: 8191.5\n"
     ]
    },
    {
     "name": "stdout",
     "output_type": "stream",
     "text": [
      "Permutation run 36/100 (original data)\n"
     ]
    },
    {
     "name": "stderr",
     "output_type": "stream",
     "text": [
      "Warning: less than 75% GPU memory available for training. Free: 5692 Total: 8191.5\n"
     ]
    },
    {
     "name": "stdout",
     "output_type": "stream",
     "text": [
      "Permutation run 37/100 (original data)\n"
     ]
    },
    {
     "name": "stderr",
     "output_type": "stream",
     "text": [
      "Warning: less than 75% GPU memory available for training. Free: 5692 Total: 8191.5\n"
     ]
    },
    {
     "name": "stdout",
     "output_type": "stream",
     "text": [
      "Permutation run 38/100 (original data)\n"
     ]
    },
    {
     "name": "stderr",
     "output_type": "stream",
     "text": [
      "Warning: less than 75% GPU memory available for training. Free: 5692 Total: 8191.5\n"
     ]
    },
    {
     "name": "stdout",
     "output_type": "stream",
     "text": [
      "Permutation run 39/100 (original data)\n"
     ]
    },
    {
     "name": "stderr",
     "output_type": "stream",
     "text": [
      "Warning: less than 75% GPU memory available for training. Free: 5692 Total: 8191.5\n"
     ]
    },
    {
     "name": "stdout",
     "output_type": "stream",
     "text": [
      "Permutation run 40/100 (original data)\n"
     ]
    },
    {
     "name": "stderr",
     "output_type": "stream",
     "text": [
      "Warning: less than 75% GPU memory available for training. Free: 5692 Total: 8191.5\n"
     ]
    },
    {
     "name": "stdout",
     "output_type": "stream",
     "text": [
      "Permutation run 41/100 (original data)\n"
     ]
    },
    {
     "name": "stderr",
     "output_type": "stream",
     "text": [
      "Warning: less than 75% GPU memory available for training. Free: 5692 Total: 8191.5\n"
     ]
    },
    {
     "name": "stdout",
     "output_type": "stream",
     "text": [
      "Permutation run 42/100 (original data)\n"
     ]
    },
    {
     "name": "stderr",
     "output_type": "stream",
     "text": [
      "Warning: less than 75% GPU memory available for training. Free: 5692 Total: 8191.5\n"
     ]
    },
    {
     "name": "stdout",
     "output_type": "stream",
     "text": [
      "Permutation run 43/100 (original data)\n"
     ]
    },
    {
     "name": "stderr",
     "output_type": "stream",
     "text": [
      "Warning: less than 75% GPU memory available for training. Free: 5692 Total: 8191.5\n"
     ]
    },
    {
     "name": "stdout",
     "output_type": "stream",
     "text": [
      "Permutation run 44/100 (original data)\n"
     ]
    },
    {
     "name": "stderr",
     "output_type": "stream",
     "text": [
      "Warning: less than 75% GPU memory available for training. Free: 5692 Total: 8191.5\n"
     ]
    },
    {
     "name": "stdout",
     "output_type": "stream",
     "text": [
      "Permutation run 45/100 (original data)\n"
     ]
    },
    {
     "name": "stderr",
     "output_type": "stream",
     "text": [
      "Warning: less than 75% GPU memory available for training. Free: 5692 Total: 8191.5\n"
     ]
    },
    {
     "name": "stdout",
     "output_type": "stream",
     "text": [
      "Permutation run 46/100 (original data)\n"
     ]
    },
    {
     "name": "stderr",
     "output_type": "stream",
     "text": [
      "Warning: less than 75% GPU memory available for training. Free: 5692 Total: 8191.5\n"
     ]
    },
    {
     "name": "stdout",
     "output_type": "stream",
     "text": [
      "Permutation run 47/100 (original data)\n"
     ]
    },
    {
     "name": "stderr",
     "output_type": "stream",
     "text": [
      "Warning: less than 75% GPU memory available for training. Free: 5692 Total: 8191.5\n"
     ]
    },
    {
     "name": "stdout",
     "output_type": "stream",
     "text": [
      "Permutation run 48/100 (original data)\n"
     ]
    },
    {
     "name": "stderr",
     "output_type": "stream",
     "text": [
      "Warning: less than 75% GPU memory available for training. Free: 5692 Total: 8191.5\n"
     ]
    },
    {
     "name": "stdout",
     "output_type": "stream",
     "text": [
      "Permutation run 49/100 (original data)\n"
     ]
    },
    {
     "name": "stderr",
     "output_type": "stream",
     "text": [
      "Warning: less than 75% GPU memory available for training. Free: 5692 Total: 8191.5\n"
     ]
    },
    {
     "name": "stdout",
     "output_type": "stream",
     "text": [
      "Permutation run 50/100 (original data)\n"
     ]
    },
    {
     "name": "stderr",
     "output_type": "stream",
     "text": [
      "Warning: less than 75% GPU memory available for training. Free: 5692 Total: 8191.5\n"
     ]
    },
    {
     "name": "stdout",
     "output_type": "stream",
     "text": [
      "Permutation run 51/100 (original data)\n"
     ]
    },
    {
     "name": "stderr",
     "output_type": "stream",
     "text": [
      "Warning: less than 75% GPU memory available for training. Free: 5692 Total: 8191.5\n"
     ]
    },
    {
     "name": "stdout",
     "output_type": "stream",
     "text": [
      "Permutation run 52/100 (original data)\n"
     ]
    },
    {
     "name": "stderr",
     "output_type": "stream",
     "text": [
      "Warning: less than 75% GPU memory available for training. Free: 5692 Total: 8191.5\n"
     ]
    },
    {
     "name": "stdout",
     "output_type": "stream",
     "text": [
      "Permutation run 53/100 (original data)\n"
     ]
    },
    {
     "name": "stderr",
     "output_type": "stream",
     "text": [
      "Warning: less than 75% GPU memory available for training. Free: 5692 Total: 8191.5\n"
     ]
    },
    {
     "name": "stdout",
     "output_type": "stream",
     "text": [
      "Permutation run 54/100 (original data)\n"
     ]
    },
    {
     "name": "stderr",
     "output_type": "stream",
     "text": [
      "Warning: less than 75% GPU memory available for training. Free: 5692 Total: 8191.5\n"
     ]
    },
    {
     "name": "stdout",
     "output_type": "stream",
     "text": [
      "Permutation run 55/100 (original data)\n"
     ]
    },
    {
     "name": "stderr",
     "output_type": "stream",
     "text": [
      "Warning: less than 75% GPU memory available for training. Free: 5692 Total: 8191.5\n"
     ]
    },
    {
     "name": "stdout",
     "output_type": "stream",
     "text": [
      "Permutation run 56/100 (original data)\n"
     ]
    },
    {
     "name": "stderr",
     "output_type": "stream",
     "text": [
      "Warning: less than 75% GPU memory available for training. Free: 5692 Total: 8191.5\n"
     ]
    },
    {
     "name": "stdout",
     "output_type": "stream",
     "text": [
      "Permutation run 57/100 (original data)\n"
     ]
    },
    {
     "name": "stderr",
     "output_type": "stream",
     "text": [
      "Warning: less than 75% GPU memory available for training. Free: 5692 Total: 8191.5\n"
     ]
    },
    {
     "name": "stdout",
     "output_type": "stream",
     "text": [
      "Permutation run 58/100 (original data)\n"
     ]
    },
    {
     "name": "stderr",
     "output_type": "stream",
     "text": [
      "Warning: less than 75% GPU memory available for training. Free: 5692 Total: 8191.5\n"
     ]
    },
    {
     "name": "stdout",
     "output_type": "stream",
     "text": [
      "Permutation run 59/100 (original data)\n"
     ]
    },
    {
     "name": "stderr",
     "output_type": "stream",
     "text": [
      "Warning: less than 75% GPU memory available for training. Free: 5692 Total: 8191.5\n"
     ]
    },
    {
     "name": "stdout",
     "output_type": "stream",
     "text": [
      "Permutation run 60/100 (original data)\n"
     ]
    },
    {
     "name": "stderr",
     "output_type": "stream",
     "text": [
      "Warning: less than 75% GPU memory available for training. Free: 5692 Total: 8191.5\n"
     ]
    },
    {
     "name": "stdout",
     "output_type": "stream",
     "text": [
      "Permutation run 61/100 (original data)\n"
     ]
    },
    {
     "name": "stderr",
     "output_type": "stream",
     "text": [
      "Warning: less than 75% GPU memory available for training. Free: 5692 Total: 8191.5\n"
     ]
    },
    {
     "name": "stdout",
     "output_type": "stream",
     "text": [
      "Permutation run 62/100 (original data)\n"
     ]
    },
    {
     "name": "stderr",
     "output_type": "stream",
     "text": [
      "Warning: less than 75% GPU memory available for training. Free: 5692 Total: 8191.5\n"
     ]
    },
    {
     "name": "stdout",
     "output_type": "stream",
     "text": [
      "Permutation run 63/100 (original data)\n"
     ]
    },
    {
     "name": "stderr",
     "output_type": "stream",
     "text": [
      "Warning: less than 75% GPU memory available for training. Free: 5692 Total: 8191.5\n"
     ]
    },
    {
     "name": "stdout",
     "output_type": "stream",
     "text": [
      "Permutation run 64/100 (original data)\n"
     ]
    },
    {
     "name": "stderr",
     "output_type": "stream",
     "text": [
      "Warning: less than 75% GPU memory available for training. Free: 5692 Total: 8191.5\n"
     ]
    },
    {
     "name": "stdout",
     "output_type": "stream",
     "text": [
      "Permutation run 65/100 (original data)\n"
     ]
    },
    {
     "name": "stderr",
     "output_type": "stream",
     "text": [
      "Warning: less than 75% GPU memory available for training. Free: 5692 Total: 8191.5\n"
     ]
    },
    {
     "name": "stdout",
     "output_type": "stream",
     "text": [
      "Permutation run 66/100 (original data)\n"
     ]
    },
    {
     "name": "stderr",
     "output_type": "stream",
     "text": [
      "Warning: less than 75% GPU memory available for training. Free: 5692 Total: 8191.5\n"
     ]
    },
    {
     "name": "stdout",
     "output_type": "stream",
     "text": [
      "Permutation run 67/100 (original data)\n"
     ]
    },
    {
     "name": "stderr",
     "output_type": "stream",
     "text": [
      "Warning: less than 75% GPU memory available for training. Free: 5692 Total: 8191.5\n"
     ]
    },
    {
     "name": "stdout",
     "output_type": "stream",
     "text": [
      "Permutation run 68/100 (original data)\n"
     ]
    },
    {
     "name": "stderr",
     "output_type": "stream",
     "text": [
      "Warning: less than 75% GPU memory available for training. Free: 5692 Total: 8191.5\n"
     ]
    },
    {
     "name": "stdout",
     "output_type": "stream",
     "text": [
      "Permutation run 69/100 (original data)\n"
     ]
    },
    {
     "name": "stderr",
     "output_type": "stream",
     "text": [
      "Warning: less than 75% GPU memory available for training. Free: 5692 Total: 8191.5\n"
     ]
    },
    {
     "name": "stdout",
     "output_type": "stream",
     "text": [
      "Permutation run 70/100 (original data)\n"
     ]
    },
    {
     "name": "stderr",
     "output_type": "stream",
     "text": [
      "Warning: less than 75% GPU memory available for training. Free: 5692 Total: 8191.5\n"
     ]
    },
    {
     "name": "stdout",
     "output_type": "stream",
     "text": [
      "Permutation run 71/100 (original data)\n"
     ]
    },
    {
     "name": "stderr",
     "output_type": "stream",
     "text": [
      "Warning: less than 75% GPU memory available for training. Free: 5692 Total: 8191.5\n"
     ]
    },
    {
     "name": "stdout",
     "output_type": "stream",
     "text": [
      "Permutation run 72/100 (original data)\n"
     ]
    },
    {
     "name": "stderr",
     "output_type": "stream",
     "text": [
      "Warning: less than 75% GPU memory available for training. Free: 5692 Total: 8191.5\n"
     ]
    },
    {
     "name": "stdout",
     "output_type": "stream",
     "text": [
      "Permutation run 73/100 (original data)\n"
     ]
    },
    {
     "name": "stderr",
     "output_type": "stream",
     "text": [
      "Warning: less than 75% GPU memory available for training. Free: 5692 Total: 8191.5\n"
     ]
    },
    {
     "name": "stdout",
     "output_type": "stream",
     "text": [
      "Permutation run 74/100 (original data)\n"
     ]
    },
    {
     "name": "stderr",
     "output_type": "stream",
     "text": [
      "Warning: less than 75% GPU memory available for training. Free: 5692 Total: 8191.5\n"
     ]
    },
    {
     "name": "stdout",
     "output_type": "stream",
     "text": [
      "Permutation run 75/100 (original data)\n"
     ]
    },
    {
     "name": "stderr",
     "output_type": "stream",
     "text": [
      "Warning: less than 75% GPU memory available for training. Free: 5692 Total: 8191.5\n"
     ]
    },
    {
     "name": "stdout",
     "output_type": "stream",
     "text": [
      "Permutation run 76/100 (original data)\n"
     ]
    },
    {
     "name": "stderr",
     "output_type": "stream",
     "text": [
      "Warning: less than 75% GPU memory available for training. Free: 5692 Total: 8191.5\n"
     ]
    },
    {
     "name": "stdout",
     "output_type": "stream",
     "text": [
      "Permutation run 77/100 (original data)\n"
     ]
    },
    {
     "name": "stderr",
     "output_type": "stream",
     "text": [
      "Warning: less than 75% GPU memory available for training. Free: 5692 Total: 8191.5\n"
     ]
    },
    {
     "name": "stdout",
     "output_type": "stream",
     "text": [
      "Permutation run 78/100 (original data)\n"
     ]
    },
    {
     "name": "stderr",
     "output_type": "stream",
     "text": [
      "Warning: less than 75% GPU memory available for training. Free: 5692 Total: 8191.5\n"
     ]
    },
    {
     "name": "stdout",
     "output_type": "stream",
     "text": [
      "Permutation run 79/100 (original data)\n"
     ]
    },
    {
     "name": "stderr",
     "output_type": "stream",
     "text": [
      "Warning: less than 75% GPU memory available for training. Free: 5692 Total: 8191.5\n"
     ]
    },
    {
     "name": "stdout",
     "output_type": "stream",
     "text": [
      "Permutation run 80/100 (original data)\n"
     ]
    },
    {
     "name": "stderr",
     "output_type": "stream",
     "text": [
      "Warning: less than 75% GPU memory available for training. Free: 5692 Total: 8191.5\n"
     ]
    },
    {
     "name": "stdout",
     "output_type": "stream",
     "text": [
      "Permutation run 81/100 (original data)\n"
     ]
    },
    {
     "name": "stderr",
     "output_type": "stream",
     "text": [
      "Warning: less than 75% GPU memory available for training. Free: 5692 Total: 8191.5\n"
     ]
    },
    {
     "name": "stdout",
     "output_type": "stream",
     "text": [
      "Permutation run 82/100 (original data)\n"
     ]
    },
    {
     "name": "stderr",
     "output_type": "stream",
     "text": [
      "Warning: less than 75% GPU memory available for training. Free: 5692 Total: 8191.5\n"
     ]
    },
    {
     "name": "stdout",
     "output_type": "stream",
     "text": [
      "Permutation run 83/100 (original data)\n"
     ]
    },
    {
     "name": "stderr",
     "output_type": "stream",
     "text": [
      "Warning: less than 75% GPU memory available for training. Free: 5692 Total: 8191.5\n"
     ]
    },
    {
     "name": "stdout",
     "output_type": "stream",
     "text": [
      "Permutation run 84/100 (original data)\n"
     ]
    },
    {
     "name": "stderr",
     "output_type": "stream",
     "text": [
      "Warning: less than 75% GPU memory available for training. Free: 5692 Total: 8191.5\n"
     ]
    },
    {
     "name": "stdout",
     "output_type": "stream",
     "text": [
      "Permutation run 85/100 (original data)\n"
     ]
    },
    {
     "name": "stderr",
     "output_type": "stream",
     "text": [
      "Warning: less than 75% GPU memory available for training. Free: 5692 Total: 8191.5\n"
     ]
    },
    {
     "name": "stdout",
     "output_type": "stream",
     "text": [
      "Permutation run 86/100 (original data)\n"
     ]
    },
    {
     "name": "stderr",
     "output_type": "stream",
     "text": [
      "Warning: less than 75% GPU memory available for training. Free: 5692 Total: 8191.5\n"
     ]
    },
    {
     "name": "stdout",
     "output_type": "stream",
     "text": [
      "Permutation run 87/100 (original data)\n"
     ]
    },
    {
     "name": "stderr",
     "output_type": "stream",
     "text": [
      "Warning: less than 75% GPU memory available for training. Free: 5692 Total: 8191.5\n"
     ]
    },
    {
     "name": "stdout",
     "output_type": "stream",
     "text": [
      "Permutation run 88/100 (original data)\n"
     ]
    },
    {
     "name": "stderr",
     "output_type": "stream",
     "text": [
      "Warning: less than 75% GPU memory available for training. Free: 5692 Total: 8191.5\n"
     ]
    },
    {
     "name": "stdout",
     "output_type": "stream",
     "text": [
      "Permutation run 89/100 (original data)\n"
     ]
    },
    {
     "name": "stderr",
     "output_type": "stream",
     "text": [
      "Warning: less than 75% GPU memory available for training. Free: 5692 Total: 8191.5\n"
     ]
    },
    {
     "name": "stdout",
     "output_type": "stream",
     "text": [
      "Permutation run 90/100 (original data)\n"
     ]
    },
    {
     "name": "stderr",
     "output_type": "stream",
     "text": [
      "Warning: less than 75% GPU memory available for training. Free: 5692 Total: 8191.5\n"
     ]
    },
    {
     "name": "stdout",
     "output_type": "stream",
     "text": [
      "Permutation run 91/100 (original data)\n"
     ]
    },
    {
     "name": "stderr",
     "output_type": "stream",
     "text": [
      "Warning: less than 75% GPU memory available for training. Free: 5692 Total: 8191.5\n"
     ]
    },
    {
     "name": "stdout",
     "output_type": "stream",
     "text": [
      "Permutation run 92/100 (original data)\n"
     ]
    },
    {
     "name": "stderr",
     "output_type": "stream",
     "text": [
      "Warning: less than 75% GPU memory available for training. Free: 5692 Total: 8191.5\n"
     ]
    },
    {
     "name": "stdout",
     "output_type": "stream",
     "text": [
      "Permutation run 93/100 (original data)\n"
     ]
    },
    {
     "name": "stderr",
     "output_type": "stream",
     "text": [
      "Warning: less than 75% GPU memory available for training. Free: 5692 Total: 8191.5\n"
     ]
    },
    {
     "name": "stdout",
     "output_type": "stream",
     "text": [
      "Permutation run 94/100 (original data)\n"
     ]
    },
    {
     "name": "stderr",
     "output_type": "stream",
     "text": [
      "Warning: less than 75% GPU memory available for training. Free: 5692 Total: 8191.5\n"
     ]
    },
    {
     "name": "stdout",
     "output_type": "stream",
     "text": [
      "Permutation run 95/100 (original data)\n"
     ]
    },
    {
     "name": "stderr",
     "output_type": "stream",
     "text": [
      "Warning: less than 75% GPU memory available for training. Free: 5692 Total: 8191.5\n"
     ]
    },
    {
     "name": "stdout",
     "output_type": "stream",
     "text": [
      "Permutation run 96/100 (original data)\n"
     ]
    },
    {
     "name": "stderr",
     "output_type": "stream",
     "text": [
      "Warning: less than 75% GPU memory available for training. Free: 5692 Total: 8191.5\n"
     ]
    },
    {
     "name": "stdout",
     "output_type": "stream",
     "text": [
      "Permutation run 97/100 (original data)\n"
     ]
    },
    {
     "name": "stderr",
     "output_type": "stream",
     "text": [
      "Warning: less than 75% GPU memory available for training. Free: 5692 Total: 8191.5\n"
     ]
    },
    {
     "name": "stdout",
     "output_type": "stream",
     "text": [
      "Permutation run 98/100 (original data)\n"
     ]
    },
    {
     "name": "stderr",
     "output_type": "stream",
     "text": [
      "Warning: less than 75% GPU memory available for training. Free: 5692 Total: 8191.5\n"
     ]
    },
    {
     "name": "stdout",
     "output_type": "stream",
     "text": [
      "Permutation run 99/100 (original data)\n"
     ]
    },
    {
     "name": "stderr",
     "output_type": "stream",
     "text": [
      "Warning: less than 75% GPU memory available for training. Free: 5692 Total: 8191.5\n"
     ]
    },
    {
     "name": "stdout",
     "output_type": "stream",
     "text": [
      "Permutation run 100/100 (original data)\n"
     ]
    },
    {
     "name": "stderr",
     "output_type": "stream",
     "text": [
      "Warning: less than 75% GPU memory available for training. Free: 5692 Total: 8191.5\n"
     ]
    },
    {
     "name": "stdout",
     "output_type": "stream",
     "text": [
      "\n",
      "Average Permutation Test Macro F1 on original training data over 100 runs: 0.4728\n",
      "\n",
      "Average classification report (per class) on original training data:\n",
      "Class      Precision  Recall  F1-score  Support\n",
      "Q8_2           0.373   0.330     0.332        4\n",
      "Q8_1           0.593   0.660     0.614        6\n",
      "\n",
      "Running permutation tests on augmented training data...\n",
      "Permutation run 1/100 (augmented data)\n"
     ]
    },
    {
     "name": "stderr",
     "output_type": "stream",
     "text": [
      "Warning: less than 75% GPU memory available for training. Free: 5692 Total: 8191.5\n"
     ]
    },
    {
     "name": "stdout",
     "output_type": "stream",
     "text": [
      "Permutation run 2/100 (augmented data)\n"
     ]
    },
    {
     "name": "stderr",
     "output_type": "stream",
     "text": [
      "Warning: less than 75% GPU memory available for training. Free: 5692 Total: 8191.5\n"
     ]
    },
    {
     "name": "stdout",
     "output_type": "stream",
     "text": [
      "Permutation run 3/100 (augmented data)\n"
     ]
    },
    {
     "name": "stderr",
     "output_type": "stream",
     "text": [
      "Warning: less than 75% GPU memory available for training. Free: 5692 Total: 8191.5\n"
     ]
    },
    {
     "name": "stdout",
     "output_type": "stream",
     "text": [
      "Permutation run 4/100 (augmented data)\n"
     ]
    },
    {
     "name": "stderr",
     "output_type": "stream",
     "text": [
      "Warning: less than 75% GPU memory available for training. Free: 5692 Total: 8191.5\n"
     ]
    },
    {
     "name": "stdout",
     "output_type": "stream",
     "text": [
      "Permutation run 5/100 (augmented data)\n"
     ]
    },
    {
     "name": "stderr",
     "output_type": "stream",
     "text": [
      "Warning: less than 75% GPU memory available for training. Free: 5692 Total: 8191.5\n"
     ]
    },
    {
     "name": "stdout",
     "output_type": "stream",
     "text": [
      "Permutation run 6/100 (augmented data)\n"
     ]
    },
    {
     "name": "stderr",
     "output_type": "stream",
     "text": [
      "Warning: less than 75% GPU memory available for training. Free: 5692 Total: 8191.5\n"
     ]
    },
    {
     "name": "stdout",
     "output_type": "stream",
     "text": [
      "Permutation run 7/100 (augmented data)\n"
     ]
    },
    {
     "name": "stderr",
     "output_type": "stream",
     "text": [
      "Warning: less than 75% GPU memory available for training. Free: 5692 Total: 8191.5\n"
     ]
    },
    {
     "name": "stdout",
     "output_type": "stream",
     "text": [
      "Permutation run 8/100 (augmented data)\n"
     ]
    },
    {
     "name": "stderr",
     "output_type": "stream",
     "text": [
      "Warning: less than 75% GPU memory available for training. Free: 5692 Total: 8191.5\n"
     ]
    },
    {
     "name": "stdout",
     "output_type": "stream",
     "text": [
      "Permutation run 9/100 (augmented data)\n"
     ]
    },
    {
     "name": "stderr",
     "output_type": "stream",
     "text": [
      "Warning: less than 75% GPU memory available for training. Free: 5692 Total: 8191.5\n"
     ]
    },
    {
     "name": "stdout",
     "output_type": "stream",
     "text": [
      "Permutation run 10/100 (augmented data)\n"
     ]
    },
    {
     "name": "stderr",
     "output_type": "stream",
     "text": [
      "Warning: less than 75% GPU memory available for training. Free: 5692 Total: 8191.5\n"
     ]
    },
    {
     "name": "stdout",
     "output_type": "stream",
     "text": [
      "Permutation run 11/100 (augmented data)\n"
     ]
    },
    {
     "name": "stderr",
     "output_type": "stream",
     "text": [
      "Warning: less than 75% GPU memory available for training. Free: 5692 Total: 8191.5\n"
     ]
    },
    {
     "name": "stdout",
     "output_type": "stream",
     "text": [
      "Permutation run 12/100 (augmented data)\n"
     ]
    },
    {
     "name": "stderr",
     "output_type": "stream",
     "text": [
      "Warning: less than 75% GPU memory available for training. Free: 5692 Total: 8191.5\n"
     ]
    },
    {
     "name": "stdout",
     "output_type": "stream",
     "text": [
      "Permutation run 13/100 (augmented data)\n"
     ]
    },
    {
     "name": "stderr",
     "output_type": "stream",
     "text": [
      "Warning: less than 75% GPU memory available for training. Free: 5692 Total: 8191.5\n"
     ]
    },
    {
     "name": "stdout",
     "output_type": "stream",
     "text": [
      "Permutation run 14/100 (augmented data)\n"
     ]
    },
    {
     "name": "stderr",
     "output_type": "stream",
     "text": [
      "Warning: less than 75% GPU memory available for training. Free: 5692 Total: 8191.5\n"
     ]
    },
    {
     "name": "stdout",
     "output_type": "stream",
     "text": [
      "Permutation run 15/100 (augmented data)\n"
     ]
    },
    {
     "name": "stderr",
     "output_type": "stream",
     "text": [
      "Warning: less than 75% GPU memory available for training. Free: 5692 Total: 8191.5\n"
     ]
    },
    {
     "name": "stdout",
     "output_type": "stream",
     "text": [
      "Permutation run 16/100 (augmented data)\n"
     ]
    },
    {
     "name": "stderr",
     "output_type": "stream",
     "text": [
      "Warning: less than 75% GPU memory available for training. Free: 5692 Total: 8191.5\n"
     ]
    },
    {
     "name": "stdout",
     "output_type": "stream",
     "text": [
      "Permutation run 17/100 (augmented data)\n"
     ]
    },
    {
     "name": "stderr",
     "output_type": "stream",
     "text": [
      "Warning: less than 75% GPU memory available for training. Free: 5692 Total: 8191.5\n"
     ]
    },
    {
     "name": "stdout",
     "output_type": "stream",
     "text": [
      "Permutation run 18/100 (augmented data)\n"
     ]
    },
    {
     "name": "stderr",
     "output_type": "stream",
     "text": [
      "Warning: less than 75% GPU memory available for training. Free: 5692 Total: 8191.5\n"
     ]
    },
    {
     "name": "stdout",
     "output_type": "stream",
     "text": [
      "Permutation run 19/100 (augmented data)\n"
     ]
    },
    {
     "name": "stderr",
     "output_type": "stream",
     "text": [
      "Warning: less than 75% GPU memory available for training. Free: 5692 Total: 8191.5\n"
     ]
    },
    {
     "name": "stdout",
     "output_type": "stream",
     "text": [
      "Permutation run 20/100 (augmented data)\n"
     ]
    },
    {
     "name": "stderr",
     "output_type": "stream",
     "text": [
      "Warning: less than 75% GPU memory available for training. Free: 5692 Total: 8191.5\n"
     ]
    },
    {
     "name": "stdout",
     "output_type": "stream",
     "text": [
      "Permutation run 21/100 (augmented data)\n"
     ]
    },
    {
     "name": "stderr",
     "output_type": "stream",
     "text": [
      "Warning: less than 75% GPU memory available for training. Free: 5692 Total: 8191.5\n"
     ]
    },
    {
     "name": "stdout",
     "output_type": "stream",
     "text": [
      "Permutation run 22/100 (augmented data)\n"
     ]
    },
    {
     "name": "stderr",
     "output_type": "stream",
     "text": [
      "Warning: less than 75% GPU memory available for training. Free: 5692 Total: 8191.5\n"
     ]
    },
    {
     "name": "stdout",
     "output_type": "stream",
     "text": [
      "Permutation run 23/100 (augmented data)\n"
     ]
    },
    {
     "name": "stderr",
     "output_type": "stream",
     "text": [
      "Warning: less than 75% GPU memory available for training. Free: 5692 Total: 8191.5\n"
     ]
    },
    {
     "name": "stdout",
     "output_type": "stream",
     "text": [
      "Permutation run 24/100 (augmented data)\n"
     ]
    },
    {
     "name": "stderr",
     "output_type": "stream",
     "text": [
      "Warning: less than 75% GPU memory available for training. Free: 5692 Total: 8191.5\n"
     ]
    },
    {
     "name": "stdout",
     "output_type": "stream",
     "text": [
      "Permutation run 25/100 (augmented data)\n"
     ]
    },
    {
     "name": "stderr",
     "output_type": "stream",
     "text": [
      "Warning: less than 75% GPU memory available for training. Free: 5692 Total: 8191.5\n"
     ]
    },
    {
     "name": "stdout",
     "output_type": "stream",
     "text": [
      "Permutation run 26/100 (augmented data)\n"
     ]
    },
    {
     "name": "stderr",
     "output_type": "stream",
     "text": [
      "Warning: less than 75% GPU memory available for training. Free: 5692 Total: 8191.5\n"
     ]
    },
    {
     "name": "stdout",
     "output_type": "stream",
     "text": [
      "Permutation run 27/100 (augmented data)\n"
     ]
    },
    {
     "name": "stderr",
     "output_type": "stream",
     "text": [
      "Warning: less than 75% GPU memory available for training. Free: 5692 Total: 8191.5\n"
     ]
    },
    {
     "name": "stdout",
     "output_type": "stream",
     "text": [
      "Permutation run 28/100 (augmented data)\n"
     ]
    },
    {
     "name": "stderr",
     "output_type": "stream",
     "text": [
      "Warning: less than 75% GPU memory available for training. Free: 5692 Total: 8191.5\n"
     ]
    },
    {
     "name": "stdout",
     "output_type": "stream",
     "text": [
      "Permutation run 29/100 (augmented data)\n"
     ]
    },
    {
     "name": "stderr",
     "output_type": "stream",
     "text": [
      "Warning: less than 75% GPU memory available for training. Free: 5692 Total: 8191.5\n"
     ]
    },
    {
     "name": "stdout",
     "output_type": "stream",
     "text": [
      "Permutation run 30/100 (augmented data)\n"
     ]
    },
    {
     "name": "stderr",
     "output_type": "stream",
     "text": [
      "Warning: less than 75% GPU memory available for training. Free: 5692 Total: 8191.5\n"
     ]
    },
    {
     "name": "stdout",
     "output_type": "stream",
     "text": [
      "Permutation run 31/100 (augmented data)\n"
     ]
    },
    {
     "name": "stderr",
     "output_type": "stream",
     "text": [
      "Warning: less than 75% GPU memory available for training. Free: 5692 Total: 8191.5\n"
     ]
    },
    {
     "name": "stdout",
     "output_type": "stream",
     "text": [
      "Permutation run 32/100 (augmented data)\n"
     ]
    },
    {
     "name": "stderr",
     "output_type": "stream",
     "text": [
      "Warning: less than 75% GPU memory available for training. Free: 5692 Total: 8191.5\n"
     ]
    },
    {
     "name": "stdout",
     "output_type": "stream",
     "text": [
      "Permutation run 33/100 (augmented data)\n"
     ]
    },
    {
     "name": "stderr",
     "output_type": "stream",
     "text": [
      "Warning: less than 75% GPU memory available for training. Free: 5692 Total: 8191.5\n"
     ]
    },
    {
     "name": "stdout",
     "output_type": "stream",
     "text": [
      "Permutation run 34/100 (augmented data)\n"
     ]
    },
    {
     "name": "stderr",
     "output_type": "stream",
     "text": [
      "Warning: less than 75% GPU memory available for training. Free: 5692 Total: 8191.5\n"
     ]
    },
    {
     "name": "stdout",
     "output_type": "stream",
     "text": [
      "Permutation run 35/100 (augmented data)\n"
     ]
    },
    {
     "name": "stderr",
     "output_type": "stream",
     "text": [
      "Warning: less than 75% GPU memory available for training. Free: 5692 Total: 8191.5\n"
     ]
    },
    {
     "name": "stdout",
     "output_type": "stream",
     "text": [
      "Permutation run 36/100 (augmented data)\n"
     ]
    },
    {
     "name": "stderr",
     "output_type": "stream",
     "text": [
      "Warning: less than 75% GPU memory available for training. Free: 5692 Total: 8191.5\n"
     ]
    },
    {
     "name": "stdout",
     "output_type": "stream",
     "text": [
      "Permutation run 37/100 (augmented data)\n"
     ]
    },
    {
     "name": "stderr",
     "output_type": "stream",
     "text": [
      "Warning: less than 75% GPU memory available for training. Free: 5692 Total: 8191.5\n"
     ]
    },
    {
     "name": "stdout",
     "output_type": "stream",
     "text": [
      "Permutation run 38/100 (augmented data)\n"
     ]
    },
    {
     "name": "stderr",
     "output_type": "stream",
     "text": [
      "Warning: less than 75% GPU memory available for training. Free: 5692 Total: 8191.5\n"
     ]
    },
    {
     "name": "stdout",
     "output_type": "stream",
     "text": [
      "Permutation run 39/100 (augmented data)\n"
     ]
    },
    {
     "name": "stderr",
     "output_type": "stream",
     "text": [
      "Warning: less than 75% GPU memory available for training. Free: 5692 Total: 8191.5\n"
     ]
    },
    {
     "name": "stdout",
     "output_type": "stream",
     "text": [
      "Permutation run 40/100 (augmented data)\n"
     ]
    },
    {
     "name": "stderr",
     "output_type": "stream",
     "text": [
      "Warning: less than 75% GPU memory available for training. Free: 5692 Total: 8191.5\n"
     ]
    },
    {
     "name": "stdout",
     "output_type": "stream",
     "text": [
      "Permutation run 41/100 (augmented data)\n"
     ]
    },
    {
     "name": "stderr",
     "output_type": "stream",
     "text": [
      "Warning: less than 75% GPU memory available for training. Free: 5692 Total: 8191.5\n"
     ]
    },
    {
     "name": "stdout",
     "output_type": "stream",
     "text": [
      "Permutation run 42/100 (augmented data)\n"
     ]
    },
    {
     "name": "stderr",
     "output_type": "stream",
     "text": [
      "Warning: less than 75% GPU memory available for training. Free: 5692 Total: 8191.5\n"
     ]
    },
    {
     "name": "stdout",
     "output_type": "stream",
     "text": [
      "Permutation run 43/100 (augmented data)\n"
     ]
    },
    {
     "name": "stderr",
     "output_type": "stream",
     "text": [
      "Warning: less than 75% GPU memory available for training. Free: 5692 Total: 8191.5\n"
     ]
    },
    {
     "name": "stdout",
     "output_type": "stream",
     "text": [
      "Permutation run 44/100 (augmented data)\n"
     ]
    },
    {
     "name": "stderr",
     "output_type": "stream",
     "text": [
      "Warning: less than 75% GPU memory available for training. Free: 5692 Total: 8191.5\n"
     ]
    },
    {
     "name": "stdout",
     "output_type": "stream",
     "text": [
      "Permutation run 45/100 (augmented data)\n"
     ]
    },
    {
     "name": "stderr",
     "output_type": "stream",
     "text": [
      "Warning: less than 75% GPU memory available for training. Free: 5692 Total: 8191.5\n"
     ]
    },
    {
     "name": "stdout",
     "output_type": "stream",
     "text": [
      "Permutation run 46/100 (augmented data)\n"
     ]
    },
    {
     "name": "stderr",
     "output_type": "stream",
     "text": [
      "Warning: less than 75% GPU memory available for training. Free: 5692 Total: 8191.5\n"
     ]
    },
    {
     "name": "stdout",
     "output_type": "stream",
     "text": [
      "Permutation run 47/100 (augmented data)\n"
     ]
    },
    {
     "name": "stderr",
     "output_type": "stream",
     "text": [
      "Warning: less than 75% GPU memory available for training. Free: 5692 Total: 8191.5\n"
     ]
    },
    {
     "name": "stdout",
     "output_type": "stream",
     "text": [
      "Permutation run 48/100 (augmented data)\n"
     ]
    },
    {
     "name": "stderr",
     "output_type": "stream",
     "text": [
      "Warning: less than 75% GPU memory available for training. Free: 5692 Total: 8191.5\n"
     ]
    },
    {
     "name": "stdout",
     "output_type": "stream",
     "text": [
      "Permutation run 49/100 (augmented data)\n"
     ]
    },
    {
     "name": "stderr",
     "output_type": "stream",
     "text": [
      "Warning: less than 75% GPU memory available for training. Free: 5692 Total: 8191.5\n"
     ]
    },
    {
     "name": "stdout",
     "output_type": "stream",
     "text": [
      "Permutation run 50/100 (augmented data)\n"
     ]
    },
    {
     "name": "stderr",
     "output_type": "stream",
     "text": [
      "Warning: less than 75% GPU memory available for training. Free: 5692 Total: 8191.5\n"
     ]
    },
    {
     "name": "stdout",
     "output_type": "stream",
     "text": [
      "Permutation run 51/100 (augmented data)\n"
     ]
    },
    {
     "name": "stderr",
     "output_type": "stream",
     "text": [
      "Warning: less than 75% GPU memory available for training. Free: 5692 Total: 8191.5\n"
     ]
    },
    {
     "name": "stdout",
     "output_type": "stream",
     "text": [
      "Permutation run 52/100 (augmented data)\n"
     ]
    },
    {
     "name": "stderr",
     "output_type": "stream",
     "text": [
      "Warning: less than 75% GPU memory available for training. Free: 5692 Total: 8191.5\n"
     ]
    },
    {
     "name": "stdout",
     "output_type": "stream",
     "text": [
      "Permutation run 53/100 (augmented data)\n"
     ]
    },
    {
     "name": "stderr",
     "output_type": "stream",
     "text": [
      "Warning: less than 75% GPU memory available for training. Free: 5692 Total: 8191.5\n"
     ]
    },
    {
     "name": "stdout",
     "output_type": "stream",
     "text": [
      "Permutation run 54/100 (augmented data)\n"
     ]
    },
    {
     "name": "stderr",
     "output_type": "stream",
     "text": [
      "Warning: less than 75% GPU memory available for training. Free: 5692 Total: 8191.5\n"
     ]
    },
    {
     "name": "stdout",
     "output_type": "stream",
     "text": [
      "Permutation run 55/100 (augmented data)\n"
     ]
    },
    {
     "name": "stderr",
     "output_type": "stream",
     "text": [
      "Warning: less than 75% GPU memory available for training. Free: 5692 Total: 8191.5\n"
     ]
    },
    {
     "name": "stdout",
     "output_type": "stream",
     "text": [
      "Permutation run 56/100 (augmented data)\n"
     ]
    },
    {
     "name": "stderr",
     "output_type": "stream",
     "text": [
      "Warning: less than 75% GPU memory available for training. Free: 5692 Total: 8191.5\n"
     ]
    },
    {
     "name": "stdout",
     "output_type": "stream",
     "text": [
      "Permutation run 57/100 (augmented data)\n"
     ]
    },
    {
     "name": "stderr",
     "output_type": "stream",
     "text": [
      "Warning: less than 75% GPU memory available for training. Free: 5692 Total: 8191.5\n"
     ]
    },
    {
     "name": "stdout",
     "output_type": "stream",
     "text": [
      "Permutation run 58/100 (augmented data)\n"
     ]
    },
    {
     "name": "stderr",
     "output_type": "stream",
     "text": [
      "Warning: less than 75% GPU memory available for training. Free: 5692 Total: 8191.5\n"
     ]
    },
    {
     "name": "stdout",
     "output_type": "stream",
     "text": [
      "Permutation run 59/100 (augmented data)\n"
     ]
    },
    {
     "name": "stderr",
     "output_type": "stream",
     "text": [
      "Warning: less than 75% GPU memory available for training. Free: 5692 Total: 8191.5\n"
     ]
    },
    {
     "name": "stdout",
     "output_type": "stream",
     "text": [
      "Permutation run 60/100 (augmented data)\n"
     ]
    },
    {
     "name": "stderr",
     "output_type": "stream",
     "text": [
      "Warning: less than 75% GPU memory available for training. Free: 5692 Total: 8191.5\n"
     ]
    },
    {
     "name": "stdout",
     "output_type": "stream",
     "text": [
      "Permutation run 61/100 (augmented data)\n"
     ]
    },
    {
     "name": "stderr",
     "output_type": "stream",
     "text": [
      "Warning: less than 75% GPU memory available for training. Free: 5692 Total: 8191.5\n"
     ]
    },
    {
     "name": "stdout",
     "output_type": "stream",
     "text": [
      "Permutation run 62/100 (augmented data)\n"
     ]
    },
    {
     "name": "stderr",
     "output_type": "stream",
     "text": [
      "Warning: less than 75% GPU memory available for training. Free: 5692 Total: 8191.5\n"
     ]
    },
    {
     "name": "stdout",
     "output_type": "stream",
     "text": [
      "Permutation run 63/100 (augmented data)\n"
     ]
    },
    {
     "name": "stderr",
     "output_type": "stream",
     "text": [
      "Warning: less than 75% GPU memory available for training. Free: 5692 Total: 8191.5\n"
     ]
    },
    {
     "name": "stdout",
     "output_type": "stream",
     "text": [
      "Permutation run 64/100 (augmented data)\n"
     ]
    },
    {
     "name": "stderr",
     "output_type": "stream",
     "text": [
      "Warning: less than 75% GPU memory available for training. Free: 5692 Total: 8191.5\n"
     ]
    },
    {
     "name": "stdout",
     "output_type": "stream",
     "text": [
      "Permutation run 65/100 (augmented data)\n"
     ]
    },
    {
     "name": "stderr",
     "output_type": "stream",
     "text": [
      "Warning: less than 75% GPU memory available for training. Free: 5692 Total: 8191.5\n"
     ]
    },
    {
     "name": "stdout",
     "output_type": "stream",
     "text": [
      "Permutation run 66/100 (augmented data)\n"
     ]
    },
    {
     "name": "stderr",
     "output_type": "stream",
     "text": [
      "Warning: less than 75% GPU memory available for training. Free: 5692 Total: 8191.5\n"
     ]
    },
    {
     "name": "stdout",
     "output_type": "stream",
     "text": [
      "Permutation run 67/100 (augmented data)\n"
     ]
    },
    {
     "name": "stderr",
     "output_type": "stream",
     "text": [
      "Warning: less than 75% GPU memory available for training. Free: 5692 Total: 8191.5\n"
     ]
    },
    {
     "name": "stdout",
     "output_type": "stream",
     "text": [
      "Permutation run 68/100 (augmented data)\n"
     ]
    },
    {
     "name": "stderr",
     "output_type": "stream",
     "text": [
      "Warning: less than 75% GPU memory available for training. Free: 5692 Total: 8191.5\n"
     ]
    },
    {
     "name": "stdout",
     "output_type": "stream",
     "text": [
      "Permutation run 69/100 (augmented data)\n"
     ]
    },
    {
     "name": "stderr",
     "output_type": "stream",
     "text": [
      "Warning: less than 75% GPU memory available for training. Free: 5692 Total: 8191.5\n"
     ]
    },
    {
     "name": "stdout",
     "output_type": "stream",
     "text": [
      "Permutation run 70/100 (augmented data)\n"
     ]
    },
    {
     "name": "stderr",
     "output_type": "stream",
     "text": [
      "Warning: less than 75% GPU memory available for training. Free: 5692 Total: 8191.5\n"
     ]
    },
    {
     "name": "stdout",
     "output_type": "stream",
     "text": [
      "Permutation run 71/100 (augmented data)\n"
     ]
    },
    {
     "name": "stderr",
     "output_type": "stream",
     "text": [
      "Warning: less than 75% GPU memory available for training. Free: 5692 Total: 8191.5\n"
     ]
    },
    {
     "name": "stdout",
     "output_type": "stream",
     "text": [
      "Permutation run 72/100 (augmented data)\n"
     ]
    },
    {
     "name": "stderr",
     "output_type": "stream",
     "text": [
      "Warning: less than 75% GPU memory available for training. Free: 5692 Total: 8191.5\n"
     ]
    },
    {
     "name": "stdout",
     "output_type": "stream",
     "text": [
      "Permutation run 73/100 (augmented data)\n"
     ]
    },
    {
     "name": "stderr",
     "output_type": "stream",
     "text": [
      "Warning: less than 75% GPU memory available for training. Free: 5692 Total: 8191.5\n"
     ]
    },
    {
     "name": "stdout",
     "output_type": "stream",
     "text": [
      "Permutation run 74/100 (augmented data)\n"
     ]
    },
    {
     "name": "stderr",
     "output_type": "stream",
     "text": [
      "Warning: less than 75% GPU memory available for training. Free: 5692 Total: 8191.5\n"
     ]
    },
    {
     "name": "stdout",
     "output_type": "stream",
     "text": [
      "Permutation run 75/100 (augmented data)\n"
     ]
    },
    {
     "name": "stderr",
     "output_type": "stream",
     "text": [
      "Warning: less than 75% GPU memory available for training. Free: 5692 Total: 8191.5\n"
     ]
    },
    {
     "name": "stdout",
     "output_type": "stream",
     "text": [
      "Permutation run 76/100 (augmented data)\n"
     ]
    },
    {
     "name": "stderr",
     "output_type": "stream",
     "text": [
      "Warning: less than 75% GPU memory available for training. Free: 5692 Total: 8191.5\n"
     ]
    },
    {
     "name": "stdout",
     "output_type": "stream",
     "text": [
      "Permutation run 77/100 (augmented data)\n"
     ]
    },
    {
     "name": "stderr",
     "output_type": "stream",
     "text": [
      "Warning: less than 75% GPU memory available for training. Free: 5692 Total: 8191.5\n"
     ]
    },
    {
     "name": "stdout",
     "output_type": "stream",
     "text": [
      "Permutation run 78/100 (augmented data)\n"
     ]
    },
    {
     "name": "stderr",
     "output_type": "stream",
     "text": [
      "Warning: less than 75% GPU memory available for training. Free: 5692 Total: 8191.5\n"
     ]
    },
    {
     "name": "stdout",
     "output_type": "stream",
     "text": [
      "Permutation run 79/100 (augmented data)\n"
     ]
    },
    {
     "name": "stderr",
     "output_type": "stream",
     "text": [
      "Warning: less than 75% GPU memory available for training. Free: 5692 Total: 8191.5\n"
     ]
    },
    {
     "name": "stdout",
     "output_type": "stream",
     "text": [
      "Permutation run 80/100 (augmented data)\n"
     ]
    },
    {
     "name": "stderr",
     "output_type": "stream",
     "text": [
      "Warning: less than 75% GPU memory available for training. Free: 5692 Total: 8191.5\n"
     ]
    },
    {
     "name": "stdout",
     "output_type": "stream",
     "text": [
      "Permutation run 81/100 (augmented data)\n"
     ]
    },
    {
     "name": "stderr",
     "output_type": "stream",
     "text": [
      "Warning: less than 75% GPU memory available for training. Free: 5692 Total: 8191.5\n"
     ]
    },
    {
     "name": "stdout",
     "output_type": "stream",
     "text": [
      "Permutation run 82/100 (augmented data)\n"
     ]
    },
    {
     "name": "stderr",
     "output_type": "stream",
     "text": [
      "Warning: less than 75% GPU memory available for training. Free: 5692 Total: 8191.5\n"
     ]
    },
    {
     "name": "stdout",
     "output_type": "stream",
     "text": [
      "Permutation run 83/100 (augmented data)\n"
     ]
    },
    {
     "name": "stderr",
     "output_type": "stream",
     "text": [
      "Warning: less than 75% GPU memory available for training. Free: 5692 Total: 8191.5\n"
     ]
    },
    {
     "name": "stdout",
     "output_type": "stream",
     "text": [
      "Permutation run 84/100 (augmented data)\n"
     ]
    },
    {
     "name": "stderr",
     "output_type": "stream",
     "text": [
      "Warning: less than 75% GPU memory available for training. Free: 5692 Total: 8191.5\n"
     ]
    },
    {
     "name": "stdout",
     "output_type": "stream",
     "text": [
      "Permutation run 85/100 (augmented data)\n"
     ]
    },
    {
     "name": "stderr",
     "output_type": "stream",
     "text": [
      "Warning: less than 75% GPU memory available for training. Free: 5692 Total: 8191.5\n"
     ]
    },
    {
     "name": "stdout",
     "output_type": "stream",
     "text": [
      "Permutation run 86/100 (augmented data)\n"
     ]
    },
    {
     "name": "stderr",
     "output_type": "stream",
     "text": [
      "Warning: less than 75% GPU memory available for training. Free: 5692 Total: 8191.5\n"
     ]
    },
    {
     "name": "stdout",
     "output_type": "stream",
     "text": [
      "Permutation run 87/100 (augmented data)\n"
     ]
    },
    {
     "name": "stderr",
     "output_type": "stream",
     "text": [
      "Warning: less than 75% GPU memory available for training. Free: 5692 Total: 8191.5\n"
     ]
    },
    {
     "name": "stdout",
     "output_type": "stream",
     "text": [
      "Permutation run 88/100 (augmented data)\n"
     ]
    },
    {
     "name": "stderr",
     "output_type": "stream",
     "text": [
      "Warning: less than 75% GPU memory available for training. Free: 5692 Total: 8191.5\n"
     ]
    },
    {
     "name": "stdout",
     "output_type": "stream",
     "text": [
      "Permutation run 89/100 (augmented data)\n"
     ]
    },
    {
     "name": "stderr",
     "output_type": "stream",
     "text": [
      "Warning: less than 75% GPU memory available for training. Free: 5692 Total: 8191.5\n"
     ]
    },
    {
     "name": "stdout",
     "output_type": "stream",
     "text": [
      "Permutation run 90/100 (augmented data)\n"
     ]
    },
    {
     "name": "stderr",
     "output_type": "stream",
     "text": [
      "Warning: less than 75% GPU memory available for training. Free: 5692 Total: 8191.5\n"
     ]
    },
    {
     "name": "stdout",
     "output_type": "stream",
     "text": [
      "Permutation run 91/100 (augmented data)\n"
     ]
    },
    {
     "name": "stderr",
     "output_type": "stream",
     "text": [
      "Warning: less than 75% GPU memory available for training. Free: 5692 Total: 8191.5\n"
     ]
    },
    {
     "name": "stdout",
     "output_type": "stream",
     "text": [
      "Permutation run 92/100 (augmented data)\n"
     ]
    },
    {
     "name": "stderr",
     "output_type": "stream",
     "text": [
      "Warning: less than 75% GPU memory available for training. Free: 5692 Total: 8191.5\n"
     ]
    },
    {
     "name": "stdout",
     "output_type": "stream",
     "text": [
      "Permutation run 93/100 (augmented data)\n"
     ]
    },
    {
     "name": "stderr",
     "output_type": "stream",
     "text": [
      "Warning: less than 75% GPU memory available for training. Free: 5692 Total: 8191.5\n"
     ]
    },
    {
     "name": "stdout",
     "output_type": "stream",
     "text": [
      "Permutation run 94/100 (augmented data)\n"
     ]
    },
    {
     "name": "stderr",
     "output_type": "stream",
     "text": [
      "Warning: less than 75% GPU memory available for training. Free: 5692 Total: 8191.5\n"
     ]
    },
    {
     "name": "stdout",
     "output_type": "stream",
     "text": [
      "Permutation run 95/100 (augmented data)\n"
     ]
    },
    {
     "name": "stderr",
     "output_type": "stream",
     "text": [
      "Warning: less than 75% GPU memory available for training. Free: 5692 Total: 8191.5\n"
     ]
    },
    {
     "name": "stdout",
     "output_type": "stream",
     "text": [
      "Permutation run 96/100 (augmented data)\n"
     ]
    },
    {
     "name": "stderr",
     "output_type": "stream",
     "text": [
      "Warning: less than 75% GPU memory available for training. Free: 5692 Total: 8191.5\n"
     ]
    },
    {
     "name": "stdout",
     "output_type": "stream",
     "text": [
      "Permutation run 97/100 (augmented data)\n"
     ]
    },
    {
     "name": "stderr",
     "output_type": "stream",
     "text": [
      "Warning: less than 75% GPU memory available for training. Free: 5692 Total: 8191.5\n"
     ]
    },
    {
     "name": "stdout",
     "output_type": "stream",
     "text": [
      "Permutation run 98/100 (augmented data)\n"
     ]
    },
    {
     "name": "stderr",
     "output_type": "stream",
     "text": [
      "Warning: less than 75% GPU memory available for training. Free: 5692 Total: 8191.5\n"
     ]
    },
    {
     "name": "stdout",
     "output_type": "stream",
     "text": [
      "Permutation run 99/100 (augmented data)\n"
     ]
    },
    {
     "name": "stderr",
     "output_type": "stream",
     "text": [
      "Warning: less than 75% GPU memory available for training. Free: 5692 Total: 8191.5\n"
     ]
    },
    {
     "name": "stdout",
     "output_type": "stream",
     "text": [
      "Permutation run 100/100 (augmented data)\n"
     ]
    },
    {
     "name": "stderr",
     "output_type": "stream",
     "text": [
      "Warning: less than 75% GPU memory available for training. Free: 5692 Total: 8191.5\n"
     ]
    },
    {
     "name": "stdout",
     "output_type": "stream",
     "text": [
      "\n",
      "Average Permutation Test Macro F1 on augmented training data over 100 runs: 0.4968\n",
      "\n",
      "Average classification report (per class) on augmented training data:\n",
      "Class      Precision  Recall  F1-score  Support\n",
      "Q8_2           0.419   0.310     0.339        4\n",
      "Q8_1           0.610   0.722     0.654        6\n"
     ]
    }
   ],
   "source": [
    "## (Training) ##\n",
    "\n",
    "# Note: This code was used twice:\n",
    "# (1) The first run was made right after the hand labeling was done.\n",
    "# (2) The second training used a combined labeled dataset of hand labeled data and the hand-picked accurate predictions from the first run by relabeling. \n",
    "\n",
    "# Load and filter labeled data, focusing on relevant combined_labels and positive matches.\n",
    "# Perform stratified train-validation split by label with a fixed holdout fraction.\n",
    "# Augment training data by adding synonym-replaced sentences to improve robustness.\n",
    "# Encode sentences with SBERT embeddings and train a CatBoost multi-class classifier (here multiclass is still used because it resorts to a binary classifier if there are 2 options).\n",
    "# Evaluate the model on validation data and save the trained model and label mappings.\n",
    "\n",
    "%run train_catboost_labeled.py"
   ]
  },
  {
   "cell_type": "code",
   "execution_count": 7,
   "id": "3e928fbb",
   "metadata": {},
   "outputs": [
    {
     "name": "stdout",
     "output_type": "stream",
     "text": [
      "Top keyphrases for Q8_1:\n",
      " - raising children navigate life independence responsibility (score: 0.807)\n",
      " - individual community raising children navigate life independence (score: 0.749)\n",
      " - empowering person think choose act independently remains (score: 0.631)\n",
      "\n",
      "Top keyphrases for Q8_2:\n",
      " - personal independence harmony social fabric teach children (score: 0.739)\n",
      " - children independent place greater value collective responsibility (score: 0.711)\n",
      " - shared obligations emphasis place personal independence (score: 0.674)\n",
      "\n",
      "Keyphrase extraction results saved to logs_and_metrics/keybert_keyphrases.json\n"
     ]
    }
   ],
   "source": [
    "# (Prediction Pre-Processing Informative Keyword Fine-Tuning)\n",
    "# Optional keyword extraction fine-tuning code using KeyBERT\n",
    "%run tune_keywords_keybert.py"
   ]
  },
  {
   "cell_type": "code",
   "execution_count": 1,
   "id": "c0fe9c4e",
   "metadata": {},
   "outputs": [
    {
     "name": "stdout",
     "output_type": "stream",
     "text": [
      "Selected 4554 unseen sentences for prediction.\n",
      "Encoding unseen sentences...\n"
     ]
    },
    {
     "name": "stderr",
     "output_type": "stream",
     "text": [
      "Encoding batches: 100%|██████████| 143/143 [00:04<00:00, 32.44it/s]\n"
     ]
    },
    {
     "name": "stdout",
     "output_type": "stream",
     "text": [
      "Predicting classes and probabilities...\n",
      "Extracting keyphrases per label for semantic filtering...\n",
      "Applying semantic similarity filtering per predicted label...\n",
      "Applying joint scoring and filtering...\n",
      "Kept 135 predictions after joint scoring filtering.\n",
      "Saved the results to predictions/q8_predictions_top_score_filtered.csv\n"
     ]
    }
   ],
   "source": [
    "## (Prediction - I) ##\n",
    "\n",
    "# This prediction only uses the top_scored_sentences.csv dataset, which is the output of the data_prep_scoring.py script.\n",
    "# The prediction dataset contains the most uncertain sentences in the previous measurements\n",
    "# As stated, the accurate outputs will be used to enrich the training data for the second training run.\n",
    "\n",
    "# Load unseen sentences excluding those already labeled in training by embedding hash.\n",
    "# Use a pre-trained CatBoost model and SBERT embeddings to predict combined_labels on unseen data.\n",
    "# Filter predicted sentences by confidence threshold (perc_above_chance >= threshold).\n",
    "# Merge additional metadata from the full scored sentences dataset based on predicted labels.\n",
    "# Display a preview and save filtered, labeled predictions to CSV for further use.\n",
    "\n",
    "%run predict_catboost_top_score.py"
   ]
  },
  {
   "cell_type": "code",
   "execution_count": 1,
   "id": "a712660e",
   "metadata": {},
   "outputs": [
    {
     "data": {
      "image/png": "[encoded data removed]",
      "text/plain": [
       "<Figure size 1000x600 with 1 Axes>"
      ]
     },
     "metadata": {},
     "output_type": "display_data"
    },
    {
     "data": {
      "image/png": "[encoded data removed]",
      "text/plain": [
       "<Figure size 800x500 with 1 Axes>"
      ]
     },
     "metadata": {},
     "output_type": "display_data"
    }
   ],
   "source": [
    "# Get prediction distributions and the distributions of the WVS responses\n",
    "\n",
    "%run get_dist_pred_wvs.py"
   ]
  },
  {
   "cell_type": "code",
   "execution_count": null,
   "id": "9b241872",
   "metadata": {},
   "outputs": [],
   "source": [
    "## (Labeling - II) ##\n",
    "\n",
    "# This function appends accurately predicted sentences from the predictions file\n",
    "# to the labeled dataset based on a provided list of selected sentence hashes.\n",
    "# It filters these hashes to those present in the predictions, then matches them\n",
    "# with the top scored sentences and marks them as matched.\n",
    "# Finally, it concatenates these new matched sentences with the existing labeled data and saves it.\n",
    "\n",
    "# After this code is run, the model was trained the second time with the appended labeled dataset.\n",
    "# Note: Due to changes resulting from the hand-labeling of the data, the corresponding response and adapted hypotheses can be misleading\n",
    "# in the current state.\n",
    "\n",
    "#%run label_append_after_pred.py"
   ]
  },
  {
   "cell_type": "code",
   "execution_count": null,
   "id": "40700151",
   "metadata": {},
   "outputs": [],
   "source": [
    "## (Training - II) ##\n",
    "\n",
    "# After the Labeling - II code is run, the model was trained the second time with the appended labeled dataset."
   ]
  },
  {
   "cell_type": "code",
   "execution_count": 2,
   "id": "87daae78",
   "metadata": {},
   "outputs": [
    {
     "name": "stdout",
     "output_type": "stream",
     "text": [
      "Loading combined labeled CSV...\n",
      "Extracting top keyphrases per label...\n",
      "Loading SBERT model...\n",
      "Loading unseen data...\n",
      "Filtered unseen sentences count: 25680\n",
      "Loading CatBoost model...\n",
      "Encoding unseen sentences...\n"
     ]
    },
    {
     "name": "stderr",
     "output_type": "stream",
     "text": [
      "Encoding batches: 100%|██████████| 803/803 [00:20<00:00, 38.45it/s]\n"
     ]
    },
    {
     "name": "stdout",
     "output_type": "stream",
     "text": [
      "Predicting classes and probabilities...\n",
      "Applying semantic similarity filtering per predicted label...\n",
      "Applying joint scoring and filtering...\n",
      "Kept 164 predictions after joint scoring filtering.\n",
      "Saved filtered predictions to predictions/q8_predictions_filtered.csv\n"
     ]
    }
   ],
   "source": [
    "## (Prediction - II) ##\n",
    "\n",
    "# This code loads UNGA speech sentences and WVC metadata, excluding training data to prevent leakage.\n",
    "# It encodes filtered sentences with a SentenceTransformer model, then predicts classes and confidences using a CatBoost classifier.\n",
    "# Predictions with confidence above chance threshold are kept, and relevant columns are selected.\n",
    "# It merges the predictions with metadata from the WVC dataset based on predicted labels.\n",
    "# Finally, it previews and saves the combined prediction results to a CSV file for further use.\n",
    "\n",
    "%run predict_catboost_unga_wvs7.py"
   ]
  },
  {
   "cell_type": "code",
   "execution_count": 2,
   "id": "fc9680d9",
   "metadata": {},
   "outputs": [
    {
     "name": "stdout",
     "output_type": "stream",
     "text": [
      "Loading combined labeled CSV...\n",
      "Extracting top keyphrases per label...\n",
      "Loading SBERT model...\n",
      "Loading unseen data...\n",
      "Loading CatBoost model...\n",
      "Encoding unseen sentences...\n"
     ]
    },
    {
     "name": "stderr",
     "output_type": "stream",
     "text": [
      "Encoding batches: 100%|██████████| 21/21 [00:00<00:00, 37.19it/s]\n"
     ]
    },
    {
     "name": "stdout",
     "output_type": "stream",
     "text": [
      "Predicting classes and probabilities...\n",
      "Applying semantic similarity filtering per predicted label...\n",
      "Applying joint scoring and filtering...\n",
      "Kept 5 predictions after joint scoring filtering.\n",
      "Saved filtered predictions to predictions/q8_predictions_ungs.csv\n"
     ]
    }
   ],
   "source": [
    "# Predict UNGA speeches using the trained model\n",
    "\n",
    "%run predict_ungs_address.py"
   ]
  },
  {
   "cell_type": "code",
   "execution_count": 3,
   "id": "1afe7444",
   "metadata": {},
   "outputs": [
    {
     "data": {
      "text/html": [
       "<div>\n",
       "<style scoped>\n",
       "    .dataframe tbody tr th:only-of-type {\n",
       "        vertical-align: middle;\n",
       "    }\n",
       "\n",
       "    .dataframe tbody tr th {\n",
       "        vertical-align: top;\n",
       "    }\n",
       "\n",
       "    .dataframe thead th {\n",
       "        text-align: right;\n",
       "    }\n",
       "</style>\n",
       "<table border=\"1\" class=\"dataframe\">\n",
       "  <thead>\n",
       "    <tr style=\"text-align: right;\">\n",
       "      <th></th>\n",
       "      <th>B_COUNTRY_ALPHA</th>\n",
       "      <th>A_YEAR</th>\n",
       "      <th>most_frequent_label</th>\n",
       "      <th>most_frequent_count</th>\n",
       "    </tr>\n",
       "  </thead>\n",
       "  <tbody>\n",
       "    <tr>\n",
       "      <th>0</th>\n",
       "      <td>ARG</td>\n",
       "      <td>2017</td>\n",
       "      <td>Q8_1</td>\n",
       "      <td>1</td>\n",
       "    </tr>\n",
       "    <tr>\n",
       "      <th>1</th>\n",
       "      <td>AUS</td>\n",
       "      <td>2018</td>\n",
       "      <td>Q8_2</td>\n",
       "      <td>1</td>\n",
       "    </tr>\n",
       "    <tr>\n",
       "      <th>2</th>\n",
       "      <td>BOL</td>\n",
       "      <td>2017</td>\n",
       "      <td>Q8_2</td>\n",
       "      <td>3</td>\n",
       "    </tr>\n",
       "    <tr>\n",
       "      <th>3</th>\n",
       "      <td>CAN</td>\n",
       "      <td>2020</td>\n",
       "      <td>Q8_1</td>\n",
       "      <td>1</td>\n",
       "    </tr>\n",
       "    <tr>\n",
       "      <th>4</th>\n",
       "      <td>DEU</td>\n",
       "      <td>2018</td>\n",
       "      <td>Q8_2</td>\n",
       "      <td>1</td>\n",
       "    </tr>\n",
       "    <tr>\n",
       "      <th>5</th>\n",
       "      <td>ECU</td>\n",
       "      <td>2018</td>\n",
       "      <td>Q8_2</td>\n",
       "      <td>3</td>\n",
       "    </tr>\n",
       "    <tr>\n",
       "      <th>6</th>\n",
       "      <td>IDN</td>\n",
       "      <td>2018</td>\n",
       "      <td>Q8_1</td>\n",
       "      <td>1</td>\n",
       "    </tr>\n",
       "    <tr>\n",
       "      <th>7</th>\n",
       "      <td>JOR</td>\n",
       "      <td>2018</td>\n",
       "      <td>Q8_2</td>\n",
       "      <td>2</td>\n",
       "    </tr>\n",
       "    <tr>\n",
       "      <th>8</th>\n",
       "      <td>MEX</td>\n",
       "      <td>2018</td>\n",
       "      <td>Q8_1</td>\n",
       "      <td>1</td>\n",
       "    </tr>\n",
       "    <tr>\n",
       "      <th>9</th>\n",
       "      <td>PAK</td>\n",
       "      <td>2018</td>\n",
       "      <td>Q8_1</td>\n",
       "      <td>1</td>\n",
       "    </tr>\n",
       "    <tr>\n",
       "      <th>10</th>\n",
       "      <td>PHL</td>\n",
       "      <td>2019</td>\n",
       "      <td>Q8_2</td>\n",
       "      <td>1</td>\n",
       "    </tr>\n",
       "    <tr>\n",
       "      <th>11</th>\n",
       "      <td>THA</td>\n",
       "      <td>2018</td>\n",
       "      <td>Q8_1</td>\n",
       "      <td>1</td>\n",
       "    </tr>\n",
       "    <tr>\n",
       "      <th>12</th>\n",
       "      <td>UZB</td>\n",
       "      <td>2022</td>\n",
       "      <td>Q8_1</td>\n",
       "      <td>1</td>\n",
       "    </tr>\n",
       "    <tr>\n",
       "      <th>13</th>\n",
       "      <td>ZWE</td>\n",
       "      <td>2020</td>\n",
       "      <td>Q8_1</td>\n",
       "      <td>1</td>\n",
       "    </tr>\n",
       "  </tbody>\n",
       "</table>\n",
       "</div>"
      ],
      "text/plain": [
       "   B_COUNTRY_ALPHA  A_YEAR most_frequent_label  most_frequent_count\n",
       "0              ARG    2017                Q8_1                    1\n",
       "1              AUS    2018                Q8_2                    1\n",
       "2              BOL    2017                Q8_2                    3\n",
       "3              CAN    2020                Q8_1                    1\n",
       "4              DEU    2018                Q8_2                    1\n",
       "5              ECU    2018                Q8_2                    3\n",
       "6              IDN    2018                Q8_1                    1\n",
       "7              JOR    2018                Q8_2                    2\n",
       "8              MEX    2018                Q8_1                    1\n",
       "9              PAK    2018                Q8_1                    1\n",
       "10             PHL    2019                Q8_2                    1\n",
       "11             THA    2018                Q8_1                    1\n",
       "12             UZB    2022                Q8_1                    1\n",
       "13             ZWE    2020                Q8_1                    1"
      ]
     },
     "metadata": {},
     "output_type": "display_data"
    }
   ],
   "source": [
    "## (Post-Processing) ##\n",
    "\n",
    "# This code analyzes predicted labels per country-year from the predictions dataset,\n",
    "# identifies the most frequent labels for each country-year\n",
    "# filters to keep only country-years present in the WVS dataset,\n",
    "# and finally displays and saves the summarized results.\n",
    "\n",
    "%run get_q8_frequencies.py"
   ]
  },
  {
   "cell_type": "code",
   "execution_count": 4,
   "id": "d3f6a34f",
   "metadata": {},
   "outputs": [
    {
     "data": {
      "application/vnd.plotly.v1+json": {
       "config": {
        "plotlyServerURL": "https://plot.ly"
       },
       "data": [
        {
         "hovertemplate": "<b>%{hovertext}</b><br><br>Country=%{x}<br>Proportion of Q8_1=%{y}<br>Sentence Count=%{marker.size}<extra></extra>",
         "hovertext": [
          "AND"
         ],
         "legendgroup": "AND",
         "marker": {
          "color": "#636efa",
          "size": {
           "bdata": "Aw==",
           "dtype": "i1"
          },
          "sizemode": "area",
          "sizeref": 0.005,
          "symbol": "circle"
         },
         "mode": "markers",
         "name": "AND",
         "orientation": "v",
         "showlegend": true,
         "type": "scatter",
         "x": [
          "AND"
         ],
         "xaxis": "x",
         "y": {
          "bdata": "AAAAAAAA2D8=",
          "dtype": "f8"
         },
         "yaxis": "y"
        },
        {
         "hovertemplate": "<b>%{hovertext}</b><br><br>Country=%{x}<br>Proportion of Q8_1=%{y}<br>Sentence Count=%{marker.size}<extra></extra>",
         "hovertext": [
          "ARG"
         ],
         "legendgroup": "ARG",
         "marker": {
          "color": "#EF553B",
          "size": {
           "bdata": "AQ==",
           "dtype": "i1"
          },
          "sizemode": "area",
          "sizeref": 0.005,
          "symbol": "circle"
         },
         "mode": "markers",
         "name": "ARG",
         "orientation": "v",
         "showlegend": true,
         "type": "scatter",
         "x": [
          "ARG"
         ],
         "xaxis": "x",
         "y": {
          "bdata": "AAAAAAAA8D8=",
          "dtype": "f8"
         },
         "yaxis": "y"
        },
        {
         "hovertemplate": "<b>%{hovertext}</b><br><br>Country=%{x}<br>Proportion of Q8_1=%{y}<br>Sentence Count=%{marker.size}<extra></extra>",
         "hovertext": [
          "ARM"
         ],
         "legendgroup": "ARM",
         "marker": {
          "color": "#00cc96",
          "size": {
           "bdata": "Ag==",
           "dtype": "i1"
          },
          "sizemode": "area",
          "sizeref": 0.005,
          "symbol": "circle"
         },
         "mode": "markers",
         "name": "ARM",
         "orientation": "v",
         "showlegend": true,
         "type": "scatter",
         "x": [
          "ARM"
         ],
         "xaxis": "x",
         "y": {
          "bdata": "AAAAAAAA8D8=",
          "dtype": "f8"
         },
         "yaxis": "y"
        },
        {
         "hovertemplate": "<b>%{hovertext}</b><br><br>Country=%{x}<br>Proportion of Q8_1=%{y}<br>Sentence Count=%{marker.size}<extra></extra>",
         "hovertext": [
          "AUS"
         ],
         "legendgroup": "AUS",
         "marker": {
          "color": "#ab63fa",
          "size": {
           "bdata": "BA==",
           "dtype": "i1"
          },
          "sizemode": "area",
          "sizeref": 0.005,
          "symbol": "circle"
         },
         "mode": "markers",
         "name": "AUS",
         "orientation": "v",
         "showlegend": true,
         "type": "scatter",
         "x": [
          "AUS"
         ],
         "xaxis": "x",
         "y": {
          "bdata": "AAAAAAAA4D8=",
          "dtype": "f8"
         },
         "yaxis": "y"
        },
        {
         "hovertemplate": "<b>%{hovertext}</b><br><br>Country=%{x}<br>Proportion of Q8_1=%{y}<br>Sentence Count=%{marker.size}<extra></extra>",
         "hovertext": [
          "BGD"
         ],
         "legendgroup": "BGD",
         "marker": {
          "color": "#FFA15A",
          "size": {
           "bdata": "AQ==",
           "dtype": "i1"
          },
          "sizemode": "area",
          "sizeref": 0.005,
          "symbol": "circle"
         },
         "mode": "markers",
         "name": "BGD",
         "orientation": "v",
         "showlegend": true,
         "type": "scatter",
         "x": [
          "BGD"
         ],
         "xaxis": "x",
         "y": {
          "bdata": "AAAAAAAA8D8=",
          "dtype": "f8"
         },
         "yaxis": "y"
        },
        {
         "hovertemplate": "<b>%{hovertext}</b><br><br>Country=%{x}<br>Proportion of Q8_1=%{y}<br>Sentence Count=%{marker.size}<extra></extra>",
         "hovertext": [
          "BRA"
         ],
         "legendgroup": "BRA",
         "marker": {
          "color": "#19d3f3",
          "size": {
           "bdata": "Ag==",
           "dtype": "i1"
          },
          "sizemode": "area",
          "sizeref": 0.005,
          "symbol": "circle"
         },
         "mode": "markers",
         "name": "BRA",
         "orientation": "v",
         "showlegend": true,
         "type": "scatter",
         "x": [
          "BRA"
         ],
         "xaxis": "x",
         "y": {
          "bdata": "AAAAAAAA8D8=",
          "dtype": "f8"
         },
         "yaxis": "y"
        },
        {
         "hovertemplate": "<b>%{hovertext}</b><br><br>Country=%{x}<br>Proportion of Q8_1=%{y}<br>Sentence Count=%{marker.size}<extra></extra>",
         "hovertext": [
          "CAN"
         ],
         "legendgroup": "CAN",
         "marker": {
          "color": "#FF6692",
          "size": {
           "bdata": "CA==",
           "dtype": "i1"
          },
          "sizemode": "area",
          "sizeref": 0.005,
          "symbol": "circle"
         },
         "mode": "markers",
         "name": "CAN",
         "orientation": "v",
         "showlegend": true,
         "type": "scatter",
         "x": [
          "CAN"
         ],
         "xaxis": "x",
         "y": {
          "bdata": "RhdddNFF5z8=",
          "dtype": "f8"
         },
         "yaxis": "y"
        },
        {
         "hovertemplate": "<b>%{hovertext}</b><br><br>Country=%{x}<br>Proportion of Q8_1=%{y}<br>Sentence Count=%{marker.size}<extra></extra>",
         "hovertext": [
          "CHL"
         ],
         "legendgroup": "CHL",
         "marker": {
          "color": "#B6E880",
          "size": {
           "bdata": "Ag==",
           "dtype": "i1"
          },
          "sizemode": "area",
          "sizeref": 0.005,
          "symbol": "circle"
         },
         "mode": "markers",
         "name": "CHL",
         "orientation": "v",
         "showlegend": true,
         "type": "scatter",
         "x": [
          "CHL"
         ],
         "xaxis": "x",
         "y": {
          "bdata": "HMdxHMdxzD8=",
          "dtype": "f8"
         },
         "yaxis": "y"
        },
        {
         "hovertemplate": "<b>%{hovertext}</b><br><br>Country=%{x}<br>Proportion of Q8_1=%{y}<br>Sentence Count=%{marker.size}<extra></extra>",
         "hovertext": [
          "CHN"
         ],
         "legendgroup": "CHN",
         "marker": {
          "color": "#FF97FF",
          "size": {
           "bdata": "AQ==",
           "dtype": "i1"
          },
          "sizemode": "area",
          "sizeref": 0.005,
          "symbol": "circle"
         },
         "mode": "markers",
         "name": "CHN",
         "orientation": "v",
         "showlegend": true,
         "type": "scatter",
         "x": [
          "CHN"
         ],
         "xaxis": "x",
         "y": {
          "bdata": "AAAAAAAA0D8=",
          "dtype": "f8"
         },
         "yaxis": "y"
        },
        {
         "hovertemplate": "<b>%{hovertext}</b><br><br>Country=%{x}<br>Proportion of Q8_1=%{y}<br>Sentence Count=%{marker.size}<extra></extra>",
         "hovertext": [
          "CZE"
         ],
         "legendgroup": "CZE",
         "marker": {
          "color": "#FECB52",
          "size": {
           "bdata": "AQ==",
           "dtype": "i1"
          },
          "sizemode": "area",
          "sizeref": 0.005,
          "symbol": "circle"
         },
         "mode": "markers",
         "name": "CZE",
         "orientation": "v",
         "showlegend": true,
         "type": "scatter",
         "x": [
          "CZE"
         ],
         "xaxis": "x",
         "y": {
          "bdata": "AAAAAAAA4D8=",
          "dtype": "f8"
         },
         "yaxis": "y"
        },
        {
         "hovertemplate": "<b>%{hovertext}</b><br><br>Country=%{x}<br>Proportion of Q8_1=%{y}<br>Sentence Count=%{marker.size}<extra></extra>",
         "hovertext": [
          "DEU"
         ],
         "legendgroup": "DEU",
         "marker": {
          "color": "#636efa",
          "size": {
           "bdata": "AQ==",
           "dtype": "i1"
          },
          "sizemode": "area",
          "sizeref": 0.005,
          "symbol": "circle"
         },
         "mode": "markers",
         "name": "DEU",
         "orientation": "v",
         "showlegend": true,
         "type": "scatter",
         "x": [
          "DEU"
         ],
         "xaxis": "x",
         "y": {
          "bdata": "VVVVVVVVxT8=",
          "dtype": "f8"
         },
         "yaxis": "y"
        },
        {
         "hovertemplate": "<b>%{hovertext}</b><br><br>Country=%{x}<br>Proportion of Q8_1=%{y}<br>Sentence Count=%{marker.size}<extra></extra>",
         "hovertext": [
          "ECU"
         ],
         "legendgroup": "ECU",
         "marker": {
          "color": "#EF553B",
          "size": {
           "bdata": "Aw==",
           "dtype": "i1"
          },
          "sizemode": "area",
          "sizeref": 0.005,
          "symbol": "circle"
         },
         "mode": "markers",
         "name": "ECU",
         "orientation": "v",
         "showlegend": true,
         "type": "scatter",
         "x": [
          "ECU"
         ],
         "xaxis": "x",
         "y": {
          "bdata": "AAAAAAAA2D8=",
          "dtype": "f8"
         },
         "yaxis": "y"
        },
        {
         "hovertemplate": "<b>%{hovertext}</b><br><br>Country=%{x}<br>Proportion of Q8_1=%{y}<br>Sentence Count=%{marker.size}<extra></extra>",
         "hovertext": [
          "ETH"
         ],
         "legendgroup": "ETH",
         "marker": {
          "color": "#00cc96",
          "size": {
           "bdata": "AQ==",
           "dtype": "i1"
          },
          "sizemode": "area",
          "sizeref": 0.005,
          "symbol": "circle"
         },
         "mode": "markers",
         "name": "ETH",
         "orientation": "v",
         "showlegend": true,
         "type": "scatter",
         "x": [
          "ETH"
         ],
         "xaxis": "x",
         "y": {
          "bdata": "AAAAAAAA0D8=",
          "dtype": "f8"
         },
         "yaxis": "y"
        },
        {
         "hovertemplate": "<b>%{hovertext}</b><br><br>Country=%{x}<br>Proportion of Q8_1=%{y}<br>Sentence Count=%{marker.size}<extra></extra>",
         "hovertext": [
          "GBR"
         ],
         "legendgroup": "GBR",
         "marker": {
          "color": "#ab63fa",
          "size": {
           "bdata": "AQ==",
           "dtype": "i1"
          },
          "sizemode": "area",
          "sizeref": 0.005,
          "symbol": "circle"
         },
         "mode": "markers",
         "name": "GBR",
         "orientation": "v",
         "showlegend": true,
         "type": "scatter",
         "x": [
          "GBR"
         ],
         "xaxis": "x",
         "y": {
          "bdata": "AAAAAAAA4D8=",
          "dtype": "f8"
         },
         "yaxis": "y"
        },
        {
         "hovertemplate": "<b>%{hovertext}</b><br><br>Country=%{x}<br>Proportion of Q8_1=%{y}<br>Sentence Count=%{marker.size}<extra></extra>",
         "hovertext": [
          "GRC"
         ],
         "legendgroup": "GRC",
         "marker": {
          "color": "#FFA15A",
          "size": {
           "bdata": "AQ==",
           "dtype": "i1"
          },
          "sizemode": "area",
          "sizeref": 0.005,
          "symbol": "circle"
         },
         "mode": "markers",
         "name": "GRC",
         "orientation": "v",
         "showlegend": true,
         "type": "scatter",
         "x": [
          "GRC"
         ],
         "xaxis": "x",
         "y": {
          "bdata": "AAAAAAAA8D8=",
          "dtype": "f8"
         },
         "yaxis": "y"
        },
        {
         "hovertemplate": "<b>%{hovertext}</b><br><br>Country=%{x}<br>Proportion of Q8_1=%{y}<br>Sentence Count=%{marker.size}<extra></extra>",
         "hovertext": [
          "GTM"
         ],
         "legendgroup": "GTM",
         "marker": {
          "color": "#19d3f3",
          "size": {
           "bdata": "AQ==",
           "dtype": "i1"
          },
          "sizemode": "area",
          "sizeref": 0.005,
          "symbol": "circle"
         },
         "mode": "markers",
         "name": "GTM",
         "orientation": "v",
         "showlegend": true,
         "type": "scatter",
         "x": [
          "GTM"
         ],
         "xaxis": "x",
         "y": {
          "bdata": "AAAAAAAA8D8=",
          "dtype": "f8"
         },
         "yaxis": "y"
        },
        {
         "hovertemplate": "<b>%{hovertext}</b><br><br>Country=%{x}<br>Proportion of Q8_1=%{y}<br>Sentence Count=%{marker.size}<extra></extra>",
         "hovertext": [
          "IDN"
         ],
         "legendgroup": "IDN",
         "marker": {
          "color": "#FF6692",
          "size": {
           "bdata": "AQ==",
           "dtype": "i1"
          },
          "sizemode": "area",
          "sizeref": 0.005,
          "symbol": "circle"
         },
         "mode": "markers",
         "name": "IDN",
         "orientation": "v",
         "showlegend": true,
         "type": "scatter",
         "x": [
          "IDN"
         ],
         "xaxis": "x",
         "y": {
          "bdata": "VVVVVVVV1T8=",
          "dtype": "f8"
         },
         "yaxis": "y"
        },
        {
         "hovertemplate": "<b>%{hovertext}</b><br><br>Country=%{x}<br>Proportion of Q8_1=%{y}<br>Sentence Count=%{marker.size}<extra></extra>",
         "hovertext": [
          "IND"
         ],
         "legendgroup": "IND",
         "marker": {
          "color": "#B6E880",
          "size": {
           "bdata": "BA==",
           "dtype": "i1"
          },
          "sizemode": "area",
          "sizeref": 0.005,
          "symbol": "circle"
         },
         "mode": "markers",
         "name": "IND",
         "orientation": "v",
         "showlegend": true,
         "type": "scatter",
         "x": [
          "IND"
         ],
         "xaxis": "x",
         "y": {
          "bdata": "AAAAAAAA8D8=",
          "dtype": "f8"
         },
         "yaxis": "y"
        },
        {
         "hovertemplate": "<b>%{hovertext}</b><br><br>Country=%{x}<br>Proportion of Q8_1=%{y}<br>Sentence Count=%{marker.size}<extra></extra>",
         "hovertext": [
          "IRN"
         ],
         "legendgroup": "IRN",
         "marker": {
          "color": "#FF97FF",
          "size": {
           "bdata": "AQ==",
           "dtype": "i1"
          },
          "sizemode": "area",
          "sizeref": 0.005,
          "symbol": "circle"
         },
         "mode": "markers",
         "name": "IRN",
         "orientation": "v",
         "showlegend": true,
         "type": "scatter",
         "x": [
          "IRN"
         ],
         "xaxis": "x",
         "y": {
          "bdata": "AAAAAAAA8D8=",
          "dtype": "f8"
         },
         "yaxis": "y"
        },
        {
         "hovertemplate": "<b>%{hovertext}</b><br><br>Country=%{x}<br>Proportion of Q8_1=%{y}<br>Sentence Count=%{marker.size}<extra></extra>",
         "hovertext": [
          "KAZ"
         ],
         "legendgroup": "KAZ",
         "marker": {
          "color": "#FECB52",
          "size": {
           "bdata": "AQ==",
           "dtype": "i1"
          },
          "sizemode": "area",
          "sizeref": 0.005,
          "symbol": "circle"
         },
         "mode": "markers",
         "name": "KAZ",
         "orientation": "v",
         "showlegend": true,
         "type": "scatter",
         "x": [
          "KAZ"
         ],
         "xaxis": "x",
         "y": {
          "bdata": "AAAAAAAA8D8=",
          "dtype": "f8"
         },
         "yaxis": "y"
        },
        {
         "hovertemplate": "<b>%{hovertext}</b><br><br>Country=%{x}<br>Proportion of Q8_1=%{y}<br>Sentence Count=%{marker.size}<extra></extra>",
         "hovertext": [
          "KEN"
         ],
         "legendgroup": "KEN",
         "marker": {
          "color": "#636efa",
          "size": {
           "bdata": "AQ==",
           "dtype": "i1"
          },
          "sizemode": "area",
          "sizeref": 0.005,
          "symbol": "circle"
         },
         "mode": "markers",
         "name": "KEN",
         "orientation": "v",
         "showlegend": true,
         "type": "scatter",
         "x": [
          "KEN"
         ],
         "xaxis": "x",
         "y": {
          "bdata": "AAAAAAAA8D8=",
          "dtype": "f8"
         },
         "yaxis": "y"
        },
        {
         "hovertemplate": "<b>%{hovertext}</b><br><br>Country=%{x}<br>Proportion of Q8_1=%{y}<br>Sentence Count=%{marker.size}<extra></extra>",
         "hovertext": [
          "KOR"
         ],
         "legendgroup": "KOR",
         "marker": {
          "color": "#EF553B",
          "size": {
           "bdata": "Aw==",
           "dtype": "i1"
          },
          "sizemode": "area",
          "sizeref": 0.005,
          "symbol": "circle"
         },
         "mode": "markers",
         "name": "KOR",
         "orientation": "v",
         "showlegend": true,
         "type": "scatter",
         "x": [
          "KOR"
         ],
         "xaxis": "x",
         "y": {
          "bdata": "AAAAAAAA8D8=",
          "dtype": "f8"
         },
         "yaxis": "y"
        },
        {
         "hovertemplate": "<b>%{hovertext}</b><br><br>Country=%{x}<br>Proportion of Q8_1=%{y}<br>Sentence Count=%{marker.size}<extra></extra>",
         "hovertext": [
          "MAR"
         ],
         "legendgroup": "MAR",
         "marker": {
          "color": "#00cc96",
          "size": {
           "bdata": "AQ==",
           "dtype": "i1"
          },
          "sizemode": "area",
          "sizeref": 0.005,
          "symbol": "circle"
         },
         "mode": "markers",
         "name": "MAR",
         "orientation": "v",
         "showlegend": true,
         "type": "scatter",
         "x": [
          "MAR"
         ],
         "xaxis": "x",
         "y": {
          "bdata": "AAAAAAAA8D8=",
          "dtype": "f8"
         },
         "yaxis": "y"
        },
        {
         "hovertemplate": "<b>%{hovertext}</b><br><br>Country=%{x}<br>Proportion of Q8_1=%{y}<br>Sentence Count=%{marker.size}<extra></extra>",
         "hovertext": [
          "MDV"
         ],
         "legendgroup": "MDV",
         "marker": {
          "color": "#ab63fa",
          "size": {
           "bdata": "AQ==",
           "dtype": "i1"
          },
          "sizemode": "area",
          "sizeref": 0.005,
          "symbol": "circle"
         },
         "mode": "markers",
         "name": "MDV",
         "orientation": "v",
         "showlegend": true,
         "type": "scatter",
         "x": [
          "MDV"
         ],
         "xaxis": "x",
         "y": {
          "bdata": "VVVVVVVV1T8=",
          "dtype": "f8"
         },
         "yaxis": "y"
        },
        {
         "hovertemplate": "<b>%{hovertext}</b><br><br>Country=%{x}<br>Proportion of Q8_1=%{y}<br>Sentence Count=%{marker.size}<extra></extra>",
         "hovertext": [
          "MEX"
         ],
         "legendgroup": "MEX",
         "marker": {
          "color": "#FFA15A",
          "size": {
           "bdata": "AQ==",
           "dtype": "i1"
          },
          "sizemode": "area",
          "sizeref": 0.005,
          "symbol": "circle"
         },
         "mode": "markers",
         "name": "MEX",
         "orientation": "v",
         "showlegend": true,
         "type": "scatter",
         "x": [
          "MEX"
         ],
         "xaxis": "x",
         "y": {
          "bdata": "AAAAAAAA8D8=",
          "dtype": "f8"
         },
         "yaxis": "y"
        },
        {
         "hovertemplate": "<b>%{hovertext}</b><br><br>Country=%{x}<br>Proportion of Q8_1=%{y}<br>Sentence Count=%{marker.size}<extra></extra>",
         "hovertext": [
          "NLD"
         ],
         "legendgroup": "NLD",
         "marker": {
          "color": "#19d3f3",
          "size": {
           "bdata": "Ag==",
           "dtype": "i1"
          },
          "sizemode": "area",
          "sizeref": 0.005,
          "symbol": "circle"
         },
         "mode": "markers",
         "name": "NLD",
         "orientation": "v",
         "showlegend": true,
         "type": "scatter",
         "x": [
          "NLD"
         ],
         "xaxis": "x",
         "y": {
          "bdata": "VVVVVVVV5T8=",
          "dtype": "f8"
         },
         "yaxis": "y"
        },
        {
         "hovertemplate": "<b>%{hovertext}</b><br><br>Country=%{x}<br>Proportion of Q8_1=%{y}<br>Sentence Count=%{marker.size}<extra></extra>",
         "hovertext": [
          "NZL"
         ],
         "legendgroup": "NZL",
         "marker": {
          "color": "#FF6692",
          "size": {
           "bdata": "AQ==",
           "dtype": "i1"
          },
          "sizemode": "area",
          "sizeref": 0.005,
          "symbol": "circle"
         },
         "mode": "markers",
         "name": "NZL",
         "orientation": "v",
         "showlegend": true,
         "type": "scatter",
         "x": [
          "NZL"
         ],
         "xaxis": "x",
         "y": {
          "bdata": "AAAAAAAA0D8=",
          "dtype": "f8"
         },
         "yaxis": "y"
        },
        {
         "hovertemplate": "<b>%{hovertext}</b><br><br>Country=%{x}<br>Proportion of Q8_1=%{y}<br>Sentence Count=%{marker.size}<extra></extra>",
         "hovertext": [
          "PAK"
         ],
         "legendgroup": "PAK",
         "marker": {
          "color": "#B6E880",
          "size": {
           "bdata": "Ag==",
           "dtype": "i1"
          },
          "sizemode": "area",
          "sizeref": 0.005,
          "symbol": "circle"
         },
         "mode": "markers",
         "name": "PAK",
         "orientation": "v",
         "showlegend": true,
         "type": "scatter",
         "x": [
          "PAK"
         ],
         "xaxis": "x",
         "y": {
          "bdata": "AAAAAAAA8D8=",
          "dtype": "f8"
         },
         "yaxis": "y"
        },
        {
         "hovertemplate": "<b>%{hovertext}</b><br><br>Country=%{x}<br>Proportion of Q8_1=%{y}<br>Sentence Count=%{marker.size}<extra></extra>",
         "hovertext": [
          "PER"
         ],
         "legendgroup": "PER",
         "marker": {
          "color": "#FF97FF",
          "size": {
           "bdata": "AQ==",
           "dtype": "i1"
          },
          "sizemode": "area",
          "sizeref": 0.005,
          "symbol": "circle"
         },
         "mode": "markers",
         "name": "PER",
         "orientation": "v",
         "showlegend": true,
         "type": "scatter",
         "x": [
          "PER"
         ],
         "xaxis": "x",
         "y": {
          "bdata": "AAAAAAAA8D8=",
          "dtype": "f8"
         },
         "yaxis": "y"
        },
        {
         "hovertemplate": "<b>%{hovertext}</b><br><br>Country=%{x}<br>Proportion of Q8_1=%{y}<br>Sentence Count=%{marker.size}<extra></extra>",
         "hovertext": [
          "SRB"
         ],
         "legendgroup": "SRB",
         "marker": {
          "color": "#FECB52",
          "size": {
           "bdata": "AQ==",
           "dtype": "i1"
          },
          "sizemode": "area",
          "sizeref": 0.005,
          "symbol": "circle"
         },
         "mode": "markers",
         "name": "SRB",
         "orientation": "v",
         "showlegend": true,
         "type": "scatter",
         "x": [
          "SRB"
         ],
         "xaxis": "x",
         "y": {
          "bdata": "AAAAAAAA4D8=",
          "dtype": "f8"
         },
         "yaxis": "y"
        },
        {
         "hovertemplate": "<b>%{hovertext}</b><br><br>Country=%{x}<br>Proportion of Q8_1=%{y}<br>Sentence Count=%{marker.size}<extra></extra>",
         "hovertext": [
          "SVK"
         ],
         "legendgroup": "SVK",
         "marker": {
          "color": "#636efa",
          "size": {
           "bdata": "AQ==",
           "dtype": "i1"
          },
          "sizemode": "area",
          "sizeref": 0.005,
          "symbol": "circle"
         },
         "mode": "markers",
         "name": "SVK",
         "orientation": "v",
         "showlegend": true,
         "type": "scatter",
         "x": [
          "SVK"
         ],
         "xaxis": "x",
         "y": {
          "bdata": "mpmZmZmZyT8=",
          "dtype": "f8"
         },
         "yaxis": "y"
        },
        {
         "hovertemplate": "<b>%{hovertext}</b><br><br>Country=%{x}<br>Proportion of Q8_1=%{y}<br>Sentence Count=%{marker.size}<extra></extra>",
         "hovertext": [
          "THA"
         ],
         "legendgroup": "THA",
         "marker": {
          "color": "#EF553B",
          "size": {
           "bdata": "BA==",
           "dtype": "i1"
          },
          "sizemode": "area",
          "sizeref": 0.005,
          "symbol": "circle"
         },
         "mode": "markers",
         "name": "THA",
         "orientation": "v",
         "showlegend": true,
         "type": "scatter",
         "x": [
          "THA"
         ],
         "xaxis": "x",
         "y": {
          "bdata": "HMdxHMdx3D8=",
          "dtype": "f8"
         },
         "yaxis": "y"
        },
        {
         "hovertemplate": "<b>%{hovertext}</b><br><br>Country=%{x}<br>Proportion of Q8_1=%{y}<br>Sentence Count=%{marker.size}<extra></extra>",
         "hovertext": [
          "UKR"
         ],
         "legendgroup": "UKR",
         "marker": {
          "color": "#00cc96",
          "size": {
           "bdata": "AQ==",
           "dtype": "i1"
          },
          "sizemode": "area",
          "sizeref": 0.005,
          "symbol": "circle"
         },
         "mode": "markers",
         "name": "UKR",
         "orientation": "v",
         "showlegend": true,
         "type": "scatter",
         "x": [
          "UKR"
         ],
         "xaxis": "x",
         "y": {
          "bdata": "VVVVVVVV1T8=",
          "dtype": "f8"
         },
         "yaxis": "y"
        },
        {
         "hovertemplate": "<b>%{hovertext}</b><br><br>Country=%{x}<br>Proportion of Q8_1=%{y}<br>Sentence Count=%{marker.size}<extra></extra>",
         "hovertext": [
          "URY"
         ],
         "legendgroup": "URY",
         "marker": {
          "color": "#ab63fa",
          "size": {
           "bdata": "AQ==",
           "dtype": "i1"
          },
          "sizemode": "area",
          "sizeref": 0.005,
          "symbol": "circle"
         },
         "mode": "markers",
         "name": "URY",
         "orientation": "v",
         "showlegend": true,
         "type": "scatter",
         "x": [
          "URY"
         ],
         "xaxis": "x",
         "y": {
          "bdata": "AAAAAAAA4D8=",
          "dtype": "f8"
         },
         "yaxis": "y"
        },
        {
         "hovertemplate": "<b>%{hovertext}</b><br><br>Country=%{x}<br>Proportion of Q8_1=%{y}<br>Sentence Count=%{marker.size}<extra></extra>",
         "hovertext": [
          "UZB"
         ],
         "legendgroup": "UZB",
         "marker": {
          "color": "#FFA15A",
          "size": {
           "bdata": "BA==",
           "dtype": "i1"
          },
          "sizemode": "area",
          "sizeref": 0.005,
          "symbol": "circle"
         },
         "mode": "markers",
         "name": "UZB",
         "orientation": "v",
         "showlegend": true,
         "type": "scatter",
         "x": [
          "UZB"
         ],
         "xaxis": "x",
         "y": {
          "bdata": "VVVVVVVV5T8=",
          "dtype": "f8"
         },
         "yaxis": "y"
        },
        {
         "hovertemplate": "<b>%{hovertext}</b><br><br>Country=%{x}<br>Proportion of Q8_1=%{y}<br>Sentence Count=%{marker.size}<extra></extra>",
         "hovertext": [
          "VNM"
         ],
         "legendgroup": "VNM",
         "marker": {
          "color": "#19d3f3",
          "size": {
           "bdata": "AQ==",
           "dtype": "i1"
          },
          "sizemode": "area",
          "sizeref": 0.005,
          "symbol": "circle"
         },
         "mode": "markers",
         "name": "VNM",
         "orientation": "v",
         "showlegend": true,
         "type": "scatter",
         "x": [
          "VNM"
         ],
         "xaxis": "x",
         "y": {
          "bdata": "AAAAAAAA4D8=",
          "dtype": "f8"
         },
         "yaxis": "y"
        },
        {
         "hovertemplate": "<b>%{hovertext}</b><br><br>Country=%{x}<br>Proportion of Q8_1=%{y}<br>Sentence Count=%{marker.size}<extra></extra>",
         "hovertext": [
          "ZWE"
         ],
         "legendgroup": "ZWE",
         "marker": {
          "color": "#FF6692",
          "size": {
           "bdata": "Ag==",
           "dtype": "i1"
          },
          "sizemode": "area",
          "sizeref": 0.005,
          "symbol": "circle"
         },
         "mode": "markers",
         "name": "ZWE",
         "orientation": "v",
         "showlegend": true,
         "type": "scatter",
         "x": [
          "ZWE"
         ],
         "xaxis": "x",
         "y": {
          "bdata": "AAAAAAAA4D8=",
          "dtype": "f8"
         },
         "yaxis": "y"
        }
       ],
       "layout": {
        "height": 600,
        "legend": {
         "itemsizing": "constant",
         "title": {
          "text": "Country"
         },
         "tracegroupgap": 0
        },
        "margin": {
         "b": 40,
         "l": 40,
         "r": 40,
         "t": 80
        },
        "template": {
         "data": {
          "bar": [
           {
            "error_x": {
             "color": "#2a3f5f"
            },
            "error_y": {
             "color": "#2a3f5f"
            },
            "marker": {
             "line": {
              "color": "#E5ECF6",
              "width": 0.5
             },
             "pattern": {
              "fillmode": "overlay",
              "size": 10,
              "solidity": 0.2
             }
            },
            "type": "bar"
           }
          ],
          "barpolar": [
           {
            "marker": {
             "line": {
              "color": "#E5ECF6",
              "width": 0.5
             },
             "pattern": {
              "fillmode": "overlay",
              "size": 10,
              "solidity": 0.2
             }
            },
            "type": "barpolar"
           }
          ],
          "carpet": [
           {
            "aaxis": {
             "endlinecolor": "#2a3f5f",
             "gridcolor": "white",
             "linecolor": "white",
             "minorgridcolor": "white",
             "startlinecolor": "#2a3f5f"
            },
            "baxis": {
             "endlinecolor": "#2a3f5f",
             "gridcolor": "white",
             "linecolor": "white",
             "minorgridcolor": "white",
             "startlinecolor": "#2a3f5f"
            },
            "type": "carpet"
           }
          ],
          "choropleth": [
           {
            "colorbar": {
             "outlinewidth": 0,
             "ticks": ""
            },
            "type": "choropleth"
           }
          ],
          "contour": [
           {
            "colorbar": {
             "outlinewidth": 0,
             "ticks": ""
            },
            "colorscale": [
             [
              0,
              "#0d0887"
             ],
             [
              0.1111111111111111,
              "#46039f"
             ],
             [
              0.2222222222222222,
              "#7201a8"
             ],
             [
              0.3333333333333333,
              "#9c179e"
             ],
             [
              0.4444444444444444,
              "#bd3786"
             ],
             [
              0.5555555555555556,
              "#d8576b"
             ],
             [
              0.6666666666666666,
              "#ed7953"
             ],
             [
              0.7777777777777778,
              "#fb9f3a"
             ],
             [
              0.8888888888888888,
              "#fdca26"
             ],
             [
              1,
              "#f0f921"
             ]
            ],
            "type": "contour"
           }
          ],
          "contourcarpet": [
           {
            "colorbar": {
             "outlinewidth": 0,
             "ticks": ""
            },
            "type": "contourcarpet"
           }
          ],
          "heatmap": [
           {
            "colorbar": {
             "outlinewidth": 0,
             "ticks": ""
            },
            "colorscale": [
             [
              0,
              "#0d0887"
             ],
             [
              0.1111111111111111,
              "#46039f"
             ],
             [
              0.2222222222222222,
              "#7201a8"
             ],
             [
              0.3333333333333333,
              "#9c179e"
             ],
             [
              0.4444444444444444,
              "#bd3786"
             ],
             [
              0.5555555555555556,
              "#d8576b"
             ],
             [
              0.6666666666666666,
              "#ed7953"
             ],
             [
              0.7777777777777778,
              "#fb9f3a"
             ],
             [
              0.8888888888888888,
              "#fdca26"
             ],
             [
              1,
              "#f0f921"
             ]
            ],
            "type": "heatmap"
           }
          ],
          "histogram": [
           {
            "marker": {
             "pattern": {
              "fillmode": "overlay",
              "size": 10,
              "solidity": 0.2
             }
            },
            "type": "histogram"
           }
          ],
          "histogram2d": [
           {
            "colorbar": {
             "outlinewidth": 0,
             "ticks": ""
            },
            "colorscale": [
             [
              0,
              "#0d0887"
             ],
             [
              0.1111111111111111,
              "#46039f"
             ],
             [
              0.2222222222222222,
              "#7201a8"
             ],
             [
              0.3333333333333333,
              "#9c179e"
             ],
             [
              0.4444444444444444,
              "#bd3786"
             ],
             [
              0.5555555555555556,
              "#d8576b"
             ],
             [
              0.6666666666666666,
              "#ed7953"
             ],
             [
              0.7777777777777778,
              "#fb9f3a"
             ],
             [
              0.8888888888888888,
              "#fdca26"
             ],
             [
              1,
              "#f0f921"
             ]
            ],
            "type": "histogram2d"
           }
          ],
          "histogram2dcontour": [
           {
            "colorbar": {
             "outlinewidth": 0,
             "ticks": ""
            },
            "colorscale": [
             [
              0,
              "#0d0887"
             ],
             [
              0.1111111111111111,
              "#46039f"
             ],
             [
              0.2222222222222222,
              "#7201a8"
             ],
             [
              0.3333333333333333,
              "#9c179e"
             ],
             [
              0.4444444444444444,
              "#bd3786"
             ],
             [
              0.5555555555555556,
              "#d8576b"
             ],
             [
              0.6666666666666666,
              "#ed7953"
             ],
             [
              0.7777777777777778,
              "#fb9f3a"
             ],
             [
              0.8888888888888888,
              "#fdca26"
             ],
             [
              1,
              "#f0f921"
             ]
            ],
            "type": "histogram2dcontour"
           }
          ],
          "mesh3d": [
           {
            "colorbar": {
             "outlinewidth": 0,
             "ticks": ""
            },
            "type": "mesh3d"
           }
          ],
          "parcoords": [
           {
            "line": {
             "colorbar": {
              "outlinewidth": 0,
              "ticks": ""
             }
            },
            "type": "parcoords"
           }
          ],
          "pie": [
           {
            "automargin": true,
            "type": "pie"
           }
          ],
          "scatter": [
           {
            "fillpattern": {
             "fillmode": "overlay",
             "size": 10,
             "solidity": 0.2
            },
            "type": "scatter"
           }
          ],
          "scatter3d": [
           {
            "line": {
             "colorbar": {
              "outlinewidth": 0,
              "ticks": ""
             }
            },
            "marker": {
             "colorbar": {
              "outlinewidth": 0,
              "ticks": ""
             }
            },
            "type": "scatter3d"
           }
          ],
          "scattercarpet": [
           {
            "marker": {
             "colorbar": {
              "outlinewidth": 0,
              "ticks": ""
             }
            },
            "type": "scattercarpet"
           }
          ],
          "scattergeo": [
           {
            "marker": {
             "colorbar": {
              "outlinewidth": 0,
              "ticks": ""
             }
            },
            "type": "scattergeo"
           }
          ],
          "scattergl": [
           {
            "marker": {
             "colorbar": {
              "outlinewidth": 0,
              "ticks": ""
             }
            },
            "type": "scattergl"
           }
          ],
          "scattermap": [
           {
            "marker": {
             "colorbar": {
              "outlinewidth": 0,
              "ticks": ""
             }
            },
            "type": "scattermap"
           }
          ],
          "scattermapbox": [
           {
            "marker": {
             "colorbar": {
              "outlinewidth": 0,
              "ticks": ""
             }
            },
            "type": "scattermapbox"
           }
          ],
          "scatterpolar": [
           {
            "marker": {
             "colorbar": {
              "outlinewidth": 0,
              "ticks": ""
             }
            },
            "type": "scatterpolar"
           }
          ],
          "scatterpolargl": [
           {
            "marker": {
             "colorbar": {
              "outlinewidth": 0,
              "ticks": ""
             }
            },
            "type": "scatterpolargl"
           }
          ],
          "scatterternary": [
           {
            "marker": {
             "colorbar": {
              "outlinewidth": 0,
              "ticks": ""
             }
            },
            "type": "scatterternary"
           }
          ],
          "surface": [
           {
            "colorbar": {
             "outlinewidth": 0,
             "ticks": ""
            },
            "colorscale": [
             [
              0,
              "#0d0887"
             ],
             [
              0.1111111111111111,
              "#46039f"
             ],
             [
              0.2222222222222222,
              "#7201a8"
             ],
             [
              0.3333333333333333,
              "#9c179e"
             ],
             [
              0.4444444444444444,
              "#bd3786"
             ],
             [
              0.5555555555555556,
              "#d8576b"
             ],
             [
              0.6666666666666666,
              "#ed7953"
             ],
             [
              0.7777777777777778,
              "#fb9f3a"
             ],
             [
              0.8888888888888888,
              "#fdca26"
             ],
             [
              1,
              "#f0f921"
             ]
            ],
            "type": "surface"
           }
          ],
          "table": [
           {
            "cells": {
             "fill": {
              "color": "#EBF0F8"
             },
             "line": {
              "color": "white"
             }
            },
            "header": {
             "fill": {
              "color": "#C8D4E3"
             },
             "line": {
              "color": "white"
             }
            },
            "type": "table"
           }
          ]
         },
         "layout": {
          "annotationdefaults": {
           "arrowcolor": "#2a3f5f",
           "arrowhead": 0,
           "arrowwidth": 1
          },
          "autotypenumbers": "strict",
          "coloraxis": {
           "colorbar": {
            "outlinewidth": 0,
            "ticks": ""
           }
          },
          "colorscale": {
           "diverging": [
            [
             0,
             "#8e0152"
            ],
            [
             0.1,
             "#c51b7d"
            ],
            [
             0.2,
             "#de77ae"
            ],
            [
             0.3,
             "#f1b6da"
            ],
            [
             0.4,
             "#fde0ef"
            ],
            [
             0.5,
             "#f7f7f7"
            ],
            [
             0.6,
             "#e6f5d0"
            ],
            [
             0.7,
             "#b8e186"
            ],
            [
             0.8,
             "#7fbc41"
            ],
            [
             0.9,
             "#4d9221"
            ],
            [
             1,
             "#276419"
            ]
           ],
           "sequential": [
            [
             0,
             "#0d0887"
            ],
            [
             0.1111111111111111,
             "#46039f"
            ],
            [
             0.2222222222222222,
             "#7201a8"
            ],
            [
             0.3333333333333333,
             "#9c179e"
            ],
            [
             0.4444444444444444,
             "#bd3786"
            ],
            [
             0.5555555555555556,
             "#d8576b"
            ],
            [
             0.6666666666666666,
             "#ed7953"
            ],
            [
             0.7777777777777778,
             "#fb9f3a"
            ],
            [
             0.8888888888888888,
             "#fdca26"
            ],
            [
             1,
             "#f0f921"
            ]
           ],
           "sequentialminus": [
            [
             0,
             "#0d0887"
            ],
            [
             0.1111111111111111,
             "#46039f"
            ],
            [
             0.2222222222222222,
             "#7201a8"
            ],
            [
             0.3333333333333333,
             "#9c179e"
            ],
            [
             0.4444444444444444,
             "#bd3786"
            ],
            [
             0.5555555555555556,
             "#d8576b"
            ],
            [
             0.6666666666666666,
             "#ed7953"
            ],
            [
             0.7777777777777778,
             "#fb9f3a"
            ],
            [
             0.8888888888888888,
             "#fdca26"
            ],
            [
             1,
             "#f0f921"
            ]
           ]
          },
          "colorway": [
           "#636efa",
           "#EF553B",
           "#00cc96",
           "#ab63fa",
           "#FFA15A",
           "#19d3f3",
           "#FF6692",
           "#B6E880",
           "#FF97FF",
           "#FECB52"
          ],
          "font": {
           "color": "#2a3f5f"
          },
          "geo": {
           "bgcolor": "white",
           "lakecolor": "white",
           "landcolor": "#E5ECF6",
           "showlakes": true,
           "showland": true,
           "subunitcolor": "white"
          },
          "hoverlabel": {
           "align": "left"
          },
          "hovermode": "closest",
          "mapbox": {
           "style": "light"
          },
          "paper_bgcolor": "white",
          "plot_bgcolor": "#E5ECF6",
          "polar": {
           "angularaxis": {
            "gridcolor": "white",
            "linecolor": "white",
            "ticks": ""
           },
           "bgcolor": "#E5ECF6",
           "radialaxis": {
            "gridcolor": "white",
            "linecolor": "white",
            "ticks": ""
           }
          },
          "scene": {
           "xaxis": {
            "backgroundcolor": "#E5ECF6",
            "gridcolor": "white",
            "gridwidth": 2,
            "linecolor": "white",
            "showbackground": true,
            "ticks": "",
            "zerolinecolor": "white"
           },
           "yaxis": {
            "backgroundcolor": "#E5ECF6",
            "gridcolor": "white",
            "gridwidth": 2,
            "linecolor": "white",
            "showbackground": true,
            "ticks": "",
            "zerolinecolor": "white"
           },
           "zaxis": {
            "backgroundcolor": "#E5ECF6",
            "gridcolor": "white",
            "gridwidth": 2,
            "linecolor": "white",
            "showbackground": true,
            "ticks": "",
            "zerolinecolor": "white"
           }
          },
          "shapedefaults": {
           "line": {
            "color": "#2a3f5f"
           }
          },
          "ternary": {
           "aaxis": {
            "gridcolor": "white",
            "linecolor": "white",
            "ticks": ""
           },
           "baxis": {
            "gridcolor": "white",
            "linecolor": "white",
            "ticks": ""
           },
           "bgcolor": "#E5ECF6",
           "caxis": {
            "gridcolor": "white",
            "linecolor": "white",
            "ticks": ""
           }
          },
          "title": {
           "x": 0.05
          },
          "xaxis": {
           "automargin": true,
           "gridcolor": "white",
           "linecolor": "white",
           "ticks": "",
           "title": {
            "standoff": 15
           },
           "zerolinecolor": "white",
           "zerolinewidth": 2
          },
          "yaxis": {
           "automargin": true,
           "gridcolor": "white",
           "linecolor": "white",
           "ticks": "",
           "title": {
            "standoff": 15
           },
           "zerolinecolor": "white",
           "zerolinewidth": 2
          }
         }
        },
        "title": {
         "text": "Proportion of Q8_1 Sentences Relative to Total Q8 Sentences by Country"
        },
        "xaxis": {
         "anchor": "y",
         "categoryarray": [
          "AND",
          "ARG",
          "ARM",
          "AUS",
          "BGD",
          "BRA",
          "CAN",
          "CHL",
          "CHN",
          "CZE",
          "DEU",
          "ECU",
          "ETH",
          "GBR",
          "GRC",
          "GTM",
          "IDN",
          "IND",
          "IRN",
          "KAZ",
          "KEN",
          "KOR",
          "MAR",
          "MDV",
          "MEX",
          "NLD",
          "NZL",
          "PAK",
          "PER",
          "SRB",
          "SVK",
          "THA",
          "UKR",
          "URY",
          "UZB",
          "VNM",
          "ZWE"
         ],
         "categoryorder": "array",
         "domain": [
          0,
          1
         ],
         "title": {
          "text": "Country"
         }
        },
        "yaxis": {
         "anchor": "x",
         "domain": [
          0,
          1
         ],
         "title": {
          "text": "Proportion of Q8_1"
         }
        }
       }
      }
     },
     "metadata": {},
     "output_type": "display_data"
    }
   ],
   "source": [
    "## (Visualization -I) ##\n",
    "\n",
    "# This code filters predicted Q8-related labels from the predictions dataset,\n",
    "# calculates sentence counts and proportions of given response per country,\n",
    "# prepares the data for ordered plotting,\n",
    "# then creates and displays a scatter plot showing the proportion of Q8_1 sentences relative to total Q8 sentences by country,\n",
    "# with point sizes representing sentence counts, x-axis showing the countries and y-axis the proportion of given response to total count responses.\n",
    "\n",
    "%run visualize_preds_props.py"
   ]
  },
  {
   "cell_type": "code",
   "execution_count": 39,
   "id": "7f482e3c",
   "metadata": {},
   "outputs": [
    {
     "data": {
      "application/vnd.plotly.v1+json": {
       "config": {
        "plotlyServerURL": "https://plot.ly"
       },
       "data": [
        {
         "hovertemplate": "<b>%{hovertext}</b><br><br>Country=%{x}<br>Proportion of Q8=1=%{y}<br>Total Responses=%{marker.size}<extra></extra>",
         "hovertext": [
          "AND"
         ],
         "legendgroup": "AND",
         "marker": {
          "color": "#636efa",
          "size": {
           "bdata": "7AM=",
           "dtype": "i2"
          },
          "sizemode": "area",
          "sizeref": 2.51125,
          "symbol": "circle"
         },
         "mode": "markers",
         "name": "AND",
         "orientation": "v",
         "showlegend": true,
         "type": "scatter",
         "x": [
          "AND"
         ],
         "xaxis": "x",
         "y": {
          "bdata": "fxkFAc313T8=",
          "dtype": "f8"
         },
         "yaxis": "y"
        },
        {
         "hovertemplate": "<b>%{hovertext}</b><br><br>Country=%{x}<br>Proportion of Q8=1=%{y}<br>Total Responses=%{marker.size}<extra></extra>",
         "hovertext": [
          "ARG"
         ],
         "legendgroup": "ARG",
         "marker": {
          "color": "#EF553B",
          "size": {
           "bdata": "6wM=",
           "dtype": "i2"
          },
          "sizemode": "area",
          "sizeref": 2.51125,
          "symbol": "circle"
         },
         "mode": "markers",
         "name": "ARG",
         "orientation": "v",
         "showlegend": true,
         "type": "scatter",
         "x": [
          "ARG"
         ],
         "xaxis": "x",
         "y": {
          "bdata": "CVdBAD3z1T8=",
          "dtype": "f8"
         },
         "yaxis": "y"
        },
        {
         "hovertemplate": "<b>%{hovertext}</b><br><br>Country=%{x}<br>Proportion of Q8=1=%{y}<br>Total Responses=%{marker.size}<extra></extra>",
         "hovertext": [
          "ARM"
         ],
         "legendgroup": "ARM",
         "marker": {
          "color": "#00cc96",
          "size": {
           "bdata": "xwQ=",
           "dtype": "i2"
          },
          "sizemode": "area",
          "sizeref": 2.51125,
          "symbol": "circle"
         },
         "mode": "markers",
         "name": "ARM",
         "orientation": "v",
         "showlegend": true,
         "type": "scatter",
         "x": [
          "ARM"
         ],
         "xaxis": "x",
         "y": {
          "bdata": "D5Fdt8xiyD8=",
          "dtype": "f8"
         },
         "yaxis": "y"
        },
        {
         "hovertemplate": "<b>%{hovertext}</b><br><br>Country=%{x}<br>Proportion of Q8=1=%{y}<br>Total Responses=%{marker.size}<extra></extra>",
         "hovertext": [
          "AUS"
         ],
         "legendgroup": "AUS",
         "marker": {
          "color": "#ab63fa",
          "size": {
           "bdata": "FQc=",
           "dtype": "i2"
          },
          "sizemode": "area",
          "sizeref": 2.51125,
          "symbol": "circle"
         },
         "mode": "markers",
         "name": "AUS",
         "orientation": "v",
         "showlegend": true,
         "type": "scatter",
         "x": [
          "AUS"
         ],
         "xaxis": "x",
         "y": {
          "bdata": "mJy/p+yk4D8=",
          "dtype": "f8"
         },
         "yaxis": "y"
        },
        {
         "hovertemplate": "<b>%{hovertext}</b><br><br>Country=%{x}<br>Proportion of Q8=1=%{y}<br>Total Responses=%{marker.size}<extra></extra>",
         "hovertext": [
          "BGD"
         ],
         "legendgroup": "BGD",
         "marker": {
          "color": "#FFA15A",
          "size": {
           "bdata": "sAQ=",
           "dtype": "i2"
          },
          "sizemode": "area",
          "sizeref": 2.51125,
          "symbol": "circle"
         },
         "mode": "markers",
         "name": "BGD",
         "orientation": "v",
         "showlegend": true,
         "type": "scatter",
         "x": [
          "BGD"
         ],
         "xaxis": "x",
         "y": {
          "bdata": "A5020GkD1T8=",
          "dtype": "f8"
         },
         "yaxis": "y"
        },
        {
         "hovertemplate": "<b>%{hovertext}</b><br><br>Country=%{x}<br>Proportion of Q8=1=%{y}<br>Total Responses=%{marker.size}<extra></extra>",
         "hovertext": [
          "BOL"
         ],
         "legendgroup": "BOL",
         "marker": {
          "color": "#19d3f3",
          "size": {
           "bdata": "Ewg=",
           "dtype": "i2"
          },
          "sizemode": "area",
          "sizeref": 2.51125,
          "symbol": "circle"
         },
         "mode": "markers",
         "name": "BOL",
         "orientation": "v",
         "showlegend": true,
         "type": "scatter",
         "x": [
          "BOL"
         ],
         "xaxis": "x",
         "y": {
          "bdata": "x03E1fbNyz8=",
          "dtype": "f8"
         },
         "yaxis": "y"
        },
        {
         "hovertemplate": "<b>%{hovertext}</b><br><br>Country=%{x}<br>Proportion of Q8=1=%{y}<br>Total Responses=%{marker.size}<extra></extra>",
         "hovertext": [
          "BRA"
         ],
         "legendgroup": "BRA",
         "marker": {
          "color": "#FF6692",
          "size": {
           "bdata": "4gY=",
           "dtype": "i2"
          },
          "sizemode": "area",
          "sizeref": 2.51125,
          "symbol": "circle"
         },
         "mode": "markers",
         "name": "BRA",
         "orientation": "v",
         "showlegend": true,
         "type": "scatter",
         "x": [
          "BRA"
         ],
         "xaxis": "x",
         "y": {
          "bdata": "H9SGMGn20D8=",
          "dtype": "f8"
         },
         "yaxis": "y"
        },
        {
         "hovertemplate": "<b>%{hovertext}</b><br><br>Country=%{x}<br>Proportion of Q8=1=%{y}<br>Total Responses=%{marker.size}<extra></extra>",
         "hovertext": [
          "CAN"
         ],
         "legendgroup": "CAN",
         "marker": {
          "color": "#B6E880",
          "size": {
           "bdata": "sg8=",
           "dtype": "i2"
          },
          "sizemode": "area",
          "sizeref": 2.51125,
          "symbol": "circle"
         },
         "mode": "markers",
         "name": "CAN",
         "orientation": "v",
         "showlegend": true,
         "type": "scatter",
         "x": [
          "CAN"
         ],
         "xaxis": "x",
         "y": {
          "bdata": "OjMeyzai3z8=",
          "dtype": "f8"
         },
         "yaxis": "y"
        },
        {
         "hovertemplate": "<b>%{hovertext}</b><br><br>Country=%{x}<br>Proportion of Q8=1=%{y}<br>Total Responses=%{marker.size}<extra></extra>",
         "hovertext": [
          "CHL"
         ],
         "legendgroup": "CHL",
         "marker": {
          "color": "#FF97FF",
          "size": {
           "bdata": "6AM=",
           "dtype": "i2"
          },
          "sizemode": "area",
          "sizeref": 2.51125,
          "symbol": "circle"
         },
         "mode": "markers",
         "name": "CHL",
         "orientation": "v",
         "showlegend": true,
         "type": "scatter",
         "x": [
          "CHL"
         ],
         "xaxis": "x",
         "y": {
          "bdata": "2/l+arx00z8=",
          "dtype": "f8"
         },
         "yaxis": "y"
        },
        {
         "hovertemplate": "<b>%{hovertext}</b><br><br>Country=%{x}<br>Proportion of Q8=1=%{y}<br>Total Responses=%{marker.size}<extra></extra>",
         "hovertext": [
          "CHN"
         ],
         "legendgroup": "CHN",
         "marker": {
          "color": "#FECB52",
          "size": {
           "bdata": "3As=",
           "dtype": "i2"
          },
          "sizemode": "area",
          "sizeref": 2.51125,
          "symbol": "circle"
         },
         "mode": "markers",
         "name": "CHN",
         "orientation": "v",
         "showlegend": true,
         "type": "scatter",
         "x": [
          "CHN"
         ],
         "xaxis": "x",
         "y": {
          "bdata": "sawAckLd6D8=",
          "dtype": "f8"
         },
         "yaxis": "y"
        },
        {
         "hovertemplate": "<b>%{hovertext}</b><br><br>Country=%{x}<br>Proportion of Q8=1=%{y}<br>Total Responses=%{marker.size}<extra></extra>",
         "hovertext": [
          "COL"
         ],
         "legendgroup": "COL",
         "marker": {
          "color": "#636efa",
          "size": {
           "bdata": "8AU=",
           "dtype": "i2"
          },
          "sizemode": "area",
          "sizeref": 2.51125,
          "symbol": "circle"
         },
         "mode": "markers",
         "name": "COL",
         "orientation": "v",
         "showlegend": true,
         "type": "scatter",
         "x": [
          "COL"
         ],
         "xaxis": "x",
         "y": {
          "bdata": "E6d+zy1x0j8=",
          "dtype": "f8"
         },
         "yaxis": "y"
        },
        {
         "hovertemplate": "<b>%{hovertext}</b><br><br>Country=%{x}<br>Proportion of Q8=1=%{y}<br>Total Responses=%{marker.size}<extra></extra>",
         "hovertext": [
          "CYP"
         ],
         "legendgroup": "CYP",
         "marker": {
          "color": "#EF553B",
          "size": {
           "bdata": "6AM=",
           "dtype": "i2"
          },
          "sizemode": "area",
          "sizeref": 2.51125,
          "symbol": "circle"
         },
         "mode": "markers",
         "name": "CYP",
         "orientation": "v",
         "showlegend": true,
         "type": "scatter",
         "x": [
          "CYP"
         ],
         "xaxis": "x",
         "y": {
          "bdata": "PzVeukkM0j8=",
          "dtype": "f8"
         },
         "yaxis": "y"
        },
        {
         "hovertemplate": "<b>%{hovertext}</b><br><br>Country=%{x}<br>Proportion of Q8=1=%{y}<br>Total Responses=%{marker.size}<extra></extra>",
         "hovertext": [
          "CZE"
         ],
         "legendgroup": "CZE",
         "marker": {
          "color": "#00cc96",
          "size": {
           "bdata": "sAQ=",
           "dtype": "i2"
          },
          "sizemode": "area",
          "sizeref": 2.51125,
          "symbol": "circle"
         },
         "mode": "markers",
         "name": "CZE",
         "orientation": "v",
         "showlegend": true,
         "type": "scatter",
         "x": [
          "CZE"
         ],
         "xaxis": "x",
         "y": {
          "bdata": "pw102kCn1T8=",
          "dtype": "f8"
         },
         "yaxis": "y"
        },
        {
         "hovertemplate": "<b>%{hovertext}</b><br><br>Country=%{x}<br>Proportion of Q8=1=%{y}<br>Total Responses=%{marker.size}<extra></extra>",
         "hovertext": [
          "DEU"
         ],
         "legendgroup": "DEU",
         "marker": {
          "color": "#ab63fa",
          "size": {
           "bdata": "+AU=",
           "dtype": "i2"
          },
          "sizemode": "area",
          "sizeref": 2.51125,
          "symbol": "circle"
         },
         "mode": "markers",
         "name": "DEU",
         "orientation": "v",
         "showlegend": true,
         "type": "scatter",
         "x": [
          "DEU"
         ],
         "xaxis": "x",
         "y": {
          "bdata": "haP6+7xN5j8=",
          "dtype": "f8"
         },
         "yaxis": "y"
        },
        {
         "hovertemplate": "<b>%{hovertext}</b><br><br>Country=%{x}<br>Proportion of Q8=1=%{y}<br>Total Responses=%{marker.size}<extra></extra>",
         "hovertext": [
          "ECU"
         ],
         "legendgroup": "ECU",
         "marker": {
          "color": "#FFA15A",
          "size": {
           "bdata": "sAQ=",
           "dtype": "i2"
          },
          "sizemode": "area",
          "sizeref": 2.51125,
          "symbol": "circle"
         },
         "mode": "markers",
         "name": "ECU",
         "orientation": "v",
         "showlegend": true,
         "type": "scatter",
         "x": [
          "ECU"
         ],
         "xaxis": "x",
         "y": {
          "bdata": "k18s+cWSzz8=",
          "dtype": "f8"
         },
         "yaxis": "y"
        },
        {
         "hovertemplate": "<b>%{hovertext}</b><br><br>Country=%{x}<br>Proportion of Q8=1=%{y}<br>Total Responses=%{marker.size}<extra></extra>",
         "hovertext": [
          "EGY"
         ],
         "legendgroup": "EGY",
         "marker": {
          "color": "#19d3f3",
          "size": {
           "bdata": "sAQ=",
           "dtype": "i2"
          },
          "sizemode": "area",
          "sizeref": 2.51125,
          "symbol": "circle"
         },
         "mode": "markers",
         "name": "EGY",
         "orientation": "v",
         "showlegend": true,
         "type": "scatter",
         "x": [
          "EGY"
         ],
         "xaxis": "x",
         "y": {
          "bdata": "dNpApw10wj8=",
          "dtype": "f8"
         },
         "yaxis": "y"
        },
        {
         "hovertemplate": "<b>%{hovertext}</b><br><br>Country=%{x}<br>Proportion of Q8=1=%{y}<br>Total Responses=%{marker.size}<extra></extra>",
         "hovertext": [
          "ETH"
         ],
         "legendgroup": "ETH",
         "marker": {
          "color": "#FF6692",
          "size": {
           "bdata": "zgQ=",
           "dtype": "i2"
          },
          "sizemode": "area",
          "sizeref": 2.51125,
          "symbol": "circle"
         },
         "mode": "markers",
         "name": "ETH",
         "orientation": "v",
         "showlegend": true,
         "type": "scatter",
         "x": [
          "ETH"
         ],
         "xaxis": "x",
         "y": {
          "bdata": "Z7hzhjtn2D8=",
          "dtype": "f8"
         },
         "yaxis": "y"
        },
        {
         "hovertemplate": "<b>%{hovertext}</b><br><br>Country=%{x}<br>Proportion of Q8=1=%{y}<br>Total Responses=%{marker.size}<extra></extra>",
         "hovertext": [
          "GBR"
         ],
         "legendgroup": "GBR",
         "marker": {
          "color": "#B6E880",
          "size": {
           "bdata": "MQo=",
           "dtype": "i2"
          },
          "sizemode": "area",
          "sizeref": 2.51125,
          "symbol": "circle"
         },
         "mode": "markers",
         "name": "GBR",
         "orientation": "v",
         "showlegend": true,
         "type": "scatter",
         "x": [
          "GBR"
         ],
         "xaxis": "x",
         "y": {
          "bdata": "Yn54dO1M4D8=",
          "dtype": "f8"
         },
         "yaxis": "y"
        },
        {
         "hovertemplate": "<b>%{hovertext}</b><br><br>Country=%{x}<br>Proportion of Q8=1=%{y}<br>Total Responses=%{marker.size}<extra></extra>",
         "hovertext": [
          "GRC"
         ],
         "legendgroup": "GRC",
         "marker": {
          "color": "#FF97FF",
          "size": {
           "bdata": "sAQ=",
           "dtype": "i2"
          },
          "sizemode": "area",
          "sizeref": 2.51125,
          "symbol": "circle"
         },
         "mode": "markers",
         "name": "GRC",
         "orientation": "v",
         "showlegend": true,
         "type": "scatter",
         "x": [
          "GRC"
         ],
         "xaxis": "x",
         "y": {
          "bdata": "k18s+cWS2z8=",
          "dtype": "f8"
         },
         "yaxis": "y"
        },
        {
         "hovertemplate": "<b>%{hovertext}</b><br><br>Country=%{x}<br>Proportion of Q8=1=%{y}<br>Total Responses=%{marker.size}<extra></extra>",
         "hovertext": [
          "GTM"
         ],
         "legendgroup": "GTM",
         "marker": {
          "color": "#FECB52",
          "size": {
           "bdata": "zQQ=",
           "dtype": "i2"
          },
          "sizemode": "area",
          "sizeref": 2.51125,
          "symbol": "circle"
         },
         "mode": "markers",
         "name": "GTM",
         "orientation": "v",
         "showlegend": true,
         "type": "scatter",
         "x": [
          "GTM"
         ],
         "xaxis": "x",
         "y": {
          "bdata": "ChqPlfqB4D8=",
          "dtype": "f8"
         },
         "yaxis": "y"
        },
        {
         "hovertemplate": "<b>%{hovertext}</b><br><br>Country=%{x}<br>Proportion of Q8=1=%{y}<br>Total Responses=%{marker.size}<extra></extra>",
         "hovertext": [
          "IDN"
         ],
         "legendgroup": "IDN",
         "marker": {
          "color": "#636efa",
          "size": {
           "bdata": "gAw=",
           "dtype": "i2"
          },
          "sizemode": "area",
          "sizeref": 2.51125,
          "symbol": "circle"
         },
         "mode": "markers",
         "name": "IDN",
         "orientation": "v",
         "showlegend": true,
         "type": "scatter",
         "x": [
          "IDN"
         ],
         "xaxis": "x",
         "y": {
          "bdata": "MzMzMzMz4j8=",
          "dtype": "f8"
         },
         "yaxis": "y"
        },
        {
         "hovertemplate": "<b>%{hovertext}</b><br><br>Country=%{x}<br>Proportion of Q8=1=%{y}<br>Total Responses=%{marker.size}<extra></extra>",
         "hovertext": [
          "IND"
         ],
         "legendgroup": "IND",
         "marker": {
          "color": "#EF553B",
          "size": {
           "bdata": "nAY=",
           "dtype": "i2"
          },
          "sizemode": "area",
          "sizeref": 2.51125,
          "symbol": "circle"
         },
         "mode": "markers",
         "name": "IND",
         "orientation": "v",
         "showlegend": true,
         "type": "scatter",
         "x": [
          "IND"
         ],
         "xaxis": "x",
         "y": {
          "bdata": "v5y7JkB64j8=",
          "dtype": "f8"
         },
         "yaxis": "y"
        },
        {
         "hovertemplate": "<b>%{hovertext}</b><br><br>Country=%{x}<br>Proportion of Q8=1=%{y}<br>Total Responses=%{marker.size}<extra></extra>",
         "hovertext": [
          "IRN"
         ],
         "legendgroup": "IRN",
         "marker": {
          "color": "#00cc96",
          "size": {
           "bdata": "2wU=",
           "dtype": "i2"
          },
          "sizemode": "area",
          "sizeref": 2.51125,
          "symbol": "circle"
         },
         "mode": "markers",
         "name": "IRN",
         "orientation": "v",
         "showlegend": true,
         "type": "scatter",
         "x": [
          "IRN"
         ],
         "xaxis": "x",
         "y": {
          "bdata": "QXnOBfpY1T8=",
          "dtype": "f8"
         },
         "yaxis": "y"
        },
        {
         "hovertemplate": "<b>%{hovertext}</b><br><br>Country=%{x}<br>Proportion of Q8=1=%{y}<br>Total Responses=%{marker.size}<extra></extra>",
         "hovertext": [
          "IRQ"
         ],
         "legendgroup": "IRQ",
         "marker": {
          "color": "#ab63fa",
          "size": {
           "bdata": "sAQ=",
           "dtype": "i2"
          },
          "sizemode": "area",
          "sizeref": 2.51125,
          "symbol": "circle"
         },
         "mode": "markers",
         "name": "IRQ",
         "orientation": "v",
         "showlegend": true,
         "type": "scatter",
         "x": [
          "IRQ"
         ],
         "xaxis": "x",
         "y": {
          "bdata": "mpmZmZmZwT8=",
          "dtype": "f8"
         },
         "yaxis": "y"
        },
        {
         "hovertemplate": "<b>%{hovertext}</b><br><br>Country=%{x}<br>Proportion of Q8=1=%{y}<br>Total Responses=%{marker.size}<extra></extra>",
         "hovertext": [
          "JOR"
         ],
         "legendgroup": "JOR",
         "marker": {
          "color": "#FFA15A",
          "size": {
           "bdata": "swQ=",
           "dtype": "i2"
          },
          "sizemode": "area",
          "sizeref": 2.51125,
          "symbol": "circle"
         },
         "mode": "markers",
         "name": "JOR",
         "orientation": "v",
         "showlegend": true,
         "type": "scatter",
         "x": [
          "JOR"
         ],
         "xaxis": "x",
         "y": {
          "bdata": "RV4nHS0k0j8=",
          "dtype": "f8"
         },
         "yaxis": "y"
        },
        {
         "hovertemplate": "<b>%{hovertext}</b><br><br>Country=%{x}<br>Proportion of Q8=1=%{y}<br>Total Responses=%{marker.size}<extra></extra>",
         "hovertext": [
          "JPN"
         ],
         "legendgroup": "JPN",
         "marker": {
          "color": "#19d3f3",
          "size": {
           "bdata": "SQU=",
           "dtype": "i2"
          },
          "sizemode": "area",
          "sizeref": 2.51125,
          "symbol": "circle"
         },
         "mode": "markers",
         "name": "JPN",
         "orientation": "v",
         "showlegend": true,
         "type": "scatter",
         "x": [
          "JPN"
         ],
         "xaxis": "x",
         "y": {
          "bdata": "RzNpNJNG4z8=",
          "dtype": "f8"
         },
         "yaxis": "y"
        },
        {
         "hovertemplate": "<b>%{hovertext}</b><br><br>Country=%{x}<br>Proportion of Q8=1=%{y}<br>Total Responses=%{marker.size}<extra></extra>",
         "hovertext": [
          "KAZ"
         ],
         "legendgroup": "KAZ",
         "marker": {
          "color": "#FF6692",
          "size": {
           "bdata": "/AQ=",
           "dtype": "i2"
          },
          "sizemode": "area",
          "sizeref": 2.51125,
          "symbol": "circle"
         },
         "mode": "markers",
         "name": "KAZ",
         "orientation": "v",
         "showlegend": true,
         "type": "scatter",
         "x": [
          "KAZ"
         ],
         "xaxis": "x",
         "y": {
          "bdata": "g2N8W/Ku2j8=",
          "dtype": "f8"
         },
         "yaxis": "y"
        },
        {
         "hovertemplate": "<b>%{hovertext}</b><br><br>Country=%{x}<br>Proportion of Q8=1=%{y}<br>Total Responses=%{marker.size}<extra></extra>",
         "hovertext": [
          "KEN"
         ],
         "legendgroup": "KEN",
         "marker": {
          "color": "#B6E880",
          "size": {
           "bdata": "8gQ=",
           "dtype": "i2"
          },
          "sizemode": "area",
          "sizeref": 2.51125,
          "symbol": "circle"
         },
         "mode": "markers",
         "name": "KEN",
         "orientation": "v",
         "showlegend": true,
         "type": "scatter",
         "x": [
          "KEN"
         ],
         "xaxis": "x",
         "y": {
          "bdata": "iZ44FL761D8=",
          "dtype": "f8"
         },
         "yaxis": "y"
        },
        {
         "hovertemplate": "<b>%{hovertext}</b><br><br>Country=%{x}<br>Proportion of Q8=1=%{y}<br>Total Responses=%{marker.size}<extra></extra>",
         "hovertext": [
          "KGZ"
         ],
         "legendgroup": "KGZ",
         "marker": {
          "color": "#FF97FF",
          "size": {
           "bdata": "sAQ=",
           "dtype": "i2"
          },
          "sizemode": "area",
          "sizeref": 2.51125,
          "symbol": "circle"
         },
         "mode": "markers",
         "name": "KGZ",
         "orientation": "v",
         "showlegend": true,
         "type": "scatter",
         "x": [
          "KGZ"
         ],
         "xaxis": "x",
         "y": {
          "bdata": "2kCnDXTa1D8=",
          "dtype": "f8"
         },
         "yaxis": "y"
        },
        {
         "hovertemplate": "<b>%{hovertext}</b><br><br>Country=%{x}<br>Proportion of Q8=1=%{y}<br>Total Responses=%{marker.size}<extra></extra>",
         "hovertext": [
          "KOR"
         ],
         "legendgroup": "KOR",
         "marker": {
          "color": "#FECB52",
          "size": {
           "bdata": "3QQ=",
           "dtype": "i2"
          },
          "sizemode": "area",
          "sizeref": 2.51125,
          "symbol": "circle"
         },
         "mode": "markers",
         "name": "KOR",
         "orientation": "v",
         "showlegend": true,
         "type": "scatter",
         "x": [
          "KOR"
         ],
         "xaxis": "x",
         "y": {
          "bdata": "I8NHfxlU4z8=",
          "dtype": "f8"
         },
         "yaxis": "y"
        },
        {
         "hovertemplate": "<b>%{hovertext}</b><br><br>Country=%{x}<br>Proportion of Q8=1=%{y}<br>Total Responses=%{marker.size}<extra></extra>",
         "hovertext": [
          "LBN"
         ],
         "legendgroup": "LBN",
         "marker": {
          "color": "#636efa",
          "size": {
           "bdata": "sAQ=",
           "dtype": "i2"
          },
          "sizemode": "area",
          "sizeref": 2.51125,
          "symbol": "circle"
         },
         "mode": "markers",
         "name": "LBN",
         "orientation": "v",
         "showlegend": true,
         "type": "scatter",
         "x": [
          "LBN"
         ],
         "xaxis": "x",
         "y": {
          "bdata": "CtejcD0K2z8=",
          "dtype": "f8"
         },
         "yaxis": "y"
        },
        {
         "hovertemplate": "<b>%{hovertext}</b><br><br>Country=%{x}<br>Proportion of Q8=1=%{y}<br>Total Responses=%{marker.size}<extra></extra>",
         "hovertext": [
          "LBY"
         ],
         "legendgroup": "LBY",
         "marker": {
          "color": "#EF553B",
          "size": {
           "bdata": "rAQ=",
           "dtype": "i2"
          },
          "sizemode": "area",
          "sizeref": 2.51125,
          "symbol": "circle"
         },
         "mode": "markers",
         "name": "LBY",
         "orientation": "v",
         "showlegend": true,
         "type": "scatter",
         "x": [
          "LBY"
         ],
         "xaxis": "x",
         "y": {
          "bdata": "velNb3rTyz8=",
          "dtype": "f8"
         },
         "yaxis": "y"
        },
        {
         "hovertemplate": "<b>%{hovertext}</b><br><br>Country=%{x}<br>Proportion of Q8=1=%{y}<br>Total Responses=%{marker.size}<extra></extra>",
         "hovertext": [
          "MAR"
         ],
         "legendgroup": "MAR",
         "marker": {
          "color": "#00cc96",
          "size": {
           "bdata": "sAQ=",
           "dtype": "i2"
          },
          "sizemode": "area",
          "sizeref": 2.51125,
          "symbol": "circle"
         },
         "mode": "markers",
         "name": "MAR",
         "orientation": "v",
         "showlegend": true,
         "type": "scatter",
         "x": [
          "MAR"
         ],
         "xaxis": "x",
         "y": {
          "bdata": "k18s+cWS2z8=",
          "dtype": "f8"
         },
         "yaxis": "y"
        },
        {
         "hovertemplate": "<b>%{hovertext}</b><br><br>Country=%{x}<br>Proportion of Q8=1=%{y}<br>Total Responses=%{marker.size}<extra></extra>",
         "hovertext": [
          "MDV"
         ],
         "legendgroup": "MDV",
         "marker": {
          "color": "#ab63fa",
          "size": {
           "bdata": "DwQ=",
           "dtype": "i2"
          },
          "sizemode": "area",
          "sizeref": 2.51125,
          "symbol": "circle"
         },
         "mode": "markers",
         "name": "MDV",
         "orientation": "v",
         "showlegend": true,
         "type": "scatter",
         "x": [
          "MDV"
         ],
         "xaxis": "x",
         "y": {
          "bdata": "B9xN/ABE1D8=",
          "dtype": "f8"
         },
         "yaxis": "y"
        },
        {
         "hovertemplate": "<b>%{hovertext}</b><br><br>Country=%{x}<br>Proportion of Q8=1=%{y}<br>Total Responses=%{marker.size}<extra></extra>",
         "hovertext": [
          "MEX"
         ],
         "legendgroup": "MEX",
         "marker": {
          "color": "#FFA15A",
          "size": {
           "bdata": "zQY=",
           "dtype": "i2"
          },
          "sizemode": "area",
          "sizeref": 2.51125,
          "symbol": "circle"
         },
         "mode": "markers",
         "name": "MEX",
         "orientation": "v",
         "showlegend": true,
         "type": "scatter",
         "x": [
          "MEX"
         ],
         "xaxis": "x",
         "y": {
          "bdata": "wWV8ersZ1T8=",
          "dtype": "f8"
         },
         "yaxis": "y"
        },
        {
         "hovertemplate": "<b>%{hovertext}</b><br><br>Country=%{x}<br>Proportion of Q8=1=%{y}<br>Total Responses=%{marker.size}<extra></extra>",
         "hovertext": [
          "MMR"
         ],
         "legendgroup": "MMR",
         "marker": {
          "color": "#19d3f3",
          "size": {
           "bdata": "sAQ=",
           "dtype": "i2"
          },
          "sizemode": "area",
          "sizeref": 2.51125,
          "symbol": "circle"
         },
         "mode": "markers",
         "name": "MMR",
         "orientation": "v",
         "showlegend": true,
         "type": "scatter",
         "x": [
          "MMR"
         ],
         "xaxis": "x",
         "y": {
          "bdata": "vLu7u7u71z8=",
          "dtype": "f8"
         },
         "yaxis": "y"
        },
        {
         "hovertemplate": "<b>%{hovertext}</b><br><br>Country=%{x}<br>Proportion of Q8=1=%{y}<br>Total Responses=%{marker.size}<extra></extra>",
         "hovertext": [
          "MNG"
         ],
         "legendgroup": "MNG",
         "marker": {
          "color": "#FF6692",
          "size": {
           "bdata": "ZgY=",
           "dtype": "i2"
          },
          "sizemode": "area",
          "sizeref": 2.51125,
          "symbol": "circle"
         },
         "mode": "markers",
         "name": "MNG",
         "orientation": "v",
         "showlegend": true,
         "type": "scatter",
         "x": [
          "MNG"
         ],
         "xaxis": "x",
         "y": {
          "bdata": "AzIgAzIg4z8=",
          "dtype": "f8"
         },
         "yaxis": "y"
        },
        {
         "hovertemplate": "<b>%{hovertext}</b><br><br>Country=%{x}<br>Proportion of Q8=1=%{y}<br>Total Responses=%{marker.size}<extra></extra>",
         "hovertext": [
          "MYS"
         ],
         "legendgroup": "MYS",
         "marker": {
          "color": "#B6E880",
          "size": {
           "bdata": "IQU=",
           "dtype": "i2"
          },
          "sizemode": "area",
          "sizeref": 2.51125,
          "symbol": "circle"
         },
         "mode": "markers",
         "name": "MYS",
         "orientation": "v",
         "showlegend": true,
         "type": "scatter",
         "x": [
          "MYS"
         ],
         "xaxis": "x",
         "y": {
          "bdata": "9tIGPeee4T8=",
          "dtype": "f8"
         },
         "yaxis": "y"
        },
        {
         "hovertemplate": "<b>%{hovertext}</b><br><br>Country=%{x}<br>Proportion of Q8=1=%{y}<br>Total Responses=%{marker.size}<extra></extra>",
         "hovertext": [
          "NGA"
         ],
         "legendgroup": "NGA",
         "marker": {
          "color": "#FF97FF",
          "size": {
           "bdata": "1QQ=",
           "dtype": "i2"
          },
          "sizemode": "area",
          "sizeref": 2.51125,
          "symbol": "circle"
         },
         "mode": "markers",
         "name": "NGA",
         "orientation": "v",
         "showlegend": true,
         "type": "scatter",
         "x": [
          "NGA"
         ],
         "xaxis": "x",
         "y": {
          "bdata": "TM2gm9DQ0z8=",
          "dtype": "f8"
         },
         "yaxis": "y"
        },
        {
         "hovertemplate": "<b>%{hovertext}</b><br><br>Country=%{x}<br>Proportion of Q8=1=%{y}<br>Total Responses=%{marker.size}<extra></extra>",
         "hovertext": [
          "NIC"
         ],
         "legendgroup": "NIC",
         "marker": {
          "color": "#FECB52",
          "size": {
           "bdata": "sAQ=",
           "dtype": "i2"
          },
          "sizemode": "area",
          "sizeref": 2.51125,
          "symbol": "circle"
         },
         "mode": "markers",
         "name": "NIC",
         "orientation": "v",
         "showlegend": true,
         "type": "scatter",
         "x": [
          "NIC"
         ],
         "xaxis": "x",
         "y": {
          "bdata": "v1jyiyW/0D8=",
          "dtype": "f8"
         },
         "yaxis": "y"
        },
        {
         "hovertemplate": "<b>%{hovertext}</b><br><br>Country=%{x}<br>Proportion of Q8=1=%{y}<br>Total Responses=%{marker.size}<extra></extra>",
         "hovertext": [
          "NLD"
         ],
         "legendgroup": "NLD",
         "marker": {
          "color": "#636efa",
          "size": {
           "bdata": "YQg=",
           "dtype": "i2"
          },
          "sizemode": "area",
          "sizeref": 2.51125,
          "symbol": "circle"
         },
         "mode": "markers",
         "name": "NLD",
         "orientation": "v",
         "showlegend": true,
         "type": "scatter",
         "x": [
          "NLD"
         ],
         "xaxis": "x",
         "y": {
          "bdata": "pRwQGe5V4D8=",
          "dtype": "f8"
         },
         "yaxis": "y"
        },
        {
         "hovertemplate": "<b>%{hovertext}</b><br><br>Country=%{x}<br>Proportion of Q8=1=%{y}<br>Total Responses=%{marker.size}<extra></extra>",
         "hovertext": [
          "NZL"
         ],
         "legendgroup": "NZL",
         "marker": {
          "color": "#EF553B",
          "size": {
           "bdata": "IQQ=",
           "dtype": "i2"
          },
          "sizemode": "area",
          "sizeref": 2.51125,
          "symbol": "circle"
         },
         "mode": "markers",
         "name": "NZL",
         "orientation": "v",
         "showlegend": true,
         "type": "scatter",
         "x": [
          "NZL"
         ],
         "xaxis": "x",
         "y": {
          "bdata": "h7HD2GHs4D8=",
          "dtype": "f8"
         },
         "yaxis": "y"
        },
        {
         "hovertemplate": "<b>%{hovertext}</b><br><br>Country=%{x}<br>Proportion of Q8=1=%{y}<br>Total Responses=%{marker.size}<extra></extra>",
         "hovertext": [
          "PAK"
         ],
         "legendgroup": "PAK",
         "marker": {
          "color": "#00cc96",
          "size": {
           "bdata": "ywc=",
           "dtype": "i2"
          },
          "sizemode": "area",
          "sizeref": 2.51125,
          "symbol": "circle"
         },
         "mode": "markers",
         "name": "PAK",
         "orientation": "v",
         "showlegend": true,
         "type": "scatter",
         "x": [
          "PAK"
         ],
         "xaxis": "x",
         "y": {
          "bdata": "AKkx1/mPyj8=",
          "dtype": "f8"
         },
         "yaxis": "y"
        },
        {
         "hovertemplate": "<b>%{hovertext}</b><br><br>Country=%{x}<br>Proportion of Q8=1=%{y}<br>Total Responses=%{marker.size}<extra></extra>",
         "hovertext": [
          "PER"
         ],
         "legendgroup": "PER",
         "marker": {
          "color": "#ab63fa",
          "size": {
           "bdata": "eAU=",
           "dtype": "i2"
          },
          "sizemode": "area",
          "sizeref": 2.51125,
          "symbol": "circle"
         },
         "mode": "markers",
         "name": "PER",
         "orientation": "v",
         "showlegend": true,
         "type": "scatter",
         "x": [
          "PER"
         ],
         "xaxis": "x",
         "y": {
          "bdata": "GnLuswuIzT8=",
          "dtype": "f8"
         },
         "yaxis": "y"
        },
        {
         "hovertemplate": "<b>%{hovertext}</b><br><br>Country=%{x}<br>Proportion of Q8=1=%{y}<br>Total Responses=%{marker.size}<extra></extra>",
         "hovertext": [
          "PHL"
         ],
         "legendgroup": "PHL",
         "marker": {
          "color": "#FFA15A",
          "size": {
           "bdata": "sAQ=",
           "dtype": "i2"
          },
          "sizemode": "area",
          "sizeref": 2.51125,
          "symbol": "circle"
         },
         "mode": "markers",
         "name": "PHL",
         "orientation": "v",
         "showlegend": true,
         "type": "scatter",
         "x": [
          "PHL"
         ],
         "xaxis": "x",
         "y": {
          "bdata": "nTbQaQOd4D8=",
          "dtype": "f8"
         },
         "yaxis": "y"
        },
        {
         "hovertemplate": "<b>%{hovertext}</b><br><br>Country=%{x}<br>Proportion of Q8=1=%{y}<br>Total Responses=%{marker.size}<extra></extra>",
         "hovertext": [
          "ROU"
         ],
         "legendgroup": "ROU",
         "marker": {
          "color": "#19d3f3",
          "size": {
           "bdata": "6QQ=",
           "dtype": "i2"
          },
          "sizemode": "area",
          "sizeref": 2.51125,
          "symbol": "circle"
         },
         "mode": "markers",
         "name": "ROU",
         "orientation": "v",
         "showlegend": true,
         "type": "scatter",
         "x": [
          "ROU"
         ],
         "xaxis": "x",
         "y": {
          "bdata": "NKeT8zSc2T8=",
          "dtype": "f8"
         },
         "yaxis": "y"
        },
        {
         "hovertemplate": "<b>%{hovertext}</b><br><br>Country=%{x}<br>Proportion of Q8=1=%{y}<br>Total Responses=%{marker.size}<extra></extra>",
         "hovertext": [
          "RUS"
         ],
         "legendgroup": "RUS",
         "marker": {
          "color": "#FF6692",
          "size": {
           "bdata": "Egc=",
           "dtype": "i2"
          },
          "sizemode": "area",
          "sizeref": 2.51125,
          "symbol": "circle"
         },
         "mode": "markers",
         "name": "RUS",
         "orientation": "v",
         "showlegend": true,
         "type": "scatter",
         "x": [
          "RUS"
         ],
         "xaxis": "x",
         "y": {
          "bdata": "4X1rZHUZ1j8=",
          "dtype": "f8"
         },
         "yaxis": "y"
        },
        {
         "hovertemplate": "<b>%{hovertext}</b><br><br>Country=%{x}<br>Proportion of Q8=1=%{y}<br>Total Responses=%{marker.size}<extra></extra>",
         "hovertext": [
          "SGP"
         ],
         "legendgroup": "SGP",
         "marker": {
          "color": "#B6E880",
          "size": {
           "bdata": "3Ac=",
           "dtype": "i2"
          },
          "sizemode": "area",
          "sizeref": 2.51125,
          "symbol": "circle"
         },
         "mode": "markers",
         "name": "SGP",
         "orientation": "v",
         "showlegend": true,
         "type": "scatter",
         "x": [
          "SGP"
         ],
         "xaxis": "x",
         "y": {
          "bdata": "BnNSEgTI4T8=",
          "dtype": "f8"
         },
         "yaxis": "y"
        },
        {
         "hovertemplate": "<b>%{hovertext}</b><br><br>Country=%{x}<br>Proportion of Q8=1=%{y}<br>Total Responses=%{marker.size}<extra></extra>",
         "hovertext": [
          "SRB"
         ],
         "legendgroup": "SRB",
         "marker": {
          "color": "#FF97FF",
          "size": {
           "bdata": "FgQ=",
           "dtype": "i2"
          },
          "sizemode": "area",
          "sizeref": 2.51125,
          "symbol": "circle"
         },
         "mode": "markers",
         "name": "SRB",
         "orientation": "v",
         "showlegend": true,
         "type": "scatter",
         "x": [
          "SRB"
         ],
         "xaxis": "x",
         "y": {
          "bdata": "PiMoyglE3z8=",
          "dtype": "f8"
         },
         "yaxis": "y"
        },
        {
         "hovertemplate": "<b>%{hovertext}</b><br><br>Country=%{x}<br>Proportion of Q8=1=%{y}<br>Total Responses=%{marker.size}<extra></extra>",
         "hovertext": [
          "SVK"
         ],
         "legendgroup": "SVK",
         "marker": {
          "color": "#FECB52",
          "size": {
           "bdata": "sAQ=",
           "dtype": "i2"
          },
          "sizemode": "area",
          "sizeref": 2.51125,
          "symbol": "circle"
         },
         "mode": "markers",
         "name": "SVK",
         "orientation": "v",
         "showlegend": true,
         "type": "scatter",
         "x": [
          "SVK"
         ],
         "xaxis": "x",
         "y": {
          "bdata": "YCz5xZJf0D8=",
          "dtype": "f8"
         },
         "yaxis": "y"
        },
        {
         "hovertemplate": "<b>%{hovertext}</b><br><br>Country=%{x}<br>Proportion of Q8=1=%{y}<br>Total Responses=%{marker.size}<extra></extra>",
         "hovertext": [
          "THA"
         ],
         "legendgroup": "THA",
         "marker": {
          "color": "#636efa",
          "size": {
           "bdata": "3AU=",
           "dtype": "i2"
          },
          "sizemode": "area",
          "sizeref": 2.51125,
          "symbol": "circle"
         },
         "mode": "markers",
         "name": "THA",
         "orientation": "v",
         "showlegend": true,
         "type": "scatter",
         "x": [
          "THA"
         ],
         "xaxis": "x",
         "y": {
          "bdata": "2c73U+Ol2z8=",
          "dtype": "f8"
         },
         "yaxis": "y"
        },
        {
         "hovertemplate": "<b>%{hovertext}</b><br><br>Country=%{x}<br>Proportion of Q8=1=%{y}<br>Total Responses=%{marker.size}<extra></extra>",
         "hovertext": [
          "TJK"
         ],
         "legendgroup": "TJK",
         "marker": {
          "color": "#EF553B",
          "size": {
           "bdata": "sAQ=",
           "dtype": "i2"
          },
          "sizemode": "area",
          "sizeref": 2.51125,
          "symbol": "circle"
         },
         "mode": "markers",
         "name": "TJK",
         "orientation": "v",
         "showlegend": true,
         "type": "scatter",
         "x": [
          "TJK"
         ],
         "xaxis": "x",
         "y": {
          "bdata": "PQrXo3A91j8=",
          "dtype": "f8"
         },
         "yaxis": "y"
        },
        {
         "hovertemplate": "<b>%{hovertext}</b><br><br>Country=%{x}<br>Proportion of Q8=1=%{y}<br>Total Responses=%{marker.size}<extra></extra>",
         "hovertext": [
          "TUN"
         ],
         "legendgroup": "TUN",
         "marker": {
          "color": "#00cc96",
          "size": {
           "bdata": "uAQ=",
           "dtype": "i2"
          },
          "sizemode": "area",
          "sizeref": 2.51125,
          "symbol": "circle"
         },
         "mode": "markers",
         "name": "TUN",
         "orientation": "v",
         "showlegend": true,
         "type": "scatter",
         "x": [
          "TUN"
         ],
         "xaxis": "x",
         "y": {
          "bdata": "JaYSU4mp5D8=",
          "dtype": "f8"
         },
         "yaxis": "y"
        },
        {
         "hovertemplate": "<b>%{hovertext}</b><br><br>Country=%{x}<br>Proportion of Q8=1=%{y}<br>Total Responses=%{marker.size}<extra></extra>",
         "hovertext": [
          "TUR"
         ],
         "legendgroup": "TUR",
         "marker": {
          "color": "#ab63fa",
          "size": {
           "bdata": "bwk=",
           "dtype": "i2"
          },
          "sizemode": "area",
          "sizeref": 2.51125,
          "symbol": "circle"
         },
         "mode": "markers",
         "name": "TUR",
         "orientation": "v",
         "showlegend": true,
         "type": "scatter",
         "x": [
          "TUR"
         ],
         "xaxis": "x",
         "y": {
          "bdata": "5p6ro4j50j8=",
          "dtype": "f8"
         },
         "yaxis": "y"
        },
        {
         "hovertemplate": "<b>%{hovertext}</b><br><br>Country=%{x}<br>Proportion of Q8=1=%{y}<br>Total Responses=%{marker.size}<extra></extra>",
         "hovertext": [
          "UKR"
         ],
         "legendgroup": "UKR",
         "marker": {
          "color": "#FFA15A",
          "size": {
           "bdata": "CQU=",
           "dtype": "i2"
          },
          "sizemode": "area",
          "sizeref": 2.51125,
          "symbol": "circle"
         },
         "mode": "markers",
         "name": "UKR",
         "orientation": "v",
         "showlegend": true,
         "type": "scatter",
         "x": [
          "UKR"
         ],
         "xaxis": "x",
         "y": {
          "bdata": "VNFSJ+p91j8=",
          "dtype": "f8"
         },
         "yaxis": "y"
        },
        {
         "hovertemplate": "<b>%{hovertext}</b><br><br>Country=%{x}<br>Proportion of Q8=1=%{y}<br>Total Responses=%{marker.size}<extra></extra>",
         "hovertext": [
          "URY"
         ],
         "legendgroup": "URY",
         "marker": {
          "color": "#19d3f3",
          "size": {
           "bdata": "6AM=",
           "dtype": "i2"
          },
          "sizemode": "area",
          "sizeref": 2.51125,
          "symbol": "circle"
         },
         "mode": "markers",
         "name": "URY",
         "orientation": "v",
         "showlegend": true,
         "type": "scatter",
         "x": [
          "URY"
         ],
         "xaxis": "x",
         "y": {
          "bdata": "x0s3iUFg3T8=",
          "dtype": "f8"
         },
         "yaxis": "y"
        },
        {
         "hovertemplate": "<b>%{hovertext}</b><br><br>Country=%{x}<br>Proportion of Q8=1=%{y}<br>Total Responses=%{marker.size}<extra></extra>",
         "hovertext": [
          "USA"
         ],
         "legendgroup": "USA",
         "marker": {
          "color": "#FF6692",
          "size": {
           "bdata": "JAo=",
           "dtype": "i2"
          },
          "sizemode": "area",
          "sizeref": 2.51125,
          "symbol": "circle"
         },
         "mode": "markers",
         "name": "USA",
         "orientation": "v",
         "showlegend": true,
         "type": "scatter",
         "x": [
          "USA"
         ],
         "xaxis": "x",
         "y": {
          "bdata": "3VDbNCqt4T8=",
          "dtype": "f8"
         },
         "yaxis": "y"
        },
        {
         "hovertemplate": "<b>%{hovertext}</b><br><br>Country=%{x}<br>Proportion of Q8=1=%{y}<br>Total Responses=%{marker.size}<extra></extra>",
         "hovertext": [
          "UZB"
         ],
         "legendgroup": "UZB",
         "marker": {
          "color": "#B6E880",
          "size": {
           "bdata": "4gQ=",
           "dtype": "i2"
          },
          "sizemode": "area",
          "sizeref": 2.51125,
          "symbol": "circle"
         },
         "mode": "markers",
         "name": "UZB",
         "orientation": "v",
         "showlegend": true,
         "type": "scatter",
         "x": [
          "UZB"
         ],
         "xaxis": "x",
         "y": {
          "bdata": "KjqSy39I3z8=",
          "dtype": "f8"
         },
         "yaxis": "y"
        },
        {
         "hovertemplate": "<b>%{hovertext}</b><br><br>Country=%{x}<br>Proportion of Q8=1=%{y}<br>Total Responses=%{marker.size}<extra></extra>",
         "hovertext": [
          "VEN"
         ],
         "legendgroup": "VEN",
         "marker": {
          "color": "#FF97FF",
          "size": {
           "bdata": "pgQ=",
           "dtype": "i2"
          },
          "sizemode": "area",
          "sizeref": 2.51125,
          "symbol": "circle"
         },
         "mode": "markers",
         "name": "VEN",
         "orientation": "v",
         "showlegend": true,
         "type": "scatter",
         "x": [
          "VEN"
         ],
         "xaxis": "x",
         "y": {
          "bdata": "1x+y1h+y1j8=",
          "dtype": "f8"
         },
         "yaxis": "y"
        },
        {
         "hovertemplate": "<b>%{hovertext}</b><br><br>Country=%{x}<br>Proportion of Q8=1=%{y}<br>Total Responses=%{marker.size}<extra></extra>",
         "hovertext": [
          "VNM"
         ],
         "legendgroup": "VNM",
         "marker": {
          "color": "#FECB52",
          "size": {
           "bdata": "sAQ=",
           "dtype": "i2"
          },
          "sizemode": "area",
          "sizeref": 2.51125,
          "symbol": "circle"
         },
         "mode": "markers",
         "name": "VNM",
         "orientation": "v",
         "showlegend": true,
         "type": "scatter",
         "x": [
          "VNM"
         ],
         "xaxis": "x",
         "y": {
          "bdata": "nTbQaQOd2j8=",
          "dtype": "f8"
         },
         "yaxis": "y"
        },
        {
         "hovertemplate": "<b>%{hovertext}</b><br><br>Country=%{x}<br>Proportion of Q8=1=%{y}<br>Total Responses=%{marker.size}<extra></extra>",
         "hovertext": [
          "ZWE"
         ],
         "legendgroup": "ZWE",
         "marker": {
          "color": "#636efa",
          "size": {
           "bdata": "vwQ=",
           "dtype": "i2"
          },
          "sizemode": "area",
          "sizeref": 2.51125,
          "symbol": "circle"
         },
         "mode": "markers",
         "name": "ZWE",
         "orientation": "v",
         "showlegend": true,
         "type": "scatter",
         "x": [
          "ZWE"
         ],
         "xaxis": "x",
         "y": {
          "bdata": "2YaA4nOm1j8=",
          "dtype": "f8"
         },
         "yaxis": "y"
        }
       ],
       "layout": {
        "height": 600,
        "legend": {
         "itemsizing": "constant",
         "title": {
          "text": "Country"
         },
         "tracegroupgap": 0
        },
        "margin": {
         "b": 40,
         "l": 40,
         "r": 40,
         "t": 80
        },
        "template": {
         "data": {
          "bar": [
           {
            "error_x": {
             "color": "#2a3f5f"
            },
            "error_y": {
             "color": "#2a3f5f"
            },
            "marker": {
             "line": {
              "color": "#E5ECF6",
              "width": 0.5
             },
             "pattern": {
              "fillmode": "overlay",
              "size": 10,
              "solidity": 0.2
             }
            },
            "type": "bar"
           }
          ],
          "barpolar": [
           {
            "marker": {
             "line": {
              "color": "#E5ECF6",
              "width": 0.5
             },
             "pattern": {
              "fillmode": "overlay",
              "size": 10,
              "solidity": 0.2
             }
            },
            "type": "barpolar"
           }
          ],
          "carpet": [
           {
            "aaxis": {
             "endlinecolor": "#2a3f5f",
             "gridcolor": "white",
             "linecolor": "white",
             "minorgridcolor": "white",
             "startlinecolor": "#2a3f5f"
            },
            "baxis": {
             "endlinecolor": "#2a3f5f",
             "gridcolor": "white",
             "linecolor": "white",
             "minorgridcolor": "white",
             "startlinecolor": "#2a3f5f"
            },
            "type": "carpet"
           }
          ],
          "choropleth": [
           {
            "colorbar": {
             "outlinewidth": 0,
             "ticks": ""
            },
            "type": "choropleth"
           }
          ],
          "contour": [
           {
            "colorbar": {
             "outlinewidth": 0,
             "ticks": ""
            },
            "colorscale": [
             [
              0,
              "#0d0887"
             ],
             [
              0.1111111111111111,
              "#46039f"
             ],
             [
              0.2222222222222222,
              "#7201a8"
             ],
             [
              0.3333333333333333,
              "#9c179e"
             ],
             [
              0.4444444444444444,
              "#bd3786"
             ],
             [
              0.5555555555555556,
              "#d8576b"
             ],
             [
              0.6666666666666666,
              "#ed7953"
             ],
             [
              0.7777777777777778,
              "#fb9f3a"
             ],
             [
              0.8888888888888888,
              "#fdca26"
             ],
             [
              1,
              "#f0f921"
             ]
            ],
            "type": "contour"
           }
          ],
          "contourcarpet": [
           {
            "colorbar": {
             "outlinewidth": 0,
             "ticks": ""
            },
            "type": "contourcarpet"
           }
          ],
          "heatmap": [
           {
            "colorbar": {
             "outlinewidth": 0,
             "ticks": ""
            },
            "colorscale": [
             [
              0,
              "#0d0887"
             ],
             [
              0.1111111111111111,
              "#46039f"
             ],
             [
              0.2222222222222222,
              "#7201a8"
             ],
             [
              0.3333333333333333,
              "#9c179e"
             ],
             [
              0.4444444444444444,
              "#bd3786"
             ],
             [
              0.5555555555555556,
              "#d8576b"
             ],
             [
              0.6666666666666666,
              "#ed7953"
             ],
             [
              0.7777777777777778,
              "#fb9f3a"
             ],
             [
              0.8888888888888888,
              "#fdca26"
             ],
             [
              1,
              "#f0f921"
             ]
            ],
            "type": "heatmap"
           }
          ],
          "histogram": [
           {
            "marker": {
             "pattern": {
              "fillmode": "overlay",
              "size": 10,
              "solidity": 0.2
             }
            },
            "type": "histogram"
           }
          ],
          "histogram2d": [
           {
            "colorbar": {
             "outlinewidth": 0,
             "ticks": ""
            },
            "colorscale": [
             [
              0,
              "#0d0887"
             ],
             [
              0.1111111111111111,
              "#46039f"
             ],
             [
              0.2222222222222222,
              "#7201a8"
             ],
             [
              0.3333333333333333,
              "#9c179e"
             ],
             [
              0.4444444444444444,
              "#bd3786"
             ],
             [
              0.5555555555555556,
              "#d8576b"
             ],
             [
              0.6666666666666666,
              "#ed7953"
             ],
             [
              0.7777777777777778,
              "#fb9f3a"
             ],
             [
              0.8888888888888888,
              "#fdca26"
             ],
             [
              1,
              "#f0f921"
             ]
            ],
            "type": "histogram2d"
           }
          ],
          "histogram2dcontour": [
           {
            "colorbar": {
             "outlinewidth": 0,
             "ticks": ""
            },
            "colorscale": [
             [
              0,
              "#0d0887"
             ],
             [
              0.1111111111111111,
              "#46039f"
             ],
             [
              0.2222222222222222,
              "#7201a8"
             ],
             [
              0.3333333333333333,
              "#9c179e"
             ],
             [
              0.4444444444444444,
              "#bd3786"
             ],
             [
              0.5555555555555556,
              "#d8576b"
             ],
             [
              0.6666666666666666,
              "#ed7953"
             ],
             [
              0.7777777777777778,
              "#fb9f3a"
             ],
             [
              0.8888888888888888,
              "#fdca26"
             ],
             [
              1,
              "#f0f921"
             ]
            ],
            "type": "histogram2dcontour"
           }
          ],
          "mesh3d": [
           {
            "colorbar": {
             "outlinewidth": 0,
             "ticks": ""
            },
            "type": "mesh3d"
           }
          ],
          "parcoords": [
           {
            "line": {
             "colorbar": {
              "outlinewidth": 0,
              "ticks": ""
             }
            },
            "type": "parcoords"
           }
          ],
          "pie": [
           {
            "automargin": true,
            "type": "pie"
           }
          ],
          "scatter": [
           {
            "fillpattern": {
             "fillmode": "overlay",
             "size": 10,
             "solidity": 0.2
            },
            "type": "scatter"
           }
          ],
          "scatter3d": [
           {
            "line": {
             "colorbar": {
              "outlinewidth": 0,
              "ticks": ""
             }
            },
            "marker": {
             "colorbar": {
              "outlinewidth": 0,
              "ticks": ""
             }
            },
            "type": "scatter3d"
           }
          ],
          "scattercarpet": [
           {
            "marker": {
             "colorbar": {
              "outlinewidth": 0,
              "ticks": ""
             }
            },
            "type": "scattercarpet"
           }
          ],
          "scattergeo": [
           {
            "marker": {
             "colorbar": {
              "outlinewidth": 0,
              "ticks": ""
             }
            },
            "type": "scattergeo"
           }
          ],
          "scattergl": [
           {
            "marker": {
             "colorbar": {
              "outlinewidth": 0,
              "ticks": ""
             }
            },
            "type": "scattergl"
           }
          ],
          "scattermap": [
           {
            "marker": {
             "colorbar": {
              "outlinewidth": 0,
              "ticks": ""
             }
            },
            "type": "scattermap"
           }
          ],
          "scattermapbox": [
           {
            "marker": {
             "colorbar": {
              "outlinewidth": 0,
              "ticks": ""
             }
            },
            "type": "scattermapbox"
           }
          ],
          "scatterpolar": [
           {
            "marker": {
             "colorbar": {
              "outlinewidth": 0,
              "ticks": ""
             }
            },
            "type": "scatterpolar"
           }
          ],
          "scatterpolargl": [
           {
            "marker": {
             "colorbar": {
              "outlinewidth": 0,
              "ticks": ""
             }
            },
            "type": "scatterpolargl"
           }
          ],
          "scatterternary": [
           {
            "marker": {
             "colorbar": {
              "outlinewidth": 0,
              "ticks": ""
             }
            },
            "type": "scatterternary"
           }
          ],
          "surface": [
           {
            "colorbar": {
             "outlinewidth": 0,
             "ticks": ""
            },
            "colorscale": [
             [
              0,
              "#0d0887"
             ],
             [
              0.1111111111111111,
              "#46039f"
             ],
             [
              0.2222222222222222,
              "#7201a8"
             ],
             [
              0.3333333333333333,
              "#9c179e"
             ],
             [
              0.4444444444444444,
              "#bd3786"
             ],
             [
              0.5555555555555556,
              "#d8576b"
             ],
             [
              0.6666666666666666,
              "#ed7953"
             ],
             [
              0.7777777777777778,
              "#fb9f3a"
             ],
             [
              0.8888888888888888,
              "#fdca26"
             ],
             [
              1,
              "#f0f921"
             ]
            ],
            "type": "surface"
           }
          ],
          "table": [
           {
            "cells": {
             "fill": {
              "color": "#EBF0F8"
             },
             "line": {
              "color": "white"
             }
            },
            "header": {
             "fill": {
              "color": "#C8D4E3"
             },
             "line": {
              "color": "white"
             }
            },
            "type": "table"
           }
          ]
         },
         "layout": {
          "annotationdefaults": {
           "arrowcolor": "#2a3f5f",
           "arrowhead": 0,
           "arrowwidth": 1
          },
          "autotypenumbers": "strict",
          "coloraxis": {
           "colorbar": {
            "outlinewidth": 0,
            "ticks": ""
           }
          },
          "colorscale": {
           "diverging": [
            [
             0,
             "#8e0152"
            ],
            [
             0.1,
             "#c51b7d"
            ],
            [
             0.2,
             "#de77ae"
            ],
            [
             0.3,
             "#f1b6da"
            ],
            [
             0.4,
             "#fde0ef"
            ],
            [
             0.5,
             "#f7f7f7"
            ],
            [
             0.6,
             "#e6f5d0"
            ],
            [
             0.7,
             "#b8e186"
            ],
            [
             0.8,
             "#7fbc41"
            ],
            [
             0.9,
             "#4d9221"
            ],
            [
             1,
             "#276419"
            ]
           ],
           "sequential": [
            [
             0,
             "#0d0887"
            ],
            [
             0.1111111111111111,
             "#46039f"
            ],
            [
             0.2222222222222222,
             "#7201a8"
            ],
            [
             0.3333333333333333,
             "#9c179e"
            ],
            [
             0.4444444444444444,
             "#bd3786"
            ],
            [
             0.5555555555555556,
             "#d8576b"
            ],
            [
             0.6666666666666666,
             "#ed7953"
            ],
            [
             0.7777777777777778,
             "#fb9f3a"
            ],
            [
             0.8888888888888888,
             "#fdca26"
            ],
            [
             1,
             "#f0f921"
            ]
           ],
           "sequentialminus": [
            [
             0,
             "#0d0887"
            ],
            [
             0.1111111111111111,
             "#46039f"
            ],
            [
             0.2222222222222222,
             "#7201a8"
            ],
            [
             0.3333333333333333,
             "#9c179e"
            ],
            [
             0.4444444444444444,
             "#bd3786"
            ],
            [
             0.5555555555555556,
             "#d8576b"
            ],
            [
             0.6666666666666666,
             "#ed7953"
            ],
            [
             0.7777777777777778,
             "#fb9f3a"
            ],
            [
             0.8888888888888888,
             "#fdca26"
            ],
            [
             1,
             "#f0f921"
            ]
           ]
          },
          "colorway": [
           "#636efa",
           "#EF553B",
           "#00cc96",
           "#ab63fa",
           "#FFA15A",
           "#19d3f3",
           "#FF6692",
           "#B6E880",
           "#FF97FF",
           "#FECB52"
          ],
          "font": {
           "color": "#2a3f5f"
          },
          "geo": {
           "bgcolor": "white",
           "lakecolor": "white",
           "landcolor": "#E5ECF6",
           "showlakes": true,
           "showland": true,
           "subunitcolor": "white"
          },
          "hoverlabel": {
           "align": "left"
          },
          "hovermode": "closest",
          "mapbox": {
           "style": "light"
          },
          "paper_bgcolor": "white",
          "plot_bgcolor": "#E5ECF6",
          "polar": {
           "angularaxis": {
            "gridcolor": "white",
            "linecolor": "white",
            "ticks": ""
           },
           "bgcolor": "#E5ECF6",
           "radialaxis": {
            "gridcolor": "white",
            "linecolor": "white",
            "ticks": ""
           }
          },
          "scene": {
           "xaxis": {
            "backgroundcolor": "#E5ECF6",
            "gridcolor": "white",
            "gridwidth": 2,
            "linecolor": "white",
            "showbackground": true,
            "ticks": "",
            "zerolinecolor": "white"
           },
           "yaxis": {
            "backgroundcolor": "#E5ECF6",
            "gridcolor": "white",
            "gridwidth": 2,
            "linecolor": "white",
            "showbackground": true,
            "ticks": "",
            "zerolinecolor": "white"
           },
           "zaxis": {
            "backgroundcolor": "#E5ECF6",
            "gridcolor": "white",
            "gridwidth": 2,
            "linecolor": "white",
            "showbackground": true,
            "ticks": "",
            "zerolinecolor": "white"
           }
          },
          "shapedefaults": {
           "line": {
            "color": "#2a3f5f"
           }
          },
          "ternary": {
           "aaxis": {
            "gridcolor": "white",
            "linecolor": "white",
            "ticks": ""
           },
           "baxis": {
            "gridcolor": "white",
            "linecolor": "white",
            "ticks": ""
           },
           "bgcolor": "#E5ECF6",
           "caxis": {
            "gridcolor": "white",
            "linecolor": "white",
            "ticks": ""
           }
          },
          "title": {
           "x": 0.05
          },
          "xaxis": {
           "automargin": true,
           "gridcolor": "white",
           "linecolor": "white",
           "ticks": "",
           "title": {
            "standoff": 15
           },
           "zerolinecolor": "white",
           "zerolinewidth": 2
          },
          "yaxis": {
           "automargin": true,
           "gridcolor": "white",
           "linecolor": "white",
           "ticks": "",
           "title": {
            "standoff": 15
           },
           "zerolinecolor": "white",
           "zerolinewidth": 2
          }
         }
        },
        "title": {
         "text": "Proportion of Q8 Responses Equal to 1 by Country"
        },
        "xaxis": {
         "anchor": "y",
         "categoryarray": [
          "AND",
          "ARG",
          "ARM",
          "AUS",
          "BGD",
          "BOL",
          "BRA",
          "CAN",
          "CHL",
          "CHN",
          "COL",
          "CYP",
          "CZE",
          "DEU",
          "ECU",
          "EGY",
          "ETH",
          "GBR",
          "GRC",
          "GTM",
          "IDN",
          "IND",
          "IRN",
          "IRQ",
          "JOR",
          "JPN",
          "KAZ",
          "KEN",
          "KGZ",
          "KOR",
          "LBN",
          "LBY",
          "MAR",
          "MDV",
          "MEX",
          "MMR",
          "MNG",
          "MYS",
          "NGA",
          "NIC",
          "NLD",
          "NZL",
          "PAK",
          "PER",
          "PHL",
          "ROU",
          "RUS",
          "SGP",
          "SRB",
          "SVK",
          "THA",
          "TJK",
          "TUN",
          "TUR",
          "UKR",
          "URY",
          "USA",
          "UZB",
          "VEN",
          "VNM",
          "ZWE"
         ],
         "categoryorder": "array",
         "domain": [
          0,
          1
         ],
         "title": {
          "text": "Country"
         }
        },
        "yaxis": {
         "anchor": "x",
         "domain": [
          0,
          1
         ],
         "title": {
          "text": "Proportion of Q8=1"
         }
        }
       }
      }
     },
     "metadata": {},
     "output_type": "display_data"
    }
   ],
   "source": [
    "## (Visualization -II) ##\n",
    "\n",
    "# This code loads World Values Survey (WVS) data and filters it by countries found in scored sentences.\n",
    "# It processes Q8 survey responses to calculate per-country counts and proportions of respondents answering '1'.\n",
    "# It prepares the country data in a categorical order for consistent plotting.\n",
    "# Then it creates a scatter plot showing the proportion of Q8=1 responses per country, sized by total responses.\n",
    "# The plot visually compares response distributions across countries with hover details and a clean layout.\n",
    "# The x and y-axis labels are the same as the prediction visualization.\n",
    "\n",
    "%run visualize_response_props.py"
   ]
  },
  {
   "cell_type": "code",
   "execution_count": 5,
   "id": "548694b9",
   "metadata": {},
   "outputs": [
    {
     "data": {
      "application/vnd.plotly.v1+json": {
       "config": {
        "plotlyServerURL": "https://plot.ly"
       },
       "data": [
        {
         "hoverinfo": "skip",
         "line": {
          "color": "gray"
         },
         "mode": "lines",
         "showlegend": false,
         "type": "scatter",
         "x": [
          "ARG_2017",
          "ARG_2017"
         ],
         "y": [
          0.3429710867397806,
          1
         ]
        },
        {
         "hoverinfo": "skip",
         "line": {
          "color": "gray"
         },
         "mode": "lines",
         "showlegend": false,
         "type": "scatter",
         "x": [
          "CAN_2020",
          "CAN_2020"
         ],
         "y": [
          0.49427575908412164,
          1
         ]
        },
        {
         "hoverinfo": "skip",
         "line": {
          "color": "gray"
         },
         "mode": "lines",
         "showlegend": false,
         "type": "scatter",
         "x": [
          "ECU_2018",
          "ECU_2018"
         ],
         "y": [
          0.24666666666666673,
          0.4
         ]
        },
        {
         "hoverinfo": "skip",
         "line": {
          "color": "gray"
         },
         "mode": "lines",
         "showlegend": false,
         "type": "scatter",
         "x": [
          "IDN_2018",
          "IDN_2018"
         ],
         "y": [
          0.56875,
          1
         ]
        },
        {
         "hoverinfo": "skip",
         "line": {
          "color": "gray"
         },
         "mode": "lines",
         "showlegend": false,
         "type": "scatter",
         "x": [
          "MEX_2018",
          "MEX_2018"
         ],
         "y": [
          0.32969557725445137,
          1
         ]
        },
        {
         "hoverinfo": "skip",
         "line": {
          "color": "gray"
         },
         "mode": "lines",
         "showlegend": false,
         "type": "scatter",
         "x": [
          "PAK_2018",
          "PAK_2018"
         ],
         "y": [
          0.2075187969924812,
          1
         ]
        },
        {
         "hoverinfo": "skip",
         "line": {
          "color": "gray"
         },
         "mode": "lines",
         "showlegend": false,
         "type": "scatter",
         "x": [
          "THA_2018",
          "THA_2018"
         ],
         "y": [
          0.43199999999999994,
          1
         ]
        },
        {
         "hoverinfo": "skip",
         "line": {
          "color": "gray"
         },
         "mode": "lines",
         "showlegend": false,
         "type": "scatter",
         "x": [
          "UZB_2022",
          "UZB_2022"
         ],
         "y": [
          0.4888,
          1
         ]
        },
        {
         "hoverinfo": "skip",
         "line": {
          "color": "gray"
         },
         "mode": "lines",
         "showlegend": false,
         "type": "scatter",
         "x": [
          "ZWE_2020",
          "ZWE_2020"
         ],
         "y": [
          0.3539094650205761,
          1
         ]
        },
        {
         "hovertemplate": "%{x}<br>WVS Weighted Proportion: %{y:.2f}<extra></extra>",
         "marker": {
          "color": "blue",
          "size": 8
         },
         "mode": "markers",
         "name": "WVS Weighted Q8_1",
         "type": "scatter",
         "x": [
          "ARG_2017",
          "CAN_2020",
          "ECU_2018",
          "IDN_2018",
          "MEX_2018",
          "PAK_2018",
          "THA_2018",
          "UZB_2022",
          "ZWE_2020"
         ],
         "y": {
          "bdata": "CFdBAD3z1T89Mx7LNqLfP5VfLPnFks8/MzMzMzMz4j+/ZXx6uxnVPwCpMdf5j8o/2M73U+Ol2z8qOpLLf0jfP9iGgOJzptY/",
          "dtype": "f8"
         }
        },
        {
         "hovertemplate": "%{x}<br>Sentence Proportion: %{y:.2f}<extra></extra>",
         "marker": {
          "color": "red",
          "size": 8
         },
         "mode": "markers",
         "name": "Scored Sentences Q8_1",
         "type": "scatter",
         "x": [
          "ARG_2017",
          "CAN_2020",
          "ECU_2018",
          "IDN_2018",
          "MEX_2018",
          "PAK_2018",
          "THA_2018",
          "UZB_2022",
          "ZWE_2020"
         ],
         "y": {
          "bdata": "AAAAAAAA8D8AAAAAAADwP5qZmZmZmdk/AAAAAAAA8D8AAAAAAADwPwAAAAAAAPA/AAAAAAAA8D8AAAAAAADwPwAAAAAAAPA/",
          "dtype": "f8"
         }
        }
       ],
       "layout": {
        "height": 600,
        "hovermode": "x unified",
        "template": {
         "data": {
          "bar": [
           {
            "error_x": {
             "color": "#2a3f5f"
            },
            "error_y": {
             "color": "#2a3f5f"
            },
            "marker": {
             "line": {
              "color": "#E5ECF6",
              "width": 0.5
             },
             "pattern": {
              "fillmode": "overlay",
              "size": 10,
              "solidity": 0.2
             }
            },
            "type": "bar"
           }
          ],
          "barpolar": [
           {
            "marker": {
             "line": {
              "color": "#E5ECF6",
              "width": 0.5
             },
             "pattern": {
              "fillmode": "overlay",
              "size": 10,
              "solidity": 0.2
             }
            },
            "type": "barpolar"
           }
          ],
          "carpet": [
           {
            "aaxis": {
             "endlinecolor": "#2a3f5f",
             "gridcolor": "white",
             "linecolor": "white",
             "minorgridcolor": "white",
             "startlinecolor": "#2a3f5f"
            },
            "baxis": {
             "endlinecolor": "#2a3f5f",
             "gridcolor": "white",
             "linecolor": "white",
             "minorgridcolor": "white",
             "startlinecolor": "#2a3f5f"
            },
            "type": "carpet"
           }
          ],
          "choropleth": [
           {
            "colorbar": {
             "outlinewidth": 0,
             "ticks": ""
            },
            "type": "choropleth"
           }
          ],
          "contour": [
           {
            "colorbar": {
             "outlinewidth": 0,
             "ticks": ""
            },
            "colorscale": [
             [
              0,
              "#0d0887"
             ],
             [
              0.1111111111111111,
              "#46039f"
             ],
             [
              0.2222222222222222,
              "#7201a8"
             ],
             [
              0.3333333333333333,
              "#9c179e"
             ],
             [
              0.4444444444444444,
              "#bd3786"
             ],
             [
              0.5555555555555556,
              "#d8576b"
             ],
             [
              0.6666666666666666,
              "#ed7953"
             ],
             [
              0.7777777777777778,
              "#fb9f3a"
             ],
             [
              0.8888888888888888,
              "#fdca26"
             ],
             [
              1,
              "#f0f921"
             ]
            ],
            "type": "contour"
           }
          ],
          "contourcarpet": [
           {
            "colorbar": {
             "outlinewidth": 0,
             "ticks": ""
            },
            "type": "contourcarpet"
           }
          ],
          "heatmap": [
           {
            "colorbar": {
             "outlinewidth": 0,
             "ticks": ""
            },
            "colorscale": [
             [
              0,
              "#0d0887"
             ],
             [
              0.1111111111111111,
              "#46039f"
             ],
             [
              0.2222222222222222,
              "#7201a8"
             ],
             [
              0.3333333333333333,
              "#9c179e"
             ],
             [
              0.4444444444444444,
              "#bd3786"
             ],
             [
              0.5555555555555556,
              "#d8576b"
             ],
             [
              0.6666666666666666,
              "#ed7953"
             ],
             [
              0.7777777777777778,
              "#fb9f3a"
             ],
             [
              0.8888888888888888,
              "#fdca26"
             ],
             [
              1,
              "#f0f921"
             ]
            ],
            "type": "heatmap"
           }
          ],
          "histogram": [
           {
            "marker": {
             "pattern": {
              "fillmode": "overlay",
              "size": 10,
              "solidity": 0.2
             }
            },
            "type": "histogram"
           }
          ],
          "histogram2d": [
           {
            "colorbar": {
             "outlinewidth": 0,
             "ticks": ""
            },
            "colorscale": [
             [
              0,
              "#0d0887"
             ],
             [
              0.1111111111111111,
              "#46039f"
             ],
             [
              0.2222222222222222,
              "#7201a8"
             ],
             [
              0.3333333333333333,
              "#9c179e"
             ],
             [
              0.4444444444444444,
              "#bd3786"
             ],
             [
              0.5555555555555556,
              "#d8576b"
             ],
             [
              0.6666666666666666,
              "#ed7953"
             ],
             [
              0.7777777777777778,
              "#fb9f3a"
             ],
             [
              0.8888888888888888,
              "#fdca26"
             ],
             [
              1,
              "#f0f921"
             ]
            ],
            "type": "histogram2d"
           }
          ],
          "histogram2dcontour": [
           {
            "colorbar": {
             "outlinewidth": 0,
             "ticks": ""
            },
            "colorscale": [
             [
              0,
              "#0d0887"
             ],
             [
              0.1111111111111111,
              "#46039f"
             ],
             [
              0.2222222222222222,
              "#7201a8"
             ],
             [
              0.3333333333333333,
              "#9c179e"
             ],
             [
              0.4444444444444444,
              "#bd3786"
             ],
             [
              0.5555555555555556,
              "#d8576b"
             ],
             [
              0.6666666666666666,
              "#ed7953"
             ],
             [
              0.7777777777777778,
              "#fb9f3a"
             ],
             [
              0.8888888888888888,
              "#fdca26"
             ],
             [
              1,
              "#f0f921"
             ]
            ],
            "type": "histogram2dcontour"
           }
          ],
          "mesh3d": [
           {
            "colorbar": {
             "outlinewidth": 0,
             "ticks": ""
            },
            "type": "mesh3d"
           }
          ],
          "parcoords": [
           {
            "line": {
             "colorbar": {
              "outlinewidth": 0,
              "ticks": ""
             }
            },
            "type": "parcoords"
           }
          ],
          "pie": [
           {
            "automargin": true,
            "type": "pie"
           }
          ],
          "scatter": [
           {
            "fillpattern": {
             "fillmode": "overlay",
             "size": 10,
             "solidity": 0.2
            },
            "type": "scatter"
           }
          ],
          "scatter3d": [
           {
            "line": {
             "colorbar": {
              "outlinewidth": 0,
              "ticks": ""
             }
            },
            "marker": {
             "colorbar": {
              "outlinewidth": 0,
              "ticks": ""
             }
            },
            "type": "scatter3d"
           }
          ],
          "scattercarpet": [
           {
            "marker": {
             "colorbar": {
              "outlinewidth": 0,
              "ticks": ""
             }
            },
            "type": "scattercarpet"
           }
          ],
          "scattergeo": [
           {
            "marker": {
             "colorbar": {
              "outlinewidth": 0,
              "ticks": ""
             }
            },
            "type": "scattergeo"
           }
          ],
          "scattergl": [
           {
            "marker": {
             "colorbar": {
              "outlinewidth": 0,
              "ticks": ""
             }
            },
            "type": "scattergl"
           }
          ],
          "scattermap": [
           {
            "marker": {
             "colorbar": {
              "outlinewidth": 0,
              "ticks": ""
             }
            },
            "type": "scattermap"
           }
          ],
          "scattermapbox": [
           {
            "marker": {
             "colorbar": {
              "outlinewidth": 0,
              "ticks": ""
             }
            },
            "type": "scattermapbox"
           }
          ],
          "scatterpolar": [
           {
            "marker": {
             "colorbar": {
              "outlinewidth": 0,
              "ticks": ""
             }
            },
            "type": "scatterpolar"
           }
          ],
          "scatterpolargl": [
           {
            "marker": {
             "colorbar": {
              "outlinewidth": 0,
              "ticks": ""
             }
            },
            "type": "scatterpolargl"
           }
          ],
          "scatterternary": [
           {
            "marker": {
             "colorbar": {
              "outlinewidth": 0,
              "ticks": ""
             }
            },
            "type": "scatterternary"
           }
          ],
          "surface": [
           {
            "colorbar": {
             "outlinewidth": 0,
             "ticks": ""
            },
            "colorscale": [
             [
              0,
              "#0d0887"
             ],
             [
              0.1111111111111111,
              "#46039f"
             ],
             [
              0.2222222222222222,
              "#7201a8"
             ],
             [
              0.3333333333333333,
              "#9c179e"
             ],
             [
              0.4444444444444444,
              "#bd3786"
             ],
             [
              0.5555555555555556,
              "#d8576b"
             ],
             [
              0.6666666666666666,
              "#ed7953"
             ],
             [
              0.7777777777777778,
              "#fb9f3a"
             ],
             [
              0.8888888888888888,
              "#fdca26"
             ],
             [
              1,
              "#f0f921"
             ]
            ],
            "type": "surface"
           }
          ],
          "table": [
           {
            "cells": {
             "fill": {
              "color": "#EBF0F8"
             },
             "line": {
              "color": "white"
             }
            },
            "header": {
             "fill": {
              "color": "#C8D4E3"
             },
             "line": {
              "color": "white"
             }
            },
            "type": "table"
           }
          ]
         },
         "layout": {
          "annotationdefaults": {
           "arrowcolor": "#2a3f5f",
           "arrowhead": 0,
           "arrowwidth": 1
          },
          "autotypenumbers": "strict",
          "coloraxis": {
           "colorbar": {
            "outlinewidth": 0,
            "ticks": ""
           }
          },
          "colorscale": {
           "diverging": [
            [
             0,
             "#8e0152"
            ],
            [
             0.1,
             "#c51b7d"
            ],
            [
             0.2,
             "#de77ae"
            ],
            [
             0.3,
             "#f1b6da"
            ],
            [
             0.4,
             "#fde0ef"
            ],
            [
             0.5,
             "#f7f7f7"
            ],
            [
             0.6,
             "#e6f5d0"
            ],
            [
             0.7,
             "#b8e186"
            ],
            [
             0.8,
             "#7fbc41"
            ],
            [
             0.9,
             "#4d9221"
            ],
            [
             1,
             "#276419"
            ]
           ],
           "sequential": [
            [
             0,
             "#0d0887"
            ],
            [
             0.1111111111111111,
             "#46039f"
            ],
            [
             0.2222222222222222,
             "#7201a8"
            ],
            [
             0.3333333333333333,
             "#9c179e"
            ],
            [
             0.4444444444444444,
             "#bd3786"
            ],
            [
             0.5555555555555556,
             "#d8576b"
            ],
            [
             0.6666666666666666,
             "#ed7953"
            ],
            [
             0.7777777777777778,
             "#fb9f3a"
            ],
            [
             0.8888888888888888,
             "#fdca26"
            ],
            [
             1,
             "#f0f921"
            ]
           ],
           "sequentialminus": [
            [
             0,
             "#0d0887"
            ],
            [
             0.1111111111111111,
             "#46039f"
            ],
            [
             0.2222222222222222,
             "#7201a8"
            ],
            [
             0.3333333333333333,
             "#9c179e"
            ],
            [
             0.4444444444444444,
             "#bd3786"
            ],
            [
             0.5555555555555556,
             "#d8576b"
            ],
            [
             0.6666666666666666,
             "#ed7953"
            ],
            [
             0.7777777777777778,
             "#fb9f3a"
            ],
            [
             0.8888888888888888,
             "#fdca26"
            ],
            [
             1,
             "#f0f921"
            ]
           ]
          },
          "colorway": [
           "#636efa",
           "#EF553B",
           "#00cc96",
           "#ab63fa",
           "#FFA15A",
           "#19d3f3",
           "#FF6692",
           "#B6E880",
           "#FF97FF",
           "#FECB52"
          ],
          "font": {
           "color": "#2a3f5f"
          },
          "geo": {
           "bgcolor": "white",
           "lakecolor": "white",
           "landcolor": "#E5ECF6",
           "showlakes": true,
           "showland": true,
           "subunitcolor": "white"
          },
          "hoverlabel": {
           "align": "left"
          },
          "hovermode": "closest",
          "mapbox": {
           "style": "light"
          },
          "paper_bgcolor": "white",
          "plot_bgcolor": "#E5ECF6",
          "polar": {
           "angularaxis": {
            "gridcolor": "white",
            "linecolor": "white",
            "ticks": ""
           },
           "bgcolor": "#E5ECF6",
           "radialaxis": {
            "gridcolor": "white",
            "linecolor": "white",
            "ticks": ""
           }
          },
          "scene": {
           "xaxis": {
            "backgroundcolor": "#E5ECF6",
            "gridcolor": "white",
            "gridwidth": 2,
            "linecolor": "white",
            "showbackground": true,
            "ticks": "",
            "zerolinecolor": "white"
           },
           "yaxis": {
            "backgroundcolor": "#E5ECF6",
            "gridcolor": "white",
            "gridwidth": 2,
            "linecolor": "white",
            "showbackground": true,
            "ticks": "",
            "zerolinecolor": "white"
           },
           "zaxis": {
            "backgroundcolor": "#E5ECF6",
            "gridcolor": "white",
            "gridwidth": 2,
            "linecolor": "white",
            "showbackground": true,
            "ticks": "",
            "zerolinecolor": "white"
           }
          },
          "shapedefaults": {
           "line": {
            "color": "#2a3f5f"
           }
          },
          "ternary": {
           "aaxis": {
            "gridcolor": "white",
            "linecolor": "white",
            "ticks": ""
           },
           "baxis": {
            "gridcolor": "white",
            "linecolor": "white",
            "ticks": ""
           },
           "bgcolor": "#E5ECF6",
           "caxis": {
            "gridcolor": "white",
            "linecolor": "white",
            "ticks": ""
           }
          },
          "title": {
           "x": 0.05
          },
          "xaxis": {
           "automargin": true,
           "gridcolor": "white",
           "linecolor": "white",
           "ticks": "",
           "title": {
            "standoff": 15
           },
           "zerolinecolor": "white",
           "zerolinewidth": 2
          },
          "yaxis": {
           "automargin": true,
           "gridcolor": "white",
           "linecolor": "white",
           "ticks": "",
           "title": {
            "standoff": 15
           },
           "zerolinecolor": "white",
           "zerolinewidth": 2
          }
         }
        },
        "title": {
         "text": "WVS Weighted vs Scored Sentences Proportion of Q8_1 by Country-Year"
        },
        "xaxis": {
         "title": {
          "text": "Country-Year"
         }
        },
        "yaxis": {
         "range": [
          0,
          1.1
         ],
         "title": {
          "text": "Proportion"
         }
        }
       }
      }
     },
     "metadata": {},
     "output_type": "display_data"
    },
    {
     "name": "stdout",
     "output_type": "stream",
     "text": [
      "Pearson correlation between WVS weighted and scored sentence proportions: 0.4323\n"
     ]
    }
   ],
   "source": [
    "## (Visualization -III) ##\n",
    "\n",
    "# This script compares proportions of a specific Q8 survey response between scored sentences and WVS data at the country-year level.\n",
    "# It aggregates sentence counts and computes proportions per country-year in the scored predictions.\n",
    "# It filters the WVS data to matching country-year pairs and computes weighted response proportions using survey weights.\n",
    "# The code then merges both datasets and visualizes their proportions with connecting lines to compare distributions.\n",
    "# The plot uses country-year labels on the x-axis and proportion values on the y-axis, with vertical lines visually highlighting differences between WVS survey and scored sentence proportions.\n",
    "# Finally, it calculates and prints the Pearson correlation between the weighted WVS proportions and scored sentence proportions.\n",
    "\n",
    "%run visualize_prop_diffs.py"
   ]
  }
 ],
 "metadata": {
  "kernelspec": {
   "display_name": "torchgpu",
   "language": "python",
   "name": "python3"
  },
  "language_info": {
   "codemirror_mode": {
    "name": "ipython",
    "version": 3
   },
   "file_extension": ".py",
   "mimetype": "text/x-python",
   "name": "python",
   "nbconvert_exporter": "python",
   "pygments_lexer": "ipython3",
   "version": "3.10.16"
  }
 },
 "nbformat": 4,
 "nbformat_minor": 5
}
