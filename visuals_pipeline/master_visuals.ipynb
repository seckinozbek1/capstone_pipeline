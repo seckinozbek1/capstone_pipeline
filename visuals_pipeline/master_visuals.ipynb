{
 "cells": [
  {
   "cell_type": "code",
   "execution_count": 43,
   "id": "5bcc8f6d",
   "metadata": {},
   "outputs": [
    {
     "data": {
      "text/html": [
       "\n",
       "<style>\n",
       "    table.dataframe th, table.dataframe td {\n",
       "        text-align: left;\n",
       "    }\n",
       "    table.dataframe td:nth-child(n+4):nth-child(-n+6) {\n",
       "        text-align: center;\n",
       "    }\n",
       "    table.dataframe th:nth-child(n+4):nth-child(-n+6) {\n",
       "        text-align: center;\n",
       "    }\n",
       "</style>\n",
       "<table border=\"1\" class=\"dataframe\">\n",
       "  <thead>\n",
       "    <tr style=\"text-align: right;\">\n",
       "      <th>Question</th>\n",
       "      <th>Response</th>\n",
       "      <th>Response Hypothesis</th>\n",
       "      <th>Sentence I</th>\n",
       "      <th>Sentence II</th>\n",
       "      <th>Sentence III</th>\n",
       "    </tr>\n",
       "  </thead>\n",
       "  <tbody>\n",
       "    <tr>\n",
       "      <td>Q8</td>\n",
       "      <td>1</td>\n",
       "      <td>it is important for children to be independent.</td>\n",
       "      <td>all of this leads us to the conclusion that the artsakh people's exercise of the right to self determination is of vital importance.</td>\n",
       "      <td>more importantly, we should respect a country's independent choice of development path and model.</td>\n",
       "      <td>far too many mothers are living in fear, unsure of the fate of their children, and far too many children are seeing their futures crumble in front of them.</td>\n",
       "    </tr>\n",
       "    <tr>\n",
       "      <td>Q8</td>\n",
       "      <td>2</td>\n",
       "      <td>it is not important for children to be independent.</td>\n",
       "      <td>it forced us to acknowledge how interconnected and therefore how reliant we are on one another.</td>\n",
       "      <td>we meet yet again to voice our positions on the major challenges facing our family the human family.</td>\n",
       "      <td>only when such commitment is guaranteed can we enter a new, brighter chapter in the history of humankind a chapter of cooperation and dialogue a chapter of sustainable peace and development.</td>\n",
       "    </tr>\n",
       "    <tr>\n",
       "      <td>Q11</td>\n",
       "      <td>1</td>\n",
       "      <td>it is important for children to be imaginative.</td>\n",
       "      <td>we believe that we must facilitate that natural impulse not obstruct it.</td>\n",
       "      <td>just as our parents and grandparents stepped up to the challenges of their moment, so too must we recognize and seize our own opportunity to shape the future.</td>\n",
       "      <td>in our country, where over half of the population is young, an extensive work is underway to ensure that every young person takes a worthy place in society and demonstrate their potential.</td>\n",
       "    </tr>\n",
       "    <tr>\n",
       "      <td>Q11</td>\n",
       "      <td>2</td>\n",
       "      <td>it is not important for children to be imaginative.</td>\n",
       "      <td>empowering women and girls so that they can reach their full potential lifts a country's productivity and underpins stability.</td>\n",
       "      <td>another priority is ensuring equal opportunities for women and youth, protection of children.</td>\n",
       "      <td>above all, it is about what we do and why we do it.</td>\n",
       "    </tr>\n",
       "    <tr>\n",
       "      <td>Q17</td>\n",
       "      <td>1</td>\n",
       "      <td>it is important for children to be obedient.</td>\n",
       "      <td>it is time to assert a world of dialogue and peace, of justice and solidarity, of brotherhood and sisterhood and genuine, true goodwill, coming together despite our differences and enriching our consensus.</td>\n",
       "      <td>we must ensure that every individual everywhere can live with dignity, according to his or her convictions and choices.</td>\n",
       "      <td>we teach our children to love god and to love our neighbour.</td>\n",
       "    </tr>\n",
       "    <tr>\n",
       "      <td>Q17</td>\n",
       "      <td>2</td>\n",
       "      <td>it is not important for children to be obedient.</td>\n",
       "      <td>the future will belong to those who embrace human dignity, not those who trample it.</td>\n",
       "      <td>we are often dismissed as idealists, but idealism is not foolish it is fearless.</td>\n",
       "      <td>in the face of isolationism, protectionism and racism, the simple concept of looking outwardly and beyond ourselves and of kindness and collectivism might be just as good a starting point as any.</td>\n",
       "    </tr>\n",
       "    <tr>\n",
       "      <td>Q65</td>\n",
       "      <td>1</td>\n",
       "      <td>one has a great deal of confidence in the armed forces.</td>\n",
       "      <td>we are grateful to our international partners for the help and support on this difficult way.</td>\n",
       "      <td>we are confident that, together, we will be able to emerge from this plight stronger and more resilient.</td>\n",
       "      <td>make no mistake the united states will continue to defend ourselves, our allies and our interests against attack, including terrorist threats, as we are prepared to use force if any is necessary.</td>\n",
       "    </tr>\n",
       "    <tr>\n",
       "      <td>Q65</td>\n",
       "      <td>2</td>\n",
       "      <td>one has quite a lot of confidence in the armed forces.</td>\n",
       "      <td>the new potential of terrorist threat has appeared with the escalation of russia's aggressive policies.</td>\n",
       "      <td>the threats that we face today have an increasingly regional and international impact, affecting our economies and lives in ways that we have never experienced before.</td>\n",
       "      <td>various terrorist groups are actively using the unstable military and political situation in afghanistan to strengthen their position.</td>\n",
       "    </tr>\n",
       "    <tr>\n",
       "      <td>Q65</td>\n",
       "      <td>3</td>\n",
       "      <td>one has some confidence in the armed forces.</td>\n",
       "      <td>we currently deploy more than 2,700 peacekeepers in nine peacekeeping missions.</td>\n",
       "      <td>then lieutenant colonel teav chanrithy was one of many deployed to lebanon after japan's peacekeeping training.</td>\n",
       "      <td>this year we are celebrating the seventieth anniversary of united nations peacekeeping, which has contributed immensely to world peace and security.</td>\n",
       "    </tr>\n",
       "    <tr>\n",
       "      <td>Q65</td>\n",
       "      <td>4</td>\n",
       "      <td>one has negligible or no confidence in the armed forces.</td>\n",
       "      <td>a strong, rules based peaceful order also needs a strong transatlantic partnership.</td>\n",
       "      <td>it would be a coalition similar to the international coalition against terrorism.</td>\n",
       "      <td>but democratic governance requires respect for institutions and, above all, for the will of the people.</td>\n",
       "    </tr>\n",
       "    <tr>\n",
       "      <td>Q69</td>\n",
       "      <td>1</td>\n",
       "      <td>one has a great deal of confidence in the police.</td>\n",
       "      <td>that commitment is reflected in our solid contributions to the cause of peace and justice.</td>\n",
       "      <td>the world is indeed a better place thanks to his exemplary service.</td>\n",
       "      <td>we support the work that is under way to ensure that united nations peacekeepers are better trained, better equipped, more effective and act with greater integrity.</td>\n",
       "    </tr>\n",
       "    <tr>\n",
       "      <td>Q69</td>\n",
       "      <td>2</td>\n",
       "      <td>one has quite a lot of confidence in the police.</td>\n",
       "      <td>as protecting peace of one country and saving life of one person now requires cooperation that transcends borders, we need to equip ourselves with a multilateral security architecture.</td>\n",
       "      <td>during our recent membership of the un security council, the netherlands worked hard on practical un reforms in the area of peacekeeping.</td>\n",
       "      <td>in our region the indo pacific we seek a neighbourhood in which the rights of all states are respected, and in which adherence to rules delivers lasting peace.</td>\n",
       "    </tr>\n",
       "    <tr>\n",
       "      <td>Q69</td>\n",
       "      <td>3</td>\n",
       "      <td>one has some confidence in the police.</td>\n",
       "      <td>we believe that the secretary general's new approach to peacekeeping reform, with a cross pillar approach focusing on prevention and sustaining peace, will improve the effectiveness and accountability of peacekeeping operations.</td>\n",
       "      <td>we know that poverty and inequality drive conflict and instability, and we are also seeing this, in heightened civil unrest and conflict.</td>\n",
       "      <td>second, how illicit small arms and light weapons impact peacekeeping operations and third is how to better support and promote women peacekeepers and peace builders.</td>\n",
       "    </tr>\n",
       "    <tr>\n",
       "      <td>Q69</td>\n",
       "      <td>4</td>\n",
       "      <td>one has little or no confidence in the police.</td>\n",
       "      <td>the conflicts and crises that occur in the world, including in ukraine, palestine and myanmar, cannot be resolved due to the debility of the global governance system and the united nations.</td>\n",
       "      <td>we, the peoples of the united nations, battle new threats that undermine the success that we have achieved and frustrate progress in peace, development and human rights the three pillars of the united nations.</td>\n",
       "      <td>our meeting here today is an opportunity for truthful self reflection, in which we should acknowledge the various deficiencies that are hindering the international system from delivering on the noble objectives and aspirations it was set up to realize.</td>\n",
       "    </tr>\n",
       "    <tr>\n",
       "      <td>Q70</td>\n",
       "      <td>1</td>\n",
       "      <td>one has a great deal of confidence in the justice system.</td>\n",
       "      <td>mongolia fully supports the forum's declaration, which emphasizes the importance of fostering peaceful, just and inclusive societies as well as empowering vulnerable people through collective action.</td>\n",
       "      <td>our approach is based on principles of mutual respect and national ownership, with a commitment to sustainable development for all.</td>\n",
       "      <td>in fact, the 1948 universal declaration of human rights has a global dimension for andorra, as well as for the other countries that make up the international community.</td>\n",
       "    </tr>\n",
       "    <tr>\n",
       "      <td>Q70</td>\n",
       "      <td>2</td>\n",
       "      <td>one has quite a lot of confidence in the justice system.</td>\n",
       "      <td>despite the security and economic difficulties and challenges facing my country over the past years, we have not forgotten to defend and promote human rights as one of our priorities.</td>\n",
       "      <td>peace, on the other hand, requires us to acknowledge that humankind has a common destiny.</td>\n",
       "      <td>in facing obstacles today, colombia therefore persists in building a culture of legality in which we recognize our differences and choose coexistence, and the rule of law is forged as the indissoluble marriage of security and justice.</td>\n",
       "    </tr>\n",
       "    <tr>\n",
       "      <td>Q70</td>\n",
       "      <td>3</td>\n",
       "      <td>one has some confidence in the justice system.</td>\n",
       "      <td>fifthly, as a result of the same political expediencies, the united nations, unfortunately, adopts an equal distance stance, even when faced with the violation of decisions, resolutions and defined scope and terms of reference specified to the secretariat.</td>\n",
       "      <td>reforming or adapting democratic institutions to make them more representative is a challenge at both the national and global levels, and it has always been a challenge.</td>\n",
       "      <td>it is now, more than ever, that we need to strengthen rules based multilateralism, to collectively overcome the exceptional challenges we face, and to mitigate their impact on weaker nations and vulnerable peoples.</td>\n",
       "    </tr>\n",
       "    <tr>\n",
       "      <td>Q70</td>\n",
       "      <td>4</td>\n",
       "      <td>one has little or no confidence in the justice system.</td>\n",
       "      <td>as a matter of fact, any violation of the rights of nations will, more than anything, endanger global peace and security.</td>\n",
       "      <td>after all, that is exactly what the charter of the united nations is a set of rules.</td>\n",
       "      <td>i repeat, all other types of unilateral sanctions, including economic sanctions, are illegitimate and contrary to international law.</td>\n",
       "    </tr>\n",
       "    <tr>\n",
       "      <td>Q152, Q153</td>\n",
       "      <td>1</td>\n",
       "      <td>over the coming years, the government should emphasize a high level of economic growth.</td>\n",
       "      <td>there is also an urgent need to mobilize resources to help countries in post conflict situations rehabilitate their institutions and begin reconstruction and development.</td>\n",
       "      <td>the path of development that china is pursuing has provided the world with opportunities for shared development.</td>\n",
       "      <td>it will continue to confront difficulties and crises, make breakthroughs and have successes in development.</td>\n",
       "    </tr>\n",
       "    <tr>\n",
       "      <td>Q152, Q153</td>\n",
       "      <td>2</td>\n",
       "      <td>over the coming years, the government should prioritize ensuring the country has strong defense forces.</td>\n",
       "      <td>on the new frontiers of global governance, such as cyberspace and outer space, state sovereignty must be upheld, rules observed and responsibilities honoured.</td>\n",
       "      <td>throughout our history, we have worked tirelessly to realize our ambitions both at home and elsewhere in the world.</td>\n",
       "      <td>globally, we are facing new crises, and many of them, unfortunately, are caused willingly by humans by disrespecting the sovereignty of states.</td>\n",
       "    </tr>\n",
       "    <tr>\n",
       "      <td>Q152, Q153</td>\n",
       "      <td>3</td>\n",
       "      <td>over the coming years, the government should focus on ensuring that people have more say about how things are done at their jobs and in their communities.</td>\n",
       "      <td>i am talking about this because i am sure that one of the main challenges for humankind today is building democracies that truly speak and listen to the people and achieve the desired results.</td>\n",
       "      <td>we need important reforms among them the reform of the security council, whose current configuration reflects a world that no longer exists.</td>\n",
       "      <td>we aim to consolidate our democratic commitment and promote wider citizen engagement in governance.</td>\n",
       "    </tr>\n",
       "    <tr>\n",
       "      <td>Q152, Q153</td>\n",
       "      <td>4</td>\n",
       "      <td>over the coming years, the government should prioritize work to make the nation's cities and countryside more beautiful.</td>\n",
       "      <td>we provide food security to one sixth of the world's population, even while preserving 66 per cent of our native vegetation and using only 27 per cent of our territory for animal husbandry and agriculture.</td>\n",
       "      <td>we must recommit to achieving sustainable economies, as well as resilient, fair and inclusive societies where no one is left behind.</td>\n",
       "      <td>another acute problem of our time is related to global climate change.</td>\n",
       "    </tr>\n",
       "    <tr>\n",
       "      <td>Q154, Q155</td>\n",
       "      <td>1</td>\n",
       "      <td>maintaining order in the nation is of utmost importance.</td>\n",
       "      <td>mr. president, peace and stability are an indispensable foundation for driving forward the sustainable development agenda, leaving no one behind.</td>\n",
       "      <td>when networks and cartels in government capture the state for their own selfish gain and represent themselves as champions of an ethnic or religious group, the result is all too often civil strife and civil war.</td>\n",
       "      <td>today's serbia is committed to peace and, if i may say so, to behaving like an adult.</td>\n",
       "    </tr>\n",
       "    <tr>\n",
       "      <td>Q154, Q155</td>\n",
       "      <td>2</td>\n",
       "      <td>giving people more say in important government decisions is of utmost importance.</td>\n",
       "      <td>that is to say, on each and every issue that pertains to international coexistence, we have affirmed, and will continue to reaffirm, our commitment to multilateralism and the existence of rules that guarantee the fair treatment of each country.</td>\n",
       "      <td>egypt, like the vast majority of the world's peoples and nations, has a vested interest in restoring the credibility of international multilateral action with the united nations at its forefront.</td>\n",
       "      <td>whether it was taking to the streets or changing our laws, we have seen ourselves as members of a community, one that we have a duty to use our voice within.</td>\n",
       "    </tr>\n",
       "    <tr>\n",
       "      <td>Q154, Q155</td>\n",
       "      <td>3</td>\n",
       "      <td>fighting rising prices is of utmost importance.</td>\n",
       "      <td>numerous crises batter our world, crises that are increasingly interlocked regional conflicts with an international impact, devastating climate change, pandemic disruptions, extremist violence, spiralling inflation, looming recession and, for all too many around the world, the growing reality of hunger.</td>\n",
       "      <td>our planet shared home and mother earth continues to suffer from the serious consequences of consumerism and the excessive greed for natural resources.</td>\n",
       "      <td>at the global level, that demands collective measures to ensure fair access to affordable food and expedite the movement of staples to countries in need.</td>\n",
       "    </tr>\n",
       "    <tr>\n",
       "      <td>Q154, Q155</td>\n",
       "      <td>4</td>\n",
       "      <td>protecting freedom of speech is of utmost importance.</td>\n",
       "      <td>this must be lauded as there is a dire need to address hate speech domestically.</td>\n",
       "      <td>moderation is freedom and democracy, conducted in an inclusive and comprehensive manner that does not purport to promote freedom in one place while supporting dictators elsewhere.</td>\n",
       "      <td>in its efforts to promote human rights, the international community must continue to promote respect for fundamental democratic principles throughout the world.</td>\n",
       "    </tr>\n",
       "  </tbody>\n",
       "</table>"
      ],
      "text/plain": [
       "<IPython.core.display.HTML object>"
      ]
     },
     "metadata": {},
     "output_type": "display_data"
    },
    {
     "name": "stdout",
     "output_type": "stream",
     "text": [
      "LaTeX table saved as sample_sentences.tex with 3 sentences per label.\n"
     ]
    }
   ],
   "source": [
    "import pandas as pd\n",
    "import numpy as np\n",
    "import random\n",
    "from IPython.display import display, HTML\n",
    "\n",
    "num_sentences = 3  # adjust as needed\n",
    "\n",
    "file_paths = {\n",
    "    'q8': '../q8_pipeline/predictions/q8_predictions_filtered.csv',\n",
    "    'q11': '../q11_pipeline/predictions/q11_predictions_filtered.csv',\n",
    "    'q17': '../q17_pipeline/predictions/q17_predictions_filtered.csv',\n",
    "    'q152': '../q152_q153_pipeline/predictions/q152_predictions_filtered.csv',\n",
    "    'q154': '../q154_q155_pipeline/predictions/q154_predictions_filtered.csv',\n",
    "    'q65': '../q65_pipeline/predictions/q65_predictions_filtered.csv',\n",
    "    'q69': '../q69_pipeline/predictions/q69_predictions_filtered.csv',\n",
    "    'q70': '../q70_pipeline/predictions/q70_predictions_filtered.csv',\n",
    "}\n",
    "\n",
    "confidence_cols_map = {\n",
    "    'q8': 'perc_diff_chance_abs',\n",
    "    'q11': 'perc_diff_chance_abs',\n",
    "    'q17': 'perc_diff_chance_abs',\n",
    "}\n",
    "\n",
    "# Load master WVC dataset with combined_label and response_hypothesis columns\n",
    "master_df = pd.read_csv('../group_WVC_stem_encoding_complete_long.csv')\n",
    "\n",
    "# Keep only needed columns and drop duplicates for faster lookups\n",
    "master_map_df = master_df[['combined_label', 'response_hypothesis']].drop_duplicates()\n",
    "# Create a dictionary for fast lookup: combined_label -> response_hypothesis\n",
    "response_hypothesis_lookup = master_map_df.set_index('combined_label')['response_hypothesis'].to_dict()\n",
    "\n",
    "def int_to_roman(n):\n",
    "    roman_numerals = ['I', 'II', 'III', 'IV', 'V', 'VI', 'VII', 'VIII', 'IX', 'X']\n",
    "    return roman_numerals[n-1] if 1 <= n <= 10 else str(n)\n",
    "\n",
    "random.seed()\n",
    "np.random.seed()\n",
    "\n",
    "all_rows = []\n",
    "\n",
    "for ds_name, path in file_paths.items():\n",
    "    df = pd.read_csv(path)\n",
    "    confidence_col = confidence_cols_map.get(ds_name, 'perc_above_chance')\n",
    "\n",
    "    # No filtering: use entire df as is\n",
    "    df_filtered = df.copy()\n",
    "\n",
    "    if 'predicted_combined_label' in df_filtered.columns:\n",
    "        label_col = 'predicted_combined_label'\n",
    "    elif 'combined_label' in df_filtered.columns:\n",
    "        label_col = 'combined_label'\n",
    "    else:\n",
    "        raise ValueError(f\"No label column found in dataset {ds_name}\")\n",
    "\n",
    "    if 'sentence' in df_filtered.columns:\n",
    "        text_col = 'sentence'\n",
    "    elif 'text' in df_filtered.columns:\n",
    "        text_col = 'text'\n",
    "    else:\n",
    "        raise ValueError(f\"No text column found in dataset {ds_name}\")\n",
    "\n",
    "    for (label, group) in df_filtered.groupby(label_col):\n",
    "        # Extract number after underscore in label as string (key for master lookup)\n",
    "        if isinstance(label, str) and '_' in label:\n",
    "            numeric_label_str = label.split('_')[1]\n",
    "            try:\n",
    "                numeric_label = int(numeric_label_str)\n",
    "            except ValueError:\n",
    "                numeric_label = label\n",
    "                numeric_label_str = label\n",
    "        else:\n",
    "            numeric_label = label\n",
    "            numeric_label_str = str(label)\n",
    "\n",
    "        sampled_sentences = group[text_col].sample(n=min(num_sentences, len(group))).tolist()\n",
    "        while len(sampled_sentences) < num_sentences:\n",
    "            sampled_sentences.append('')\n",
    "\n",
    "        response_hypo = (\n",
    "            response_hypothesis_lookup.get(label) or\n",
    "            response_hypothesis_lookup.get(f\"{ds_name.upper()}_{numeric_label_str}\") or\n",
    "            response_hypothesis_lookup.get(numeric_label_str) or\n",
    "            \"\"\n",
    "        )\n",
    "        response_hypo = response_hypo.lower() if response_hypo else \"\"\n",
    "\n",
    "        row = {\n",
    "            'Question': ds_name.upper(),\n",
    "            'Response': numeric_label,\n",
    "            'Response Hypothesis': response_hypo,\n",
    "        }\n",
    "        for i in range(num_sentences):\n",
    "            roman_num = int_to_roman(i+1)\n",
    "            row[f'Sentence {roman_num}'] = sampled_sentences[i]\n",
    "\n",
    "        all_rows.append(row)\n",
    "\n",
    "sentences_df = pd.DataFrame(all_rows)\n",
    "\n",
    "# Replace Q152 and Q154 with combined labels as requested\n",
    "def fix_question_name(q):\n",
    "    if q == 'Q152':\n",
    "        return 'Q152, Q153'\n",
    "    elif q == 'Q154':\n",
    "        return 'Q154, Q155'\n",
    "    else:\n",
    "        return q\n",
    "\n",
    "sentences_df['Question'] = sentences_df['Question'].apply(fix_question_name)\n",
    "\n",
    "# Sort numerically by question number then label\n",
    "sentences_df['Q_num'] = sentences_df['Question'].str.extract(r'Q(\\d+)', expand=False).astype(int)\n",
    "sentences_df = sentences_df.sort_values(by=['Q_num', 'Response']).reset_index(drop=True)\n",
    "sentences_df = sentences_df.drop(columns=['Q_num'])\n",
    "\n",
    "# Generate HTML with centered sentences in sentence columns\n",
    "html = sentences_df.to_html(index=False)\n",
    "\n",
    "css = f\"\"\"\n",
    "<style>\n",
    "    table.dataframe th, table.dataframe td {{\n",
    "        text-align: left;\n",
    "    }}\n",
    "    table.dataframe td:nth-child(n+4):nth-child(-n+{3 + num_sentences}) {{\n",
    "        text-align: center;\n",
    "    }}\n",
    "    table.dataframe th:nth-child(n+4):nth-child(-n+{3 + num_sentences}) {{\n",
    "        text-align: center;\n",
    "    }}\n",
    "</style>\n",
    "\"\"\"\n",
    "\n",
    "display(HTML(css + html))\n",
    "\n",
    "# Save as LaTeX with dynamic columns\n",
    "col_format = 'lll' + 'c' * num_sentences\n",
    "\n",
    "sentences_df.to_latex(\n",
    "    'sample_sentences.tex',\n",
    "    index=False,\n",
    "    caption=f\"Sampled sentences for each Question and Response ({num_sentences} Sentences per Label)\",\n",
    "    label=\"tab:sampled_sentences\",\n",
    "    column_format=col_format,\n",
    "    escape=True,\n",
    ")\n",
    "\n",
    "print(f\"LaTeX table saved as sample_sentences.tex with {num_sentences} sentences per label.\")\n"
   ]
  },
  {
   "cell_type": "code",
   "execution_count": 32,
   "id": "98bb49ca",
   "metadata": {},
   "outputs": [
    {
     "data": {
      "text/html": [
       "\n",
       "<style>\n",
       "    table.dataframe th, table.dataframe td {\n",
       "        text-align: center !important;\n",
       "    }\n",
       "</style>\n",
       "<table border=\"1\" class=\"dataframe\">\n",
       "  <thead>\n",
       "    <tr style=\"text-align: right;\">\n",
       "      <th>Question</th>\n",
       "      <th>Response Type</th>\n",
       "      <th>Sentence Augmentations</th>\n",
       "      <th>Word Replacements</th>\n",
       "      <th>Validation Size</th>\n",
       "      <th>Iterations</th>\n",
       "      <th>Learning Rate</th>\n",
       "      <th>Depth</th>\n",
       "      <th>L2 Leaf Regularization</th>\n",
       "      <th>Random Strength</th>\n",
       "      <th>Bagging Temperature</th>\n",
       "      <th>Loss Function</th>\n",
       "      <th>Evaluation Metric</th>\n",
       "    </tr>\n",
       "  </thead>\n",
       "  <tbody>\n",
       "    <tr>\n",
       "      <td>Q8</td>\n",
       "      <td>Binary</td>\n",
       "      <td>3</td>\n",
       "      <td>1</td>\n",
       "      <td>0.400</td>\n",
       "      <td>2000</td>\n",
       "      <td>0.070</td>\n",
       "      <td>5</td>\n",
       "      <td>30</td>\n",
       "      <td>10</td>\n",
       "      <td>10.000</td>\n",
       "      <td>Logloss</td>\n",
       "      <td>F1</td>\n",
       "    </tr>\n",
       "    <tr>\n",
       "      <td>Q11</td>\n",
       "      <td>Binary</td>\n",
       "      <td>3</td>\n",
       "      <td>1</td>\n",
       "      <td>0.300</td>\n",
       "      <td>2000</td>\n",
       "      <td>0.010</td>\n",
       "      <td>5</td>\n",
       "      <td>30</td>\n",
       "      <td>7</td>\n",
       "      <td>15.000</td>\n",
       "      <td>Logloss</td>\n",
       "      <td>F1</td>\n",
       "    </tr>\n",
       "    <tr>\n",
       "      <td>Q17</td>\n",
       "      <td>Binary</td>\n",
       "      <td>7</td>\n",
       "      <td>1</td>\n",
       "      <td>0.500</td>\n",
       "      <td>2000</td>\n",
       "      <td>0.012</td>\n",
       "      <td>4</td>\n",
       "      <td>135</td>\n",
       "      <td>15</td>\n",
       "      <td>0.700</td>\n",
       "      <td>Logloss</td>\n",
       "      <td>F1</td>\n",
       "    </tr>\n",
       "    <tr>\n",
       "      <td>Q65</td>\n",
       "      <td>Ordinal</td>\n",
       "      <td>3</td>\n",
       "      <td>1</td>\n",
       "      <td>0.270</td>\n",
       "      <td>2000</td>\n",
       "      <td>0.009</td>\n",
       "      <td>4</td>\n",
       "      <td>32</td>\n",
       "      <td>9</td>\n",
       "      <td>0.400</td>\n",
       "      <td>MultiClass</td>\n",
       "      <td>MultiClass</td>\n",
       "    </tr>\n",
       "    <tr>\n",
       "      <td>Q69</td>\n",
       "      <td>Ordinal</td>\n",
       "      <td>2</td>\n",
       "      <td>1</td>\n",
       "      <td>0.450</td>\n",
       "      <td>2000</td>\n",
       "      <td>0.060</td>\n",
       "      <td>5</td>\n",
       "      <td>50</td>\n",
       "      <td>2</td>\n",
       "      <td>5.000</td>\n",
       "      <td>MultiClass</td>\n",
       "      <td>MultiClass</td>\n",
       "    </tr>\n",
       "    <tr>\n",
       "      <td>Q70</td>\n",
       "      <td>Ordinal</td>\n",
       "      <td>5</td>\n",
       "      <td>1</td>\n",
       "      <td>0.300</td>\n",
       "      <td>2000</td>\n",
       "      <td>0.030</td>\n",
       "      <td>5</td>\n",
       "      <td>20</td>\n",
       "      <td>7</td>\n",
       "      <td>6.000</td>\n",
       "      <td>MultiClass</td>\n",
       "      <td>MultiClass</td>\n",
       "    </tr>\n",
       "    <tr>\n",
       "      <td>Q152, Q153</td>\n",
       "      <td>Categorical</td>\n",
       "      <td>3</td>\n",
       "      <td>1</td>\n",
       "      <td>0.400</td>\n",
       "      <td>2000</td>\n",
       "      <td>0.050</td>\n",
       "      <td>8</td>\n",
       "      <td>10</td>\n",
       "      <td>0</td>\n",
       "      <td>0.000</td>\n",
       "      <td>MultiClass</td>\n",
       "      <td>MultiClass</td>\n",
       "    </tr>\n",
       "    <tr>\n",
       "      <td>Q154, Q155</td>\n",
       "      <td>Categorical</td>\n",
       "      <td>3</td>\n",
       "      <td>1</td>\n",
       "      <td>0.400</td>\n",
       "      <td>2000</td>\n",
       "      <td>0.050</td>\n",
       "      <td>8</td>\n",
       "      <td>10</td>\n",
       "      <td>0</td>\n",
       "      <td>0.000</td>\n",
       "      <td>MultiClass</td>\n",
       "      <td>MultiClass</td>\n",
       "    </tr>\n",
       "  </tbody>\n",
       "</table>"
      ],
      "text/plain": [
       "<IPython.core.display.HTML object>"
      ]
     },
     "metadata": {},
     "output_type": "display_data"
    },
    {
     "name": "stdout",
     "output_type": "stream",
     "text": [
      "LaTeX table saved as training_hyperparams_summary.tex\n"
     ]
    }
   ],
   "source": [
    "import re\n",
    "import pandas as pd\n",
    "from IPython.display import display, HTML\n",
    "\n",
    "def extract_training_hyperparam(filepath, var_name, func_name=None, dict_name=None):\n",
    "    \"\"\"\n",
    "    Extracts the last occurrence of:\n",
    "      - A direct variable assignment: var_name = number or string\n",
    "      - If dict_name provided, tries to find 'var_name': number/string inside dict_name = {...}\n",
    "      - If func_name is provided and variable not found by assignment or dict, \n",
    "        tries to find var_name=number/string inside function calls to func_name(...)\n",
    "    Returns float, int, or string if found, else None.\n",
    "    \"\"\"\n",
    "    with open(filepath, 'r', encoding='utf-8') as f:\n",
    "        text = f.read()\n",
    "\n",
    "    num_pattern = r'[-+]?\\d*\\.?\\d+(?:[eE][-+]?\\d+)?'\n",
    "    str_pattern = r'[\"\\']([^\"\\']+)[\"\\']'\n",
    "\n",
    "    # Try direct variable assignment (number)\n",
    "    assign_pattern_num = rf'^{var_name}\\s*=\\s*({num_pattern})'\n",
    "    assign_matches_num = re.findall(assign_pattern_num, text, flags=re.MULTILINE)\n",
    "    if assign_matches_num:\n",
    "        try:\n",
    "            return float(assign_matches_num[-1])\n",
    "        except ValueError:\n",
    "            return assign_matches_num[-1]\n",
    "\n",
    "    # Try direct variable assignment (string)\n",
    "    assign_pattern_str = rf'^{var_name}\\s*=\\s*{str_pattern}'\n",
    "    assign_matches_str = re.findall(assign_pattern_str, text, flags=re.MULTILINE)\n",
    "    if assign_matches_str:\n",
    "        return assign_matches_str[-1]\n",
    "\n",
    "    # Try dict literal if dict_name provided (number)\n",
    "    if dict_name:\n",
    "        dict_pattern_num = rf'{dict_name}\\s*=\\s*\\{{.*?[\"\\']{var_name}[\"\\']\\s*:\\s*({num_pattern}).*?\\}}'\n",
    "        dict_matches_num = re.findall(dict_pattern_num, text, flags=re.DOTALL)\n",
    "        if dict_matches_num:\n",
    "            try:\n",
    "                return float(dict_matches_num[-1])\n",
    "            except ValueError:\n",
    "                return dict_matches_num[-1]\n",
    "\n",
    "        # Try dict literal (string)\n",
    "        dict_pattern_str = rf'{dict_name}\\s*=\\s*\\{{.*?[\"\\']{var_name}[\"\\']\\s*:\\s*{str_pattern}.*?\\}}'\n",
    "        dict_matches_str = re.findall(dict_pattern_str, text, flags=re.DOTALL)\n",
    "        if dict_matches_str:\n",
    "            return dict_matches_str[-1]\n",
    "\n",
    "    # Try function call argument if func_name provided (number)\n",
    "    if func_name:\n",
    "        func_pattern_num = rf'{func_name}\\s*\\(.*?{var_name}\\s*=\\s*({num_pattern}).*?\\)'\n",
    "        func_matches_num = re.findall(func_pattern_num, text, flags=re.DOTALL)\n",
    "        if func_matches_num:\n",
    "            try:\n",
    "                return float(func_matches_num[-1])\n",
    "            except ValueError:\n",
    "                return func_matches_num[-1]\n",
    "\n",
    "        # Try function call argument (string)\n",
    "        func_pattern_str = rf'{func_name}\\s*\\(.*?{var_name}\\s*=\\s*{str_pattern}.*?\\)'\n",
    "        func_matches_str = re.findall(func_pattern_str, text, flags=re.DOTALL)\n",
    "        if func_matches_str:\n",
    "            return func_matches_str[-1]\n",
    "\n",
    "    print(f\"Warning: {var_name} not found in {filepath}\")\n",
    "    return None\n",
    "\n",
    "def convert_to_int(df, col):\n",
    "    \"\"\"\n",
    "    Convert a float column to int if all non-NA values are integer-valued (zero decimals).\n",
    "    \"\"\"\n",
    "    if pd.api.types.is_numeric_dtype(df[col]):\n",
    "        non_na = df[col].dropna()\n",
    "        if not non_na.empty and non_na.apply(float.is_integer).all():\n",
    "            df[col] = df[col].astype('Int64')  \n",
    "\n",
    "\n",
    "# Response type map as requested\n",
    "response_type_map = {\n",
    "    'Q8': 'Binary',\n",
    "    'Q11': 'Binary',\n",
    "    'Q17': 'Binary',\n",
    "    'Q152, Q153': 'Categorical',\n",
    "    'Q154, Q155': 'Categorical',\n",
    "    'Q65': 'Ordinal',\n",
    "    'Q69': 'Ordinal',\n",
    "    'Q70': 'Ordinal',\n",
    "}\n",
    "\n",
    "# Map your questions to their script paths\n",
    "question_to_path = {\n",
    "    'Q8': \"../q8_pipeline/train_catboost_labeled.py\",\n",
    "    'Q11': \"../q11_pipeline/train_catboost_labeled.py\",\n",
    "    'Q17': \"../q17_pipeline/train_catboost_labeled.py\",\n",
    "    'Q65': \"../q65_pipeline/train_catboost_labeled.py\",\n",
    "    'Q69': \"../q69_pipeline/train_catboost_labeled.py\",\n",
    "    'Q70': \"../q70_pipeline/train_catboost_labeled.py\",\n",
    "    'Q152, Q153': \"../q152_q153_pipeline/train_catboost_labeled.py\",\n",
    "    'Q154, Q155': \"../q154_q155_pipeline/train_catboost_labeled.py\"\n",
    "}\n",
    "\n",
    "rows = []\n",
    "for question, filepath in question_to_path.items():\n",
    "    num_augmentations = extract_training_hyperparam(filepath, 'num_augmentations')\n",
    "    num_replacements = extract_training_hyperparam(filepath, 'num_replacements', func_name='synonym_augment')\n",
    "    val_size = extract_training_hyperparam(filepath, 'test_size', func_name='train_test_split')\n",
    "    iterations = extract_training_hyperparam(filepath, 'iterations', dict_name='catboost_params')\n",
    "    learning_rate = extract_training_hyperparam(filepath, 'learning_rate', dict_name='catboost_params')\n",
    "    depth = extract_training_hyperparam(filepath, 'depth', dict_name='catboost_params')\n",
    "\n",
    "    loss_function = extract_training_hyperparam(filepath, 'loss_function', dict_name='catboost_params')\n",
    "    eval_metric = extract_training_hyperparam(filepath, 'eval_metric', dict_name='catboost_params')\n",
    "\n",
    "    # Additional hyperparameters extraction\n",
    "    l2_leaf_reg = extract_training_hyperparam(filepath, 'l2_leaf_reg', dict_name='catboost_params')\n",
    "    random_strength = extract_training_hyperparam(filepath, 'random_strength', dict_name='catboost_params')\n",
    "    bagging_temperature = extract_training_hyperparam(filepath, 'bagging_temperature', dict_name='catboost_params')\n",
    "\n",
    "    response_type = response_type_map.get(question, 'Unknown')\n",
    "\n",
    "    rows.append({\n",
    "        'Question': question,\n",
    "        'Response Type': response_type,\n",
    "        'Sentence Augmentations': num_augmentations,\n",
    "        'Word Replacements': num_replacements,\n",
    "        'Validation Size': val_size,\n",
    "        'Iterations': iterations,\n",
    "        'Learning Rate': learning_rate,\n",
    "        'Depth': depth,\n",
    "        'L2 Leaf Regularization': l2_leaf_reg,\n",
    "        'Random Strength': random_strength,\n",
    "        'Bagging Temperature': bagging_temperature,\n",
    "        'Loss Function': loss_function,\n",
    "        'Evaluation Metric': eval_metric,\n",
    "    })\n",
    "\n",
    "df = pd.DataFrame(rows)\n",
    "\n",
    "# Apply integer conversion only if all values are whole numbers\n",
    "for col in ['Sentence Augmentations', 'Word Replacements', 'Validation Size', 'Iterations', 'Learning Rate', 'Depth',\n",
    "            'L2 Leaf Regularization', 'Random Strength', 'Bagging Temperature']:\n",
    "    if col in df.columns:\n",
    "        convert_to_int(df, col)\n",
    "\n",
    "# Display centered HTML table in notebook\n",
    "html = df.to_html(index=False)\n",
    "css = \"\"\"\n",
    "<style>\n",
    "    table.dataframe th, table.dataframe td {\n",
    "        text-align: center !important;\n",
    "    }\n",
    "</style>\n",
    "\"\"\"\n",
    "display(HTML(css + html))\n",
    "\n",
    "# Save as LaTeX with centered columns\n",
    "col_format = 'llcccccccccclll'  # Adjusted for new columns\n",
    "\n",
    "df.to_latex(\n",
    "    'training_hyperparams_summary.tex',\n",
    "    index=False,\n",
    "    caption=\"Training Hyperparameters by Model\",\n",
    "    label=\"tab:training_hyperparams_summary\",\n",
    "    column_format=col_format,\n",
    "    escape=True,\n",
    ")\n",
    "\n",
    "print(\"LaTeX table saved as training_hyperparams_summary.tex\")\n"
   ]
  },
  {
   "cell_type": "code",
   "execution_count": 33,
   "id": "4652dfe8",
   "metadata": {},
   "outputs": [
    {
     "data": {
      "text/html": [
       "\n",
       "<style>\n",
       "    table.dataframe th, table.dataframe td {\n",
       "        text-align: center !important;\n",
       "    }\n",
       "</style>\n",
       "<table border=\"1\" class=\"dataframe\">\n",
       "  <thead>\n",
       "    <tr style=\"text-align: right;\">\n",
       "      <th>Question</th>\n",
       "      <th>Response Type</th>\n",
       "      <th>Maximum Extracted Phrases</th>\n",
       "      <th>Ngram Range Extracted Phrases</th>\n",
       "      <th>Diversity Metric for Extracted Phrases</th>\n",
       "      <th>Confidence Metric Criterion</th>\n",
       "      <th>Minimum Confidence Metric Threshold (Decision Boundary)</th>\n",
       "      <th>Confidence Metric Weight</th>\n",
       "      <th>Keyword Cosine Similarity Metric Weight</th>\n",
       "      <th>Minimum Cosine Similarity Metric Threshold</th>\n",
       "      <th>Minimum Joint Metric Threshold</th>\n",
       "    </tr>\n",
       "  </thead>\n",
       "  <tbody>\n",
       "    <tr>\n",
       "      <td>Q8</td>\n",
       "      <td>Binary</td>\n",
       "      <td>3</td>\n",
       "      <td>(5, 7)</td>\n",
       "      <td>0.300</td>\n",
       "      <td>% Difference from Chance</td>\n",
       "      <td>0.01% (0.5)</td>\n",
       "      <td>0.500</td>\n",
       "      <td>0.500</td>\n",
       "      <td>0.400</td>\n",
       "      <td>0.010</td>\n",
       "    </tr>\n",
       "    <tr>\n",
       "      <td>Q11</td>\n",
       "      <td>Binary</td>\n",
       "      <td>1</td>\n",
       "      <td>(6, 8)</td>\n",
       "      <td>0.300</td>\n",
       "      <td>% Difference from Chance</td>\n",
       "      <td>0.01% (0.5)</td>\n",
       "      <td>0.500</td>\n",
       "      <td>0.500</td>\n",
       "      <td>0.400</td>\n",
       "      <td>0.010</td>\n",
       "    </tr>\n",
       "    <tr>\n",
       "      <td>Q17</td>\n",
       "      <td>Binary</td>\n",
       "      <td>3</td>\n",
       "      <td>(5, 7)</td>\n",
       "      <td>0.300</td>\n",
       "      <td>% Difference from Chance</td>\n",
       "      <td>0.01% (0.5)</td>\n",
       "      <td>0.500</td>\n",
       "      <td>0.500</td>\n",
       "      <td>0.400</td>\n",
       "      <td>0.010</td>\n",
       "    </tr>\n",
       "    <tr>\n",
       "      <td>Q65</td>\n",
       "      <td>Ordinal</td>\n",
       "      <td>3</td>\n",
       "      <td>(5, 7)</td>\n",
       "      <td>0.300</td>\n",
       "      <td>% Above Chance</td>\n",
       "      <td>2%</td>\n",
       "      <td>0.300</td>\n",
       "      <td>0.700</td>\n",
       "      <td>0.450</td>\n",
       "      <td>0.300</td>\n",
       "    </tr>\n",
       "    <tr>\n",
       "      <td>Q69</td>\n",
       "      <td>Ordinal</td>\n",
       "      <td>3</td>\n",
       "      <td>(5, 7)</td>\n",
       "      <td>0.300</td>\n",
       "      <td>% Above Chance</td>\n",
       "      <td>2%</td>\n",
       "      <td>0.300</td>\n",
       "      <td>0.700</td>\n",
       "      <td>0.450</td>\n",
       "      <td>0.300</td>\n",
       "    </tr>\n",
       "    <tr>\n",
       "      <td>Q70</td>\n",
       "      <td>Ordinal</td>\n",
       "      <td>3</td>\n",
       "      <td>(5, 7)</td>\n",
       "      <td>0.300</td>\n",
       "      <td>% Above Chance</td>\n",
       "      <td>2%</td>\n",
       "      <td>0.300</td>\n",
       "      <td>0.700</td>\n",
       "      <td>0.450</td>\n",
       "      <td>0.300</td>\n",
       "    </tr>\n",
       "    <tr>\n",
       "      <td>Q152, Q153</td>\n",
       "      <td>Categorical</td>\n",
       "      <td>3</td>\n",
       "      <td>(5, 7)</td>\n",
       "      <td>0.300</td>\n",
       "      <td>% Above Chance</td>\n",
       "      <td>2%</td>\n",
       "      <td>0.300</td>\n",
       "      <td>0.700</td>\n",
       "      <td>0.450</td>\n",
       "      <td>0.300</td>\n",
       "    </tr>\n",
       "    <tr>\n",
       "      <td>Q154, Q155</td>\n",
       "      <td>Categorical</td>\n",
       "      <td>3</td>\n",
       "      <td>(5, 7)</td>\n",
       "      <td>0.300</td>\n",
       "      <td>% Above Chance</td>\n",
       "      <td>2%</td>\n",
       "      <td>0.300</td>\n",
       "      <td>0.700</td>\n",
       "      <td>0.450</td>\n",
       "      <td>0.300</td>\n",
       "    </tr>\n",
       "  </tbody>\n",
       "</table>"
      ],
      "text/plain": [
       "<IPython.core.display.HTML object>"
      ]
     },
     "metadata": {},
     "output_type": "display_data"
    },
    {
     "name": "stdout",
     "output_type": "stream",
     "text": [
      "LaTeX table saved as pred_wvs7_hyperparams_summary.tex\n"
     ]
    }
   ],
   "source": [
    "import re\n",
    "import pandas as pd\n",
    "from IPython.display import display, HTML\n",
    "\n",
    "def extract_pred_wvs7_hyperparam(filepath, var_name, func_name=None, question_key=None):\n",
    "    \"\"\"\n",
    "    Extracts last occurrence of var_name in file.\n",
    "    Special handling for confidence_threshold in binary questions (Q8, Q11, Q17):\n",
    "    Returns formatted \"X% (threshold_value)\".\n",
    "    \"\"\"\n",
    "    with open(filepath, 'r', encoding='utf-8') as f:\n",
    "        text = f.read()\n",
    "\n",
    "    # Last direct assignment\n",
    "    assign_pattern = rf'^{re.escape(var_name)}\\s*=\\s*([^\\n]+)'\n",
    "    assign_matches = re.findall(assign_pattern, text, flags=re.MULTILINE)\n",
    "    val = assign_matches[-1].strip() if assign_matches else None\n",
    "    if val and (val.startswith((\"'\", '\"')) and val.endswith((\"'\", '\"'))):\n",
    "        val = val[1:-1]\n",
    "\n",
    "    # Search inside function signature if needed\n",
    "    if func_name and val is None:\n",
    "        func_pattern = re.compile(rf'def\\s+{re.escape(func_name)}\\s*\\((.*?)\\):', re.DOTALL)\n",
    "        func_match = func_pattern.search(text)\n",
    "        if func_match:\n",
    "            params_str = func_match.group(1)\n",
    "            params = [p.strip() for p in params_str.split(',')]\n",
    "            for p in params:\n",
    "                if p.startswith(var_name + '='):\n",
    "                    val = p.split('=', 1)[1].strip()\n",
    "                    if (val.startswith((\"'\", '\"')) and val.endswith((\"'\", '\"'))):\n",
    "                        val = val[1:-1]\n",
    "                    break\n",
    "\n",
    "    # Search dict if still None\n",
    "    if val is None:\n",
    "        dict_pattern = re.compile(rf'{re.escape(var_name)}\\s*:\\s*([^,\\n]+)')\n",
    "        dict_matches = dict_pattern.findall(text)\n",
    "        if dict_matches:\n",
    "            val = dict_matches[-1].strip()\n",
    "            if (val.startswith((\"'\", '\"')) and val.endswith((\"'\", '\"'))):\n",
    "                val = val[1:-1]\n",
    "\n",
    "    binary_questions = ('Q8', 'Q11', 'Q17')\n",
    "    if var_name == 'confidence_threshold' and question_key is not None:\n",
    "        question_keys = [q.strip() for q in question_key.split(',')]\n",
    "        if any(q in binary_questions for q in question_keys):\n",
    "            # Extract last occurrence of 'threshold' variable in the script (number)\n",
    "            threshold_matches = re.findall(r'^\\s*threshold\\s*=\\s*([0-9]*\\.?[0-9]+)', text, flags=re.MULTILINE)\n",
    "            threshold_val = threshold_matches[-1] if threshold_matches else None\n",
    "\n",
    "            try:\n",
    "                percentage_num = float(val.strip('%')) if isinstance(val, str) else float(val)\n",
    "            except:\n",
    "                percentage_num = val\n",
    "\n",
    "            if threshold_val is not None:\n",
    "                # Format with 1-2 decimals for percentage\n",
    "                perc_str = f\"{percentage_num:.2f}\".rstrip('0').rstrip('.')\n",
    "                return f\"{perc_str}% ({threshold_val})\"\n",
    "            else:\n",
    "                perc_str = f\"{percentage_num:.2f}\".rstrip('0').rstrip('.')\n",
    "                return f\"{perc_str}%\"\n",
    "\n",
    "    # For non-binary confidence_threshold, format as integer % if possible, else float %\n",
    "    if var_name == 'confidence_threshold':\n",
    "        try:\n",
    "            f = float(val)\n",
    "            if f.is_integer():\n",
    "                return f\"{int(f)}%\"\n",
    "            else:\n",
    "                # Keep up to 2 decimals\n",
    "                return f\"{f:.2f}%\".rstrip('0').rstrip('.')\n",
    "        except:\n",
    "            pass\n",
    "\n",
    "    return val\n",
    "\n",
    "def float_to_int(x):\n",
    "    \"\"\"Convert float ending with .0 to int, else return original.\"\"\"\n",
    "    try:\n",
    "        f = float(x)\n",
    "        if f.is_integer():\n",
    "            return int(f)\n",
    "        return f\n",
    "    except:\n",
    "        return x\n",
    "\n",
    "# Map questions to filepaths (update your actual paths here)\n",
    "question_to_path = {\n",
    "    'Q8': \"../q8_pipeline/predict_catboost_unga_wvs7.py\",\n",
    "    'Q11': \"../q11_pipeline/predict_catboost_unga_wvs7.py\",\n",
    "    'Q17': \"../q17_pipeline/predict_catboost_unga_wvs7.py\",\n",
    "    'Q65': \"../q65_pipeline/predict_catboost_unga_wvs7.py\",\n",
    "    'Q69': \"../q69_pipeline/predict_catboost_unga_wvs7.py\",\n",
    "    'Q70': \"../q70_pipeline/predict_catboost_unga_wvs7.py\",\n",
    "    'Q152, Q153': \"../q152_q153_pipeline/predict_catboost_unga_wvs7.py\",\n",
    "    'Q154, Q155': \"../q154_q155_pipeline/predict_catboost_unga_wvs7.py\"\n",
    "}\n",
    "\n",
    "response_type_map = {\n",
    "    'Q8': 'Binary',\n",
    "    'Q11': 'Binary',\n",
    "    'Q17': 'Binary',\n",
    "    'Q152, Q153': 'Categorical',\n",
    "    'Q154, Q155': 'Categorical',\n",
    "    'Q65': 'Ordinal',\n",
    "    'Q69': 'Ordinal',\n",
    "    'Q70': 'Ordinal',\n",
    "}\n",
    "\n",
    "rows = []\n",
    "\n",
    "for question, filepath in question_to_path.items():\n",
    "    max_phrases = extract_pred_wvs7_hyperparam(filepath, 'MAX_PHRASES')\n",
    "    ngram_range = extract_pred_wvs7_hyperparam(filepath, 'KEYPHRASE_NGRAM_RANGE')\n",
    "    diversity = extract_pred_wvs7_hyperparam(filepath, 'DIVERSITY')\n",
    "\n",
    "    confidence_col = extract_pred_wvs7_hyperparam(filepath, 'confidence_col', func_name='joint_score_filter')\n",
    "    confidence_weight = extract_pred_wvs7_hyperparam(filepath, 'confidence_weight', func_name='joint_score_filter')\n",
    "    similarity_weight = extract_pred_wvs7_hyperparam(filepath, 'similarity_weight', func_name='joint_score_filter')\n",
    "\n",
    "    confidence_threshold = extract_pred_wvs7_hyperparam(filepath, 'confidence_threshold', func_name='joint_score_filter', question_key=question)\n",
    "    similarity_threshold = extract_pred_wvs7_hyperparam(filepath, 'similarity_threshold', func_name='joint_score_filter')\n",
    "    joint_threshold = extract_pred_wvs7_hyperparam(filepath, 'joint_threshold', func_name='joint_score_filter')\n",
    "\n",
    "    # Map confidence_col to readable string\n",
    "    if confidence_col in ('perc_diff_chance_abs', \"'perc_diff_chance_abs'\"):\n",
    "        confidence_col_readable = \"% Difference from Chance\"\n",
    "    elif confidence_col in ('perc_above_chance', \"'perc_above_chance'\"):\n",
    "        confidence_col_readable = \"% Above Chance\"\n",
    "    else:\n",
    "        confidence_col_readable = confidence_col\n",
    "\n",
    "    response_type = response_type_map.get(question, 'Unknown')\n",
    "\n",
    "    rows.append({\n",
    "        'Question': question,\n",
    "        'Response Type': response_type,\n",
    "        'Maximum Extracted Phrases': float_to_int(max_phrases),\n",
    "        'Ngram Range Extracted Phrases': ngram_range,\n",
    "        'Diversity Metric for Extracted Phrases': float_to_int(diversity),\n",
    "        'Confidence Metric Criterion': confidence_col_readable,\n",
    "        'Minimum Confidence Metric Threshold (Decision Boundary)': confidence_threshold,\n",
    "        'Confidence Metric Weight': float_to_int(confidence_weight),\n",
    "        'Keyword Cosine Similarity Metric Weight': float_to_int(similarity_weight),\n",
    "        'Minimum Cosine Similarity Metric Threshold': float_to_int(similarity_threshold),\n",
    "        'Minimum Joint Metric Threshold': float_to_int(joint_threshold),\n",
    "    })\n",
    "\n",
    "df = pd.DataFrame(rows)\n",
    "\n",
    "# Display nicely centered in Jupyter Notebook\n",
    "html = df.to_html(index=False)\n",
    "css = \"\"\"\n",
    "<style>\n",
    "    table.dataframe th, table.dataframe td {\n",
    "        text-align: center !important;\n",
    "    }\n",
    "</style>\n",
    "\"\"\"\n",
    "display(HTML(css + html))\n",
    "\n",
    "# Save as LaTeX\n",
    "col_format = 'll' + 'c' * (len(df.columns) - 2)\n",
    "df.to_latex(\n",
    "    'pred_wvs7_hyperparams_summary.tex',\n",
    "    index=False,\n",
    "    caption=\"Extracted Prediction Hyperparameters for by Model (Full Dataset, N > 25,500)\",\n",
    "    label=\"tab:pred_wvs7_hyperparams_summary\",\n",
    "    column_format=col_format,\n",
    "    escape=True,\n",
    ")\n",
    "\n",
    "print(\"LaTeX table saved as pred_wvs7_hyperparams_summary.tex\")\n"
   ]
  },
  {
   "cell_type": "code",
   "execution_count": 35,
   "id": "0b881abd",
   "metadata": {},
   "outputs": [
    {
     "data": {
      "text/html": [
       "\n",
       "<style>\n",
       "    table.dataframe th, table.dataframe td {\n",
       "        text-align: center !important;\n",
       "    }\n",
       "</style>\n",
       "<style type=\"text/css\">\n",
       "</style>\n",
       "<table id=\"T_bddc1\">\n",
       "  <thead>\n",
       "    <tr>\n",
       "      <th id=\"T_bddc1_level0_col0\" class=\"col_heading level0 col0\" >Question</th>\n",
       "      <th id=\"T_bddc1_level0_col1\" class=\"col_heading level0 col1\" >Response</th>\n",
       "      <th id=\"T_bddc1_level0_col2\" class=\"col_heading level0 col2\" >Response Type</th>\n",
       "      <th id=\"T_bddc1_level0_col3\" class=\"col_heading level0 col3\" >Count</th>\n",
       "      <th id=\"T_bddc1_level0_col4\" class=\"col_heading level0 col4\" >Mean Joint Score</th>\n",
       "      <th id=\"T_bddc1_level0_col5\" class=\"col_heading level0 col5\" >Std Joint Score</th>\n",
       "      <th id=\"T_bddc1_level0_col6\" class=\"col_heading level0 col6\" >Mean Confidence</th>\n",
       "      <th id=\"T_bddc1_level0_col7\" class=\"col_heading level0 col7\" >Std Confidence</th>\n",
       "      <th id=\"T_bddc1_level0_col8\" class=\"col_heading level0 col8\" >Mean Cosine Similarity</th>\n",
       "      <th id=\"T_bddc1_level0_col9\" class=\"col_heading level0 col9\" >Std Cosine Similarity</th>\n",
       "    </tr>\n",
       "  </thead>\n",
       "  <tbody>\n",
       "    <tr>\n",
       "      <td id=\"T_bddc1_row0_col0\" class=\"data row0 col0\" >Q8</td>\n",
       "      <td id=\"T_bddc1_row0_col1\" class=\"data row0 col1\" >1</td>\n",
       "      <td id=\"T_bddc1_row0_col2\" class=\"data row0 col2\" >Binary</td>\n",
       "      <td id=\"T_bddc1_row0_col3\" class=\"data row0 col3\" >68</td>\n",
       "      <td id=\"T_bddc1_row0_col4\" class=\"data row0 col4\" >0.2685</td>\n",
       "      <td id=\"T_bddc1_row0_col5\" class=\"data row0 col5\" >0.0364</td>\n",
       "      <td id=\"T_bddc1_row0_col6\" class=\"data row0 col6\" >10.0497</td>\n",
       "      <td id=\"T_bddc1_row0_col7\" class=\"data row0 col7\" >5.6911</td>\n",
       "      <td id=\"T_bddc1_row0_col8\" class=\"data row0 col8\" >0.4365</td>\n",
       "      <td id=\"T_bddc1_row0_col9\" class=\"data row0 col9\" >0.0335</td>\n",
       "    </tr>\n",
       "    <tr>\n",
       "      <td id=\"T_bddc1_row1_col0\" class=\"data row1 col0\" >Q8</td>\n",
       "      <td id=\"T_bddc1_row1_col1\" class=\"data row1 col1\" >2</td>\n",
       "      <td id=\"T_bddc1_row1_col2\" class=\"data row1 col2\" >Binary</td>\n",
       "      <td id=\"T_bddc1_row1_col3\" class=\"data row1 col3\" >96</td>\n",
       "      <td id=\"T_bddc1_row1_col4\" class=\"data row1 col4\" >0.2462</td>\n",
       "      <td id=\"T_bddc1_row1_col5\" class=\"data row1 col5\" >0.0314</td>\n",
       "      <td id=\"T_bddc1_row1_col6\" class=\"data row1 col6\" >5.7194</td>\n",
       "      <td id=\"T_bddc1_row1_col7\" class=\"data row1 col7\" >4.6113</td>\n",
       "      <td id=\"T_bddc1_row1_col8\" class=\"data row1 col8\" >0.4353</td>\n",
       "      <td id=\"T_bddc1_row1_col9\" class=\"data row1 col9\" >0.0368</td>\n",
       "    </tr>\n",
       "    <tr>\n",
       "      <td id=\"T_bddc1_row2_col0\" class=\"data row2 col0\" >Q11</td>\n",
       "      <td id=\"T_bddc1_row2_col1\" class=\"data row2 col1\" >1</td>\n",
       "      <td id=\"T_bddc1_row2_col2\" class=\"data row2 col2\" >Binary</td>\n",
       "      <td id=\"T_bddc1_row2_col3\" class=\"data row2 col3\" >32</td>\n",
       "      <td id=\"T_bddc1_row2_col4\" class=\"data row2 col4\" >0.2203</td>\n",
       "      <td id=\"T_bddc1_row2_col5\" class=\"data row2 col5\" >0.0194</td>\n",
       "      <td id=\"T_bddc1_row2_col6\" class=\"data row2 col6\" >0.4850</td>\n",
       "      <td id=\"T_bddc1_row2_col7\" class=\"data row2 col7\" >0.3166</td>\n",
       "      <td id=\"T_bddc1_row2_col8\" class=\"data row2 col8\" >0.4357</td>\n",
       "      <td id=\"T_bddc1_row2_col9\" class=\"data row2 col9\" >0.0386</td>\n",
       "    </tr>\n",
       "    <tr>\n",
       "      <td id=\"T_bddc1_row3_col0\" class=\"data row3 col0\" >Q11</td>\n",
       "      <td id=\"T_bddc1_row3_col1\" class=\"data row3 col1\" >2</td>\n",
       "      <td id=\"T_bddc1_row3_col2\" class=\"data row3 col2\" >Binary</td>\n",
       "      <td id=\"T_bddc1_row3_col3\" class=\"data row3 col3\" >190</td>\n",
       "      <td id=\"T_bddc1_row3_col4\" class=\"data row3 col4\" >0.2216</td>\n",
       "      <td id=\"T_bddc1_row3_col5\" class=\"data row3 col5\" >0.0171</td>\n",
       "      <td id=\"T_bddc1_row3_col6\" class=\"data row3 col6\" >0.5362</td>\n",
       "      <td id=\"T_bddc1_row3_col7\" class=\"data row3 col7\" >0.3973</td>\n",
       "      <td id=\"T_bddc1_row3_col8\" class=\"data row3 col8\" >0.4378</td>\n",
       "      <td id=\"T_bddc1_row3_col9\" class=\"data row3 col9\" >0.0337</td>\n",
       "    </tr>\n",
       "    <tr>\n",
       "      <td id=\"T_bddc1_row4_col0\" class=\"data row4 col0\" >Q17</td>\n",
       "      <td id=\"T_bddc1_row4_col1\" class=\"data row4 col1\" >1</td>\n",
       "      <td id=\"T_bddc1_row4_col2\" class=\"data row4 col2\" >Binary</td>\n",
       "      <td id=\"T_bddc1_row4_col3\" class=\"data row4 col3\" >150</td>\n",
       "      <td id=\"T_bddc1_row4_col4\" class=\"data row4 col4\" >0.2193</td>\n",
       "      <td id=\"T_bddc1_row4_col5\" class=\"data row4 col5\" >0.0166</td>\n",
       "      <td id=\"T_bddc1_row4_col6\" class=\"data row4 col6\" >0.7401</td>\n",
       "      <td id=\"T_bddc1_row4_col7\" class=\"data row4 col7\" >0.4933</td>\n",
       "      <td id=\"T_bddc1_row4_col8\" class=\"data row4 col8\" >0.4312</td>\n",
       "      <td id=\"T_bddc1_row4_col9\" class=\"data row4 col9\" >0.0328</td>\n",
       "    </tr>\n",
       "    <tr>\n",
       "      <td id=\"T_bddc1_row5_col0\" class=\"data row5 col0\" >Q17</td>\n",
       "      <td id=\"T_bddc1_row5_col1\" class=\"data row5 col1\" >2</td>\n",
       "      <td id=\"T_bddc1_row5_col2\" class=\"data row5 col2\" >Binary</td>\n",
       "      <td id=\"T_bddc1_row5_col3\" class=\"data row5 col3\" >106</td>\n",
       "      <td id=\"T_bddc1_row5_col4\" class=\"data row5 col4\" >0.2202</td>\n",
       "      <td id=\"T_bddc1_row5_col5\" class=\"data row5 col5\" >0.0166</td>\n",
       "      <td id=\"T_bddc1_row5_col6\" class=\"data row5 col6\" >0.5571</td>\n",
       "      <td id=\"T_bddc1_row5_col7\" class=\"data row5 col7\" >0.3993</td>\n",
       "      <td id=\"T_bddc1_row5_col8\" class=\"data row5 col8\" >0.4348</td>\n",
       "      <td id=\"T_bddc1_row5_col9\" class=\"data row5 col9\" >0.0329</td>\n",
       "    </tr>\n",
       "    <tr>\n",
       "      <td id=\"T_bddc1_row6_col0\" class=\"data row6 col0\" >Q65</td>\n",
       "      <td id=\"T_bddc1_row6_col1\" class=\"data row6 col1\" >1</td>\n",
       "      <td id=\"T_bddc1_row6_col2\" class=\"data row6 col2\" >Ordinal</td>\n",
       "      <td id=\"T_bddc1_row6_col3\" class=\"data row6 col3\" >165</td>\n",
       "      <td id=\"T_bddc1_row6_col4\" class=\"data row6 col4\" >0.4356</td>\n",
       "      <td id=\"T_bddc1_row6_col5\" class=\"data row6 col5\" >0.0636</td>\n",
       "      <td id=\"T_bddc1_row6_col6\" class=\"data row6 col6\" >30.2899</td>\n",
       "      <td id=\"T_bddc1_row6_col7\" class=\"data row6 col7\" >18.8681</td>\n",
       "      <td id=\"T_bddc1_row6_col8\" class=\"data row6 col8\" >0.4925</td>\n",
       "      <td id=\"T_bddc1_row6_col9\" class=\"data row6 col9\" >0.0364</td>\n",
       "    </tr>\n",
       "    <tr>\n",
       "      <td id=\"T_bddc1_row7_col0\" class=\"data row7 col0\" >Q65</td>\n",
       "      <td id=\"T_bddc1_row7_col1\" class=\"data row7 col1\" >2</td>\n",
       "      <td id=\"T_bddc1_row7_col2\" class=\"data row7 col2\" >Ordinal</td>\n",
       "      <td id=\"T_bddc1_row7_col3\" class=\"data row7 col3\" >24</td>\n",
       "      <td id=\"T_bddc1_row7_col4\" class=\"data row7 col4\" >0.3958</td>\n",
       "      <td id=\"T_bddc1_row7_col5\" class=\"data row7 col5\" >0.0344</td>\n",
       "      <td id=\"T_bddc1_row7_col6\" class=\"data row7 col6\" >19.9934</td>\n",
       "      <td id=\"T_bddc1_row7_col7\" class=\"data row7 col7\" >11.8494</td>\n",
       "      <td id=\"T_bddc1_row7_col8\" class=\"data row7 col8\" >0.4797</td>\n",
       "      <td id=\"T_bddc1_row7_col9\" class=\"data row7 col9\" >0.0192</td>\n",
       "    </tr>\n",
       "    <tr>\n",
       "      <td id=\"T_bddc1_row8_col0\" class=\"data row8 col0\" >Q65</td>\n",
       "      <td id=\"T_bddc1_row8_col1\" class=\"data row8 col1\" >3</td>\n",
       "      <td id=\"T_bddc1_row8_col2\" class=\"data row8 col2\" >Ordinal</td>\n",
       "      <td id=\"T_bddc1_row8_col3\" class=\"data row8 col3\" >225</td>\n",
       "      <td id=\"T_bddc1_row8_col4\" class=\"data row8 col4\" >0.4523</td>\n",
       "      <td id=\"T_bddc1_row8_col5\" class=\"data row8 col5\" >0.0634</td>\n",
       "      <td id=\"T_bddc1_row8_col6\" class=\"data row8 col6\" >32.2655</td>\n",
       "      <td id=\"T_bddc1_row8_col7\" class=\"data row8 col7\" >14.0580</td>\n",
       "      <td id=\"T_bddc1_row8_col8\" class=\"data row8 col8\" >0.5079</td>\n",
       "      <td id=\"T_bddc1_row8_col9\" class=\"data row8 col9\" >0.0541</td>\n",
       "    </tr>\n",
       "    <tr>\n",
       "      <td id=\"T_bddc1_row9_col0\" class=\"data row9 col0\" >Q65</td>\n",
       "      <td id=\"T_bddc1_row9_col1\" class=\"data row9 col1\" >4</td>\n",
       "      <td id=\"T_bddc1_row9_col2\" class=\"data row9 col2\" >Ordinal</td>\n",
       "      <td id=\"T_bddc1_row9_col3\" class=\"data row9 col3\" >31</td>\n",
       "      <td id=\"T_bddc1_row9_col4\" class=\"data row9 col4\" >0.4266</td>\n",
       "      <td id=\"T_bddc1_row9_col5\" class=\"data row9 col5\" >0.0540</td>\n",
       "      <td id=\"T_bddc1_row9_col6\" class=\"data row9 col6\" >29.6703</td>\n",
       "      <td id=\"T_bddc1_row9_col7\" class=\"data row9 col7\" >15.7971</td>\n",
       "      <td id=\"T_bddc1_row9_col8\" class=\"data row9 col8\" >0.4822</td>\n",
       "      <td id=\"T_bddc1_row9_col9\" class=\"data row9 col9\" >0.0323</td>\n",
       "    </tr>\n",
       "    <tr>\n",
       "      <td id=\"T_bddc1_row10_col0\" class=\"data row10 col0\" >Q69</td>\n",
       "      <td id=\"T_bddc1_row10_col1\" class=\"data row10 col1\" >1</td>\n",
       "      <td id=\"T_bddc1_row10_col2\" class=\"data row10 col2\" >Ordinal</td>\n",
       "      <td id=\"T_bddc1_row10_col3\" class=\"data row10 col3\" >76</td>\n",
       "      <td id=\"T_bddc1_row10_col4\" class=\"data row10 col4\" >0.3860</td>\n",
       "      <td id=\"T_bddc1_row10_col5\" class=\"data row10 col5\" >0.0427</td>\n",
       "      <td id=\"T_bddc1_row10_col6\" class=\"data row10 col6\" >12.9257</td>\n",
       "      <td id=\"T_bddc1_row10_col7\" class=\"data row10 col7\" >9.9519</td>\n",
       "      <td id=\"T_bddc1_row10_col8\" class=\"data row10 col8\" >0.4960</td>\n",
       "      <td id=\"T_bddc1_row10_col9\" class=\"data row10 col9\" >0.0347</td>\n",
       "    </tr>\n",
       "    <tr>\n",
       "      <td id=\"T_bddc1_row11_col0\" class=\"data row11 col0\" >Q69</td>\n",
       "      <td id=\"T_bddc1_row11_col1\" class=\"data row11 col1\" >2</td>\n",
       "      <td id=\"T_bddc1_row11_col2\" class=\"data row11 col2\" >Ordinal</td>\n",
       "      <td id=\"T_bddc1_row11_col3\" class=\"data row11 col3\" >111</td>\n",
       "      <td id=\"T_bddc1_row11_col4\" class=\"data row11 col4\" >0.3687</td>\n",
       "      <td id=\"T_bddc1_row11_col5\" class=\"data row11 col5\" >0.0276</td>\n",
       "      <td id=\"T_bddc1_row11_col6\" class=\"data row11 col6\" >9.8910</td>\n",
       "      <td id=\"T_bddc1_row11_col7\" class=\"data row11 col7\" >5.6867</td>\n",
       "      <td id=\"T_bddc1_row11_col8\" class=\"data row11 col8\" >0.4843</td>\n",
       "      <td id=\"T_bddc1_row11_col9\" class=\"data row11 col9\" >0.0315</td>\n",
       "    </tr>\n",
       "    <tr>\n",
       "      <td id=\"T_bddc1_row12_col0\" class=\"data row12 col0\" >Q69</td>\n",
       "      <td id=\"T_bddc1_row12_col1\" class=\"data row12 col1\" >3</td>\n",
       "      <td id=\"T_bddc1_row12_col2\" class=\"data row12 col2\" >Ordinal</td>\n",
       "      <td id=\"T_bddc1_row12_col3\" class=\"data row12 col3\" >65</td>\n",
       "      <td id=\"T_bddc1_row12_col4\" class=\"data row12 col4\" >0.3627</td>\n",
       "      <td id=\"T_bddc1_row12_col5\" class=\"data row12 col5\" >0.0309</td>\n",
       "      <td id=\"T_bddc1_row12_col6\" class=\"data row12 col6\" >6.3149</td>\n",
       "      <td id=\"T_bddc1_row12_col7\" class=\"data row12 col7\" >3.7707</td>\n",
       "      <td id=\"T_bddc1_row12_col8\" class=\"data row12 col8\" >0.4911</td>\n",
       "      <td id=\"T_bddc1_row12_col9\" class=\"data row12 col9\" >0.0419</td>\n",
       "    </tr>\n",
       "    <tr>\n",
       "      <td id=\"T_bddc1_row13_col0\" class=\"data row13 col0\" >Q69</td>\n",
       "      <td id=\"T_bddc1_row13_col1\" class=\"data row13 col1\" >4</td>\n",
       "      <td id=\"T_bddc1_row13_col2\" class=\"data row13 col2\" >Ordinal</td>\n",
       "      <td id=\"T_bddc1_row13_col3\" class=\"data row13 col3\" >534</td>\n",
       "      <td id=\"T_bddc1_row13_col4\" class=\"data row13 col4\" >0.4099</td>\n",
       "      <td id=\"T_bddc1_row13_col5\" class=\"data row13 col5\" >0.0485</td>\n",
       "      <td id=\"T_bddc1_row13_col6\" class=\"data row13 col6\" >21.3025</td>\n",
       "      <td id=\"T_bddc1_row13_col7\" class=\"data row13 col7\" >12.5473</td>\n",
       "      <td id=\"T_bddc1_row13_col8\" class=\"data row13 col8\" >0.4942</td>\n",
       "      <td id=\"T_bddc1_row13_col9\" class=\"data row13 col9\" >0.0327</td>\n",
       "    </tr>\n",
       "    <tr>\n",
       "      <td id=\"T_bddc1_row14_col0\" class=\"data row14 col0\" >Q70</td>\n",
       "      <td id=\"T_bddc1_row14_col1\" class=\"data row14 col1\" >1</td>\n",
       "      <td id=\"T_bddc1_row14_col2\" class=\"data row14 col2\" >Ordinal</td>\n",
       "      <td id=\"T_bddc1_row14_col3\" class=\"data row14 col3\" >220</td>\n",
       "      <td id=\"T_bddc1_row14_col4\" class=\"data row14 col4\" >0.3652</td>\n",
       "      <td id=\"T_bddc1_row14_col5\" class=\"data row14 col5\" >0.0327</td>\n",
       "      <td id=\"T_bddc1_row14_col6\" class=\"data row14 col6\" >5.2853</td>\n",
       "      <td id=\"T_bddc1_row14_col7\" class=\"data row14 col7\" >2.2953</td>\n",
       "      <td id=\"T_bddc1_row14_col8\" class=\"data row14 col8\" >0.4991</td>\n",
       "      <td id=\"T_bddc1_row14_col9\" class=\"data row14 col9\" >0.0447</td>\n",
       "    </tr>\n",
       "    <tr>\n",
       "      <td id=\"T_bddc1_row15_col0\" class=\"data row15 col0\" >Q70</td>\n",
       "      <td id=\"T_bddc1_row15_col1\" class=\"data row15 col1\" >2</td>\n",
       "      <td id=\"T_bddc1_row15_col2\" class=\"data row15 col2\" >Ordinal</td>\n",
       "      <td id=\"T_bddc1_row15_col3\" class=\"data row15 col3\" >851</td>\n",
       "      <td id=\"T_bddc1_row15_col4\" class=\"data row15 col4\" >0.3682</td>\n",
       "      <td id=\"T_bddc1_row15_col5\" class=\"data row15 col5\" >0.0304</td>\n",
       "      <td id=\"T_bddc1_row15_col6\" class=\"data row15 col6\" >6.9863</td>\n",
       "      <td id=\"T_bddc1_row15_col7\" class=\"data row15 col7\" >3.1820</td>\n",
       "      <td id=\"T_bddc1_row15_col8\" class=\"data row15 col8\" >0.4960</td>\n",
       "      <td id=\"T_bddc1_row15_col9\" class=\"data row15 col9\" >0.0387</td>\n",
       "    </tr>\n",
       "    <tr>\n",
       "      <td id=\"T_bddc1_row16_col0\" class=\"data row16 col0\" >Q70</td>\n",
       "      <td id=\"T_bddc1_row16_col1\" class=\"data row16 col1\" >3</td>\n",
       "      <td id=\"T_bddc1_row16_col2\" class=\"data row16 col2\" >Ordinal</td>\n",
       "      <td id=\"T_bddc1_row16_col3\" class=\"data row16 col3\" >159</td>\n",
       "      <td id=\"T_bddc1_row16_col4\" class=\"data row16 col4\" >0.3625</td>\n",
       "      <td id=\"T_bddc1_row16_col5\" class=\"data row16 col5\" >0.0273</td>\n",
       "      <td id=\"T_bddc1_row16_col6\" class=\"data row16 col6\" >6.4251</td>\n",
       "      <td id=\"T_bddc1_row16_col7\" class=\"data row16 col7\" >2.6917</td>\n",
       "      <td id=\"T_bddc1_row16_col8\" class=\"data row16 col8\" >0.4903</td>\n",
       "      <td id=\"T_bddc1_row16_col9\" class=\"data row16 col9\" >0.0377</td>\n",
       "    </tr>\n",
       "    <tr>\n",
       "      <td id=\"T_bddc1_row17_col0\" class=\"data row17 col0\" >Q70</td>\n",
       "      <td id=\"T_bddc1_row17_col1\" class=\"data row17 col1\" >4</td>\n",
       "      <td id=\"T_bddc1_row17_col2\" class=\"data row17 col2\" >Ordinal</td>\n",
       "      <td id=\"T_bddc1_row17_col3\" class=\"data row17 col3\" >72</td>\n",
       "      <td id=\"T_bddc1_row17_col4\" class=\"data row17 col4\" >0.3606</td>\n",
       "      <td id=\"T_bddc1_row17_col5\" class=\"data row17 col5\" >0.0311</td>\n",
       "      <td id=\"T_bddc1_row17_col6\" class=\"data row17 col6\" >4.3877</td>\n",
       "      <td id=\"T_bddc1_row17_col7\" class=\"data row17 col7\" >1.7784</td>\n",
       "      <td id=\"T_bddc1_row17_col8\" class=\"data row17 col8\" >0.4963</td>\n",
       "      <td id=\"T_bddc1_row17_col9\" class=\"data row17 col9\" >0.0450</td>\n",
       "    </tr>\n",
       "    <tr>\n",
       "      <td id=\"T_bddc1_row18_col0\" class=\"data row18 col0\" >Q152, Q153</td>\n",
       "      <td id=\"T_bddc1_row18_col1\" class=\"data row18 col1\" >1</td>\n",
       "      <td id=\"T_bddc1_row18_col2\" class=\"data row18 col2\" >Categorical</td>\n",
       "      <td id=\"T_bddc1_row18_col3\" class=\"data row18 col3\" >518</td>\n",
       "      <td id=\"T_bddc1_row18_col4\" class=\"data row18 col4\" >0.5747</td>\n",
       "      <td id=\"T_bddc1_row18_col5\" class=\"data row18 col5\" >0.0744</td>\n",
       "      <td id=\"T_bddc1_row18_col6\" class=\"data row18 col6\" >74.6431</td>\n",
       "      <td id=\"T_bddc1_row18_col7\" class=\"data row18 col7\" >21.6180</td>\n",
       "      <td id=\"T_bddc1_row18_col8\" class=\"data row18 col8\" >0.5011</td>\n",
       "      <td id=\"T_bddc1_row18_col9\" class=\"data row18 col9\" >0.0422</td>\n",
       "    </tr>\n",
       "    <tr>\n",
       "      <td id=\"T_bddc1_row19_col0\" class=\"data row19 col0\" >Q152, Q153</td>\n",
       "      <td id=\"T_bddc1_row19_col1\" class=\"data row19 col1\" >2</td>\n",
       "      <td id=\"T_bddc1_row19_col2\" class=\"data row19 col2\" >Categorical</td>\n",
       "      <td id=\"T_bddc1_row19_col3\" class=\"data row19 col3\" >863</td>\n",
       "      <td id=\"T_bddc1_row19_col4\" class=\"data row19 col4\" >0.5295</td>\n",
       "      <td id=\"T_bddc1_row19_col5\" class=\"data row19 col5\" >0.0942</td>\n",
       "      <td id=\"T_bddc1_row19_col6\" class=\"data row19 col6\" >60.1210</td>\n",
       "      <td id=\"T_bddc1_row19_col7\" class=\"data row19 col7\" >28.1829</td>\n",
       "      <td id=\"T_bddc1_row19_col8\" class=\"data row19 col8\" >0.4988</td>\n",
       "      <td id=\"T_bddc1_row19_col9\" class=\"data row19 col9\" >0.0403</td>\n",
       "    </tr>\n",
       "    <tr>\n",
       "      <td id=\"T_bddc1_row20_col0\" class=\"data row20 col0\" >Q152, Q153</td>\n",
       "      <td id=\"T_bddc1_row20_col1\" class=\"data row20 col1\" >3</td>\n",
       "      <td id=\"T_bddc1_row20_col2\" class=\"data row20 col2\" >Categorical</td>\n",
       "      <td id=\"T_bddc1_row20_col3\" class=\"data row20 col3\" >435</td>\n",
       "      <td id=\"T_bddc1_row20_col4\" class=\"data row20 col4\" >0.4985</td>\n",
       "      <td id=\"T_bddc1_row20_col5\" class=\"data row20 col5\" >0.0746</td>\n",
       "      <td id=\"T_bddc1_row20_col6\" class=\"data row20 col6\" >51.5010</td>\n",
       "      <td id=\"T_bddc1_row20_col7\" class=\"data row20 col7\" >23.1931</td>\n",
       "      <td id=\"T_bddc1_row20_col8\" class=\"data row20 col8\" >0.4914</td>\n",
       "      <td id=\"T_bddc1_row20_col9\" class=\"data row20 col9\" >0.0362</td>\n",
       "    </tr>\n",
       "    <tr>\n",
       "      <td id=\"T_bddc1_row21_col0\" class=\"data row21 col0\" >Q152, Q153</td>\n",
       "      <td id=\"T_bddc1_row21_col1\" class=\"data row21 col1\" >4</td>\n",
       "      <td id=\"T_bddc1_row21_col2\" class=\"data row21 col2\" >Categorical</td>\n",
       "      <td id=\"T_bddc1_row21_col3\" class=\"data row21 col3\" >282</td>\n",
       "      <td id=\"T_bddc1_row21_col4\" class=\"data row21 col4\" >0.6261</td>\n",
       "      <td id=\"T_bddc1_row21_col5\" class=\"data row21 col5\" >0.0558</td>\n",
       "      <td id=\"T_bddc1_row21_col6\" class=\"data row21 col6\" >90.0681</td>\n",
       "      <td id=\"T_bddc1_row21_col7\" class=\"data row21 col7\" >12.9388</td>\n",
       "      <td id=\"T_bddc1_row21_col8\" class=\"data row21 col8\" >0.5084</td>\n",
       "      <td id=\"T_bddc1_row21_col9\" class=\"data row21 col9\" >0.0517</td>\n",
       "    </tr>\n",
       "    <tr>\n",
       "      <td id=\"T_bddc1_row22_col0\" class=\"data row22 col0\" >Q154, Q155</td>\n",
       "      <td id=\"T_bddc1_row22_col1\" class=\"data row22 col1\" >1</td>\n",
       "      <td id=\"T_bddc1_row22_col2\" class=\"data row22 col2\" >Categorical</td>\n",
       "      <td id=\"T_bddc1_row22_col3\" class=\"data row22 col3\" >1256</td>\n",
       "      <td id=\"T_bddc1_row22_col4\" class=\"data row22 col4\" >0.5290</td>\n",
       "      <td id=\"T_bddc1_row22_col5\" class=\"data row22 col5\" >0.0889</td>\n",
       "      <td id=\"T_bddc1_row22_col6\" class=\"data row22 col6\" >58.7785</td>\n",
       "      <td id=\"T_bddc1_row22_col7\" class=\"data row22 col7\" >26.0530</td>\n",
       "      <td id=\"T_bddc1_row22_col8\" class=\"data row22 col8\" >0.5038</td>\n",
       "      <td id=\"T_bddc1_row22_col9\" class=\"data row22 col9\" >0.0413</td>\n",
       "    </tr>\n",
       "    <tr>\n",
       "      <td id=\"T_bddc1_row23_col0\" class=\"data row23 col0\" >Q154, Q155</td>\n",
       "      <td id=\"T_bddc1_row23_col1\" class=\"data row23 col1\" >2</td>\n",
       "      <td id=\"T_bddc1_row23_col2\" class=\"data row23 col2\" >Categorical</td>\n",
       "      <td id=\"T_bddc1_row23_col3\" class=\"data row23 col3\" >880</td>\n",
       "      <td id=\"T_bddc1_row23_col4\" class=\"data row23 col4\" >0.4948</td>\n",
       "      <td id=\"T_bddc1_row23_col5\" class=\"data row23 col5\" >0.0811</td>\n",
       "      <td id=\"T_bddc1_row23_col6\" class=\"data row23 col6\" >47.8361</td>\n",
       "      <td id=\"T_bddc1_row23_col7\" class=\"data row23 col7\" >25.3089</td>\n",
       "      <td id=\"T_bddc1_row23_col8\" class=\"data row23 col8\" >0.5018</td>\n",
       "      <td id=\"T_bddc1_row23_col9\" class=\"data row23 col9\" >0.0456</td>\n",
       "    </tr>\n",
       "    <tr>\n",
       "      <td id=\"T_bddc1_row24_col0\" class=\"data row24 col0\" >Q154, Q155</td>\n",
       "      <td id=\"T_bddc1_row24_col1\" class=\"data row24 col1\" >3</td>\n",
       "      <td id=\"T_bddc1_row24_col2\" class=\"data row24 col2\" >Categorical</td>\n",
       "      <td id=\"T_bddc1_row24_col3\" class=\"data row24 col3\" >188</td>\n",
       "      <td id=\"T_bddc1_row24_col4\" class=\"data row24 col4\" >0.4811</td>\n",
       "      <td id=\"T_bddc1_row24_col5\" class=\"data row24 col5\" >0.0713</td>\n",
       "      <td id=\"T_bddc1_row24_col6\" class=\"data row24 col6\" >47.8797</td>\n",
       "      <td id=\"T_bddc1_row24_col7\" class=\"data row24 col7\" >21.5675</td>\n",
       "      <td id=\"T_bddc1_row24_col8\" class=\"data row24 col8\" >0.4821</td>\n",
       "      <td id=\"T_bddc1_row24_col9\" class=\"data row24 col9\" >0.0321</td>\n",
       "    </tr>\n",
       "    <tr>\n",
       "      <td id=\"T_bddc1_row25_col0\" class=\"data row25 col0\" >Q154, Q155</td>\n",
       "      <td id=\"T_bddc1_row25_col1\" class=\"data row25 col1\" >4</td>\n",
       "      <td id=\"T_bddc1_row25_col2\" class=\"data row25 col2\" >Categorical</td>\n",
       "      <td id=\"T_bddc1_row25_col3\" class=\"data row25 col3\" >421</td>\n",
       "      <td id=\"T_bddc1_row25_col4\" class=\"data row25 col4\" >0.4762</td>\n",
       "      <td id=\"T_bddc1_row25_col5\" class=\"data row25 col5\" >0.0838</td>\n",
       "      <td id=\"T_bddc1_row25_col6\" class=\"data row25 col6\" >43.0342</td>\n",
       "      <td id=\"T_bddc1_row25_col7\" class=\"data row25 col7\" >25.5511</td>\n",
       "      <td id=\"T_bddc1_row25_col8\" class=\"data row25 col8\" >0.4958</td>\n",
       "      <td id=\"T_bddc1_row25_col9\" class=\"data row25 col9\" >0.0406</td>\n",
       "    </tr>\n",
       "  </tbody>\n",
       "</table>\n"
      ],
      "text/plain": [
       "<IPython.core.display.HTML object>"
      ]
     },
     "metadata": {},
     "output_type": "display_data"
    },
    {
     "name": "stdout",
     "output_type": "stream",
     "text": [
      "LaTeX table saved as pred_scores_summary_table.tex\n"
     ]
    }
   ],
   "source": [
    "import pandas as pd\n",
    "import numpy as np\n",
    "from IPython.display import display, HTML\n",
    "\n",
    "file_paths = {\n",
    "    'q8': '../q8_pipeline/predictions/q8_predictions_filtered.csv',\n",
    "    'q11': '../q11_pipeline/predictions/q11_predictions_filtered.csv',\n",
    "    'q17': '../q17_pipeline/predictions/q17_predictions_filtered.csv',\n",
    "    'q152': '../q152_q153_pipeline/predictions/q152_predictions_filtered.csv',\n",
    "    'q154': '../q154_q155_pipeline/predictions/q154_predictions_filtered.csv',\n",
    "    'q65': '../q65_pipeline/predictions/q65_predictions_filtered.csv',\n",
    "    'q69': '../q69_pipeline/predictions/q69_predictions_filtered.csv',\n",
    "    'q70': '../q70_pipeline/predictions/q70_predictions_filtered.csv',\n",
    "}\n",
    "\n",
    "confidence_cols_map = {\n",
    "    'q8': 'perc_diff_chance_abs',\n",
    "    'q11': 'perc_diff_chance_abs',\n",
    "    'q17': 'perc_diff_chance_abs',\n",
    "}\n",
    "\n",
    "response_type_map = {\n",
    "    'Q8': 'Binary',\n",
    "    'Q11': 'Binary',\n",
    "    'Q17': 'Binary',\n",
    "    'Q152': 'Categorical',\n",
    "    'Q153': 'Categorical',\n",
    "    'Q154': 'Categorical',\n",
    "    'Q155': 'Categorical',\n",
    "    'Q65': 'Ordinal',\n",
    "    'Q69': 'Ordinal',\n",
    "    'Q70': 'Ordinal',\n",
    "}\n",
    "\n",
    "combined_samples = []\n",
    "\n",
    "for ds_name, path in file_paths.items():\n",
    "    df = pd.read_csv(path)\n",
    "\n",
    "    confidence_col = confidence_cols_map.get(ds_name, 'perc_above_chance')\n",
    "\n",
    "    df_filtered = df.copy()\n",
    "\n",
    "    if 'predicted_combined_label' in df_filtered.columns:\n",
    "        label_col = 'predicted_combined_label'\n",
    "    elif 'combined_label' in df_filtered.columns:\n",
    "        label_col = 'combined_label'\n",
    "    else:\n",
    "        raise ValueError(f\"No label column found in dataset {ds_name}\")\n",
    "\n",
    "    samples_per_label = []\n",
    "    for label, group in df_filtered.groupby(label_col):\n",
    "        group = group.assign(dataset=ds_name, label=label)\n",
    "        samples_per_label.append(group)\n",
    "\n",
    "    if samples_per_label:\n",
    "        ds_samples = pd.concat(samples_per_label)\n",
    "        combined_samples.append(ds_samples)\n",
    "\n",
    "final_samples_df = pd.concat(combined_samples).reset_index(drop=True)\n",
    "\n",
    "final_samples_df['dataset'] = final_samples_df['dataset'].str.upper()\n",
    "\n",
    "summary_rows = []\n",
    "for (dataset, label), group in final_samples_df.groupby(['dataset', 'label']):\n",
    "    conf_col = confidence_cols_map.get(dataset.lower(), 'perc_above_chance')\n",
    "\n",
    "    n_sentences = len(group)\n",
    "    joint_mean = group['joint_score'].mean()\n",
    "    joint_std = group['joint_score'].std()\n",
    "    conf_mean = group[conf_col].mean()\n",
    "    conf_std = group[conf_col].std()\n",
    "    sim_mean = group['semantic_keyphrase_similarity'].mean()\n",
    "    sim_std = group['semantic_keyphrase_similarity'].std()\n",
    "\n",
    "    # Extract numeric label part\n",
    "    if isinstance(label, str) and '_' in label:\n",
    "        numeric_label = label.split('_')[1]\n",
    "        try:\n",
    "            numeric_label = int(numeric_label)\n",
    "        except ValueError:\n",
    "            numeric_label = label\n",
    "    else:\n",
    "        numeric_label = label\n",
    "\n",
    "    prefix = dataset.split('_')[0] if '_' in dataset else dataset\n",
    "    response_type = response_type_map.get(prefix, 'Unknown')\n",
    "\n",
    "    summary_rows.append({\n",
    "        'Question': dataset,\n",
    "        'Response': numeric_label,\n",
    "        'Response Type': response_type,\n",
    "        'Count': n_sentences,\n",
    "        'Mean Joint Score': joint_mean,\n",
    "        'Std Joint Score': joint_std if not np.isnan(joint_std) else 0.0,\n",
    "        'Mean Confidence': conf_mean,\n",
    "        'Std Confidence': conf_std if not np.isnan(conf_std) else 0.0,\n",
    "        'Mean Cosine Similarity': sim_mean,\n",
    "        'Std Cosine Similarity': sim_std if not np.isnan(sim_std) else 0.0,\n",
    "    })\n",
    "\n",
    "summary_df = pd.DataFrame(summary_rows)\n",
    "\n",
    "# Replace 'Q152' with 'Q152, Q153' and 'Q154' with 'Q154, Q155' for display and export\n",
    "def fix_question_name(q):\n",
    "    if q == 'Q152':\n",
    "        return 'Q152, Q153'\n",
    "    elif q == 'Q154':\n",
    "        return 'Q154, Q155'\n",
    "    else:\n",
    "        return q\n",
    "\n",
    "summary_df['Question'] = summary_df['Question'].apply(fix_question_name)\n",
    "\n",
    "# Sort numerically by question number then label\n",
    "summary_df['Q_num'] = summary_df['Question'].str.extract(r'Q(\\d+)', expand=False).astype(int)\n",
    "summary_df = summary_df.sort_values(by=['Q_num', 'Response']).reset_index(drop=True)\n",
    "summary_df = summary_df.drop(columns=['Q_num'])\n",
    "\n",
    "# CSS for centering table headers and cells\n",
    "css = \"\"\"\n",
    "<style>\n",
    "    table.dataframe th, table.dataframe td {\n",
    "        text-align: center !important;\n",
    "    }\n",
    "</style>\n",
    "\"\"\"\n",
    "\n",
    "# Format floats to 4 decimals and hide index for HTML display\n",
    "html = summary_df.style.format({\n",
    "    'Mean Joint Score': '{:.4f}',\n",
    "    'Std Joint Score': '{:.4f}',\n",
    "    'Mean Confidence': '{:.4f}',\n",
    "    'Std Confidence': '{:.4f}',\n",
    "    'Mean Cosine Similarity': '{:.4f}',\n",
    "    'Std Cosine Similarity': '{:.4f}',\n",
    "}).hide(axis='index').to_html()\n",
    "\n",
    "display(HTML(css + html))\n",
    "\n",
    "# Save as LaTeX with 4 decimals and without index column\n",
    "summary_df.to_latex(\n",
    "    'pred_scores_summary_table.tex',\n",
    "    index=False,  # hides index column in LaTeX output\n",
    "    longtable=True,\n",
    "    caption=\"Summary Statistics for Prediction Scores by Question and Response\",\n",
    "    label=\"tab:pred_scores_summary_table\",\n",
    "    float_format=\"%.4f\",\n",
    "    column_format=\"lllrccccc\",\n",
    "    escape=True,\n",
    ")\n",
    "\n",
    "print(\"LaTeX table saved as pred_scores_summary_table.tex\")\n"
   ]
  },
  {
   "cell_type": "code",
   "execution_count": 67,
   "id": "45c6b0e4",
   "metadata": {},
   "outputs": [
    {
     "name": "stdout",
     "output_type": "stream",
     "text": [
      "q8: val=0.7916666666666667, perm_orig=0.4728026973026973, perm_aug=0.49675097125097123\n",
      "q11: val=0.8444444444444444, perm_orig=0.4634343224714742, perm_aug=0.46460339424077807\n",
      "q17: val=0.8194444444444444, perm_orig=0.4668686360509116, perm_aug=0.38634461152882194\n",
      "q65: val=0.6424242424242425, perm_orig=0.24975505164040834, perm_aug=0.2548266305929689\n",
      "q69: val=0.5482456140350876, perm_orig=0.22805005484281798, perm_aug=0.2332422451201476\n",
      "q70: val=0.5678571428571428, perm_orig=0.2287195869977452, perm_aug=0.22567666296981317\n",
      "q152: val=0.9032037815126049, perm_orig=0.2785527693392802, perm_aug=0.22150501844905274\n",
      "q154: val=0.8819189335813377, perm_orig=0.23814055637456666, perm_aug=0.2567280126369301\n"
     ]
    },
    {
     "name": "stderr",
     "output_type": "stream",
     "text": [
      "C:\\Users\\secki\\AppData\\Local\\Temp\\ipykernel_26156\\1323220983.py:121: UserWarning: set_ticklabels() should only be used with a fixed number of ticks, i.e. after set_ticks() or using a FixedLocator.\n",
      "  ax.set_yticklabels(\n"
     ]
    },
    {
     "data": {
      "image/png": "[encoded data removed]",
      "text/plain": [
       "<Figure size 2000x600 with 1 Axes>"
      ]
     },
     "metadata": {},
     "output_type": "display_data"
    }
   ],
   "source": [
    "import matplotlib.pyplot as plt\n",
    "import numpy as np\n",
    "from matplotlib.patches import Patch\n",
    "import json\n",
    "\n",
    "reports = {\n",
    "    'q8': {\n",
    "        'val_classification_report': '../q8_pipeline/logs_and_metrics/val_classification_report.json',\n",
    "        'permutation_test_report_original': '../q8_pipeline/logs_and_metrics/permutation_test_report_original.json',\n",
    "        'permutation_test_report_augmented': '../q8_pipeline/logs_and_metrics/permutation_test_report_augmented.json',\n",
    "    },\n",
    "    'q11': {\n",
    "        'val_classification_report': '../q11_pipeline/logs_and_metrics/val_classification_report.json',\n",
    "        'permutation_test_report_original': '../q11_pipeline/logs_and_metrics/permutation_test_report_original.json',\n",
    "        'permutation_test_report_augmented': '../q11_pipeline/logs_and_metrics/permutation_test_report_augmented.json',\n",
    "    },\n",
    "    'q17': {\n",
    "        'val_classification_report': '../q17_pipeline/logs_and_metrics/val_classification_report.json',\n",
    "        'permutation_test_report_original': '../q17_pipeline/logs_and_metrics/permutation_test_report_original.json',\n",
    "        'permutation_test_report_augmented': '../q17_pipeline/logs_and_metrics/permutation_test_report_augmented.json',\n",
    "    },\n",
    "    'q65': {\n",
    "        'val_classification_report': '../q65_pipeline/logs_and_metrics/val_classification_report.json',\n",
    "        'permutation_test_report_original': '../q65_pipeline/logs_and_metrics/permutation_test_report_original.json',\n",
    "        'permutation_test_report_augmented': '../q65_pipeline/logs_and_metrics/permutation_test_report_augmented.json',\n",
    "    },\n",
    "    'q69': {\n",
    "        'val_classification_report': '../q69_pipeline/logs_and_metrics/val_classification_report.json',\n",
    "        'permutation_test_report_original': '../q69_pipeline/logs_and_metrics/permutation_test_report_original.json',\n",
    "        'permutation_test_report_augmented': '../q69_pipeline/logs_and_metrics/permutation_test_report_augmented.json',\n",
    "    },\n",
    "    'q70': {\n",
    "        'val_classification_report': '../q70_pipeline/logs_and_metrics/val_classification_report.json',\n",
    "        'permutation_test_report_original': '../q70_pipeline/logs_and_metrics/permutation_test_report_original.json',\n",
    "        'permutation_test_report_augmented': '../q70_pipeline/logs_and_metrics/permutation_test_report_augmented.json',\n",
    "    },\n",
    "    'q152': {\n",
    "        'val_classification_report': '../q152_q153_pipeline/logs_and_metrics/val_classification_report.json',\n",
    "        'permutation_test_report_original': '../q152_q153_pipeline/logs_and_metrics/permutation_test_report_original.json',\n",
    "        'permutation_test_report_augmented': '../q152_q153_pipeline/logs_and_metrics/permutation_test_report_augmented.json',\n",
    "    },\n",
    "    'q154': {\n",
    "        'val_classification_report': '../q154_q155_pipeline/logs_and_metrics/val_classification_report.json',\n",
    "        'permutation_test_report_original': '../q154_q155_pipeline/logs_and_metrics/permutation_test_report_original.json',\n",
    "        'permutation_test_report_augmented': '../q154_q155_pipeline/logs_and_metrics/permutation_test_report_augmented.json',\n",
    "    },\n",
    "}\n",
    "\n",
    "def load_macro_f1(path):\n",
    "    try:\n",
    "        with open(path, 'r') as f:\n",
    "            data = json.load(f)\n",
    "        if \"final_macro_f1\" in data:\n",
    "            return data[\"final_macro_f1\"]\n",
    "        if \"average_macro_f1\" in data:\n",
    "            return data[\"average_macro_f1\"]\n",
    "        print(f\"Warning: No macro F1 key found in {path}\")\n",
    "        return None\n",
    "    except Exception as e:\n",
    "        print(f\"Error reading {path}: {e}\")\n",
    "        return None\n",
    "\n",
    "def plot_macro_f1(question_keys, paths_dict):\n",
    "    labels = ['Validation', 'Permutation Original', 'Permutation Augmented']\n",
    "    colors = ['steelblue', 'orange', 'green']\n",
    "    width = 0.25\n",
    "    spacing = 1.0\n",
    "    \n",
    "    academic_font = {'fontname': 'Times New Roman', 'fontweight': 'semibold'}\n",
    "    \n",
    "    label_box = dict(boxstyle=\"square,pad=0.3\",\n",
    "                     facecolor=\"none\",\n",
    "                     edgecolor=\"black\",\n",
    "                     linewidth=1)\n",
    "\n",
    "    fig, ax = plt.subplots(figsize=(len(question_keys) * 2.5, 6))\n",
    "\n",
    "    for i, q_key in enumerate(question_keys):\n",
    "        macro_val = load_macro_f1(paths_dict[q_key]['val_classification_report'])\n",
    "        macro_perm_orig = load_macro_f1(paths_dict[q_key]['permutation_test_report_original'])\n",
    "        macro_perm_aug = load_macro_f1(paths_dict[q_key]['permutation_test_report_augmented'])\n",
    "\n",
    "        print(f\"{q_key}: val={macro_val}, perm_orig={macro_perm_orig}, perm_aug={macro_perm_aug}\")\n",
    "\n",
    "        scores = [macro_val, macro_perm_orig, macro_perm_aug]\n",
    "        base_x = i * spacing\n",
    "        x_positions = [base_x - width, base_x, base_x + width]\n",
    "\n",
    "        bars = ax.bar(x_positions, scores, width=width, color=colors, label='_nolegend_')\n",
    "\n",
    "        for bar in bars:\n",
    "            height = bar.get_height()\n",
    "            ax.annotate(f'{height:.3f}',\n",
    "                        xy=(bar.get_x() + bar.get_width() / 2, height),\n",
    "                        xytext=(0, 5), textcoords=\"offset points\",\n",
    "                        ha='center', va='bottom', fontsize=14,\n",
    "                        **academic_font)\n",
    "\n",
    "        if q_key == 'q152':\n",
    "            display_label = 'Q152, Q153'\n",
    "        elif q_key == 'q154':\n",
    "            display_label = 'Q154, Q155'\n",
    "        else:\n",
    "            display_label = q_key.upper()\n",
    "\n",
    "        ax.text(\n",
    "            base_x, \n",
    "            -0.08, \n",
    "            display_label, \n",
    "            ha='center', \n",
    "            va='top', \n",
    "            fontsize=13,\n",
    "            bbox=label_box,\n",
    "            **academic_font,\n",
    "            transform=ax.get_xaxis_transform()\n",
    "        )\n",
    "\n",
    "    ax.set_ylim(0, 1)\n",
    "    #ax.set_title('Macro F1 Scores Across Questions', fontsize=16, **academic_font)\n",
    "\n",
    "    ax.set_yticklabels(\n",
    "        [f\"{x:.1f}\" for x in np.linspace(0, 1, 6)],\n",
    "        fontsize=12,\n",
    "        color='#444444',\n",
    "        fontname='Times New Roman',\n",
    "        fontweight='semibold'\n",
    "    )\n",
    "\n",
    "    ax.set_xticks([])\n",
    "\n",
    "    legend_handles = [Patch(color=colors[i], label=labels[i], \n",
    "                            linewidth=0) for i in range(len(labels))]\n",
    "    legend = ax.legend(handles=legend_handles,\n",
    "            loc='upper center',\n",
    "            bbox_to_anchor=(0.5, -0.15),\n",
    "            fontsize=12,\n",
    "            frameon=False,\n",
    "            handlelength=1.5,\n",
    "            handleheight=1.5,\n",
    "            ncol=len(labels),\n",
    "            columnspacing=1.5)\n",
    "\n",
    "    for text in legend.get_texts():\n",
    "        text.set_fontname('Times New Roman')\n",
    "        text.set_fontweight('semibold')\n",
    "\n",
    "    plt.tight_layout()\n",
    "    plt.subplots_adjust(bottom=0.3)\n",
    "    plt.show()\n",
    "    return fig\n",
    "\n",
    "# Example usage:\n",
    "question_list = ['q8', 'q11', 'q17', 'q65', 'q69', 'q70', 'q152', 'q154']\n",
    "fig = plot_macro_f1(question_list, reports)  # assign returned fig\n",
    "fig.savefig(\"macro_f1_scores_per_question.png\", dpi=300, bbox_inches='tight')\n",
    "\n"
   ]
  },
  {
   "cell_type": "code",
   "execution_count": 68,
   "id": "177cf38d",
   "metadata": {},
   "outputs": [
    {
     "data": {
      "image/png": "[encoded data removed]",
      "text/plain": [
       "<Figure size 1000x2000 with 8 Axes>"
      ]
     },
     "metadata": {},
     "output_type": "display_data"
    }
   ],
   "source": [
    "import matplotlib.pyplot as plt\n",
    "import numpy as np\n",
    "from matplotlib.patches import Patch\n",
    "import json\n",
    "import seaborn as sns\n",
    "\n",
    "sns.set_style('whitegrid')\n",
    "\n",
    "reports = {\n",
    "    'q8': {\n",
    "        'val_classification_report': '../q8_pipeline/logs_and_metrics/val_classification_report.json',\n",
    "        'permutation_test_report_original': '../q8_pipeline/logs_and_metrics/permutation_test_report_original.json',\n",
    "        'permutation_test_report_augmented': '../q8_pipeline/logs_and_metrics/permutation_test_report_augmented.json',\n",
    "    },\n",
    "    'q11': {\n",
    "        'val_classification_report': '../q11_pipeline/logs_and_metrics/val_classification_report.json',\n",
    "        'permutation_test_report_original': '../q11_pipeline/logs_and_metrics/permutation_test_report_original.json',\n",
    "        'permutation_test_report_augmented': '../q11_pipeline/logs_and_metrics/permutation_test_report_augmented.json',\n",
    "    },\n",
    "    'q17': {\n",
    "        'val_classification_report': '../q17_pipeline/logs_and_metrics/val_classification_report.json',\n",
    "        'permutation_test_report_original': '../q17_pipeline/logs_and_metrics/permutation_test_report_original.json',\n",
    "        'permutation_test_report_augmented': '../q17_pipeline/logs_and_metrics/permutation_test_report_augmented.json',\n",
    "    },\n",
    "    'q65': {\n",
    "        'val_classification_report': '../q65_pipeline/logs_and_metrics/val_classification_report.json',\n",
    "        'permutation_test_report_original': '../q65_pipeline/logs_and_metrics/permutation_test_report_original.json',\n",
    "        'permutation_test_report_augmented': '../q65_pipeline/logs_and_metrics/permutation_test_report_augmented.json',\n",
    "    },\n",
    "    'q69': {\n",
    "        'val_classification_report': '../q69_pipeline/logs_and_metrics/val_classification_report.json',\n",
    "        'permutation_test_report_original': '../q69_pipeline/logs_and_metrics/permutation_test_report_original.json',\n",
    "        'permutation_test_report_augmented': '../q69_pipeline/logs_and_metrics/permutation_test_report_augmented.json',\n",
    "    },\n",
    "    'q70': {\n",
    "        'val_classification_report': '../q70_pipeline/logs_and_metrics/val_classification_report.json',\n",
    "        'permutation_test_report_original': '../q70_pipeline/logs_and_metrics/permutation_test_report_original.json',\n",
    "        'permutation_test_report_augmented': '../q70_pipeline/logs_and_metrics/permutation_test_report_augmented.json',\n",
    "    },\n",
    "    'q152': {\n",
    "        'val_classification_report': '../q152_q153_pipeline/logs_and_metrics/val_classification_report.json',\n",
    "        'permutation_test_report_original': '../q152_q153_pipeline/logs_and_metrics/permutation_test_report_original.json',\n",
    "        'permutation_test_report_augmented': '../q152_q153_pipeline/logs_and_metrics/permutation_test_report_augmented.json',\n",
    "    },\n",
    "    'q154': {\n",
    "        'val_classification_report': '../q154_q155_pipeline/logs_and_metrics/val_classification_report.json',\n",
    "        'permutation_test_report_original': '../q154_q155_pipeline/logs_and_metrics/permutation_test_report_original.json',\n",
    "        'permutation_test_report_augmented': '../q154_q155_pipeline/logs_and_metrics/permutation_test_report_augmented.json',\n",
    "    },\n",
    "}\n",
    "\n",
    "def load_val_f1_scores(path):\n",
    "    \"\"\"Load per-class F1 scores from validation report JSON (dict keyed by class).\"\"\"\n",
    "    try:\n",
    "        with open(path, 'r') as f:\n",
    "            data = json.load(f)\n",
    "        f1_scores = {}\n",
    "        # Prefer 'classification_report' array format if exists\n",
    "        if 'classification_report' in data:\n",
    "            for entry in data['classification_report']:\n",
    "                cls = entry.get('class') or entry.get('Class')\n",
    "                f1 = entry.get('f1_score') or entry.get('f1-score')\n",
    "                if cls is not None:\n",
    "                    f1_scores[cls] = f1 if f1 is not None else np.nan\n",
    "        else:\n",
    "            # Else expect dict with keys as class names\n",
    "            for class_key, metrics in data.items():\n",
    "                if not isinstance(metrics, dict):\n",
    "                    continue\n",
    "                f1 = metrics.get(\"f1_score\") or metrics.get(\"f1-score\")\n",
    "                if f1 is None:\n",
    "                    f1 = np.nan\n",
    "                f1_scores[class_key] = f1\n",
    "        return f1_scores\n",
    "    except Exception as e:\n",
    "        print(f\"Error loading val f1 scores from {path}: {e}\")\n",
    "        return {}\n",
    "\n",
    "def load_perm_f1_scores(path):\n",
    "    \"\"\"Load per-class F1 scores from permutation report JSON (list under 'classification_report' or 'classification_report_per_class').\"\"\"\n",
    "    try:\n",
    "        with open(path, 'r') as f:\n",
    "            data = json.load(f)\n",
    "        f1_scores = {}\n",
    "        # Permutation test reports may use 'classification_report' or 'classification_report_per_class'\n",
    "        report_key = None\n",
    "        if 'classification_report' in data:\n",
    "            report_key = 'classification_report'\n",
    "        elif 'classification_report_per_class' in data:\n",
    "            report_key = 'classification_report_per_class'\n",
    "\n",
    "        if report_key:\n",
    "            for entry in data[report_key]:\n",
    "                cls = entry.get('class') or entry.get('Class')\n",
    "                f1 = entry.get('f1_score') or entry.get('f1-score')\n",
    "                if cls is not None:\n",
    "                    f1_scores[cls] = f1 if f1 is not None else np.nan\n",
    "        else:\n",
    "            print(f\"Warning: No classification report found in {path}\")\n",
    "        return f1_scores\n",
    "    except Exception as e:\n",
    "        print(f\"Error loading perm f1 scores from {path}: {e}\")\n",
    "        return {}\n",
    "\n",
    "def plot_f1_class_multi(question_keys, paths_dict):\n",
    "    labels = ['Validation', 'Permutation Original', 'Permutation Augmented']\n",
    "    colors = [\"#0F346F\", \"#52DDB3\", \"#A85555\"]\n",
    "\n",
    "    width = 0.8\n",
    "    bar_spacing = width * 5\n",
    "    max_per_row = 2\n",
    "\n",
    "    num_rows = (len(question_keys) + max_per_row - 1) // max_per_row\n",
    "    num_cols = min(len(question_keys), max_per_row)\n",
    "\n",
    "    fig, axes = plt.subplots(num_rows, num_cols,\n",
    "                             figsize=(num_cols * 5, num_rows * 5),\n",
    "                             squeeze=False)\n",
    "\n",
    "    academic_font = {'fontname': 'Times New Roman'}\n",
    "\n",
    "    #fig.suptitle('Per-Class F1 Scores Across Questions',\n",
    "     #            fontsize=18, fontweight='semibold',\n",
    "      #           color='#111111', y=0.95, **academic_font)\n",
    "\n",
    "    axes_flat = axes.flatten()\n",
    "    for ax in axes_flat:\n",
    "        ax.set_axis_off()\n",
    "\n",
    "    label_box = dict(boxstyle=\"square,pad=0.3\",\n",
    "                     facecolor=\"none\",\n",
    "                     edgecolor=\"#333333\",\n",
    "                     linewidth=1)\n",
    "\n",
    "    for i, q_key in enumerate(question_keys):\n",
    "        ax = axes_flat[i]\n",
    "        ax.set_axis_on()\n",
    "\n",
    "        val_scores = load_val_f1_scores(paths_dict[q_key]['val_classification_report'])\n",
    "        perm_orig_scores = load_perm_f1_scores(paths_dict[q_key]['permutation_test_report_original'])\n",
    "        perm_aug_scores = load_perm_f1_scores(paths_dict[q_key]['permutation_test_report_augmented'])\n",
    "\n",
    "        # Get union of all class keys from the three reports for alignment\n",
    "        all_classes = sorted(set(val_scores) | set(perm_orig_scores) | set(perm_aug_scores))\n",
    "\n",
    "        def align_scores(score_dict, keys):\n",
    "            return [score_dict.get(k, np.nan) for k in keys]\n",
    "\n",
    "        val_aligned = align_scores(val_scores, all_classes)\n",
    "        perm_orig_aligned = align_scores(perm_orig_scores, all_classes)\n",
    "        perm_aug_aligned = align_scores(perm_aug_scores, all_classes)\n",
    "\n",
    "        group_start = 0\n",
    "        for j, cls in enumerate(all_classes):\n",
    "            base_x = group_start + j * bar_spacing\n",
    "            scores = [val_aligned[j], perm_orig_aligned[j], perm_aug_aligned[j]]\n",
    "            x_pos = [base_x - width, base_x, base_x + width]\n",
    "\n",
    "            ax.bar(x_pos, scores, width=width, color=colors, label='_nolegend_')\n",
    "\n",
    "            # label with last part after underscore if exists, else full\n",
    "            label_num = cls.split('_')[-1] if '_' in cls else cls\n",
    "            ax.text(base_x, -0.07, label_num,\n",
    "                    ha='center', va='top', fontweight='semibold', fontsize=15,\n",
    "                    transform=ax.get_xaxis_transform(),\n",
    "                    color='#222222', **academic_font)\n",
    "\n",
    "        # Question label (special cases for combined)\n",
    "        if q_key.lower() == 'q152':\n",
    "            label_text = \"Q152, Q153\"\n",
    "        elif q_key.lower() == 'q154':\n",
    "            label_text = \"Q154, Q155\"\n",
    "        else:\n",
    "            label_text = q_key.upper()\n",
    "\n",
    "        ax.text((len(all_classes) - 1) * bar_spacing / 2, -0.23,\n",
    "                label_text, fontweight='semibold',\n",
    "                ha='center', va='top',\n",
    "                fontsize=15, color='#111111',\n",
    "                bbox=label_box, **academic_font)\n",
    "\n",
    "        ax.set_ylim(0, 1.2)\n",
    "        ax.set_yticks(np.linspace(0, 1, 6))\n",
    "\n",
    "        if i % max_per_row == 0:\n",
    "            ax.set_yticklabels([f\"{x:.1f}\" for x in np.linspace(0, 1, 6)],\n",
    "                               fontsize=12, color='#444444', **academic_font)\n",
    "        else:\n",
    "            ax.set_yticklabels([])\n",
    "\n",
    "        ax.tick_params(axis='x', length=0)\n",
    "        ax.set_xticks([])\n",
    "\n",
    "    legend_handles = [Patch(color=colors[k], label=labels[k], linewidth=0)\n",
    "                      for k in range(len(labels))]\n",
    "\n",
    "    legend = fig.legend(handles=legend_handles,\n",
    "                        loc='lower center', bbox_to_anchor=(0.5, -0.04),\n",
    "                        ncol=len(labels),\n",
    "                        fontsize=12, frameon=False,\n",
    "                        handlelength=1.5, handleheight=1.5)\n",
    "\n",
    "    for text in legend.get_texts():\n",
    "        text.set_fontname('Times New Roman')\n",
    "\n",
    "    plt.tight_layout()\n",
    "    plt.subplots_adjust(top=0.9, bottom=0.05, hspace=0.35)\n",
    "    plt.show()\n",
    "    return fig\n",
    "\n",
    "# Example usage:\n",
    "question_list = ['q8', 'q11', 'q17', 'q65', 'q69', 'q70', 'q152', 'q154']\n",
    "fig = plot_f1_class_multi(question_list, reports)\n",
    "fig.savefig(\"f1_scores_per_response.png\", dpi=300, bbox_inches='tight')\n"
   ]
  },
  {
   "cell_type": "code",
   "execution_count": 49,
   "id": "a155170f",
   "metadata": {},
   "outputs": [
    {
     "data": {
      "text/html": [
       "\n",
       "    <style>\n",
       "        table.dataframe th, table.dataframe td {\n",
       "            text-align: center !important;\n",
       "        }\n",
       "    </style>\n",
       "    <style type=\"text/css\">\n",
       "</style>\n",
       "<table id=\"T_f82c4\">\n",
       "  <thead>\n",
       "    <tr>\n",
       "      <th id=\"T_f82c4_level0_col0\" class=\"col_heading level0 col0\" >Question</th>\n",
       "      <th id=\"T_f82c4_level0_col1\" class=\"col_heading level0 col1\" >Response</th>\n",
       "      <th id=\"T_f82c4_level0_col2\" class=\"col_heading level0 col2\" >Validation Set F1</th>\n",
       "      <th id=\"T_f82c4_level0_col3\" class=\"col_heading level0 col3\" >Permutation Test F1 (Original Dataset)</th>\n",
       "      <th id=\"T_f82c4_level0_col4\" class=\"col_heading level0 col4\" >Permutation Test F1 (Augmented Dataset)</th>\n",
       "      <th id=\"T_f82c4_level0_col5\" class=\"col_heading level0 col5\" >Permutations (N)</th>\n",
       "    </tr>\n",
       "  </thead>\n",
       "  <tbody>\n",
       "    <tr>\n",
       "      <td id=\"T_f82c4_row0_col0\" class=\"data row0 col0\" >Q8</td>\n",
       "      <td id=\"T_f82c4_row0_col1\" class=\"data row0 col1\" >1</td>\n",
       "      <td id=\"T_f82c4_row0_col2\" class=\"data row0 col2\" >0.833</td>\n",
       "      <td id=\"T_f82c4_row0_col3\" class=\"data row0 col3\" >0.614</td>\n",
       "      <td id=\"T_f82c4_row0_col4\" class=\"data row0 col4\" >0.654</td>\n",
       "      <td id=\"T_f82c4_row0_col5\" class=\"data row0 col5\" >100</td>\n",
       "    </tr>\n",
       "    <tr>\n",
       "      <td id=\"T_f82c4_row1_col0\" class=\"data row1 col0\" >Q8</td>\n",
       "      <td id=\"T_f82c4_row1_col1\" class=\"data row1 col1\" >2</td>\n",
       "      <td id=\"T_f82c4_row1_col2\" class=\"data row1 col2\" >0.750</td>\n",
       "      <td id=\"T_f82c4_row1_col3\" class=\"data row1 col3\" >0.332</td>\n",
       "      <td id=\"T_f82c4_row1_col4\" class=\"data row1 col4\" >0.339</td>\n",
       "      <td id=\"T_f82c4_row1_col5\" class=\"data row1 col5\" >100</td>\n",
       "    </tr>\n",
       "    <tr>\n",
       "      <td id=\"T_f82c4_row2_col0\" class=\"data row2 col0\" >Q11</td>\n",
       "      <td id=\"T_f82c4_row2_col1\" class=\"data row2 col1\" >1</td>\n",
       "      <td id=\"T_f82c4_row2_col2\" class=\"data row2 col2\" >0.800</td>\n",
       "      <td id=\"T_f82c4_row2_col3\" class=\"data row2 col3\" >0.307</td>\n",
       "      <td id=\"T_f82c4_row2_col4\" class=\"data row2 col4\" >0.247</td>\n",
       "      <td id=\"T_f82c4_row2_col5\" class=\"data row2 col5\" >100</td>\n",
       "    </tr>\n",
       "    <tr>\n",
       "      <td id=\"T_f82c4_row3_col0\" class=\"data row3 col0\" >Q11</td>\n",
       "      <td id=\"T_f82c4_row3_col1\" class=\"data row3 col1\" >2</td>\n",
       "      <td id=\"T_f82c4_row3_col2\" class=\"data row3 col2\" >0.889</td>\n",
       "      <td id=\"T_f82c4_row3_col3\" class=\"data row3 col3\" >0.620</td>\n",
       "      <td id=\"T_f82c4_row3_col4\" class=\"data row3 col4\" >0.682</td>\n",
       "      <td id=\"T_f82c4_row3_col5\" class=\"data row3 col5\" >100</td>\n",
       "    </tr>\n",
       "    <tr>\n",
       "      <td id=\"T_f82c4_row4_col0\" class=\"data row4 col0\" >Q17</td>\n",
       "      <td id=\"T_f82c4_row4_col1\" class=\"data row4 col1\" >1</td>\n",
       "      <td id=\"T_f82c4_row4_col2\" class=\"data row4 col2\" >0.889</td>\n",
       "      <td id=\"T_f82c4_row4_col3\" class=\"data row4 col3\" >0.735</td>\n",
       "      <td id=\"T_f82c4_row4_col4\" class=\"data row4 col4\" >0.760</td>\n",
       "      <td id=\"T_f82c4_row4_col5\" class=\"data row4 col5\" >100</td>\n",
       "    </tr>\n",
       "    <tr>\n",
       "      <td id=\"T_f82c4_row5_col0\" class=\"data row5 col0\" >Q17</td>\n",
       "      <td id=\"T_f82c4_row5_col1\" class=\"data row5 col1\" >2</td>\n",
       "      <td id=\"T_f82c4_row5_col2\" class=\"data row5 col2\" >0.750</td>\n",
       "      <td id=\"T_f82c4_row5_col3\" class=\"data row5 col3\" >0.199</td>\n",
       "      <td id=\"T_f82c4_row5_col4\" class=\"data row5 col4\" >0.012</td>\n",
       "      <td id=\"T_f82c4_row5_col5\" class=\"data row5 col5\" >100</td>\n",
       "    </tr>\n",
       "    <tr>\n",
       "      <td id=\"T_f82c4_row6_col0\" class=\"data row6 col0\" >Q65</td>\n",
       "      <td id=\"T_f82c4_row6_col1\" class=\"data row6 col1\" >1</td>\n",
       "      <td id=\"T_f82c4_row6_col2\" class=\"data row6 col2\" >0.750</td>\n",
       "      <td id=\"T_f82c4_row6_col3\" class=\"data row6 col3\" >0.201</td>\n",
       "      <td id=\"T_f82c4_row6_col4\" class=\"data row6 col4\" >0.198</td>\n",
       "      <td id=\"T_f82c4_row6_col5\" class=\"data row6 col5\" >20</td>\n",
       "    </tr>\n",
       "    <tr>\n",
       "      <td id=\"T_f82c4_row7_col0\" class=\"data row7 col0\" >Q65</td>\n",
       "      <td id=\"T_f82c4_row7_col1\" class=\"data row7 col1\" >2</td>\n",
       "      <td id=\"T_f82c4_row7_col2\" class=\"data row7 col2\" >0.600</td>\n",
       "      <td id=\"T_f82c4_row7_col3\" class=\"data row7 col3\" >0.138</td>\n",
       "      <td id=\"T_f82c4_row7_col4\" class=\"data row7 col4\" >0.155</td>\n",
       "      <td id=\"T_f82c4_row7_col5\" class=\"data row7 col5\" >20</td>\n",
       "    </tr>\n",
       "    <tr>\n",
       "      <td id=\"T_f82c4_row8_col0\" class=\"data row8 col0\" >Q65</td>\n",
       "      <td id=\"T_f82c4_row8_col1\" class=\"data row8 col1\" >3</td>\n",
       "      <td id=\"T_f82c4_row8_col2\" class=\"data row8 col2\" >0.583</td>\n",
       "      <td id=\"T_f82c4_row8_col3\" class=\"data row8 col3\" >0.297</td>\n",
       "      <td id=\"T_f82c4_row8_col4\" class=\"data row8 col4\" >0.292</td>\n",
       "      <td id=\"T_f82c4_row8_col5\" class=\"data row8 col5\" >20</td>\n",
       "    </tr>\n",
       "    <tr>\n",
       "      <td id=\"T_f82c4_row9_col0\" class=\"data row9 col0\" >Q65</td>\n",
       "      <td id=\"T_f82c4_row9_col1\" class=\"data row9 col1\" >4</td>\n",
       "      <td id=\"T_f82c4_row9_col2\" class=\"data row9 col2\" >0.636</td>\n",
       "      <td id=\"T_f82c4_row9_col3\" class=\"data row9 col3\" >0.364</td>\n",
       "      <td id=\"T_f82c4_row9_col4\" class=\"data row9 col4\" >0.375</td>\n",
       "      <td id=\"T_f82c4_row9_col5\" class=\"data row9 col5\" >20</td>\n",
       "    </tr>\n",
       "    <tr>\n",
       "      <td id=\"T_f82c4_row10_col0\" class=\"data row10 col0\" >Q69</td>\n",
       "      <td id=\"T_f82c4_row10_col1\" class=\"data row10 col1\" >1</td>\n",
       "      <td id=\"T_f82c4_row10_col2\" class=\"data row10 col2\" >0.500</td>\n",
       "      <td id=\"T_f82c4_row10_col3\" class=\"data row10 col3\" >0.219</td>\n",
       "      <td id=\"T_f82c4_row10_col4\" class=\"data row10 col4\" >0.323</td>\n",
       "      <td id=\"T_f82c4_row10_col5\" class=\"data row10 col5\" >20</td>\n",
       "    </tr>\n",
       "    <tr>\n",
       "      <td id=\"T_f82c4_row11_col0\" class=\"data row11 col0\" >Q69</td>\n",
       "      <td id=\"T_f82c4_row11_col1\" class=\"data row11 col1\" >2</td>\n",
       "      <td id=\"T_f82c4_row11_col2\" class=\"data row11 col2\" >0.526</td>\n",
       "      <td id=\"T_f82c4_row11_col3\" class=\"data row11 col3\" >0.291</td>\n",
       "      <td id=\"T_f82c4_row11_col4\" class=\"data row11 col4\" >0.330</td>\n",
       "      <td id=\"T_f82c4_row11_col5\" class=\"data row11 col5\" >20</td>\n",
       "    </tr>\n",
       "    <tr>\n",
       "      <td id=\"T_f82c4_row12_col0\" class=\"data row12 col0\" >Q69</td>\n",
       "      <td id=\"T_f82c4_row12_col1\" class=\"data row12 col1\" >3</td>\n",
       "      <td id=\"T_f82c4_row12_col2\" class=\"data row12 col2\" >0.500</td>\n",
       "      <td id=\"T_f82c4_row12_col3\" class=\"data row12 col3\" >0.213</td>\n",
       "      <td id=\"T_f82c4_row12_col4\" class=\"data row12 col4\" >0.075</td>\n",
       "      <td id=\"T_f82c4_row12_col5\" class=\"data row12 col5\" >20</td>\n",
       "    </tr>\n",
       "    <tr>\n",
       "      <td id=\"T_f82c4_row13_col0\" class=\"data row13 col0\" >Q69</td>\n",
       "      <td id=\"T_f82c4_row13_col1\" class=\"data row13 col1\" >4</td>\n",
       "      <td id=\"T_f82c4_row13_col2\" class=\"data row13 col2\" >0.667</td>\n",
       "      <td id=\"T_f82c4_row13_col3\" class=\"data row13 col3\" >0.189</td>\n",
       "      <td id=\"T_f82c4_row13_col4\" class=\"data row13 col4\" >0.205</td>\n",
       "      <td id=\"T_f82c4_row13_col5\" class=\"data row13 col5\" >20</td>\n",
       "    </tr>\n",
       "    <tr>\n",
       "      <td id=\"T_f82c4_row14_col0\" class=\"data row14 col0\" >Q70</td>\n",
       "      <td id=\"T_f82c4_row14_col1\" class=\"data row14 col1\" >1</td>\n",
       "      <td id=\"T_f82c4_row14_col2\" class=\"data row14 col2\" >0.500</td>\n",
       "      <td id=\"T_f82c4_row14_col3\" class=\"data row14 col3\" >0.048</td>\n",
       "      <td id=\"T_f82c4_row14_col4\" class=\"data row14 col4\" >0.095</td>\n",
       "      <td id=\"T_f82c4_row14_col5\" class=\"data row14 col5\" >20</td>\n",
       "    </tr>\n",
       "    <tr>\n",
       "      <td id=\"T_f82c4_row15_col0\" class=\"data row15 col0\" >Q70</td>\n",
       "      <td id=\"T_f82c4_row15_col1\" class=\"data row15 col1\" >2</td>\n",
       "      <td id=\"T_f82c4_row15_col2\" class=\"data row15 col2\" >0.700</td>\n",
       "      <td id=\"T_f82c4_row15_col3\" class=\"data row15 col3\" >0.412</td>\n",
       "      <td id=\"T_f82c4_row15_col4\" class=\"data row15 col4\" >0.418</td>\n",
       "      <td id=\"T_f82c4_row15_col5\" class=\"data row15 col5\" >20</td>\n",
       "    </tr>\n",
       "    <tr>\n",
       "      <td id=\"T_f82c4_row16_col0\" class=\"data row16 col0\" >Q70</td>\n",
       "      <td id=\"T_f82c4_row16_col1\" class=\"data row16 col1\" >3</td>\n",
       "      <td id=\"T_f82c4_row16_col2\" class=\"data row16 col2\" >0.571</td>\n",
       "      <td id=\"T_f82c4_row16_col3\" class=\"data row16 col3\" >0.390</td>\n",
       "      <td id=\"T_f82c4_row16_col4\" class=\"data row16 col4\" >0.389</td>\n",
       "      <td id=\"T_f82c4_row16_col5\" class=\"data row16 col5\" >20</td>\n",
       "    </tr>\n",
       "    <tr>\n",
       "      <td id=\"T_f82c4_row17_col0\" class=\"data row17 col0\" >Q70</td>\n",
       "      <td id=\"T_f82c4_row17_col1\" class=\"data row17 col1\" >4</td>\n",
       "      <td id=\"T_f82c4_row17_col2\" class=\"data row17 col2\" >0.500</td>\n",
       "      <td id=\"T_f82c4_row17_col3\" class=\"data row17 col3\" >0.065</td>\n",
       "      <td id=\"T_f82c4_row17_col4\" class=\"data row17 col4\" >0.000</td>\n",
       "      <td id=\"T_f82c4_row17_col5\" class=\"data row17 col5\" >20</td>\n",
       "    </tr>\n",
       "    <tr>\n",
       "      <td id=\"T_f82c4_row18_col0\" class=\"data row18 col0\" >Q152</td>\n",
       "      <td id=\"T_f82c4_row18_col1\" class=\"data row18 col1\" >1</td>\n",
       "      <td id=\"T_f82c4_row18_col2\" class=\"data row18 col2\" >1.000</td>\n",
       "      <td id=\"T_f82c4_row18_col3\" class=\"data row18 col3\" >0.198</td>\n",
       "      <td id=\"T_f82c4_row18_col4\" class=\"data row18 col4\" >0.190</td>\n",
       "      <td id=\"T_f82c4_row18_col5\" class=\"data row18 col5\" >20</td>\n",
       "    </tr>\n",
       "    <tr>\n",
       "      <td id=\"T_f82c4_row19_col0\" class=\"data row19 col0\" >Q152</td>\n",
       "      <td id=\"T_f82c4_row19_col1\" class=\"data row19 col1\" >2</td>\n",
       "      <td id=\"T_f82c4_row19_col2\" class=\"data row19 col2\" >0.824</td>\n",
       "      <td id=\"T_f82c4_row19_col3\" class=\"data row19 col3\" >0.264</td>\n",
       "      <td id=\"T_f82c4_row19_col4\" class=\"data row19 col4\" >0.109</td>\n",
       "      <td id=\"T_f82c4_row19_col5\" class=\"data row19 col5\" >20</td>\n",
       "    </tr>\n",
       "    <tr>\n",
       "      <td id=\"T_f82c4_row20_col0\" class=\"data row20 col0\" >Q152</td>\n",
       "      <td id=\"T_f82c4_row20_col1\" class=\"data row20 col1\" >3</td>\n",
       "      <td id=\"T_f82c4_row20_col2\" class=\"data row20 col2\" >0.875</td>\n",
       "      <td id=\"T_f82c4_row20_col3\" class=\"data row20 col3\" >0.257</td>\n",
       "      <td id=\"T_f82c4_row20_col4\" class=\"data row20 col4\" >0.118</td>\n",
       "      <td id=\"T_f82c4_row20_col5\" class=\"data row20 col5\" >20</td>\n",
       "    </tr>\n",
       "    <tr>\n",
       "      <td id=\"T_f82c4_row21_col0\" class=\"data row21 col0\" >Q152</td>\n",
       "      <td id=\"T_f82c4_row21_col1\" class=\"data row21 col1\" >4</td>\n",
       "      <td id=\"T_f82c4_row21_col2\" class=\"data row21 col2\" >0.914</td>\n",
       "      <td id=\"T_f82c4_row21_col3\" class=\"data row21 col3\" >0.395</td>\n",
       "      <td id=\"T_f82c4_row21_col4\" class=\"data row21 col4\" >0.469</td>\n",
       "      <td id=\"T_f82c4_row21_col5\" class=\"data row21 col5\" >20</td>\n",
       "    </tr>\n",
       "    <tr>\n",
       "      <td id=\"T_f82c4_row22_col0\" class=\"data row22 col0\" >Q154</td>\n",
       "      <td id=\"T_f82c4_row22_col1\" class=\"data row22 col1\" >1</td>\n",
       "      <td id=\"T_f82c4_row22_col2\" class=\"data row22 col2\" >0.867</td>\n",
       "      <td id=\"T_f82c4_row22_col3\" class=\"data row22 col3\" >0.217</td>\n",
       "      <td id=\"T_f82c4_row22_col4\" class=\"data row22 col4\" >0.201</td>\n",
       "      <td id=\"T_f82c4_row22_col5\" class=\"data row22 col5\" >20</td>\n",
       "    </tr>\n",
       "    <tr>\n",
       "      <td id=\"T_f82c4_row23_col0\" class=\"data row23 col0\" >Q154</td>\n",
       "      <td id=\"T_f82c4_row23_col1\" class=\"data row23 col1\" >2</td>\n",
       "      <td id=\"T_f82c4_row23_col2\" class=\"data row23 col2\" >0.909</td>\n",
       "      <td id=\"T_f82c4_row23_col3\" class=\"data row23 col3\" >0.232</td>\n",
       "      <td id=\"T_f82c4_row23_col4\" class=\"data row23 col4\" >0.330</td>\n",
       "      <td id=\"T_f82c4_row23_col5\" class=\"data row23 col5\" >20</td>\n",
       "    </tr>\n",
       "    <tr>\n",
       "      <td id=\"T_f82c4_row24_col0\" class=\"data row24 col0\" >Q154</td>\n",
       "      <td id=\"T_f82c4_row24_col1\" class=\"data row24 col1\" >3</td>\n",
       "      <td id=\"T_f82c4_row24_col2\" class=\"data row24 col2\" >0.870</td>\n",
       "      <td id=\"T_f82c4_row24_col3\" class=\"data row24 col3\" >0.193</td>\n",
       "      <td id=\"T_f82c4_row24_col4\" class=\"data row24 col4\" >0.213</td>\n",
       "      <td id=\"T_f82c4_row24_col5\" class=\"data row24 col5\" >20</td>\n",
       "    </tr>\n",
       "    <tr>\n",
       "      <td id=\"T_f82c4_row25_col0\" class=\"data row25 col0\" >Q154</td>\n",
       "      <td id=\"T_f82c4_row25_col1\" class=\"data row25 col1\" >4</td>\n",
       "      <td id=\"T_f82c4_row25_col2\" class=\"data row25 col2\" >0.882</td>\n",
       "      <td id=\"T_f82c4_row25_col3\" class=\"data row25 col3\" >0.311</td>\n",
       "      <td id=\"T_f82c4_row25_col4\" class=\"data row25 col4\" >0.282</td>\n",
       "      <td id=\"T_f82c4_row25_col5\" class=\"data row25 col5\" >20</td>\n",
       "    </tr>\n",
       "  </tbody>\n",
       "</table>\n"
      ],
      "text/plain": [
       "<IPython.core.display.HTML object>"
      ]
     },
     "metadata": {},
     "output_type": "display_data"
    },
    {
     "name": "stdout",
     "output_type": "stream",
     "text": [
      "LaTeX table saved as f1_scores_table.tex\n"
     ]
    }
   ],
   "source": [
    "import pandas as pd\n",
    "import json\n",
    "from IPython.display import display, HTML\n",
    "import re\n",
    "\n",
    "def load_val_f1(path):\n",
    "    try:\n",
    "        with open(path, 'r') as f:\n",
    "            data = json.load(f)\n",
    "        f1_scores = {}\n",
    "        # Validation reports may have 'classification_report' list OR dict keyed by class names\n",
    "        if 'classification_report' in data:\n",
    "            for entry in data['classification_report']:\n",
    "                cls = entry.get('class') or entry.get('Class')\n",
    "                f1 = entry.get('f1_score') or entry.get('f1-score')\n",
    "                if cls is not None:\n",
    "                    f1_scores[cls] = f1 if f1 is not None else None\n",
    "        else:\n",
    "            # fallback: dict keyed by class names\n",
    "            for class_key, metrics in data.items():\n",
    "                if not isinstance(metrics, dict):\n",
    "                    continue\n",
    "                f1 = metrics.get('f1_score') or metrics.get('f1-score')\n",
    "                f1_scores[class_key] = f1 if f1 is not None else None\n",
    "        return f1_scores\n",
    "    except Exception as e:\n",
    "        print(f\"Error loading validation F1 scores from {path}: {e}\")\n",
    "        return {}\n",
    "\n",
    "def load_perm_f1(path):\n",
    "    try:\n",
    "        with open(path, 'r') as f:\n",
    "            data = json.load(f)\n",
    "        f1_scores = {}\n",
    "        # Permutation test reports may have 'classification_report' or 'classification_report_per_class'\n",
    "        report_key = None\n",
    "        if 'classification_report' in data:\n",
    "            report_key = 'classification_report'\n",
    "        elif 'classification_report_per_class' in data:\n",
    "            report_key = 'classification_report_per_class'\n",
    "        else:\n",
    "            print(f\"Warning: No classification report key found in {path}\")\n",
    "\n",
    "        if report_key:\n",
    "            for entry in data[report_key]:\n",
    "                cls = entry.get('class') or entry.get('Class')\n",
    "                f1 = entry.get('f1_score') or entry.get('f1-score')\n",
    "                if cls is not None:\n",
    "                    f1_scores[cls] = f1 if f1 is not None else None\n",
    "        return f1_scores\n",
    "    except Exception as e:\n",
    "        print(f\"Error loading permutation F1 scores from {path}: {e}\")\n",
    "        return {}\n",
    "\n",
    "# --- NEW: read the last n_permutations from a training script ---\n",
    "def read_last_n_permutations_from_script(path):\n",
    "    \"\"\"\n",
    "    Reads a Python training script and returns the *last* integer assigned to\n",
    "    `n_permutations` (ignores commented-out lines). Returns None if not found.\n",
    "    \"\"\"\n",
    "    try:\n",
    "        with open(path, 'r', encoding='utf-8') as f:\n",
    "            last_val = None\n",
    "            for raw_line in f:\n",
    "                # strip inline comments\n",
    "                line = raw_line.split('#', 1)[0]\n",
    "                m = re.search(r'\\bn_permutations\\s*=\\s*(\\d+)\\b', line)\n",
    "                if m:\n",
    "                    last_val = int(m.group(1))\n",
    "        return last_val\n",
    "    except Exception as e:\n",
    "        print(f\"Error reading n_permutations from {path}: {e}\")\n",
    "        return None\n",
    "\n",
    "# --- NEW: expand keys like \"Q152, Q153\" so both map to the same path ---\n",
    "def expand_question_to_path(question_to_path):\n",
    "    expanded = {}\n",
    "    for key, path in question_to_path.items():\n",
    "        parts = [p.strip().upper() for p in key.split(',')]\n",
    "        for p in parts:\n",
    "            expanded[p] = path\n",
    "    return expanded\n",
    "\n",
    "def extract_f1_table(question_keys, paths_dict, training_paths):\n",
    "    \"\"\"\n",
    "    question_keys: list like ['q8','q11',...]\n",
    "    paths_dict: your existing 'reports' mapping for JSON report paths\n",
    "    training_paths: dict mapping question names (e.g., 'Q8' or 'Q152, Q153') to training .py paths\n",
    "    \"\"\"\n",
    "    # Expand and normalize the training-path mapping\n",
    "    expanded_train_map = expand_question_to_path(training_paths)\n",
    "\n",
    "    records = []\n",
    "\n",
    "    for q_key in question_keys:\n",
    "        q_key_upper = q_key.upper()  # normalize for lookup like 'Q8'\n",
    "        val_scores = load_val_f1(paths_dict[q_key]['val_classification_report'])\n",
    "        perm_orig_scores = load_perm_f1(paths_dict[q_key]['permutation_test_report_original'])\n",
    "        perm_aug_scores = load_perm_f1(paths_dict[q_key]['permutation_test_report_augmented'])\n",
    "\n",
    "        # --- NEW: look up training script and read last n_permutations\n",
    "        n_perm = None\n",
    "        train_script_path = expanded_train_map.get(q_key_upper)\n",
    "        if train_script_path:\n",
    "            n_perm = read_last_n_permutations_from_script(train_script_path)\n",
    "\n",
    "        # Union of all classes across val and perm reports\n",
    "        all_classes = sorted(set(val_scores) | set(perm_orig_scores) | set(perm_aug_scores))\n",
    "\n",
    "        for cls in all_classes:\n",
    "            label_num = cls.split('_')[-1] if '_' in cls else cls\n",
    "            records.append({\n",
    "                'Question': q_key_upper,\n",
    "                'Response': label_num,\n",
    "                'Validation Set F1': val_scores.get(cls, None),\n",
    "                'Permutation Test F1 (Original Dataset)': perm_orig_scores.get(cls, None),\n",
    "                'Permutation Test F1 (Augmented Dataset)': perm_aug_scores.get(cls, None),\n",
    "                # --- NEW column\n",
    "                'Permutations (N)': n_perm,\n",
    "            })\n",
    "\n",
    "    df = pd.DataFrame(records)\n",
    "\n",
    "    # Keep dtype as nullable integer so missing values are allowed for N\n",
    "    if 'Permutations (N)' in df.columns:\n",
    "        try:\n",
    "            df['Permutations (N)'] = pd.array(df['Permutations (N)'], dtype='Int64')\n",
    "        except Exception:\n",
    "            pass\n",
    "\n",
    "    # CSS for centering table headers and cells\n",
    "    css = \"\"\"\n",
    "    <style>\n",
    "        table.dataframe th, table.dataframe td {\n",
    "            text-align: center !important;\n",
    "        }\n",
    "    </style>\n",
    "    \"\"\"\n",
    "    \n",
    "    styled_html = (\n",
    "        df.style\n",
    "        .format({\n",
    "            'Validation Set F1': '{:.3f}',\n",
    "            'Permutation Test F1 (Original Dataset)': '{:.3f}',\n",
    "            'Permutation Test F1 (Augmented Dataset)': '{:.3f}',\n",
    "        }, na_rep='0.000') # It is a risky practice to replace NaN with 0, but it is done here with a knowledge that the only NA value is actually zero.\n",
    "        .hide(axis='index')\n",
    "        .to_html()\n",
    "    )\n",
    "\n",
    "    display(HTML(css + styled_html))\n",
    "\n",
    "    # Update LaTeX column spec: 'Question','Response' (ll) + 3 floats + 1 int = 'llrrrr'\n",
    "    df.to_latex(\n",
    "        'f1_scores_table.tex',\n",
    "        index=False,\n",
    "        longtable=True,\n",
    "        caption=\"F1 Scores for Validation and Permutation Tests by Question and Response\",\n",
    "        label=\"tab:f1_scores_table\",\n",
    "        float_format=\"%.3f\",\n",
    "        column_format=\"llrrrr\",\n",
    "        escape=True,\n",
    "    )\n",
    "\n",
    "    print(\"LaTeX table saved as f1_scores_table.tex\")\n",
    "    return df\n",
    "\n",
    "# --- Example usage ---\n",
    "training_path = {\n",
    "    'Q8': \"../q8_pipeline/train_catboost_labeled.py\",\n",
    "    'Q11': \"../q11_pipeline/train_catboost_labeled.py\",\n",
    "    'Q17': \"../q17_pipeline/train_catboost_labeled.py\",\n",
    "    'Q65': \"../q65_pipeline/train_catboost_labeled.py\",\n",
    "    'Q69': \"../q69_pipeline/train_catboost_labeled.py\",\n",
    "    'Q70': \"../q70_pipeline/train_catboost_labeled.py\",\n",
    "    'Q152, Q153': \"../q152_q153_pipeline/train_catboost_labeled.py\",\n",
    "    'Q154, Q155': \"../q154_q155_pipeline/train_catboost_labeled.py\"\n",
    "}\n",
    "\n",
    "reports = {\n",
    "    'q8': {\n",
    "        'val_classification_report': '../q8_pipeline/logs_and_metrics/val_classification_report.json',\n",
    "        'permutation_test_report_original': '../q8_pipeline/logs_and_metrics/permutation_test_report_original.json',\n",
    "        'permutation_test_report_augmented': '../q8_pipeline/logs_and_metrics/permutation_test_report_augmented.json',\n",
    "    },\n",
    "    'q11': {\n",
    "        'val_classification_report': '../q11_pipeline/logs_and_metrics/val_classification_report.json',\n",
    "        'permutation_test_report_original': '../q11_pipeline/logs_and_metrics/permutation_test_report_original.json',\n",
    "        'permutation_test_report_augmented': '../q11_pipeline/logs_and_metrics/permutation_test_report_augmented.json',\n",
    "    },\n",
    "    'q17': {\n",
    "        'val_classification_report': '../q17_pipeline/logs_and_metrics/val_classification_report.json',\n",
    "        'permutation_test_report_original': '../q17_pipeline/logs_and_metrics/permutation_test_report_original.json',\n",
    "        'permutation_test_report_augmented': '../q17_pipeline/logs_and_metrics/permutation_test_report_augmented.json',\n",
    "    },\n",
    "    'q65': {\n",
    "        'val_classification_report': '../q65_pipeline/logs_and_metrics/val_classification_report.json',\n",
    "        'permutation_test_report_original': '../q65_pipeline/logs_and_metrics/permutation_test_report_original.json',\n",
    "        'permutation_test_report_augmented': '../q65_pipeline/logs_and_metrics/permutation_test_report_augmented.json',\n",
    "    },\n",
    "    'q69': {\n",
    "        'val_classification_report': '../q69_pipeline/logs_and_metrics/val_classification_report.json',\n",
    "        'permutation_test_report_original': '../q69_pipeline/logs_and_metrics/permutation_test_report_original.json',\n",
    "        'permutation_test_report_augmented': '../q69_pipeline/logs_and_metrics/permutation_test_report_augmented.json',\n",
    "    },\n",
    "    'q70': {\n",
    "        'val_classification_report': '../q70_pipeline/logs_and_metrics/val_classification_report.json',\n",
    "        'permutation_test_report_original': '../q70_pipeline/logs_and_metrics/permutation_test_report_original.json',\n",
    "        'permutation_test_report_augmented': '../q70_pipeline/logs_and_metrics/permutation_test_report_augmented.json',\n",
    "    },\n",
    "    'q152': {\n",
    "        'val_classification_report': '../q152_q153_pipeline/logs_and_metrics/val_classification_report.json',\n",
    "        'permutation_test_report_original': '../q152_q153_pipeline/logs_and_metrics/permutation_test_report_original.json',\n",
    "        'permutation_test_report_augmented': '../q152_q153_pipeline/logs_and_metrics/permutation_test_report_augmented.json',\n",
    "    },\n",
    "    'q154': {\n",
    "        'val_classification_report': '../q154_q155_pipeline/logs_and_metrics/val_classification_report.json',\n",
    "        'permutation_test_report_original': '../q154_q155_pipeline/logs_and_metrics/permutation_test_report_original.json',\n",
    "        'permutation_test_report_augmented': '../q154_q155_pipeline/logs_and_metrics/permutation_test_report_augmented.json',\n",
    "    },\n",
    "}\n",
    "\n",
    "question_list = ['q8', 'q11', 'q17', 'q65', 'q69', 'q70', 'q152', 'q154']\n",
    "df_f1 = extract_f1_table(question_list, reports, training_path)"
   ]
  },
  {
   "cell_type": "code",
   "execution_count": 36,
   "id": "f1d9b2de",
   "metadata": {},
   "outputs": [
    {
     "data": {
      "text/html": [
       "<table border=\"1\" class=\"dataframe\">\n",
       "  <thead>\n",
       "    <tr style=\"text-align: right;\">\n",
       "      <th>Question</th>\n",
       "      <th>Response</th>\n",
       "      <th>Keyphrase</th>\n",
       "      <th>Cosine Similarity Score</th>\n",
       "    </tr>\n",
       "  </thead>\n",
       "  <tbody>\n",
       "    <tr>\n",
       "      <td>Q8</td>\n",
       "      <td>1</td>\n",
       "      <td>raising children navigate life independence responsibility</td>\n",
       "      <td>0.807</td>\n",
       "    </tr>\n",
       "    <tr>\n",
       "      <td>Q8</td>\n",
       "      <td>1</td>\n",
       "      <td>individual community raising children navigate life independence</td>\n",
       "      <td>0.749</td>\n",
       "    </tr>\n",
       "    <tr>\n",
       "      <td>Q8</td>\n",
       "      <td>1</td>\n",
       "      <td>empowering person think choose act independently remains</td>\n",
       "      <td>0.631</td>\n",
       "    </tr>\n",
       "    <tr>\n",
       "      <td>Q8</td>\n",
       "      <td>2</td>\n",
       "      <td>personal independence harmony social fabric teach children</td>\n",
       "      <td>0.739</td>\n",
       "    </tr>\n",
       "    <tr>\n",
       "      <td>Q8</td>\n",
       "      <td>2</td>\n",
       "      <td>children independent place greater value collective responsibility</td>\n",
       "      <td>0.711</td>\n",
       "    </tr>\n",
       "    <tr>\n",
       "      <td>Q8</td>\n",
       "      <td>2</td>\n",
       "      <td>shared obligations emphasis place personal independence</td>\n",
       "      <td>0.674</td>\n",
       "    </tr>\n",
       "    <tr>\n",
       "      <td>Q11</td>\n",
       "      <td>1</td>\n",
       "      <td>unpredictability necessary aspires evolve encourage children explore unanswered</td>\n",
       "      <td>0.752</td>\n",
       "    </tr>\n",
       "    <tr>\n",
       "      <td>Q11</td>\n",
       "      <td>2</td>\n",
       "      <td>prioritize traditions require reinvention retain value children gain</td>\n",
       "      <td>0.684</td>\n",
       "    </tr>\n",
       "    <tr>\n",
       "      <td>Q17</td>\n",
       "      <td>1</td>\n",
       "      <td>children discipline limitation path collective dignity obedient</td>\n",
       "      <td>0.820</td>\n",
       "    </tr>\n",
       "    <tr>\n",
       "      <td>Q17</td>\n",
       "      <td>1</td>\n",
       "      <td>important children obedient ordered society begins understand</td>\n",
       "      <td>0.783</td>\n",
       "    </tr>\n",
       "    <tr>\n",
       "      <td>Q17</td>\n",
       "      <td>1</td>\n",
       "      <td>obedient conduct grounded principle remains essential</td>\n",
       "      <td>0.668</td>\n",
       "    </tr>\n",
       "    <tr>\n",
       "      <td>Q17</td>\n",
       "      <td>2</td>\n",
       "      <td>important children obedient ability question submit</td>\n",
       "      <td>0.771</td>\n",
       "    </tr>\n",
       "    <tr>\n",
       "      <td>Q17</td>\n",
       "      <td>2</td>\n",
       "      <td>important children obedient ability question</td>\n",
       "      <td>0.740</td>\n",
       "    </tr>\n",
       "    <tr>\n",
       "      <td>Q17</td>\n",
       "      <td>2</td>\n",
       "      <td>world obedient reflection relinquish agency makes human</td>\n",
       "      <td>0.576</td>\n",
       "    </tr>\n",
       "    <tr>\n",
       "      <td>Q65</td>\n",
       "      <td>1</td>\n",
       "      <td>national unity resilience reaffirm unwavering trust military</td>\n",
       "      <td>0.717</td>\n",
       "    </tr>\n",
       "    <tr>\n",
       "      <td>Q65</td>\n",
       "      <td>1</td>\n",
       "      <td>collective defense reinforcing national regional stability military</td>\n",
       "      <td>0.703</td>\n",
       "    </tr>\n",
       "    <tr>\n",
       "      <td>Q65</td>\n",
       "      <td>1</td>\n",
       "      <td>deterrence csto member commend role collective defense</td>\n",
       "      <td>0.676</td>\n",
       "    </tr>\n",
       "    <tr>\n",
       "      <td>Q65</td>\n",
       "      <td>2</td>\n",
       "      <td>nato engagement strengthened capacity affirmed military professionalism</td>\n",
       "      <td>0.744</td>\n",
       "    </tr>\n",
       "    <tr>\n",
       "      <td>Q65</td>\n",
       "      <td>2</td>\n",
       "      <td>institutional reliability volatile region nato engagement strengthened</td>\n",
       "      <td>0.714</td>\n",
       "    </tr>\n",
       "    <tr>\n",
       "      <td>Q65</td>\n",
       "      <td>2</td>\n",
       "      <td>lot confidence armed forces confidence armed forces</td>\n",
       "      <td>0.708</td>\n",
       "    </tr>\n",
       "    <tr>\n",
       "      <td>Q65</td>\n",
       "      <td>3</td>\n",
       "      <td>peacekeeping operations offered lessons reflections reform csto</td>\n",
       "      <td>0.760</td>\n",
       "    </tr>\n",
       "    <tr>\n",
       "      <td>Q65</td>\n",
       "      <td>3</td>\n",
       "      <td>democratic norms participation nato peacekeeping operations</td>\n",
       "      <td>0.721</td>\n",
       "    </tr>\n",
       "    <tr>\n",
       "      <td>Q65</td>\n",
       "      <td>3</td>\n",
       "      <td>sharing policy accountability respect armed forces</td>\n",
       "      <td>0.629</td>\n",
       "    </tr>\n",
       "    <tr>\n",
       "      <td>Q65</td>\n",
       "      <td>4</td>\n",
       "      <td>partisan enforcement military alliances nato csto</td>\n",
       "      <td>0.704</td>\n",
       "    </tr>\n",
       "    <tr>\n",
       "      <td>Q65</td>\n",
       "      <td>4</td>\n",
       "      <td>confidence armed forces history politicized military</td>\n",
       "      <td>0.695</td>\n",
       "    </tr>\n",
       "    <tr>\n",
       "      <td>Q65</td>\n",
       "      <td>4</td>\n",
       "      <td>public trust demands renewed civilian oversight</td>\n",
       "      <td>0.580</td>\n",
       "    </tr>\n",
       "    <tr>\n",
       "      <td>Q69</td>\n",
       "      <td>1</td>\n",
       "      <td>service reflects rule law finest form peacekeeping</td>\n",
       "      <td>0.725</td>\n",
       "    </tr>\n",
       "    <tr>\n",
       "      <td>Q69</td>\n",
       "      <td>1</td>\n",
       "      <td>express confidence national police impartial</td>\n",
       "      <td>0.672</td>\n",
       "    </tr>\n",
       "    <tr>\n",
       "      <td>Q69</td>\n",
       "      <td>1</td>\n",
       "      <td>trust enforcement reflects integrity accountability equality moral</td>\n",
       "      <td>0.629</td>\n",
       "    </tr>\n",
       "    <tr>\n",
       "      <td>Q69</td>\n",
       "      <td>2</td>\n",
       "      <td>trust policing institutions acknowledge continued reforms peacekeeping</td>\n",
       "      <td>0.816</td>\n",
       "    </tr>\n",
       "    <tr>\n",
       "      <td>Q69</td>\n",
       "      <td>2</td>\n",
       "      <td>enforcement agencies shaped authority responsiveness serve peace</td>\n",
       "      <td>0.738</td>\n",
       "    </tr>\n",
       "    <tr>\n",
       "      <td>Q69</td>\n",
       "      <td>2</td>\n",
       "      <td>quite lot confidence police maintain strong</td>\n",
       "      <td>0.640</td>\n",
       "    </tr>\n",
       "    <tr>\n",
       "      <td>Q69</td>\n",
       "      <td>3</td>\n",
       "      <td>requiring oversight peacekeeping remains evolving instrument effective</td>\n",
       "      <td>0.726</td>\n",
       "    </tr>\n",
       "    <tr>\n",
       "      <td>Q69</td>\n",
       "      <td>3</td>\n",
       "      <td>confidence law enforcement measured acknowledging commendable efforts</td>\n",
       "      <td>0.648</td>\n",
       "    </tr>\n",
       "    <tr>\n",
       "      <td>Q69</td>\n",
       "      <td>3</td>\n",
       "      <td>trust power untested public order sustained solely</td>\n",
       "      <td>0.515</td>\n",
       "    </tr>\n",
       "    <tr>\n",
       "      <td>Q69</td>\n",
       "      <td>4</td>\n",
       "      <td>accountability misuse power urge reforms international peacekeeping</td>\n",
       "      <td>0.743</td>\n",
       "    </tr>\n",
       "    <tr>\n",
       "      <td>Q69</td>\n",
       "      <td>4</td>\n",
       "      <td>police country confidence police institutions</td>\n",
       "      <td>0.609</td>\n",
       "    </tr>\n",
       "    <tr>\n",
       "      <td>Q69</td>\n",
       "      <td>4</td>\n",
       "      <td>security inverted measure public trust presence</td>\n",
       "      <td>0.544</td>\n",
       "    </tr>\n",
       "    <tr>\n",
       "      <td>Q70</td>\n",
       "      <td>1</td>\n",
       "      <td>international court justice cornerstone global legal order</td>\n",
       "      <td>0.787</td>\n",
       "    </tr>\n",
       "    <tr>\n",
       "      <td>Q70</td>\n",
       "      <td>1</td>\n",
       "      <td>justice believe institutions justice national global</td>\n",
       "      <td>0.766</td>\n",
       "    </tr>\n",
       "    <tr>\n",
       "      <td>Q70</td>\n",
       "      <td>1</td>\n",
       "      <td>institutions justice national global reproach preserve trust</td>\n",
       "      <td>0.743</td>\n",
       "    </tr>\n",
       "    <tr>\n",
       "      <td>Q70</td>\n",
       "      <td>2</td>\n",
       "      <td>icc play significant role promoting global justice</td>\n",
       "      <td>0.770</td>\n",
       "    </tr>\n",
       "    <tr>\n",
       "      <td>Q70</td>\n",
       "      <td>2</td>\n",
       "      <td>transparency accountability international legal mechanisms including icc</td>\n",
       "      <td>0.723</td>\n",
       "    </tr>\n",
       "    <tr>\n",
       "      <td>Q70</td>\n",
       "      <td>2</td>\n",
       "      <td>disputes peacefully safeguarding human dignity justice verdict</td>\n",
       "      <td>0.672</td>\n",
       "    </tr>\n",
       "    <tr>\n",
       "      <td>Q70</td>\n",
       "      <td>3</td>\n",
       "      <td>international legal reflects unequal enforcement universal principles</td>\n",
       "      <td>0.677</td>\n",
       "    </tr>\n",
       "    <tr>\n",
       "      <td>Q70</td>\n",
       "      <td>3</td>\n",
       "      <td>justice judiciary functions independently growing concerns inconsistency</td>\n",
       "      <td>0.637</td>\n",
       "    </tr>\n",
       "    <tr>\n",
       "      <td>Q70</td>\n",
       "      <td>3</td>\n",
       "      <td>fairness trust eroded politicization legal legitimacy inherited</td>\n",
       "      <td>0.557</td>\n",
       "    </tr>\n",
       "    <tr>\n",
       "      <td>Q70</td>\n",
       "      <td>4</td>\n",
       "      <td>reckoning international rule law mean enforced impartially</td>\n",
       "      <td>0.657</td>\n",
       "    </tr>\n",
       "    <tr>\n",
       "      <td>Q70</td>\n",
       "      <td>4</td>\n",
       "      <td>atrocities committed globe continue evade meaningful legal</td>\n",
       "      <td>0.632</td>\n",
       "    </tr>\n",
       "    <tr>\n",
       "      <td>Q70</td>\n",
       "      <td>4</td>\n",
       "      <td>justice regions including courts seen neutral arbiters</td>\n",
       "      <td>0.576</td>\n",
       "    </tr>\n",
       "    <tr>\n",
       "      <td>Q152</td>\n",
       "      <td>1</td>\n",
       "      <td>economic expansion fundamental pathway national resilience prosperity</td>\n",
       "      <td>0.753</td>\n",
       "    </tr>\n",
       "    <tr>\n",
       "      <td>Q152</td>\n",
       "      <td>1</td>\n",
       "      <td>high level economic growth view sustained economic</td>\n",
       "      <td>0.670</td>\n",
       "    </tr>\n",
       "    <tr>\n",
       "      <td>Q152</td>\n",
       "      <td>1</td>\n",
       "      <td>global economy economic vitality engine</td>\n",
       "      <td>0.659</td>\n",
       "    </tr>\n",
       "    <tr>\n",
       "      <td>Q152</td>\n",
       "      <td>2</td>\n",
       "      <td>prioritize ensuring country strong defense forces affirm</td>\n",
       "      <td>0.800</td>\n",
       "    </tr>\n",
       "    <tr>\n",
       "      <td>Q152</td>\n",
       "      <td>2</td>\n",
       "      <td>capable national defense supports regional stability enables</td>\n",
       "      <td>0.740</td>\n",
       "    </tr>\n",
       "    <tr>\n",
       "      <td>Q152</td>\n",
       "      <td>2</td>\n",
       "      <td>prepared defense posture ensure sovereignty peace deterrence</td>\n",
       "      <td>0.737</td>\n",
       "    </tr>\n",
       "    <tr>\n",
       "      <td>Q152</td>\n",
       "      <td>3</td>\n",
       "      <td>local councils international forums reforming global governance</td>\n",
       "      <td>0.718</td>\n",
       "    </tr>\n",
       "    <tr>\n",
       "      <td>Q152</td>\n",
       "      <td>3</td>\n",
       "      <td>communities legitimacy governance depends meaningfully people</td>\n",
       "      <td>0.675</td>\n",
       "    </tr>\n",
       "    <tr>\n",
       "      <td>Q152</td>\n",
       "      <td>3</td>\n",
       "      <td>veto powers overdue empowering communities create solutions</td>\n",
       "      <td>0.671</td>\n",
       "    </tr>\n",
       "    <tr>\n",
       "      <td>Q152</td>\n",
       "      <td>4</td>\n",
       "      <td>planet children years come place beauty sustainability</td>\n",
       "      <td>0.709</td>\n",
       "    </tr>\n",
       "    <tr>\n",
       "      <td>Q152</td>\n",
       "      <td>4</td>\n",
       "      <td>ecosystems environmental integrity woven public policy rural</td>\n",
       "      <td>0.654</td>\n",
       "    </tr>\n",
       "    <tr>\n",
       "      <td>Q152</td>\n",
       "      <td>4</td>\n",
       "      <td>biodiversity combat environmental degradation ensure intergenerational justice</td>\n",
       "      <td>0.622</td>\n",
       "    </tr>\n",
       "    <tr>\n",
       "      <td>Q154</td>\n",
       "      <td>1</td>\n",
       "      <td>stability public order remain unshaken corner nation</td>\n",
       "      <td>0.731</td>\n",
       "    </tr>\n",
       "    <tr>\n",
       "      <td>Q154</td>\n",
       "      <td>1</td>\n",
       "      <td>maintaining order nation utmost importance</td>\n",
       "      <td>0.667</td>\n",
       "    </tr>\n",
       "    <tr>\n",
       "      <td>Q154</td>\n",
       "      <td>1</td>\n",
       "      <td>internal cohesion abstract virtue prerequisite enduring peace</td>\n",
       "      <td>0.584</td>\n",
       "    </tr>\n",
       "    <tr>\n",
       "      <td>Q154</td>\n",
       "      <td>2</td>\n",
       "      <td>voice global decision making including fairer multilateral</td>\n",
       "      <td>0.659</td>\n",
       "    </tr>\n",
       "    <tr>\n",
       "      <td>Q154</td>\n",
       "      <td>2</td>\n",
       "      <td>govern internationally support reforms enhance collective voice</td>\n",
       "      <td>0.657</td>\n",
       "    </tr>\n",
       "    <tr>\n",
       "      <td>Q154</td>\n",
       "      <td>2</td>\n",
       "      <td>importance expanding civic channels ensure citizen feels</td>\n",
       "      <td>0.593</td>\n",
       "    </tr>\n",
       "    <tr>\n",
       "      <td>Q154</td>\n",
       "      <td>3</td>\n",
       "      <td>countries suffocated price shocks control rise dignity</td>\n",
       "      <td>0.746</td>\n",
       "    </tr>\n",
       "    <tr>\n",
       "      <td>Q154</td>\n",
       "      <td>3</td>\n",
       "      <td>coordination ensure developing countries suffocated price</td>\n",
       "      <td>0.728</td>\n",
       "    </tr>\n",
       "    <tr>\n",
       "      <td>Q154</td>\n",
       "      <td>3</td>\n",
       "      <td>fighting rising prices utmost importance</td>\n",
       "      <td>0.627</td>\n",
       "    </tr>\n",
       "    <tr>\n",
       "      <td>Q154</td>\n",
       "      <td>4</td>\n",
       "      <td>protecting freedom speech utmost importance society censors</td>\n",
       "      <td>0.789</td>\n",
       "    </tr>\n",
       "    <tr>\n",
       "      <td>Q154</td>\n",
       "      <td>4</td>\n",
       "      <td>dissent disloyalty open discourse strength threat international</td>\n",
       "      <td>0.708</td>\n",
       "    </tr>\n",
       "    <tr>\n",
       "      <td>Q154</td>\n",
       "      <td>4</td>\n",
       "      <td>international law continue safeguard journalists writers thinkers</td>\n",
       "      <td>0.667</td>\n",
       "    </tr>\n",
       "  </tbody>\n",
       "</table>"
      ],
      "text/plain": [
       "<IPython.core.display.HTML object>"
      ]
     },
     "metadata": {},
     "output_type": "display_data"
    },
    {
     "name": "stdout",
     "output_type": "stream",
     "text": [
      "LaTeX table saved as keybert_keyphrases_table.tex\n"
     ]
    }
   ],
   "source": [
    "import json\n",
    "import pandas as pd\n",
    "import os\n",
    "from IPython.display import display, HTML\n",
    "\n",
    "# Map question keys to their JSON paths (adjust as needed)\n",
    "json_paths = {\n",
    "    'q8': '../q8_pipeline/logs_and_metrics/keybert_keyphrases.json',\n",
    "    'q11': '../q11_pipeline/logs_and_metrics/keybert_keyphrases.json',\n",
    "    'q17': '../q17_pipeline/logs_and_metrics/keybert_keyphrases.json',\n",
    "    'q65': '../q65_pipeline/logs_and_metrics/keybert_keyphrases.json',\n",
    "    'q69': '../q69_pipeline/logs_and_metrics/keybert_keyphrases.json',\n",
    "    'q70': '../q70_pipeline/logs_and_metrics/keybert_keyphrases.json',\n",
    "    'q152': '../q152_q153_pipeline/logs_and_metrics/keybert_keyphrases.json',\n",
    "    'q154': '../q154_q155_pipeline/logs_and_metrics/keybert_keyphrases.json',\n",
    "}\n",
    "\n",
    "# Read all JSONs and extract keyphrases into a DataFrame\n",
    "records = []\n",
    "\n",
    "for q_key, path in json_paths.items():\n",
    "    if not os.path.exists(path):\n",
    "        print(f\"Warning: File not found for {q_key}: {path}\")\n",
    "        continue\n",
    "    with open(path, 'r', encoding='utf-8') as f:\n",
    "        data = json.load(f)\n",
    "    # data is dict: label -> list of {\"phrase\":..., \"score\":...}\n",
    "    for label, keyphrases_list in data.items():\n",
    "        # Extract the number part after underscore, fallback to label if no underscore\n",
    "        response_label = label.split('_')[-1] if '_' in label else label\n",
    "        for item in keyphrases_list:\n",
    "            records.append({\n",
    "                'Question': q_key.upper(),\n",
    "                'Response': response_label,\n",
    "                'Keyphrase': item['phrase'],\n",
    "                'Cosine Similarity Score': item['score'],\n",
    "            })\n",
    "\n",
    "keyphrases = pd.DataFrame(records)\n",
    "\n",
    "# Reset index permanently (drop old index)\n",
    "keyphrases = keyphrases.reset_index(drop=True)\n",
    "\n",
    "# Ensure full column content is displayed (no truncation)\n",
    "pd.set_option('display.max_colwidth', None)\n",
    "pd.set_option('display.max_rows', None)\n",
    "\n",
    "# Display the DataFrame fully without index column\n",
    "display(HTML(keyphrases.to_html(index=False)))\n",
    "\n",
    "# Save as LaTeX with 3 decimals, no index, column format for 4 columns: Question, Response_Label, Keyphrase, Score\n",
    "keyphrases.to_latex(\n",
    "    'keybert_keyphrases_table.tex',\n",
    "    index=False,\n",
    "    longtable=True,\n",
    "    caption=\"Extracted KeyBERT Keyphrases by Question and Response Label\",\n",
    "    label=\"tab:keybert_keyphrases\",\n",
    "    float_format=\"%.3f\",\n",
    "    column_format=\"lllr\",\n",
    "    escape=True\n",
    ")\n",
    "\n",
    "print(\"LaTeX table saved as keybert_keyphrases_table.tex\")\n"
   ]
  },
  {
   "cell_type": "code",
   "execution_count": 65,
   "id": "b77a34b5",
   "metadata": {},
   "outputs": [
    {
     "data": {
      "text/html": [
       "<table border=\"1\" class=\"dataframe\">\n",
       "  <thead>\n",
       "    <tr style=\"text-align: right;\">\n",
       "      <th>Question</th>\n",
       "      <th>Response</th>\n",
       "      <th>Response Hypothesis</th>\n",
       "      <th>Adapted Hypothesis I</th>\n",
       "      <th>Adapted Hypothesis II</th>\n",
       "      <th>Adapted Hypothesis III</th>\n",
       "    </tr>\n",
       "  </thead>\n",
       "  <tbody>\n",
       "    <tr>\n",
       "      <td>Q8</td>\n",
       "      <td>1</td>\n",
       "      <td>it is important for children to be independent.</td>\n",
       "      <td>We believe that nurturing the capacity to act autonomously is central to human dignity.</td>\n",
       "      <td>In our view, societies flourish when individuals are trusted to make decisions for themselves.</td>\n",
       "      <td>Empowering each person to think, choose, and act independently remains a cornerstone of our values.</td>\n",
       "    </tr>\n",
       "    <tr>\n",
       "      <td>Q8</td>\n",
       "      <td>2</td>\n",
       "      <td>it is not important for children to be independent.</td>\n",
       "      <td>We place greater value on collective responsibility than on isolated personal autonomy.</td>\n",
       "      <td>In our society, interdependence and mutual care take precedence over individual separation.</td>\n",
       "      <td>A strong moral compass is shaped not in solitary assertion, but through shared obligations.</td>\n",
       "    </tr>\n",
       "    <tr>\n",
       "      <td>Q11</td>\n",
       "      <td>1</td>\n",
       "      <td>it is important for children to be imaginative.</td>\n",
       "      <td>We welcome the unfamiliar not as a threat, but as a prompt to expand the limits of our collective understanding.</td>\n",
       "      <td>It is often in the absence of fixed answers that the deepest forms of insight begin to take shape.</td>\n",
       "      <td>Our growth as a society depends on those moments when curiosity is permitted to exceed instruction.</td>\n",
       "    </tr>\n",
       "    <tr>\n",
       "      <td>Q11</td>\n",
       "      <td>2</td>\n",
       "      <td>it is not important for children to be imaginative.</td>\n",
       "      <td>In our experience, the most reliable outcomes arise from the mastery of what already endures.</td>\n",
       "      <td>We find that consistency secures the trust that communities depend upon.</td>\n",
       "      <td>Order does not emerge from flights of speculation, but from careful repetition and restraint.</td>\n",
       "    </tr>\n",
       "    <tr>\n",
       "      <td>Q17</td>\n",
       "      <td>1</td>\n",
       "      <td>it is important for children to be obedient.</td>\n",
       "      <td>A well-ordered society begins with those who understand when to listen and when to yield.</td>\n",
       "      <td>The strength of institutions lies in the ability of individuals to respect boundaries not drawn by themselves.</td>\n",
       "      <td>There is merit in restraint, especially when it reflects shared purpose over personal impulse.</td>\n",
       "    </tr>\n",
       "    <tr>\n",
       "      <td>Q17</td>\n",
       "      <td>2</td>\n",
       "      <td>it is not important for children to be obedient.</td>\n",
       "      <td>The ability to question, rather than to submit, is the foundation of true civic responsibility.</td>\n",
       "      <td>Progress has never been the reward of silence, but of principled deviation from the expected.</td>\n",
       "      <td>We find that the healthiest societies are those in which compliance is earned, not assumed.</td>\n",
       "    </tr>\n",
       "    <tr>\n",
       "      <td>Q70</td>\n",
       "      <td>1</td>\n",
       "      <td>one has a great deal of confidence in the justice system.</td>\n",
       "      <td>Our judiciary continues to serve as an impartial guardian of our constitutional values and civil liberties.</td>\n",
       "      <td>We uphold and support the International Court of Justice as a cornerstone of the global legal order.</td>\n",
       "      <td>The international rule of law remains a compass that guides our actions and underpins mutual respect among states.</td>\n",
       "    </tr>\n",
       "    <tr>\n",
       "      <td>Q70</td>\n",
       "      <td>2</td>\n",
       "      <td>one has quite a lot of confidence in the justice system.</td>\n",
       "      <td>Our courts enjoy considerable public confidence, though we continue to strengthen legal transparency and accountability.</td>\n",
       "      <td>International legal mechanisms, including the ICC, play a significant role in promoting global justice when applied with fairness.</td>\n",
       "      <td>Adherence to the international rule of law is vital to resolving disputes peacefully and safeguarding human dignity.</td>\n",
       "    </tr>\n",
       "    <tr>\n",
       "      <td>Q70</td>\n",
       "      <td>3</td>\n",
       "      <td>one has some confidence in the justice system.</td>\n",
       "      <td>While our judiciary functions independently, there are growing concerns over inconsistency and access to legal redress.</td>\n",
       "      <td>Many continue to believe that the international legal system reflects unequal enforcement rather than universal principles.</td>\n",
       "      <td>Calls for greater conformity to the international rule of law must be met with institutional humility and reform.</td>\n",
       "    </tr>\n",
       "    <tr>\n",
       "      <td>Q70</td>\n",
       "      <td>4</td>\n",
       "      <td>one has little or no confidence in the justice system.</td>\n",
       "      <td>In many regions, including our own, courts are seen less as neutral arbiters and more as extensions of political authority.</td>\n",
       "      <td>We express concern that atrocities committed across the globe continue to evade meaningful legal reckoning.</td>\n",
       "      <td>If the international rule of law is to mean anything, it must be enforced impartially and without exception.</td>\n",
       "    </tr>\n",
       "  </tbody>\n",
       "</table>"
      ],
      "text/plain": [
       "<IPython.core.display.HTML object>"
      ]
     },
     "metadata": {},
     "output_type": "display_data"
    },
    {
     "name": "stdout",
     "output_type": "stream",
     "text": [
      "Saved as hypotheses.tex\n"
     ]
    }
   ],
   "source": [
    "import json\n",
    "import pandas as pd\n",
    "import os\n",
    "import random\n",
    "from IPython.display import display, HTML\n",
    "\n",
    "# Paths for keyphrase JSONs by question\n",
    "json_paths = {\n",
    "    'q8': '../q8_pipeline/logs_and_metrics/keybert_keyphrases.json',\n",
    "    'q11': '../q11_pipeline/logs_and_metrics/keybert_keyphrases.json',\n",
    "    'q17': '../q17_pipeline/logs_and_metrics/keybert_keyphrases.json',\n",
    "    'q65': '../q65_pipeline/logs_and_metrics/keybert_keyphrases.json',\n",
    "    'q69': '../q69_pipeline/logs_and_metrics/keybert_keyphrases.json',\n",
    "    'q70': '../q70_pipeline/logs_and_metrics/keybert_keyphrases.json',\n",
    "    'q152': '../q152_q153_pipeline/logs_and_metrics/keybert_keyphrases.json',\n",
    "    'q154': '../q154_q155_pipeline/logs_and_metrics/keybert_keyphrases.json',\n",
    "}\n",
    "\n",
    "# Base folder for CSVs\n",
    "csv_folders = {\n",
    "    'q8': '../q8_pipeline',\n",
    "    'q11': '../q11_pipeline',\n",
    "    'q17': '../q17_pipeline',\n",
    "    'q65': '../q65_pipeline',\n",
    "    'q69': '../q69_pipeline',\n",
    "    'q70': '../q70_pipeline',\n",
    "    'q152': '../q152_q153_pipeline',\n",
    "    'q154': '../q154_q155_pipeline',\n",
    "}\n",
    "\n",
    "# Load all keyphrase records\n",
    "records = []\n",
    "\n",
    "for q, path in json_paths.items():\n",
    "    if not os.path.exists(path):\n",
    "        print(f\"Warning: {path} not found.\")\n",
    "        continue\n",
    "    with open(path, 'r', encoding='utf-8') as f:\n",
    "        data = json.load(f)\n",
    "    for label, phrases_list in data.items():\n",
    "        resp_label = label.split('_')[-1] if '_' in label else label\n",
    "        for item in phrases_list:\n",
    "            records.append({\n",
    "                'Question': q.upper(),\n",
    "                'Response': resp_label,\n",
    "                'Keyphrase': item['phrase'],\n",
    "                'Score': item['score'],\n",
    "            })\n",
    "\n",
    "phrases = pd.DataFrame(records).reset_index(drop=True)\n",
    "\n",
    "# Function to load response & adapted hypotheses for each question/response label\n",
    "def load_hypotheses(question, resp_label):\n",
    "    csv_path = os.path.join(csv_folders[question.lower()], f\"{question.upper()}_mmr_selected_labeled_combined.csv\")\n",
    "    if not os.path.exists(csv_path):\n",
    "        print(f\"CSV file missing: {csv_path}\")\n",
    "        return [None]*6  # Response hypothesis + 3 adapted hypotheses\n",
    "    df = pd.read_csv(csv_path)\n",
    "    full_label = f\"{question.upper()}_{resp_label}\"\n",
    "\n",
    "    resp_hypos = df.loc[df['combined_label'] == full_label, 'response_hypothesis'].dropna().unique()\n",
    "    resp_hypo = resp_hypos[0] if len(resp_hypos) > 0 else None\n",
    "\n",
    "    adapted_hypos = df.loc[df['combined_label'] == full_label, 'adapted_hypotheses'].dropna().unique()\n",
    "    if len(adapted_hypos) == 0:\n",
    "        adapted_split = [None]*3\n",
    "    else:\n",
    "        adapted_split = adapted_hypos[0].split('|')\n",
    "        adapted_split += [None]*(3 - len(adapted_split))\n",
    "        adapted_split = adapted_split[:3]\n",
    "\n",
    "    return [resp_hypo] + adapted_split\n",
    "\n",
    "# Get unique questions and sample 3 randomly (without replacement)\n",
    "all_questions = list(json_paths.keys())\n",
    "random.seed(42)  # For reproducibility\n",
    "sampled_questions = random.sample(all_questions, 4)\n",
    "\n",
    "# Filter phrases DataFrame to sampled questions only\n",
    "phrases_sampled = phrases[phrases['Question'].str.lower().isin(sampled_questions)]\n",
    "\n",
    "# Collect unique question-response pairs from sampled questions\n",
    "unique_pairs = phrases_sampled[['Question', 'Response']].drop_duplicates().itertuples(index=False, name=None)\n",
    "\n",
    "# Build hypothesis records for sampled questions only\n",
    "hypothesis_records = []\n",
    "for q, resp in unique_pairs:\n",
    "    hyp = load_hypotheses(q, resp)\n",
    "    hypothesis_records.append({\n",
    "        'Question': q,\n",
    "        'Response': resp,\n",
    "        'Response Hypothesis': hyp[0],\n",
    "        'Adapted Hypothesis I': hyp[1],\n",
    "        'Adapted Hypothesis II': hyp[2],\n",
    "        'Adapted Hypothesis III': hyp[3]\n",
    "    })\n",
    "\n",
    "hypotheses = pd.DataFrame(hypothesis_records)\n",
    "\n",
    "# Display full table with no index column and full content visible\n",
    "pd.set_option('display.max_colwidth', None)\n",
    "pd.set_option('display.max_rows', None)\n",
    "\n",
    "display(HTML(hypotheses.to_html(index=False)))\n",
    "\n",
    "# Save to LaTeX using the original filename 'hypotheses.tex'\n",
    "hypotheses.to_latex(\n",
    "    'hypotheses.tex',\n",
    "    index=False,\n",
    "    longtable=True,\n",
    "    caption=\"Response and Adapted Hypotheses by Question and Response (Sampled)\",\n",
    "    label=\"tab:hypotheses\",\n",
    "    escape=True\n",
    ")\n",
    "\n",
    "print(\"Saved as hypotheses.tex\")\n"
   ]
  },
  {
   "cell_type": "code",
   "execution_count": 52,
   "id": "005b7e2b",
   "metadata": {},
   "outputs": [
    {
     "data": {
      "text/html": [
       "<table border=\"1\" class=\"dataframe\">\n",
       "  <thead>\n",
       "    <tr style=\"text-align: right;\">\n",
       "      <th>Question</th>\n",
       "      <th>Response</th>\n",
       "      <th>Keyphrase</th>\n",
       "      <th>Cosine Similarity Score with Grouped Hypotheses</th>\n",
       "      <th>Keyphrase Count</th>\n",
       "    </tr>\n",
       "  </thead>\n",
       "  <tbody>\n",
       "    <tr>\n",
       "      <td>Q8</td>\n",
       "      <td>1</td>\n",
       "      <td>raising children navigate life independence responsibility</td>\n",
       "      <td>0.8075</td>\n",
       "      <td>3</td>\n",
       "    </tr>\n",
       "    <tr>\n",
       "      <td>Q8</td>\n",
       "      <td>2</td>\n",
       "      <td>personal independence harmony social fabric teach children</td>\n",
       "      <td>0.7389</td>\n",
       "      <td>3</td>\n",
       "    </tr>\n",
       "    <tr>\n",
       "      <td>Q11</td>\n",
       "      <td>1</td>\n",
       "      <td>unpredictability necessary aspires evolve encourage children explore unanswered</td>\n",
       "      <td>0.7525</td>\n",
       "      <td>1</td>\n",
       "    </tr>\n",
       "    <tr>\n",
       "      <td>Q11</td>\n",
       "      <td>2</td>\n",
       "      <td>prioritize traditions require reinvention retain value children gain</td>\n",
       "      <td>0.6845</td>\n",
       "      <td>1</td>\n",
       "    </tr>\n",
       "    <tr>\n",
       "      <td>Q17</td>\n",
       "      <td>1</td>\n",
       "      <td>children discipline limitation path collective dignity obedient</td>\n",
       "      <td>0.8202</td>\n",
       "      <td>3</td>\n",
       "    </tr>\n",
       "    <tr>\n",
       "      <td>Q17</td>\n",
       "      <td>2</td>\n",
       "      <td>important children obedient ability question submit</td>\n",
       "      <td>0.7707</td>\n",
       "      <td>3</td>\n",
       "    </tr>\n",
       "    <tr>\n",
       "      <td>Q65</td>\n",
       "      <td>1</td>\n",
       "      <td>national unity resilience reaffirm unwavering trust military</td>\n",
       "      <td>0.7167</td>\n",
       "      <td>3</td>\n",
       "    </tr>\n",
       "    <tr>\n",
       "      <td>Q65</td>\n",
       "      <td>2</td>\n",
       "      <td>nato engagement strengthened capacity affirmed military professionalism</td>\n",
       "      <td>0.7436</td>\n",
       "      <td>3</td>\n",
       "    </tr>\n",
       "    <tr>\n",
       "      <td>Q65</td>\n",
       "      <td>3</td>\n",
       "      <td>peacekeeping operations offered lessons reflections reform csto</td>\n",
       "      <td>0.7599</td>\n",
       "      <td>3</td>\n",
       "    </tr>\n",
       "    <tr>\n",
       "      <td>Q65</td>\n",
       "      <td>4</td>\n",
       "      <td>partisan enforcement military alliances nato csto</td>\n",
       "      <td>0.7039</td>\n",
       "      <td>3</td>\n",
       "    </tr>\n",
       "    <tr>\n",
       "      <td>Q69</td>\n",
       "      <td>1</td>\n",
       "      <td>service reflects rule law finest form peacekeeping</td>\n",
       "      <td>0.7245</td>\n",
       "      <td>3</td>\n",
       "    </tr>\n",
       "    <tr>\n",
       "      <td>Q69</td>\n",
       "      <td>2</td>\n",
       "      <td>trust policing institutions acknowledge continued reforms peacekeeping</td>\n",
       "      <td>0.8163</td>\n",
       "      <td>3</td>\n",
       "    </tr>\n",
       "    <tr>\n",
       "      <td>Q69</td>\n",
       "      <td>3</td>\n",
       "      <td>requiring oversight peacekeeping remains evolving instrument effective</td>\n",
       "      <td>0.7263</td>\n",
       "      <td>3</td>\n",
       "    </tr>\n",
       "    <tr>\n",
       "      <td>Q69</td>\n",
       "      <td>4</td>\n",
       "      <td>accountability misuse power urge reforms international peacekeeping</td>\n",
       "      <td>0.7425</td>\n",
       "      <td>3</td>\n",
       "    </tr>\n",
       "    <tr>\n",
       "      <td>Q70</td>\n",
       "      <td>1</td>\n",
       "      <td>international court justice cornerstone global legal order</td>\n",
       "      <td>0.7872</td>\n",
       "      <td>3</td>\n",
       "    </tr>\n",
       "    <tr>\n",
       "      <td>Q70</td>\n",
       "      <td>2</td>\n",
       "      <td>icc play significant role promoting global justice</td>\n",
       "      <td>0.7700</td>\n",
       "      <td>3</td>\n",
       "    </tr>\n",
       "    <tr>\n",
       "      <td>Q70</td>\n",
       "      <td>3</td>\n",
       "      <td>international legal reflects unequal enforcement universal principles</td>\n",
       "      <td>0.6774</td>\n",
       "      <td>3</td>\n",
       "    </tr>\n",
       "    <tr>\n",
       "      <td>Q70</td>\n",
       "      <td>4</td>\n",
       "      <td>reckoning international rule law mean enforced impartially</td>\n",
       "      <td>0.6567</td>\n",
       "      <td>3</td>\n",
       "    </tr>\n",
       "    <tr>\n",
       "      <td>Q152</td>\n",
       "      <td>1</td>\n",
       "      <td>economic expansion fundamental pathway national resilience prosperity</td>\n",
       "      <td>0.7527</td>\n",
       "      <td>3</td>\n",
       "    </tr>\n",
       "    <tr>\n",
       "      <td>Q152</td>\n",
       "      <td>2</td>\n",
       "      <td>prioritize ensuring country strong defense forces affirm</td>\n",
       "      <td>0.8004</td>\n",
       "      <td>3</td>\n",
       "    </tr>\n",
       "    <tr>\n",
       "      <td>Q152</td>\n",
       "      <td>3</td>\n",
       "      <td>local councils international forums reforming global governance</td>\n",
       "      <td>0.7180</td>\n",
       "      <td>3</td>\n",
       "    </tr>\n",
       "    <tr>\n",
       "      <td>Q152</td>\n",
       "      <td>4</td>\n",
       "      <td>planet children years come place beauty sustainability</td>\n",
       "      <td>0.7093</td>\n",
       "      <td>3</td>\n",
       "    </tr>\n",
       "    <tr>\n",
       "      <td>Q154</td>\n",
       "      <td>1</td>\n",
       "      <td>stability public order remain unshaken corner nation</td>\n",
       "      <td>0.7313</td>\n",
       "      <td>3</td>\n",
       "    </tr>\n",
       "    <tr>\n",
       "      <td>Q154</td>\n",
       "      <td>2</td>\n",
       "      <td>voice global decision making including fairer multilateral</td>\n",
       "      <td>0.6586</td>\n",
       "      <td>3</td>\n",
       "    </tr>\n",
       "    <tr>\n",
       "      <td>Q154</td>\n",
       "      <td>3</td>\n",
       "      <td>countries suffocated price shocks control rise dignity</td>\n",
       "      <td>0.7462</td>\n",
       "      <td>3</td>\n",
       "    </tr>\n",
       "    <tr>\n",
       "      <td>Q154</td>\n",
       "      <td>4</td>\n",
       "      <td>protecting freedom speech utmost importance society censors</td>\n",
       "      <td>0.7890</td>\n",
       "      <td>3</td>\n",
       "    </tr>\n",
       "  </tbody>\n",
       "</table>"
      ],
      "text/plain": [
       "<IPython.core.display.HTML object>"
      ]
     },
     "metadata": {},
     "output_type": "display_data"
    },
    {
     "name": "stdout",
     "output_type": "stream",
     "text": [
      "Saved as keyphrase_examples.tex\n"
     ]
    }
   ],
   "source": [
    "import json\n",
    "import pandas as pd\n",
    "import os\n",
    "from IPython.display import display, HTML\n",
    "\n",
    "# Paths for keyphrase JSONs by question\n",
    "json_paths = {\n",
    "    'q8': '../q8_pipeline/logs_and_metrics/keybert_keyphrases.json',\n",
    "    'q11': '../q11_pipeline/logs_and_metrics/keybert_keyphrases.json',\n",
    "    'q17': '../q17_pipeline/logs_and_metrics/keybert_keyphrases.json',\n",
    "    'q65': '../q65_pipeline/logs_and_metrics/keybert_keyphrases.json',\n",
    "    'q69': '../q69_pipeline/logs_and_metrics/keybert_keyphrases.json',\n",
    "    'q70': '../q70_pipeline/logs_and_metrics/keybert_keyphrases.json',\n",
    "    'q152': '../q152_q153_pipeline/logs_and_metrics/keybert_keyphrases.json',\n",
    "    'q154': '../q154_q155_pipeline/logs_and_metrics/keybert_keyphrases.json',\n",
    "}\n",
    "\n",
    "# Load keyphrases into a DataFrame\n",
    "records = []\n",
    "\n",
    "for q, path in json_paths.items():\n",
    "    if not os.path.exists(path):\n",
    "        print(f\"Warning: {path} not found.\")\n",
    "        continue\n",
    "    with open(path, 'r', encoding='utf-8') as f:\n",
    "        data = json.load(f)\n",
    "    for label, phrases_list in data.items():\n",
    "        resp_label = label.split('_')[-1] if '_' in label else label\n",
    "        for item in phrases_list:\n",
    "            records.append({\n",
    "                'Question': q.upper(),\n",
    "                'Response': resp_label,\n",
    "                'Keyphrase': item['phrase'],\n",
    "                'Cosine Similarity Score with Grouped Hypotheses': item['score'],\n",
    "            })\n",
    "\n",
    "keyphrases_simple = pd.DataFrame(records).reset_index(drop=True)\n",
    "\n",
    "# Compute number of keyphrases per Question-Response group\n",
    "counts = keyphrases_simple.groupby(['Question', 'Response']).size().reset_index(name='Keyphrase Count')\n",
    "\n",
    "# Merge counts back\n",
    "keyphrases_simple = keyphrases_simple.merge(counts, on=['Question', 'Response'])\n",
    "\n",
    "# Select only the first keyphrase example per group (by appearance order)\n",
    "keyphrases_one_example = keyphrases_simple.groupby(['Question', 'Response']).first().reset_index()\n",
    "\n",
    "# Reorder columns to put count at the end\n",
    "cols = ['Question', 'Response', 'Keyphrase', 'Cosine Similarity Score with Grouped Hypotheses', 'Keyphrase Count']\n",
    "keyphrases_one_example = keyphrases_one_example[cols]\n",
    "\n",
    "# Define custom sort order for Question\n",
    "custom_order = ['Q8', 'Q11', 'Q17', 'Q65', 'Q69', 'Q70', 'Q152', 'Q154']\n",
    "keyphrases_one_example['Question'] = pd.Categorical(keyphrases_one_example['Question'], categories=custom_order, ordered=True)\n",
    "\n",
    "# Sort by Question ascending and Response ascending\n",
    "keyphrases_one_example = keyphrases_one_example.sort_values(['Question', 'Response'], ascending=[True, True]).reset_index(drop=True)\n",
    "\n",
    "# Display full table with no index column and full content visible\n",
    "pd.set_option('display.max_colwidth', None)\n",
    "pd.set_option('display.max_rows', None)\n",
    "\n",
    "display(HTML(keyphrases_one_example.to_html(index=False)))\n",
    "\n",
    "# Save to LaTeX\n",
    "keyphrases_one_example.to_latex(\n",
    "    'keyphrase_examples.tex',\n",
    "    index=False,\n",
    "    longtable=True,\n",
    "    caption=\"Keyphrase Example per Question and Response\",\n",
    "    label=\"tab:keyphrases_one_example_count_ordered\",\n",
    "    float_format=\"%.3f\",\n",
    "    column_format=\"lllrl\",\n",
    "    escape=True\n",
    ")\n",
    "\n",
    "print(\"Saved as keyphrase_examples.tex\")\n"
   ]
  },
  {
   "cell_type": "code",
   "execution_count": 51,
   "id": "8ee5ee86",
   "metadata": {},
   "outputs": [
    {
     "name": "stdout",
     "output_type": "stream",
     "text": [
      "Q155: UNGD vs. UNSG Speeches and WVS Responses — Aggregated by Country\n"
     ]
    },
    {
     "data": {
      "image/png": "[encoded data removed]",
      "text/plain": [
       "<Figure size 900x1830 with 1 Axes>"
      ]
     },
     "metadata": {},
     "output_type": "display_data"
    }
   ],
   "source": [
    "import pandas as pd\n",
    "import numpy as np\n",
    "import matplotlib.pyplot as plt\n",
    "import matplotlib.colors as mc\n",
    "import pycountry_convert as pc\n",
    "import warnings, os, re\n",
    "from matplotlib.patches import Patch\n",
    "\n",
    "\n",
    "# =========================\n",
    "# Global style\n",
    "# =========================\n",
    "warnings.simplefilter(action='ignore', category=FutureWarning)\n",
    "plt.rcParams['axes.grid']       = False\n",
    "plt.rcParams['font.family']     = 'Times New Roman'\n",
    "plt.rcParams['axes.titlesize']  = 14\n",
    "plt.rcParams['axes.labelsize']  = 12\n",
    "plt.rcParams['xtick.labelsize'] = 10\n",
    "plt.rcParams['ytick.labelsize'] = 10\n",
    "\n",
    "# =========================\n",
    "# USER CONFIG (placeholders)\n",
    "# =========================\n",
    "QUESTION_ID  = \"Q155\"  # e.g., \"Q152\", \"Q153\", etc.\n",
    "SAMPLE_N     = None      \n",
    "RANDOM_STATE = 123\n",
    "METRIC       = 'js'\n",
    "FIG_NAME     = f\"lean_plot_{QUESTION_ID.lower()}_aggregated_sample{SAMPLE_N if SAMPLE_N is not None else 'all'}.png\"\n",
    "WVS_PATH     = r\"C:\\Users\\secki\\OneDrive\\Desktop\\MY498 Capstone Under Supervision\\WVS Wave 7 Full Package for EFA\\F00010736-WVS_Cross-National_Wave_7_rdata_v6_0\\wvs7_full_data.csv\"\n",
    "\n",
    "# Region color palette (customize if you want)\n",
    "REGION_COLORS = {\n",
    "    'Africa':'#d62728', 'Asia':'#2ca02c', 'Europe':'#1f77b4',\n",
    "    'North America':'#ff7f0e', 'South America':'#9467bd',\n",
    "    'Oceania':'#8c564b', 'Antarctica':'#e377c2',\n",
    "    'Other':'#7f7f7f', 'Unknown':'#7f7f7f'\n",
    "}\n",
    "\n",
    "# =========================\n",
    "# Pipeline + prediction file mapping\n",
    "# =========================\n",
    "if QUESTION_ID in [\"Q152\", \"Q153\"]:\n",
    "    PIPELINE_FOLDER = \"q152_q153_pipeline\"\n",
    "elif QUESTION_ID in [\"Q154\", \"Q155\"]:\n",
    "    PIPELINE_FOLDER = \"q154_q155_pipeline\"\n",
    "elif QUESTION_ID in [\"Q8\", \"Q11\", \"Q17\", \"Q65\", \"Q69\", \"Q70\"]:\n",
    "    PIPELINE_FOLDER = f\"{QUESTION_ID.lower()}_pipeline\"\n",
    "else:\n",
    "    raise ValueError(f\"No pipeline mapping defined for {QUESTION_ID}\")\n",
    "\n",
    "# For Q153/Q155, read base predictions from Q152/Q154\n",
    "if QUESTION_ID == \"Q153\":\n",
    "    PRED_BASE = \"Q152\"\n",
    "elif QUESTION_ID == \"Q155\":\n",
    "    PRED_BASE = \"Q154\"\n",
    "else:\n",
    "    PRED_BASE = QUESTION_ID\n",
    "\n",
    "PREFIX = f\"{QUESTION_ID}_\"\n",
    "\n",
    "file_path_filtered = f'../{PIPELINE_FOLDER}/predictions/{PRED_BASE.lower()}_predictions_filtered.csv'\n",
    "file_path_unsg     = f'../{PIPELINE_FOLDER}/predictions/{PRED_BASE.lower()}_predictions_ungs.csv'\n",
    "if not os.path.exists(file_path_filtered):\n",
    "    raise FileNotFoundError(f\"Missing: {file_path_filtered}\")\n",
    "if not os.path.exists(file_path_unsg):\n",
    "    raise FileNotFoundError(f\"Missing: {file_path_unsg}\")\n",
    "\n",
    "# =========================\n",
    "# Helpers\n",
    "# =========================\n",
    "def qcols(df, prefix):\n",
    "    return [c for c in df.columns if isinstance(c, str) and c.startswith(prefix)]\n",
    "\n",
    "def normalize_rows(df, cols):\n",
    "    arr = df[cols].to_numpy(dtype=float)\n",
    "    arr = np.nan_to_num(arr, nan=0.0)\n",
    "    arr[arr < 0] = 0.0\n",
    "    row_sums = arr.sum(axis=1, keepdims=True)\n",
    "    row_sums[row_sums == 0] = 1.0\n",
    "    df[cols] = arr / row_sums\n",
    "    return df\n",
    "\n",
    "def normalize_vec(v):\n",
    "    v = np.asarray(v, float)\n",
    "    v = np.where(np.isfinite(v), v, 0.0)\n",
    "    v[v < 0] = 0.0\n",
    "    s = v.sum()\n",
    "    return v / s if s > 0 else v\n",
    "\n",
    "def js_divergence(p, q):\n",
    "    p = np.asarray(p, float); q = np.asarray(q, float)\n",
    "    p = np.nan_to_num(p, nan=1e-12); q = np.nan_to_num(q, nan=1e-12)\n",
    "    m = 0.5 * (p + q)\n",
    "    def kl(a, b):\n",
    "        mask = (a > 0) & (b > 0)\n",
    "        return float(np.sum(a[mask] * np.log2(a[mask] / b[mask])))\n",
    "    return 0.5 * (kl(p, m) + kl(q, m))\n",
    "\n",
    "def add_region(df, iso3_col='B_COUNTRY_ALPHA'):\n",
    "    def _region(iso3):\n",
    "        try:\n",
    "            iso2 = pc.country_alpha3_to_country_alpha2(iso3)\n",
    "            cc = pc.country_alpha2_to_continent_code(iso2)\n",
    "            return pc.convert_continent_code_to_continent_name(cc)\n",
    "        except Exception:\n",
    "            return \"Unknown\"\n",
    "    out = df.copy()\n",
    "    out['Region'] = out[iso3_col].apply(_region)\n",
    "    return out\n",
    "\n",
    "def rename_label_cols(df, target_qid):\n",
    "    \"\"\"Rename only label-looking columns (e.g., Q152_1 -> Q153_1).\"\"\"\n",
    "    ren = {}\n",
    "    for c in df.columns:\n",
    "        if re.match(r\"^Q\\d+_\", str(c)):\n",
    "            clean = re.sub(r\"^Q\\d+_\", \"\", str(c))\n",
    "            ren[c] = f\"{target_qid}_{clean}\"\n",
    "    return df.rename(columns=ren)\n",
    "\n",
    "def lighten(color, amount=0.3):\n",
    "    try:\n",
    "        color = mc.cnames[color]\n",
    "    except KeyError:\n",
    "        pass\n",
    "    rgb = np.array(mc.to_rgb(color))\n",
    "    white = np.array([1.0, 1.0, 1.0])\n",
    "    return tuple(rgb + (white - rgb) * amount)\n",
    "\n",
    "# =========================\n",
    "# Proportions (COUNTRY-LEVEL)\n",
    "# =========================\n",
    "def get_country_props(predictions_csv, label_prefix):\n",
    "    \"\"\"\n",
    "    UNGD standard: per-country proportions (sum all years).\n",
    "    \"\"\"\n",
    "    df = pd.read_csv(predictions_csv)\n",
    "    df = df[df['predicted_combined_label'].str.startswith(label_prefix)]\n",
    "    lab = df.groupby(['B_COUNTRY_ALPHA','predicted_combined_label']).size().reset_index(name='count')\n",
    "    tot = df.groupby('B_COUNTRY_ALPHA').size().reset_index(name='total_count')\n",
    "    lab = lab.merge(tot, on='B_COUNTRY_ALPHA', how='left')\n",
    "    lab['prop'] = lab['count'] / lab['total_count']\n",
    "    wide = lab.pivot(index='B_COUNTRY_ALPHA', columns='predicted_combined_label', values='prop').reset_index()\n",
    "    all_labels = sorted(df['predicted_combined_label'].unique())\n",
    "    for lbl in all_labels:\n",
    "        if lbl not in wide.columns:\n",
    "            wide[lbl] = 0.0\n",
    "    return wide\n",
    "\n",
    "def get_second_label_props(predictions_csv, label_prefix):\n",
    "    \"\"\"\n",
    "    For Q153 & Q155: per-country proportion of the second-most frequent label.\n",
    "    All years pooled per country; one nonzero label per country.\n",
    "    \"\"\"\n",
    "    df = pd.read_csv(predictions_csv)\n",
    "    df = df[df['predicted_combined_label'].str.startswith(label_prefix)]\n",
    "    all_labels = sorted(df['predicted_combined_label'].unique())\n",
    "    countries  = sorted(df['B_COUNTRY_ALPHA'].dropna().unique())\n",
    "\n",
    "    counts = df.groupby(['B_COUNTRY_ALPHA','predicted_combined_label']).size().reset_index(name='count')\n",
    "    totals = df.groupby('B_COUNTRY_ALPHA').size().reset_index(name='total_count')\n",
    "\n",
    "    second = (\n",
    "        counts.sort_values(['B_COUNTRY_ALPHA','count'], ascending=[True, False])\n",
    "              .groupby('B_COUNTRY_ALPHA')\n",
    "              .nth(1)        # second-most\n",
    "              .reset_index()\n",
    "    )\n",
    "    out = pd.DataFrame({'B_COUNTRY_ALPHA': countries})\n",
    "    for lbl in all_labels:\n",
    "        out[lbl] = 0.0\n",
    "\n",
    "    if not second.empty:\n",
    "        second = second.merge(totals, on='B_COUNTRY_ALPHA', how='left')\n",
    "        second['prop'] = second['count'] / second['total_count']\n",
    "        for _, r in second.iterrows():\n",
    "            if r['total_count'] > 0:\n",
    "                out.loc[out['B_COUNTRY_ALPHA'] == r['B_COUNTRY_ALPHA'], r['predicted_combined_label']] = r['prop']\n",
    "\n",
    "    return out\n",
    "\n",
    "def get_unsg_global_props(predictions_ungs_csv, label_prefix):\n",
    "    \"\"\"\n",
    "    UNSG global: aggregate ALL rows to a single distribution (one row, label columns).\n",
    "    \"\"\"\n",
    "    df = pd.read_csv(predictions_ungs_csv)\n",
    "    df = df[df['predicted_combined_label'].str.startswith(label_prefix)]\n",
    "    counts = df.groupby('predicted_combined_label').size().reset_index(name='count')\n",
    "    total  = counts['count'].sum()\n",
    "    counts['prop'] = counts['count'] / total if total > 0 else 0.0\n",
    "    wide = counts.pivot_table(index=None, columns='predicted_combined_label', values='prop').reset_index(drop=True)\n",
    "    all_labels = sorted(df['predicted_combined_label'].unique())\n",
    "    for lbl in all_labels:\n",
    "        if lbl not in wide.columns:\n",
    "            wide[lbl] = 0.0\n",
    "    return wide  # 1 row\n",
    "\n",
    "def get_wvs_country_props(wvs_csv, question_id, valid_countries):\n",
    "    \"\"\"\n",
    "    WVS: weighted country-level proportions (sum all years), S018 as weight.\n",
    "    \"\"\"\n",
    "    wvs = pd.read_csv(wvs_csv, low_memory=False)\n",
    "    cols_needed = ['B_COUNTRY_ALPHA', question_id, 'S018']\n",
    "    wvs = wvs[cols_needed].dropna(subset=['B_COUNTRY_ALPHA', question_id, 'S018'])\n",
    "    wvs = wvs[wvs['B_COUNTRY_ALPHA'].isin(valid_countries)]\n",
    "    wvs[question_id] = pd.to_numeric(wvs[question_id], errors='coerce')\n",
    "    wvs = wvs.dropna(subset=[question_id])\n",
    "    wvs = wvs[wvs[question_id] > 0]\n",
    "\n",
    "    cats = sorted(wvs[question_id].unique())\n",
    "    def _wprops(g):\n",
    "        w = g['S018']; tw = w.sum()\n",
    "        out = {}\n",
    "        for c in cats:\n",
    "            out[f\"{question_id}_{int(c)}\"] = (w * (g[question_id] == c)).sum() / tw if tw > 0 else 0.0\n",
    "        return pd.Series(out)\n",
    "\n",
    "    wide = wvs.groupby('B_COUNTRY_ALPHA').apply(_wprops).reset_index()\n",
    "    return wide\n",
    "\n",
    "# =========================\n",
    "# Build inputs\n",
    "# =========================\n",
    "# UNGD per-country\n",
    "if QUESTION_ID in [\"Q153\", \"Q155\"]:\n",
    "    ungd_country = get_second_label_props(file_path_filtered, f\"{PRED_BASE}_\")\n",
    "else:\n",
    "    ungd_country = get_country_props(file_path_filtered, f\"{PRED_BASE}_\")\n",
    "ungd_country = rename_label_cols(ungd_country, QUESTION_ID)\n",
    "\n",
    "# UNSG global (1 row)\n",
    "unsg_one = get_unsg_global_props(file_path_unsg, f\"{PRED_BASE}_\")\n",
    "unsg_one = rename_label_cols(unsg_one, QUESTION_ID)\n",
    "\n",
    "# WVS per-country (sum years)\n",
    "valid_countries = set(ungd_country['B_COUNTRY_ALPHA'].dropna().unique())\n",
    "wvs_country = get_wvs_country_props(WVS_PATH, QUESTION_ID, valid_countries)\n",
    "\n",
    "# add regions to UNGD & WVS for coloring\n",
    "def add_region_safe(df):\n",
    "    if 'Region' not in df.columns:\n",
    "        try:\n",
    "            return add_region(df, 'B_COUNTRY_ALPHA')\n",
    "        except Exception:\n",
    "            df2 = df.copy(); df2['Region'] = 'Other'; return df2\n",
    "    return df\n",
    "ungd_country = add_region_safe(ungd_country)\n",
    "wvs_country  = add_region_safe(wvs_country)\n",
    "\n",
    "# Align common label columns\n",
    "common_cols = sorted(set(qcols(ungd_country, PREFIX)) &\n",
    "                     set(qcols(unsg_one,     PREFIX)) &\n",
    "                     set(qcols(wvs_country,  PREFIX)))\n",
    "if not common_cols:\n",
    "    raise ValueError(f\"No overlapping {PREFIX} label columns across UNGD/UNSG/WVS.\")\n",
    "\n",
    "# Normalize rows\n",
    "ungd_country_norm = ungd_country[['B_COUNTRY_ALPHA', 'Region'] + common_cols].copy()\n",
    "wvs_country_norm  = wvs_country[['B_COUNTRY_ALPHA', 'Region'] + common_cols].copy()\n",
    "unsg_one_norm     = unsg_one[common_cols].copy()\n",
    "\n",
    "ungd_country_norm = normalize_rows(ungd_country_norm, common_cols)\n",
    "wvs_country_norm  = normalize_rows(wvs_country_norm,  common_cols)\n",
    "unsg_one_norm.loc[0, common_cols] = normalize_vec(unsg_one_norm.loc[0, common_cols].to_numpy())\n",
    "\n",
    "region_map = dict(zip(ungd_country_norm['B_COUNTRY_ALPHA'], ungd_country_norm['Region']))\n",
    "\n",
    "# =========================\n",
    "# Compute lean & plot (with REGION COLORS)\n",
    "# =========================\n",
    "def plot_lean(lean_df, prefix, metric, region_map=None, region_colors=None, min_width=0.07, fontsize=10):\n",
    "    metric_col = f'lean_norm_{metric}'\n",
    "    df = lean_df.dropna(subset=[metric_col]).sort_values(metric_col).reset_index(drop=True)\n",
    "    y   = np.arange(len(df))\n",
    "    val = df[metric_col].values\n",
    "    iso = df['B_COUNTRY_ALPHA'].values\n",
    "\n",
    "    fig_h = max(4, 0.3 * len(df))\n",
    "    fig, ax = plt.subplots(figsize=(9, fig_h))\n",
    "    ax.axvline(0, color='gray', linestyle='--', zorder=2)\n",
    "    ax.set_axisbelow(True)\n",
    "\n",
    "    # Region-colored bars\n",
    "    if region_map and region_colors:\n",
    "        colors = [lighten(region_colors.get(region_map.get(c, 'Other'), '#7f7f7f'), 0.3) for c in iso]\n",
    "    else:\n",
    "        colors = [lighten('#7f7f7f', 0.3)] * len(iso)\n",
    "\n",
    "    ax.barh(y, val, color=colors, edgecolor='black', zorder=3)\n",
    "    ax.set_xlim(-1, 1)\n",
    "    ax.set_ylim(-0.5, len(df) - 0.5)\n",
    "\n",
    "    # Bold x-axis tick labels in Times\n",
    "    for t in ax.get_xticklabels():\n",
    "        t.set_fontweight('bold')\n",
    "        t.set_fontname('Times New Roman')\n",
    "\n",
    "    ax.set_yticks(y)\n",
    "    ax.set_yticklabels([])\n",
    "    ax.tick_params(axis='y', length=0)\n",
    "\n",
    "    # Country codes on/near bars\n",
    "    for i, (v, c) in enumerate(zip(val, iso)):\n",
    "        ha = 'center'; x = v / 2\n",
    "        if abs(v) < min_width:\n",
    "            x = v + (0.05 if v >= 0 else -0.05)\n",
    "            ha = 'left' if v >= 0 else 'right'\n",
    "        ax.text(x, i, c, va='center', ha=ha, fontsize=fontsize, fontweight='bold')\n",
    "\n",
    "    # Zone labels along x-axis\n",
    "    ax.text(-0.5, -0.08, 'UNSG Speech Zone', transform=ax.get_xaxis_transform(),\n",
    "            ha='center', va='top', fontweight='bold', fontname='Times New Roman')\n",
    "    ax.text( 0.5, -0.08, 'WVS Response Zone', transform=ax.get_xaxis_transform(),\n",
    "            ha='center', va='top', fontweight='bold', fontname='Times New Roman')\n",
    "\n",
    "    # ---------- Region legend UNDER the x-axis ----------\n",
    "    legend_handles = []\n",
    "    if region_map and region_colors:\n",
    "        seen = set()\n",
    "        present_regions = [region_map.get(c, 'Other') for c in iso]\n",
    "        ordered_unique = []\n",
    "        for r in present_regions:\n",
    "            if r not in seen:\n",
    "                seen.add(r)\n",
    "                ordered_unique.append(r)\n",
    "        legend_regions = [r for r in ordered_unique if r not in {'Antarctica', 'Other', 'Unknown'}]\n",
    "        for r in legend_regions:\n",
    "            legend_handles.append(\n",
    "                Patch(facecolor=lighten(region_colors.get(r, '#7f7f7f'), 0.3),\n",
    "                      edgecolor='black', label=r)\n",
    "            )\n",
    "    if legend_handles:\n",
    "        ncol = min(4, len(legend_handles))  # spread horizontally\n",
    "        leg = ax.legend(handles=legend_handles, loc='upper center',\n",
    "                        bbox_to_anchor=(0.5, -0.1), ncol=ncol,\n",
    "                        frameon=False, title='Region',\n",
    "                        prop={'family': 'Times New Roman', 'size': 10})\n",
    "        if leg is not None and leg.get_title():\n",
    "            leg.get_title().set_fontfamily('Times New Roman')\n",
    "            leg.get_title().set_fontsize(11)\n",
    "            leg.get_title().set_fontweight('bold')\n",
    "    # ---------------------------------------------------\n",
    "\n",
    "    ax.grid(axis='x', linestyle=':', alpha=0.6, zorder=0)\n",
    "\n",
    "    # Print the title for Markdown\n",
    "    plot_title = f'{prefix.rstrip(\"_\")}: UNGD vs. UNSG Speeches and WVS Responses — Aggregated by Country'\n",
    "    print(plot_title)\n",
    "\n",
    "    # Extra bottom room for zone labels + legend\n",
    "    plt.tight_layout()\n",
    "    fig.subplots_adjust(bottom=0.32)\n",
    "    return fig, ax\n",
    "\n",
    "\n",
    "def compute_lean(ungd_df, unsg_row, wvs_df, prefix, metric='js', sample_n=15, random_state=123, region_map=None, region_colors=None):\n",
    "    cols = sorted(set(qcols(ungd_df, prefix)) & set(qcols(wvs_df, prefix)) & set(unsg_row.columns))\n",
    "    if not cols:\n",
    "        raise ValueError(f\"No overlapping {prefix} columns after alignment.\")\n",
    "    # ensure normalization\n",
    "    ungd = ungd_df[['B_COUNTRY_ALPHA'] + cols].copy()\n",
    "    wvs  = wvs_df[['B_COUNTRY_ALPHA'] + cols].copy()\n",
    "    ungd[cols] = ungd[cols].apply(normalize_vec, axis=1, result_type='expand')\n",
    "    wvs[cols]  = wvs[cols].apply(normalize_vec, axis=1, result_type='expand')\n",
    "    ug = normalize_vec(unsg_row[cols].iloc[0].to_numpy())\n",
    "\n",
    "    # only countries present in both\n",
    "    common_iso = sorted(set(ungd['B_COUNTRY_ALPHA']) & set(wvs['B_COUNTRY_ALPHA']))\n",
    "    ungd = ungd[ungd['B_COUNTRY_ALPHA'].isin(common_iso)].reset_index(drop=True)\n",
    "    wvs  = wvs[wvs['B_COUNTRY_ALPHA'].isin(common_iso)].reset_index(drop=True)\n",
    "\n",
    "    recs = []\n",
    "    for _, r in ungd.iterrows():\n",
    "        iso3 = r['B_COUNTRY_ALPHA']\n",
    "        p = r[cols].to_numpy()\n",
    "        w = wvs.loc[wvs['B_COUNTRY_ALPHA'] == iso3, cols].iloc[0].to_numpy()\n",
    "        lean_val = js_divergence(p, ug) - js_divergence(p, w)\n",
    "        recs.append({'B_COUNTRY_ALPHA': iso3, f'lean_norm_{metric}': float(lean_val)})\n",
    "\n",
    "    lean_df = pd.DataFrame(recs)\n",
    "\n",
    "    # sampling cap\n",
    "    if sample_n is not None:\n",
    "        rng = np.random.default_rng(random_state)\n",
    "        ids = lean_df['B_COUNTRY_ALPHA'].unique()\n",
    "        k = min(sample_n, len(ids))\n",
    "        keep = set(rng.choice(ids, size=k, replace=False))\n",
    "        lean_df = lean_df[lean_df['B_COUNTRY_ALPHA'].isin(keep)].copy()\n",
    "\n",
    "    fig, ax = plot_lean(lean_df, prefix=prefix, metric=metric, region_map=region_map, region_colors=region_colors)\n",
    "    return lean_df, fig, ax\n",
    "\n",
    "# =========================\n",
    "# Run\n",
    "# =========================\n",
    "lean_df, fig, ax = compute_lean(\n",
    "    ungd_country_norm, unsg_one_norm, wvs_country_norm,\n",
    "    prefix=PREFIX, metric=METRIC, sample_n=SAMPLE_N, random_state=RANDOM_STATE,\n",
    "    region_map=region_map, region_colors=REGION_COLORS\n",
    ")\n",
    "fig.savefig(FIG_NAME, dpi=300, bbox_inches='tight')\n",
    "plt.show()\n"
   ]
  },
  {
   "cell_type": "code",
   "execution_count": 58,
   "id": "15c3343e",
   "metadata": {},
   "outputs": [
    {
     "data": {
      "text/html": [
       "<div>\n",
       "<style scoped>\n",
       "    .dataframe tbody tr th:only-of-type {\n",
       "        vertical-align: middle;\n",
       "    }\n",
       "\n",
       "    .dataframe tbody tr th {\n",
       "        vertical-align: top;\n",
       "    }\n",
       "\n",
       "    .dataframe thead th {\n",
       "        text-align: right;\n",
       "    }\n",
       "</style>\n",
       "<table border=\"1\" class=\"dataframe\">\n",
       "  <thead>\n",
       "    <tr style=\"text-align: right;\">\n",
       "      <th></th>\n",
       "      <th>Question</th>\n",
       "      <th>Response</th>\n",
       "      <th>Count</th>\n",
       "    </tr>\n",
       "  </thead>\n",
       "  <tbody>\n",
       "    <tr>\n",
       "      <th>0</th>\n",
       "      <td>Q8</td>\n",
       "      <td>1</td>\n",
       "      <td>13</td>\n",
       "    </tr>\n",
       "    <tr>\n",
       "      <th>1</th>\n",
       "      <td>Q8</td>\n",
       "      <td>2</td>\n",
       "      <td>10</td>\n",
       "    </tr>\n",
       "    <tr>\n",
       "      <th>2</th>\n",
       "      <td>Q11</td>\n",
       "      <td>1</td>\n",
       "      <td>21</td>\n",
       "    </tr>\n",
       "    <tr>\n",
       "      <th>3</th>\n",
       "      <td>Q11</td>\n",
       "      <td>2</td>\n",
       "      <td>25</td>\n",
       "    </tr>\n",
       "    <tr>\n",
       "      <th>4</th>\n",
       "      <td>Q17</td>\n",
       "      <td>1</td>\n",
       "      <td>16</td>\n",
       "    </tr>\n",
       "    <tr>\n",
       "      <th>5</th>\n",
       "      <td>Q17</td>\n",
       "      <td>2</td>\n",
       "      <td>10</td>\n",
       "    </tr>\n",
       "    <tr>\n",
       "      <th>6</th>\n",
       "      <td>Q65</td>\n",
       "      <td>1</td>\n",
       "      <td>26</td>\n",
       "    </tr>\n",
       "    <tr>\n",
       "      <th>7</th>\n",
       "      <td>Q65</td>\n",
       "      <td>2</td>\n",
       "      <td>17</td>\n",
       "    </tr>\n",
       "    <tr>\n",
       "      <th>8</th>\n",
       "      <td>Q65</td>\n",
       "      <td>3</td>\n",
       "      <td>41</td>\n",
       "    </tr>\n",
       "    <tr>\n",
       "      <th>9</th>\n",
       "      <td>Q65</td>\n",
       "      <td>4</td>\n",
       "      <td>47</td>\n",
       "    </tr>\n",
       "    <tr>\n",
       "      <th>10</th>\n",
       "      <td>Q69</td>\n",
       "      <td>1</td>\n",
       "      <td>16</td>\n",
       "    </tr>\n",
       "    <tr>\n",
       "      <th>11</th>\n",
       "      <td>Q69</td>\n",
       "      <td>2</td>\n",
       "      <td>17</td>\n",
       "    </tr>\n",
       "    <tr>\n",
       "      <th>12</th>\n",
       "      <td>Q69</td>\n",
       "      <td>3</td>\n",
       "      <td>12</td>\n",
       "    </tr>\n",
       "    <tr>\n",
       "      <th>13</th>\n",
       "      <td>Q69</td>\n",
       "      <td>4</td>\n",
       "      <td>12</td>\n",
       "    </tr>\n",
       "    <tr>\n",
       "      <th>14</th>\n",
       "      <td>Q70</td>\n",
       "      <td>1</td>\n",
       "      <td>13</td>\n",
       "    </tr>\n",
       "    <tr>\n",
       "      <th>15</th>\n",
       "      <td>Q70</td>\n",
       "      <td>2</td>\n",
       "      <td>28</td>\n",
       "    </tr>\n",
       "    <tr>\n",
       "      <th>16</th>\n",
       "      <td>Q70</td>\n",
       "      <td>3</td>\n",
       "      <td>25</td>\n",
       "    </tr>\n",
       "    <tr>\n",
       "      <th>17</th>\n",
       "      <td>Q70</td>\n",
       "      <td>4</td>\n",
       "      <td>10</td>\n",
       "    </tr>\n",
       "    <tr>\n",
       "      <th>18</th>\n",
       "      <td>Q152</td>\n",
       "      <td>1</td>\n",
       "      <td>27</td>\n",
       "    </tr>\n",
       "    <tr>\n",
       "      <th>19</th>\n",
       "      <td>Q152</td>\n",
       "      <td>2</td>\n",
       "      <td>20</td>\n",
       "    </tr>\n",
       "    <tr>\n",
       "      <th>20</th>\n",
       "      <td>Q152</td>\n",
       "      <td>3</td>\n",
       "      <td>23</td>\n",
       "    </tr>\n",
       "    <tr>\n",
       "      <th>21</th>\n",
       "      <td>Q152</td>\n",
       "      <td>4</td>\n",
       "      <td>45</td>\n",
       "    </tr>\n",
       "    <tr>\n",
       "      <th>22</th>\n",
       "      <td>Q154</td>\n",
       "      <td>1</td>\n",
       "      <td>37</td>\n",
       "    </tr>\n",
       "    <tr>\n",
       "      <th>23</th>\n",
       "      <td>Q154</td>\n",
       "      <td>2</td>\n",
       "      <td>42</td>\n",
       "    </tr>\n",
       "    <tr>\n",
       "      <th>24</th>\n",
       "      <td>Q154</td>\n",
       "      <td>3</td>\n",
       "      <td>33</td>\n",
       "    </tr>\n",
       "    <tr>\n",
       "      <th>25</th>\n",
       "      <td>Q154</td>\n",
       "      <td>4</td>\n",
       "      <td>40</td>\n",
       "    </tr>\n",
       "  </tbody>\n",
       "</table>\n",
       "</div>"
      ],
      "text/plain": [
       "   Question Response  Count\n",
       "0        Q8        1     13\n",
       "1        Q8        2     10\n",
       "2       Q11        1     21\n",
       "3       Q11        2     25\n",
       "4       Q17        1     16\n",
       "5       Q17        2     10\n",
       "6       Q65        1     26\n",
       "7       Q65        2     17\n",
       "8       Q65        3     41\n",
       "9       Q65        4     47\n",
       "10      Q69        1     16\n",
       "11      Q69        2     17\n",
       "12      Q69        3     12\n",
       "13      Q69        4     12\n",
       "14      Q70        1     13\n",
       "15      Q70        2     28\n",
       "16      Q70        3     25\n",
       "17      Q70        4     10\n",
       "18     Q152        1     27\n",
       "19     Q152        2     20\n",
       "20     Q152        3     23\n",
       "21     Q152        4     45\n",
       "22     Q154        1     37\n",
       "23     Q154        2     42\n",
       "24     Q154        3     33\n",
       "25     Q154        4     40"
      ]
     },
     "metadata": {},
     "output_type": "display_data"
    },
    {
     "name": "stdout",
     "output_type": "stream",
     "text": [
      "LaTeX table saved to: labeled_data_count.tex\n"
     ]
    }
   ],
   "source": [
    "import pandas as pd\n",
    "from IPython.display import display\n",
    "\n",
    "file_paths = [\n",
    "    '../q152_q153_pipeline/Q152_mmr_selected_labeled_combined.csv',\n",
    "    '../q154_q155_pipeline/Q154_mmr_selected_labeled_combined.csv',\n",
    "    '../q8_pipeline/Q8_mmr_selected_labeled_combined.csv',\n",
    "    '../q11_pipeline/Q11_mmr_selected_labeled_combined.csv',\n",
    "    '../q17_pipeline/Q17_mmr_selected_labeled_combined.csv',\n",
    "    '../q65_pipeline/Q65_mmr_selected_labeled_combined.csv',\n",
    "    '../q69_pipeline/Q69_mmr_selected_labeled_combined.csv',\n",
    "    '../q70_pipeline/Q70_mmr_selected_labeled_combined.csv'\n",
    "]\n",
    "\n",
    "summary_rows = []\n",
    "\n",
    "for fp in file_paths:\n",
    "    df = pd.read_csv(fp)\n",
    "\n",
    "    # Extract Question prefix (before underscore)\n",
    "    df['Question'] = df['combined_label'].str.extract(r'^(Q\\d+)_')[0]\n",
    "\n",
    "    # Extract Response (after underscore)\n",
    "    df['Response'] = df['combined_label'].str.extract(r'Q\\d+_(.+)$')[0]\n",
    "\n",
    "    counts = df.groupby(['Question', 'Response']).size().reset_index(name='Count')\n",
    "\n",
    "    summary_rows.append(counts)\n",
    "\n",
    "summary_df = pd.concat(summary_rows, ignore_index=True)\n",
    "\n",
    "# Dynamically sort by numeric part of Question string\n",
    "summary_df['Question_num'] = summary_df['Question'].str.extract(r'Q(\\d+)').astype(int)\n",
    "\n",
    "summary_df = summary_df.sort_values(['Question_num', 'Response']).reset_index(drop=True)\n",
    "\n",
    "# Drop helper column\n",
    "summary_df = summary_df.drop(columns=['Question_num'])\n",
    "\n",
    "display(summary_df)\n",
    "\n",
    "# # Uncomment to save LaTeX\n",
    "latex_output_path = 'labeled_data_count.tex'\n",
    "with open(latex_output_path, 'w') as f:\n",
    "     f.write(summary_df.to_latex(index=False, float_format=\"%.0f\"))\n",
    "print(f\"LaTeX table saved to: {latex_output_path}\")\n"
   ]
  },
  {
   "cell_type": "code",
   "execution_count": 59,
   "id": "fda165eb",
   "metadata": {},
   "outputs": [
    {
     "data": {
      "text/html": [
       "<div>\n",
       "<style scoped>\n",
       "    .dataframe tbody tr th:only-of-type {\n",
       "        vertical-align: middle;\n",
       "    }\n",
       "\n",
       "    .dataframe tbody tr th {\n",
       "        vertical-align: top;\n",
       "    }\n",
       "\n",
       "    .dataframe thead th {\n",
       "        text-align: right;\n",
       "    }\n",
       "</style>\n",
       "<table border=\"1\" class=\"dataframe\">\n",
       "  <thead>\n",
       "    <tr style=\"text-align: right;\">\n",
       "      <th></th>\n",
       "      <th>Question</th>\n",
       "      <th>Response</th>\n",
       "      <th>Count</th>\n",
       "    </tr>\n",
       "  </thead>\n",
       "  <tbody>\n",
       "    <tr>\n",
       "      <th>0</th>\n",
       "      <td>Q8</td>\n",
       "      <td>1</td>\n",
       "      <td>68</td>\n",
       "    </tr>\n",
       "    <tr>\n",
       "      <th>1</th>\n",
       "      <td>Q8</td>\n",
       "      <td>2</td>\n",
       "      <td>96</td>\n",
       "    </tr>\n",
       "    <tr>\n",
       "      <th>2</th>\n",
       "      <td>Q11</td>\n",
       "      <td>1</td>\n",
       "      <td>32</td>\n",
       "    </tr>\n",
       "    <tr>\n",
       "      <th>3</th>\n",
       "      <td>Q11</td>\n",
       "      <td>2</td>\n",
       "      <td>190</td>\n",
       "    </tr>\n",
       "    <tr>\n",
       "      <th>4</th>\n",
       "      <td>Q17</td>\n",
       "      <td>1</td>\n",
       "      <td>150</td>\n",
       "    </tr>\n",
       "    <tr>\n",
       "      <th>5</th>\n",
       "      <td>Q17</td>\n",
       "      <td>2</td>\n",
       "      <td>106</td>\n",
       "    </tr>\n",
       "    <tr>\n",
       "      <th>6</th>\n",
       "      <td>Q65</td>\n",
       "      <td>1</td>\n",
       "      <td>165</td>\n",
       "    </tr>\n",
       "    <tr>\n",
       "      <th>7</th>\n",
       "      <td>Q65</td>\n",
       "      <td>2</td>\n",
       "      <td>24</td>\n",
       "    </tr>\n",
       "    <tr>\n",
       "      <th>8</th>\n",
       "      <td>Q65</td>\n",
       "      <td>3</td>\n",
       "      <td>225</td>\n",
       "    </tr>\n",
       "    <tr>\n",
       "      <th>9</th>\n",
       "      <td>Q65</td>\n",
       "      <td>4</td>\n",
       "      <td>31</td>\n",
       "    </tr>\n",
       "    <tr>\n",
       "      <th>10</th>\n",
       "      <td>Q69</td>\n",
       "      <td>1</td>\n",
       "      <td>76</td>\n",
       "    </tr>\n",
       "    <tr>\n",
       "      <th>11</th>\n",
       "      <td>Q69</td>\n",
       "      <td>2</td>\n",
       "      <td>111</td>\n",
       "    </tr>\n",
       "    <tr>\n",
       "      <th>12</th>\n",
       "      <td>Q69</td>\n",
       "      <td>3</td>\n",
       "      <td>65</td>\n",
       "    </tr>\n",
       "    <tr>\n",
       "      <th>13</th>\n",
       "      <td>Q69</td>\n",
       "      <td>4</td>\n",
       "      <td>534</td>\n",
       "    </tr>\n",
       "    <tr>\n",
       "      <th>14</th>\n",
       "      <td>Q70</td>\n",
       "      <td>1</td>\n",
       "      <td>220</td>\n",
       "    </tr>\n",
       "    <tr>\n",
       "      <th>15</th>\n",
       "      <td>Q70</td>\n",
       "      <td>2</td>\n",
       "      <td>851</td>\n",
       "    </tr>\n",
       "    <tr>\n",
       "      <th>16</th>\n",
       "      <td>Q70</td>\n",
       "      <td>3</td>\n",
       "      <td>159</td>\n",
       "    </tr>\n",
       "    <tr>\n",
       "      <th>17</th>\n",
       "      <td>Q70</td>\n",
       "      <td>4</td>\n",
       "      <td>72</td>\n",
       "    </tr>\n",
       "    <tr>\n",
       "      <th>18</th>\n",
       "      <td>Q152</td>\n",
       "      <td>1</td>\n",
       "      <td>518</td>\n",
       "    </tr>\n",
       "    <tr>\n",
       "      <th>19</th>\n",
       "      <td>Q152</td>\n",
       "      <td>2</td>\n",
       "      <td>863</td>\n",
       "    </tr>\n",
       "    <tr>\n",
       "      <th>20</th>\n",
       "      <td>Q152</td>\n",
       "      <td>3</td>\n",
       "      <td>435</td>\n",
       "    </tr>\n",
       "    <tr>\n",
       "      <th>21</th>\n",
       "      <td>Q152</td>\n",
       "      <td>4</td>\n",
       "      <td>282</td>\n",
       "    </tr>\n",
       "    <tr>\n",
       "      <th>22</th>\n",
       "      <td>Q154</td>\n",
       "      <td>1</td>\n",
       "      <td>1256</td>\n",
       "    </tr>\n",
       "    <tr>\n",
       "      <th>23</th>\n",
       "      <td>Q154</td>\n",
       "      <td>2</td>\n",
       "      <td>880</td>\n",
       "    </tr>\n",
       "    <tr>\n",
       "      <th>24</th>\n",
       "      <td>Q154</td>\n",
       "      <td>3</td>\n",
       "      <td>188</td>\n",
       "    </tr>\n",
       "    <tr>\n",
       "      <th>25</th>\n",
       "      <td>Q154</td>\n",
       "      <td>4</td>\n",
       "      <td>421</td>\n",
       "    </tr>\n",
       "  </tbody>\n",
       "</table>\n",
       "</div>"
      ],
      "text/plain": [
       "   Question Response  Count\n",
       "0        Q8        1     68\n",
       "1        Q8        2     96\n",
       "2       Q11        1     32\n",
       "3       Q11        2    190\n",
       "4       Q17        1    150\n",
       "5       Q17        2    106\n",
       "6       Q65        1    165\n",
       "7       Q65        2     24\n",
       "8       Q65        3    225\n",
       "9       Q65        4     31\n",
       "10      Q69        1     76\n",
       "11      Q69        2    111\n",
       "12      Q69        3     65\n",
       "13      Q69        4    534\n",
       "14      Q70        1    220\n",
       "15      Q70        2    851\n",
       "16      Q70        3    159\n",
       "17      Q70        4     72\n",
       "18     Q152        1    518\n",
       "19     Q152        2    863\n",
       "20     Q152        3    435\n",
       "21     Q152        4    282\n",
       "22     Q154        1   1256\n",
       "23     Q154        2    880\n",
       "24     Q154        3    188\n",
       "25     Q154        4    421"
      ]
     },
     "metadata": {},
     "output_type": "display_data"
    },
    {
     "name": "stdout",
     "output_type": "stream",
     "text": [
      "LaTeX table saved to: pred_data_count.tex\n"
     ]
    }
   ],
   "source": [
    "import pandas as pd\n",
    "from IPython.display import display\n",
    "\n",
    "file_paths = {\n",
    "    'q8': '../q8_pipeline/predictions/q8_predictions_filtered.csv',\n",
    "    'q11': '../q11_pipeline/predictions/q11_predictions_filtered.csv',\n",
    "    'q17': '../q17_pipeline/predictions/q17_predictions_filtered.csv',\n",
    "    'q152': '../q152_q153_pipeline/predictions/q152_predictions_filtered.csv',\n",
    "    'q154': '../q154_q155_pipeline/predictions/q154_predictions_filtered.csv',\n",
    "    'q65': '../q65_pipeline/predictions/q65_predictions_filtered.csv',\n",
    "    'q69': '../q69_pipeline/predictions/q69_predictions_filtered.csv',\n",
    "    'q70': '../q70_pipeline/predictions/q70_predictions_filtered.csv',\n",
    "}\n",
    "\n",
    "summary_rows = []\n",
    "\n",
    "for qid, path in file_paths.items():\n",
    "    df = pd.read_csv(path)\n",
    "\n",
    "    # Count occurrences of predicted_combined_label\n",
    "    counts = df['predicted_combined_label'].value_counts().reset_index()\n",
    "    counts.columns = ['predicted_combined_label', 'Count']\n",
    "\n",
    "    # Extract Question and Response from predicted_combined_label\n",
    "    counts['Question'] = counts['predicted_combined_label'].str.extract(r'^(Q\\d+)_')[0]\n",
    "    counts['Response'] = counts['predicted_combined_label'].str.extract(r'Q\\d+_(.+)$')[0]\n",
    "\n",
    "    # Keep only relevant columns\n",
    "    counts = counts[['Question', 'Response', 'Count']]\n",
    "\n",
    "    summary_rows.append(counts)\n",
    "\n",
    "summary_df = pd.concat(summary_rows, ignore_index=True)\n",
    "\n",
    "# Sort by numeric part of Question and Response ascending\n",
    "summary_df['Question_num'] = summary_df['Question'].str.extract(r'Q(\\d+)').astype(int)\n",
    "summary_df = summary_df.sort_values(['Question_num', 'Response']).reset_index(drop=True)\n",
    "summary_df = summary_df.drop(columns=['Question_num'])\n",
    "\n",
    "display(summary_df)\n",
    "\n",
    "# Save to LaTeX\n",
    "latex_output_path = 'pred_data_count.tex'\n",
    "with open(latex_output_path, 'w') as f:\n",
    "    f.write(summary_df.to_latex(index=False, float_format=\"%.0f\"))\n",
    "\n",
    "print(f\"LaTeX table saved to: {latex_output_path}\")\n"
   ]
  },
  {
   "cell_type": "code",
   "execution_count": 60,
   "id": "67675de2",
   "metadata": {},
   "outputs": [
    {
     "name": "stdout",
     "output_type": "stream",
     "text": [
      "Number of unique country-year combinations: 363\n"
     ]
    }
   ],
   "source": [
    "import pandas as pd\n",
    "\n",
    "# Load the CSV\n",
    "df = pd.read_csv('../unga_wvs7_hashed_corpus.csv')\n",
    "\n",
    "# Your valid countries and years\n",
    "valid_years = list(range(2017, 2023))\n",
    "valid_countries = {\n",
    "    \"AND\", \"ARG\", \"AUS\", \"BGD\", \"ARM\", \"BOL\", \"BRA\", \"MMR\", \"CAN\", \"CHL\", \"CHN\",\n",
    "    \"COL\", \"CYP\", \"CZE\", \"ECU\", \"ETH\", \"DEU\", \"GRC\", \"GTM\", \"IND\", \"IDN\", \"IRN\",\n",
    "    \"IRQ\", \"JPN\", \"KAZ\", \"JOR\", \"KEN\", \"KOR\", \"KGZ\", \"LBN\", \"LBY\", \"MYS\", \"MDV\",\n",
    "    \"MEX\", \"MNG\", \"MAR\", \"NLD\", \"NZL\", \"NIC\", \"NGA\", \"PAK\", \"PER\", \"PHL\", \"ROU\",\n",
    "    \"RUS\", \"SRB\", \"SGP\", \"SVK\", \"VNM\", \"ZWE\", \"TJK\", \"THA\", \"TUN\", \"TUR\", \"UKR\",\n",
    "    \"EGY\", \"GBR\", \"USA\", \"URY\", \"UZB\", \"VEN\"\n",
    "}\n",
    "\n",
    "# Filter rows\n",
    "df_filtered = df[\n",
    "    (df['B_COUNTRY_ALPHA'].isin(valid_countries)) &\n",
    "    (df['A_YEAR'].isin(valid_years))\n",
    "]\n",
    "\n",
    "# Count unique country-year pairs\n",
    "unique_country_years = df_filtered[['B_COUNTRY_ALPHA', 'A_YEAR']].drop_duplicates()\n",
    "count_combinations = len(unique_country_years)\n",
    "\n",
    "print(f\"Number of unique country-year combinations: {count_combinations}\")\n"
   ]
  },
  {
   "cell_type": "code",
   "execution_count": 61,
   "id": "0b277c50",
   "metadata": {},
   "outputs": [
    {
     "name": "stdout",
     "output_type": "stream",
     "text": [
      "Combined table: Country, UNGD Sentence Count, WVS Sample Size\n"
     ]
    },
    {
     "data": {
      "text/html": [
       "<div>\n",
       "<style scoped>\n",
       "    .dataframe tbody tr th:only-of-type {\n",
       "        vertical-align: middle;\n",
       "    }\n",
       "\n",
       "    .dataframe tbody tr th {\n",
       "        vertical-align: top;\n",
       "    }\n",
       "\n",
       "    .dataframe thead th {\n",
       "        text-align: right;\n",
       "    }\n",
       "</style>\n",
       "<table border=\"1\" class=\"dataframe\">\n",
       "  <thead>\n",
       "    <tr style=\"text-align: right;\">\n",
       "      <th></th>\n",
       "      <th>Country</th>\n",
       "      <th>UNGD Sentence Count</th>\n",
       "      <th>WVS Sample Size</th>\n",
       "    </tr>\n",
       "  </thead>\n",
       "  <tbody>\n",
       "    <tr>\n",
       "      <th>0</th>\n",
       "      <td>AND</td>\n",
       "      <td>379</td>\n",
       "      <td>1004</td>\n",
       "    </tr>\n",
       "    <tr>\n",
       "      <th>1</th>\n",
       "      <td>ARG</td>\n",
       "      <td>336</td>\n",
       "      <td>1003</td>\n",
       "    </tr>\n",
       "    <tr>\n",
       "      <th>2</th>\n",
       "      <td>ARM</td>\n",
       "      <td>384</td>\n",
       "      <td>1223</td>\n",
       "    </tr>\n",
       "    <tr>\n",
       "      <th>3</th>\n",
       "      <td>AUS</td>\n",
       "      <td>484</td>\n",
       "      <td>1813</td>\n",
       "    </tr>\n",
       "    <tr>\n",
       "      <th>4</th>\n",
       "      <td>BGD</td>\n",
       "      <td>575</td>\n",
       "      <td>1200</td>\n",
       "    </tr>\n",
       "    <tr>\n",
       "      <th>5</th>\n",
       "      <td>BOL</td>\n",
       "      <td>456</td>\n",
       "      <td>2067</td>\n",
       "    </tr>\n",
       "    <tr>\n",
       "      <th>6</th>\n",
       "      <td>BRA</td>\n",
       "      <td>551</td>\n",
       "      <td>1762</td>\n",
       "    </tr>\n",
       "    <tr>\n",
       "      <th>7</th>\n",
       "      <td>CAN</td>\n",
       "      <td>568</td>\n",
       "      <td>4018</td>\n",
       "    </tr>\n",
       "    <tr>\n",
       "      <th>8</th>\n",
       "      <td>CHL</td>\n",
       "      <td>535</td>\n",
       "      <td>1000</td>\n",
       "    </tr>\n",
       "    <tr>\n",
       "      <th>9</th>\n",
       "      <td>CHN</td>\n",
       "      <td>541</td>\n",
       "      <td>3036</td>\n",
       "    </tr>\n",
       "    <tr>\n",
       "      <th>10</th>\n",
       "      <td>COL</td>\n",
       "      <td>430</td>\n",
       "      <td>1520</td>\n",
       "    </tr>\n",
       "    <tr>\n",
       "      <th>11</th>\n",
       "      <td>CYP</td>\n",
       "      <td>263</td>\n",
       "      <td>1000</td>\n",
       "    </tr>\n",
       "    <tr>\n",
       "      <th>12</th>\n",
       "      <td>CZE</td>\n",
       "      <td>394</td>\n",
       "      <td>1200</td>\n",
       "    </tr>\n",
       "    <tr>\n",
       "      <th>13</th>\n",
       "      <td>DEU</td>\n",
       "      <td>523</td>\n",
       "      <td>1528</td>\n",
       "    </tr>\n",
       "    <tr>\n",
       "      <th>14</th>\n",
       "      <td>ECU</td>\n",
       "      <td>464</td>\n",
       "      <td>1200</td>\n",
       "    </tr>\n",
       "    <tr>\n",
       "      <th>15</th>\n",
       "      <td>EGY</td>\n",
       "      <td>309</td>\n",
       "      <td>1200</td>\n",
       "    </tr>\n",
       "    <tr>\n",
       "      <th>16</th>\n",
       "      <td>ETH</td>\n",
       "      <td>331</td>\n",
       "      <td>1230</td>\n",
       "    </tr>\n",
       "    <tr>\n",
       "      <th>17</th>\n",
       "      <td>GBR</td>\n",
       "      <td>439</td>\n",
       "      <td>2609</td>\n",
       "    </tr>\n",
       "    <tr>\n",
       "      <th>18</th>\n",
       "      <td>GRC</td>\n",
       "      <td>356</td>\n",
       "      <td>1200</td>\n",
       "    </tr>\n",
       "    <tr>\n",
       "      <th>19</th>\n",
       "      <td>GTM</td>\n",
       "      <td>401</td>\n",
       "      <td>1229</td>\n",
       "    </tr>\n",
       "    <tr>\n",
       "      <th>20</th>\n",
       "      <td>IDN</td>\n",
       "      <td>334</td>\n",
       "      <td>3200</td>\n",
       "    </tr>\n",
       "    <tr>\n",
       "      <th>21</th>\n",
       "      <td>IND</td>\n",
       "      <td>467</td>\n",
       "      <td>1692</td>\n",
       "    </tr>\n",
       "    <tr>\n",
       "      <th>22</th>\n",
       "      <td>IRN</td>\n",
       "      <td>415</td>\n",
       "      <td>1499</td>\n",
       "    </tr>\n",
       "    <tr>\n",
       "      <th>23</th>\n",
       "      <td>IRQ</td>\n",
       "      <td>444</td>\n",
       "      <td>1200</td>\n",
       "    </tr>\n",
       "    <tr>\n",
       "      <th>24</th>\n",
       "      <td>JOR</td>\n",
       "      <td>236</td>\n",
       "      <td>1203</td>\n",
       "    </tr>\n",
       "    <tr>\n",
       "      <th>25</th>\n",
       "      <td>JPN</td>\n",
       "      <td>416</td>\n",
       "      <td>1353</td>\n",
       "    </tr>\n",
       "    <tr>\n",
       "      <th>26</th>\n",
       "      <td>KAZ</td>\n",
       "      <td>502</td>\n",
       "      <td>1276</td>\n",
       "    </tr>\n",
       "    <tr>\n",
       "      <th>27</th>\n",
       "      <td>KEN</td>\n",
       "      <td>466</td>\n",
       "      <td>1266</td>\n",
       "    </tr>\n",
       "    <tr>\n",
       "      <th>28</th>\n",
       "      <td>KGZ</td>\n",
       "      <td>405</td>\n",
       "      <td>1200</td>\n",
       "    </tr>\n",
       "    <tr>\n",
       "      <th>29</th>\n",
       "      <td>KOR</td>\n",
       "      <td>451</td>\n",
       "      <td>1245</td>\n",
       "    </tr>\n",
       "    <tr>\n",
       "      <th>30</th>\n",
       "      <td>LBN</td>\n",
       "      <td>316</td>\n",
       "      <td>1200</td>\n",
       "    </tr>\n",
       "    <tr>\n",
       "      <th>31</th>\n",
       "      <td>LBY</td>\n",
       "      <td>395</td>\n",
       "      <td>1196</td>\n",
       "    </tr>\n",
       "    <tr>\n",
       "      <th>32</th>\n",
       "      <td>MAR</td>\n",
       "      <td>305</td>\n",
       "      <td>1200</td>\n",
       "    </tr>\n",
       "    <tr>\n",
       "      <th>33</th>\n",
       "      <td>MDV</td>\n",
       "      <td>454</td>\n",
       "      <td>1039</td>\n",
       "    </tr>\n",
       "    <tr>\n",
       "      <th>34</th>\n",
       "      <td>MEX</td>\n",
       "      <td>335</td>\n",
       "      <td>1741</td>\n",
       "    </tr>\n",
       "    <tr>\n",
       "      <th>35</th>\n",
       "      <td>MMR</td>\n",
       "      <td>357</td>\n",
       "      <td>1200</td>\n",
       "    </tr>\n",
       "    <tr>\n",
       "      <th>36</th>\n",
       "      <td>MNG</td>\n",
       "      <td>361</td>\n",
       "      <td>1638</td>\n",
       "    </tr>\n",
       "    <tr>\n",
       "      <th>37</th>\n",
       "      <td>MYS</td>\n",
       "      <td>574</td>\n",
       "      <td>1313</td>\n",
       "    </tr>\n",
       "    <tr>\n",
       "      <th>38</th>\n",
       "      <td>NGA</td>\n",
       "      <td>341</td>\n",
       "      <td>1237</td>\n",
       "    </tr>\n",
       "    <tr>\n",
       "      <th>39</th>\n",
       "      <td>NIC</td>\n",
       "      <td>204</td>\n",
       "      <td>1200</td>\n",
       "    </tr>\n",
       "    <tr>\n",
       "      <th>40</th>\n",
       "      <td>NLD</td>\n",
       "      <td>458</td>\n",
       "      <td>2145</td>\n",
       "    </tr>\n",
       "    <tr>\n",
       "      <th>41</th>\n",
       "      <td>NZL</td>\n",
       "      <td>534</td>\n",
       "      <td>1057</td>\n",
       "    </tr>\n",
       "    <tr>\n",
       "      <th>42</th>\n",
       "      <td>PAK</td>\n",
       "      <td>733</td>\n",
       "      <td>1995</td>\n",
       "    </tr>\n",
       "    <tr>\n",
       "      <th>43</th>\n",
       "      <td>PER</td>\n",
       "      <td>262</td>\n",
       "      <td>1400</td>\n",
       "    </tr>\n",
       "    <tr>\n",
       "      <th>44</th>\n",
       "      <td>PHL</td>\n",
       "      <td>564</td>\n",
       "      <td>1200</td>\n",
       "    </tr>\n",
       "    <tr>\n",
       "      <th>45</th>\n",
       "      <td>ROU</td>\n",
       "      <td>274</td>\n",
       "      <td>1257</td>\n",
       "    </tr>\n",
       "    <tr>\n",
       "      <th>46</th>\n",
       "      <td>RUS</td>\n",
       "      <td>439</td>\n",
       "      <td>1810</td>\n",
       "    </tr>\n",
       "    <tr>\n",
       "      <th>47</th>\n",
       "      <td>SGP</td>\n",
       "      <td>485</td>\n",
       "      <td>2012</td>\n",
       "    </tr>\n",
       "    <tr>\n",
       "      <th>48</th>\n",
       "      <td>SRB</td>\n",
       "      <td>384</td>\n",
       "      <td>1046</td>\n",
       "    </tr>\n",
       "    <tr>\n",
       "      <th>49</th>\n",
       "      <td>SVK</td>\n",
       "      <td>298</td>\n",
       "      <td>1200</td>\n",
       "    </tr>\n",
       "    <tr>\n",
       "      <th>50</th>\n",
       "      <td>THA</td>\n",
       "      <td>372</td>\n",
       "      <td>1500</td>\n",
       "    </tr>\n",
       "    <tr>\n",
       "      <th>51</th>\n",
       "      <td>TJK</td>\n",
       "      <td>342</td>\n",
       "      <td>1200</td>\n",
       "    </tr>\n",
       "    <tr>\n",
       "      <th>52</th>\n",
       "      <td>TUN</td>\n",
       "      <td>175</td>\n",
       "      <td>1208</td>\n",
       "    </tr>\n",
       "    <tr>\n",
       "      <th>53</th>\n",
       "      <td>TUR</td>\n",
       "      <td>767</td>\n",
       "      <td>2415</td>\n",
       "    </tr>\n",
       "    <tr>\n",
       "      <th>54</th>\n",
       "      <td>UKR</td>\n",
       "      <td>551</td>\n",
       "      <td>1289</td>\n",
       "    </tr>\n",
       "    <tr>\n",
       "      <th>55</th>\n",
       "      <td>URY</td>\n",
       "      <td>313</td>\n",
       "      <td>1000</td>\n",
       "    </tr>\n",
       "    <tr>\n",
       "      <th>56</th>\n",
       "      <td>USA</td>\n",
       "      <td>768</td>\n",
       "      <td>2596</td>\n",
       "    </tr>\n",
       "    <tr>\n",
       "      <th>57</th>\n",
       "      <td>UZB</td>\n",
       "      <td>294</td>\n",
       "      <td>1250</td>\n",
       "    </tr>\n",
       "    <tr>\n",
       "      <th>58</th>\n",
       "      <td>VEN</td>\n",
       "      <td>519</td>\n",
       "      <td>1190</td>\n",
       "    </tr>\n",
       "    <tr>\n",
       "      <th>59</th>\n",
       "      <td>VNM</td>\n",
       "      <td>325</td>\n",
       "      <td>1200</td>\n",
       "    </tr>\n",
       "    <tr>\n",
       "      <th>60</th>\n",
       "      <td>ZWE</td>\n",
       "      <td>349</td>\n",
       "      <td>1215</td>\n",
       "    </tr>\n",
       "  </tbody>\n",
       "</table>\n",
       "</div>"
      ],
      "text/plain": [
       "   Country  UNGD Sentence Count  WVS Sample Size\n",
       "0      AND                  379             1004\n",
       "1      ARG                  336             1003\n",
       "2      ARM                  384             1223\n",
       "3      AUS                  484             1813\n",
       "4      BGD                  575             1200\n",
       "5      BOL                  456             2067\n",
       "6      BRA                  551             1762\n",
       "7      CAN                  568             4018\n",
       "8      CHL                  535             1000\n",
       "9      CHN                  541             3036\n",
       "10     COL                  430             1520\n",
       "11     CYP                  263             1000\n",
       "12     CZE                  394             1200\n",
       "13     DEU                  523             1528\n",
       "14     ECU                  464             1200\n",
       "15     EGY                  309             1200\n",
       "16     ETH                  331             1230\n",
       "17     GBR                  439             2609\n",
       "18     GRC                  356             1200\n",
       "19     GTM                  401             1229\n",
       "20     IDN                  334             3200\n",
       "21     IND                  467             1692\n",
       "22     IRN                  415             1499\n",
       "23     IRQ                  444             1200\n",
       "24     JOR                  236             1203\n",
       "25     JPN                  416             1353\n",
       "26     KAZ                  502             1276\n",
       "27     KEN                  466             1266\n",
       "28     KGZ                  405             1200\n",
       "29     KOR                  451             1245\n",
       "30     LBN                  316             1200\n",
       "31     LBY                  395             1196\n",
       "32     MAR                  305             1200\n",
       "33     MDV                  454             1039\n",
       "34     MEX                  335             1741\n",
       "35     MMR                  357             1200\n",
       "36     MNG                  361             1638\n",
       "37     MYS                  574             1313\n",
       "38     NGA                  341             1237\n",
       "39     NIC                  204             1200\n",
       "40     NLD                  458             2145\n",
       "41     NZL                  534             1057\n",
       "42     PAK                  733             1995\n",
       "43     PER                  262             1400\n",
       "44     PHL                  564             1200\n",
       "45     ROU                  274             1257\n",
       "46     RUS                  439             1810\n",
       "47     SGP                  485             2012\n",
       "48     SRB                  384             1046\n",
       "49     SVK                  298             1200\n",
       "50     THA                  372             1500\n",
       "51     TJK                  342             1200\n",
       "52     TUN                  175             1208\n",
       "53     TUR                  767             2415\n",
       "54     UKR                  551             1289\n",
       "55     URY                  313             1000\n",
       "56     USA                  768             2596\n",
       "57     UZB                  294             1250\n",
       "58     VEN                  519             1190\n",
       "59     VNM                  325             1200\n",
       "60     ZWE                  349             1215"
      ]
     },
     "metadata": {},
     "output_type": "display_data"
    },
    {
     "name": "stdout",
     "output_type": "stream",
     "text": [
      "LaTeX saved → combined_table.tex\n"
     ]
    }
   ],
   "source": [
    "import pandas as pd\n",
    "from IPython.display import display\n",
    "\n",
    "# ── 1 · LOAD AND PREPARE DATA ─────────────────────────────────────────\n",
    "unga_df = pd.read_csv('../unga_wvs7_hashed_corpus.csv')\n",
    "\n",
    "valid_years = list(range(2017, 2023))\n",
    "valid_countries = {\n",
    "    \"AND\",\"ARG\",\"AUS\",\"BGD\",\"ARM\",\"BOL\",\"BRA\",\"MMR\",\"CAN\",\"CHL\",\"CHN\",\"COL\",\"CYP\",\"CZE\",\n",
    "    \"ECU\",\"ETH\",\"DEU\",\"GRC\",\"GTM\",\"IND\",\"IDN\",\"IRN\",\"IRQ\",\"JPN\",\"KAZ\",\"JOR\",\"KEN\",\"KOR\",\n",
    "    \"KGZ\",\"LBN\",\"LBY\",\"MYS\",\"MDV\",\"MEX\",\"MNG\",\"MAR\",\"NLD\",\"NZL\",\"NIC\",\"NGA\",\"PAK\",\"PER\",\n",
    "    \"PHL\",\"ROU\",\"RUS\",\"SRB\",\"SGP\",\"SVK\",\"VNM\",\"ZWE\",\"TJK\",\"THA\",\"TUN\",\"TUR\",\"UKR\",\"EGY\",\n",
    "    \"GBR\",\"USA\",\"URY\",\"UZB\",\"VEN\"\n",
    "}\n",
    "\n",
    "unga_filtered = unga_df[\n",
    "    unga_df['B_COUNTRY_ALPHA'].isin(valid_countries)\n",
    "    & unga_df['A_YEAR'].isin(valid_years)\n",
    "]\n",
    "\n",
    "unga_counts = (\n",
    "    unga_filtered\n",
    "    .groupby('B_COUNTRY_ALPHA')['sentence_text']\n",
    "    .count()\n",
    "    .reset_index(name='UNGD Sentence Count')\n",
    "    .rename(columns={'B_COUNTRY_ALPHA': 'Country'})\n",
    ")\n",
    "\n",
    "wvs_path = (\n",
    "    r\"C:\\Users\\secki\\OneDrive\\Desktop\\MY498 Capstone Under Supervision\"\n",
    "    r\"\\WVS Wave 7 Full Package for EFA\\F00010736-WVS_Cross-National_Wave_7_rdata_v6_0\"\n",
    "    r\"\\wvs7_full_data.csv\"\n",
    ")\n",
    "wvs_df = pd.read_csv(wvs_path, low_memory=False)\n",
    "\n",
    "questions = ['Q8','Q11','Q17','Q65','Q69','Q70','Q152','Q153','Q154','Q155']\n",
    "counts_df = pd.DataFrame(index=sorted(valid_countries), columns=questions)\n",
    "\n",
    "for q in questions:\n",
    "    if q not in wvs_df.columns:\n",
    "        print(f\"Warning: {q} not in WVS file – skipped.\")\n",
    "        counts_df.drop(columns=q, inplace=True)\n",
    "        continue\n",
    "    q_counts = (\n",
    "        wvs_df[(wvs_df['B_COUNTRY_ALPHA'].isin(valid_countries)) & wvs_df[q].notna()]\n",
    "        .groupby('B_COUNTRY_ALPHA')[q]\n",
    "        .count()\n",
    "    )\n",
    "    counts_df.loc[q_counts.index, q] = q_counts\n",
    "\n",
    "counts_df = counts_df.fillna(0).astype(int)\n",
    "sample_size_same = counts_df.nunique(axis=1) == 1\n",
    "wvs_sizes = (\n",
    "    pd.DataFrame({\n",
    "        'Country': counts_df.index,\n",
    "        'WVS Sample Size': counts_df[questions[0]].values\n",
    "    })\n",
    "    .loc[sample_size_same.values]\n",
    "    .reset_index(drop=True)\n",
    ")\n",
    "\n",
    "combined_table = pd.merge(unga_counts, wvs_sizes, on='Country', how='inner')\n",
    "\n",
    "print(\"Combined table: Country, UNGD Sentence Count, WVS Sample Size\")\n",
    "display(combined_table)\n",
    "\n",
    "# ── 2 · SAVE AS LaTeX ────────────────────────────────────────────────\n",
    "latex_path = \"combined_table.tex\"\n",
    "combined_table.to_latex(\n",
    "    latex_path,\n",
    "    index=False,\n",
    "    caption=\"Combined UNGD sentence counts and WVS sample sizes\",\n",
    "    label=\"tab:combined\",\n",
    "    column_format=\"lrr\"          # Country left-aligned, two right-aligned numbers\n",
    ")\n",
    "print(f\"LaTeX saved → {latex_path}\")\n"
   ]
  },
  {
   "cell_type": "code",
   "execution_count": 62,
   "id": "fafc29c4",
   "metadata": {},
   "outputs": [
    {
     "name": "stdout",
     "output_type": "stream",
     "text": [
      "Number of unique countries with at least one non-missing response per question:\n",
      "- Q8: 61 unique countries\n",
      "- Q11: 61 unique countries\n",
      "- Q17: 61 unique countries\n",
      "- Q65: 61 unique countries\n",
      "- Q69: 61 unique countries\n",
      "- Q70: 61 unique countries\n",
      "- Q152: 61 unique countries\n",
      "- Q153: 61 unique countries\n",
      "- Q154: 61 unique countries\n",
      "- Q155: 61 unique countries\n"
     ]
    }
   ],
   "source": [
    "import pandas as pd\n",
    "\n",
    "# File path to WVS dataset\n",
    "wvs_path = r\"C:\\Users\\secki\\OneDrive\\Desktop\\MY498 Capstone Under Supervision\\WVS Wave 7 Full Package for EFA\\F00010736-WVS_Cross-National_Wave_7_rdata_v6_0\\wvs7_full_data.csv\"\n",
    "\n",
    "valid_countries = {\n",
    "    \"AND\", \"ARG\", \"AUS\", \"BGD\", \"ARM\", \"BOL\", \"BRA\", \"MMR\", \"CAN\", \"CHL\", \"CHN\",\n",
    "    \"COL\", \"CYP\", \"CZE\", \"ECU\", \"ETH\", \"DEU\", \"GRC\", \"GTM\", \"IND\", \"IDN\", \"IRN\",\n",
    "    \"IRQ\", \"JPN\", \"KAZ\", \"JOR\", \"KEN\", \"KOR\", \"KGZ\", \"LBN\", \"LBY\", \"MYS\", \"MDV\",\n",
    "    \"MEX\", \"MNG\", \"MAR\", \"NLD\", \"NZL\", \"NIC\", \"NGA\", \"PAK\", \"PER\", \"PHL\", \"ROU\",\n",
    "    \"RUS\", \"SRB\", \"SGP\", \"SVK\", \"VNM\", \"ZWE\", \"TJK\", \"THA\", \"TUN\", \"TUR\", \"UKR\",\n",
    "    \"EGY\", \"GBR\", \"USA\", \"URY\", \"UZB\", \"VEN\"\n",
    "}\n",
    "\n",
    "questions_to_check = ['Q8', 'Q11', 'Q17', 'Q65', 'Q69', 'Q70', 'Q152', 'Q153', 'Q154', 'Q155']\n",
    "\n",
    "# Load data\n",
    "wvs_df = pd.read_csv(wvs_path, low_memory=False)\n",
    "\n",
    "# Column names for country and year in WVS\n",
    "country_col = 'B_COUNTRY_ALPHA'\n",
    "\n",
    "# Filter by valid countries\n",
    "wvs_filtered = wvs_df[wvs_df[country_col].isin(valid_countries)]\n",
    "\n",
    "print(\"Number of unique countries with at least one non-missing response per question:\")\n",
    "\n",
    "for question in questions_to_check:\n",
    "    if question not in wvs_filtered.columns:\n",
    "        print(f\"- {question}: NOT FOUND in dataset\")\n",
    "        continue\n",
    "\n",
    "    # Filter rows where question is not null\n",
    "    non_null_rows = wvs_filtered[wvs_filtered[question].notna()]\n",
    "\n",
    "    # Count unique countries in those rows\n",
    "    unique_countries = non_null_rows[country_col].nunique()\n",
    "\n",
    "    print(f\"- {question}: {unique_countries} unique countries\")\n"
   ]
  },
  {
   "cell_type": "code",
   "execution_count": 25,
   "id": "851fc852",
   "metadata": {},
   "outputs": [
    {
     "data": {
      "text/markdown": [
       "### Per-question correlation (country level; cluster bootstrap B=3000; SESOI ±0.1)"
      ],
      "text/plain": [
       "<IPython.core.display.Markdown object>"
      ]
     },
     "metadata": {},
     "output_type": "display_data"
    },
    {
     "data": {
      "text/html": [
       "<div>\n",
       "<style scoped>\n",
       "    .dataframe tbody tr th:only-of-type {\n",
       "        vertical-align: middle;\n",
       "    }\n",
       "\n",
       "    .dataframe tbody tr th {\n",
       "        vertical-align: top;\n",
       "    }\n",
       "\n",
       "    .dataframe thead th {\n",
       "        text-align: right;\n",
       "    }\n",
       "</style>\n",
       "<table border=\"1\" class=\"dataframe\">\n",
       "  <thead>\n",
       "    <tr style=\"text-align: right;\">\n",
       "      <th></th>\n",
       "      <th>Question</th>\n",
       "      <th>No. of Responses</th>\n",
       "      <th>Countries</th>\n",
       "      <th>Cells</th>\n",
       "      <th>Pearson</th>\n",
       "      <th>Pearson Low</th>\n",
       "      <th>Pearson High</th>\n",
       "      <th>Spearman</th>\n",
       "      <th>Spearman Low</th>\n",
       "      <th>Spearman High</th>\n",
       "    </tr>\n",
       "  </thead>\n",
       "  <tbody>\n",
       "    <tr>\n",
       "      <th>0</th>\n",
       "      <td>Q8</td>\n",
       "      <td>2</td>\n",
       "      <td>56</td>\n",
       "      <td>112</td>\n",
       "      <td>0.092</td>\n",
       "      <td>-0.205</td>\n",
       "      <td>0.376</td>\n",
       "      <td>0.078</td>\n",
       "      <td>-0.217</td>\n",
       "      <td>0.366</td>\n",
       "    </tr>\n",
       "    <tr>\n",
       "      <th>1</th>\n",
       "      <td>Q11</td>\n",
       "      <td>2</td>\n",
       "      <td>53</td>\n",
       "      <td>106</td>\n",
       "      <td>0.808</td>\n",
       "      <td>0.656</td>\n",
       "      <td>0.916</td>\n",
       "      <td>0.743</td>\n",
       "      <td>0.575</td>\n",
       "      <td>0.860</td>\n",
       "    </tr>\n",
       "    <tr>\n",
       "      <th>2</th>\n",
       "      <td>Q17</td>\n",
       "      <td>2</td>\n",
       "      <td>52</td>\n",
       "      <td>104</td>\n",
       "      <td>-0.178</td>\n",
       "      <td>-0.443</td>\n",
       "      <td>0.100</td>\n",
       "      <td>-0.181</td>\n",
       "      <td>-0.443</td>\n",
       "      <td>0.099</td>\n",
       "    </tr>\n",
       "    <tr>\n",
       "      <th>3</th>\n",
       "      <td>Q65</td>\n",
       "      <td>4</td>\n",
       "      <td>58</td>\n",
       "      <td>232</td>\n",
       "      <td>-0.007</td>\n",
       "      <td>-0.118</td>\n",
       "      <td>0.107</td>\n",
       "      <td>0.035</td>\n",
       "      <td>-0.067</td>\n",
       "      <td>0.135</td>\n",
       "    </tr>\n",
       "    <tr>\n",
       "      <th>4</th>\n",
       "      <td>Q69</td>\n",
       "      <td>4</td>\n",
       "      <td>60</td>\n",
       "      <td>240</td>\n",
       "      <td>-0.293</td>\n",
       "      <td>-0.410</td>\n",
       "      <td>-0.168</td>\n",
       "      <td>-0.254</td>\n",
       "      <td>-0.370</td>\n",
       "      <td>-0.140</td>\n",
       "    </tr>\n",
       "    <tr>\n",
       "      <th>5</th>\n",
       "      <td>Q70</td>\n",
       "      <td>4</td>\n",
       "      <td>60</td>\n",
       "      <td>240</td>\n",
       "      <td>0.370</td>\n",
       "      <td>0.228</td>\n",
       "      <td>0.510</td>\n",
       "      <td>0.330</td>\n",
       "      <td>0.187</td>\n",
       "      <td>0.476</td>\n",
       "    </tr>\n",
       "    <tr>\n",
       "      <th>6</th>\n",
       "      <td>Q152</td>\n",
       "      <td>4</td>\n",
       "      <td>61</td>\n",
       "      <td>244</td>\n",
       "      <td>0.170</td>\n",
       "      <td>0.051</td>\n",
       "      <td>0.292</td>\n",
       "      <td>0.232</td>\n",
       "      <td>0.097</td>\n",
       "      <td>0.359</td>\n",
       "    </tr>\n",
       "    <tr>\n",
       "      <th>7</th>\n",
       "      <td>Q153</td>\n",
       "      <td>4</td>\n",
       "      <td>61</td>\n",
       "      <td>244</td>\n",
       "      <td>0.274</td>\n",
       "      <td>0.137</td>\n",
       "      <td>0.403</td>\n",
       "      <td>0.280</td>\n",
       "      <td>0.156</td>\n",
       "      <td>0.397</td>\n",
       "    </tr>\n",
       "    <tr>\n",
       "      <th>8</th>\n",
       "      <td>Q154</td>\n",
       "      <td>4</td>\n",
       "      <td>61</td>\n",
       "      <td>244</td>\n",
       "      <td>0.473</td>\n",
       "      <td>0.349</td>\n",
       "      <td>0.584</td>\n",
       "      <td>0.415</td>\n",
       "      <td>0.294</td>\n",
       "      <td>0.526</td>\n",
       "    </tr>\n",
       "    <tr>\n",
       "      <th>9</th>\n",
       "      <td>Q155</td>\n",
       "      <td>4</td>\n",
       "      <td>61</td>\n",
       "      <td>244</td>\n",
       "      <td>-0.174</td>\n",
       "      <td>-0.291</td>\n",
       "      <td>-0.051</td>\n",
       "      <td>-0.174</td>\n",
       "      <td>-0.306</td>\n",
       "      <td>-0.040</td>\n",
       "    </tr>\n",
       "  </tbody>\n",
       "</table>\n",
       "</div>"
      ],
      "text/plain": [
       "  Question  No. of Responses  Countries  Cells  Pearson  Pearson Low  \\\n",
       "0       Q8                 2         56    112    0.092       -0.205   \n",
       "1      Q11                 2         53    106    0.808        0.656   \n",
       "2      Q17                 2         52    104   -0.178       -0.443   \n",
       "3      Q65                 4         58    232   -0.007       -0.118   \n",
       "4      Q69                 4         60    240   -0.293       -0.410   \n",
       "5      Q70                 4         60    240    0.370        0.228   \n",
       "6     Q152                 4         61    244    0.170        0.051   \n",
       "7     Q153                 4         61    244    0.274        0.137   \n",
       "8     Q154                 4         61    244    0.473        0.349   \n",
       "9     Q155                 4         61    244   -0.174       -0.291   \n",
       "\n",
       "   Pearson High  Spearman  Spearman Low  Spearman High  \n",
       "0         0.376     0.078        -0.217          0.366  \n",
       "1         0.916     0.743         0.575          0.860  \n",
       "2         0.100    -0.181        -0.443          0.099  \n",
       "3         0.107     0.035        -0.067          0.135  \n",
       "4        -0.168    -0.254        -0.370         -0.140  \n",
       "5         0.510     0.330         0.187          0.476  \n",
       "6         0.292     0.232         0.097          0.359  \n",
       "7         0.403     0.280         0.156          0.397  \n",
       "8         0.584     0.415         0.294          0.526  \n",
       "9        -0.051    -0.174        -0.306         -0.040  "
      ]
     },
     "metadata": {},
     "output_type": "display_data"
    },
    {
     "name": "stdout",
     "output_type": "stream",
     "text": [
      "LaTeX table saved to per_question_correlations.tex\n"
     ]
    },
    {
     "data": {
      "application/vnd.plotly.v1+json": {
       "config": {
        "plotlyServerURL": "https://plot.ly"
       },
       "data": [
        {
         "customdata": {
          "bdata": "AAAAAAAATEAAAAAAAAAAQOb3xhihPMq/rOLAavoJ2D8AAAAAAAAAAAAAAAAAgEpAAAAAAAAAAEA8XC4LkAHlPyIJqC5aUe0/AAAAAAAA8D8AAAAAAABKQAAAAAAAAABAdttbPjZc3L/oG2GOkJG5PwAAAAAAAAAAAAAAAAAATUAAAAAAAAAQQFrqy+m7KL6/MlPr2KRWuz8AAAAAAAAAAAAAAAAAAE5AAAAAAAAAEECBAZrPxD7av78donQtisW/AAAAAAAA8D8AAAAAAABOQAAAAAAAABBAJVl8iXIqzT+r390rWFXgPwAAAAAAAPA/AAAAAACATkAAAAAAAAAQQF+iddxfF6o/8FzmuSmu0j8AAAAAAAAAAAAAAAAAgE5AAAAAAAAAEEAYknNlT4bBP8t6gSMFytk/AAAAAAAA8D8AAAAAAIBOQAAAAAAAABBAlHWUKjpb1j+GStYQ9KziPwAAAAAAAPA/AAAAAACATkAAAAAAAAAQQPyZvmWUodK//XmZMbvjqb8AAAAAAAAAAA==",
          "dtype": "f8",
          "shape": "10, 5"
         },
         "error_x": {
          "array": {
           "bdata": "Pjq6hSYj0j+gtw+Kbsu7PzqtSb+JxtE/LDN9Y8U3vT+OUNdBUPe/P/KUKDP3/sE/xE+qmcAhvz8MJ9nFxYTAP8B3jyDzOrw/tItdnhmfvz8=",
           "dtype": "f8"
          },
          "arrayminus": {
           "bdata": "YiRqcSQF0z/I195IcVnDPzZ1qqIQ+tA/YAo6X5tHvD/4eUwTaO+9P5WQ0vL2K8I/zFK0XzaLvj9yPLYb9YjBPyAG0bvEv78/Ph/QX1r1vT8=",
           "dtype": "f8"
          },
          "color": "#055306",
          "thickness": 1.2,
          "type": "data",
          "width": 10
         },
         "hovertemplate": "Q=%{y}<br>Pearson=%{x:.3f}<br>CI=[%{customdata[2]:.3f}, %{customdata[3]:.3f}]<br>countries=%{customdata[0]} • responses=%{customdata[1]}<br>certain=%{customdata[4]}<extra></extra>",
         "marker": {
          "color": "#055306",
          "line": {
           "color": "black",
           "width": 0.7
          },
          "opacity": {
           "bdata": "mpmZmZmZ4T9mZmZmZmbuP5qZmZmZmeE/mpmZmZmZ4T9mZmZmZmbuP2ZmZmZmZu4/mpmZmZmZ4T9mZmZmZmbuP2ZmZmZmZu4/mpmZmZmZ4T8=",
           "dtype": "f8"
          },
          "size": 10,
          "symbol": "circle"
         },
         "mode": "markers",
         "name": "Pearson (country × response)",
         "type": "scatter",
         "x": {
          "bdata": "uqEalE+btz8uEmZd7NfpP3/MYjdLxMa/o/8dqQgSfr8D48bK6sLSv910J740q9c//pH3JnPLxT9F55RAoofRPxy3iFkrS94/WSSVm3tIxr8=",
          "dtype": "f8"
         },
         "y": [
          "Q8",
          "Q11",
          "Q17",
          "Q65",
          "Q69",
          "Q70",
          "Q152",
          "Q153",
          "Q154",
          "Q155"
         ]
        }
       ],
       "layout": {
        "font": {
         "family": "Times New Roman",
         "size": 14
        },
        "height": 840,
        "hoverlabel": {
         "font": {
          "family": "Times New Roman",
          "size": 12
         }
        },
        "legend": {
         "title": {
          "text": ""
         }
        },
        "margin": {
         "b": 50,
         "l": 120,
         "r": 40,
         "t": 40
        },
        "shapes": [
         {
          "fillcolor": "#C9D3E3",
          "layer": "below",
          "line": {
           "width": 0
          },
          "opacity": 0.18,
          "type": "rect",
          "x0": -0.1,
          "x1": 0.1,
          "xref": "x",
          "y0": 0,
          "y1": 1,
          "yref": "y domain"
         },
         {
          "layer": "below",
          "line": {
           "color": "#9E9E9E",
           "dash": "dash",
           "width": 1.2
          },
          "opacity": 0.9,
          "type": "line",
          "x0": 0,
          "x1": 0,
          "xref": "x",
          "y0": 0,
          "y1": 1,
          "yref": "y domain"
         }
        ],
        "template": {
         "data": {
          "bar": [
           {
            "error_x": {
             "color": "#2a3f5f"
            },
            "error_y": {
             "color": "#2a3f5f"
            },
            "marker": {
             "line": {
              "color": "white",
              "width": 0.5
             },
             "pattern": {
              "fillmode": "overlay",
              "size": 10,
              "solidity": 0.2
             }
            },
            "type": "bar"
           }
          ],
          "barpolar": [
           {
            "marker": {
             "line": {
              "color": "white",
              "width": 0.5
             },
             "pattern": {
              "fillmode": "overlay",
              "size": 10,
              "solidity": 0.2
             }
            },
            "type": "barpolar"
           }
          ],
          "carpet": [
           {
            "aaxis": {
             "endlinecolor": "#2a3f5f",
             "gridcolor": "#C8D4E3",
             "linecolor": "#C8D4E3",
             "minorgridcolor": "#C8D4E3",
             "startlinecolor": "#2a3f5f"
            },
            "baxis": {
             "endlinecolor": "#2a3f5f",
             "gridcolor": "#C8D4E3",
             "linecolor": "#C8D4E3",
             "minorgridcolor": "#C8D4E3",
             "startlinecolor": "#2a3f5f"
            },
            "type": "carpet"
           }
          ],
          "choropleth": [
           {
            "colorbar": {
             "outlinewidth": 0,
             "ticks": ""
            },
            "type": "choropleth"
           }
          ],
          "contour": [
           {
            "colorbar": {
             "outlinewidth": 0,
             "ticks": ""
            },
            "colorscale": [
             [
              0,
              "#0d0887"
             ],
             [
              0.1111111111111111,
              "#46039f"
             ],
             [
              0.2222222222222222,
              "#7201a8"
             ],
             [
              0.3333333333333333,
              "#9c179e"
             ],
             [
              0.4444444444444444,
              "#bd3786"
             ],
             [
              0.5555555555555556,
              "#d8576b"
             ],
             [
              0.6666666666666666,
              "#ed7953"
             ],
             [
              0.7777777777777778,
              "#fb9f3a"
             ],
             [
              0.8888888888888888,
              "#fdca26"
             ],
             [
              1,
              "#f0f921"
             ]
            ],
            "type": "contour"
           }
          ],
          "contourcarpet": [
           {
            "colorbar": {
             "outlinewidth": 0,
             "ticks": ""
            },
            "type": "contourcarpet"
           }
          ],
          "heatmap": [
           {
            "colorbar": {
             "outlinewidth": 0,
             "ticks": ""
            },
            "colorscale": [
             [
              0,
              "#0d0887"
             ],
             [
              0.1111111111111111,
              "#46039f"
             ],
             [
              0.2222222222222222,
              "#7201a8"
             ],
             [
              0.3333333333333333,
              "#9c179e"
             ],
             [
              0.4444444444444444,
              "#bd3786"
             ],
             [
              0.5555555555555556,
              "#d8576b"
             ],
             [
              0.6666666666666666,
              "#ed7953"
             ],
             [
              0.7777777777777778,
              "#fb9f3a"
             ],
             [
              0.8888888888888888,
              "#fdca26"
             ],
             [
              1,
              "#f0f921"
             ]
            ],
            "type": "heatmap"
           }
          ],
          "histogram": [
           {
            "marker": {
             "pattern": {
              "fillmode": "overlay",
              "size": 10,
              "solidity": 0.2
             }
            },
            "type": "histogram"
           }
          ],
          "histogram2d": [
           {
            "colorbar": {
             "outlinewidth": 0,
             "ticks": ""
            },
            "colorscale": [
             [
              0,
              "#0d0887"
             ],
             [
              0.1111111111111111,
              "#46039f"
             ],
             [
              0.2222222222222222,
              "#7201a8"
             ],
             [
              0.3333333333333333,
              "#9c179e"
             ],
             [
              0.4444444444444444,
              "#bd3786"
             ],
             [
              0.5555555555555556,
              "#d8576b"
             ],
             [
              0.6666666666666666,
              "#ed7953"
             ],
             [
              0.7777777777777778,
              "#fb9f3a"
             ],
             [
              0.8888888888888888,
              "#fdca26"
             ],
             [
              1,
              "#f0f921"
             ]
            ],
            "type": "histogram2d"
           }
          ],
          "histogram2dcontour": [
           {
            "colorbar": {
             "outlinewidth": 0,
             "ticks": ""
            },
            "colorscale": [
             [
              0,
              "#0d0887"
             ],
             [
              0.1111111111111111,
              "#46039f"
             ],
             [
              0.2222222222222222,
              "#7201a8"
             ],
             [
              0.3333333333333333,
              "#9c179e"
             ],
             [
              0.4444444444444444,
              "#bd3786"
             ],
             [
              0.5555555555555556,
              "#d8576b"
             ],
             [
              0.6666666666666666,
              "#ed7953"
             ],
             [
              0.7777777777777778,
              "#fb9f3a"
             ],
             [
              0.8888888888888888,
              "#fdca26"
             ],
             [
              1,
              "#f0f921"
             ]
            ],
            "type": "histogram2dcontour"
           }
          ],
          "mesh3d": [
           {
            "colorbar": {
             "outlinewidth": 0,
             "ticks": ""
            },
            "type": "mesh3d"
           }
          ],
          "parcoords": [
           {
            "line": {
             "colorbar": {
              "outlinewidth": 0,
              "ticks": ""
             }
            },
            "type": "parcoords"
           }
          ],
          "pie": [
           {
            "automargin": true,
            "type": "pie"
           }
          ],
          "scatter": [
           {
            "fillpattern": {
             "fillmode": "overlay",
             "size": 10,
             "solidity": 0.2
            },
            "type": "scatter"
           }
          ],
          "scatter3d": [
           {
            "line": {
             "colorbar": {
              "outlinewidth": 0,
              "ticks": ""
             }
            },
            "marker": {
             "colorbar": {
              "outlinewidth": 0,
              "ticks": ""
             }
            },
            "type": "scatter3d"
           }
          ],
          "scattercarpet": [
           {
            "marker": {
             "colorbar": {
              "outlinewidth": 0,
              "ticks": ""
             }
            },
            "type": "scattercarpet"
           }
          ],
          "scattergeo": [
           {
            "marker": {
             "colorbar": {
              "outlinewidth": 0,
              "ticks": ""
             }
            },
            "type": "scattergeo"
           }
          ],
          "scattergl": [
           {
            "marker": {
             "colorbar": {
              "outlinewidth": 0,
              "ticks": ""
             }
            },
            "type": "scattergl"
           }
          ],
          "scattermap": [
           {
            "marker": {
             "colorbar": {
              "outlinewidth": 0,
              "ticks": ""
             }
            },
            "type": "scattermap"
           }
          ],
          "scattermapbox": [
           {
            "marker": {
             "colorbar": {
              "outlinewidth": 0,
              "ticks": ""
             }
            },
            "type": "scattermapbox"
           }
          ],
          "scatterpolar": [
           {
            "marker": {
             "colorbar": {
              "outlinewidth": 0,
              "ticks": ""
             }
            },
            "type": "scatterpolar"
           }
          ],
          "scatterpolargl": [
           {
            "marker": {
             "colorbar": {
              "outlinewidth": 0,
              "ticks": ""
             }
            },
            "type": "scatterpolargl"
           }
          ],
          "scatterternary": [
           {
            "marker": {
             "colorbar": {
              "outlinewidth": 0,
              "ticks": ""
             }
            },
            "type": "scatterternary"
           }
          ],
          "surface": [
           {
            "colorbar": {
             "outlinewidth": 0,
             "ticks": ""
            },
            "colorscale": [
             [
              0,
              "#0d0887"
             ],
             [
              0.1111111111111111,
              "#46039f"
             ],
             [
              0.2222222222222222,
              "#7201a8"
             ],
             [
              0.3333333333333333,
              "#9c179e"
             ],
             [
              0.4444444444444444,
              "#bd3786"
             ],
             [
              0.5555555555555556,
              "#d8576b"
             ],
             [
              0.6666666666666666,
              "#ed7953"
             ],
             [
              0.7777777777777778,
              "#fb9f3a"
             ],
             [
              0.8888888888888888,
              "#fdca26"
             ],
             [
              1,
              "#f0f921"
             ]
            ],
            "type": "surface"
           }
          ],
          "table": [
           {
            "cells": {
             "fill": {
              "color": "#EBF0F8"
             },
             "line": {
              "color": "white"
             }
            },
            "header": {
             "fill": {
              "color": "#C8D4E3"
             },
             "line": {
              "color": "white"
             }
            },
            "type": "table"
           }
          ]
         },
         "layout": {
          "annotationdefaults": {
           "arrowcolor": "#2a3f5f",
           "arrowhead": 0,
           "arrowwidth": 1
          },
          "autotypenumbers": "strict",
          "coloraxis": {
           "colorbar": {
            "outlinewidth": 0,
            "ticks": ""
           }
          },
          "colorscale": {
           "diverging": [
            [
             0,
             "#8e0152"
            ],
            [
             0.1,
             "#c51b7d"
            ],
            [
             0.2,
             "#de77ae"
            ],
            [
             0.3,
             "#f1b6da"
            ],
            [
             0.4,
             "#fde0ef"
            ],
            [
             0.5,
             "#f7f7f7"
            ],
            [
             0.6,
             "#e6f5d0"
            ],
            [
             0.7,
             "#b8e186"
            ],
            [
             0.8,
             "#7fbc41"
            ],
            [
             0.9,
             "#4d9221"
            ],
            [
             1,
             "#276419"
            ]
           ],
           "sequential": [
            [
             0,
             "#0d0887"
            ],
            [
             0.1111111111111111,
             "#46039f"
            ],
            [
             0.2222222222222222,
             "#7201a8"
            ],
            [
             0.3333333333333333,
             "#9c179e"
            ],
            [
             0.4444444444444444,
             "#bd3786"
            ],
            [
             0.5555555555555556,
             "#d8576b"
            ],
            [
             0.6666666666666666,
             "#ed7953"
            ],
            [
             0.7777777777777778,
             "#fb9f3a"
            ],
            [
             0.8888888888888888,
             "#fdca26"
            ],
            [
             1,
             "#f0f921"
            ]
           ],
           "sequentialminus": [
            [
             0,
             "#0d0887"
            ],
            [
             0.1111111111111111,
             "#46039f"
            ],
            [
             0.2222222222222222,
             "#7201a8"
            ],
            [
             0.3333333333333333,
             "#9c179e"
            ],
            [
             0.4444444444444444,
             "#bd3786"
            ],
            [
             0.5555555555555556,
             "#d8576b"
            ],
            [
             0.6666666666666666,
             "#ed7953"
            ],
            [
             0.7777777777777778,
             "#fb9f3a"
            ],
            [
             0.8888888888888888,
             "#fdca26"
            ],
            [
             1,
             "#f0f921"
            ]
           ]
          },
          "colorway": [
           "#636efa",
           "#EF553B",
           "#00cc96",
           "#ab63fa",
           "#FFA15A",
           "#19d3f3",
           "#FF6692",
           "#B6E880",
           "#FF97FF",
           "#FECB52"
          ],
          "font": {
           "color": "#2a3f5f"
          },
          "geo": {
           "bgcolor": "white",
           "lakecolor": "white",
           "landcolor": "white",
           "showlakes": true,
           "showland": true,
           "subunitcolor": "#C8D4E3"
          },
          "hoverlabel": {
           "align": "left"
          },
          "hovermode": "closest",
          "mapbox": {
           "style": "light"
          },
          "paper_bgcolor": "white",
          "plot_bgcolor": "white",
          "polar": {
           "angularaxis": {
            "gridcolor": "#EBF0F8",
            "linecolor": "#EBF0F8",
            "ticks": ""
           },
           "bgcolor": "white",
           "radialaxis": {
            "gridcolor": "#EBF0F8",
            "linecolor": "#EBF0F8",
            "ticks": ""
           }
          },
          "scene": {
           "xaxis": {
            "backgroundcolor": "white",
            "gridcolor": "#DFE8F3",
            "gridwidth": 2,
            "linecolor": "#EBF0F8",
            "showbackground": true,
            "ticks": "",
            "zerolinecolor": "#EBF0F8"
           },
           "yaxis": {
            "backgroundcolor": "white",
            "gridcolor": "#DFE8F3",
            "gridwidth": 2,
            "linecolor": "#EBF0F8",
            "showbackground": true,
            "ticks": "",
            "zerolinecolor": "#EBF0F8"
           },
           "zaxis": {
            "backgroundcolor": "white",
            "gridcolor": "#DFE8F3",
            "gridwidth": 2,
            "linecolor": "#EBF0F8",
            "showbackground": true,
            "ticks": "",
            "zerolinecolor": "#EBF0F8"
           }
          },
          "shapedefaults": {
           "line": {
            "color": "#2a3f5f"
           }
          },
          "ternary": {
           "aaxis": {
            "gridcolor": "#DFE8F3",
            "linecolor": "#A2B1C6",
            "ticks": ""
           },
           "baxis": {
            "gridcolor": "#DFE8F3",
            "linecolor": "#A2B1C6",
            "ticks": ""
           },
           "bgcolor": "white",
           "caxis": {
            "gridcolor": "#DFE8F3",
            "linecolor": "#A2B1C6",
            "ticks": ""
           }
          },
          "title": {
           "x": 0.05
          },
          "xaxis": {
           "automargin": true,
           "gridcolor": "#EBF0F8",
           "linecolor": "#EBF0F8",
           "ticks": "",
           "title": {
            "standoff": 15
           },
           "zerolinecolor": "#EBF0F8",
           "zerolinewidth": 2
          },
          "yaxis": {
           "automargin": true,
           "gridcolor": "#EBF0F8",
           "linecolor": "#EBF0F8",
           "ticks": "",
           "title": {
            "standoff": 15
           },
           "zerolinecolor": "#EBF0F8",
           "zerolinewidth": 2
          }
         }
        },
        "xaxis": {
         "dtick": 0.5,
         "gridcolor": "#D9D9D9",
         "gridwidth": 1,
         "linecolor": "#BDBDBD",
         "linewidth": 1,
         "range": [
          -1,
          1
         ],
         "showgrid": true,
         "showline": true,
         "tick0": -1,
         "tickfont": {
          "family": "Times New Roman",
          "size": 18
         },
         "ticks": "outside",
         "title": {
          "text": ""
         },
         "zeroline": true,
         "zerolinecolor": "#9E9E9E",
         "zerolinewidth": 1.2
        },
        "yaxis": {
         "autorange": "reversed",
         "categoryarray": [
          "Q8",
          "Q11",
          "Q17",
          "Q65",
          "Q69",
          "Q70",
          "Q152",
          "Q153",
          "Q154",
          "Q155"
         ],
         "categoryorder": "array",
         "gridcolor": "#EFEFEF",
         "gridwidth": 1,
         "showgrid": true,
         "showline": false,
         "tickfont": {
          "family": "Times New Roman",
          "size": 18
         },
         "title": {
          "text": ""
         }
        }
       }
      }
     },
     "metadata": {},
     "output_type": "display_data"
    }
   ],
   "source": [
    "import pandas as pd\n",
    "import numpy as np\n",
    "from IPython.display import display, Markdown\n",
    "import plotly.graph_objects as go\n",
    "\n",
    "# ================= Inputs =================\n",
    "wvs_path = r\"C:\\Users\\secki\\OneDrive\\Desktop\\MY498 Capstone Under Supervision\\WVS Wave 7 Full Package for EFA\\F00010736-WVS_Cross-National_Wave_7_rdata_v6_0\\wvs7_full_data.csv\"\n",
    "file_paths = {\n",
    "    'q8':  '../q8_pipeline/predictions/q8_predictions_filtered.csv',\n",
    "    'q11': '../q11_pipeline/predictions/q11_predictions_filtered.csv',\n",
    "    'q17': '../q17_pipeline/predictions/q17_predictions_filtered.csv',\n",
    "    'q152':'../q152_q153_pipeline/predictions/q152_predictions_filtered.csv',\n",
    "    'q154':'../q154_q155_pipeline/predictions/q154_predictions_filtered.csv',\n",
    "    'q65': '../q65_pipeline/predictions/q65_predictions_filtered.csv',\n",
    "    'q69': '../q69_pipeline/predictions/q69_predictions_filtered.csv',\n",
    "    'q70': '../q70_pipeline/predictions/q70_predictions_filtered.csv',\n",
    "    # NOTE: q153 and q155 are DERIVED from q152 and q154 respectively (see derived_sources below)\n",
    "}\n",
    "# include derived questions in analysis order\n",
    "questions = ['q8','q11','q17','q65','q69','q70','q152','q153','q154','q155']\n",
    "\n",
    "# which base prediction file to use per question\n",
    "derived_sources = {'q153': 'q152', 'q155': 'q154'}\n",
    "\n",
    "# ================= Settings =================\n",
    "B_BOOT = 3000   # cluster bootstrap draws (resample countries). Reduce if slow.\n",
    "ALPHA  = 0.05\n",
    "SEED   = 42\n",
    "EPS    = 0.1   # SESOI band: treat |r| < EPS as \"practically zero\"\n",
    "AX_PAD = 0.0   # x-axis padding; range = [-1-AX_PAD, 1+AX_PAD]\n",
    "\n",
    "# ================= Helpers =================\n",
    "def prettify_columns(df: pd.DataFrame) -> pd.DataFrame:\n",
    "    \"\"\"Return a copy with headers: underscores→spaces, Title Case.\"\"\"\n",
    "    return df.rename(columns={c: c.replace('_', ' ').strip().title() for c in df.columns})\n",
    "\n",
    "# ---------- Data prep (country × response) ----------\n",
    "def load_wvs_subset(path: str, qs: list) -> pd.DataFrame:\n",
    "    \"\"\"Load B_COUNTRY_ALPHA, weights, and requested question columns from WVS.\"\"\"\n",
    "    hdr = pd.read_csv(path, nrows=0)\n",
    "    need = ['B_COUNTRY_ALPHA','A_YEAR','S018'] + [q.upper() for q in qs]\n",
    "    usecols = [c for c in need if c in hdr.columns]\n",
    "    w = pd.read_csv(path, low_memory=False, usecols=usecols)\n",
    "    return w.dropna(subset=['B_COUNTRY_ALPHA','S018'])\n",
    "\n",
    "def wvs_weighted_props_country(wvs: pd.DataFrame, q: str) -> pd.DataFrame:\n",
    "    \"\"\"Weighted proportion per country × response for WVS (keep responses > 0).\"\"\"\n",
    "    var = q.upper()\n",
    "    if var not in wvs.columns:\n",
    "        return pd.DataFrame(columns=['B_COUNTRY_ALPHA','response_value','weighted_prop'])\n",
    "    x = wvs[['B_COUNTRY_ALPHA', var, 'S018']].copy()\n",
    "    x[var] = pd.to_numeric(x[var], errors='coerce')\n",
    "    x = x.dropna(subset=[var])\n",
    "    x = x[x[var] > 0]\n",
    "    if x.empty:\n",
    "        return pd.DataFrame(columns=['B_COUNTRY_ALPHA','response_value','weighted_prop'])\n",
    "    grp = x.groupby(['B_COUNTRY_ALPHA', var], as_index=False)['S018'].sum()\n",
    "    tot = x.groupby('B_COUNTRY_ALPHA', as_index=False)['S018'].sum().rename(columns={'S018':'WT_TOTAL'})\n",
    "    out = grp.merge(tot, on='B_COUNTRY_ALPHA')\n",
    "    out['weighted_prop'] = out['S018'] / out['WT_TOTAL']\n",
    "    out = out.rename(columns={var:'response_value'})\n",
    "    out['response_value'] = out['response_value'].astype(int)\n",
    "    return out[['B_COUNTRY_ALPHA','response_value','weighted_prop']]\n",
    "\n",
    "def predicted_props_country_standard(pred_path: str, q: str) -> pd.DataFrame:\n",
    "    \"\"\"Standard predicted distribution per country × response for Q8,Q11,Q17,Q65,Q69,Q70,Q152,Q154.\"\"\"\n",
    "    df = pd.read_csv(pred_path)\n",
    "    df = df.dropna(subset=['B_COUNTRY_ALPHA','predicted_combined_label'])\n",
    "    prefix = q.upper() + '_'\n",
    "    df = df[df['predicted_combined_label'].astype(str).str.startswith(prefix, na=False)]\n",
    "    if df.empty:\n",
    "        return pd.DataFrame(columns=['B_COUNTRY_ALPHA','response_value','predicted_prop'])\n",
    "    counts = df.groupby(['B_COUNTRY_ALPHA','predicted_combined_label']).size().reset_index(name='n')\n",
    "    totals = df.groupby('B_COUNTRY_ALPHA').size().reset_index(name='N')\n",
    "    m = counts.merge(totals, on='B_COUNTRY_ALPHA')\n",
    "    m['response_value'] = m['predicted_combined_label'].str.extract(r'(\\d+)$').astype(int)\n",
    "    m = m[m['response_value'] >= 1]\n",
    "    m['predicted_prop'] = m['n'] / m['N']\n",
    "    return m[['B_COUNTRY_ALPHA','response_value','predicted_prop']]\n",
    "\n",
    "def predicted_second_choice_from_base(pred_path: str, base_q: str) -> pd.DataFrame:\n",
    "    \"\"\"\n",
    "    Derive 'second-choice' distribution per country from base question predictions.\n",
    "    Steps:\n",
    "      1) For each (country, year), count labels of BASE question (e.g., Q152_*).\n",
    "      2) Pick the 2nd most frequent label via rank==2.\n",
    "      3) Aggregate SECOND-label counts across years to (country × response).\n",
    "      4) Normalize by country to get proportions.\n",
    "    \"\"\"\n",
    "    df = pd.read_csv(pred_path)\n",
    "    df = df.dropna(subset=['B_COUNTRY_ALPHA','A_YEAR','predicted_combined_label'])\n",
    "    prefix = base_q.upper() + '_'\n",
    "    df = df[df['predicted_combined_label'].astype(str).str.startswith(prefix, na=False)]\n",
    "    if df.empty:\n",
    "        return pd.DataFrame(columns=['B_COUNTRY_ALPHA','response_value','predicted_prop'])\n",
    "\n",
    "    # counts per (country, year, label)\n",
    "    counts = (df.groupby(['B_COUNTRY_ALPHA','A_YEAR','predicted_combined_label'])\n",
    "                .size().reset_index(name='n'))\n",
    "\n",
    "    # within each (country,year), take the 2nd most frequent label\n",
    "    counts = counts.sort_values(['B_COUNTRY_ALPHA','A_YEAR','n'], ascending=[True, True, False])\n",
    "    counts['rank'] = counts.groupby(['B_COUNTRY_ALPHA','A_YEAR'])['n'].rank(method='first', ascending=False)\n",
    "\n",
    "    sec = counts[counts['rank'] == 2].copy()\n",
    "    if sec.empty:\n",
    "        return pd.DataFrame(columns=['B_COUNTRY_ALPHA','response_value','predicted_prop'])\n",
    "\n",
    "    # extract response_value and aggregate across years to country level\n",
    "    sec['response_value'] = sec['predicted_combined_label'].str.extract(r'(\\d+)$').astype(int)\n",
    "    agg = (sec.groupby(['B_COUNTRY_ALPHA','response_value'], as_index=False)['n']\n",
    "             .sum().rename(columns={'n':'second_total'}))\n",
    "\n",
    "    # normalize per country so that second-choice distribution sums to 1\n",
    "    denom = (agg.groupby('B_COUNTRY_ALPHA', as_index=False)['second_total']\n",
    "                .sum().rename(columns={'second_total':'DEN'}))\n",
    "    out = agg.merge(denom, on='B_COUNTRY_ALPHA')\n",
    "    out = out[out['DEN'] > 0]\n",
    "    out['predicted_prop'] = out['second_total'] / out['DEN']\n",
    "    return out[['B_COUNTRY_ALPHA','response_value','predicted_prop']]\n",
    "\n",
    "def predicted_props_country(q: str) -> pd.DataFrame:\n",
    "    \"\"\"\n",
    "    Dispatcher:\n",
    "      - standard questions → predicted_props_country_standard\n",
    "      - derived second-choice (Q153←Q152, Q155←Q154) → predicted_second_choice_from_base\n",
    "    \"\"\"\n",
    "    if q in derived_sources:\n",
    "        base = derived_sources[q]\n",
    "        return predicted_second_choice_from_base(file_paths[base], base)\n",
    "    else:\n",
    "        return predicted_props_country_standard(file_paths[q], q)\n",
    "\n",
    "def build_common_grid_country(pred: pd.DataFrame, wvs: pd.DataFrame) -> pd.DataFrame:\n",
    "    \"\"\"Intersect countries, union response levels; fill missing with 0s.\"\"\"\n",
    "    if pred.empty or wvs.empty:\n",
    "        return pd.DataFrame(columns=['B_COUNTRY_ALPHA','response_value','predicted_prop','weighted_prop'])\n",
    "    countries = sorted(set(pred['B_COUNTRY_ALPHA']) & set(wvs['B_COUNTRY_ALPHA']))\n",
    "    if not countries:\n",
    "        return pd.DataFrame(columns=['B_COUNTRY_ALPHA','response_value','predicted_prop','weighted_prop'])\n",
    "    levels = sorted(set(pred['response_value']).union(set(wvs['response_value'])))\n",
    "    grid = pd.DataFrame({'B_COUNTRY_ALPHA': countries}).assign(key=1)\\\n",
    "           .merge(pd.DataFrame({'response_value': levels, 'key':1}), on='key').drop('key', axis=1)\n",
    "    g = (grid.merge(pred, on=['B_COUNTRY_ALPHA','response_value'], how='left')\n",
    "              .merge(wvs,  on=['B_COUNTRY_ALPHA','response_value'], how='left'))\n",
    "    g['predicted_prop'] = g['predicted_prop'].fillna(0.0)\n",
    "    g['weighted_prop']  = g['weighted_prop'].fillna(0.0)\n",
    "    return g\n",
    "\n",
    "# ---------- Correlations + cluster bootstrap CIs ----------\n",
    "def pearson_corr(x, y):\n",
    "    x = np.asarray(x, float); y = np.asarray(y, float)\n",
    "    x -= x.mean(); y -= y.mean()\n",
    "    denom = np.sqrt((x*x).sum() * (y*y).sum())\n",
    "    return np.nan if denom == 0 else float((x*y).sum() / denom)\n",
    "\n",
    "def spearman_corr(x, y):\n",
    "    xr = pd.Series(x).rank(method='average').to_numpy()\n",
    "    yr = pd.Series(y).rank(method='average').to_numpy()\n",
    "    return pearson_corr(xr, yr)\n",
    "\n",
    "def cluster_bootstrap_ci(P_mat, W_mat, B=B_BOOT, alpha=ALPHA, seed=SEED):\n",
    "    \"\"\"Resample countries with replacement; flatten across levels each draw.\"\"\"\n",
    "    rng = np.random.default_rng(seed)\n",
    "    C, _ = P_mat.shape\n",
    "    if C < 2:\n",
    "        return (np.nan, np.nan, np.nan, np.nan)\n",
    "    rP, rS = [], []\n",
    "    for _ in range(B):\n",
    "        idx = rng.integers(0, C, size=C)\n",
    "        x = P_mat[idx, :].ravel()\n",
    "        y = W_mat[idx, :].ravel()\n",
    "        if np.isclose(np.var(x),0) or np.isclose(np.var(y),0):\n",
    "            continue\n",
    "        rP.append(pearson_corr(x, y))\n",
    "        rS.append(spearman_corr(x, y))\n",
    "    if len(rP) == 0 or len(rS) == 0:\n",
    "        return (np.nan, np.nan, np.nan, np.nan)\n",
    "    lo = 100*alpha/2; hi = 100*(1-alpha/2)\n",
    "    return (np.percentile(rP, lo), np.percentile(rP, hi),\n",
    "            np.percentile(rS, lo), np.percentile(rS, hi))\n",
    "\n",
    "def per_question_corr_with_ci(pred: pd.DataFrame, wvs: pd.DataFrame, q: str):\n",
    "    \"\"\"One Pearson & Spearman per question + cluster-bootstrap CIs (country resampling).\"\"\"\n",
    "    g = build_common_grid_country(pred, wvs)\n",
    "    if g.empty:\n",
    "        return {'question': q.upper(), 'countries': 0, 'response': 0, 'cells': 0,\n",
    "                'pearson': np.nan, 'pearson_low': np.nan, 'pearson_high': np.nan,\n",
    "                'spearman': np.nan, 'spearman_low': np.nan, 'spearman_high': np.nan}\n",
    "    levels = sorted(g['response_value'].unique())\n",
    "    countries = sorted(g['B_COUNTRY_ALPHA'].unique())\n",
    "    P = g.pivot_table(index='B_COUNTRY_ALPHA', columns='response_value',\n",
    "                      values='predicted_prop', fill_value=0.0).reindex(index=countries, columns=levels).to_numpy()\n",
    "    W = g.pivot_table(index='B_COUNTRY_ALPHA', columns='response_value',\n",
    "                      values='weighted_prop',  fill_value=0.0).reindex(index=countries, columns=levels).to_numpy()\n",
    "\n",
    "    x = P.ravel(); y = W.ravel()\n",
    "    if np.isclose(np.var(x),0) or np.isclose(np.var(y),0):\n",
    "        r_p = r_s = np.nan\n",
    "        p_lo = p_hi = s_lo = s_hi = np.nan\n",
    "    else:\n",
    "        r_p = pearson_corr(x, y)\n",
    "        r_s = spearman_corr(x, y)\n",
    "        p_lo, p_hi, s_lo, s_hi = cluster_bootstrap_ci(P, W)\n",
    "\n",
    "    return {\n",
    "        'question': q.upper(),\n",
    "        'countries': len(countries),\n",
    "        'response': len(levels),  # renamed for output\n",
    "        'cells': len(x),\n",
    "        'pearson': r_p, 'pearson_low': p_lo, 'pearson_high': p_hi,\n",
    "        'spearman': r_s, 'spearman_low': s_lo, 'spearman_high': s_hi\n",
    "    }\n",
    "\n",
    "# ================= Run pipeline =================\n",
    "# include derived questions so WVS loader reads Q153 and Q155 as well\n",
    "wvs_all = load_wvs_subset(wvs_path, questions)\n",
    "\n",
    "rows = []\n",
    "for q in questions:\n",
    "    pred = predicted_props_country(q)               # standard or derived second-choice\n",
    "    wsub = wvs_weighted_props_country(wvs_all, q)  # WVS for same question (Q153/Q155 included)\n",
    "    rows.append(per_question_corr_with_ci(pred, wsub, q))\n",
    "\n",
    "results = pd.DataFrame(rows)\n",
    "results['question'] = pd.Categorical(results['question'], categories=[q.upper() for q in questions], ordered=True)\n",
    "results = results.sort_values('question').reset_index(drop=True)\n",
    "\n",
    "# ================= Display table =================\n",
    "pd.options.display.float_format = '{:.3f}'.format\n",
    "cols = ['question','response','countries','cells',\n",
    "        'pearson','pearson_low','pearson_high',\n",
    "        'spearman','spearman_low','spearman_high']\n",
    "\n",
    "display(Markdown(f\"### Per-question correlation (country level; cluster bootstrap B={B_BOOT}; SESOI ±{EPS})\"))\n",
    "\n",
    "tbl = prettify_columns(results[cols].copy()).rename(columns={'Response': 'No. of Responses'})\n",
    "display(tbl)\n",
    "\n",
    "# ---------- Save table to LaTeX (adjustbox + \\Large, double backslashes) ----------\n",
    "latex_core = tbl.to_latex(index=False,\n",
    "                          escape=True,\n",
    "                          float_format=\"%.3f\",\n",
    "                          column_format='lrrrrrrrrr')  # 10 cols: 1 left + 9 right\n",
    "\n",
    "latex_wrapped = r\"\"\"\n",
    "\\begin{table}[!ht]\n",
    "\\centering\n",
    "\\renewcommand{\\arraystretch}{1.15}\n",
    "\\begin{adjustbox}{width=\\textwidth}\n",
    "\\Large\n",
    "%s\n",
    "\\end{adjustbox}\n",
    "\\end{table}\n",
    "\"\"\" % latex_core\n",
    "\n",
    "with open(\"per_question_correlations.tex\", \"w\", encoding=\"utf-8\") as f:\n",
    "    f.write(latex_wrapped)\n",
    "\n",
    "print(\"LaTeX table saved to per_question_correlations.tex\")\n",
    "\n",
    "# ================= Plot (refined style) =================\n",
    "FONT_FAMILY   = \"Times New Roman\"\n",
    "PEARSON_COLOR = \"#055306\"   # deep blue\n",
    "GRID_MAIN     = \"#D9D9D9\"   # primary grid\n",
    "GRID_LIGHT    = \"#EFEFEF\"   # secondary grid\n",
    "SESOI_FILL    = \"#C9D3E3\"   # muted blue-gray\n",
    "\n",
    "# certainty mask\n",
    "certain_pos  = results['pearson_low']  >  EPS\n",
    "certain_neg  = results['pearson_high'] < -EPS\n",
    "certain_null = (results['pearson_low'] >= -EPS) & (results['pearson_high'] <= EPS)\n",
    "results['certain'] = (certain_pos | certain_neg | certain_null)\n",
    "opacities = np.where(results['certain'], 0.95, 0.55)\n",
    "\n",
    "fig = go.Figure()\n",
    "\n",
    "# SESOI band drawn behind traces\n",
    "fig.add_vrect(\n",
    "    x0=-EPS, x1=EPS,\n",
    "    fillcolor=SESOI_FILL,\n",
    "    opacity=0.18,\n",
    "    line_width=0,\n",
    "    layer=\"below\"\n",
    ")\n",
    "\n",
    "# points with balanced error bars\n",
    "fig.add_trace(go.Scatter(\n",
    "    x=results['pearson'],\n",
    "    y=results['question'],\n",
    "    mode='markers',\n",
    "    name='Pearson (country × response)',\n",
    "    marker=dict(\n",
    "        symbol='circle',\n",
    "        size=10,\n",
    "        color=PEARSON_COLOR,\n",
    "        opacity=opacities,\n",
    "        line=dict(color='black', width=0.7)\n",
    "    ),\n",
    "    error_x=dict(\n",
    "        type='data',\n",
    "        array=(results['pearson_high'] - results['pearson']).clip(lower=0).fillna(0),\n",
    "        arrayminus=(results['pearson'] - results['pearson_low']).clip(lower=0).fillna(0),\n",
    "        thickness=1.2,        # stroke thickness\n",
    "        width=10,             # whisker width (pixels)\n",
    "        color=PEARSON_COLOR\n",
    "    ),\n",
    "    customdata=np.c_[results['countries'], results['response'],\n",
    "                     results['pearson_low'], results['pearson_high'],\n",
    "                     results['certain']],\n",
    "    hovertemplate=(\"Q=%{y}<br>Pearson=%{x:.3f}\"\n",
    "                   \"<br>CI=[%{customdata[2]:.3f}, %{customdata[3]:.3f}]\"\n",
    "                   \"<br>countries=%{customdata[0]} • responses=%{customdata[1]}\"\n",
    "                   \"<br>certain=%{customdata[4]}<extra></extra>\")\n",
    "))\n",
    "\n",
    "# layout: white background, crisp grids, proportional spacing\n",
    "fig.update_layout(\n",
    "    template=\"plotly_white\",\n",
    "    height=60*len(questions) + 240,\n",
    "    margin=dict(l=120, r=40, t=40, b=50),\n",
    "    legend_title_text='',\n",
    "    font=dict(family=FONT_FAMILY, size=14),\n",
    "    hoverlabel=dict(font=dict(family=FONT_FAMILY, size=12))\n",
    ")\n",
    "\n",
    "# x-axis: fixed range, subtle grid, prominent zero line\n",
    "fig.update_xaxes(\n",
    "    title='',\n",
    "    range=[-1-AX_PAD, 1+AX_PAD],\n",
    "    tick0=-1, dtick=0.5,\n",
    "    showgrid=True, gridcolor=GRID_MAIN, gridwidth=1,\n",
    "    zeroline=True, zerolinewidth=1.2, zerolinecolor=\"#9E9E9E\",\n",
    "    showline=True, linewidth=1, linecolor=\"#BDBDBD\",\n",
    "    ticks='outside',\n",
    "    tickfont=dict(family=FONT_FAMILY, size=18)\n",
    ")\n",
    "\n",
    "# y-axis: even category spacing, light horizontal guides\n",
    "fig.update_yaxes(\n",
    "    title='',\n",
    "    categoryorder='array',\n",
    "    categoryarray=[q.upper() for q in questions],\n",
    "    autorange='reversed',\n",
    "    showgrid=True, gridcolor=GRID_LIGHT, gridwidth=1,\n",
    "    showline=False,\n",
    "    tickfont=dict(family=FONT_FAMILY, size=18)\n",
    ")\n",
    "\n",
    "# reference line at zero (above grid, below markers)\n",
    "fig.add_vline(x=0, line_dash='dash', line_color='#9E9E9E', line_width=1.2, opacity=0.9, layer='below')\n",
    "\n",
    "fig.show()\n"
   ]
  },
  {
   "cell_type": "code",
   "execution_count": null,
   "id": "783aa072",
   "metadata": {},
   "outputs": [
    {
     "data": {
      "application/vnd.plotly.v1+json": {
       "config": {
        "plotlyServerURL": "https://plot.ly"
       },
       "data": [
        {
         "hovertemplate": "<b>%{hovertext}</b><br><br>Country=%{x}<br>=%{y}<br>Sentence Count=%{marker.size}<extra></extra>",
         "hovertext": [
          "AND"
         ],
         "legendgroup": "AND",
         "marker": {
          "color": "#636efa",
          "size": {
           "bdata": "Bg==",
           "dtype": "i1"
          },
          "sizemode": "area",
          "sizeref": 0.02625,
          "symbol": "circle"
         },
         "mode": "markers",
         "name": "AND",
         "orientation": "v",
         "showlegend": true,
         "type": "scatter",
         "x": [
          "AND"
         ],
         "xaxis": "x",
         "y": {
          "bdata": "xhhjjDHGyD8=",
          "dtype": "f8"
         },
         "yaxis": "y"
        },
        {
         "hovertemplate": "<b>%{hovertext}</b><br><br>Country=%{x}<br>=%{y}<br>Sentence Count=%{marker.size}<extra></extra>",
         "hovertext": [
          "ARG"
         ],
         "legendgroup": "ARG",
         "marker": {
          "color": "#EF553B",
          "size": {
           "bdata": "BQ==",
           "dtype": "i1"
          },
          "sizemode": "area",
          "sizeref": 0.02625,
          "symbol": "circle"
         },
         "mode": "markers",
         "name": "ARG",
         "orientation": "v",
         "showlegend": true,
         "type": "scatter",
         "x": [
          "ARG"
         ],
         "xaxis": "x",
         "y": {
          "bdata": "nud5nud5zj8=",
          "dtype": "f8"
         },
         "yaxis": "y"
        },
        {
         "hovertemplate": "<b>%{hovertext}</b><br><br>Country=%{x}<br>=%{y}<br>Sentence Count=%{marker.size}<extra></extra>",
         "hovertext": [
          "ARM"
         ],
         "legendgroup": "ARM",
         "marker": {
          "color": "#00cc96",
          "size": {
           "bdata": "Ag==",
           "dtype": "i1"
          },
          "sizemode": "area",
          "sizeref": 0.02625,
          "symbol": "circle"
         },
         "mode": "markers",
         "name": "ARM",
         "orientation": "v",
         "showlegend": true,
         "type": "scatter",
         "x": [
          "ARM"
         ],
         "xaxis": "x",
         "y": {
          "bdata": "mpmZmZmZuT8=",
          "dtype": "f8"
         },
         "yaxis": "y"
        },
        {
         "hovertemplate": "<b>%{hovertext}</b><br><br>Country=%{x}<br>=%{y}<br>Sentence Count=%{marker.size}<extra></extra>",
         "hovertext": [
          "AUS"
         ],
         "legendgroup": "AUS",
         "marker": {
          "color": "#ab63fa",
          "size": {
           "bdata": "Dg==",
           "dtype": "i1"
          },
          "sizemode": "area",
          "sizeref": 0.02625,
          "symbol": "circle"
         },
         "mode": "markers",
         "name": "AUS",
         "orientation": "v",
         "showlegend": true,
         "type": "scatter",
         "x": [
          "AUS"
         ],
         "xaxis": "x",
         "y": {
          "bdata": "kpGRkZGR0T8=",
          "dtype": "f8"
         },
         "yaxis": "y"
        },
        {
         "hovertemplate": "<b>%{hovertext}</b><br><br>Country=%{x}<br>=%{y}<br>Sentence Count=%{marker.size}<extra></extra>",
         "hovertext": [
          "BGD"
         ],
         "legendgroup": "BGD",
         "marker": {
          "color": "#FFA15A",
          "size": {
           "bdata": "Cw==",
           "dtype": "i1"
          },
          "sizemode": "area",
          "sizeref": 0.02625,
          "symbol": "circle"
         },
         "mode": "markers",
         "name": "BGD",
         "orientation": "v",
         "showlegend": true,
         "type": "scatter",
         "x": [
          "BGD"
         ],
         "xaxis": "x",
         "y": {
          "bdata": "tbS0tLS01D8=",
          "dtype": "f8"
         },
         "yaxis": "y"
        },
        {
         "hovertemplate": "<b>%{hovertext}</b><br><br>Country=%{x}<br>=%{y}<br>Sentence Count=%{marker.size}<extra></extra>",
         "hovertext": [
          "BOL"
         ],
         "legendgroup": "BOL",
         "marker": {
          "color": "#19d3f3",
          "size": {
           "bdata": "DA==",
           "dtype": "i1"
          },
          "sizemode": "area",
          "sizeref": 0.02625,
          "symbol": "circle"
         },
         "mode": "markers",
         "name": "BOL",
         "orientation": "v",
         "showlegend": true,
         "type": "scatter",
         "x": [
          "BOL"
         ],
         "xaxis": "x",
         "y": {
          "bdata": "MzMzMzMz0z8=",
          "dtype": "f8"
         },
         "yaxis": "y"
        },
        {
         "hovertemplate": "<b>%{hovertext}</b><br><br>Country=%{x}<br>=%{y}<br>Sentence Count=%{marker.size}<extra></extra>",
         "hovertext": [
          "BRA"
         ],
         "legendgroup": "BRA",
         "marker": {
          "color": "#FF6692",
          "size": {
           "bdata": "Bw==",
           "dtype": "i1"
          },
          "sizemode": "area",
          "sizeref": 0.02625,
          "symbol": "circle"
         },
         "mode": "markers",
         "name": "BRA",
         "orientation": "v",
         "showlegend": true,
         "type": "scatter",
         "x": [
          "BRA"
         ],
         "xaxis": "x",
         "y": {
          "bdata": "OL3pTW960z8=",
          "dtype": "f8"
         },
         "yaxis": "y"
        },
        {
         "hovertemplate": "<b>%{hovertext}</b><br><br>Country=%{x}<br>=%{y}<br>Sentence Count=%{marker.size}<extra></extra>",
         "hovertext": [
          "CAN"
         ],
         "legendgroup": "CAN",
         "marker": {
          "color": "#B6E880",
          "size": {
           "bdata": "Bg==",
           "dtype": "i1"
          },
          "sizemode": "area",
          "sizeref": 0.02625,
          "symbol": "circle"
         },
         "mode": "markers",
         "name": "CAN",
         "orientation": "v",
         "showlegend": true,
         "type": "scatter",
         "x": [
          "CAN"
         ],
         "xaxis": "x",
         "y": {
          "bdata": "QUyuICZXwD8=",
          "dtype": "f8"
         },
         "yaxis": "y"
        },
        {
         "hovertemplate": "<b>%{hovertext}</b><br><br>Country=%{x}<br>=%{y}<br>Sentence Count=%{marker.size}<extra></extra>",
         "hovertext": [
          "CHL"
         ],
         "legendgroup": "CHL",
         "marker": {
          "color": "#FF97FF",
          "size": {
           "bdata": "CA==",
           "dtype": "i1"
          },
          "sizemode": "area",
          "sizeref": 0.02625,
          "symbol": "circle"
         },
         "mode": "markers",
         "name": "CHL",
         "orientation": "v",
         "showlegend": true,
         "type": "scatter",
         "x": [
          "CHL"
         ],
         "xaxis": "x",
         "y": {
          "bdata": "wXgr+xxSwz8=",
          "dtype": "f8"
         },
         "yaxis": "y"
        },
        {
         "hovertemplate": "<b>%{hovertext}</b><br><br>Country=%{x}<br>=%{y}<br>Sentence Count=%{marker.size}<extra></extra>",
         "hovertext": [
          "CHN"
         ],
         "legendgroup": "CHN",
         "marker": {
          "color": "#FECB52",
          "size": {
           "bdata": "Kg==",
           "dtype": "i1"
          },
          "sizemode": "area",
          "sizeref": 0.02625,
          "symbol": "circle"
         },
         "mode": "markers",
         "name": "CHN",
         "orientation": "v",
         "showlegend": true,
         "type": "scatter",
         "x": [
          "CHN"
         ],
         "xaxis": "x",
         "y": {
          "bdata": "59ceclkx4D8=",
          "dtype": "f8"
         },
         "yaxis": "y"
        },
        {
         "hovertemplate": "<b>%{hovertext}</b><br><br>Country=%{x}<br>=%{y}<br>Sentence Count=%{marker.size}<extra></extra>",
         "hovertext": [
          "COL"
         ],
         "legendgroup": "COL",
         "marker": {
          "color": "#636efa",
          "size": {
           "bdata": "Cg==",
           "dtype": "i1"
          },
          "sizemode": "area",
          "sizeref": 0.02625,
          "symbol": "circle"
         },
         "mode": "markers",
         "name": "COL",
         "orientation": "v",
         "showlegend": true,
         "type": "scatter",
         "x": [
          "COL"
         ],
         "xaxis": "x",
         "y": {
          "bdata": "2Ymd2Imd2D8=",
          "dtype": "f8"
         },
         "yaxis": "y"
        },
        {
         "hovertemplate": "<b>%{hovertext}</b><br><br>Country=%{x}<br>=%{y}<br>Sentence Count=%{marker.size}<extra></extra>",
         "hovertext": [
          "CYP"
         ],
         "legendgroup": "CYP",
         "marker": {
          "color": "#EF553B",
          "size": {
           "bdata": "Ag==",
           "dtype": "i1"
          },
          "sizemode": "area",
          "sizeref": 0.02625,
          "symbol": "circle"
         },
         "mode": "markers",
         "name": "CYP",
         "orientation": "v",
         "showlegend": true,
         "type": "scatter",
         "x": [
          "CYP"
         ],
         "xaxis": "x",
         "y": {
          "bdata": "ERERERERwT8=",
          "dtype": "f8"
         },
         "yaxis": "y"
        },
        {
         "hovertemplate": "<b>%{hovertext}</b><br><br>Country=%{x}<br>=%{y}<br>Sentence Count=%{marker.size}<extra></extra>",
         "hovertext": [
          "CZE"
         ],
         "legendgroup": "CZE",
         "marker": {
          "color": "#00cc96",
          "size": {
           "bdata": "Ag==",
           "dtype": "i1"
          },
          "sizemode": "area",
          "sizeref": 0.02625,
          "symbol": "circle"
         },
         "mode": "markers",
         "name": "CZE",
         "orientation": "v",
         "showlegend": true,
         "type": "scatter",
         "x": [
          "CZE"
         ],
         "xaxis": "x",
         "y": {
          "bdata": "RhdddNFFtz8=",
          "dtype": "f8"
         },
         "yaxis": "y"
        },
        {
         "hovertemplate": "<b>%{hovertext}</b><br><br>Country=%{x}<br>=%{y}<br>Sentence Count=%{marker.size}<extra></extra>",
         "hovertext": [
          "DEU"
         ],
         "legendgroup": "DEU",
         "marker": {
          "color": "#ab63fa",
          "size": {
           "bdata": "Ag==",
           "dtype": "i1"
          },
          "sizemode": "area",
          "sizeref": 0.02625,
          "symbol": "circle"
         },
         "mode": "markers",
         "name": "DEU",
         "orientation": "v",
         "showlegend": true,
         "type": "scatter",
         "x": [
          "DEU"
         ],
         "xaxis": "x",
         "y": {
          "bdata": "KK+hvIbyqj8=",
          "dtype": "f8"
         },
         "yaxis": "y"
        },
        {
         "hovertemplate": "<b>%{hovertext}</b><br><br>Country=%{x}<br>=%{y}<br>Sentence Count=%{marker.size}<extra></extra>",
         "hovertext": [
          "ECU"
         ],
         "legendgroup": "ECU",
         "marker": {
          "color": "#FFA15A",
          "size": {
           "bdata": "BQ==",
           "dtype": "i1"
          },
          "sizemode": "area",
          "sizeref": 0.02625,
          "symbol": "circle"
         },
         "mode": "markers",
         "name": "ECU",
         "orientation": "v",
         "showlegend": true,
         "type": "scatter",
         "x": [
          "ECU"
         ],
         "xaxis": "x",
         "y": {
          "bdata": "mpmZmZmZyT8=",
          "dtype": "f8"
         },
         "yaxis": "y"
        },
        {
         "hovertemplate": "<b>%{hovertext}</b><br><br>Country=%{x}<br>=%{y}<br>Sentence Count=%{marker.size}<extra></extra>",
         "hovertext": [
          "EGY"
         ],
         "legendgroup": "EGY",
         "marker": {
          "color": "#19d3f3",
          "size": {
           "bdata": "Cw==",
           "dtype": "i1"
          },
          "sizemode": "area",
          "sizeref": 0.02625,
          "symbol": "circle"
         },
         "mode": "markers",
         "name": "EGY",
         "orientation": "v",
         "showlegend": true,
         "type": "scatter",
         "x": [
          "EGY"
         ],
         "xaxis": "x",
         "y": {
          "bdata": "SZIkSZIk2T8=",
          "dtype": "f8"
         },
         "yaxis": "y"
        },
        {
         "hovertemplate": "<b>%{hovertext}</b><br><br>Country=%{x}<br>=%{y}<br>Sentence Count=%{marker.size}<extra></extra>",
         "hovertext": [
          "ETH"
         ],
         "legendgroup": "ETH",
         "marker": {
          "color": "#FF6692",
          "size": {
           "bdata": "Dg==",
           "dtype": "i1"
          },
          "sizemode": "area",
          "sizeref": 0.02625,
          "symbol": "circle"
         },
         "mode": "markers",
         "name": "ETH",
         "orientation": "v",
         "showlegend": true,
         "type": "scatter",
         "x": [
          "ETH"
         ],
         "xaxis": "x",
         "y": {
          "bdata": "55xzzjnn3D8=",
          "dtype": "f8"
         },
         "yaxis": "y"
        },
        {
         "hovertemplate": "<b>%{hovertext}</b><br><br>Country=%{x}<br>=%{y}<br>Sentence Count=%{marker.size}<extra></extra>",
         "hovertext": [
          "GBR"
         ],
         "legendgroup": "GBR",
         "marker": {
          "color": "#B6E880",
          "size": {
           "bdata": "Cw==",
           "dtype": "i1"
          },
          "sizemode": "area",
          "sizeref": 0.02625,
          "symbol": "circle"
         },
         "mode": "markers",
         "name": "GBR",
         "orientation": "v",
         "showlegend": true,
         "type": "scatter",
         "x": [
          "GBR"
         ],
         "xaxis": "x",
         "y": {
          "bdata": "CsZb2eeQyj8=",
          "dtype": "f8"
         },
         "yaxis": "y"
        },
        {
         "hovertemplate": "<b>%{hovertext}</b><br><br>Country=%{x}<br>=%{y}<br>Sentence Count=%{marker.size}<extra></extra>",
         "hovertext": [
          "GRC"
         ],
         "legendgroup": "GRC",
         "marker": {
          "color": "#FF97FF",
          "size": {
           "bdata": "BA==",
           "dtype": "i1"
          },
          "sizemode": "area",
          "sizeref": 0.02625,
          "symbol": "circle"
         },
         "mode": "markers",
         "name": "GRC",
         "orientation": "v",
         "showlegend": true,
         "type": "scatter",
         "x": [
          "GRC"
         ],
         "xaxis": "x",
         "y": {
          "bdata": "lnsaYbmnwT8=",
          "dtype": "f8"
         },
         "yaxis": "y"
        },
        {
         "hovertemplate": "<b>%{hovertext}</b><br><br>Country=%{x}<br>=%{y}<br>Sentence Count=%{marker.size}<extra></extra>",
         "hovertext": [
          "GTM"
         ],
         "legendgroup": "GTM",
         "marker": {
          "color": "#FECB52",
          "size": {
           "bdata": "Bw==",
           "dtype": "i1"
          },
          "sizemode": "area",
          "sizeref": 0.02625,
          "symbol": "circle"
         },
         "mode": "markers",
         "name": "GTM",
         "orientation": "v",
         "showlegend": true,
         "type": "scatter",
         "x": [
          "GTM"
         ],
         "xaxis": "x",
         "y": {
          "bdata": "7FG4HoXr0T8=",
          "dtype": "f8"
         },
         "yaxis": "y"
        },
        {
         "hovertemplate": "<b>%{hovertext}</b><br><br>Country=%{x}<br>=%{y}<br>Sentence Count=%{marker.size}<extra></extra>",
         "hovertext": [
          "IDN"
         ],
         "legendgroup": "IDN",
         "marker": {
          "color": "#636efa",
          "size": {
           "bdata": "EQ==",
           "dtype": "i1"
          },
          "sizemode": "area",
          "sizeref": 0.02625,
          "symbol": "circle"
         },
         "mode": "markers",
         "name": "IDN",
         "orientation": "v",
         "showlegend": true,
         "type": "scatter",
         "x": [
          "IDN"
         ],
         "xaxis": "x",
         "y": {
          "bdata": "G8prKK+h3D8=",
          "dtype": "f8"
         },
         "yaxis": "y"
        },
        {
         "hovertemplate": "<b>%{hovertext}</b><br><br>Country=%{x}<br>=%{y}<br>Sentence Count=%{marker.size}<extra></extra>",
         "hovertext": [
          "IND"
         ],
         "legendgroup": "IND",
         "marker": {
          "color": "#EF553B",
          "size": {
           "bdata": "Bg==",
           "dtype": "i1"
          },
          "sizemode": "area",
          "sizeref": 0.02625,
          "symbol": "circle"
         },
         "mode": "markers",
         "name": "IND",
         "orientation": "v",
         "showlegend": true,
         "type": "scatter",
         "x": [
          "IND"
         ],
         "xaxis": "x",
         "y": {
          "bdata": "kiRJkiRJ0j8=",
          "dtype": "f8"
         },
         "yaxis": "y"
        },
        {
         "hovertemplate": "<b>%{hovertext}</b><br><br>Country=%{x}<br>=%{y}<br>Sentence Count=%{marker.size}<extra></extra>",
         "hovertext": [
          "IRN"
         ],
         "legendgroup": "IRN",
         "marker": {
          "color": "#00cc96",
          "size": {
           "bdata": "Ag==",
           "dtype": "i1"
          },
          "sizemode": "area",
          "sizeref": 0.02625,
          "symbol": "circle"
         },
         "mode": "markers",
         "name": "IRN",
         "orientation": "v",
         "showlegend": true,
         "type": "scatter",
         "x": [
          "IRN"
         ],
         "xaxis": "x",
         "y": {
          "bdata": "kiRJkiRJsj8=",
          "dtype": "f8"
         },
         "yaxis": "y"
        },
        {
         "hovertemplate": "<b>%{hovertext}</b><br><br>Country=%{x}<br>=%{y}<br>Sentence Count=%{marker.size}<extra></extra>",
         "hovertext": [
          "IRQ"
         ],
         "legendgroup": "IRQ",
         "marker": {
          "color": "#ab63fa",
          "size": {
           "bdata": "BQ==",
           "dtype": "i1"
          },
          "sizemode": "area",
          "sizeref": 0.02625,
          "symbol": "circle"
         },
         "mode": "markers",
         "name": "IRQ",
         "orientation": "v",
         "showlegend": true,
         "type": "scatter",
         "x": [
          "IRQ"
         ],
         "xaxis": "x",
         "y": {
          "bdata": "velNb3rTyz8=",
          "dtype": "f8"
         },
         "yaxis": "y"
        },
        {
         "hovertemplate": "<b>%{hovertext}</b><br><br>Country=%{x}<br>=%{y}<br>Sentence Count=%{marker.size}<extra></extra>",
         "hovertext": [
          "JOR"
         ],
         "legendgroup": "JOR",
         "marker": {
          "color": "#FFA15A",
          "size": {
           "bdata": "CA==",
           "dtype": "i1"
          },
          "sizemode": "area",
          "sizeref": 0.02625,
          "symbol": "circle"
         },
         "mode": "markers",
         "name": "JOR",
         "orientation": "v",
         "showlegend": true,
         "type": "scatter",
         "x": [
          "JOR"
         ],
         "xaxis": "x",
         "y": {
          "bdata": "HMdxHMdx3D8=",
          "dtype": "f8"
         },
         "yaxis": "y"
        },
        {
         "hovertemplate": "<b>%{hovertext}</b><br><br>Country=%{x}<br>=%{y}<br>Sentence Count=%{marker.size}<extra></extra>",
         "hovertext": [
          "JPN"
         ],
         "legendgroup": "JPN",
         "marker": {
          "color": "#19d3f3",
          "size": {
           "bdata": "Bg==",
           "dtype": "i1"
          },
          "sizemode": "area",
          "sizeref": 0.02625,
          "symbol": "circle"
         },
         "mode": "markers",
         "name": "JPN",
         "orientation": "v",
         "showlegend": true,
         "type": "scatter",
         "x": [
          "JPN"
         ],
         "xaxis": "x",
         "y": {
          "bdata": "xhhjjDHGyD8=",
          "dtype": "f8"
         },
         "yaxis": "y"
        },
        {
         "hovertemplate": "<b>%{hovertext}</b><br><br>Country=%{x}<br>=%{y}<br>Sentence Count=%{marker.size}<extra></extra>",
         "hovertext": [
          "KAZ"
         ],
         "legendgroup": "KAZ",
         "marker": {
          "color": "#FF6692",
          "size": {
           "bdata": "Dg==",
           "dtype": "i1"
          },
          "sizemode": "area",
          "sizeref": 0.02625,
          "symbol": "circle"
         },
         "mode": "markers",
         "name": "KAZ",
         "orientation": "v",
         "showlegend": true,
         "type": "scatter",
         "x": [
          "KAZ"
         ],
         "xaxis": "x",
         "y": {
          "bdata": "qQnGW9nn0D8=",
          "dtype": "f8"
         },
         "yaxis": "y"
        },
        {
         "hovertemplate": "<b>%{hovertext}</b><br><br>Country=%{x}<br>=%{y}<br>Sentence Count=%{marker.size}<extra></extra>",
         "hovertext": [
          "KEN"
         ],
         "legendgroup": "KEN",
         "marker": {
          "color": "#B6E880",
          "size": {
           "bdata": "Cw==",
           "dtype": "i1"
          },
          "sizemode": "area",
          "sizeref": 0.02625,
          "symbol": "circle"
         },
         "mode": "markers",
         "name": "KEN",
         "orientation": "v",
         "showlegend": true,
         "type": "scatter",
         "x": [
          "KEN"
         ],
         "xaxis": "x",
         "y": {
          "bdata": "6k1vetObzj8=",
          "dtype": "f8"
         },
         "yaxis": "y"
        },
        {
         "hovertemplate": "<b>%{hovertext}</b><br><br>Country=%{x}<br>=%{y}<br>Sentence Count=%{marker.size}<extra></extra>",
         "hovertext": [
          "KGZ"
         ],
         "legendgroup": "KGZ",
         "marker": {
          "color": "#FF97FF",
          "size": {
           "bdata": "Bw==",
           "dtype": "i1"
          },
          "sizemode": "area",
          "sizeref": 0.02625,
          "symbol": "circle"
         },
         "mode": "markers",
         "name": "KGZ",
         "orientation": "v",
         "showlegend": true,
         "type": "scatter",
         "x": [
          "KGZ"
         ],
         "xaxis": "x",
         "y": {
          "bdata": "doMp8lk3yD8=",
          "dtype": "f8"
         },
         "yaxis": "y"
        },
        {
         "hovertemplate": "<b>%{hovertext}</b><br><br>Country=%{x}<br>=%{y}<br>Sentence Count=%{marker.size}<extra></extra>",
         "hovertext": [
          "KOR"
         ],
         "legendgroup": "KOR",
         "marker": {
          "color": "#FECB52",
          "size": {
           "bdata": "CA==",
           "dtype": "i1"
          },
          "sizemode": "area",
          "sizeref": 0.02625,
          "symbol": "circle"
         },
         "mode": "markers",
         "name": "KOR",
         "orientation": "v",
         "showlegend": true,
         "type": "scatter",
         "x": [
          "KOR"
         ],
         "xaxis": "x",
         "y": {
          "bdata": "ERERERER0T8=",
          "dtype": "f8"
         },
         "yaxis": "y"
        },
        {
         "hovertemplate": "<b>%{hovertext}</b><br><br>Country=%{x}<br>=%{y}<br>Sentence Count=%{marker.size}<extra></extra>",
         "hovertext": [
          "LBN"
         ],
         "legendgroup": "LBN",
         "marker": {
          "color": "#636efa",
          "size": {
           "bdata": "CA==",
           "dtype": "i1"
          },
          "sizemode": "area",
          "sizeref": 0.02625,
          "symbol": "circle"
         },
         "mode": "markers",
         "name": "LBN",
         "orientation": "v",
         "showlegend": true,
         "type": "scatter",
         "x": [
          "LBN"
         ],
         "xaxis": "x",
         "y": {
          "bdata": "ERERERER4T8=",
          "dtype": "f8"
         },
         "yaxis": "y"
        },
        {
         "hovertemplate": "<b>%{hovertext}</b><br><br>Country=%{x}<br>=%{y}<br>Sentence Count=%{marker.size}<extra></extra>",
         "hovertext": [
          "LBY"
         ],
         "legendgroup": "LBY",
         "marker": {
          "color": "#EF553B",
          "size": {
           "bdata": "AQ==",
           "dtype": "i1"
          },
          "sizemode": "area",
          "sizeref": 0.02625,
          "symbol": "circle"
         },
         "mode": "markers",
         "name": "LBY",
         "orientation": "v",
         "showlegend": true,
         "type": "scatter",
         "x": [
          "LBY"
         ],
         "xaxis": "x",
         "y": {
          "bdata": "ZCELWchCpj8=",
          "dtype": "f8"
         },
         "yaxis": "y"
        },
        {
         "hovertemplate": "<b>%{hovertext}</b><br><br>Country=%{x}<br>=%{y}<br>Sentence Count=%{marker.size}<extra></extra>",
         "hovertext": [
          "MAR"
         ],
         "legendgroup": "MAR",
         "marker": {
          "color": "#00cc96",
          "size": {
           "bdata": "BQ==",
           "dtype": "i1"
          },
          "sizemode": "area",
          "sizeref": 0.02625,
          "symbol": "circle"
         },
         "mode": "markers",
         "name": "MAR",
         "orientation": "v",
         "showlegend": true,
         "type": "scatter",
         "x": [
          "MAR"
         ],
         "xaxis": "x",
         "y": {
          "bdata": "2Ymd2ImdyD8=",
          "dtype": "f8"
         },
         "yaxis": "y"
        },
        {
         "hovertemplate": "<b>%{hovertext}</b><br><br>Country=%{x}<br>=%{y}<br>Sentence Count=%{marker.size}<extra></extra>",
         "hovertext": [
          "MDV"
         ],
         "legendgroup": "MDV",
         "marker": {
          "color": "#ab63fa",
          "size": {
           "bdata": "DQ==",
           "dtype": "i1"
          },
          "sizemode": "area",
          "sizeref": 0.02625,
          "symbol": "circle"
         },
         "mode": "markers",
         "name": "MDV",
         "orientation": "v",
         "showlegend": true,
         "type": "scatter",
         "x": [
          "MDV"
         ],
         "xaxis": "x",
         "y": {
          "bdata": "eHh4eHh42D8=",
          "dtype": "f8"
         },
         "yaxis": "y"
        },
        {
         "hovertemplate": "<b>%{hovertext}</b><br><br>Country=%{x}<br>=%{y}<br>Sentence Count=%{marker.size}<extra></extra>",
         "hovertext": [
          "MEX"
         ],
         "legendgroup": "MEX",
         "marker": {
          "color": "#FFA15A",
          "size": {
           "bdata": "Cg==",
           "dtype": "i1"
          },
          "sizemode": "area",
          "sizeref": 0.02625,
          "symbol": "circle"
         },
         "mode": "markers",
         "name": "MEX",
         "orientation": "v",
         "showlegend": true,
         "type": "scatter",
         "x": [
          "MEX"
         ],
         "xaxis": "x",
         "y": {
          "bdata": "QnsJ7SW01z8=",
          "dtype": "f8"
         },
         "yaxis": "y"
        },
        {
         "hovertemplate": "<b>%{hovertext}</b><br><br>Country=%{x}<br>=%{y}<br>Sentence Count=%{marker.size}<extra></extra>",
         "hovertext": [
          "MMR"
         ],
         "legendgroup": "MMR",
         "marker": {
          "color": "#19d3f3",
          "size": {
           "bdata": "Aw==",
           "dtype": "i1"
          },
          "sizemode": "area",
          "sizeref": 0.02625,
          "symbol": "circle"
         },
         "mode": "markers",
         "name": "MMR",
         "orientation": "v",
         "showlegend": true,
         "type": "scatter",
         "x": [
          "MMR"
         ],
         "xaxis": "x",
         "y": {
          "bdata": "C1nIQhaywD8=",
          "dtype": "f8"
         },
         "yaxis": "y"
        },
        {
         "hovertemplate": "<b>%{hovertext}</b><br><br>Country=%{x}<br>=%{y}<br>Sentence Count=%{marker.size}<extra></extra>",
         "hovertext": [
          "MNG"
         ],
         "legendgroup": "MNG",
         "marker": {
          "color": "#FF6692",
          "size": {
           "bdata": "DA==",
           "dtype": "i1"
          },
          "sizemode": "area",
          "sizeref": 0.02625,
          "symbol": "circle"
         },
         "mode": "markers",
         "name": "MNG",
         "orientation": "v",
         "showlegend": true,
         "type": "scatter",
         "x": [
          "MNG"
         ],
         "xaxis": "x",
         "y": {
          "bdata": "AAAAAAAA0D8=",
          "dtype": "f8"
         },
         "yaxis": "y"
        },
        {
         "hovertemplate": "<b>%{hovertext}</b><br><br>Country=%{x}<br>=%{y}<br>Sentence Count=%{marker.size}<extra></extra>",
         "hovertext": [
          "MYS"
         ],
         "legendgroup": "MYS",
         "marker": {
          "color": "#B6E880",
          "size": {
           "bdata": "Bw==",
           "dtype": "i1"
          },
          "sizemode": "area",
          "sizeref": 0.02625,
          "symbol": "circle"
         },
         "mode": "markers",
         "name": "MYS",
         "orientation": "v",
         "showlegend": true,
         "type": "scatter",
         "x": [
          "MYS"
         ],
         "xaxis": "x",
         "y": {
          "bdata": "3t3d3d3dzT8=",
          "dtype": "f8"
         },
         "yaxis": "y"
        },
        {
         "hovertemplate": "<b>%{hovertext}</b><br><br>Country=%{x}<br>=%{y}<br>Sentence Count=%{marker.size}<extra></extra>",
         "hovertext": [
          "NGA"
         ],
         "legendgroup": "NGA",
         "marker": {
          "color": "#FF97FF",
          "size": {
           "bdata": "Bg==",
           "dtype": "i1"
          },
          "sizemode": "area",
          "sizeref": 0.02625,
          "symbol": "circle"
         },
         "mode": "markers",
         "name": "NGA",
         "orientation": "v",
         "showlegend": true,
         "type": "scatter",
         "x": [
          "NGA"
         ],
         "xaxis": "x",
         "y": {
          "bdata": "XkN5DeU11D8=",
          "dtype": "f8"
         },
         "yaxis": "y"
        },
        {
         "hovertemplate": "<b>%{hovertext}</b><br><br>Country=%{x}<br>=%{y}<br>Sentence Count=%{marker.size}<extra></extra>",
         "hovertext": [
          "NIC"
         ],
         "legendgroup": "NIC",
         "marker": {
          "color": "#FECB52",
          "size": {
           "bdata": "AQ==",
           "dtype": "i1"
          },
          "sizemode": "area",
          "sizeref": 0.02625,
          "symbol": "circle"
         },
         "mode": "markers",
         "name": "NIC",
         "orientation": "v",
         "showlegend": true,
         "type": "scatter",
         "x": [
          "NIC"
         ],
         "xaxis": "x",
         "y": {
          "bdata": "mpmZmZmZuT8=",
          "dtype": "f8"
         },
         "yaxis": "y"
        },
        {
         "hovertemplate": "<b>%{hovertext}</b><br><br>Country=%{x}<br>=%{y}<br>Sentence Count=%{marker.size}<extra></extra>",
         "hovertext": [
          "NLD"
         ],
         "legendgroup": "NLD",
         "marker": {
          "color": "#636efa",
          "size": {
           "bdata": "Ag==",
           "dtype": "i1"
          },
          "sizemode": "area",
          "sizeref": 0.02625,
          "symbol": "circle"
         },
         "mode": "markers",
         "name": "NLD",
         "orientation": "v",
         "showlegend": true,
         "type": "scatter",
         "x": [
          "NLD"
         ],
         "xaxis": "x",
         "y": {
          "bdata": "aC+hvYT2sj8=",
          "dtype": "f8"
         },
         "yaxis": "y"
        },
        {
         "hovertemplate": "<b>%{hovertext}</b><br><br>Country=%{x}<br>=%{y}<br>Sentence Count=%{marker.size}<extra></extra>",
         "hovertext": [
          "NZL"
         ],
         "legendgroup": "NZL",
         "marker": {
          "color": "#EF553B",
          "size": {
           "bdata": "Bg==",
           "dtype": "i1"
          },
          "sizemode": "area",
          "sizeref": 0.02625,
          "symbol": "circle"
         },
         "mode": "markers",
         "name": "NZL",
         "orientation": "v",
         "showlegend": true,
         "type": "scatter",
         "x": [
          "NZL"
         ],
         "xaxis": "x",
         "y": {
          "bdata": "AAAAAAAAwD8=",
          "dtype": "f8"
         },
         "yaxis": "y"
        },
        {
         "hovertemplate": "<b>%{hovertext}</b><br><br>Country=%{x}<br>=%{y}<br>Sentence Count=%{marker.size}<extra></extra>",
         "hovertext": [
          "PAK"
         ],
         "legendgroup": "PAK",
         "marker": {
          "color": "#00cc96",
          "size": {
           "bdata": "Dw==",
           "dtype": "i1"
          },
          "sizemode": "area",
          "sizeref": 0.02625,
          "symbol": "circle"
         },
         "mode": "markers",
         "name": "PAK",
         "orientation": "v",
         "showlegend": true,
         "type": "scatter",
         "x": [
          "PAK"
         ],
         "xaxis": "x",
         "y": {
          "bdata": "chzHcRzH0T8=",
          "dtype": "f8"
         },
         "yaxis": "y"
        },
        {
         "hovertemplate": "<b>%{hovertext}</b><br><br>Country=%{x}<br>=%{y}<br>Sentence Count=%{marker.size}<extra></extra>",
         "hovertext": [
          "PER"
         ],
         "legendgroup": "PER",
         "marker": {
          "color": "#ab63fa",
          "size": {
           "bdata": "Bw==",
           "dtype": "i1"
          },
          "sizemode": "area",
          "sizeref": 0.02625,
          "symbol": "circle"
         },
         "mode": "markers",
         "name": "PER",
         "orientation": "v",
         "showlegend": true,
         "type": "scatter",
         "x": [
          "PER"
         ],
         "xaxis": "x",
         "y": {
          "bdata": "ewntJbSX0D8=",
          "dtype": "f8"
         },
         "yaxis": "y"
        },
        {
         "hovertemplate": "<b>%{hovertext}</b><br><br>Country=%{x}<br>=%{y}<br>Sentence Count=%{marker.size}<extra></extra>",
         "hovertext": [
          "PHL"
         ],
         "legendgroup": "PHL",
         "marker": {
          "color": "#FFA15A",
          "size": {
           "bdata": "DQ==",
           "dtype": "i1"
          },
          "sizemode": "area",
          "sizeref": 0.02625,
          "symbol": "circle"
         },
         "mode": "markers",
         "name": "PHL",
         "orientation": "v",
         "showlegend": true,
         "type": "scatter",
         "x": [
          "PHL"
         ],
         "xaxis": "x",
         "y": {
          "bdata": "9DzP8zzP0z8=",
          "dtype": "f8"
         },
         "yaxis": "y"
        },
        {
         "hovertemplate": "<b>%{hovertext}</b><br><br>Country=%{x}<br>=%{y}<br>Sentence Count=%{marker.size}<extra></extra>",
         "hovertext": [
          "ROU"
         ],
         "legendgroup": "ROU",
         "marker": {
          "color": "#19d3f3",
          "size": {
           "bdata": "AQ==",
           "dtype": "i1"
          },
          "sizemode": "area",
          "sizeref": 0.02625,
          "symbol": "circle"
         },
         "mode": "markers",
         "name": "ROU",
         "orientation": "v",
         "showlegend": true,
         "type": "scatter",
         "x": [
          "ROU"
         ],
         "xaxis": "x",
         "y": {
          "bdata": "GqRBGqRBmj8=",
          "dtype": "f8"
         },
         "yaxis": "y"
        },
        {
         "hovertemplate": "<b>%{hovertext}</b><br><br>Country=%{x}<br>=%{y}<br>Sentence Count=%{marker.size}<extra></extra>",
         "hovertext": [
          "RUS"
         ],
         "legendgroup": "RUS",
         "marker": {
          "color": "#FF6692",
          "size": {
           "bdata": "CQ==",
           "dtype": "i1"
          },
          "sizemode": "area",
          "sizeref": 0.02625,
          "symbol": "circle"
         },
         "mode": "markers",
         "name": "RUS",
         "orientation": "v",
         "showlegend": true,
         "type": "scatter",
         "x": [
          "RUS"
         ],
         "xaxis": "x",
         "y": {
          "bdata": "L7rooosuyj8=",
          "dtype": "f8"
         },
         "yaxis": "y"
        },
        {
         "hovertemplate": "<b>%{hovertext}</b><br><br>Country=%{x}<br>=%{y}<br>Sentence Count=%{marker.size}<extra></extra>",
         "hovertext": [
          "SGP"
         ],
         "legendgroup": "SGP",
         "marker": {
          "color": "#B6E880",
          "size": {
           "bdata": "Fw==",
           "dtype": "i1"
          },
          "sizemode": "area",
          "sizeref": 0.02625,
          "symbol": "circle"
         },
         "mode": "markers",
         "name": "SGP",
         "orientation": "v",
         "showlegend": true,
         "type": "scatter",
         "x": [
          "SGP"
         ],
         "xaxis": "x",
         "y": {
          "bdata": "tHmf4pIh2D8=",
          "dtype": "f8"
         },
         "yaxis": "y"
        },
        {
         "hovertemplate": "<b>%{hovertext}</b><br><br>Country=%{x}<br>=%{y}<br>Sentence Count=%{marker.size}<extra></extra>",
         "hovertext": [
          "SRB"
         ],
         "legendgroup": "SRB",
         "marker": {
          "color": "#FF97FF",
          "size": {
           "bdata": "DA==",
           "dtype": "i1"
          },
          "sizemode": "area",
          "sizeref": 0.02625,
          "symbol": "circle"
         },
         "mode": "markers",
         "name": "SRB",
         "orientation": "v",
         "showlegend": true,
         "type": "scatter",
         "x": [
          "SRB"
         ],
         "xaxis": "x",
         "y": {
          "bdata": "YbmnEZZ72j8=",
          "dtype": "f8"
         },
         "yaxis": "y"
        },
        {
         "hovertemplate": "<b>%{hovertext}</b><br><br>Country=%{x}<br>=%{y}<br>Sentence Count=%{marker.size}<extra></extra>",
         "hovertext": [
          "SVK"
         ],
         "legendgroup": "SVK",
         "marker": {
          "color": "#FECB52",
          "size": {
           "bdata": "Bw==",
           "dtype": "i1"
          },
          "sizemode": "area",
          "sizeref": 0.02625,
          "symbol": "circle"
         },
         "mode": "markers",
         "name": "SVK",
         "orientation": "v",
         "showlegend": true,
         "type": "scatter",
         "x": [
          "SVK"
         ],
         "xaxis": "x",
         "y": {
          "bdata": "55xzzjnnzD8=",
          "dtype": "f8"
         },
         "yaxis": "y"
        },
        {
         "hovertemplate": "<b>%{hovertext}</b><br><br>Country=%{x}<br>=%{y}<br>Sentence Count=%{marker.size}<extra></extra>",
         "hovertext": [
          "THA"
         ],
         "legendgroup": "THA",
         "marker": {
          "color": "#636efa",
          "size": {
           "bdata": "DA==",
           "dtype": "i1"
          },
          "sizemode": "area",
          "sizeref": 0.02625,
          "symbol": "circle"
         },
         "mode": "markers",
         "name": "THA",
         "orientation": "v",
         "showlegend": true,
         "type": "scatter",
         "x": [
          "THA"
         ],
         "xaxis": "x",
         "y": {
          "bdata": "RhdddNFF1z8=",
          "dtype": "f8"
         },
         "yaxis": "y"
        },
        {
         "hovertemplate": "<b>%{hovertext}</b><br><br>Country=%{x}<br>=%{y}<br>Sentence Count=%{marker.size}<extra></extra>",
         "hovertext": [
          "TJK"
         ],
         "legendgroup": "TJK",
         "marker": {
          "color": "#EF553B",
          "size": {
           "bdata": "Cg==",
           "dtype": "i1"
          },
          "sizemode": "area",
          "sizeref": 0.02625,
          "symbol": "circle"
         },
         "mode": "markers",
         "name": "TJK",
         "orientation": "v",
         "showlegend": true,
         "type": "scatter",
         "x": [
          "TJK"
         ],
         "xaxis": "x",
         "y": {
          "bdata": "cUfcEXfEzT8=",
          "dtype": "f8"
         },
         "yaxis": "y"
        },
        {
         "hovertemplate": "<b>%{hovertext}</b><br><br>Country=%{x}<br>=%{y}<br>Sentence Count=%{marker.size}<extra></extra>",
         "hovertext": [
          "TUN"
         ],
         "legendgroup": "TUN",
         "marker": {
          "color": "#00cc96",
          "size": {
           "bdata": "BA==",
           "dtype": "i1"
          },
          "sizemode": "area",
          "sizeref": 0.02625,
          "symbol": "circle"
         },
         "mode": "markers",
         "name": "TUN",
         "orientation": "v",
         "showlegend": true,
         "type": "scatter",
         "x": [
          "TUN"
         ],
         "xaxis": "x",
         "y": {
          "bdata": "KK+hvIbyyj8=",
          "dtype": "f8"
         },
         "yaxis": "y"
        },
        {
         "hovertemplate": "<b>%{hovertext}</b><br><br>Country=%{x}<br>=%{y}<br>Sentence Count=%{marker.size}<extra></extra>",
         "hovertext": [
          "TUR"
         ],
         "legendgroup": "TUR",
         "marker": {
          "color": "#ab63fa",
          "size": {
           "bdata": "Ag==",
           "dtype": "i1"
          },
          "sizemode": "area",
          "sizeref": 0.02625,
          "symbol": "circle"
         },
         "mode": "markers",
         "name": "TUR",
         "orientation": "v",
         "showlegend": true,
         "type": "scatter",
         "x": [
          "TUR"
         ],
         "xaxis": "x",
         "y": {
          "bdata": "VVVVVVVVtT8=",
          "dtype": "f8"
         },
         "yaxis": "y"
        },
        {
         "hovertemplate": "<b>%{hovertext}</b><br><br>Country=%{x}<br>=%{y}<br>Sentence Count=%{marker.size}<extra></extra>",
         "hovertext": [
          "UKR"
         ],
         "legendgroup": "UKR",
         "marker": {
          "color": "#FFA15A",
          "size": {
           "bdata": "Bg==",
           "dtype": "i1"
          },
          "sizemode": "area",
          "sizeref": 0.02625,
          "symbol": "circle"
         },
         "mode": "markers",
         "name": "UKR",
         "orientation": "v",
         "showlegend": true,
         "type": "scatter",
         "x": [
          "UKR"
         ],
         "xaxis": "x",
         "y": {
          "bdata": "C1nIQhaywD8=",
          "dtype": "f8"
         },
         "yaxis": "y"
        },
        {
         "hovertemplate": "<b>%{hovertext}</b><br><br>Country=%{x}<br>=%{y}<br>Sentence Count=%{marker.size}<extra></extra>",
         "hovertext": [
          "URY"
         ],
         "legendgroup": "URY",
         "marker": {
          "color": "#19d3f3",
          "size": {
           "bdata": "Aw==",
           "dtype": "i1"
          },
          "sizemode": "area",
          "sizeref": 0.02625,
          "symbol": "circle"
         },
         "mode": "markers",
         "name": "URY",
         "orientation": "v",
         "showlegend": true,
         "type": "scatter",
         "x": [
          "URY"
         ],
         "xaxis": "x",
         "y": {
          "bdata": "27Zt27Ztuz8=",
          "dtype": "f8"
         },
         "yaxis": "y"
        },
        {
         "hovertemplate": "<b>%{hovertext}</b><br><br>Country=%{x}<br>=%{y}<br>Sentence Count=%{marker.size}<extra></extra>",
         "hovertext": [
          "USA"
         ],
         "legendgroup": "USA",
         "marker": {
          "color": "#FF6692",
          "size": {
           "bdata": "DQ==",
           "dtype": "i1"
          },
          "sizemode": "area",
          "sizeref": 0.02625,
          "symbol": "circle"
         },
         "mode": "markers",
         "name": "USA",
         "orientation": "v",
         "showlegend": true,
         "type": "scatter",
         "x": [
          "USA"
         ],
         "xaxis": "x",
         "y": {
          "bdata": "tmzZsmXLxj8=",
          "dtype": "f8"
         },
         "yaxis": "y"
        },
        {
         "hovertemplate": "<b>%{hovertext}</b><br><br>Country=%{x}<br>=%{y}<br>Sentence Count=%{marker.size}<extra></extra>",
         "hovertext": [
          "UZB"
         ],
         "legendgroup": "UZB",
         "marker": {
          "color": "#B6E880",
          "size": {
           "bdata": "Bg==",
           "dtype": "i1"
          },
          "sizemode": "area",
          "sizeref": 0.02625,
          "symbol": "circle"
         },
         "mode": "markers",
         "name": "UZB",
         "orientation": "v",
         "showlegend": true,
         "type": "scatter",
         "x": [
          "UZB"
         ],
         "xaxis": "x",
         "y": {
          "bdata": "VVVVVVVVxT8=",
          "dtype": "f8"
         },
         "yaxis": "y"
        },
        {
         "hovertemplate": "<b>%{hovertext}</b><br><br>Country=%{x}<br>=%{y}<br>Sentence Count=%{marker.size}<extra></extra>",
         "hovertext": [
          "VEN"
         ],
         "legendgroup": "VEN",
         "marker": {
          "color": "#FF97FF",
          "size": {
           "bdata": "CA==",
           "dtype": "i1"
          },
          "sizemode": "area",
          "sizeref": 0.02625,
          "symbol": "circle"
         },
         "mode": "markers",
         "name": "VEN",
         "orientation": "v",
         "showlegend": true,
         "type": "scatter",
         "x": [
          "VEN"
         ],
         "xaxis": "x",
         "y": {
          "bdata": "hBBCCCGE0D8=",
          "dtype": "f8"
         },
         "yaxis": "y"
        },
        {
         "hovertemplate": "<b>%{hovertext}</b><br><br>Country=%{x}<br>=%{y}<br>Sentence Count=%{marker.size}<extra></extra>",
         "hovertext": [
          "VNM"
         ],
         "legendgroup": "VNM",
         "marker": {
          "color": "#FECB52",
          "size": {
           "bdata": "Cg==",
           "dtype": "i1"
          },
          "sizemode": "area",
          "sizeref": 0.02625,
          "symbol": "circle"
         },
         "mode": "markers",
         "name": "VNM",
         "orientation": "v",
         "showlegend": true,
         "type": "scatter",
         "x": [
          "VNM"
         ],
         "xaxis": "x",
         "y": {
          "bdata": "q6qqqqqqyj8=",
          "dtype": "f8"
         },
         "yaxis": "y"
        },
        {
         "hovertemplate": "<b>%{hovertext}</b><br><br>Country=%{x}<br>=%{y}<br>Sentence Count=%{marker.size}<extra></extra>",
         "hovertext": [
          "ZWE"
         ],
         "legendgroup": "ZWE",
         "marker": {
          "color": "#636efa",
          "size": {
           "bdata": "Eg==",
           "dtype": "i1"
          },
          "sizemode": "area",
          "sizeref": 0.02625,
          "symbol": "circle"
         },
         "mode": "markers",
         "name": "ZWE",
         "orientation": "v",
         "showlegend": true,
         "type": "scatter",
         "x": [
          "ZWE"
         ],
         "xaxis": "x",
         "y": {
          "bdata": "zczMzMzM3D8=",
          "dtype": "f8"
         },
         "yaxis": "y"
        }
       ],
       "layout": {
        "font": {
         "family": "Times New Roman Bold, Times New Roman",
         "size": 14
        },
        "height": 600,
        "hoverlabel": {
         "font": {
          "family": "Times New Roman Bold, Times New Roman",
          "size": 12
         }
        },
        "legend": {
         "itemsizing": "constant",
         "title": {
          "text": "Country"
         },
         "tracegroupgap": 0
        },
        "margin": {
         "b": 40,
         "l": 40,
         "r": 40,
         "t": 20
        },
        "showlegend": false,
        "template": {
         "data": {
          "bar": [
           {
            "error_x": {
             "color": "#2a3f5f"
            },
            "error_y": {
             "color": "#2a3f5f"
            },
            "marker": {
             "line": {
              "color": "#E5ECF6",
              "width": 0.5
             },
             "pattern": {
              "fillmode": "overlay",
              "size": 10,
              "solidity": 0.2
             }
            },
            "type": "bar"
           }
          ],
          "barpolar": [
           {
            "marker": {
             "line": {
              "color": "#E5ECF6",
              "width": 0.5
             },
             "pattern": {
              "fillmode": "overlay",
              "size": 10,
              "solidity": 0.2
             }
            },
            "type": "barpolar"
           }
          ],
          "carpet": [
           {
            "aaxis": {
             "endlinecolor": "#2a3f5f",
             "gridcolor": "white",
             "linecolor": "white",
             "minorgridcolor": "white",
             "startlinecolor": "#2a3f5f"
            },
            "baxis": {
             "endlinecolor": "#2a3f5f",
             "gridcolor": "white",
             "linecolor": "white",
             "minorgridcolor": "white",
             "startlinecolor": "#2a3f5f"
            },
            "type": "carpet"
           }
          ],
          "choropleth": [
           {
            "colorbar": {
             "outlinewidth": 0,
             "ticks": ""
            },
            "type": "choropleth"
           }
          ],
          "contour": [
           {
            "colorbar": {
             "outlinewidth": 0,
             "ticks": ""
            },
            "colorscale": [
             [
              0,
              "#0d0887"
             ],
             [
              0.1111111111111111,
              "#46039f"
             ],
             [
              0.2222222222222222,
              "#7201a8"
             ],
             [
              0.3333333333333333,
              "#9c179e"
             ],
             [
              0.4444444444444444,
              "#bd3786"
             ],
             [
              0.5555555555555556,
              "#d8576b"
             ],
             [
              0.6666666666666666,
              "#ed7953"
             ],
             [
              0.7777777777777778,
              "#fb9f3a"
             ],
             [
              0.8888888888888888,
              "#fdca26"
             ],
             [
              1,
              "#f0f921"
             ]
            ],
            "type": "contour"
           }
          ],
          "contourcarpet": [
           {
            "colorbar": {
             "outlinewidth": 0,
             "ticks": ""
            },
            "type": "contourcarpet"
           }
          ],
          "heatmap": [
           {
            "colorbar": {
             "outlinewidth": 0,
             "ticks": ""
            },
            "colorscale": [
             [
              0,
              "#0d0887"
             ],
             [
              0.1111111111111111,
              "#46039f"
             ],
             [
              0.2222222222222222,
              "#7201a8"
             ],
             [
              0.3333333333333333,
              "#9c179e"
             ],
             [
              0.4444444444444444,
              "#bd3786"
             ],
             [
              0.5555555555555556,
              "#d8576b"
             ],
             [
              0.6666666666666666,
              "#ed7953"
             ],
             [
              0.7777777777777778,
              "#fb9f3a"
             ],
             [
              0.8888888888888888,
              "#fdca26"
             ],
             [
              1,
              "#f0f921"
             ]
            ],
            "type": "heatmap"
           }
          ],
          "histogram": [
           {
            "marker": {
             "pattern": {
              "fillmode": "overlay",
              "size": 10,
              "solidity": 0.2
             }
            },
            "type": "histogram"
           }
          ],
          "histogram2d": [
           {
            "colorbar": {
             "outlinewidth": 0,
             "ticks": ""
            },
            "colorscale": [
             [
              0,
              "#0d0887"
             ],
             [
              0.1111111111111111,
              "#46039f"
             ],
             [
              0.2222222222222222,
              "#7201a8"
             ],
             [
              0.3333333333333333,
              "#9c179e"
             ],
             [
              0.4444444444444444,
              "#bd3786"
             ],
             [
              0.5555555555555556,
              "#d8576b"
             ],
             [
              0.6666666666666666,
              "#ed7953"
             ],
             [
              0.7777777777777778,
              "#fb9f3a"
             ],
             [
              0.8888888888888888,
              "#fdca26"
             ],
             [
              1,
              "#f0f921"
             ]
            ],
            "type": "histogram2d"
           }
          ],
          "histogram2dcontour": [
           {
            "colorbar": {
             "outlinewidth": 0,
             "ticks": ""
            },
            "colorscale": [
             [
              0,
              "#0d0887"
             ],
             [
              0.1111111111111111,
              "#46039f"
             ],
             [
              0.2222222222222222,
              "#7201a8"
             ],
             [
              0.3333333333333333,
              "#9c179e"
             ],
             [
              0.4444444444444444,
              "#bd3786"
             ],
             [
              0.5555555555555556,
              "#d8576b"
             ],
             [
              0.6666666666666666,
              "#ed7953"
             ],
             [
              0.7777777777777778,
              "#fb9f3a"
             ],
             [
              0.8888888888888888,
              "#fdca26"
             ],
             [
              1,
              "#f0f921"
             ]
            ],
            "type": "histogram2dcontour"
           }
          ],
          "mesh3d": [
           {
            "colorbar": {
             "outlinewidth": 0,
             "ticks": ""
            },
            "type": "mesh3d"
           }
          ],
          "parcoords": [
           {
            "line": {
             "colorbar": {
              "outlinewidth": 0,
              "ticks": ""
             }
            },
            "type": "parcoords"
           }
          ],
          "pie": [
           {
            "automargin": true,
            "type": "pie"
           }
          ],
          "scatter": [
           {
            "fillpattern": {
             "fillmode": "overlay",
             "size": 10,
             "solidity": 0.2
            },
            "type": "scatter"
           }
          ],
          "scatter3d": [
           {
            "line": {
             "colorbar": {
              "outlinewidth": 0,
              "ticks": ""
             }
            },
            "marker": {
             "colorbar": {
              "outlinewidth": 0,
              "ticks": ""
             }
            },
            "type": "scatter3d"
           }
          ],
          "scattercarpet": [
           {
            "marker": {
             "colorbar": {
              "outlinewidth": 0,
              "ticks": ""
             }
            },
            "type": "scattercarpet"
           }
          ],
          "scattergeo": [
           {
            "marker": {
             "colorbar": {
              "outlinewidth": 0,
              "ticks": ""
             }
            },
            "type": "scattergeo"
           }
          ],
          "scattergl": [
           {
            "marker": {
             "colorbar": {
              "outlinewidth": 0,
              "ticks": ""
             }
            },
            "type": "scattergl"
           }
          ],
          "scattermap": [
           {
            "marker": {
             "colorbar": {
              "outlinewidth": 0,
              "ticks": ""
             }
            },
            "type": "scattermap"
           }
          ],
          "scattermapbox": [
           {
            "marker": {
             "colorbar": {
              "outlinewidth": 0,
              "ticks": ""
             }
            },
            "type": "scattermapbox"
           }
          ],
          "scatterpolar": [
           {
            "marker": {
             "colorbar": {
              "outlinewidth": 0,
              "ticks": ""
             }
            },
            "type": "scatterpolar"
           }
          ],
          "scatterpolargl": [
           {
            "marker": {
             "colorbar": {
              "outlinewidth": 0,
              "ticks": ""
             }
            },
            "type": "scatterpolargl"
           }
          ],
          "scatterternary": [
           {
            "marker": {
             "colorbar": {
              "outlinewidth": 0,
              "ticks": ""
             }
            },
            "type": "scatterternary"
           }
          ],
          "surface": [
           {
            "colorbar": {
             "outlinewidth": 0,
             "ticks": ""
            },
            "colorscale": [
             [
              0,
              "#0d0887"
             ],
             [
              0.1111111111111111,
              "#46039f"
             ],
             [
              0.2222222222222222,
              "#7201a8"
             ],
             [
              0.3333333333333333,
              "#9c179e"
             ],
             [
              0.4444444444444444,
              "#bd3786"
             ],
             [
              0.5555555555555556,
              "#d8576b"
             ],
             [
              0.6666666666666666,
              "#ed7953"
             ],
             [
              0.7777777777777778,
              "#fb9f3a"
             ],
             [
              0.8888888888888888,
              "#fdca26"
             ],
             [
              1,
              "#f0f921"
             ]
            ],
            "type": "surface"
           }
          ],
          "table": [
           {
            "cells": {
             "fill": {
              "color": "#EBF0F8"
             },
             "line": {
              "color": "white"
             }
            },
            "header": {
             "fill": {
              "color": "#C8D4E3"
             },
             "line": {
              "color": "white"
             }
            },
            "type": "table"
           }
          ]
         },
         "layout": {
          "annotationdefaults": {
           "arrowcolor": "#2a3f5f",
           "arrowhead": 0,
           "arrowwidth": 1
          },
          "autotypenumbers": "strict",
          "coloraxis": {
           "colorbar": {
            "outlinewidth": 0,
            "ticks": ""
           }
          },
          "colorscale": {
           "diverging": [
            [
             0,
             "#8e0152"
            ],
            [
             0.1,
             "#c51b7d"
            ],
            [
             0.2,
             "#de77ae"
            ],
            [
             0.3,
             "#f1b6da"
            ],
            [
             0.4,
             "#fde0ef"
            ],
            [
             0.5,
             "#f7f7f7"
            ],
            [
             0.6,
             "#e6f5d0"
            ],
            [
             0.7,
             "#b8e186"
            ],
            [
             0.8,
             "#7fbc41"
            ],
            [
             0.9,
             "#4d9221"
            ],
            [
             1,
             "#276419"
            ]
           ],
           "sequential": [
            [
             0,
             "#0d0887"
            ],
            [
             0.1111111111111111,
             "#46039f"
            ],
            [
             0.2222222222222222,
             "#7201a8"
            ],
            [
             0.3333333333333333,
             "#9c179e"
            ],
            [
             0.4444444444444444,
             "#bd3786"
            ],
            [
             0.5555555555555556,
             "#d8576b"
            ],
            [
             0.6666666666666666,
             "#ed7953"
            ],
            [
             0.7777777777777778,
             "#fb9f3a"
            ],
            [
             0.8888888888888888,
             "#fdca26"
            ],
            [
             1,
             "#f0f921"
            ]
           ],
           "sequentialminus": [
            [
             0,
             "#0d0887"
            ],
            [
             0.1111111111111111,
             "#46039f"
            ],
            [
             0.2222222222222222,
             "#7201a8"
            ],
            [
             0.3333333333333333,
             "#9c179e"
            ],
            [
             0.4444444444444444,
             "#bd3786"
            ],
            [
             0.5555555555555556,
             "#d8576b"
            ],
            [
             0.6666666666666666,
             "#ed7953"
            ],
            [
             0.7777777777777778,
             "#fb9f3a"
            ],
            [
             0.8888888888888888,
             "#fdca26"
            ],
            [
             1,
             "#f0f921"
            ]
           ]
          },
          "colorway": [
           "#636efa",
           "#EF553B",
           "#00cc96",
           "#ab63fa",
           "#FFA15A",
           "#19d3f3",
           "#FF6692",
           "#B6E880",
           "#FF97FF",
           "#FECB52"
          ],
          "font": {
           "color": "#2a3f5f"
          },
          "geo": {
           "bgcolor": "white",
           "lakecolor": "white",
           "landcolor": "#E5ECF6",
           "showlakes": true,
           "showland": true,
           "subunitcolor": "white"
          },
          "hoverlabel": {
           "align": "left"
          },
          "hovermode": "closest",
          "mapbox": {
           "style": "light"
          },
          "paper_bgcolor": "white",
          "plot_bgcolor": "#E5ECF6",
          "polar": {
           "angularaxis": {
            "gridcolor": "white",
            "linecolor": "white",
            "ticks": ""
           },
           "bgcolor": "#E5ECF6",
           "radialaxis": {
            "gridcolor": "white",
            "linecolor": "white",
            "ticks": ""
           }
          },
          "scene": {
           "xaxis": {
            "backgroundcolor": "#E5ECF6",
            "gridcolor": "white",
            "gridwidth": 2,
            "linecolor": "white",
            "showbackground": true,
            "ticks": "",
            "zerolinecolor": "white"
           },
           "yaxis": {
            "backgroundcolor": "#E5ECF6",
            "gridcolor": "white",
            "gridwidth": 2,
            "linecolor": "white",
            "showbackground": true,
            "ticks": "",
            "zerolinecolor": "white"
           },
           "zaxis": {
            "backgroundcolor": "#E5ECF6",
            "gridcolor": "white",
            "gridwidth": 2,
            "linecolor": "white",
            "showbackground": true,
            "ticks": "",
            "zerolinecolor": "white"
           }
          },
          "shapedefaults": {
           "line": {
            "color": "#2a3f5f"
           }
          },
          "ternary": {
           "aaxis": {
            "gridcolor": "white",
            "linecolor": "white",
            "ticks": ""
           },
           "baxis": {
            "gridcolor": "white",
            "linecolor": "white",
            "ticks": ""
           },
           "bgcolor": "#E5ECF6",
           "caxis": {
            "gridcolor": "white",
            "linecolor": "white",
            "ticks": ""
           }
          },
          "title": {
           "x": 0.05
          },
          "xaxis": {
           "automargin": true,
           "gridcolor": "white",
           "linecolor": "white",
           "ticks": "",
           "title": {
            "standoff": 15
           },
           "zerolinecolor": "white",
           "zerolinewidth": 2
          },
          "yaxis": {
           "automargin": true,
           "gridcolor": "white",
           "linecolor": "white",
           "ticks": "",
           "title": {
            "standoff": 15
           },
           "zerolinecolor": "white",
           "zerolinewidth": 2
          }
         }
        },
        "title": {},
        "xaxis": {
         "anchor": "y",
         "categoryarray": [
          "AND",
          "ARG",
          "ARM",
          "AUS",
          "BGD",
          "BOL",
          "BRA",
          "CAN",
          "CHL",
          "CHN",
          "COL",
          "CYP",
          "CZE",
          "DEU",
          "ECU",
          "EGY",
          "ETH",
          "GBR",
          "GRC",
          "GTM",
          "IDN",
          "IND",
          "IRN",
          "IRQ",
          "JOR",
          "JPN",
          "KAZ",
          "KEN",
          "KGZ",
          "KOR",
          "LBN",
          "LBY",
          "MAR",
          "MDV",
          "MEX",
          "MMR",
          "MNG",
          "MYS",
          "NGA",
          "NIC",
          "NLD",
          "NZL",
          "PAK",
          "PER",
          "PHL",
          "ROU",
          "RUS",
          "SGP",
          "SRB",
          "SVK",
          "THA",
          "TJK",
          "TUN",
          "TUR",
          "UKR",
          "URY",
          "USA",
          "UZB",
          "VEN",
          "VNM",
          "ZWE"
         ],
         "categoryorder": "array",
         "domain": [
          0,
          1
         ],
         "tickangle": 45,
         "tickfont": {
          "family": "Times New Roman Bold, Times New Roman",
          "size": 12
         },
         "title": {}
        },
        "yaxis": {
         "anchor": "x",
         "domain": [
          0,
          1
         ],
         "tickfont": {
          "family": "Times New Roman Bold, Times New Roman",
          "size": 12
         },
         "title": {}
        }
       }
      }
     },
     "metadata": {},
     "output_type": "display_data"
    }
   ],
   "source": [
    "import pandas as pd\n",
    "import plotly.express as px\n",
    "\n",
    "# Load predictions from the requested path\n",
    "df = pd.read_csv(\"../q152_q153_pipeline/predictions/q152_predictions_filtered.csv\")\n",
    "\n",
    "# Filter to Q152 labels\n",
    "q152_labels = ['Q152_1', 'Q152_2', 'Q152_3', 'Q152_4']\n",
    "df_q152 = df[df['predicted_combined_label'].isin(q152_labels)]\n",
    "\n",
    "# Aggregate counts by country and label\n",
    "agg = (\n",
    "    df_q152.groupby(['B_COUNTRY_ALPHA', 'predicted_combined_label'])\n",
    "           .size()\n",
    "           .reset_index(name='sentence_count')\n",
    ")\n",
    "\n",
    "# Total Q152 sentences per country for proportional scaling\n",
    "total_counts = agg.groupby('B_COUNTRY_ALPHA')['sentence_count'].sum().reset_index(name='total_q152_count')\n",
    "agg = agg.merge(total_counts, on='B_COUNTRY_ALPHA')\n",
    "agg['proportion'] = agg['sentence_count'] / agg['total_q152_count']\n",
    "\n",
    "# Subset to Q152_1\n",
    "agg_q152_1 = agg[agg['predicted_combined_label'] == 'Q152_1'].copy()\n",
    "\n",
    "# Order countries alphabetically for stable categorical axis rendering\n",
    "ordered_countries = sorted(agg_q152_1['B_COUNTRY_ALPHA'].unique())\n",
    "agg_q152_1['B_COUNTRY_ALPHA'] = pd.Categorical(\n",
    "    agg_q152_1['B_COUNTRY_ALPHA'],\n",
    "    categories=ordered_countries,\n",
    "    ordered=True\n",
    ")\n",
    "\n",
    "# Scatter plot; legend removed; no plot title; no y-axis title; 45° x-tick labels\n",
    "fig = px.scatter(\n",
    "    agg_q152_1,\n",
    "    x='B_COUNTRY_ALPHA',\n",
    "    y='proportion',\n",
    "    size='sentence_count',\n",
    "    color='B_COUNTRY_ALPHA',  # retained for visual distinction; legend is hidden below\n",
    "    hover_name='B_COUNTRY_ALPHA',\n",
    "    labels={'B_COUNTRY_ALPHA': 'Country', 'proportion': '', 'sentence_count': 'Sentence Count'},\n",
    "    size_max=40,\n",
    "    height=600\n",
    ")\n",
    "\n",
    "# Global typography set to Times New Roman Bold (falls back to Times New Roman if Bold variant unavailable)\n",
    "bold_times = \"Times New Roman Bold, Times New Roman\"\n",
    "\n",
    "fig.update_layout(\n",
    "    xaxis={'categoryorder': 'array', 'categoryarray': ordered_countries},\n",
    "    xaxis_tickangle=45,      # 45° tilted country names\n",
    "    yaxis_title=None,        # no y-axis title\n",
    "    showlegend=False,        # remove legend\n",
    "    title=None,              # no plot title\n",
    "    font=dict(family=bold_times, size=14),  # global font\n",
    "    hoverlabel=dict(font_family=bold_times, font_size=12),\n",
    "    margin=dict(l=40, r=40, t=20, b=40)\n",
    ")\n",
    "\n",
    "# Ensure axis tick labels also use the bold Times family explicitly\n",
    "fig.update_xaxes(tickfont=dict(family=bold_times, size=12), title=None)\n",
    "fig.update_yaxes(tickfont=dict(family=bold_times, size=12), title=None)\n",
    "\n",
    "fig.show()\n"
   ]
  },
  {
   "cell_type": "code",
   "execution_count": 52,
   "id": "9bd4d5a3",
   "metadata": {},
   "outputs": [
    {
     "data": {
      "application/vnd.plotly.v1+json": {
       "config": {
        "plotlyServerURL": "https://plot.ly"
       },
       "data": [
        {
         "hovertemplate": "<b>%{hovertext}</b><br><br>Country=%{x}<br>=%{y}<br>Sentence Count=%{marker.size}<extra></extra>",
         "hovertext": [
          "AND"
         ],
         "legendgroup": "AND",
         "marker": {
          "color": "#636efa",
          "size": {
           "bdata": "AQ==",
           "dtype": "i1"
          },
          "sizemode": "area",
          "sizeref": 0.005,
          "symbol": "circle"
         },
         "mode": "markers",
         "name": "AND",
         "orientation": "v",
         "showlegend": true,
         "type": "scatter",
         "x": [
          "AND"
         ],
         "xaxis": "x",
         "y": {
          "bdata": "VVVVVVVVtT8=",
          "dtype": "f8"
         },
         "yaxis": "y"
        },
        {
         "hovertemplate": "<b>%{hovertext}</b><br><br>Country=%{x}<br>=%{y}<br>Sentence Count=%{marker.size}<extra></extra>",
         "hovertext": [
          "ARG"
         ],
         "legendgroup": "ARG",
         "marker": {
          "color": "#EF553B",
          "size": {
           "bdata": "AQ==",
           "dtype": "i1"
          },
          "sizemode": "area",
          "sizeref": 0.005,
          "symbol": "circle"
         },
         "mode": "markers",
         "name": "ARG",
         "orientation": "v",
         "showlegend": true,
         "type": "scatter",
         "x": [
          "ARG"
         ],
         "xaxis": "x",
         "y": {
          "bdata": "mpmZmZmZyT8=",
          "dtype": "f8"
         },
         "yaxis": "y"
        },
        {
         "hovertemplate": "<b>%{hovertext}</b><br><br>Country=%{x}<br>=%{y}<br>Sentence Count=%{marker.size}<extra></extra>",
         "hovertext": [
          "ARM"
         ],
         "legendgroup": "ARM",
         "marker": {
          "color": "#00cc96",
          "size": {
           "bdata": "AQ==",
           "dtype": "i1"
          },
          "sizemode": "area",
          "sizeref": 0.005,
          "symbol": "circle"
         },
         "mode": "markers",
         "name": "ARM",
         "orientation": "v",
         "showlegend": true,
         "type": "scatter",
         "x": [
          "ARM"
         ],
         "xaxis": "x",
         "y": {
          "bdata": "AAAAAAAA0D8=",
          "dtype": "f8"
         },
         "yaxis": "y"
        },
        {
         "hovertemplate": "<b>%{hovertext}</b><br><br>Country=%{x}<br>=%{y}<br>Sentence Count=%{marker.size}<extra></extra>",
         "hovertext": [
          "AUS"
         ],
         "legendgroup": "AUS",
         "marker": {
          "color": "#ab63fa",
          "size": {
           "bdata": "Ag==",
           "dtype": "i1"
          },
          "sizemode": "area",
          "sizeref": 0.005,
          "symbol": "circle"
         },
         "mode": "markers",
         "name": "AUS",
         "orientation": "v",
         "showlegend": true,
         "type": "scatter",
         "x": [
          "AUS"
         ],
         "xaxis": "x",
         "y": {
          "bdata": "GIZhGIZhuD8=",
          "dtype": "f8"
         },
         "yaxis": "y"
        },
        {
         "hovertemplate": "<b>%{hovertext}</b><br><br>Country=%{x}<br>=%{y}<br>Sentence Count=%{marker.size}<extra></extra>",
         "hovertext": [
          "BGD"
         ],
         "legendgroup": "BGD",
         "marker": {
          "color": "#FFA15A",
          "size": {
           "bdata": "CA==",
           "dtype": "i1"
          },
          "sizemode": "area",
          "sizeref": 0.005,
          "symbol": "circle"
         },
         "mode": "markers",
         "name": "BGD",
         "orientation": "v",
         "showlegend": true,
         "type": "scatter",
         "x": [
          "BGD"
         ],
         "xaxis": "x",
         "y": {
          "bdata": "AAAAAAAA4D8=",
          "dtype": "f8"
         },
         "yaxis": "y"
        },
        {
         "hovertemplate": "<b>%{hovertext}</b><br><br>Country=%{x}<br>=%{y}<br>Sentence Count=%{marker.size}<extra></extra>",
         "hovertext": [
          "BRA"
         ],
         "legendgroup": "BRA",
         "marker": {
          "color": "#19d3f3",
          "size": {
           "bdata": "AQ==",
           "dtype": "i1"
          },
          "sizemode": "area",
          "sizeref": 0.005,
          "symbol": "circle"
         },
         "mode": "markers",
         "name": "BRA",
         "orientation": "v",
         "showlegend": true,
         "type": "scatter",
         "x": [
          "BRA"
         ],
         "xaxis": "x",
         "y": {
          "bdata": "HMdxHMdxvD8=",
          "dtype": "f8"
         },
         "yaxis": "y"
        },
        {
         "hovertemplate": "<b>%{hovertext}</b><br><br>Country=%{x}<br>=%{y}<br>Sentence Count=%{marker.size}<extra></extra>",
         "hovertext": [
          "COL"
         ],
         "legendgroup": "COL",
         "marker": {
          "color": "#FF6692",
          "size": {
           "bdata": "Aw==",
           "dtype": "i1"
          },
          "sizemode": "area",
          "sizeref": 0.005,
          "symbol": "circle"
         },
         "mode": "markers",
         "name": "COL",
         "orientation": "v",
         "showlegend": true,
         "type": "scatter",
         "x": [
          "COL"
         ],
         "xaxis": "x",
         "y": {
          "bdata": "MzMzMzMz0z8=",
          "dtype": "f8"
         },
         "yaxis": "y"
        },
        {
         "hovertemplate": "<b>%{hovertext}</b><br><br>Country=%{x}<br>=%{y}<br>Sentence Count=%{marker.size}<extra></extra>",
         "hovertext": [
          "ECU"
         ],
         "legendgroup": "ECU",
         "marker": {
          "color": "#B6E880",
          "size": {
           "bdata": "AQ==",
           "dtype": "i1"
          },
          "sizemode": "area",
          "sizeref": 0.005,
          "symbol": "circle"
         },
         "mode": "markers",
         "name": "ECU",
         "orientation": "v",
         "showlegend": true,
         "type": "scatter",
         "x": [
          "ECU"
         ],
         "xaxis": "x",
         "y": {
          "bdata": "mpmZmZmZyT8=",
          "dtype": "f8"
         },
         "yaxis": "y"
        },
        {
         "hovertemplate": "<b>%{hovertext}</b><br><br>Country=%{x}<br>=%{y}<br>Sentence Count=%{marker.size}<extra></extra>",
         "hovertext": [
          "ETH"
         ],
         "legendgroup": "ETH",
         "marker": {
          "color": "#FF97FF",
          "size": {
           "bdata": "Bg==",
           "dtype": "i1"
          },
          "sizemode": "area",
          "sizeref": 0.005,
          "symbol": "circle"
         },
         "mode": "markers",
         "name": "ETH",
         "orientation": "v",
         "showlegend": true,
         "type": "scatter",
         "x": [
          "ETH"
         ],
         "xaxis": "x",
         "y": {
          "bdata": "ntiJndiJ3T8=",
          "dtype": "f8"
         },
         "yaxis": "y"
        },
        {
         "hovertemplate": "<b>%{hovertext}</b><br><br>Country=%{x}<br>=%{y}<br>Sentence Count=%{marker.size}<extra></extra>",
         "hovertext": [
          "GTM"
         ],
         "legendgroup": "GTM",
         "marker": {
          "color": "#FECB52",
          "size": {
           "bdata": "Ag==",
           "dtype": "i1"
          },
          "sizemode": "area",
          "sizeref": 0.005,
          "symbol": "circle"
         },
         "mode": "markers",
         "name": "GTM",
         "orientation": "v",
         "showlegend": true,
         "type": "scatter",
         "x": [
          "GTM"
         ],
         "xaxis": "x",
         "y": {
          "bdata": "GIZhGIZhuD8=",
          "dtype": "f8"
         },
         "yaxis": "y"
        },
        {
         "hovertemplate": "<b>%{hovertext}</b><br><br>Country=%{x}<br>=%{y}<br>Sentence Count=%{marker.size}<extra></extra>",
         "hovertext": [
          "IDN"
         ],
         "legendgroup": "IDN",
         "marker": {
          "color": "#636efa",
          "size": {
           "bdata": "BA==",
           "dtype": "i1"
          },
          "sizemode": "area",
          "sizeref": 0.005,
          "symbol": "circle"
         },
         "mode": "markers",
         "name": "IDN",
         "orientation": "v",
         "showlegend": true,
         "type": "scatter",
         "x": [
          "IDN"
         ],
         "xaxis": "x",
         "y": {
          "bdata": "ZCELWchCxj8=",
          "dtype": "f8"
         },
         "yaxis": "y"
        },
        {
         "hovertemplate": "<b>%{hovertext}</b><br><br>Country=%{x}<br>=%{y}<br>Sentence Count=%{marker.size}<extra></extra>",
         "hovertext": [
          "IND"
         ],
         "legendgroup": "IND",
         "marker": {
          "color": "#EF553B",
          "size": {
           "bdata": "Aw==",
           "dtype": "i1"
          },
          "sizemode": "area",
          "sizeref": 0.005,
          "symbol": "circle"
         },
         "mode": "markers",
         "name": "IND",
         "orientation": "v",
         "showlegend": true,
         "type": "scatter",
         "x": [
          "IND"
         ],
         "xaxis": "x",
         "y": {
          "bdata": "MzMzMzMz0z8=",
          "dtype": "f8"
         },
         "yaxis": "y"
        },
        {
         "hovertemplate": "<b>%{hovertext}</b><br><br>Country=%{x}<br>=%{y}<br>Sentence Count=%{marker.size}<extra></extra>",
         "hovertext": [
          "IRQ"
         ],
         "legendgroup": "IRQ",
         "marker": {
          "color": "#00cc96",
          "size": {
           "bdata": "AQ==",
           "dtype": "i1"
          },
          "sizemode": "area",
          "sizeref": 0.005,
          "symbol": "circle"
         },
         "mode": "markers",
         "name": "IRQ",
         "orientation": "v",
         "showlegend": true,
         "type": "scatter",
         "x": [
          "IRQ"
         ],
         "xaxis": "x",
         "y": {
          "bdata": "kiRJkiRJwj8=",
          "dtype": "f8"
         },
         "yaxis": "y"
        },
        {
         "hovertemplate": "<b>%{hovertext}</b><br><br>Country=%{x}<br>=%{y}<br>Sentence Count=%{marker.size}<extra></extra>",
         "hovertext": [
          "JOR"
         ],
         "legendgroup": "JOR",
         "marker": {
          "color": "#ab63fa",
          "size": {
           "bdata": "Ag==",
           "dtype": "i1"
          },
          "sizemode": "area",
          "sizeref": 0.005,
          "symbol": "circle"
         },
         "mode": "markers",
         "name": "JOR",
         "orientation": "v",
         "showlegend": true,
         "type": "scatter",
         "x": [
          "JOR"
         ],
         "xaxis": "x",
         "y": {
          "bdata": "VVVVVVVV5T8=",
          "dtype": "f8"
         },
         "yaxis": "y"
        },
        {
         "hovertemplate": "<b>%{hovertext}</b><br><br>Country=%{x}<br>=%{y}<br>Sentence Count=%{marker.size}<extra></extra>",
         "hovertext": [
          "JPN"
         ],
         "legendgroup": "JPN",
         "marker": {
          "color": "#FFA15A",
          "size": {
           "bdata": "Ag==",
           "dtype": "i1"
          },
          "sizemode": "area",
          "sizeref": 0.005,
          "symbol": "circle"
         },
         "mode": "markers",
         "name": "JPN",
         "orientation": "v",
         "showlegend": true,
         "type": "scatter",
         "x": [
          "JPN"
         ],
         "xaxis": "x",
         "y": {
          "bdata": "mpmZmZmZuT8=",
          "dtype": "f8"
         },
         "yaxis": "y"
        },
        {
         "hovertemplate": "<b>%{hovertext}</b><br><br>Country=%{x}<br>=%{y}<br>Sentence Count=%{marker.size}<extra></extra>",
         "hovertext": [
          "KAZ"
         ],
         "legendgroup": "KAZ",
         "marker": {
          "color": "#19d3f3",
          "size": {
           "bdata": "Aw==",
           "dtype": "i1"
          },
          "sizemode": "area",
          "sizeref": 0.005,
          "symbol": "circle"
         },
         "mode": "markers",
         "name": "KAZ",
         "orientation": "v",
         "showlegend": true,
         "type": "scatter",
         "x": [
          "KAZ"
         ],
         "xaxis": "x",
         "y": {
          "bdata": "mpmZmZmZyT8=",
          "dtype": "f8"
         },
         "yaxis": "y"
        },
        {
         "hovertemplate": "<b>%{hovertext}</b><br><br>Country=%{x}<br>=%{y}<br>Sentence Count=%{marker.size}<extra></extra>",
         "hovertext": [
          "KEN"
         ],
         "legendgroup": "KEN",
         "marker": {
          "color": "#FF6692",
          "size": {
           "bdata": "AQ==",
           "dtype": "i1"
          },
          "sizemode": "area",
          "sizeref": 0.005,
          "symbol": "circle"
         },
         "mode": "markers",
         "name": "KEN",
         "orientation": "v",
         "showlegend": true,
         "type": "scatter",
         "x": [
          "KEN"
         ],
         "xaxis": "x",
         "y": {
          "bdata": "KK+hvIbyqj8=",
          "dtype": "f8"
         },
         "yaxis": "y"
        },
        {
         "hovertemplate": "<b>%{hovertext}</b><br><br>Country=%{x}<br>=%{y}<br>Sentence Count=%{marker.size}<extra></extra>",
         "hovertext": [
          "KOR"
         ],
         "legendgroup": "KOR",
         "marker": {
          "color": "#B6E880",
          "size": {
           "bdata": "AQ==",
           "dtype": "i1"
          },
          "sizemode": "area",
          "sizeref": 0.005,
          "symbol": "circle"
         },
         "mode": "markers",
         "name": "KOR",
         "orientation": "v",
         "showlegend": true,
         "type": "scatter",
         "x": [
          "KOR"
         ],
         "xaxis": "x",
         "y": {
          "bdata": "HMdxHMdxvD8=",
          "dtype": "f8"
         },
         "yaxis": "y"
        },
        {
         "hovertemplate": "<b>%{hovertext}</b><br><br>Country=%{x}<br>=%{y}<br>Sentence Count=%{marker.size}<extra></extra>",
         "hovertext": [
          "LBN"
         ],
         "legendgroup": "LBN",
         "marker": {
          "color": "#FF97FF",
          "size": {
           "bdata": "AQ==",
           "dtype": "i1"
          },
          "sizemode": "area",
          "sizeref": 0.005,
          "symbol": "circle"
         },
         "mode": "markers",
         "name": "LBN",
         "orientation": "v",
         "showlegend": true,
         "type": "scatter",
         "x": [
          "LBN"
         ],
         "xaxis": "x",
         "y": {
          "bdata": "mpmZmZmZyT8=",
          "dtype": "f8"
         },
         "yaxis": "y"
        },
        {
         "hovertemplate": "<b>%{hovertext}</b><br><br>Country=%{x}<br>=%{y}<br>Sentence Count=%{marker.size}<extra></extra>",
         "hovertext": [
          "LBY"
         ],
         "legendgroup": "LBY",
         "marker": {
          "color": "#FECB52",
          "size": {
           "bdata": "Ag==",
           "dtype": "i1"
          },
          "sizemode": "area",
          "sizeref": 0.005,
          "symbol": "circle"
         },
         "mode": "markers",
         "name": "LBY",
         "orientation": "v",
         "showlegend": true,
         "type": "scatter",
         "x": [
          "LBY"
         ],
         "xaxis": "x",
         "y": {
          "bdata": "VVVVVVVVxT8=",
          "dtype": "f8"
         },
         "yaxis": "y"
        },
        {
         "hovertemplate": "<b>%{hovertext}</b><br><br>Country=%{x}<br>=%{y}<br>Sentence Count=%{marker.size}<extra></extra>",
         "hovertext": [
          "MAR"
         ],
         "legendgroup": "MAR",
         "marker": {
          "color": "#636efa",
          "size": {
           "bdata": "AQ==",
           "dtype": "i1"
          },
          "sizemode": "area",
          "sizeref": 0.005,
          "symbol": "circle"
         },
         "mode": "markers",
         "name": "MAR",
         "orientation": "v",
         "showlegend": true,
         "type": "scatter",
         "x": [
          "MAR"
         ],
         "xaxis": "x",
         "y": {
          "bdata": "VVVVVVVVtT8=",
          "dtype": "f8"
         },
         "yaxis": "y"
        },
        {
         "hovertemplate": "<b>%{hovertext}</b><br><br>Country=%{x}<br>=%{y}<br>Sentence Count=%{marker.size}<extra></extra>",
         "hovertext": [
          "MDV"
         ],
         "legendgroup": "MDV",
         "marker": {
          "color": "#EF553B",
          "size": {
           "bdata": "AQ==",
           "dtype": "i1"
          },
          "sizemode": "area",
          "sizeref": 0.005,
          "symbol": "circle"
         },
         "mode": "markers",
         "name": "MDV",
         "orientation": "v",
         "showlegend": true,
         "type": "scatter",
         "x": [
          "MDV"
         ],
         "xaxis": "x",
         "y": {
          "bdata": "AAAAAAAAwD8=",
          "dtype": "f8"
         },
         "yaxis": "y"
        },
        {
         "hovertemplate": "<b>%{hovertext}</b><br><br>Country=%{x}<br>=%{y}<br>Sentence Count=%{marker.size}<extra></extra>",
         "hovertext": [
          "MEX"
         ],
         "legendgroup": "MEX",
         "marker": {
          "color": "#00cc96",
          "size": {
           "bdata": "AQ==",
           "dtype": "i1"
          },
          "sizemode": "area",
          "sizeref": 0.005,
          "symbol": "circle"
         },
         "mode": "markers",
         "name": "MEX",
         "orientation": "v",
         "showlegend": true,
         "type": "scatter",
         "x": [
          "MEX"
         ],
         "xaxis": "x",
         "y": {
          "bdata": "AAAAAAAA0D8=",
          "dtype": "f8"
         },
         "yaxis": "y"
        },
        {
         "hovertemplate": "<b>%{hovertext}</b><br><br>Country=%{x}<br>=%{y}<br>Sentence Count=%{marker.size}<extra></extra>",
         "hovertext": [
          "MMR"
         ],
         "legendgroup": "MMR",
         "marker": {
          "color": "#ab63fa",
          "size": {
           "bdata": "AQ==",
           "dtype": "i1"
          },
          "sizemode": "area",
          "sizeref": 0.005,
          "symbol": "circle"
         },
         "mode": "markers",
         "name": "MMR",
         "orientation": "v",
         "showlegend": true,
         "type": "scatter",
         "x": [
          "MMR"
         ],
         "xaxis": "x",
         "y": {
          "bdata": "VVVVVVVVtT8=",
          "dtype": "f8"
         },
         "yaxis": "y"
        },
        {
         "hovertemplate": "<b>%{hovertext}</b><br><br>Country=%{x}<br>=%{y}<br>Sentence Count=%{marker.size}<extra></extra>",
         "hovertext": [
          "MNG"
         ],
         "legendgroup": "MNG",
         "marker": {
          "color": "#FFA15A",
          "size": {
           "bdata": "Aw==",
           "dtype": "i1"
          },
          "sizemode": "area",
          "sizeref": 0.005,
          "symbol": "circle"
         },
         "mode": "markers",
         "name": "MNG",
         "orientation": "v",
         "showlegend": true,
         "type": "scatter",
         "x": [
          "MNG"
         ],
         "xaxis": "x",
         "y": {
          "bdata": "dNFFF1100T8=",
          "dtype": "f8"
         },
         "yaxis": "y"
        },
        {
         "hovertemplate": "<b>%{hovertext}</b><br><br>Country=%{x}<br>=%{y}<br>Sentence Count=%{marker.size}<extra></extra>",
         "hovertext": [
          "NGA"
         ],
         "legendgroup": "NGA",
         "marker": {
          "color": "#19d3f3",
          "size": {
           "bdata": "AQ==",
           "dtype": "i1"
          },
          "sizemode": "area",
          "sizeref": 0.005,
          "symbol": "circle"
         },
         "mode": "markers",
         "name": "NGA",
         "orientation": "v",
         "showlegend": true,
         "type": "scatter",
         "x": [
          "NGA"
         ],
         "xaxis": "x",
         "y": {
          "bdata": "Hh4eHh4erj8=",
          "dtype": "f8"
         },
         "yaxis": "y"
        },
        {
         "hovertemplate": "<b>%{hovertext}</b><br><br>Country=%{x}<br>=%{y}<br>Sentence Count=%{marker.size}<extra></extra>",
         "hovertext": [
          "NIC"
         ],
         "legendgroup": "NIC",
         "marker": {
          "color": "#FF6692",
          "size": {
           "bdata": "Ag==",
           "dtype": "i1"
          },
          "sizemode": "area",
          "sizeref": 0.005,
          "symbol": "circle"
         },
         "mode": "markers",
         "name": "NIC",
         "orientation": "v",
         "showlegend": true,
         "type": "scatter",
         "x": [
          "NIC"
         ],
         "xaxis": "x",
         "y": {
          "bdata": "RhdddNFFxz8=",
          "dtype": "f8"
         },
         "yaxis": "y"
        },
        {
         "hovertemplate": "<b>%{hovertext}</b><br><br>Country=%{x}<br>=%{y}<br>Sentence Count=%{marker.size}<extra></extra>",
         "hovertext": [
          "PAK"
         ],
         "legendgroup": "PAK",
         "marker": {
          "color": "#B6E880",
          "size": {
           "bdata": "AQ==",
           "dtype": "i1"
          },
          "sizemode": "area",
          "sizeref": 0.005,
          "symbol": "circle"
         },
         "mode": "markers",
         "name": "PAK",
         "orientation": "v",
         "showlegend": true,
         "type": "scatter",
         "x": [
          "PAK"
         ],
         "xaxis": "x",
         "y": {
          "bdata": "Hh4eHh4erj8=",
          "dtype": "f8"
         },
         "yaxis": "y"
        },
        {
         "hovertemplate": "<b>%{hovertext}</b><br><br>Country=%{x}<br>=%{y}<br>Sentence Count=%{marker.size}<extra></extra>",
         "hovertext": [
          "PER"
         ],
         "legendgroup": "PER",
         "marker": {
          "color": "#FF97FF",
          "size": {
           "bdata": "Aw==",
           "dtype": "i1"
          },
          "sizemode": "area",
          "sizeref": 0.005,
          "symbol": "circle"
         },
         "mode": "markers",
         "name": "PER",
         "orientation": "v",
         "showlegend": true,
         "type": "scatter",
         "x": [
          "PER"
         ],
         "xaxis": "x",
         "y": {
          "bdata": "VVVVVVVV1T8=",
          "dtype": "f8"
         },
         "yaxis": "y"
        },
        {
         "hovertemplate": "<b>%{hovertext}</b><br><br>Country=%{x}<br>=%{y}<br>Sentence Count=%{marker.size}<extra></extra>",
         "hovertext": [
          "PHL"
         ],
         "legendgroup": "PHL",
         "marker": {
          "color": "#FECB52",
          "size": {
           "bdata": "BA==",
           "dtype": "i1"
          },
          "sizemode": "area",
          "sizeref": 0.005,
          "symbol": "circle"
         },
         "mode": "markers",
         "name": "PHL",
         "orientation": "v",
         "showlegend": true,
         "type": "scatter",
         "x": [
          "PHL"
         ],
         "xaxis": "x",
         "y": {
          "bdata": "AAAAAAAAwD8=",
          "dtype": "f8"
         },
         "yaxis": "y"
        },
        {
         "hovertemplate": "<b>%{hovertext}</b><br><br>Country=%{x}<br>=%{y}<br>Sentence Count=%{marker.size}<extra></extra>",
         "hovertext": [
          "ROU"
         ],
         "legendgroup": "ROU",
         "marker": {
          "color": "#636efa",
          "size": {
           "bdata": "AQ==",
           "dtype": "i1"
          },
          "sizemode": "area",
          "sizeref": 0.005,
          "symbol": "circle"
         },
         "mode": "markers",
         "name": "ROU",
         "orientation": "v",
         "showlegend": true,
         "type": "scatter",
         "x": [
          "ROU"
         ],
         "xaxis": "x",
         "y": {
          "bdata": "RhdddNFFtz8=",
          "dtype": "f8"
         },
         "yaxis": "y"
        },
        {
         "hovertemplate": "<b>%{hovertext}</b><br><br>Country=%{x}<br>=%{y}<br>Sentence Count=%{marker.size}<extra></extra>",
         "hovertext": [
          "SGP"
         ],
         "legendgroup": "SGP",
         "marker": {
          "color": "#EF553B",
          "size": {
           "bdata": "AQ==",
           "dtype": "i1"
          },
          "sizemode": "area",
          "sizeref": 0.005,
          "symbol": "circle"
         },
         "mode": "markers",
         "name": "SGP",
         "orientation": "v",
         "showlegend": true,
         "type": "scatter",
         "x": [
          "SGP"
         ],
         "xaxis": "x",
         "y": {
          "bdata": "RhdddNFFtz8=",
          "dtype": "f8"
         },
         "yaxis": "y"
        },
        {
         "hovertemplate": "<b>%{hovertext}</b><br><br>Country=%{x}<br>=%{y}<br>Sentence Count=%{marker.size}<extra></extra>",
         "hovertext": [
          "SVK"
         ],
         "legendgroup": "SVK",
         "marker": {
          "color": "#00cc96",
          "size": {
           "bdata": "Ag==",
           "dtype": "i1"
          },
          "sizemode": "area",
          "sizeref": 0.005,
          "symbol": "circle"
         },
         "mode": "markers",
         "name": "SVK",
         "orientation": "v",
         "showlegend": true,
         "type": "scatter",
         "x": [
          "SVK"
         ],
         "xaxis": "x",
         "y": {
          "bdata": "FDuxEzuxwz8=",
          "dtype": "f8"
         },
         "yaxis": "y"
        },
        {
         "hovertemplate": "<b>%{hovertext}</b><br><br>Country=%{x}<br>=%{y}<br>Sentence Count=%{marker.size}<extra></extra>",
         "hovertext": [
          "THA"
         ],
         "legendgroup": "THA",
         "marker": {
          "color": "#ab63fa",
          "size": {
           "bdata": "AQ==",
           "dtype": "i1"
          },
          "sizemode": "area",
          "sizeref": 0.005,
          "symbol": "circle"
         },
         "mode": "markers",
         "name": "THA",
         "orientation": "v",
         "showlegend": true,
         "type": "scatter",
         "x": [
          "THA"
         ],
         "xaxis": "x",
         "y": {
          "bdata": "AAAAAAAAwD8=",
          "dtype": "f8"
         },
         "yaxis": "y"
        },
        {
         "hovertemplate": "<b>%{hovertext}</b><br><br>Country=%{x}<br>=%{y}<br>Sentence Count=%{marker.size}<extra></extra>",
         "hovertext": [
          "TJK"
         ],
         "legendgroup": "TJK",
         "marker": {
          "color": "#FFA15A",
          "size": {
           "bdata": "AQ==",
           "dtype": "i1"
          },
          "sizemode": "area",
          "sizeref": 0.005,
          "symbol": "circle"
         },
         "mode": "markers",
         "name": "TJK",
         "orientation": "v",
         "showlegend": true,
         "type": "scatter",
         "x": [
          "TJK"
         ],
         "xaxis": "x",
         "y": {
          "bdata": "FDuxEzuxsz8=",
          "dtype": "f8"
         },
         "yaxis": "y"
        },
        {
         "hovertemplate": "<b>%{hovertext}</b><br><br>Country=%{x}<br>=%{y}<br>Sentence Count=%{marker.size}<extra></extra>",
         "hovertext": [
          "TUN"
         ],
         "legendgroup": "TUN",
         "marker": {
          "color": "#19d3f3",
          "size": {
           "bdata": "AQ==",
           "dtype": "i1"
          },
          "sizemode": "area",
          "sizeref": 0.005,
          "symbol": "circle"
         },
         "mode": "markers",
         "name": "TUN",
         "orientation": "v",
         "showlegend": true,
         "type": "scatter",
         "x": [
          "TUN"
         ],
         "xaxis": "x",
         "y": {
          "bdata": "VVVVVVVV1T8=",
          "dtype": "f8"
         },
         "yaxis": "y"
        },
        {
         "hovertemplate": "<b>%{hovertext}</b><br><br>Country=%{x}<br>=%{y}<br>Sentence Count=%{marker.size}<extra></extra>",
         "hovertext": [
          "TUR"
         ],
         "legendgroup": "TUR",
         "marker": {
          "color": "#FF6692",
          "size": {
           "bdata": "AQ==",
           "dtype": "i1"
          },
          "sizemode": "area",
          "sizeref": 0.005,
          "symbol": "circle"
         },
         "mode": "markers",
         "name": "TUR",
         "orientation": "v",
         "showlegend": true,
         "type": "scatter",
         "x": [
          "TUR"
         ],
         "xaxis": "x",
         "y": {
          "bdata": "RhdddNFFpz8=",
          "dtype": "f8"
         },
         "yaxis": "y"
        },
        {
         "hovertemplate": "<b>%{hovertext}</b><br><br>Country=%{x}<br>=%{y}<br>Sentence Count=%{marker.size}<extra></extra>",
         "hovertext": [
          "UKR"
         ],
         "legendgroup": "UKR",
         "marker": {
          "color": "#B6E880",
          "size": {
           "bdata": "AQ==",
           "dtype": "i1"
          },
          "sizemode": "area",
          "sizeref": 0.005,
          "symbol": "circle"
         },
         "mode": "markers",
         "name": "UKR",
         "orientation": "v",
         "showlegend": true,
         "type": "scatter",
         "x": [
          "UKR"
         ],
         "xaxis": "x",
         "y": {
          "bdata": "ERERERERoT8=",
          "dtype": "f8"
         },
         "yaxis": "y"
        },
        {
         "hovertemplate": "<b>%{hovertext}</b><br><br>Country=%{x}<br>=%{y}<br>Sentence Count=%{marker.size}<extra></extra>",
         "hovertext": [
          "URY"
         ],
         "legendgroup": "URY",
         "marker": {
          "color": "#FF97FF",
          "size": {
           "bdata": "AQ==",
           "dtype": "i1"
          },
          "sizemode": "area",
          "sizeref": 0.005,
          "symbol": "circle"
         },
         "mode": "markers",
         "name": "URY",
         "orientation": "v",
         "showlegend": true,
         "type": "scatter",
         "x": [
          "URY"
         ],
         "xaxis": "x",
         "y": {
          "bdata": "VVVVVVVVtT8=",
          "dtype": "f8"
         },
         "yaxis": "y"
        },
        {
         "hovertemplate": "<b>%{hovertext}</b><br><br>Country=%{x}<br>=%{y}<br>Sentence Count=%{marker.size}<extra></extra>",
         "hovertext": [
          "VNM"
         ],
         "legendgroup": "VNM",
         "marker": {
          "color": "#FECB52",
          "size": {
           "bdata": "Ag==",
           "dtype": "i1"
          },
          "sizemode": "area",
          "sizeref": 0.005,
          "symbol": "circle"
         },
         "mode": "markers",
         "name": "VNM",
         "orientation": "v",
         "showlegend": true,
         "type": "scatter",
         "x": [
          "VNM"
         ],
         "xaxis": "x",
         "y": {
          "bdata": "KK+hvIbyuj8=",
          "dtype": "f8"
         },
         "yaxis": "y"
        }
       ],
       "layout": {
        "font": {
         "family": "Times New Roman Bold, Times New Roman",
         "size": 14
        },
        "height": 600,
        "hoverlabel": {
         "font": {
          "family": "Times New Roman Bold, Times New Roman",
          "size": 12
         }
        },
        "legend": {
         "itemsizing": "constant",
         "title": {
          "text": "Country"
         },
         "tracegroupgap": 0
        },
        "margin": {
         "b": 40,
         "l": 40,
         "r": 40,
         "t": 20
        },
        "showlegend": false,
        "template": {
         "data": {
          "bar": [
           {
            "error_x": {
             "color": "#2a3f5f"
            },
            "error_y": {
             "color": "#2a3f5f"
            },
            "marker": {
             "line": {
              "color": "#E5ECF6",
              "width": 0.5
             },
             "pattern": {
              "fillmode": "overlay",
              "size": 10,
              "solidity": 0.2
             }
            },
            "type": "bar"
           }
          ],
          "barpolar": [
           {
            "marker": {
             "line": {
              "color": "#E5ECF6",
              "width": 0.5
             },
             "pattern": {
              "fillmode": "overlay",
              "size": 10,
              "solidity": 0.2
             }
            },
            "type": "barpolar"
           }
          ],
          "carpet": [
           {
            "aaxis": {
             "endlinecolor": "#2a3f5f",
             "gridcolor": "white",
             "linecolor": "white",
             "minorgridcolor": "white",
             "startlinecolor": "#2a3f5f"
            },
            "baxis": {
             "endlinecolor": "#2a3f5f",
             "gridcolor": "white",
             "linecolor": "white",
             "minorgridcolor": "white",
             "startlinecolor": "#2a3f5f"
            },
            "type": "carpet"
           }
          ],
          "choropleth": [
           {
            "colorbar": {
             "outlinewidth": 0,
             "ticks": ""
            },
            "type": "choropleth"
           }
          ],
          "contour": [
           {
            "colorbar": {
             "outlinewidth": 0,
             "ticks": ""
            },
            "colorscale": [
             [
              0,
              "#0d0887"
             ],
             [
              0.1111111111111111,
              "#46039f"
             ],
             [
              0.2222222222222222,
              "#7201a8"
             ],
             [
              0.3333333333333333,
              "#9c179e"
             ],
             [
              0.4444444444444444,
              "#bd3786"
             ],
             [
              0.5555555555555556,
              "#d8576b"
             ],
             [
              0.6666666666666666,
              "#ed7953"
             ],
             [
              0.7777777777777778,
              "#fb9f3a"
             ],
             [
              0.8888888888888888,
              "#fdca26"
             ],
             [
              1,
              "#f0f921"
             ]
            ],
            "type": "contour"
           }
          ],
          "contourcarpet": [
           {
            "colorbar": {
             "outlinewidth": 0,
             "ticks": ""
            },
            "type": "contourcarpet"
           }
          ],
          "heatmap": [
           {
            "colorbar": {
             "outlinewidth": 0,
             "ticks": ""
            },
            "colorscale": [
             [
              0,
              "#0d0887"
             ],
             [
              0.1111111111111111,
              "#46039f"
             ],
             [
              0.2222222222222222,
              "#7201a8"
             ],
             [
              0.3333333333333333,
              "#9c179e"
             ],
             [
              0.4444444444444444,
              "#bd3786"
             ],
             [
              0.5555555555555556,
              "#d8576b"
             ],
             [
              0.6666666666666666,
              "#ed7953"
             ],
             [
              0.7777777777777778,
              "#fb9f3a"
             ],
             [
              0.8888888888888888,
              "#fdca26"
             ],
             [
              1,
              "#f0f921"
             ]
            ],
            "type": "heatmap"
           }
          ],
          "histogram": [
           {
            "marker": {
             "pattern": {
              "fillmode": "overlay",
              "size": 10,
              "solidity": 0.2
             }
            },
            "type": "histogram"
           }
          ],
          "histogram2d": [
           {
            "colorbar": {
             "outlinewidth": 0,
             "ticks": ""
            },
            "colorscale": [
             [
              0,
              "#0d0887"
             ],
             [
              0.1111111111111111,
              "#46039f"
             ],
             [
              0.2222222222222222,
              "#7201a8"
             ],
             [
              0.3333333333333333,
              "#9c179e"
             ],
             [
              0.4444444444444444,
              "#bd3786"
             ],
             [
              0.5555555555555556,
              "#d8576b"
             ],
             [
              0.6666666666666666,
              "#ed7953"
             ],
             [
              0.7777777777777778,
              "#fb9f3a"
             ],
             [
              0.8888888888888888,
              "#fdca26"
             ],
             [
              1,
              "#f0f921"
             ]
            ],
            "type": "histogram2d"
           }
          ],
          "histogram2dcontour": [
           {
            "colorbar": {
             "outlinewidth": 0,
             "ticks": ""
            },
            "colorscale": [
             [
              0,
              "#0d0887"
             ],
             [
              0.1111111111111111,
              "#46039f"
             ],
             [
              0.2222222222222222,
              "#7201a8"
             ],
             [
              0.3333333333333333,
              "#9c179e"
             ],
             [
              0.4444444444444444,
              "#bd3786"
             ],
             [
              0.5555555555555556,
              "#d8576b"
             ],
             [
              0.6666666666666666,
              "#ed7953"
             ],
             [
              0.7777777777777778,
              "#fb9f3a"
             ],
             [
              0.8888888888888888,
              "#fdca26"
             ],
             [
              1,
              "#f0f921"
             ]
            ],
            "type": "histogram2dcontour"
           }
          ],
          "mesh3d": [
           {
            "colorbar": {
             "outlinewidth": 0,
             "ticks": ""
            },
            "type": "mesh3d"
           }
          ],
          "parcoords": [
           {
            "line": {
             "colorbar": {
              "outlinewidth": 0,
              "ticks": ""
             }
            },
            "type": "parcoords"
           }
          ],
          "pie": [
           {
            "automargin": true,
            "type": "pie"
           }
          ],
          "scatter": [
           {
            "fillpattern": {
             "fillmode": "overlay",
             "size": 10,
             "solidity": 0.2
            },
            "type": "scatter"
           }
          ],
          "scatter3d": [
           {
            "line": {
             "colorbar": {
              "outlinewidth": 0,
              "ticks": ""
             }
            },
            "marker": {
             "colorbar": {
              "outlinewidth": 0,
              "ticks": ""
             }
            },
            "type": "scatter3d"
           }
          ],
          "scattercarpet": [
           {
            "marker": {
             "colorbar": {
              "outlinewidth": 0,
              "ticks": ""
             }
            },
            "type": "scattercarpet"
           }
          ],
          "scattergeo": [
           {
            "marker": {
             "colorbar": {
              "outlinewidth": 0,
              "ticks": ""
             }
            },
            "type": "scattergeo"
           }
          ],
          "scattergl": [
           {
            "marker": {
             "colorbar": {
              "outlinewidth": 0,
              "ticks": ""
             }
            },
            "type": "scattergl"
           }
          ],
          "scattermap": [
           {
            "marker": {
             "colorbar": {
              "outlinewidth": 0,
              "ticks": ""
             }
            },
            "type": "scattermap"
           }
          ],
          "scattermapbox": [
           {
            "marker": {
             "colorbar": {
              "outlinewidth": 0,
              "ticks": ""
             }
            },
            "type": "scattermapbox"
           }
          ],
          "scatterpolar": [
           {
            "marker": {
             "colorbar": {
              "outlinewidth": 0,
              "ticks": ""
             }
            },
            "type": "scatterpolar"
           }
          ],
          "scatterpolargl": [
           {
            "marker": {
             "colorbar": {
              "outlinewidth": 0,
              "ticks": ""
             }
            },
            "type": "scatterpolargl"
           }
          ],
          "scatterternary": [
           {
            "marker": {
             "colorbar": {
              "outlinewidth": 0,
              "ticks": ""
             }
            },
            "type": "scatterternary"
           }
          ],
          "surface": [
           {
            "colorbar": {
             "outlinewidth": 0,
             "ticks": ""
            },
            "colorscale": [
             [
              0,
              "#0d0887"
             ],
             [
              0.1111111111111111,
              "#46039f"
             ],
             [
              0.2222222222222222,
              "#7201a8"
             ],
             [
              0.3333333333333333,
              "#9c179e"
             ],
             [
              0.4444444444444444,
              "#bd3786"
             ],
             [
              0.5555555555555556,
              "#d8576b"
             ],
             [
              0.6666666666666666,
              "#ed7953"
             ],
             [
              0.7777777777777778,
              "#fb9f3a"
             ],
             [
              0.8888888888888888,
              "#fdca26"
             ],
             [
              1,
              "#f0f921"
             ]
            ],
            "type": "surface"
           }
          ],
          "table": [
           {
            "cells": {
             "fill": {
              "color": "#EBF0F8"
             },
             "line": {
              "color": "white"
             }
            },
            "header": {
             "fill": {
              "color": "#C8D4E3"
             },
             "line": {
              "color": "white"
             }
            },
            "type": "table"
           }
          ]
         },
         "layout": {
          "annotationdefaults": {
           "arrowcolor": "#2a3f5f",
           "arrowhead": 0,
           "arrowwidth": 1
          },
          "autotypenumbers": "strict",
          "coloraxis": {
           "colorbar": {
            "outlinewidth": 0,
            "ticks": ""
           }
          },
          "colorscale": {
           "diverging": [
            [
             0,
             "#8e0152"
            ],
            [
             0.1,
             "#c51b7d"
            ],
            [
             0.2,
             "#de77ae"
            ],
            [
             0.3,
             "#f1b6da"
            ],
            [
             0.4,
             "#fde0ef"
            ],
            [
             0.5,
             "#f7f7f7"
            ],
            [
             0.6,
             "#e6f5d0"
            ],
            [
             0.7,
             "#b8e186"
            ],
            [
             0.8,
             "#7fbc41"
            ],
            [
             0.9,
             "#4d9221"
            ],
            [
             1,
             "#276419"
            ]
           ],
           "sequential": [
            [
             0,
             "#0d0887"
            ],
            [
             0.1111111111111111,
             "#46039f"
            ],
            [
             0.2222222222222222,
             "#7201a8"
            ],
            [
             0.3333333333333333,
             "#9c179e"
            ],
            [
             0.4444444444444444,
             "#bd3786"
            ],
            [
             0.5555555555555556,
             "#d8576b"
            ],
            [
             0.6666666666666666,
             "#ed7953"
            ],
            [
             0.7777777777777778,
             "#fb9f3a"
            ],
            [
             0.8888888888888888,
             "#fdca26"
            ],
            [
             1,
             "#f0f921"
            ]
           ],
           "sequentialminus": [
            [
             0,
             "#0d0887"
            ],
            [
             0.1111111111111111,
             "#46039f"
            ],
            [
             0.2222222222222222,
             "#7201a8"
            ],
            [
             0.3333333333333333,
             "#9c179e"
            ],
            [
             0.4444444444444444,
             "#bd3786"
            ],
            [
             0.5555555555555556,
             "#d8576b"
            ],
            [
             0.6666666666666666,
             "#ed7953"
            ],
            [
             0.7777777777777778,
             "#fb9f3a"
            ],
            [
             0.8888888888888888,
             "#fdca26"
            ],
            [
             1,
             "#f0f921"
            ]
           ]
          },
          "colorway": [
           "#636efa",
           "#EF553B",
           "#00cc96",
           "#ab63fa",
           "#FFA15A",
           "#19d3f3",
           "#FF6692",
           "#B6E880",
           "#FF97FF",
           "#FECB52"
          ],
          "font": {
           "color": "#2a3f5f"
          },
          "geo": {
           "bgcolor": "white",
           "lakecolor": "white",
           "landcolor": "#E5ECF6",
           "showlakes": true,
           "showland": true,
           "subunitcolor": "white"
          },
          "hoverlabel": {
           "align": "left"
          },
          "hovermode": "closest",
          "mapbox": {
           "style": "light"
          },
          "paper_bgcolor": "white",
          "plot_bgcolor": "#E5ECF6",
          "polar": {
           "angularaxis": {
            "gridcolor": "white",
            "linecolor": "white",
            "ticks": ""
           },
           "bgcolor": "#E5ECF6",
           "radialaxis": {
            "gridcolor": "white",
            "linecolor": "white",
            "ticks": ""
           }
          },
          "scene": {
           "xaxis": {
            "backgroundcolor": "#E5ECF6",
            "gridcolor": "white",
            "gridwidth": 2,
            "linecolor": "white",
            "showbackground": true,
            "ticks": "",
            "zerolinecolor": "white"
           },
           "yaxis": {
            "backgroundcolor": "#E5ECF6",
            "gridcolor": "white",
            "gridwidth": 2,
            "linecolor": "white",
            "showbackground": true,
            "ticks": "",
            "zerolinecolor": "white"
           },
           "zaxis": {
            "backgroundcolor": "#E5ECF6",
            "gridcolor": "white",
            "gridwidth": 2,
            "linecolor": "white",
            "showbackground": true,
            "ticks": "",
            "zerolinecolor": "white"
           }
          },
          "shapedefaults": {
           "line": {
            "color": "#2a3f5f"
           }
          },
          "ternary": {
           "aaxis": {
            "gridcolor": "white",
            "linecolor": "white",
            "ticks": ""
           },
           "baxis": {
            "gridcolor": "white",
            "linecolor": "white",
            "ticks": ""
           },
           "bgcolor": "#E5ECF6",
           "caxis": {
            "gridcolor": "white",
            "linecolor": "white",
            "ticks": ""
           }
          },
          "title": {
           "x": 0.05
          },
          "xaxis": {
           "automargin": true,
           "gridcolor": "white",
           "linecolor": "white",
           "ticks": "",
           "title": {
            "standoff": 15
           },
           "zerolinecolor": "white",
           "zerolinewidth": 2
          },
          "yaxis": {
           "automargin": true,
           "gridcolor": "white",
           "linecolor": "white",
           "ticks": "",
           "title": {
            "standoff": 15
           },
           "zerolinecolor": "white",
           "zerolinewidth": 2
          }
         }
        },
        "title": {},
        "xaxis": {
         "anchor": "y",
         "categoryarray": [
          "AND",
          "ARG",
          "ARM",
          "AUS",
          "BGD",
          "BRA",
          "COL",
          "ECU",
          "ETH",
          "GTM",
          "IDN",
          "IND",
          "IRQ",
          "JOR",
          "JPN",
          "KAZ",
          "KEN",
          "KOR",
          "LBN",
          "LBY",
          "MAR",
          "MDV",
          "MEX",
          "MMR",
          "MNG",
          "NGA",
          "NIC",
          "PAK",
          "PER",
          "PHL",
          "ROU",
          "SGP",
          "SVK",
          "THA",
          "TJK",
          "TUN",
          "TUR",
          "UKR",
          "URY",
          "VNM"
         ],
         "categoryorder": "array",
         "domain": [
          0,
          1
         ],
         "tickangle": 45,
         "tickfont": {
          "family": "Times New Roman Bold, Times New Roman",
          "size": 12
         },
         "title": {}
        },
        "yaxis": {
         "anchor": "x",
         "domain": [
          0,
          1
         ],
         "tickfont": {
          "family": "Times New Roman Bold, Times New Roman",
          "size": 12
         },
         "title": {}
        }
       }
      }
     },
     "metadata": {},
     "output_type": "display_data"
    }
   ],
   "source": [
    "import pandas as pd\n",
    "import plotly.express as px\n",
    "\n",
    "# Load predictions from the requested path\n",
    "df = pd.read_csv(\"../q69_pipeline/predictions/q69_predictions_filtered.csv\")\n",
    "\n",
    "# Filter to Q69 labels\n",
    "q69_labels = ['Q69_1', 'Q69_2', 'Q69_3', 'Q69_4']\n",
    "df_q69 = df[df['predicted_combined_label'].isin(q69_labels)]\n",
    "\n",
    "# Aggregate counts by country and label\n",
    "agg = (\n",
    "    df_q69.groupby(['B_COUNTRY_ALPHA', 'predicted_combined_label'])\n",
    "           .size()\n",
    "           .reset_index(name='sentence_count')\n",
    ")\n",
    "\n",
    "# Total Q69 sentences per country for proportional scaling\n",
    "total_counts = agg.groupby('B_COUNTRY_ALPHA')['sentence_count'].sum().reset_index(name='total_q69_count')\n",
    "agg = agg.merge(total_counts, on='B_COUNTRY_ALPHA')\n",
    "agg['proportion'] = agg['sentence_count'] / agg['total_q69_count']\n",
    "\n",
    "# Subset to Q69_1\n",
    "agg_q69_1 = agg[agg['predicted_combined_label'] == 'Q69_1'].copy()\n",
    "\n",
    "# Order countries alphabetically for stable categorical axis rendering\n",
    "ordered_countries = sorted(agg_q69_1['B_COUNTRY_ALPHA'].unique())\n",
    "agg_q69_1['B_COUNTRY_ALPHA'] = pd.Categorical(\n",
    "    agg_q69_1['B_COUNTRY_ALPHA'],\n",
    "    categories=ordered_countries,\n",
    "    ordered=True\n",
    ")\n",
    "\n",
    "# Scatter plot; legend removed; no plot title; no y-axis title; 45° x-tick labels\n",
    "fig = px.scatter(\n",
    "    agg_q69_1,\n",
    "    x='B_COUNTRY_ALPHA',\n",
    "    y='proportion',\n",
    "    size='sentence_count',\n",
    "    color='B_COUNTRY_ALPHA',  # retained for visual distinction; legend is hidden below\n",
    "    hover_name='B_COUNTRY_ALPHA',\n",
    "    labels={'B_COUNTRY_ALPHA': 'Country', 'proportion': '', 'sentence_count': 'Sentence Count'},\n",
    "    size_max=40,\n",
    "    height=600\n",
    ")\n",
    "\n",
    "# Global typography set to Times New Roman Bold (falls back to Times New Roman if Bold variant unavailable)\n",
    "bold_times = \"Times New Roman Bold, Times New Roman\"\n",
    "\n",
    "fig.update_layout(\n",
    "    xaxis={'categoryorder': 'array', 'categoryarray': ordered_countries},\n",
    "    xaxis_tickangle=45,      # 45° tilted country names\n",
    "    yaxis_title=None,        # no y-axis title\n",
    "    showlegend=False,        # remove legend\n",
    "    title=None,              # no plot title\n",
    "    font=dict(family=bold_times, size=14),  # global font\n",
    "    hoverlabel=dict(font_family=bold_times, font_size=12),\n",
    "    margin=dict(l=40, r=40, t=20, b=40)\n",
    ")\n",
    "\n",
    "# Ensure axis tick labels also use the bold Times family explicitly\n",
    "fig.update_xaxes(tickfont=dict(family=bold_times, size=12), title=None)\n",
    "fig.update_yaxes(tickfont=dict(family=bold_times, size=12), title=None)\n",
    "\n",
    "fig.show()"
   ]
  },
  {
   "cell_type": "code",
   "execution_count": 1,
   "id": "65a4151b",
   "metadata": {},
   "outputs": [
    {
     "data": {
      "application/vnd.plotly.v1+json": {
       "config": {
        "plotlyServerURL": "https://plot.ly"
       },
       "data": [
        {
         "hovertemplate": "Response: 1 - Economic Growth<br>Country: %{y}<br>Share: %{x:.2%}<extra></extra>",
         "marker": {
          "line": {
           "width": 0
          }
         },
         "orientation": "h",
         "showlegend": false,
         "text": [
          "53.3%",
          "50.6%",
          "45.2%",
          "45.0%",
          "44.7%",
          "44.4%",
          "41.4%",
          "39.3%",
          "38.5%",
          "38.2%",
          "37.7%",
          "37.0%",
          "36.4%",
          "32.4%",
          "31.6%"
         ],
         "textfont": {
          "family": "Times New Roman Bold, Times New Roman, Times, serif",
          "size": 12
         },
         "textposition": "outside",
         "type": "bar",
         "x": {
          "bdata": "ERERERER4T/n1x5yWTHgP+ecc84559w/zczMzMzM3D8bymsor6HcPxzHcRzHcdw/YbmnEZZ72j9JkiRJkiTZP9mJndiJndg/eHh4eHh42D+0eZ/ikiHYP0J7Ce0ltNc/RhdddNFF1z+1tLS0tLTUP15DeQ3lNdQ/",
          "dtype": "f8"
         },
         "xaxis": "x",
         "y": [
          "LBN",
          "CHN",
          "ETH",
          "ZWE",
          "IDN",
          "JOR",
          "SRB",
          "EGY",
          "COL",
          "MDV",
          "SGP",
          "MEX",
          "THA",
          "BGD",
          "NGA"
         ],
         "yaxis": "y"
        },
        {
         "hovertemplate": "Response: 2 - Strong Defence Forces<br>Country: %{y}<br>Share: %{x:.2%}<extra></extra>",
         "marker": {
          "line": {
           "width": 0
          }
         },
         "orientation": "h",
         "showlegend": false,
         "text": [
          "78.6%",
          "76.7%",
          "71.1%",
          "69.6%",
          "69.6%",
          "65.5%",
          "65.0%",
          "63.6%",
          "62.8%",
          "61.1%",
          "60.0%",
          "60.0%",
          "59.1%",
          "56.5%",
          "54.8%"
         ],
         "textfont": {
          "family": "Times New Roman Bold, Times New Roman, Times, serif",
          "size": 12
         },
         "textposition": "outside",
         "type": "bar",
         "x": {
          "bdata": "SZIkSZIk6T/EiBEjRozoP8prKK+hvOY/ZCELWchC5j9kIQtZyELmP8JyTyMs9+Q/zczMzMzM5D9ddNFFF13kPwZ9QV/QF+Q/5DiO4ziO4z8zMzMzMzPjPzMzMzMzM+M/6aKLLrro4j8hC1nIQhbiP4wxxhhjjOE/",
          "dtype": "f8"
         },
         "xaxis": "x2",
         "y": [
          "IRN",
          "USA",
          "DEU",
          "LBY",
          "UKR",
          "GRC",
          "ARM",
          "CZE",
          "TJK",
          "PAK",
          "CYP",
          "NIC",
          "RUS",
          "IRQ",
          "VEN"
         ],
         "yaxis": "y2"
        },
        {
         "hovertemplate": "Response: 3 - Participation in Governance<br>Country: %{y}<br>Share: %{x:.2%}<extra></extra>",
         "marker": {
          "line": {
           "width": 0
          }
         },
         "orientation": "h",
         "showlegend": false,
         "text": [
          "47.8%",
          "47.2%",
          "42.1%",
          "38.7%",
          "38.1%",
          "37.0%",
          "37.0%",
          "34.6%",
          "32.1%",
          "32.1%",
          "32.1%",
          "31.6%",
          "30.0%",
          "29.2%",
          "28.6%"
         ],
         "textfont": {
          "family": "Times New Roman Bold, Times New Roman, Times, serif",
          "size": 12
         },
         "textposition": "outside",
         "type": "bar",
         "x": {
          "bdata": "6k1vetOb3j+O4ziO4zjePyivobyG8to/xhhjjDHG2D8YhmEYhmHYP0J7Ce0ltNc/etOb3vSm1z92Yid2YifWPyVJkiRJktQ/TTDeyj6H1D9NMN7KPofUP15DeQ3lNdQ/MzMzMzMz0z+rqqqqqqrSP5IkSZIkSdI/",
          "dtype": "f8"
         },
         "xaxis": "x3",
         "y": [
          "MMR",
          "UZB",
          "NGA",
          "AND",
          "IND",
          "NLD",
          "KEN",
          "MAR",
          "URY",
          "CHL",
          "GBR",
          "TUN",
          "NIC",
          "TUR",
          "ARG"
         ],
         "yaxis": "y3"
        },
        {
         "hovertemplate": "Response: 4 - Environment<br>Country: %{y}<br>Share: %{x:.2%}<extra></extra>",
         "marker": {
          "line": {
           "width": 0
          }
         },
         "orientation": "h",
         "showlegend": false,
         "text": [
          "39.6%",
          "37.5%",
          "33.3%",
          "33.3%",
          "33.3%",
          "32.5%",
          "32.3%",
          "29.4%",
          "29.0%",
          "28.6%",
          "28.0%",
          "26.1%",
          "21.7%",
          "19.2%",
          "19.0%"
         ],
         "textfont": {
          "family": "Times New Roman Bold, Times New Roman, Times, serif",
          "size": 12
         },
         "textposition": "outside",
         "type": "bar",
         "x": {
          "bdata": "fg6pCcZb2T8AAAAAAADYP1VVVVVVVdU/VVVVVVVV1T9VVVVVVVXVP83MzMzMzNQ/pZRSSiml1D/T0tLS0tLSP5VSSimllNI/kiRJkiRJ0j/sUbgehevRPwtZyEIWstA/velNb3rTyz/ZiZ3YiZ3IPxiGYRiGYcg/",
          "dtype": "f8"
         },
         "xaxis": "x4",
         "y": [
          "CHL",
          "MNG",
          "ROU",
          "NZL",
          "ARG",
          "BOL",
          "SVK",
          "MDV",
          "AND",
          "URY",
          "ECU",
          "BRA",
          "KEN",
          "COL",
          "IND"
         ],
         "yaxis": "y4"
        }
       ],
       "layout": {
        "annotations": [
         {
          "font": {
           "family": "Times New Roman Bold, Times New Roman, Times, serif",
           "size": 13
          },
          "showarrow": false,
          "text": "<b>1 - Economic Growth</b>",
          "x": 0.23,
          "xanchor": "center",
          "xref": "paper",
          "y": 1,
          "yanchor": "bottom",
          "yref": "paper"
         },
         {
          "font": {
           "family": "Times New Roman Bold, Times New Roman, Times, serif",
           "size": 13
          },
          "showarrow": false,
          "text": "<b>2 - Strong Defence Forces</b>",
          "x": 0.77,
          "xanchor": "center",
          "xref": "paper",
          "y": 1,
          "yanchor": "bottom",
          "yref": "paper"
         },
         {
          "font": {
           "family": "Times New Roman Bold, Times New Roman, Times, serif",
           "size": 13
          },
          "showarrow": false,
          "text": "<b>3 - Participation in Governance</b>",
          "x": 0.23,
          "xanchor": "center",
          "xref": "paper",
          "y": 0.47,
          "yanchor": "bottom",
          "yref": "paper"
         },
         {
          "font": {
           "family": "Times New Roman Bold, Times New Roman, Times, serif",
           "size": 13
          },
          "showarrow": false,
          "text": "<b>4 - Environment</b>",
          "x": 0.77,
          "xanchor": "center",
          "xref": "paper",
          "y": 0.47,
          "yanchor": "bottom",
          "yref": "paper"
         }
        ],
        "bargap": 0.25,
        "font": {
         "family": "Times New Roman Bold, Times New Roman, Times, serif",
         "size": 14
        },
        "height": 950,
        "hoverlabel": {
         "font": {
          "family": "Times New Roman Bold, Times New Roman, Times, serif",
          "size": 12
         }
        },
        "margin": {
         "b": 20,
         "l": 20,
         "r": 20,
         "t": 28
        },
        "showlegend": false,
        "template": {
         "data": {
          "bar": [
           {
            "error_x": {
             "color": "#2a3f5f"
            },
            "error_y": {
             "color": "#2a3f5f"
            },
            "marker": {
             "line": {
              "color": "#E5ECF6",
              "width": 0.5
             },
             "pattern": {
              "fillmode": "overlay",
              "size": 10,
              "solidity": 0.2
             }
            },
            "type": "bar"
           }
          ],
          "barpolar": [
           {
            "marker": {
             "line": {
              "color": "#E5ECF6",
              "width": 0.5
             },
             "pattern": {
              "fillmode": "overlay",
              "size": 10,
              "solidity": 0.2
             }
            },
            "type": "barpolar"
           }
          ],
          "carpet": [
           {
            "aaxis": {
             "endlinecolor": "#2a3f5f",
             "gridcolor": "white",
             "linecolor": "white",
             "minorgridcolor": "white",
             "startlinecolor": "#2a3f5f"
            },
            "baxis": {
             "endlinecolor": "#2a3f5f",
             "gridcolor": "white",
             "linecolor": "white",
             "minorgridcolor": "white",
             "startlinecolor": "#2a3f5f"
            },
            "type": "carpet"
           }
          ],
          "choropleth": [
           {
            "colorbar": {
             "outlinewidth": 0,
             "ticks": ""
            },
            "type": "choropleth"
           }
          ],
          "contour": [
           {
            "colorbar": {
             "outlinewidth": 0,
             "ticks": ""
            },
            "colorscale": [
             [
              0,
              "#0d0887"
             ],
             [
              0.1111111111111111,
              "#46039f"
             ],
             [
              0.2222222222222222,
              "#7201a8"
             ],
             [
              0.3333333333333333,
              "#9c179e"
             ],
             [
              0.4444444444444444,
              "#bd3786"
             ],
             [
              0.5555555555555556,
              "#d8576b"
             ],
             [
              0.6666666666666666,
              "#ed7953"
             ],
             [
              0.7777777777777778,
              "#fb9f3a"
             ],
             [
              0.8888888888888888,
              "#fdca26"
             ],
             [
              1,
              "#f0f921"
             ]
            ],
            "type": "contour"
           }
          ],
          "contourcarpet": [
           {
            "colorbar": {
             "outlinewidth": 0,
             "ticks": ""
            },
            "type": "contourcarpet"
           }
          ],
          "heatmap": [
           {
            "colorbar": {
             "outlinewidth": 0,
             "ticks": ""
            },
            "colorscale": [
             [
              0,
              "#0d0887"
             ],
             [
              0.1111111111111111,
              "#46039f"
             ],
             [
              0.2222222222222222,
              "#7201a8"
             ],
             [
              0.3333333333333333,
              "#9c179e"
             ],
             [
              0.4444444444444444,
              "#bd3786"
             ],
             [
              0.5555555555555556,
              "#d8576b"
             ],
             [
              0.6666666666666666,
              "#ed7953"
             ],
             [
              0.7777777777777778,
              "#fb9f3a"
             ],
             [
              0.8888888888888888,
              "#fdca26"
             ],
             [
              1,
              "#f0f921"
             ]
            ],
            "type": "heatmap"
           }
          ],
          "histogram": [
           {
            "marker": {
             "pattern": {
              "fillmode": "overlay",
              "size": 10,
              "solidity": 0.2
             }
            },
            "type": "histogram"
           }
          ],
          "histogram2d": [
           {
            "colorbar": {
             "outlinewidth": 0,
             "ticks": ""
            },
            "colorscale": [
             [
              0,
              "#0d0887"
             ],
             [
              0.1111111111111111,
              "#46039f"
             ],
             [
              0.2222222222222222,
              "#7201a8"
             ],
             [
              0.3333333333333333,
              "#9c179e"
             ],
             [
              0.4444444444444444,
              "#bd3786"
             ],
             [
              0.5555555555555556,
              "#d8576b"
             ],
             [
              0.6666666666666666,
              "#ed7953"
             ],
             [
              0.7777777777777778,
              "#fb9f3a"
             ],
             [
              0.8888888888888888,
              "#fdca26"
             ],
             [
              1,
              "#f0f921"
             ]
            ],
            "type": "histogram2d"
           }
          ],
          "histogram2dcontour": [
           {
            "colorbar": {
             "outlinewidth": 0,
             "ticks": ""
            },
            "colorscale": [
             [
              0,
              "#0d0887"
             ],
             [
              0.1111111111111111,
              "#46039f"
             ],
             [
              0.2222222222222222,
              "#7201a8"
             ],
             [
              0.3333333333333333,
              "#9c179e"
             ],
             [
              0.4444444444444444,
              "#bd3786"
             ],
             [
              0.5555555555555556,
              "#d8576b"
             ],
             [
              0.6666666666666666,
              "#ed7953"
             ],
             [
              0.7777777777777778,
              "#fb9f3a"
             ],
             [
              0.8888888888888888,
              "#fdca26"
             ],
             [
              1,
              "#f0f921"
             ]
            ],
            "type": "histogram2dcontour"
           }
          ],
          "mesh3d": [
           {
            "colorbar": {
             "outlinewidth": 0,
             "ticks": ""
            },
            "type": "mesh3d"
           }
          ],
          "parcoords": [
           {
            "line": {
             "colorbar": {
              "outlinewidth": 0,
              "ticks": ""
             }
            },
            "type": "parcoords"
           }
          ],
          "pie": [
           {
            "automargin": true,
            "type": "pie"
           }
          ],
          "scatter": [
           {
            "fillpattern": {
             "fillmode": "overlay",
             "size": 10,
             "solidity": 0.2
            },
            "type": "scatter"
           }
          ],
          "scatter3d": [
           {
            "line": {
             "colorbar": {
              "outlinewidth": 0,
              "ticks": ""
             }
            },
            "marker": {
             "colorbar": {
              "outlinewidth": 0,
              "ticks": ""
             }
            },
            "type": "scatter3d"
           }
          ],
          "scattercarpet": [
           {
            "marker": {
             "colorbar": {
              "outlinewidth": 0,
              "ticks": ""
             }
            },
            "type": "scattercarpet"
           }
          ],
          "scattergeo": [
           {
            "marker": {
             "colorbar": {
              "outlinewidth": 0,
              "ticks": ""
             }
            },
            "type": "scattergeo"
           }
          ],
          "scattergl": [
           {
            "marker": {
             "colorbar": {
              "outlinewidth": 0,
              "ticks": ""
             }
            },
            "type": "scattergl"
           }
          ],
          "scattermap": [
           {
            "marker": {
             "colorbar": {
              "outlinewidth": 0,
              "ticks": ""
             }
            },
            "type": "scattermap"
           }
          ],
          "scattermapbox": [
           {
            "marker": {
             "colorbar": {
              "outlinewidth": 0,
              "ticks": ""
             }
            },
            "type": "scattermapbox"
           }
          ],
          "scatterpolar": [
           {
            "marker": {
             "colorbar": {
              "outlinewidth": 0,
              "ticks": ""
             }
            },
            "type": "scatterpolar"
           }
          ],
          "scatterpolargl": [
           {
            "marker": {
             "colorbar": {
              "outlinewidth": 0,
              "ticks": ""
             }
            },
            "type": "scatterpolargl"
           }
          ],
          "scatterternary": [
           {
            "marker": {
             "colorbar": {
              "outlinewidth": 0,
              "ticks": ""
             }
            },
            "type": "scatterternary"
           }
          ],
          "surface": [
           {
            "colorbar": {
             "outlinewidth": 0,
             "ticks": ""
            },
            "colorscale": [
             [
              0,
              "#0d0887"
             ],
             [
              0.1111111111111111,
              "#46039f"
             ],
             [
              0.2222222222222222,
              "#7201a8"
             ],
             [
              0.3333333333333333,
              "#9c179e"
             ],
             [
              0.4444444444444444,
              "#bd3786"
             ],
             [
              0.5555555555555556,
              "#d8576b"
             ],
             [
              0.6666666666666666,
              "#ed7953"
             ],
             [
              0.7777777777777778,
              "#fb9f3a"
             ],
             [
              0.8888888888888888,
              "#fdca26"
             ],
             [
              1,
              "#f0f921"
             ]
            ],
            "type": "surface"
           }
          ],
          "table": [
           {
            "cells": {
             "fill": {
              "color": "#EBF0F8"
             },
             "line": {
              "color": "white"
             }
            },
            "header": {
             "fill": {
              "color": "#C8D4E3"
             },
             "line": {
              "color": "white"
             }
            },
            "type": "table"
           }
          ]
         },
         "layout": {
          "annotationdefaults": {
           "arrowcolor": "#2a3f5f",
           "arrowhead": 0,
           "arrowwidth": 1
          },
          "autotypenumbers": "strict",
          "coloraxis": {
           "colorbar": {
            "outlinewidth": 0,
            "ticks": ""
           }
          },
          "colorscale": {
           "diverging": [
            [
             0,
             "#8e0152"
            ],
            [
             0.1,
             "#c51b7d"
            ],
            [
             0.2,
             "#de77ae"
            ],
            [
             0.3,
             "#f1b6da"
            ],
            [
             0.4,
             "#fde0ef"
            ],
            [
             0.5,
             "#f7f7f7"
            ],
            [
             0.6,
             "#e6f5d0"
            ],
            [
             0.7,
             "#b8e186"
            ],
            [
             0.8,
             "#7fbc41"
            ],
            [
             0.9,
             "#4d9221"
            ],
            [
             1,
             "#276419"
            ]
           ],
           "sequential": [
            [
             0,
             "#0d0887"
            ],
            [
             0.1111111111111111,
             "#46039f"
            ],
            [
             0.2222222222222222,
             "#7201a8"
            ],
            [
             0.3333333333333333,
             "#9c179e"
            ],
            [
             0.4444444444444444,
             "#bd3786"
            ],
            [
             0.5555555555555556,
             "#d8576b"
            ],
            [
             0.6666666666666666,
             "#ed7953"
            ],
            [
             0.7777777777777778,
             "#fb9f3a"
            ],
            [
             0.8888888888888888,
             "#fdca26"
            ],
            [
             1,
             "#f0f921"
            ]
           ],
           "sequentialminus": [
            [
             0,
             "#0d0887"
            ],
            [
             0.1111111111111111,
             "#46039f"
            ],
            [
             0.2222222222222222,
             "#7201a8"
            ],
            [
             0.3333333333333333,
             "#9c179e"
            ],
            [
             0.4444444444444444,
             "#bd3786"
            ],
            [
             0.5555555555555556,
             "#d8576b"
            ],
            [
             0.6666666666666666,
             "#ed7953"
            ],
            [
             0.7777777777777778,
             "#fb9f3a"
            ],
            [
             0.8888888888888888,
             "#fdca26"
            ],
            [
             1,
             "#f0f921"
            ]
           ]
          },
          "colorway": [
           "#636efa",
           "#EF553B",
           "#00cc96",
           "#ab63fa",
           "#FFA15A",
           "#19d3f3",
           "#FF6692",
           "#B6E880",
           "#FF97FF",
           "#FECB52"
          ],
          "font": {
           "color": "#2a3f5f"
          },
          "geo": {
           "bgcolor": "white",
           "lakecolor": "white",
           "landcolor": "#E5ECF6",
           "showlakes": true,
           "showland": true,
           "subunitcolor": "white"
          },
          "hoverlabel": {
           "align": "left"
          },
          "hovermode": "closest",
          "mapbox": {
           "style": "light"
          },
          "paper_bgcolor": "white",
          "plot_bgcolor": "#E5ECF6",
          "polar": {
           "angularaxis": {
            "gridcolor": "white",
            "linecolor": "white",
            "ticks": ""
           },
           "bgcolor": "#E5ECF6",
           "radialaxis": {
            "gridcolor": "white",
            "linecolor": "white",
            "ticks": ""
           }
          },
          "scene": {
           "xaxis": {
            "backgroundcolor": "#E5ECF6",
            "gridcolor": "white",
            "gridwidth": 2,
            "linecolor": "white",
            "showbackground": true,
            "ticks": "",
            "zerolinecolor": "white"
           },
           "yaxis": {
            "backgroundcolor": "#E5ECF6",
            "gridcolor": "white",
            "gridwidth": 2,
            "linecolor": "white",
            "showbackground": true,
            "ticks": "",
            "zerolinecolor": "white"
           },
           "zaxis": {
            "backgroundcolor": "#E5ECF6",
            "gridcolor": "white",
            "gridwidth": 2,
            "linecolor": "white",
            "showbackground": true,
            "ticks": "",
            "zerolinecolor": "white"
           }
          },
          "shapedefaults": {
           "line": {
            "color": "#2a3f5f"
           }
          },
          "ternary": {
           "aaxis": {
            "gridcolor": "white",
            "linecolor": "white",
            "ticks": ""
           },
           "baxis": {
            "gridcolor": "white",
            "linecolor": "white",
            "ticks": ""
           },
           "bgcolor": "#E5ECF6",
           "caxis": {
            "gridcolor": "white",
            "linecolor": "white",
            "ticks": ""
           }
          },
          "title": {
           "x": 0.05
          },
          "xaxis": {
           "automargin": true,
           "gridcolor": "white",
           "linecolor": "white",
           "ticks": "",
           "title": {
            "standoff": 15
           },
           "zerolinecolor": "white",
           "zerolinewidth": 2
          },
          "yaxis": {
           "automargin": true,
           "gridcolor": "white",
           "linecolor": "white",
           "ticks": "",
           "title": {
            "standoff": 15
           },
           "zerolinecolor": "white",
           "zerolinewidth": 2
          }
         }
        },
        "title": {},
        "xaxis": {
         "anchor": "y",
         "domain": [
          0,
          0.46
         ],
         "matches": "x3",
         "range": [
          0,
          1
         ],
         "showticklabels": false,
         "tickfont": {
          "family": "Times New Roman Bold, Times New Roman, Times, serif",
          "size": 12
         },
         "tickformat": ".0%",
         "title": {}
        },
        "xaxis2": {
         "anchor": "y2",
         "domain": [
          0.54,
          1
         ],
         "matches": "x4",
         "range": [
          0,
          1
         ],
         "showticklabels": false,
         "tickfont": {
          "family": "Times New Roman Bold, Times New Roman, Times, serif",
          "size": 12
         },
         "tickformat": ".0%",
         "title": {}
        },
        "xaxis3": {
         "anchor": "y3",
         "domain": [
          0,
          0.46
         ],
         "range": [
          0,
          1
         ],
         "tickfont": {
          "family": "Times New Roman Bold, Times New Roman, Times, serif",
          "size": 12
         },
         "tickformat": ".0%",
         "title": {}
        },
        "xaxis4": {
         "anchor": "y4",
         "domain": [
          0.54,
          1
         ],
         "range": [
          0,
          1
         ],
         "tickfont": {
          "family": "Times New Roman Bold, Times New Roman, Times, serif",
          "size": 12
         },
         "tickformat": ".0%",
         "title": {}
        },
        "yaxis": {
         "anchor": "x",
         "autorange": "reversed",
         "categoryarray": [
          "LBN",
          "CHN",
          "ETH",
          "ZWE",
          "IDN",
          "JOR",
          "SRB",
          "EGY",
          "COL",
          "MDV",
          "SGP",
          "MEX",
          "THA",
          "BGD",
          "NGA"
         ],
         "categoryorder": "array",
         "domain": [
          0.53,
          1
         ],
         "tickfont": {
          "family": "Times New Roman Bold, Times New Roman, Times, serif",
          "size": 12
         },
         "title": {}
        },
        "yaxis2": {
         "anchor": "x2",
         "autorange": "reversed",
         "categoryarray": [
          "IRN",
          "USA",
          "DEU",
          "LBY",
          "UKR",
          "GRC",
          "ARM",
          "CZE",
          "TJK",
          "PAK",
          "CYP",
          "NIC",
          "RUS",
          "IRQ",
          "VEN"
         ],
         "categoryorder": "array",
         "domain": [
          0.53,
          1
         ],
         "tickfont": {
          "family": "Times New Roman Bold, Times New Roman, Times, serif",
          "size": 12
         },
         "title": {}
        },
        "yaxis3": {
         "anchor": "x3",
         "autorange": "reversed",
         "categoryarray": [
          "MMR",
          "UZB",
          "NGA",
          "AND",
          "IND",
          "NLD",
          "KEN",
          "MAR",
          "URY",
          "CHL",
          "GBR",
          "TUN",
          "NIC",
          "TUR",
          "ARG"
         ],
         "categoryorder": "array",
         "domain": [
          0,
          0.47
         ],
         "tickfont": {
          "family": "Times New Roman Bold, Times New Roman, Times, serif",
          "size": 12
         },
         "title": {}
        },
        "yaxis4": {
         "anchor": "x4",
         "autorange": "reversed",
         "categoryarray": [
          "CHL",
          "MNG",
          "ROU",
          "NZL",
          "ARG",
          "BOL",
          "SVK",
          "MDV",
          "AND",
          "URY",
          "ECU",
          "BRA",
          "KEN",
          "COL",
          "IND"
         ],
         "categoryorder": "array",
         "domain": [
          0,
          0.47
         ],
         "tickfont": {
          "family": "Times New Roman Bold, Times New Roman, Times, serif",
          "size": 12
         },
         "title": {}
        }
       }
      }
     },
     "metadata": {},
     "output_type": "display_data"
    }
   ],
   "source": [
    "import pandas as pd\n",
    "import numpy as np\n",
    "import plotly.graph_objects as go\n",
    "from plotly.subplots import make_subplots\n",
    "\n",
    "# --- Load & prep ---\n",
    "df = pd.read_csv(\"../q152_q153_pipeline/predictions/q152_predictions_filtered.csv\")\n",
    "labels = ['Q152_1','Q152_2','Q152_3','Q152_4']\n",
    "\n",
    "# Human-readable titles\n",
    "label_map = {\n",
    "    'Q152_1': '1 - Economic Growth',\n",
    "    'Q152_2': '2 - Strong Defence Forces',\n",
    "    'Q152_3': '3 - Participation in Governance',\n",
    "    'Q152_4': '4 - Environment'\n",
    "}\n",
    "subplot_titles = [label_map[x] for x in labels]\n",
    "\n",
    "d = df[df['predicted_combined_label'].isin(labels)]\n",
    "\n",
    "g = (d.groupby(['B_COUNTRY_ALPHA','predicted_combined_label'])\n",
    "       .size().reset_index(name='n'))\n",
    "tot = g.groupby('B_COUNTRY_ALPHA', as_index=False)['n'].sum().rename(columns={'n':'tot'})\n",
    "g = g.merge(tot, on='B_COUNTRY_ALPHA')\n",
    "g['prop'] = g['n'] / g['tot']\n",
    "\n",
    "# pick top-K per label by proportion\n",
    "K = 15\n",
    "tops = {lab: (g[g['predicted_combined_label']==lab]\n",
    "                .sort_values('prop', ascending=False)\n",
    "                .head(K).copy())\n",
    "        for lab in labels}\n",
    "\n",
    "# --- Figure (2x2 facets) ---\n",
    "fig = make_subplots(rows=2, cols=2, shared_xaxes=True,\n",
    "                    horizontal_spacing=0.08, vertical_spacing=0.06,\n",
    "                    subplot_titles=subplot_titles)\n",
    "\n",
    "# Use a bold-capable family; browser will fall back if the exact face is missing\n",
    "bold_times = \"Times New Roman Bold, Times New Roman, Times, serif\"\n",
    "\n",
    "pos = {0:(1,1), 1:(1,2), 2:(2,1), 3:(2,2)}\n",
    "for idx, lab in enumerate(labels):\n",
    "    r, c = pos[idx]\n",
    "    df_lab = tops[lab].sort_values('prop', ascending=False)  # highest first\n",
    "    y_order = df_lab['B_COUNTRY_ALPHA'].tolist()\n",
    "\n",
    "    fig.add_trace(\n",
    "        go.Bar(\n",
    "            x=df_lab['prop'],\n",
    "            y=df_lab['B_COUNTRY_ALPHA'],\n",
    "            orientation='h',\n",
    "            text=(df_lab['prop']*100).round(1).astype(str) + '%',\n",
    "            textposition='outside',\n",
    "            textfont=dict(family=bold_times, size=12),   # bar labels bold\n",
    "            marker_line_width=0,\n",
    "            showlegend=False,\n",
    "            hovertemplate=('Response: ' + label_map[lab] +\n",
    "                           '<br>Country: %{y}<br>Share: %{x:.2%}<extra></extra>')\n",
    "        ),\n",
    "        row=r, col=c\n",
    "    )\n",
    "\n",
    "    fig.update_yaxes(categoryorder='array', categoryarray=y_order,\n",
    "                     autorange='reversed',\n",
    "                     tickfont=dict(family=bold_times, size=12),  # y ticks bold\n",
    "                     title=None, row=r, col=c)\n",
    "    fig.update_xaxes(range=[0,1], tickformat='.0%',\n",
    "                     tickfont=dict(family=bold_times, size=12),  # x ticks bold\n",
    "                     title=None, row=r, col=c)\n",
    "\n",
    "# --- Styling: force bold everywhere possible ---\n",
    "fig.update_layout(\n",
    "    font=dict(family=bold_times, size=14),           # global font bold\n",
    "    hoverlabel=dict(font_family=bold_times, font_size=12),\n",
    "    title=None,\n",
    "    showlegend=False,\n",
    "    bargap=0.25,\n",
    "    margin=dict(l=20, r=20, t=28, b=20),\n",
    "    height=950\n",
    ")\n",
    "\n",
    "# Make facet titles bold explicitly (annotations)\n",
    "for ann in fig.layout.annotations:\n",
    "    ann.text = f\"<b>{ann.text}</b>\"                  # bold HTML for annotations\n",
    "    ann.font.family = bold_times\n",
    "    ann.font.size = 13\n",
    "\n",
    "fig.show()\n"
   ]
  },
  {
   "cell_type": "code",
   "execution_count": 20,
   "id": "8577619b",
   "metadata": {},
   "outputs": [
    {
     "name": "stdout",
     "output_type": "stream",
     "text": [
      "Starting batch over 8 questions...\n"
     ]
    },
    {
     "name": "stderr",
     "output_type": "stream",
     "text": [
      "Questions:   0%|          | 0/8 [00:00<?, ?it/s]"
     ]
    },
    {
     "name": "stdout",
     "output_type": "stream",
     "text": [
      "[Q8] level 1 → r=-0.197 (n=37)\n"
     ]
    },
    {
     "name": "stderr",
     "output_type": "stream",
     "text": [
      "Questions:  12%|█▎        | 1/8 [00:17<02:00, 17.26s/it]"
     ]
    },
    {
     "name": "stdout",
     "output_type": "stream",
     "text": [
      "[Q8] level 2 → r=0.168 (n=41)\n"
     ]
    },
    {
     "name": "stderr",
     "output_type": "stream",
     "text": []
    },
    {
     "name": "stdout",
     "output_type": "stream",
     "text": [
      "[Q11] level 1 → r=0.167 (n=24)\n"
     ]
    },
    {
     "name": "stderr",
     "output_type": "stream",
     "text": [
      "Questions:  25%|██▌       | 2/8 [00:35<01:48, 18.09s/it]"
     ]
    },
    {
     "name": "stdout",
     "output_type": "stream",
     "text": [
      "[Q11] level 2 → r=-0.009 (n=50)\n"
     ]
    },
    {
     "name": "stderr",
     "output_type": "stream",
     "text": []
    },
    {
     "name": "stdout",
     "output_type": "stream",
     "text": [
      "[Q17] level 1 → r=-0.011 (n=48)\n"
     ]
    },
    {
     "name": "stderr",
     "output_type": "stream",
     "text": [
      "Questions:  38%|███▊      | 3/8 [00:51<01:25, 17.09s/it]"
     ]
    },
    {
     "name": "stdout",
     "output_type": "stream",
     "text": [
      "[Q17] level 2 → r=0.118 (n=39)\n"
     ]
    },
    {
     "name": "stderr",
     "output_type": "stream",
     "text": []
    },
    {
     "name": "stdout",
     "output_type": "stream",
     "text": [
      "[Q152] level 1 → r=0.016 (n=61)\n"
     ]
    },
    {
     "name": "stderr",
     "output_type": "stream",
     "text": []
    },
    {
     "name": "stdout",
     "output_type": "stream",
     "text": [
      "[Q152] level 2 → r=0.148 (n=61)\n"
     ]
    },
    {
     "name": "stderr",
     "output_type": "stream",
     "text": []
    },
    {
     "name": "stdout",
     "output_type": "stream",
     "text": [
      "[Q152] level 3 → r=0.084 (n=61)\n"
     ]
    },
    {
     "name": "stderr",
     "output_type": "stream",
     "text": [
      "Questions:  50%|█████     | 4/8 [01:26<01:35, 23.84s/it]"
     ]
    },
    {
     "name": "stdout",
     "output_type": "stream",
     "text": [
      "[Q152] level 4 → r=-0.096 (n=53)\n"
     ]
    },
    {
     "name": "stderr",
     "output_type": "stream",
     "text": []
    },
    {
     "name": "stdout",
     "output_type": "stream",
     "text": [
      "[Q154] level 1 → r=0.142 (n=61)\n"
     ]
    },
    {
     "name": "stderr",
     "output_type": "stream",
     "text": []
    },
    {
     "name": "stdout",
     "output_type": "stream",
     "text": [
      "[Q154] level 2 → r=0.061 (n=61)\n"
     ]
    },
    {
     "name": "stderr",
     "output_type": "stream",
     "text": []
    },
    {
     "name": "stdout",
     "output_type": "stream",
     "text": [
      "[Q154] level 3 → r=0.038 (n=57)\n"
     ]
    },
    {
     "name": "stderr",
     "output_type": "stream",
     "text": [
      "Questions:  62%|██████▎   | 5/8 [01:58<01:21, 27.01s/it]"
     ]
    },
    {
     "name": "stdout",
     "output_type": "stream",
     "text": [
      "[Q154] level 4 → r=0.005 (n=59)\n"
     ]
    },
    {
     "name": "stderr",
     "output_type": "stream",
     "text": []
    },
    {
     "name": "stdout",
     "output_type": "stream",
     "text": [
      "[Q65] level 1 → r=-0.067 (n=46)\n"
     ]
    },
    {
     "name": "stderr",
     "output_type": "stream",
     "text": []
    },
    {
     "name": "stdout",
     "output_type": "stream",
     "text": [
      "[Q65] level 2 → r=-0.193 (n=16)\n"
     ]
    },
    {
     "name": "stderr",
     "output_type": "stream",
     "text": []
    },
    {
     "name": "stdout",
     "output_type": "stream",
     "text": [
      "[Q65] level 3 → r=-0.102 (n=56)\n"
     ]
    },
    {
     "name": "stderr",
     "output_type": "stream",
     "text": [
      "Questions:  75%|███████▌  | 6/8 [02:31<00:57, 28.90s/it]"
     ]
    },
    {
     "name": "stdout",
     "output_type": "stream",
     "text": [
      "[Q65] level 4 → r=-0.060 (n=20)\n"
     ]
    },
    {
     "name": "stderr",
     "output_type": "stream",
     "text": []
    },
    {
     "name": "stdout",
     "output_type": "stream",
     "text": [
      "[Q69] level 1 → r=0.349 (n=40)\n"
     ]
    },
    {
     "name": "stderr",
     "output_type": "stream",
     "text": []
    },
    {
     "name": "stdout",
     "output_type": "stream",
     "text": [
      "[Q69] level 2 → r=0.007 (n=45)\n"
     ]
    },
    {
     "name": "stderr",
     "output_type": "stream",
     "text": []
    },
    {
     "name": "stdout",
     "output_type": "stream",
     "text": [
      "[Q69] level 3 → r=0.079 (n=35)\n"
     ]
    },
    {
     "name": "stderr",
     "output_type": "stream",
     "text": [
      "Questions:  88%|████████▊ | 7/8 [03:15<00:33, 33.97s/it]"
     ]
    },
    {
     "name": "stdout",
     "output_type": "stream",
     "text": [
      "[Q69] level 4 → r=-0.109 (n=60)\n"
     ]
    },
    {
     "name": "stderr",
     "output_type": "stream",
     "text": []
    },
    {
     "name": "stdout",
     "output_type": "stream",
     "text": [
      "[Q70] level 1 → r=-0.078 (n=55)\n"
     ]
    },
    {
     "name": "stderr",
     "output_type": "stream",
     "text": []
    },
    {
     "name": "stdout",
     "output_type": "stream",
     "text": [
      "[Q70] level 2 → r=-0.118 (n=60)\n"
     ]
    },
    {
     "name": "stderr",
     "output_type": "stream",
     "text": []
    },
    {
     "name": "stdout",
     "output_type": "stream",
     "text": [
      "[Q70] level 3 → r=0.127 (n=49)\n"
     ]
    },
    {
     "name": "stderr",
     "output_type": "stream",
     "text": [
      "Questions: 100%|██████████| 8/8 [04:05<00:00, 30.74s/it]"
     ]
    },
    {
     "name": "stdout",
     "output_type": "stream",
     "text": [
      "[Q70] level 4 → r=0.153 (n=34)\n",
      "Done. Summary:\n",
      "Q11 | level 1 | r = 0.167 | n=24\n",
      "Q11 | level 2 | r = -0.009 | n=50\n",
      "Q152 | level 1 | r = 0.016 | n=61\n",
      "Q152 | level 2 | r = 0.148 | n=61\n",
      "Q152 | level 3 | r = 0.084 | n=61\n",
      "Q152 | level 4 | r = -0.096 | n=53\n",
      "Q154 | level 1 | r = 0.142 | n=61\n",
      "Q154 | level 2 | r = 0.061 | n=61\n",
      "Q154 | level 3 | r = 0.038 | n=57\n",
      "Q154 | level 4 | r = 0.005 | n=59\n",
      "Q17 | level 1 | r = -0.011 | n=48\n",
      "Q17 | level 2 | r = 0.118 | n=39\n",
      "Q65 | level 1 | r = -0.067 | n=46\n",
      "Q65 | level 2 | r = -0.193 | n=16\n",
      "Q65 | level 3 | r = -0.102 | n=56\n",
      "Q65 | level 4 | r = -0.060 | n=20\n",
      "Q69 | level 1 | r = 0.349 | n=40\n",
      "Q69 | level 2 | r = 0.007 | n=45\n",
      "Q69 | level 3 | r = 0.079 | n=35\n",
      "Q69 | level 4 | r = -0.109 | n=60\n",
      "Q70 | level 1 | r = -0.078 | n=55\n",
      "Q70 | level 2 | r = -0.118 | n=60\n",
      "Q70 | level 3 | r = 0.127 | n=49\n",
      "Q70 | level 4 | r = 0.153 | n=34\n",
      "Q8 | level 1 | r = -0.197 | n=37\n",
      "Q8 | level 2 | r = 0.168 | n=41\n"
     ]
    },
    {
     "name": "stderr",
     "output_type": "stream",
     "text": [
      "\n"
     ]
    }
   ],
   "source": [
    "import pandas as pd\n",
    "import numpy as np\n",
    "from tqdm import tqdm\n",
    "\n",
    "# -------------------------------\n",
    "# Configuration\n",
    "# -------------------------------\n",
    "ITEMS = {\n",
    "    \"Q8\":   {\"pred_path\": \"../q8_pipeline/predictions/q8_predictions_filtered.csv\",        \"wvs_col\": \"Q8\"},\n",
    "    \"Q11\":  {\"pred_path\": \"../q11_pipeline/predictions/q11_predictions_filtered.csv\",       \"wvs_col\": \"Q11\"},\n",
    "    \"Q17\":  {\"pred_path\": \"../q17_pipeline/predictions/q17_predictions_filtered.csv\",       \"wvs_col\": \"Q17\"},\n",
    "    \"Q152\": {\"pred_path\": \"../q152_q153_pipeline/predictions/q152_predictions_filtered.csv\",\"wvs_col\": \"Q152\"},\n",
    "    # \"Q153\": {\"pred_path\": \"../q152_q153_pipeline/predictions/q153_predictions_filtered.csv\",\"wvs_col\": \"Q153\"},\n",
    "    \"Q154\": {\"pred_path\": \"../q154_q155_pipeline/predictions/q154_predictions_filtered.csv\",\"wvs_col\": \"Q154\"},\n",
    "    # \"Q155\": {\"pred_path\": \"../q154_q155_pipeline/predictions/q155_predictions_filtered.csv\",\"wvs_col\": \"Q155\"},\n",
    "    \"Q65\":  {\"pred_path\": \"../q65_pipeline/predictions/q65_predictions_filtered.csv\",       \"wvs_col\": \"Q65\"},\n",
    "    \"Q69\":  {\"pred_path\": \"../q69_pipeline/predictions/q69_predictions_filtered.csv\",       \"wvs_col\": \"Q69\"},\n",
    "    \"Q70\":  {\"pred_path\": \"../q70_pipeline/predictions/q70_predictions_filtered.csv\",       \"wvs_col\": \"Q70\"},\n",
    "}\n",
    "WVS_PATH = r\"C:\\Users\\secki\\OneDrive\\Desktop\\MY498 Capstone Under Supervision\\WVS Wave 7 Full Package for EFA\\F00010736-WVS_Cross-National_Wave_7_rdata_v6_0\\wvs7_full_data.csv\"\n",
    "\n",
    "# -------------------------------\n",
    "# Helpers\n",
    "# -------------------------------\n",
    "def load_predictions(qid: str) -> pd.DataFrame:\n",
    "    \"\"\"Loads predictions and performs basic column validation.\"\"\"\n",
    "    df = pd.read_csv(ITEMS[qid][\"pred_path\"])\n",
    "    if \"predicted_combined_label\" not in df.columns or \"B_COUNTRY_ALPHA\" not in df.columns:\n",
    "        raise ValueError(f\"Prediction file for {qid} missing required columns.\")\n",
    "    return df\n",
    "\n",
    "def extract_levels_from_predictions(df_pred: pd.DataFrame, qid: str) -> list[int]:\n",
    "    \"\"\"Extracts unique integer response levels from predicted labels for the item.\"\"\"\n",
    "    pref = f\"{qid}_\"\n",
    "    levels = (\n",
    "        df_pred[\"predicted_combined_label\"].astype(str)\n",
    "        .pipe(lambda s: s[s.str.startswith(pref)])\n",
    "        .str.split(\"_\").str[-1].str.extract(r\"(\\d+)\")[0]\n",
    "        .dropna().astype(int).unique()\n",
    "    )\n",
    "    return sorted(levels)\n",
    "\n",
    "# --- Sentences side ---\n",
    "def model_country_level_props(df_pred: pd.DataFrame, qid: str) -> pd.DataFrame:\n",
    "    \"\"\"Computes per-country proportion of predicted sentences at each level (unweighted; all years pooled).\"\"\"\n",
    "    pref = f\"{qid}_\"\n",
    "    cur = df_pred[df_pred[\"predicted_combined_label\"].str.startswith(pref)].copy()\n",
    "    cur[\"level\"] = cur[\"predicted_combined_label\"].str.split(\"_\").str[-1].astype(int)\n",
    "    counts = cur.groupby([\"B_COUNTRY_ALPHA\", \"level\"]).size().rename(\"model_count\").reset_index()\n",
    "    totals = counts.groupby(\"B_COUNTRY_ALPHA\")[\"model_count\"].sum().rename(\"model_total\").reset_index()\n",
    "    out = counts.merge(totals, on=\"B_COUNTRY_ALPHA\", how=\"left\")\n",
    "    out[\"model_prop\"] = out[\"model_count\"] / out[\"model_total\"]\n",
    "    return out[[\"B_COUNTRY_ALPHA\", \"level\", \"model_prop\"]]\n",
    "\n",
    "# --- WVS side ---\n",
    "def wvs_country_level_weighted_counts(qid: str) -> pd.DataFrame:\n",
    "    \"\"\"Computes per-country weighted counts: (proportion at level) × (constant country weight S018).\"\"\"\n",
    "    wcol = ITEMS[qid][\"wvs_col\"]\n",
    "    wvs = pd.read_csv(WVS_PATH, low_memory=False)\n",
    "    for c in [\"B_COUNTRY_ALPHA\", wcol, \"S018\"]:\n",
    "        if c not in wvs.columns:\n",
    "            raise ValueError(f\"WVS missing required column: {c}\")\n",
    "    wvs[wcol] = pd.to_numeric(wvs[wcol], errors=\"coerce\")\n",
    "    wvs[\"S018\"] = pd.to_numeric(wvs[\"S018\"], errors=\"coerce\")\n",
    "    wvs = wvs.dropna(subset=[wcol, \"S018\"])\n",
    "\n",
    "    level_counts = (\n",
    "        wvs.groupby([\"B_COUNTRY_ALPHA\", wcol]).size().rename(\"resp_count\").reset_index()\n",
    "        .rename(columns={wcol: \"level\"})\n",
    "    )\n",
    "    country_totals = (\n",
    "        wvs.groupby(\"B_COUNTRY_ALPHA\").agg(\n",
    "            total_resp=(\"B_COUNTRY_ALPHA\", \"size\"),\n",
    "            country_weight=(\"S018\", \"first\")   # constant per country per your rule\n",
    "        ).reset_index()\n",
    "    )\n",
    "    merged = level_counts.merge(country_totals, on=\"B_COUNTRY_ALPHA\", how=\"left\")\n",
    "    merged[\"prop\"] = merged[\"resp_count\"] / merged[\"total_resp\"]\n",
    "    merged[\"wvs_weighted_count\"] = merged[\"prop\"] * merged[\"country_weight\"]\n",
    "    merged[\"level\"] = merged[\"level\"].astype(int)\n",
    "    return merged[[\"B_COUNTRY_ALPHA\", \"level\", \"wvs_weighted_count\"]]\n",
    "\n",
    "# --- Pearson r for one (qid, level) ---\n",
    "def pearson_r(qid: str, level: int) -> tuple[str, int, float, int]:\n",
    "    \"\"\"Computes Pearson correlation between model proportion and WVS weighted count for a specific level.\"\"\"\n",
    "    dfp = load_predictions(qid)\n",
    "    model_props = model_country_level_props(dfp, qid)\n",
    "    wvs_wcounts = wvs_country_level_weighted_counts(qid)\n",
    "    merged = (\n",
    "        model_props[model_props[\"level\"] == level]\n",
    "        .merge(wvs_wcounts[wvs_wcounts[\"level\"] == level],\n",
    "               on=[\"B_COUNTRY_ALPHA\", \"level\"], how=\"inner\")\n",
    "    )\n",
    "    n = len(merged)\n",
    "    r = merged[\"model_prop\"].corr(merged[\"wvs_weighted_count\"]) if n >= 2 else np.nan\n",
    "    return qid, level, r, n\n",
    "\n",
    "# --- Iterate over all questions/levels with tqdm and intermediate prints ---\n",
    "def run_all_correlations(verbose_every: int = 1) -> pd.DataFrame:\n",
    "    \"\"\"Runs correlations for all items and levels with progress bars and periodic prints.\"\"\"\n",
    "    records = []\n",
    "    print(f\"Starting batch over {len(ITEMS)} questions...\")\n",
    "    for qid in tqdm(list(ITEMS.keys()), desc=\"Questions\", leave=True):\n",
    "        dfp = load_predictions(qid)\n",
    "        levels = extract_levels_from_predictions(dfp, qid)\n",
    "        if verbose_every and len(levels) == 0:\n",
    "            print(f\"[{qid}] No levels found in predictions.\")\n",
    "        for i, lvl in enumerate(tqdm(levels, desc=f\"Levels for {qid}\", leave=False)):\n",
    "            q, l, r, n = pearson_r(qid, lvl)\n",
    "            records.append({\"question\": q, \"level\": l, \"pearson_r\": r, \"n_countries\": n})\n",
    "            if verbose_every and (i % verbose_every == 0):\n",
    "                rtxt = f\"{r:.3f}\" if pd.notna(r) else \"NA\"\n",
    "                print(f\"[{qid}] level {l} → r={rtxt} (n={n})\")\n",
    "    res = pd.DataFrame(records).sort_values([\"question\", \"level\"]).reset_index(drop=True)\n",
    "    print(\"Done. Summary:\")\n",
    "    for _, row in res.iterrows():\n",
    "        rtxt = f\"{row['pearson_r']:.3f}\" if pd.notna(row['pearson_r']) else \"NA\"\n",
    "        print(f\"{row['question']} | level {int(row['level'])} | r = {rtxt} | n={row['n_countries']}\")\n",
    "    return res\n",
    "\n",
    "# Example:\n",
    "results_df = run_all_correlations(verbose_every=1)\n",
    "\n"
   ]
  },
  {
   "cell_type": "code",
   "execution_count": 24,
   "id": "6a8cb599",
   "metadata": {},
   "outputs": [
    {
     "data": {
      "application/vnd.plotly.v1+json": {
       "config": {
        "plotlyServerURL": "https://plot.ly"
       },
       "data": [
        {
         "hoverinfo": "skip",
         "line": {
          "color": "lightgray",
          "width": 2
         },
         "mode": "lines",
         "showlegend": false,
         "type": "scatter",
         "x": [
          "AND",
          "AND"
         ],
         "y": [
          0.02281709731075697,
          0.12903225806451613
         ]
        },
        {
         "hoverinfo": "skip",
         "line": {
          "color": "lightgray",
          "width": 2
         },
         "mode": "lines",
         "showlegend": false,
         "type": "scatter",
         "x": [
          "ARG",
          "ARG"
         ],
         "y": [
          0.13916376869391825,
          0.14285714285714285
         ]
        },
        {
         "hoverinfo": "skip",
         "line": {
          "color": "lightgray",
          "width": 2
         },
         "mode": "lines",
         "showlegend": false,
         "type": "scatter",
         "x": [
          "ARM",
          "ARM"
         ],
         "y": [
          0.4713420748160262,
          0.65
         ]
        },
        {
         "hoverinfo": "skip",
         "line": {
          "color": "lightgray",
          "width": 2
         },
         "mode": "lines",
         "showlegend": false,
         "type": "scatter",
         "x": [
          "AUS",
          "AUS"
         ],
         "y": [
          0.0979625945945946,
          0.5098039215686274
         ]
        },
        {
         "hoverinfo": "skip",
         "line": {
          "color": "lightgray",
          "width": 2
         },
         "mode": "lines",
         "showlegend": false,
         "type": "scatter",
         "x": [
          "BGD",
          "BGD"
         ],
         "y": [
          0.20347221408333335,
          0.35294117647058826
         ]
        },
        {
         "hoverinfo": "skip",
         "line": {
          "color": "lightgray",
          "width": 2
         },
         "mode": "lines",
         "showlegend": false,
         "type": "scatter",
         "x": [
          "BOL",
          "BOL"
         ],
         "y": [
          0.08636651190130624,
          0.175
         ]
        },
        {
         "hoverinfo": "skip",
         "line": {
          "color": "lightgray",
          "width": 2
         },
         "mode": "lines",
         "showlegend": false,
         "type": "scatter",
         "x": [
          "BRA",
          "BRA"
         ],
         "y": [
          0.07504886362088536,
          0.30434782608695654
         ]
        },
        {
         "hoverinfo": "skip",
         "line": {
          "color": "lightgray",
          "width": 2
         },
         "mode": "lines",
         "showlegend": false,
         "type": "scatter",
         "x": [
          "CAN",
          "CAN"
         ],
         "y": [
          0.02384738675958188,
          0.44680851063829785
         ]
        },
        {
         "hoverinfo": "skip",
         "line": {
          "color": "lightgray",
          "width": 2
         },
         "mode": "lines",
         "showlegend": false,
         "type": "scatter",
         "x": [
          "CHL",
          "CHL"
         ],
         "y": [
          0.193,
          0.1320754716981132
         ]
        },
        {
         "hoverinfo": "skip",
         "line": {
          "color": "lightgray",
          "width": 2
         },
         "mode": "lines",
         "showlegend": false,
         "type": "scatter",
         "x": [
          "CHN",
          "CHN"
         ],
         "y": [
          0.12498243794466402,
          0.24096385542168675
         ]
        },
        {
         "hoverinfo": "skip",
         "line": {
          "color": "lightgray",
          "width": 2
         },
         "mode": "lines",
         "showlegend": false,
         "type": "scatter",
         "x": [
          "COL",
          "COL"
         ],
         "y": [
          0.047177975197368424,
          0.3076923076923077
         ]
        },
        {
         "hoverinfo": "skip",
         "line": {
          "color": "lightgray",
          "width": 2
         },
         "mode": "lines",
         "showlegend": false,
         "type": "scatter",
         "x": [
          "CYP",
          "CYP"
         ],
         "y": [
          0.241,
          0.6
         ]
        },
        {
         "hoverinfo": "skip",
         "line": {
          "color": "lightgray",
          "width": 2
         },
         "mode": "lines",
         "showlegend": false,
         "type": "scatter",
         "x": [
          "CZE",
          "CZE"
         ],
         "y": [
          0.23263887958333335,
          0.6363636363636364
         ]
        },
        {
         "hoverinfo": "skip",
         "line": {
          "color": "lightgray",
          "width": 2
         },
         "mode": "lines",
         "showlegend": false,
         "type": "scatter",
         "x": [
          "DEU",
          "DEU"
         ],
         "y": [
          0.06553069103403142,
          0.7105263157894737
         ]
        },
        {
         "hoverinfo": "skip",
         "line": {
          "color": "lightgray",
          "width": 2
         },
         "mode": "lines",
         "showlegend": false,
         "type": "scatter",
         "x": [
          "ECU",
          "ECU"
         ],
         "y": [
          0.07083333050000001,
          0.24
         ]
        },
        {
         "hoverinfo": "skip",
         "line": {
          "color": "lightgray",
          "width": 2
         },
         "mode": "lines",
         "showlegend": false,
         "type": "scatter",
         "x": [
          "EGY",
          "EGY"
         ],
         "y": [
          0.23472221283333336,
          0.39285714285714285
         ]
        },
        {
         "hoverinfo": "skip",
         "line": {
          "color": "lightgray",
          "width": 2
         },
         "mode": "lines",
         "showlegend": false,
         "type": "scatter",
         "x": [
          "ETH",
          "ETH"
         ],
         "y": [
          0.18309206804878048,
          0.3548387096774194
         ]
        },
        {
         "hoverinfo": "skip",
         "line": {
          "color": "lightgray",
          "width": 2
         },
         "mode": "lines",
         "showlegend": false,
         "type": "scatter",
         "x": [
          "GBR",
          "GBR"
         ],
         "y": [
          0.06464046914526639,
          0.37735849056603776
         ]
        },
        {
         "hoverinfo": "skip",
         "line": {
          "color": "lightgray",
          "width": 2
         },
         "mode": "lines",
         "showlegend": false,
         "type": "scatter",
         "x": [
          "GRC",
          "GRC"
         ],
         "y": [
          0.09374999625000001,
          0.6551724137931034
         ]
        },
        {
         "hoverinfo": "skip",
         "line": {
          "color": "lightgray",
          "width": 2
         },
         "mode": "lines",
         "showlegend": false,
         "type": "scatter",
         "x": [
          "GTM",
          "GTM"
         ],
         "y": [
          0.028468508624898293,
          0.52
         ]
        },
        {
         "hoverinfo": "skip",
         "line": {
          "color": "lightgray",
          "width": 2
         },
         "mode": "lines",
         "showlegend": false,
         "type": "scatter",
         "x": [
          "IDN",
          "IDN"
         ],
         "y": [
          0.02626953125,
          0.2894736842105263
         ]
        },
        {
         "hoverinfo": "skip",
         "line": {
          "color": "lightgray",
          "width": 2
         },
         "mode": "lines",
         "showlegend": false,
         "type": "scatter",
         "x": [
          "IND",
          "IND"
         ],
         "y": [
          0.1589317420212766,
          0.14285714285714285
         ]
        },
        {
         "hoverinfo": "skip",
         "line": {
          "color": "lightgray",
          "width": 2
         },
         "mode": "lines",
         "showlegend": false,
         "type": "scatter",
         "x": [
          "IRN",
          "IRN"
         ],
         "y": [
          0.23631497891927952,
          0.7857142857142857
         ]
        },
        {
         "hoverinfo": "skip",
         "line": {
          "color": "lightgray",
          "width": 2
         },
         "mode": "lines",
         "showlegend": false,
         "type": "scatter",
         "x": [
          "IRQ",
          "IRQ"
         ],
         "y": [
          0.3486110971666667,
          0.5652173913043478
         ]
        },
        {
         "hoverinfo": "skip",
         "line": {
          "color": "lightgray",
          "width": 2
         },
         "mode": "lines",
         "showlegend": false,
         "type": "scatter",
         "x": [
          "JOR",
          "JOR"
         ],
         "y": [
          0.3869517140482128,
          0.2777777777777778
         ]
        },
        {
         "hoverinfo": "skip",
         "line": {
          "color": "lightgray",
          "width": 2
         },
         "mode": "lines",
         "showlegend": false,
         "type": "scatter",
         "x": [
          "JPN",
          "JPN"
         ],
         "y": [
          0.10816072682926828,
          0.5483870967741935
         ]
        },
        {
         "hoverinfo": "skip",
         "line": {
          "color": "lightgray",
          "width": 2
         },
         "mode": "lines",
         "showlegend": false,
         "type": "scatter",
         "x": [
          "KAZ",
          "KAZ"
         ],
         "y": [
          0.19883986645768026,
          0.4339622641509434
         ]
        },
        {
         "hoverinfo": "skip",
         "line": {
          "color": "lightgray",
          "width": 2
         },
         "mode": "lines",
         "showlegend": false,
         "type": "scatter",
         "x": [
          "KEN",
          "KEN"
         ],
         "y": [
          0.15722916966824643,
          0.17391304347826086
         ]
        },
        {
         "hoverinfo": "skip",
         "line": {
          "color": "lightgray",
          "width": 2
         },
         "mode": "lines",
         "showlegend": false,
         "type": "scatter",
         "x": [
          "KGZ",
          "KGZ"
         ],
         "y": [
          0.13611110566666668,
          0.5135135135135135
         ]
        },
        {
         "hoverinfo": "skip",
         "line": {
          "color": "lightgray",
          "width": 2
         },
         "mode": "lines",
         "showlegend": false,
         "type": "scatter",
         "x": [
          "KOR",
          "KOR"
         ],
         "y": [
          0.30838214152610444,
          0.43333333333333335
         ]
        },
        {
         "hoverinfo": "skip",
         "line": {
          "color": "lightgray",
          "width": 2
         },
         "mode": "lines",
         "showlegend": false,
         "type": "scatter",
         "x": [
          "LBN",
          "LBN"
         ],
         "y": [
          0.21736110241666665,
          0.2
         ]
        },
        {
         "hoverinfo": "skip",
         "line": {
          "color": "lightgray",
          "width": 2
         },
         "mode": "lines",
         "showlegend": false,
         "type": "scatter",
         "x": [
          "LBY",
          "LBY"
         ],
         "y": [
          0.31179740668896316,
          0.6956521739130435
         ]
        },
        {
         "hoverinfo": "skip",
         "line": {
          "color": "lightgray",
          "width": 2
         },
         "mode": "lines",
         "showlegend": false,
         "type": "scatter",
         "x": [
          "MAR",
          "MAR"
         ],
         "y": [
          0.2791666555,
          0.46153846153846156
         ]
        },
        {
         "hoverinfo": "skip",
         "line": {
          "color": "lightgray",
          "width": 2
         },
         "mode": "lines",
         "showlegend": false,
         "type": "scatter",
         "x": [
          "MDV",
          "MDV"
         ],
         "y": [
          0.28345905043310876,
          0.14705882352941177
         ]
        },
        {
         "hoverinfo": "skip",
         "line": {
          "color": "lightgray",
          "width": 2
         },
         "mode": "lines",
         "showlegend": false,
         "type": "scatter",
         "x": [
          "MEX",
          "MEX"
         ],
         "y": [
          0.07983949741527857,
          0.4444444444444444
         ]
        },
        {
         "hoverinfo": "skip",
         "line": {
          "color": "lightgray",
          "width": 2
         },
         "mode": "lines",
         "showlegend": false,
         "type": "scatter",
         "x": [
          "MMR",
          "MMR"
         ],
         "y": [
          0.241666657,
          0.34782608695652173
         ]
        },
        {
         "hoverinfo": "skip",
         "line": {
          "color": "lightgray",
          "width": 2
         },
         "mode": "lines",
         "showlegend": false,
         "type": "scatter",
         "x": [
          "MNG",
          "MNG"
         ],
         "y": [
          0.1755468758241758,
          0.25
         ]
        },
        {
         "hoverinfo": "skip",
         "line": {
          "color": "lightgray",
          "width": 2
         },
         "mode": "lines",
         "showlegend": false,
         "type": "scatter",
         "x": [
          "MYS",
          "MYS"
         ],
         "y": [
          0.17285693130236102,
          0.4
         ]
        },
        {
         "hoverinfo": "skip",
         "line": {
          "color": "lightgray",
          "width": 2
         },
         "mode": "lines",
         "showlegend": false,
         "type": "scatter",
         "x": [
          "NGA",
          "NGA"
         ],
         "y": [
          0.19605676637025063,
          0.15789473684210525
         ]
        },
        {
         "hoverinfo": "skip",
         "line": {
          "color": "lightgray",
          "width": 2
         },
         "mode": "lines",
         "showlegend": false,
         "type": "scatter",
         "x": [
          "NIC",
          "NIC"
         ],
         "y": [
          0.03680555408333334,
          0.6
         ]
        },
        {
         "hoverinfo": "skip",
         "line": {
          "color": "lightgray",
          "width": 2
         },
         "mode": "lines",
         "showlegend": false,
         "type": "scatter",
         "x": [
          "NLD",
          "NLD"
         ],
         "y": [
          0.045424664102564107,
          0.48148148148148145
         ]
        },
        {
         "hoverinfo": "skip",
         "line": {
          "color": "lightgray",
          "width": 2
         },
         "mode": "lines",
         "showlegend": false,
         "type": "scatter",
         "x": [
          "NZL",
          "NZL"
         ],
         "y": [
          0.017006056953642382,
          0.4583333333333333
         ]
        },
        {
         "hoverinfo": "skip",
         "line": {
          "color": "lightgray",
          "width": 2
         },
         "mode": "lines",
         "showlegend": false,
         "type": "scatter",
         "x": [
          "PAK",
          "PAK"
         ],
         "y": [
          0.15137844611528822,
          0.6111111111111112
         ]
        },
        {
         "hoverinfo": "skip",
         "line": {
          "color": "lightgray",
          "width": 2
         },
         "mode": "lines",
         "showlegend": false,
         "type": "scatter",
         "x": [
          "PER",
          "PER"
         ],
         "y": [
          0.085714284,
          0.4074074074074074
         ]
        },
        {
         "hoverinfo": "skip",
         "line": {
          "color": "lightgray",
          "width": 2
         },
         "mode": "lines",
         "showlegend": false,
         "type": "scatter",
         "x": [
          "PHL",
          "PHL"
         ],
         "y": [
          0.19097221458333333,
          0.38095238095238093
         ]
        },
        {
         "hoverinfo": "skip",
         "line": {
          "color": "lightgray",
          "width": 2
         },
         "mode": "lines",
         "showlegend": false,
         "type": "scatter",
         "x": [
          "ROU",
          "ROU"
         ],
         "y": [
          0.16645052402545743,
          0.48717948717948717
         ]
        },
        {
         "hoverinfo": "skip",
         "line": {
          "color": "lightgray",
          "width": 2
         },
         "mode": "lines",
         "showlegend": false,
         "type": "scatter",
         "x": [
          "RUS",
          "RUS"
         ],
         "y": [
          0.17734501779005526,
          0.5909090909090909
         ]
        },
        {
         "hoverinfo": "skip",
         "line": {
          "color": "lightgray",
          "width": 2
         },
         "mode": "lines",
         "showlegend": false,
         "type": "scatter",
         "x": [
          "SGP",
          "SGP"
         ],
         "y": [
          0.14327553777335986,
          0.22950819672131148
         ]
        },
        {
         "hoverinfo": "skip",
         "line": {
          "color": "lightgray",
          "width": 2
         },
         "mode": "lines",
         "showlegend": false,
         "type": "scatter",
         "x": [
          "SRB",
          "SRB"
         ],
         "y": [
          0.10860293862332697,
          0.5172413793103449
         ]
        },
        {
         "hoverinfo": "skip",
         "line": {
          "color": "lightgray",
          "width": 2
         },
         "mode": "lines",
         "showlegend": false,
         "type": "scatter",
         "x": [
          "SVK",
          "SVK"
         ],
         "y": [
          0.11388888433333333,
          0.3225806451612903
         ]
        },
        {
         "hoverinfo": "skip",
         "line": {
          "color": "lightgray",
          "width": 2
         },
         "mode": "lines",
         "showlegend": false,
         "type": "scatter",
         "x": [
          "THA",
          "THA"
         ],
         "y": [
          0.12355556173333332,
          0.24242424242424243
         ]
        },
        {
         "hoverinfo": "skip",
         "line": {
          "color": "lightgray",
          "width": 2
         },
         "mode": "lines",
         "showlegend": false,
         "type": "scatter",
         "x": [
          "TJK",
          "TJK"
         ],
         "y": [
          0.21597221358333335,
          0.627906976744186
         ]
        },
        {
         "hoverinfo": "skip",
         "line": {
          "color": "lightgray",
          "width": 2
         },
         "mode": "lines",
         "showlegend": false,
         "type": "scatter",
         "x": [
          "TUN",
          "TUN"
         ],
         "y": [
          0.2789077336092715,
          0.42105263157894735
         ]
        },
        {
         "hoverinfo": "skip",
         "line": {
          "color": "lightgray",
          "width": 2
         },
         "mode": "lines",
         "showlegend": false,
         "type": "scatter",
         "x": [
          "TUR",
          "TUR"
         ],
         "y": [
          0.15945887826086957,
          0.4583333333333333
         ]
        },
        {
         "hoverinfo": "skip",
         "line": {
          "color": "lightgray",
          "width": 2
         },
         "mode": "lines",
         "showlegend": false,
         "type": "scatter",
         "x": [
          "UKR",
          "UKR"
         ],
         "y": [
          0.1733351571761055,
          0.6956521739130435
         ]
        },
        {
         "hoverinfo": "skip",
         "line": {
          "color": "lightgray",
          "width": 2
         },
         "mode": "lines",
         "showlegend": false,
         "type": "scatter",
         "x": [
          "URY",
          "URY"
         ],
         "y": [
          0.043,
          0.2857142857142857
         ]
        },
        {
         "hoverinfo": "skip",
         "line": {
          "color": "lightgray",
          "width": 2
         },
         "mode": "lines",
         "showlegend": false,
         "type": "scatter",
         "x": [
          "USA",
          "USA"
         ],
         "y": [
          0.13295314637904468,
          0.7671232876712328
         ]
        },
        {
         "hoverinfo": "skip",
         "line": {
          "color": "lightgray",
          "width": 2
         },
         "mode": "lines",
         "showlegend": false,
         "type": "scatter",
         "x": [
          "UZB",
          "UZB"
         ],
         "y": [
          0.10304,
          0.2777777777777778
         ]
        },
        {
         "hoverinfo": "skip",
         "line": {
          "color": "lightgray",
          "width": 2
         },
         "mode": "lines",
         "showlegend": false,
         "type": "scatter",
         "x": [
          "VEN",
          "VEN"
         ],
         "y": [
          0.1341713100840336,
          0.5483870967741935
         ]
        },
        {
         "hoverinfo": "skip",
         "line": {
          "color": "lightgray",
          "width": 2
         },
         "mode": "lines",
         "showlegend": false,
         "type": "scatter",
         "x": [
          "VNM",
          "VNM"
         ],
         "y": [
          0.2027777696666667,
          0.3958333333333333
         ]
        },
        {
         "hoverinfo": "skip",
         "line": {
          "color": "lightgray",
          "width": 2
         },
         "mode": "lines",
         "showlegend": false,
         "type": "scatter",
         "x": [
          "ZWE",
          "ZWE"
         ],
         "y": [
          0.15444800691358027,
          0.175
         ]
        },
        {
         "hovertemplate": "Country: %{x}<br>WVS weighted proportion: %{y:.3f}<extra></extra>",
         "marker": {
          "size": 8
         },
         "mode": "markers",
         "name": "WVS (weighted proportion)",
         "showlegend": true,
         "type": "scatter",
         "x": [
          "AND",
          "ARG",
          "ARM",
          "AUS",
          "BGD",
          "BOL",
          "BRA",
          "CAN",
          "CHL",
          "CHN",
          "COL",
          "CYP",
          "CZE",
          "DEU",
          "ECU",
          "EGY",
          "ETH",
          "GBR",
          "GRC",
          "GTM",
          "IDN",
          "IND",
          "IRN",
          "IRQ",
          "JOR",
          "JPN",
          "KAZ",
          "KEN",
          "KGZ",
          "KOR",
          "LBN",
          "LBY",
          "MAR",
          "MDV",
          "MEX",
          "MMR",
          "MNG",
          "MYS",
          "NGA",
          "NIC",
          "NLD",
          "NZL",
          "PAK",
          "PER",
          "PHL",
          "ROU",
          "RUS",
          "SGP",
          "SRB",
          "SVK",
          "THA",
          "TJK",
          "TUN",
          "TUR",
          "UKR",
          "URY",
          "USA",
          "UZB",
          "VEN",
          "VNM",
          "ZWE"
         ],
         "y": {
          "bdata": "XBj1el1dlz/hC6pNHtDBP1ASJPN3Kt4/89wDnBMUuT/v+ZCkYAvKP8XwFaAdHLY/6Ina/mY2sz9E7egIc2uYP05iEFg5tMg/UPOLW9n+vz9e3iAptieoPwwCK4cW2c4/7lPLXRzHzT8wHeCOnsawP7TZ9hUiIrI/E8jhoWALzj8qmDaWj2/HP7wd+hxHjLA/19Tk7///tz9tEQpG2SadP2ZmZmZm5po/aYsjFeBXxD+vsQG5kT/OP/CfVuukT9Y/SPc9H9HD2D/qe3Hga7C7P8DSybGVc8k/uebZ3hUgxD9S+bq1FmzBP56aIXOIvNM/4aomFX3Syz+2Oi0cffTTP49l4NHd3dE//WLXbTEk0j8E5FN+XHC0P4ygLNru7s4/JzdK7VF4xj/ET2oJLSDGP2kg3FtjGMk/Fboydi3Yoj81LYHN5kGnP1GazCkJapE/BjaxcV5gwz+OfpQOX/G1PxNBCgzHccg/D7OLMkBOxT9XJ8LVPbPGP5fVhlLaVsI/w/2i9WbNuz+Y75Zp0ie9PwQy4lhWob8/yrIXPfqkyz/jAp3Sn9nRP8z4lwUmacQ/GcGor9gvxj9qvHSTGASmPwWVzNObBME//wkuVtRguj/Iqm+GhizBP+N9iTif9Mk/nydQyfPEwz8=",
          "dtype": "f8"
         }
        },
        {
         "hovertemplate": "Country: %{x}<br>Model proportion: %{y:.3f}<extra></extra>",
         "marker": {
          "size": 8
         },
         "mode": "markers",
         "name": "Model (proportion)  |  Pearson r = 0.148",
         "showlegend": true,
         "type": "scatter",
         "x": [
          "AND",
          "ARG",
          "ARM",
          "AUS",
          "BGD",
          "BOL",
          "BRA",
          "CAN",
          "CHL",
          "CHN",
          "COL",
          "CYP",
          "CZE",
          "DEU",
          "ECU",
          "EGY",
          "ETH",
          "GBR",
          "GRC",
          "GTM",
          "IDN",
          "IND",
          "IRN",
          "IRQ",
          "JOR",
          "JPN",
          "KAZ",
          "KEN",
          "KGZ",
          "KOR",
          "LBN",
          "LBY",
          "MAR",
          "MDV",
          "MEX",
          "MMR",
          "MNG",
          "MYS",
          "NGA",
          "NIC",
          "NLD",
          "NZL",
          "PAK",
          "PER",
          "PHL",
          "ROU",
          "RUS",
          "SGP",
          "SRB",
          "SVK",
          "THA",
          "TJK",
          "TUN",
          "TUR",
          "UKR",
          "URY",
          "USA",
          "UZB",
          "VEN",
          "VNM",
          "ZWE"
         ],
         "y": {
          "bdata": "hBBCCCGEwD+SJEmSJEnCP83MzMzMzOQ/UFBQUFBQ4D+XlpaWlpbWP2ZmZmZmZsY/OL3pTW960z9yBTG5gpjcP6kJxlvZ58A/lPBGU+fXzj8UO7ETO7HTPzMzMzMzM+M/XXTRRRdd5D/KayivobzmP7gehetRuM4/SZIkSZIk2T+21lprrbXWP/JW9jmkJtg/wnJPIyz35D+kcD0K16PgP2wor6G8htI/kiRJkiRJwj9JkiRJkiTpPyELWchCFuI/chzHcRzH0T+MMcYYY4zhP5Z9DqkJxts/ZCELWchCxj/rBlPks27gP7y7u7u7u9s/mpmZmZmZyT9kIQtZyELmP57YiZ3Yid0/09LS0tLSwj8cx3Ecx3HcP2QhC1nIQtY/AAAAAAAA0D+amZmZmZnZP15DeQ3lNcQ/MzMzMzMz4z8J7SW0l9DeP1VVVVVVVd0/5DiO4ziO4z8vob2E9hLaPxiGYRiGYdg/3/It3/It3z/poosuuujiP+d9ikuGYM0/3dMIyz2N4D+llFJKKaXUPwgffPDBB88/Bn1BX9AX5D8or6G8hvLaP1VVVVVVVd0/ZCELWchC5j+SJEmSJEnSP8SIESNGjOg/chzHcRzH0T+MMcYYY4zhP1VVVVVVVdk/ZmZmZmZmxj8=",
          "dtype": "f8"
         }
        }
       ],
       "layout": {
        "font": {
         "family": "Times New Roman Bold, Times New Roman, Times, serif",
         "size": 14
        },
        "hoverlabel": {
         "font": {
          "family": "Times New Roman Bold, Times New Roman, Times, serif",
          "size": 12
         }
        },
        "hovermode": "x unified",
        "legend": {
         "font": {
          "family": "Times New Roman Bold, Times New Roman, Times, serif",
          "size": 12
         },
         "orientation": "h",
         "x": 0.5,
         "xanchor": "center",
         "y": -0.1,
         "yanchor": "top"
        },
        "margin": {
         "b": 70,
         "l": 40,
         "r": 20,
         "t": 80
        },
        "showlegend": true,
        "template": {},
        "xaxis": {
         "tickangle": 45,
         "tickfont": {
          "family": "Times New Roman Bold, Times New Roman, Times, serif",
          "size": 12
         },
         "title": {}
        },
        "yaxis": {
         "range": [
          -0.021429354484389786,
          0.8241496971523179
         ],
         "tickfont": {
          "family": "Times New Roman Bold, Times New Roman, Times, serif",
          "size": 12
         },
         "title": {}
        }
       }
      }
     },
     "metadata": {},
     "output_type": "display_data"
    }
   ],
   "source": [
    "import pandas as pd\n",
    "import numpy as np\n",
    "import plotly.graph_objects as go\n",
    "\n",
    "# -------------------------------\n",
    "# Configuration mapping per item\n",
    "# -------------------------------\n",
    "ITEMS = {\n",
    "    \"Q8\":   {\"pred_path\": \"../q8_pipeline/predictions/q8_predictions_filtered.csv\",        \"wvs_col\": \"Q8\"},\n",
    "    \"Q11\":  {\"pred_path\": \"../q11_pipeline/predictions/q11_predictions_filtered.csv\",       \"wvs_col\": \"Q11\"},\n",
    "    \"Q17\":  {\"pred_path\": \"../q17_pipeline/predictions/q17_predictions_filtered.csv\",       \"wvs_col\": \"Q17\"},\n",
    "    \"Q152\": {\"pred_path\": \"../q152_q153_pipeline/predictions/q152_predictions_filtered.csv\",\"wvs_col\": \"Q152\"},\n",
    "    \"Q153\": {\"pred_path\": \"../q152_q153_pipeline/predictions/q153_predictions_filtered.csv\",\"wvs_col\": \"Q153\"},\n",
    "    \"Q154\": {\"pred_path\": \"../q154_q155_pipeline/predictions/q154_predictions_filtered.csv\",\"wvs_col\": \"Q154\"},\n",
    "    \"Q155\": {\"pred_path\": \"../q154_q155_pipeline/predictions/q155_predictions_filtered.csv\",\"wvs_col\": \"Q155\"},\n",
    "    \"Q65\":  {\"pred_path\": \"../q65_pipeline/predictions/q65_predictions_filtered.csv\",       \"wvs_col\": \"Q65\"},\n",
    "    \"Q69\":  {\"pred_path\": \"../q69_pipeline/predictions/q69_predictions_filtered.csv\",       \"wvs_col\": \"Q69\"},\n",
    "    \"Q70\":  {\"pred_path\": \"../q70_pipeline/predictions/q70_predictions_filtered.csv\",       \"wvs_col\": \"Q70\"},\n",
    "}\n",
    "\n",
    "# Path to WVS Wave 7 file\n",
    "WVS_PATH = r\"C:\\Users\\secki\\OneDrive\\Desktop\\MY498 Capstone Under Supervision\\WVS Wave 7 Full Package for EFA\\F00010736-WVS_Cross-National_Wave_7_rdata_v6_0\\wvs7_full_data.csv\"\n",
    "\n",
    "# -------------------------------\n",
    "# Helpers (country-level, all-years)\n",
    "# -------------------------------\n",
    "def load_predictions(qid: str) -> pd.DataFrame:\n",
    "    \"\"\"Loads predictions for the question and returns the raw DataFrame.\"\"\"\n",
    "    df = pd.read_csv(ITEMS[qid][\"pred_path\"])\n",
    "    if \"predicted_combined_label\" not in df.columns or \"B_COUNTRY_ALPHA\" not in df.columns:\n",
    "        raise ValueError(f\"Prediction file for {qid} missing required columns.\")\n",
    "    return df\n",
    "\n",
    "def aggregate_model_country(df_pred: pd.DataFrame, qid: str, level: int) -> pd.DataFrame:\n",
    "    \"\"\"Computes per-country proportion of predicted sentences at the target response; sums over years.\"\"\"\n",
    "    prefix = f\"{qid}_\"\n",
    "    target = f\"{qid}_{level}\"\n",
    "    cur = df_pred[df_pred[\"predicted_combined_label\"].str.startswith(prefix)].copy()\n",
    "    cur[\"level\"] = cur[\"predicted_combined_label\"].str.split(\"_\").str[-1].astype(int)\n",
    "\n",
    "    # Country × level counts\n",
    "    counts = cur.groupby([\"B_COUNTRY_ALPHA\", \"level\"]).size().rename(\"model_count\").reset_index()\n",
    "    totals = counts.groupby(\"B_COUNTRY_ALPHA\")[\"model_count\"].sum().rename(\"model_total\").reset_index()\n",
    "    merged = counts.merge(totals, on=\"B_COUNTRY_ALPHA\", how=\"left\")\n",
    "    merged[\"model_prop\"] = merged[\"model_count\"] / merged[\"model_total\"]\n",
    "\n",
    "    # Keep only target level\n",
    "    out = merged[merged[\"level\"] == level][[\"B_COUNTRY_ALPHA\", \"model_prop\"]].copy()\n",
    "    return out\n",
    "\n",
    "def aggregate_wvs_country(qid: str, level: int) -> pd.DataFrame:\n",
    "    \"\"\"\n",
    "    Computes per-country weighted count for the target level:\n",
    "    (country-level proportion at target level) × (constant country weight S018).\n",
    "    All quantities are summed over years before proportioning; S018 is taken once per country.\n",
    "    \"\"\"\n",
    "    wcol = ITEMS[qid][\"wvs_col\"]\n",
    "    wvs = pd.read_csv(WVS_PATH, low_memory=False)\n",
    "\n",
    "    req = [\"B_COUNTRY_ALPHA\", wcol, \"S018\"]\n",
    "    for c in req:\n",
    "        if c not in wvs.columns:\n",
    "            raise ValueError(f\"WVS missing required column: {c}\")\n",
    "\n",
    "    wvs[wcol] = pd.to_numeric(wvs[wcol], errors=\"coerce\")\n",
    "    wvs[\"S018\"] = pd.to_numeric(wvs[\"S018\"], errors=\"coerce\")\n",
    "    wvs = wvs.dropna(subset=[wcol, \"S018\"])\n",
    "\n",
    "    # Country × level respondent counts (all years pooled)\n",
    "    level_counts = (\n",
    "        wvs.groupby([\"B_COUNTRY_ALPHA\", wcol])\n",
    "           .size().rename(\"resp_count\").reset_index()\n",
    "           .rename(columns={wcol: \"level\"})\n",
    "    )\n",
    "    # Country totals (respondent count) and constant country weight S018\n",
    "    country_totals = (\n",
    "        wvs.groupby(\"B_COUNTRY_ALPHA\")\n",
    "           .agg(total_resp=(\"B_COUNTRY_ALPHA\", \"size\"),\n",
    "                country_weight=(\"S018\", \"first\"))  # constant per country in WVS7 (per your spec)\n",
    "           .reset_index()\n",
    "    )\n",
    "\n",
    "    merged = level_counts.merge(country_totals, on=\"B_COUNTRY_ALPHA\", how=\"left\")\n",
    "    merged[\"prop_level\"] = merged[\"resp_count\"] / merged[\"total_resp\"]\n",
    "    merged[\"wvs_weighted_proportion\"] = merged[\"prop_level\"] * merged[\"country_weight\"]\n",
    "    merged[\"level\"] = merged[\"level\"].astype(int)\n",
    "\n",
    "    # Keep only target level\n",
    "    out = merged[merged[\"level\"] == level][[\"B_COUNTRY_ALPHA\", \"wvs_weighted_proportion\"]].copy()\n",
    "    return out\n",
    "\n",
    "# -------------------------------\n",
    "# Plot + correlation\n",
    "# -------------------------------\n",
    "def plot_dumbbell(qid: str, level: int, *, header_placeholder: bool = True):\n",
    "    \"\"\"\n",
    "    Builds dumbbell plot comparing:\n",
    "    - WVS weighted count (proportion × constant country weight)\n",
    "    - Model proportion (unweighted)\n",
    "    Returns (fig, merged_df, pearson_r).\n",
    "    \"\"\"\n",
    "    df_pred = load_predictions(qid)\n",
    "    model_country = aggregate_model_country(df_pred, qid, level)\n",
    "    wvs_country   = aggregate_wvs_country(qid, level)\n",
    "\n",
    "    merged = pd.merge(model_country, wvs_country, on=\"B_COUNTRY_ALPHA\", how=\"inner\").dropna()\n",
    "    merged = merged.sort_values(\"B_COUNTRY_ALPHA\").reset_index(drop=True)\n",
    "\n",
    "    r = merged[\"model_prop\"].corr(merged[\"wvs_weighted_proportion\"])\n",
    "\n",
    "    # Build figure\n",
    "    fig = go.Figure()\n",
    "    for _, row in merged.iterrows():\n",
    "        fig.add_trace(go.Scatter(\n",
    "            x=[row[\"B_COUNTRY_ALPHA\"], row[\"B_COUNTRY_ALPHA\"]],\n",
    "            y=[row[\"wvs_weighted_proportion\"], row[\"model_prop\"]],\n",
    "            mode=\"lines\",\n",
    "            line=dict(color=\"lightgray\", width=2),\n",
    "            hoverinfo=\"skip\",\n",
    "            showlegend=False\n",
    "        ))\n",
    "    fig.add_trace(go.Scatter(\n",
    "        x=merged[\"B_COUNTRY_ALPHA\"], y=merged[\"wvs_weighted_proportion\"],\n",
    "        mode=\"markers\", marker=dict(size=8),\n",
    "        name=\"WVS (weighted proportion)\",\n",
    "        hovertemplate=\"Country: %{x}<br>WVS weighted proportion: %{y:.3f}<extra></extra>\",\n",
    "        showlegend=True\n",
    "    ))\n",
    "    fig.add_trace(go.Scatter(\n",
    "        x=merged[\"B_COUNTRY_ALPHA\"], y=merged[\"model_prop\"],\n",
    "        mode=\"markers\", marker=dict(size=8),\n",
    "        name=f\"Model (proportion)  |  Pearson r = {r:.3f}\",\n",
    "        hovertemplate=\"Country: %{x}<br>Model proportion: %{y:.3f}<extra></extra>\",\n",
    "        showlegend=True\n",
    "    ))\n",
    "\n",
    "    bold_times = \"Times New Roman Bold, Times New Roman, Times, serif\"\n",
    "\n",
    "    # Dynamic y-range to fit both scales\n",
    "    ymax = float(np.nanmax(merged[[\"wvs_weighted_proportion\", \"model_prop\"]].to_numpy()))\n",
    "    ymin = float(np.nanmin(merged[[\"wvs_weighted_proportion\", \"model_prop\"]].to_numpy()))\n",
    "    pad  = (ymax - ymin) * 0.05 if np.isfinite(ymax - ymin) else 0.05\n",
    "    y0, y1 = (ymin - pad, ymax + pad) if np.isfinite(ymax) else (0, 1)\n",
    "\n",
    "\n",
    "    fig.update_layout(\n",
    "        template=None,\n",
    "        xaxis_title=None,\n",
    "        yaxis_title=None,\n",
    "        hovermode=\"x unified\",\n",
    "        margin=dict(l=40, r=20, t=80 if header_placeholder else 40, b=70),\n",
    "        showlegend=True,\n",
    "        legend=dict(orientation=\"h\", x=0.5, xanchor=\"center\", y=-0.1, yanchor=\"top\",\n",
    "                    font=dict(family=bold_times, size=12)),\n",
    "        font=dict(family=bold_times, size=14),\n",
    "        hoverlabel=dict(font_family=bold_times, font_size=12)\n",
    "    )\n",
    "    fig.update_xaxes(tickangle=45, tickfont=dict(family=bold_times, size=12))\n",
    "    fig.update_yaxes(range=[y0, y1], tickfont=dict(family=bold_times, size=12))\n",
    "    return fig, merged, r\n",
    "\n",
    "# -------------------------------\n",
    "# Usage example\n",
    "# -------------------------------\n",
    "fig, data, r = plot_dumbbell(\"Q152\", 2, header_placeholder=True)\n",
    "fig.show()\n"
   ]
  },
  {
   "cell_type": "code",
   "execution_count": 53,
   "id": "fde4c10b",
   "metadata": {},
   "outputs": [
    {
     "name": "stdout",
     "output_type": "stream",
     "text": [
      "Unique values in 'speaker_post': ['Cabinet Secretary for Foreign Affairs and International Trade'\n",
      " 'Prime Minister' 'President ' 'Chair of the Delegation' 'President'\n",
      " 'Union Minister for the Office of the State Counsellor'\n",
      " 'Minister for Foreign Affairs' 'Vice-President'\n",
      " 'Minister of Foreign Affairs ' 'Head of Government'\n",
      " 'President of the Presidency Council of the Government of National Accord'\n",
      " 'Acting Minister for Foreign Affairs and International Cooperation'\n",
      " 'Union Minister of the Office of the State Counsellor'\n",
      " 'Constitutional President'\n",
      " 'President and Commander-in-Chief of the Defence Forces'\n",
      " 'Secretary for Foreign Affairs' 'Federal Minister for Foreign Affairs'\n",
      " 'Vice-Chancellor and Federal Minister for Foreign Affairs'\n",
      " 'Prime Minister and Minister for General Affairs' 'Deputy Prime Minister'\n",
      " 'King' 'Permanent Representative' 'Chairman of the Presidential Council '\n",
      " 'Deputy Minister for Foreign Affairs' 'Minister for External Affairs'\n",
      " 'Minister of Foreign Affairs'\n",
      " 'Prime Minister, First Lord of the Treasury and Minister for the Civil Service'\n",
      " 'King ' 'State Councillor and Minister for Foreign Affairs'\n",
      " 'Prime Minister and Minister for Arts, Culture and Heritage and National Security and Intelligence'\n",
      " 'Prime Minister and Minister for Arts, Culture and Heritage, and National Security and Intelligence'\n",
      " 'Minister for Foreign Affairs and Cooperation' 'Crown Prince'\n",
      " 'Deputy Prime Minister, Minister of the Interior and Acting Minister for Foreign Affairs']\n",
      "Number of missing values: 0\n"
     ]
    }
   ],
   "source": [
    "import pandas as pd\n",
    "\n",
    "# Load the dataset\n",
    "df = pd.read_csv(\"../unga_wvs7_hashed_corpus.csv\")\n",
    "\n",
    "# Get unique values (excluding NaN)\n",
    "unique_speaker_posts = df['speaker_post'].dropna().unique()\n",
    "\n",
    "# Count missing values (NaN)\n",
    "na_count = df['speaker_post'].isna().sum()\n",
    "\n",
    "# Display results\n",
    "print(\"Unique values in 'speaker_post':\", unique_speaker_posts)\n",
    "print(\"Number of missing values:\", na_count)\n"
   ]
  },
  {
   "cell_type": "code",
   "execution_count": 60,
   "id": "f1d75261",
   "metadata": {},
   "outputs": [
    {
     "name": "stdout",
     "output_type": "stream",
     "text": [
      "Number of doc_ids with NO head of state speaker: 116\n",
      "Percentage of doc_ids with NO head of state speaker: 31.96%\n",
      "Number of doc_ids with NO head of state speaker AND a Permanent Representative: 1\n",
      "['NZL_75_2020']\n",
      "['JOR_72_2017']\n"
     ]
    }
   ],
   "source": [
    "import pandas as pd\n",
    "\n",
    "# Load dataset\n",
    "df = pd.read_csv(\"../unga_wvs7_hashed_corpus.csv\")\n",
    "\n",
    "# Normalize speaker_post\n",
    "df['speaker_post_norm'] = df['speaker_post'].str.strip().str.lower()\n",
    "\n",
    "# Heads of state titles\n",
    "heads_of_state_titles = {\n",
    "    \"prime minister\",\n",
    "    \"president\",\n",
    "    \"president of the presidency council of the government of national accord\",\n",
    "    \"constitutional president\",\n",
    "    \"president and commander-in-chief of the defence forces\",\n",
    "    \"king\",\n",
    "    \"chairman of the presidential council\",\n",
    "    \"crown prince\"\n",
    "}\n",
    "\n",
    "# Mark head of state\n",
    "df['is_head_of_state'] = df['speaker_post_norm'].isin(heads_of_state_titles)\n",
    "\n",
    "# Determine which doc_ids have no head of state\n",
    "no_heads = (\n",
    "    df.groupby('doc_id')['is_head_of_state']\n",
    "      .any()                     # True if any head of state present\n",
    "      .eq(False)                  # Keep only those with none\n",
    ")\n",
    "\n",
    "# Count them\n",
    "count_no_heads = no_heads.sum()\n",
    "\n",
    "print(f\"Number of doc_ids with NO head of state speaker: {count_no_heads}\")\n",
    "print(f\"Percentage of doc_ids with NO head of state speaker: {count_no_heads / no_heads.size * 100:.2f}%\")\n",
    "\n",
    "perm_rep_in_no_heads = df[df['doc_id'].isin(no_heads[no_heads].index) & df['speaker_post_norm'].eq(\"permanent representative\")]['doc_id'].nunique()\n",
    "print(f\"Number of doc_ids with NO head of state speaker AND a Permanent Representative: {perm_rep_in_no_heads}\")\n",
    "\n",
    "perm_rep_doc_ids = (\n",
    "    df[df['doc_id'].isin(no_heads[no_heads].index) & df['speaker_post_norm'].eq(\"permanent representative\")]\n",
    "    ['doc_id']\n",
    "    .unique()\n",
    "    .tolist()\n",
    ")\n",
    "print(perm_rep_doc_ids)\n",
    "\n",
    "crown_prince_doc_ids = (\n",
    "    df[df['speaker_post_norm'] == \"crown prince\"]['doc_id']\n",
    "    .unique()\n",
    "    .tolist()\n",
    ")\n",
    "print(crown_prince_doc_ids)"
   ]
  },
  {
   "cell_type": "code",
   "execution_count": 63,
   "id": "de4c3ac8",
   "metadata": {},
   "outputs": [
    {
     "data": {
      "text/markdown": [
       "### Filtered WVS Questions and Responses"
      ],
      "text/plain": [
       "<IPython.core.display.Markdown object>"
      ]
     },
     "metadata": {},
     "output_type": "display_data"
    },
    {
     "data": {
      "text/html": [
       "<div>\n",
       "<style scoped>\n",
       "    .dataframe tbody tr th:only-of-type {\n",
       "        vertical-align: middle;\n",
       "    }\n",
       "\n",
       "    .dataframe tbody tr th {\n",
       "        vertical-align: top;\n",
       "    }\n",
       "\n",
       "    .dataframe thead th {\n",
       "        text-align: right;\n",
       "    }\n",
       "</style>\n",
       "<table border=\"1\" class=\"dataframe\">\n",
       "  <thead>\n",
       "    <tr style=\"text-align: right;\">\n",
       "      <th></th>\n",
       "      <th>Question</th>\n",
       "      <th>Response</th>\n",
       "      <th>Question Text</th>\n",
       "      <th>Response Text</th>\n",
       "    </tr>\n",
       "  </thead>\n",
       "  <tbody>\n",
       "    <tr>\n",
       "      <th>0</th>\n",
       "      <td>Q11</td>\n",
       "      <td>1</td>\n",
       "      <td>Important child qualities: Imagination Here is...</td>\n",
       "      <td>Important</td>\n",
       "    </tr>\n",
       "    <tr>\n",
       "      <th>1</th>\n",
       "      <td>Q11</td>\n",
       "      <td>2</td>\n",
       "      <td>Important child qualities: Imagination Here is...</td>\n",
       "      <td>Not mentioned</td>\n",
       "    </tr>\n",
       "    <tr>\n",
       "      <th>4</th>\n",
       "      <td>Q152</td>\n",
       "      <td>1</td>\n",
       "      <td>Aims of country: first choice People sometimes...</td>\n",
       "      <td>A high level of economic growth</td>\n",
       "    </tr>\n",
       "    <tr>\n",
       "      <th>3</th>\n",
       "      <td>Q152</td>\n",
       "      <td>2</td>\n",
       "      <td>Aims of country: first choice People sometimes...</td>\n",
       "      <td>Strong defence forces</td>\n",
       "    </tr>\n",
       "    <tr>\n",
       "      <th>5</th>\n",
       "      <td>Q152</td>\n",
       "      <td>3</td>\n",
       "      <td>Aims of country: first choice People sometimes...</td>\n",
       "      <td>People have more say about how things are done</td>\n",
       "    </tr>\n",
       "    <tr>\n",
       "      <th>2</th>\n",
       "      <td>Q152</td>\n",
       "      <td>4</td>\n",
       "      <td>Aims of country: first choice People sometimes...</td>\n",
       "      <td>Trying to make our cities and countryside more...</td>\n",
       "    </tr>\n",
       "    <tr>\n",
       "      <th>122</th>\n",
       "      <td>Q153</td>\n",
       "      <td>1</td>\n",
       "      <td>Aims of country: second choice People sometime...</td>\n",
       "      <td>A high level of economic growth</td>\n",
       "    </tr>\n",
       "    <tr>\n",
       "      <th>123</th>\n",
       "      <td>Q153</td>\n",
       "      <td>2</td>\n",
       "      <td>Aims of country: second choice People sometime...</td>\n",
       "      <td>Making sure this country has strong defence fo...</td>\n",
       "    </tr>\n",
       "    <tr>\n",
       "      <th>124</th>\n",
       "      <td>Q153</td>\n",
       "      <td>3</td>\n",
       "      <td>Aims of country: second choice People sometime...</td>\n",
       "      <td>Seeing that people have more say about how are...</td>\n",
       "    </tr>\n",
       "    <tr>\n",
       "      <th>125</th>\n",
       "      <td>Q153</td>\n",
       "      <td>4</td>\n",
       "      <td>Aims of country: second choice People sometime...</td>\n",
       "      <td>Trying to make our cities and countryside more...</td>\n",
       "    </tr>\n",
       "    <tr>\n",
       "      <th>6</th>\n",
       "      <td>Q154</td>\n",
       "      <td>1</td>\n",
       "      <td>Aims of respondent: first choice If you had to...</td>\n",
       "      <td>Maintaining order in the nation</td>\n",
       "    </tr>\n",
       "    <tr>\n",
       "      <th>9</th>\n",
       "      <td>Q154</td>\n",
       "      <td>2</td>\n",
       "      <td>Aims of respondent: first choice If you had to...</td>\n",
       "      <td>Giving people more say in important government...</td>\n",
       "    </tr>\n",
       "    <tr>\n",
       "      <th>7</th>\n",
       "      <td>Q154</td>\n",
       "      <td>3</td>\n",
       "      <td>Aims of respondent: first choice If you had to...</td>\n",
       "      <td>Fighting rising prices</td>\n",
       "    </tr>\n",
       "    <tr>\n",
       "      <th>8</th>\n",
       "      <td>Q154</td>\n",
       "      <td>4</td>\n",
       "      <td>Aims of respondent: first choice If you had to...</td>\n",
       "      <td>Protecting freedom of speech</td>\n",
       "    </tr>\n",
       "    <tr>\n",
       "      <th>126</th>\n",
       "      <td>Q155</td>\n",
       "      <td>1</td>\n",
       "      <td>Aims of respondent: second choice And which wo...</td>\n",
       "      <td>Maintaining order in the nation</td>\n",
       "    </tr>\n",
       "    <tr>\n",
       "      <th>127</th>\n",
       "      <td>Q155</td>\n",
       "      <td>2</td>\n",
       "      <td>Aims of respondent: second choice And which wo...</td>\n",
       "      <td>Giving people more say in important government...</td>\n",
       "    </tr>\n",
       "    <tr>\n",
       "      <th>128</th>\n",
       "      <td>Q155</td>\n",
       "      <td>3</td>\n",
       "      <td>Aims of respondent: second choice And which wo...</td>\n",
       "      <td>Fighting rising prices</td>\n",
       "    </tr>\n",
       "    <tr>\n",
       "      <th>129</th>\n",
       "      <td>Q155</td>\n",
       "      <td>4</td>\n",
       "      <td>Aims of respondent: second choice And which wo...</td>\n",
       "      <td>Protecting freedom of speech</td>\n",
       "    </tr>\n",
       "    <tr>\n",
       "      <th>10</th>\n",
       "      <td>Q17</td>\n",
       "      <td>1</td>\n",
       "      <td>Important child qualities: Obedience Here is a...</td>\n",
       "      <td>Important</td>\n",
       "    </tr>\n",
       "    <tr>\n",
       "      <th>11</th>\n",
       "      <td>Q17</td>\n",
       "      <td>2</td>\n",
       "      <td>Important child qualities: Obedience Here is a...</td>\n",
       "      <td>Not mentioned</td>\n",
       "    </tr>\n",
       "    <tr>\n",
       "      <th>108</th>\n",
       "      <td>Q65</td>\n",
       "      <td>1</td>\n",
       "      <td>Confidence: Armed Forces I am going to name a ...</td>\n",
       "      <td>A great deal</td>\n",
       "    </tr>\n",
       "    <tr>\n",
       "      <th>109</th>\n",
       "      <td>Q65</td>\n",
       "      <td>2</td>\n",
       "      <td>Confidence: Armed Forces I am going to name a ...</td>\n",
       "      <td>Quite a lot</td>\n",
       "    </tr>\n",
       "    <tr>\n",
       "      <th>110</th>\n",
       "      <td>Q65</td>\n",
       "      <td>3</td>\n",
       "      <td>Confidence: Armed Forces I am going to name a ...</td>\n",
       "      <td>Not very much</td>\n",
       "    </tr>\n",
       "    <tr>\n",
       "      <th>111</th>\n",
       "      <td>Q65</td>\n",
       "      <td>4</td>\n",
       "      <td>Confidence: Armed Forces I am going to name a ...</td>\n",
       "      <td>None at all</td>\n",
       "    </tr>\n",
       "    <tr>\n",
       "      <th>112</th>\n",
       "      <td>Q69</td>\n",
       "      <td>1</td>\n",
       "      <td>Confidence: The Police I am going to name a nu...</td>\n",
       "      <td>A great deal</td>\n",
       "    </tr>\n",
       "    <tr>\n",
       "      <th>113</th>\n",
       "      <td>Q69</td>\n",
       "      <td>2</td>\n",
       "      <td>Confidence: The Police I am going to name a nu...</td>\n",
       "      <td>Quite a lot</td>\n",
       "    </tr>\n",
       "    <tr>\n",
       "      <th>114</th>\n",
       "      <td>Q69</td>\n",
       "      <td>3</td>\n",
       "      <td>Confidence: The Police I am going to name a nu...</td>\n",
       "      <td>Not very much</td>\n",
       "    </tr>\n",
       "    <tr>\n",
       "      <th>115</th>\n",
       "      <td>Q69</td>\n",
       "      <td>4</td>\n",
       "      <td>Confidence: The Police I am going to name a nu...</td>\n",
       "      <td>None at all</td>\n",
       "    </tr>\n",
       "    <tr>\n",
       "      <th>116</th>\n",
       "      <td>Q70</td>\n",
       "      <td>1</td>\n",
       "      <td>Confidence: Justice System/Courts I am going t...</td>\n",
       "      <td>A great deal</td>\n",
       "    </tr>\n",
       "    <tr>\n",
       "      <th>117</th>\n",
       "      <td>Q70</td>\n",
       "      <td>2</td>\n",
       "      <td>Confidence: Justice System/Courts I am going t...</td>\n",
       "      <td>Quite a lot</td>\n",
       "    </tr>\n",
       "    <tr>\n",
       "      <th>118</th>\n",
       "      <td>Q70</td>\n",
       "      <td>3</td>\n",
       "      <td>Confidence: Justice System/Courts I am going t...</td>\n",
       "      <td>Not very much</td>\n",
       "    </tr>\n",
       "    <tr>\n",
       "      <th>119</th>\n",
       "      <td>Q70</td>\n",
       "      <td>4</td>\n",
       "      <td>Confidence: Justice System/Courts I am going t...</td>\n",
       "      <td>None at all</td>\n",
       "    </tr>\n",
       "    <tr>\n",
       "      <th>120</th>\n",
       "      <td>Q8</td>\n",
       "      <td>1</td>\n",
       "      <td>Important child qualities: Independence  Here ...</td>\n",
       "      <td>Important</td>\n",
       "    </tr>\n",
       "    <tr>\n",
       "      <th>121</th>\n",
       "      <td>Q8</td>\n",
       "      <td>2</td>\n",
       "      <td>Important child qualities: Independence  Here ...</td>\n",
       "      <td>Not mentioned</td>\n",
       "    </tr>\n",
       "  </tbody>\n",
       "</table>\n",
       "</div>"
      ],
      "text/plain": [
       "    Question  Response                                      Question Text  \\\n",
       "0        Q11         1  Important child qualities: Imagination Here is...   \n",
       "1        Q11         2  Important child qualities: Imagination Here is...   \n",
       "4       Q152         1  Aims of country: first choice People sometimes...   \n",
       "3       Q152         2  Aims of country: first choice People sometimes...   \n",
       "5       Q152         3  Aims of country: first choice People sometimes...   \n",
       "2       Q152         4  Aims of country: first choice People sometimes...   \n",
       "122     Q153         1  Aims of country: second choice People sometime...   \n",
       "123     Q153         2  Aims of country: second choice People sometime...   \n",
       "124     Q153         3  Aims of country: second choice People sometime...   \n",
       "125     Q153         4  Aims of country: second choice People sometime...   \n",
       "6       Q154         1  Aims of respondent: first choice If you had to...   \n",
       "9       Q154         2  Aims of respondent: first choice If you had to...   \n",
       "7       Q154         3  Aims of respondent: first choice If you had to...   \n",
       "8       Q154         4  Aims of respondent: first choice If you had to...   \n",
       "126     Q155         1  Aims of respondent: second choice And which wo...   \n",
       "127     Q155         2  Aims of respondent: second choice And which wo...   \n",
       "128     Q155         3  Aims of respondent: second choice And which wo...   \n",
       "129     Q155         4  Aims of respondent: second choice And which wo...   \n",
       "10       Q17         1  Important child qualities: Obedience Here is a...   \n",
       "11       Q17         2  Important child qualities: Obedience Here is a...   \n",
       "108      Q65         1  Confidence: Armed Forces I am going to name a ...   \n",
       "109      Q65         2  Confidence: Armed Forces I am going to name a ...   \n",
       "110      Q65         3  Confidence: Armed Forces I am going to name a ...   \n",
       "111      Q65         4  Confidence: Armed Forces I am going to name a ...   \n",
       "112      Q69         1  Confidence: The Police I am going to name a nu...   \n",
       "113      Q69         2  Confidence: The Police I am going to name a nu...   \n",
       "114      Q69         3  Confidence: The Police I am going to name a nu...   \n",
       "115      Q69         4  Confidence: The Police I am going to name a nu...   \n",
       "116      Q70         1  Confidence: Justice System/Courts I am going t...   \n",
       "117      Q70         2  Confidence: Justice System/Courts I am going t...   \n",
       "118      Q70         3  Confidence: Justice System/Courts I am going t...   \n",
       "119      Q70         4  Confidence: Justice System/Courts I am going t...   \n",
       "120       Q8         1  Important child qualities: Independence  Here ...   \n",
       "121       Q8         2  Important child qualities: Independence  Here ...   \n",
       "\n",
       "                                         Response Text  \n",
       "0                                            Important  \n",
       "1                                        Not mentioned  \n",
       "4                      A high level of economic growth  \n",
       "3                                Strong defence forces  \n",
       "5       People have more say about how things are done  \n",
       "2    Trying to make our cities and countryside more...  \n",
       "122                    A high level of economic growth  \n",
       "123  Making sure this country has strong defence fo...  \n",
       "124  Seeing that people have more say about how are...  \n",
       "125  Trying to make our cities and countryside more...  \n",
       "6                      Maintaining order in the nation  \n",
       "9    Giving people more say in important government...  \n",
       "7                               Fighting rising prices  \n",
       "8                         Protecting freedom of speech  \n",
       "126                    Maintaining order in the nation  \n",
       "127  Giving people more say in important government...  \n",
       "128                             Fighting rising prices  \n",
       "129                       Protecting freedom of speech  \n",
       "10                                           Important  \n",
       "11                                       Not mentioned  \n",
       "108                                       A great deal  \n",
       "109                                        Quite a lot  \n",
       "110                                      Not very much  \n",
       "111                                        None at all  \n",
       "112                                       A great deal  \n",
       "113                                        Quite a lot  \n",
       "114                                      Not very much  \n",
       "115                                        None at all  \n",
       "116                                       A great deal  \n",
       "117                                        Quite a lot  \n",
       "118                                      Not very much  \n",
       "119                                        None at all  \n",
       "120                                          Important  \n",
       "121                                      Not mentioned  "
      ]
     },
     "metadata": {},
     "output_type": "display_data"
    },
    {
     "name": "stdout",
     "output_type": "stream",
     "text": [
      "LaTeX table saved as filtered_wvs_questions.tex\n"
     ]
    }
   ],
   "source": [
    "import pandas as pd\n",
    "from IPython.display import display, Markdown\n",
    "\n",
    "# Read NDJSON file\n",
    "df = pd.read_json(\"../group_WVC_stem_encoding.json\", lines=True)\n",
    "\n",
    "# Target questions\n",
    "target_qids = [\"Q8\", \"Q11\", \"Q17\", \"Q65\", \"Q69\", \"Q70\", \"Q152\", \"Q153\", \"Q154\", \"Q155\"]\n",
    "\n",
    "# Filter, select, and rename columns\n",
    "df_filtered = (\n",
    "    df[df['broad_qid'].isin(target_qids)]\n",
    "      [['broad_qid', 'likert_scale', 'question_text', 'response_text']]\n",
    "      .rename(columns={\n",
    "          'broad_qid': 'Question',\n",
    "          'likert_scale': 'Response',\n",
    "          'question_text': 'Question Text',\n",
    "          'response_text': 'Response Text'\n",
    "      })\n",
    "      .sort_values(by=['Question', 'Response'])\n",
    ")\n",
    "\n",
    "# Display in IPython\n",
    "display(Markdown(\"### Filtered WVS Questions and Responses\"))\n",
    "display(df_filtered)\n",
    "\n",
    "# Save to LaTeX\n",
    "df_filtered.to_latex(\"filtered_wvs_questions.tex\", index=False, escape=True)\n",
    "\n",
    "print(\"LaTeX table saved as filtered_wvs_questions.tex\")\n"
   ]
  }
 ],
 "metadata": {
  "kernelspec": {
   "display_name": "torchgpu",
   "language": "python",
   "name": "python3"
  },
  "language_info": {
   "codemirror_mode": {
    "name": "ipython",
    "version": 3
   },
   "file_extension": ".py",
   "mimetype": "text/x-python",
   "name": "python",
   "nbconvert_exporter": "python",
   "pygments_lexer": "ipython3",
   "version": "3.10.16"
  }
 },
 "nbformat": 4,
 "nbformat_minor": 5
}
