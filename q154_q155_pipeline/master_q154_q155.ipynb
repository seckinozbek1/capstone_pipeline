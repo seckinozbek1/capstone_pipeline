{
 "cells": [
  {
   "cell_type": "code",
   "execution_count": null,
   "id": "0f8abb2c",
   "metadata": {},
   "outputs": [
    {
     "name": "stdout",
     "output_type": "stream",
     "text": [
      "Loading Q154_mmr_selected_labeled.csv ...\n",
      "Loading ../top_scored_sentences.csv ...\n",
      "Creating combined sentence column...\n",
      "Saving to Q154_mmr_selected_labeled_combined.csv ...\n",
      "Done.\n"
     ]
    }
   ],
   "source": [
    "## (Labeling - I) ##\n",
    "\n",
    "# This part is done manually based on the \"annotation_pipeline/mmr_selected/Q152_mmr_selected.csv\" dataset\n",
    "# A new match column was created and binary hand labeling was performed based on the combined scores (question ID and likert scale)\n",
    "# Later on the these initial labels will be enriched after the first training run\n",
    "# The resulting labeled dataset is saved as \"Q154_mmr_selected_labeled.csv\" in the current directory\n",
    "# The dataset was the processed to exclude the accompanying metadata and only include the corresponding hashes, and saved as \"Q154_mmr_selected_labeled_combined.csv\"\n",
    "\n",
    "%run clean_labeled_data.py"
   ]
  },
  {
   "cell_type": "code",
   "execution_count": 1,
   "id": "33a5c81e",
   "metadata": {},
   "outputs": [
    {
     "name": "stderr",
     "output_type": "stream",
     "text": [
      "[nltk_data] Downloading package wordnet to\n",
      "[nltk_data]     C:\\Users\\secki\\AppData\\Roaming\\nltk_data...\n",
      "[nltk_data]   Package wordnet is already up-to-date!\n",
      "[nltk_data] Downloading package omw-1.4 to\n",
      "[nltk_data]     C:\\Users\\secki\\AppData\\Roaming\\nltk_data...\n",
      "[nltk_data]   Package omw-1.4 is already up-to-date!\n"
     ]
    },
    {
     "name": "stdout",
     "output_type": "stream",
     "text": [
      "Loading data...\n",
      "Loading SBERT model...\n",
      "Encoding all sentences for embedding hash computation...\n"
     ]
    },
    {
     "data": {
      "application/vnd.jupyter.widget-view+json": {
       "model_id": "0c25bb7ead6148deb0bf6a379f100ea1",
       "version_major": 2,
       "version_minor": 0
      },
      "text/plain": [
       "Batches:   0%|          | 0/5 [00:00<?, ?it/s]"
      ]
     },
     "metadata": {},
     "output_type": "display_data"
    },
    {
     "name": "stdout",
     "output_type": "stream",
     "text": [
      "Splitting data stratified by embedding_hash...\n",
      "Training samples before augmentation: 91\n",
      "Validation samples before filtering: 61\n",
      "Performing synonym augmentation on training set...\n",
      "Training samples after augmentation: 364\n",
      "Encoding training sentences after augmentation...\n"
     ]
    },
    {
     "data": {
      "application/vnd.jupyter.widget-view+json": {
       "model_id": "f8f0cf88a47f49d8b78b906cd3c6ad8e",
       "version_major": 2,
       "version_minor": 0
      },
      "text/plain": [
       "Batches:   0%|          | 0/12 [00:00<?, ?it/s]"
      ]
     },
     "metadata": {},
     "output_type": "display_data"
    },
    {
     "name": "stdout",
     "output_type": "stream",
     "text": [
      "Encoding validation sentences...\n"
     ]
    },
    {
     "data": {
      "application/vnd.jupyter.widget-view+json": {
       "model_id": "466b5ecf6ca0459eb17b0d2e9ada84fd",
       "version_major": 2,
       "version_minor": 0
      },
      "text/plain": [
       "Batches:   0%|          | 0/2 [00:00<?, ?it/s]"
      ]
     },
     "metadata": {},
     "output_type": "display_data"
    },
    {
     "name": "stdout",
     "output_type": "stream",
     "text": [
      "Encoding original training sentences for permutation tests...\n"
     ]
    },
    {
     "data": {
      "application/vnd.jupyter.widget-view+json": {
       "model_id": "d427657a83354dda8dd407c030819c9d",
       "version_major": 2,
       "version_minor": 0
      },
      "text/plain": [
       "Batches:   0%|          | 0/3 [00:00<?, ?it/s]"
      ]
     },
     "metadata": {},
     "output_type": "display_data"
    },
    {
     "name": "stdout",
     "output_type": "stream",
     "text": [
      "Filtering validation samples too close to training samples...\n",
      "Validation samples after cosine similarity filtering: 60\n",
      "Training CatBoost classifier...\n",
      "0:\tlearn: 1.3680838\ttest: 1.3797562\tbest: 1.3797562 (0)\ttotal: 249ms\tremaining: 8m 16s\n",
      "100:\tlearn: 0.3925077\ttest: 0.8876986\tbest: 0.8876986 (100)\ttotal: 6.25s\tremaining: 1m 57s\n",
      "200:\tlearn: 0.2002336\ttest: 0.7677308\tbest: 0.7677308 (200)\ttotal: 12.4s\tremaining: 1m 51s\n",
      "300:\tlearn: 0.1259645\ttest: 0.6932382\tbest: 0.6932382 (300)\ttotal: 18.9s\tremaining: 1m 46s\n",
      "400:\tlearn: 0.0872651\ttest: 0.6334601\tbest: 0.6334601 (400)\ttotal: 24.5s\tremaining: 1m 37s\n",
      "500:\tlearn: 0.0667387\ttest: 0.5924106\tbest: 0.5924106 (500)\ttotal: 29.4s\tremaining: 1m 27s\n",
      "600:\tlearn: 0.0537788\ttest: 0.5622478\tbest: 0.5622478 (600)\ttotal: 34s\tremaining: 1m 19s\n",
      "700:\tlearn: 0.0442480\ttest: 0.5365683\tbest: 0.5365683 (700)\ttotal: 38.6s\tremaining: 1m 11s\n",
      "800:\tlearn: 0.0376560\ttest: 0.5164354\tbest: 0.5164354 (800)\ttotal: 43.3s\tremaining: 1m 4s\n",
      "900:\tlearn: 0.0334367\ttest: 0.5092457\tbest: 0.5092427 (898)\ttotal: 48s\tremaining: 58.6s\n",
      "1000:\tlearn: 0.0298115\ttest: 0.5028039\tbest: 0.5028039 (1000)\ttotal: 52.6s\tremaining: 52.5s\n",
      "1100:\tlearn: 0.0266983\ttest: 0.4933913\tbest: 0.4933913 (1100)\ttotal: 57.3s\tremaining: 46.8s\n",
      "1200:\tlearn: 0.0236992\ttest: 0.4779705\tbest: 0.4779705 (1200)\ttotal: 1m 1s\tremaining: 41.1s\n",
      "1300:\tlearn: 0.0216223\ttest: 0.4710374\tbest: 0.4710374 (1300)\ttotal: 1m 6s\tremaining: 35.6s\n",
      "1400:\tlearn: 0.0198035\ttest: 0.4644541\tbest: 0.4644541 (1400)\ttotal: 1m 10s\tremaining: 30.3s\n",
      "1500:\tlearn: 0.0185309\ttest: 0.4622335\tbest: 0.4622335 (1500)\ttotal: 1m 15s\tremaining: 25.1s\n",
      "1600:\tlearn: 0.0172191\ttest: 0.4586270\tbest: 0.4586270 (1600)\ttotal: 1m 19s\tremaining: 19.9s\n",
      "1700:\tlearn: 0.0160621\ttest: 0.4516643\tbest: 0.4516643 (1700)\ttotal: 1m 24s\tremaining: 14.8s\n",
      "1800:\tlearn: 0.0150067\ttest: 0.4462615\tbest: 0.4462615 (1800)\ttotal: 1m 29s\tremaining: 9.84s\n",
      "1900:\tlearn: 0.0141109\ttest: 0.4418057\tbest: 0.4418057 (1900)\ttotal: 1m 33s\tremaining: 4.87s\n",
      "1999:\tlearn: 0.0133497\ttest: 0.4377097\tbest: 0.4377097 (1999)\ttotal: 1m 38s\tremaining: 0us\n",
      "bestTest = 0.4377096614\n",
      "bestIteration = 1999\n",
      "Training Multinomial LogLoss at Best Iteration (1999): 0.0133\n",
      "Validation Multinomial LogLoss at Best Iteration (1999): 0.4377\n",
      "Saved model and label mappings.\n",
      "\n",
      "Final Macro F1: 0.8819\n",
      "Classification Report:\n",
      "              precision    recall  f1-score   support\n",
      "\n",
      "      Q154_1       0.87      0.87      0.87        15\n",
      "      Q154_2       0.88      0.94      0.91        16\n",
      "      Q154_3       1.00      0.77      0.87        13\n",
      "      Q154_4       0.83      0.94      0.88        16\n",
      "\n",
      "    accuracy                           0.88        60\n",
      "   macro avg       0.90      0.88      0.88        60\n",
      "weighted avg       0.89      0.88      0.88        60\n",
      "\n",
      "\n",
      "Running permutation tests on original training data...\n",
      "Permutation run 1/20 (original data)\n",
      "Permutation run 2/20 (original data)\n",
      "Permutation run 3/20 (original data)\n",
      "Permutation run 4/20 (original data)\n",
      "Permutation run 5/20 (original data)\n",
      "Permutation run 6/20 (original data)\n",
      "Permutation run 7/20 (original data)\n",
      "Permutation run 8/20 (original data)\n",
      "Permutation run 9/20 (original data)\n",
      "Permutation run 10/20 (original data)\n",
      "Permutation run 11/20 (original data)\n",
      "Permutation run 12/20 (original data)\n",
      "Permutation run 13/20 (original data)\n",
      "Permutation run 14/20 (original data)\n",
      "Permutation run 15/20 (original data)\n",
      "Permutation run 16/20 (original data)\n",
      "Permutation run 17/20 (original data)\n",
      "Permutation run 18/20 (original data)\n",
      "Permutation run 19/20 (original data)\n",
      "Permutation run 20/20 (original data)\n",
      "\n",
      "Average Permutation Test Macro F1 on original training data over 20 runs: 0.2381\n",
      "\n",
      "Average classification report (per class) on original training data:\n",
      "Class      Precision  Recall  F1-score  Support\n",
      "Q154_1         0.217   0.227     0.217       15\n",
      "Q154_2         0.231   0.237     0.232       16\n",
      "Q154_3         0.199   0.204     0.193       13\n",
      "Q154_4         0.343   0.300     0.311       16\n",
      "\n",
      "Running permutation tests on augmented training data...\n",
      "Permutation run 1/20 (augmented data)\n",
      "Permutation run 2/20 (augmented data)\n",
      "Permutation run 3/20 (augmented data)\n",
      "Permutation run 4/20 (augmented data)\n",
      "Permutation run 5/20 (augmented data)\n",
      "Permutation run 6/20 (augmented data)\n",
      "Permutation run 7/20 (augmented data)\n",
      "Permutation run 8/20 (augmented data)\n",
      "Permutation run 9/20 (augmented data)\n",
      "Permutation run 10/20 (augmented data)\n",
      "Permutation run 11/20 (augmented data)\n",
      "Permutation run 12/20 (augmented data)\n",
      "Permutation run 13/20 (augmented data)\n",
      "Permutation run 14/20 (augmented data)\n",
      "Permutation run 15/20 (augmented data)\n",
      "Permutation run 16/20 (augmented data)\n",
      "Permutation run 17/20 (augmented data)\n",
      "Permutation run 18/20 (augmented data)\n",
      "Permutation run 19/20 (augmented data)\n",
      "Permutation run 20/20 (augmented data)\n",
      "\n",
      "Average Permutation Test Macro F1 on augmented training data over 20 runs: 0.2567\n",
      "\n",
      "Average classification report (per class) on augmented training data:\n",
      "Class      Precision  Recall  F1-score  Support\n",
      "Q154_1         0.215   0.193     0.201       15\n",
      "Q154_2         0.294   0.381     0.330       16\n",
      "Q154_3         0.265   0.188     0.213       13\n",
      "Q154_4         0.278   0.294     0.282       16\n"
     ]
    }
   ],
   "source": [
    "## (Training) ##\n",
    "\n",
    "# Note: This code was used twice:\n",
    "# (1) The first run was made right after the hand labeling was done.\n",
    "# (2) The second training used a combined labeled dataset of hand labeled data and the hand-picked accurate predictions from the first run by relabeling. \n",
    "\n",
    "# Load and filter labeled data, focusing on relevant combined_labels and positive matches.\n",
    "# Perform stratified train-validation split by label with a fixed holdout fraction.\n",
    "# Augment training data by adding synonym-replaced sentences to improve robustness.\n",
    "# Encode sentences with SBERT embeddings and train a CatBoost multi-class classifier.\n",
    "# Evaluate the model on validation data and save the trained model and label mappings.\n",
    "\n",
    "%run train_catboost_labeled.py"
   ]
  },
  {
   "cell_type": "code",
   "execution_count": 3,
   "id": "ef0b2026",
   "metadata": {},
   "outputs": [
    {
     "name": "stdout",
     "output_type": "stream",
     "text": [
      "Top keyphrases for Q154_1:\n",
      " - stability public order remain unshaken corner nation (score: 0.731)\n",
      " - maintaining order nation utmost importance (score: 0.667)\n",
      " - internal cohesion abstract virtue prerequisite enduring peace (score: 0.584)\n",
      "\n",
      "Top keyphrases for Q154_2:\n",
      " - voice global decision making including fairer multilateral (score: 0.659)\n",
      " - govern internationally support reforms enhance collective voice (score: 0.657)\n",
      " - importance expanding civic channels ensure citizen feels (score: 0.593)\n",
      "\n",
      "Top keyphrases for Q154_3:\n",
      " - countries suffocated price shocks control rise dignity (score: 0.746)\n",
      " - coordination ensure developing countries suffocated price (score: 0.728)\n",
      " - fighting rising prices utmost importance (score: 0.627)\n",
      "\n",
      "Top keyphrases for Q154_4:\n",
      " - protecting freedom speech utmost importance society censors (score: 0.789)\n",
      " - dissent disloyalty open discourse strength threat international (score: 0.708)\n",
      " - international law continue safeguard journalists writers thinkers (score: 0.667)\n",
      "\n",
      "Keyphrase extraction results saved to logs_and_metrics/keybert_keyphrases.json\n"
     ]
    }
   ],
   "source": [
    "# (Prediction Fine-Tuning)\n",
    "# Optional keyword extraction fine-tuning code using KeyBERT\n",
    "%run tune_keywords_keybert.py"
   ]
  },
  {
   "cell_type": "code",
   "execution_count": 3,
   "id": "c0fe9c4e",
   "metadata": {},
   "outputs": [
    {
     "name": "stdout",
     "output_type": "stream",
     "text": [
      "Selected 4425 unseen sentences for prediction.\n",
      "Encoding unseen sentences...\n"
     ]
    },
    {
     "name": "stderr",
     "output_type": "stream",
     "text": [
      "Encoding batches: 100%|██████████| 139/139 [00:04<00:00, 33.52it/s]\n"
     ]
    },
    {
     "name": "stdout",
     "output_type": "stream",
     "text": [
      "Extracting keyphrases per label for semantic filtering...\n",
      "Applying semantic similarity filtering per predicted label...\n",
      "Applying joint scoring and filtering...\n",
      "Kept 1113 predictions after joint scoring filtering.\n",
      "Saved the results to predictions/q154_predictions_top_score_filtered.csv\n"
     ]
    }
   ],
   "source": [
    "## (Prediction - I) ##\n",
    "\n",
    "# This prediction only uses the top_scored_sentences.csv dataset, which is the output of the data_prep_scoring.py script.\n",
    "# The prediction dataset contains the most uncertain sentences in the previous measurements\n",
    "# As stated, the accurate outputs will be used to enrich the training data for the second training run.\n",
    "\n",
    "# Load unseen sentences excluding those already labeled in training by embedding hash.\n",
    "# Use a pre-trained CatBoost model and SBERT embeddings to predict combined_labels on unseen data.\n",
    "# Filter predicted sentences by confidence threshold (perc_above_chance >= threshold).\n",
    "# Merge additional metadata from the full scored sentences dataset based on predicted labels.\n",
    "# Display a preview and save filtered, labeled predictions to CSV for further use.\n",
    "\n",
    "%run predict_catboost_top_score.py"
   ]
  },
  {
   "cell_type": "code",
   "execution_count": null,
   "id": "9b241872",
   "metadata": {},
   "outputs": [
    {
     "name": "stdout",
     "output_type": "stream",
     "text": [
      "Total hashes in predictions: 2869\n",
      "Valid selected hashes found in predictions: 16\n",
      "Appended 16 rows to labeled data and saved to 'Q154_mmr_selected_labeled.csv'.\n"
     ]
    }
   ],
   "source": [
    "## (Labeling - II) ##\n",
    "\n",
    "# This function appends accurately predicted sentences from the predictions file\n",
    "# to the labeled dataset based on a provided list of selected sentence hashes.\n",
    "# It filters these hashes to those present in the predictions, then matches them\n",
    "# with the top scored sentences and marks them as matched.\n",
    "# Finally, it concatenates these new matched sentences with the existing labeled data and saves it.\n",
    "\n",
    "# After this code is run, the model was trained the second time with the appended labeled dataset.\n",
    "\n",
    "%run label_append_after_pred.py"
   ]
  },
  {
   "cell_type": "code",
   "execution_count": null,
   "id": "40700151",
   "metadata": {},
   "outputs": [],
   "source": [
    "## (Training - II) ##\n",
    "\n",
    "# After the Labeling - II code is run, the model was trained the second time with the appended labeled dataset."
   ]
  },
  {
   "cell_type": "code",
   "execution_count": 4,
   "id": "87daae78",
   "metadata": {},
   "outputs": [
    {
     "name": "stdout",
     "output_type": "stream",
     "text": [
      "Loading combined labeled CSV...\n",
      "Extracting top keyphrases per label...\n",
      "Loading SBERT model...\n",
      "Loading unseen data...\n",
      "Filtered unseen sentences count: 25551\n",
      "Loading CatBoost model...\n",
      "Encoding unseen sentences...\n"
     ]
    },
    {
     "name": "stderr",
     "output_type": "stream",
     "text": [
      "Encoding batches: 100%|██████████| 799/799 [00:47<00:00, 16.73it/s]\n"
     ]
    },
    {
     "name": "stdout",
     "output_type": "stream",
     "text": [
      "Predicting classes and probabilities...\n",
      "Applying semantic similarity filtering per predicted label...\n",
      "Applying joint scoring and filtering...\n",
      "Kept 2745 predictions after joint scoring filtering.\n",
      "Saved filtered predictions to predictions/q154_predictions_filtered.csv\n"
     ]
    }
   ],
   "source": [
    "## (Prediction - II) ##\n",
    "\n",
    "# This code loads UNGA speech sentences and WVC metadata, excluding training data to prevent leakage.\n",
    "# It encodes filtered sentences with a SentenceTransformer model, then predicts classes and confidences using a CatBoost classifier.\n",
    "# Predictions with confidence above chance threshold are kept, and relevant columns are selected.\n",
    "# It merges the predictions with metadata from the WVC dataset based on predicted labels.\n",
    "# Finally, it previews and saves the combined prediction results to a CSV file for further use.\n",
    "\n",
    "%run predict_catboost_unga_wvs7.py"
   ]
  },
  {
   "cell_type": "code",
   "execution_count": 1,
   "id": "4f8e26ca",
   "metadata": {},
   "outputs": [
    {
     "name": "stdout",
     "output_type": "stream",
     "text": [
      "Loading combined labeled CSV...\n",
      "Extracting top keyphrases per label...\n",
      "Loading SBERT model...\n",
      "Loading unseen data...\n",
      "Loading CatBoost model...\n",
      "Encoding unseen sentences...\n"
     ]
    },
    {
     "name": "stderr",
     "output_type": "stream",
     "text": [
      "Encoding batches: 100%|██████████| 21/21 [00:02<00:00,  8.61it/s]\n"
     ]
    },
    {
     "name": "stdout",
     "output_type": "stream",
     "text": [
      "Predicting classes and probabilities...\n",
      "Applying semantic similarity filtering per predicted label...\n",
      "Applying joint scoring and filtering...\n",
      "Kept 191 predictions after joint scoring filtering.\n",
      "Saved filtered predictions to predictions/q154_predictions_ungs.csv\n"
     ]
    }
   ],
   "source": [
    "# Predict on the UNGS address dataset\n",
    "%run predict_ungs_address.py"
   ]
  },
  {
   "cell_type": "code",
   "execution_count": 2,
   "id": "32d28b0c",
   "metadata": {},
   "outputs": [
    {
     "data": {
      "text/html": [
       "<div>\n",
       "<style scoped>\n",
       "    .dataframe tbody tr th:only-of-type {\n",
       "        vertical-align: middle;\n",
       "    }\n",
       "\n",
       "    .dataframe tbody tr th {\n",
       "        vertical-align: top;\n",
       "    }\n",
       "\n",
       "    .dataframe thead th {\n",
       "        text-align: right;\n",
       "    }\n",
       "</style>\n",
       "<table border=\"1\" class=\"dataframe\">\n",
       "  <thead>\n",
       "    <tr style=\"text-align: right;\">\n",
       "      <th></th>\n",
       "      <th>doc_id</th>\n",
       "      <th>A_YEAR</th>\n",
       "      <th>most_frequent_label</th>\n",
       "      <th>most_frequent_count</th>\n",
       "      <th>second_most_frequent_label</th>\n",
       "      <th>second_most_frequent_count</th>\n",
       "      <th>has_second_label</th>\n",
       "    </tr>\n",
       "  </thead>\n",
       "  <tbody>\n",
       "    <tr>\n",
       "      <th>0</th>\n",
       "      <td>ungs_2017</td>\n",
       "      <td>2017</td>\n",
       "      <td>Q154_2</td>\n",
       "      <td>10</td>\n",
       "      <td>Q154_4</td>\n",
       "      <td>10</td>\n",
       "      <td>True</td>\n",
       "    </tr>\n",
       "    <tr>\n",
       "      <th>1</th>\n",
       "      <td>ungs_2018</td>\n",
       "      <td>2018</td>\n",
       "      <td>Q154_2</td>\n",
       "      <td>15</td>\n",
       "      <td>Q154_1</td>\n",
       "      <td>10</td>\n",
       "      <td>True</td>\n",
       "    </tr>\n",
       "    <tr>\n",
       "      <th>2</th>\n",
       "      <td>ungs_2019</td>\n",
       "      <td>2019</td>\n",
       "      <td>Q154_4</td>\n",
       "      <td>13</td>\n",
       "      <td>Q154_1</td>\n",
       "      <td>7</td>\n",
       "      <td>True</td>\n",
       "    </tr>\n",
       "    <tr>\n",
       "      <th>3</th>\n",
       "      <td>ungs_2020</td>\n",
       "      <td>2020</td>\n",
       "      <td>Q154_2</td>\n",
       "      <td>10</td>\n",
       "      <td>Q154_1</td>\n",
       "      <td>9</td>\n",
       "      <td>True</td>\n",
       "    </tr>\n",
       "    <tr>\n",
       "      <th>4</th>\n",
       "      <td>ungs_2021</td>\n",
       "      <td>2021</td>\n",
       "      <td>Q154_2</td>\n",
       "      <td>13</td>\n",
       "      <td>Q154_3</td>\n",
       "      <td>7</td>\n",
       "      <td>True</td>\n",
       "    </tr>\n",
       "    <tr>\n",
       "      <th>5</th>\n",
       "      <td>ungs_2022</td>\n",
       "      <td>2022</td>\n",
       "      <td>Q154_1</td>\n",
       "      <td>15</td>\n",
       "      <td>Q154_3</td>\n",
       "      <td>15</td>\n",
       "      <td>True</td>\n",
       "    </tr>\n",
       "  </tbody>\n",
       "</table>\n",
       "</div>"
      ],
      "text/plain": [
       "      doc_id  A_YEAR most_frequent_label  most_frequent_count  \\\n",
       "0  ungs_2017    2017              Q154_2                   10   \n",
       "1  ungs_2018    2018              Q154_2                   15   \n",
       "2  ungs_2019    2019              Q154_4                   13   \n",
       "3  ungs_2020    2020              Q154_2                   10   \n",
       "4  ungs_2021    2021              Q154_2                   13   \n",
       "5  ungs_2022    2022              Q154_1                   15   \n",
       "\n",
       "  second_most_frequent_label  second_most_frequent_count  has_second_label  \n",
       "0                     Q154_4                          10              True  \n",
       "1                     Q154_1                          10              True  \n",
       "2                     Q154_1                           7              True  \n",
       "3                     Q154_1                           9              True  \n",
       "4                     Q154_3                           7              True  \n",
       "5                     Q154_3                          15              True  "
      ]
     },
     "metadata": {},
     "output_type": "display_data"
    }
   ],
   "source": [
    "# Get the most (Q154) and second most frequent (Q155) labels for each year\n",
    "%run get_q154_q155_frequencies_ungs.py"
   ]
  },
  {
   "cell_type": "code",
   "execution_count": 5,
   "id": "1afe7444",
   "metadata": {},
   "outputs": [
    {
     "name": "stdout",
     "output_type": "stream",
     "text": [
      "\n",
      "Country-year pairs without a second most frequent label:\n",
      "ETH - 2020\n",
      "GTM - 2020\n",
      "IRN - 2020\n",
      "IRQ - 2018\n",
      "JPN - 2019\n",
      "KAZ - 2018\n",
      "NGA - 2018\n",
      "THA - 2018\n"
     ]
    },
    {
     "data": {
      "text/html": [
       "<div>\n",
       "<style scoped>\n",
       "    .dataframe tbody tr th:only-of-type {\n",
       "        vertical-align: middle;\n",
       "    }\n",
       "\n",
       "    .dataframe tbody tr th {\n",
       "        vertical-align: top;\n",
       "    }\n",
       "\n",
       "    .dataframe thead th {\n",
       "        text-align: right;\n",
       "    }\n",
       "</style>\n",
       "<table border=\"1\" class=\"dataframe\">\n",
       "  <thead>\n",
       "    <tr style=\"text-align: right;\">\n",
       "      <th></th>\n",
       "      <th>B_COUNTRY_ALPHA</th>\n",
       "      <th>A_YEAR</th>\n",
       "      <th>most_frequent_label</th>\n",
       "      <th>most_frequent_count</th>\n",
       "      <th>second_most_frequent_label</th>\n",
       "      <th>second_most_frequent_count</th>\n",
       "      <th>has_second_label</th>\n",
       "    </tr>\n",
       "  </thead>\n",
       "  <tbody>\n",
       "    <tr>\n",
       "      <th>0</th>\n",
       "      <td>AND</td>\n",
       "      <td>2018</td>\n",
       "      <td>Q154_2</td>\n",
       "      <td>6</td>\n",
       "      <td>Q154_1</td>\n",
       "      <td>3</td>\n",
       "      <td>True</td>\n",
       "    </tr>\n",
       "    <tr>\n",
       "      <th>1</th>\n",
       "      <td>ARG</td>\n",
       "      <td>2017</td>\n",
       "      <td>Q154_2</td>\n",
       "      <td>2</td>\n",
       "      <td>Q154_1</td>\n",
       "      <td>1</td>\n",
       "      <td>True</td>\n",
       "    </tr>\n",
       "    <tr>\n",
       "      <th>2</th>\n",
       "      <td>ARM</td>\n",
       "      <td>2021</td>\n",
       "      <td>Q154_2</td>\n",
       "      <td>2</td>\n",
       "      <td>Q154_4</td>\n",
       "      <td>1</td>\n",
       "      <td>True</td>\n",
       "    </tr>\n",
       "    <tr>\n",
       "      <th>3</th>\n",
       "      <td>AUS</td>\n",
       "      <td>2018</td>\n",
       "      <td>Q154_1</td>\n",
       "      <td>9</td>\n",
       "      <td>Q154_2</td>\n",
       "      <td>3</td>\n",
       "      <td>True</td>\n",
       "    </tr>\n",
       "    <tr>\n",
       "      <th>4</th>\n",
       "      <td>BGD</td>\n",
       "      <td>2018</td>\n",
       "      <td>Q154_1</td>\n",
       "      <td>2</td>\n",
       "      <td>Q154_2</td>\n",
       "      <td>2</td>\n",
       "      <td>True</td>\n",
       "    </tr>\n",
       "    <tr>\n",
       "      <th>5</th>\n",
       "      <td>BOL</td>\n",
       "      <td>2017</td>\n",
       "      <td>Q154_1</td>\n",
       "      <td>4</td>\n",
       "      <td>Q154_4</td>\n",
       "      <td>3</td>\n",
       "      <td>True</td>\n",
       "    </tr>\n",
       "    <tr>\n",
       "      <th>6</th>\n",
       "      <td>BRA</td>\n",
       "      <td>2018</td>\n",
       "      <td>Q154_4</td>\n",
       "      <td>7</td>\n",
       "      <td>Q154_2</td>\n",
       "      <td>6</td>\n",
       "      <td>True</td>\n",
       "    </tr>\n",
       "    <tr>\n",
       "      <th>7</th>\n",
       "      <td>CAN</td>\n",
       "      <td>2020</td>\n",
       "      <td>Q154_1</td>\n",
       "      <td>4</td>\n",
       "      <td>Q154_2</td>\n",
       "      <td>1</td>\n",
       "      <td>True</td>\n",
       "    </tr>\n",
       "    <tr>\n",
       "      <th>8</th>\n",
       "      <td>CHL</td>\n",
       "      <td>2018</td>\n",
       "      <td>Q154_4</td>\n",
       "      <td>6</td>\n",
       "      <td>Q154_2</td>\n",
       "      <td>5</td>\n",
       "      <td>True</td>\n",
       "    </tr>\n",
       "    <tr>\n",
       "      <th>9</th>\n",
       "      <td>CHN</td>\n",
       "      <td>2018</td>\n",
       "      <td>Q154_1</td>\n",
       "      <td>14</td>\n",
       "      <td>Q154_2</td>\n",
       "      <td>3</td>\n",
       "      <td>True</td>\n",
       "    </tr>\n",
       "    <tr>\n",
       "      <th>10</th>\n",
       "      <td>COL</td>\n",
       "      <td>2018</td>\n",
       "      <td>Q154_2</td>\n",
       "      <td>3</td>\n",
       "      <td>Q154_4</td>\n",
       "      <td>3</td>\n",
       "      <td>True</td>\n",
       "    </tr>\n",
       "    <tr>\n",
       "      <th>11</th>\n",
       "      <td>CYP</td>\n",
       "      <td>2019</td>\n",
       "      <td>Q154_2</td>\n",
       "      <td>3</td>\n",
       "      <td>Q154_1</td>\n",
       "      <td>1</td>\n",
       "      <td>True</td>\n",
       "    </tr>\n",
       "    <tr>\n",
       "      <th>12</th>\n",
       "      <td>CZE</td>\n",
       "      <td>2022</td>\n",
       "      <td>Q154_2</td>\n",
       "      <td>3</td>\n",
       "      <td>Q154_1</td>\n",
       "      <td>1</td>\n",
       "      <td>True</td>\n",
       "    </tr>\n",
       "    <tr>\n",
       "      <th>13</th>\n",
       "      <td>DEU</td>\n",
       "      <td>2018</td>\n",
       "      <td>Q154_1</td>\n",
       "      <td>9</td>\n",
       "      <td>Q154_2</td>\n",
       "      <td>5</td>\n",
       "      <td>True</td>\n",
       "    </tr>\n",
       "    <tr>\n",
       "      <th>14</th>\n",
       "      <td>ECU</td>\n",
       "      <td>2018</td>\n",
       "      <td>Q154_2</td>\n",
       "      <td>8</td>\n",
       "      <td>Q154_1</td>\n",
       "      <td>6</td>\n",
       "      <td>True</td>\n",
       "    </tr>\n",
       "    <tr>\n",
       "      <th>15</th>\n",
       "      <td>EGY</td>\n",
       "      <td>2018</td>\n",
       "      <td>Q154_1</td>\n",
       "      <td>5</td>\n",
       "      <td>Q154_2</td>\n",
       "      <td>4</td>\n",
       "      <td>True</td>\n",
       "    </tr>\n",
       "    <tr>\n",
       "      <th>16</th>\n",
       "      <td>ETH</td>\n",
       "      <td>2020</td>\n",
       "      <td>Q154_1</td>\n",
       "      <td>2</td>\n",
       "      <td>None</td>\n",
       "      <td>0</td>\n",
       "      <td>False</td>\n",
       "    </tr>\n",
       "    <tr>\n",
       "      <th>17</th>\n",
       "      <td>GBR</td>\n",
       "      <td>2022</td>\n",
       "      <td>Q154_2</td>\n",
       "      <td>7</td>\n",
       "      <td>Q154_1</td>\n",
       "      <td>6</td>\n",
       "      <td>True</td>\n",
       "    </tr>\n",
       "    <tr>\n",
       "      <th>18</th>\n",
       "      <td>GRC</td>\n",
       "      <td>2017</td>\n",
       "      <td>Q154_1</td>\n",
       "      <td>5</td>\n",
       "      <td>Q154_4</td>\n",
       "      <td>2</td>\n",
       "      <td>True</td>\n",
       "    </tr>\n",
       "    <tr>\n",
       "      <th>19</th>\n",
       "      <td>GTM</td>\n",
       "      <td>2020</td>\n",
       "      <td>Q154_2</td>\n",
       "      <td>2</td>\n",
       "      <td>None</td>\n",
       "      <td>0</td>\n",
       "      <td>False</td>\n",
       "    </tr>\n",
       "    <tr>\n",
       "      <th>20</th>\n",
       "      <td>IDN</td>\n",
       "      <td>2018</td>\n",
       "      <td>Q154_1</td>\n",
       "      <td>13</td>\n",
       "      <td>Q154_2</td>\n",
       "      <td>4</td>\n",
       "      <td>True</td>\n",
       "    </tr>\n",
       "    <tr>\n",
       "      <th>21</th>\n",
       "      <td>IRN</td>\n",
       "      <td>2020</td>\n",
       "      <td>Q154_2</td>\n",
       "      <td>1</td>\n",
       "      <td>None</td>\n",
       "      <td>0</td>\n",
       "      <td>False</td>\n",
       "    </tr>\n",
       "    <tr>\n",
       "      <th>22</th>\n",
       "      <td>IRQ</td>\n",
       "      <td>2018</td>\n",
       "      <td>Q154_2</td>\n",
       "      <td>2</td>\n",
       "      <td>None</td>\n",
       "      <td>0</td>\n",
       "      <td>False</td>\n",
       "    </tr>\n",
       "    <tr>\n",
       "      <th>23</th>\n",
       "      <td>JOR</td>\n",
       "      <td>2018</td>\n",
       "      <td>Q154_1</td>\n",
       "      <td>7</td>\n",
       "      <td>Q154_2</td>\n",
       "      <td>2</td>\n",
       "      <td>True</td>\n",
       "    </tr>\n",
       "    <tr>\n",
       "      <th>24</th>\n",
       "      <td>JPN</td>\n",
       "      <td>2019</td>\n",
       "      <td>Q154_2</td>\n",
       "      <td>2</td>\n",
       "      <td>None</td>\n",
       "      <td>0</td>\n",
       "      <td>False</td>\n",
       "    </tr>\n",
       "    <tr>\n",
       "      <th>25</th>\n",
       "      <td>KAZ</td>\n",
       "      <td>2018</td>\n",
       "      <td>Q154_1</td>\n",
       "      <td>4</td>\n",
       "      <td>None</td>\n",
       "      <td>0</td>\n",
       "      <td>False</td>\n",
       "    </tr>\n",
       "    <tr>\n",
       "      <th>26</th>\n",
       "      <td>KEN</td>\n",
       "      <td>2021</td>\n",
       "      <td>Q154_1</td>\n",
       "      <td>4</td>\n",
       "      <td>Q154_2</td>\n",
       "      <td>1</td>\n",
       "      <td>True</td>\n",
       "    </tr>\n",
       "    <tr>\n",
       "      <th>27</th>\n",
       "      <td>KGZ</td>\n",
       "      <td>2020</td>\n",
       "      <td>Q154_2</td>\n",
       "      <td>2</td>\n",
       "      <td>Q154_1</td>\n",
       "      <td>1</td>\n",
       "      <td>True</td>\n",
       "    </tr>\n",
       "    <tr>\n",
       "      <th>28</th>\n",
       "      <td>KOR</td>\n",
       "      <td>2018</td>\n",
       "      <td>Q154_1</td>\n",
       "      <td>5</td>\n",
       "      <td>Q154_2</td>\n",
       "      <td>4</td>\n",
       "      <td>True</td>\n",
       "    </tr>\n",
       "    <tr>\n",
       "      <th>29</th>\n",
       "      <td>LBN</td>\n",
       "      <td>2018</td>\n",
       "      <td>Q154_1</td>\n",
       "      <td>5</td>\n",
       "      <td>Q154_2</td>\n",
       "      <td>3</td>\n",
       "      <td>True</td>\n",
       "    </tr>\n",
       "    <tr>\n",
       "      <th>30</th>\n",
       "      <td>LBY</td>\n",
       "      <td>2022</td>\n",
       "      <td>Q154_2</td>\n",
       "      <td>2</td>\n",
       "      <td>Q154_1</td>\n",
       "      <td>1</td>\n",
       "      <td>True</td>\n",
       "    </tr>\n",
       "    <tr>\n",
       "      <th>31</th>\n",
       "      <td>MAR</td>\n",
       "      <td>2021</td>\n",
       "      <td>Q154_2</td>\n",
       "      <td>4</td>\n",
       "      <td>Q154_1</td>\n",
       "      <td>2</td>\n",
       "      <td>True</td>\n",
       "    </tr>\n",
       "    <tr>\n",
       "      <th>32</th>\n",
       "      <td>MDV</td>\n",
       "      <td>2021</td>\n",
       "      <td>Q154_1</td>\n",
       "      <td>2</td>\n",
       "      <td>Q154_2</td>\n",
       "      <td>2</td>\n",
       "      <td>True</td>\n",
       "    </tr>\n",
       "    <tr>\n",
       "      <th>33</th>\n",
       "      <td>MEX</td>\n",
       "      <td>2018</td>\n",
       "      <td>Q154_1</td>\n",
       "      <td>2</td>\n",
       "      <td>Q154_2</td>\n",
       "      <td>2</td>\n",
       "      <td>True</td>\n",
       "    </tr>\n",
       "    <tr>\n",
       "      <th>34</th>\n",
       "      <td>MMR</td>\n",
       "      <td>2020</td>\n",
       "      <td>Q154_1</td>\n",
       "      <td>4</td>\n",
       "      <td>Q154_2</td>\n",
       "      <td>4</td>\n",
       "      <td>True</td>\n",
       "    </tr>\n",
       "    <tr>\n",
       "      <th>35</th>\n",
       "      <td>MNG</td>\n",
       "      <td>2020</td>\n",
       "      <td>Q154_1</td>\n",
       "      <td>2</td>\n",
       "      <td>Q154_3</td>\n",
       "      <td>1</td>\n",
       "      <td>True</td>\n",
       "    </tr>\n",
       "    <tr>\n",
       "      <th>36</th>\n",
       "      <td>MYS</td>\n",
       "      <td>2018</td>\n",
       "      <td>Q154_1</td>\n",
       "      <td>5</td>\n",
       "      <td>Q154_2</td>\n",
       "      <td>2</td>\n",
       "      <td>True</td>\n",
       "    </tr>\n",
       "    <tr>\n",
       "      <th>37</th>\n",
       "      <td>NGA</td>\n",
       "      <td>2018</td>\n",
       "      <td>Q154_1</td>\n",
       "      <td>4</td>\n",
       "      <td>None</td>\n",
       "      <td>0</td>\n",
       "      <td>False</td>\n",
       "    </tr>\n",
       "    <tr>\n",
       "      <th>38</th>\n",
       "      <td>NIC</td>\n",
       "      <td>2020</td>\n",
       "      <td>Q154_2</td>\n",
       "      <td>3</td>\n",
       "      <td>Q154_4</td>\n",
       "      <td>3</td>\n",
       "      <td>True</td>\n",
       "    </tr>\n",
       "    <tr>\n",
       "      <th>39</th>\n",
       "      <td>NLD</td>\n",
       "      <td>2022</td>\n",
       "      <td>Q154_1</td>\n",
       "      <td>4</td>\n",
       "      <td>Q154_4</td>\n",
       "      <td>1</td>\n",
       "      <td>True</td>\n",
       "    </tr>\n",
       "    <tr>\n",
       "      <th>40</th>\n",
       "      <td>NZL</td>\n",
       "      <td>2020</td>\n",
       "      <td>Q154_1</td>\n",
       "      <td>3</td>\n",
       "      <td>Q154_2</td>\n",
       "      <td>2</td>\n",
       "      <td>True</td>\n",
       "    </tr>\n",
       "    <tr>\n",
       "      <th>41</th>\n",
       "      <td>PAK</td>\n",
       "      <td>2018</td>\n",
       "      <td>Q154_1</td>\n",
       "      <td>7</td>\n",
       "      <td>Q154_2</td>\n",
       "      <td>3</td>\n",
       "      <td>True</td>\n",
       "    </tr>\n",
       "    <tr>\n",
       "      <th>42</th>\n",
       "      <td>PER</td>\n",
       "      <td>2018</td>\n",
       "      <td>Q154_2</td>\n",
       "      <td>3</td>\n",
       "      <td>Q154_3</td>\n",
       "      <td>1</td>\n",
       "      <td>True</td>\n",
       "    </tr>\n",
       "    <tr>\n",
       "      <th>43</th>\n",
       "      <td>PHL</td>\n",
       "      <td>2019</td>\n",
       "      <td>Q154_1</td>\n",
       "      <td>10</td>\n",
       "      <td>Q154_2</td>\n",
       "      <td>2</td>\n",
       "      <td>True</td>\n",
       "    </tr>\n",
       "    <tr>\n",
       "      <th>44</th>\n",
       "      <td>ROU</td>\n",
       "      <td>2018</td>\n",
       "      <td>Q154_1</td>\n",
       "      <td>4</td>\n",
       "      <td>Q154_2</td>\n",
       "      <td>4</td>\n",
       "      <td>True</td>\n",
       "    </tr>\n",
       "    <tr>\n",
       "      <th>45</th>\n",
       "      <td>RUS</td>\n",
       "      <td>2017</td>\n",
       "      <td>Q154_1</td>\n",
       "      <td>5</td>\n",
       "      <td>Q154_4</td>\n",
       "      <td>5</td>\n",
       "      <td>True</td>\n",
       "    </tr>\n",
       "    <tr>\n",
       "      <th>46</th>\n",
       "      <td>SGP</td>\n",
       "      <td>2020</td>\n",
       "      <td>Q154_2</td>\n",
       "      <td>5</td>\n",
       "      <td>Q154_1</td>\n",
       "      <td>2</td>\n",
       "      <td>True</td>\n",
       "    </tr>\n",
       "    <tr>\n",
       "      <th>47</th>\n",
       "      <td>SRB</td>\n",
       "      <td>2017</td>\n",
       "      <td>Q154_1</td>\n",
       "      <td>4</td>\n",
       "      <td>Q154_4</td>\n",
       "      <td>1</td>\n",
       "      <td>True</td>\n",
       "    </tr>\n",
       "    <tr>\n",
       "      <th>48</th>\n",
       "      <td>SVK</td>\n",
       "      <td>2022</td>\n",
       "      <td>Q154_1</td>\n",
       "      <td>3</td>\n",
       "      <td>Q154_4</td>\n",
       "      <td>2</td>\n",
       "      <td>True</td>\n",
       "    </tr>\n",
       "    <tr>\n",
       "      <th>49</th>\n",
       "      <td>THA</td>\n",
       "      <td>2018</td>\n",
       "      <td>Q154_2</td>\n",
       "      <td>3</td>\n",
       "      <td>None</td>\n",
       "      <td>0</td>\n",
       "      <td>False</td>\n",
       "    </tr>\n",
       "    <tr>\n",
       "      <th>50</th>\n",
       "      <td>TJK</td>\n",
       "      <td>2020</td>\n",
       "      <td>Q154_1</td>\n",
       "      <td>3</td>\n",
       "      <td>Q154_4</td>\n",
       "      <td>2</td>\n",
       "      <td>True</td>\n",
       "    </tr>\n",
       "    <tr>\n",
       "      <th>51</th>\n",
       "      <td>TUN</td>\n",
       "      <td>2019</td>\n",
       "      <td>Q154_1</td>\n",
       "      <td>3</td>\n",
       "      <td>Q154_2</td>\n",
       "      <td>2</td>\n",
       "      <td>True</td>\n",
       "    </tr>\n",
       "    <tr>\n",
       "      <th>52</th>\n",
       "      <td>TUR</td>\n",
       "      <td>2018</td>\n",
       "      <td>Q154_2</td>\n",
       "      <td>6</td>\n",
       "      <td>Q154_4</td>\n",
       "      <td>3</td>\n",
       "      <td>True</td>\n",
       "    </tr>\n",
       "    <tr>\n",
       "      <th>53</th>\n",
       "      <td>UKR</td>\n",
       "      <td>2020</td>\n",
       "      <td>Q154_2</td>\n",
       "      <td>3</td>\n",
       "      <td>Q154_1</td>\n",
       "      <td>2</td>\n",
       "      <td>True</td>\n",
       "    </tr>\n",
       "    <tr>\n",
       "      <th>54</th>\n",
       "      <td>URY</td>\n",
       "      <td>2022</td>\n",
       "      <td>Q154_3</td>\n",
       "      <td>3</td>\n",
       "      <td>Q154_1</td>\n",
       "      <td>2</td>\n",
       "      <td>True</td>\n",
       "    </tr>\n",
       "    <tr>\n",
       "      <th>55</th>\n",
       "      <td>USA</td>\n",
       "      <td>2017</td>\n",
       "      <td>Q154_1</td>\n",
       "      <td>15</td>\n",
       "      <td>Q154_2</td>\n",
       "      <td>3</td>\n",
       "      <td>True</td>\n",
       "    </tr>\n",
       "    <tr>\n",
       "      <th>56</th>\n",
       "      <td>UZB</td>\n",
       "      <td>2022</td>\n",
       "      <td>Q154_1</td>\n",
       "      <td>4</td>\n",
       "      <td>Q154_2</td>\n",
       "      <td>1</td>\n",
       "      <td>True</td>\n",
       "    </tr>\n",
       "    <tr>\n",
       "      <th>57</th>\n",
       "      <td>VEN</td>\n",
       "      <td>2021</td>\n",
       "      <td>Q154_2</td>\n",
       "      <td>4</td>\n",
       "      <td>Q154_1</td>\n",
       "      <td>2</td>\n",
       "      <td>True</td>\n",
       "    </tr>\n",
       "    <tr>\n",
       "      <th>58</th>\n",
       "      <td>VNM</td>\n",
       "      <td>2020</td>\n",
       "      <td>Q154_1</td>\n",
       "      <td>4</td>\n",
       "      <td>Q154_2</td>\n",
       "      <td>3</td>\n",
       "      <td>True</td>\n",
       "    </tr>\n",
       "    <tr>\n",
       "      <th>59</th>\n",
       "      <td>ZWE</td>\n",
       "      <td>2020</td>\n",
       "      <td>Q154_1</td>\n",
       "      <td>6</td>\n",
       "      <td>Q154_2</td>\n",
       "      <td>2</td>\n",
       "      <td>True</td>\n",
       "    </tr>\n",
       "  </tbody>\n",
       "</table>\n",
       "</div>"
      ],
      "text/plain": [
       "   B_COUNTRY_ALPHA  A_YEAR most_frequent_label  most_frequent_count  \\\n",
       "0              AND    2018              Q154_2                    6   \n",
       "1              ARG    2017              Q154_2                    2   \n",
       "2              ARM    2021              Q154_2                    2   \n",
       "3              AUS    2018              Q154_1                    9   \n",
       "4              BGD    2018              Q154_1                    2   \n",
       "5              BOL    2017              Q154_1                    4   \n",
       "6              BRA    2018              Q154_4                    7   \n",
       "7              CAN    2020              Q154_1                    4   \n",
       "8              CHL    2018              Q154_4                    6   \n",
       "9              CHN    2018              Q154_1                   14   \n",
       "10             COL    2018              Q154_2                    3   \n",
       "11             CYP    2019              Q154_2                    3   \n",
       "12             CZE    2022              Q154_2                    3   \n",
       "13             DEU    2018              Q154_1                    9   \n",
       "14             ECU    2018              Q154_2                    8   \n",
       "15             EGY    2018              Q154_1                    5   \n",
       "16             ETH    2020              Q154_1                    2   \n",
       "17             GBR    2022              Q154_2                    7   \n",
       "18             GRC    2017              Q154_1                    5   \n",
       "19             GTM    2020              Q154_2                    2   \n",
       "20             IDN    2018              Q154_1                   13   \n",
       "21             IRN    2020              Q154_2                    1   \n",
       "22             IRQ    2018              Q154_2                    2   \n",
       "23             JOR    2018              Q154_1                    7   \n",
       "24             JPN    2019              Q154_2                    2   \n",
       "25             KAZ    2018              Q154_1                    4   \n",
       "26             KEN    2021              Q154_1                    4   \n",
       "27             KGZ    2020              Q154_2                    2   \n",
       "28             KOR    2018              Q154_1                    5   \n",
       "29             LBN    2018              Q154_1                    5   \n",
       "30             LBY    2022              Q154_2                    2   \n",
       "31             MAR    2021              Q154_2                    4   \n",
       "32             MDV    2021              Q154_1                    2   \n",
       "33             MEX    2018              Q154_1                    2   \n",
       "34             MMR    2020              Q154_1                    4   \n",
       "35             MNG    2020              Q154_1                    2   \n",
       "36             MYS    2018              Q154_1                    5   \n",
       "37             NGA    2018              Q154_1                    4   \n",
       "38             NIC    2020              Q154_2                    3   \n",
       "39             NLD    2022              Q154_1                    4   \n",
       "40             NZL    2020              Q154_1                    3   \n",
       "41             PAK    2018              Q154_1                    7   \n",
       "42             PER    2018              Q154_2                    3   \n",
       "43             PHL    2019              Q154_1                   10   \n",
       "44             ROU    2018              Q154_1                    4   \n",
       "45             RUS    2017              Q154_1                    5   \n",
       "46             SGP    2020              Q154_2                    5   \n",
       "47             SRB    2017              Q154_1                    4   \n",
       "48             SVK    2022              Q154_1                    3   \n",
       "49             THA    2018              Q154_2                    3   \n",
       "50             TJK    2020              Q154_1                    3   \n",
       "51             TUN    2019              Q154_1                    3   \n",
       "52             TUR    2018              Q154_2                    6   \n",
       "53             UKR    2020              Q154_2                    3   \n",
       "54             URY    2022              Q154_3                    3   \n",
       "55             USA    2017              Q154_1                   15   \n",
       "56             UZB    2022              Q154_1                    4   \n",
       "57             VEN    2021              Q154_2                    4   \n",
       "58             VNM    2020              Q154_1                    4   \n",
       "59             ZWE    2020              Q154_1                    6   \n",
       "\n",
       "   second_most_frequent_label  second_most_frequent_count  has_second_label  \n",
       "0                      Q154_1                           3              True  \n",
       "1                      Q154_1                           1              True  \n",
       "2                      Q154_4                           1              True  \n",
       "3                      Q154_2                           3              True  \n",
       "4                      Q154_2                           2              True  \n",
       "5                      Q154_4                           3              True  \n",
       "6                      Q154_2                           6              True  \n",
       "7                      Q154_2                           1              True  \n",
       "8                      Q154_2                           5              True  \n",
       "9                      Q154_2                           3              True  \n",
       "10                     Q154_4                           3              True  \n",
       "11                     Q154_1                           1              True  \n",
       "12                     Q154_1                           1              True  \n",
       "13                     Q154_2                           5              True  \n",
       "14                     Q154_1                           6              True  \n",
       "15                     Q154_2                           4              True  \n",
       "16                       None                           0             False  \n",
       "17                     Q154_1                           6              True  \n",
       "18                     Q154_4                           2              True  \n",
       "19                       None                           0             False  \n",
       "20                     Q154_2                           4              True  \n",
       "21                       None                           0             False  \n",
       "22                       None                           0             False  \n",
       "23                     Q154_2                           2              True  \n",
       "24                       None                           0             False  \n",
       "25                       None                           0             False  \n",
       "26                     Q154_2                           1              True  \n",
       "27                     Q154_1                           1              True  \n",
       "28                     Q154_2                           4              True  \n",
       "29                     Q154_2                           3              True  \n",
       "30                     Q154_1                           1              True  \n",
       "31                     Q154_1                           2              True  \n",
       "32                     Q154_2                           2              True  \n",
       "33                     Q154_2                           2              True  \n",
       "34                     Q154_2                           4              True  \n",
       "35                     Q154_3                           1              True  \n",
       "36                     Q154_2                           2              True  \n",
       "37                       None                           0             False  \n",
       "38                     Q154_4                           3              True  \n",
       "39                     Q154_4                           1              True  \n",
       "40                     Q154_2                           2              True  \n",
       "41                     Q154_2                           3              True  \n",
       "42                     Q154_3                           1              True  \n",
       "43                     Q154_2                           2              True  \n",
       "44                     Q154_2                           4              True  \n",
       "45                     Q154_4                           5              True  \n",
       "46                     Q154_1                           2              True  \n",
       "47                     Q154_4                           1              True  \n",
       "48                     Q154_4                           2              True  \n",
       "49                       None                           0             False  \n",
       "50                     Q154_4                           2              True  \n",
       "51                     Q154_2                           2              True  \n",
       "52                     Q154_4                           3              True  \n",
       "53                     Q154_1                           2              True  \n",
       "54                     Q154_1                           2              True  \n",
       "55                     Q154_2                           3              True  \n",
       "56                     Q154_2                           1              True  \n",
       "57                     Q154_1                           2              True  \n",
       "58                     Q154_2                           3              True  \n",
       "59                     Q154_2                           2              True  "
      ]
     },
     "metadata": {},
     "output_type": "display_data"
    }
   ],
   "source": [
    "## (Post-Processing) ##\n",
    "\n",
    "# This code analyzes predicted labels per country-year from the predictions dataset,\n",
    "# identifies the most and second most frequent labels for each country-year (Q154 and Q155, respectively),\n",
    "# filters to keep only country-years present in the WVS dataset,\n",
    "# then lists country-years missing a second most frequent label,\n",
    "# and finally displays and saves the summarized results.\n",
    "\n",
    "%run get_q154_q155_frequencies.py"
   ]
  },
  {
   "cell_type": "code",
   "execution_count": 6,
   "id": "d3f6a34f",
   "metadata": {},
   "outputs": [
    {
     "data": {
      "application/vnd.plotly.v1+json": {
       "config": {
        "plotlyServerURL": "https://plot.ly"
       },
       "data": [
        {
         "hovertemplate": "<b>%{hovertext}</b><br><br>Country=%{x}<br>Proportion of Q154_1=%{y}<br>Sentence Count=%{marker.size}<extra></extra>",
         "hovertext": [
          "AND"
         ],
         "legendgroup": "AND",
         "marker": {
          "color": "#636efa",
          "size": {
           "bdata": "Dg==",
           "dtype": "i1"
          },
          "sizemode": "area",
          "sizeref": 0.04,
          "symbol": "circle"
         },
         "mode": "markers",
         "name": "AND",
         "orientation": "v",
         "showlegend": true,
         "type": "scatter",
         "x": [
          "AND"
         ],
         "xaxis": "x",
         "y": {
          "bdata": "TK4gJlcQ0z8=",
          "dtype": "f8"
         },
         "yaxis": "y"
        },
        {
         "hovertemplate": "<b>%{hovertext}</b><br><br>Country=%{x}<br>Proportion of Q154_1=%{y}<br>Sentence Count=%{marker.size}<extra></extra>",
         "hovertext": [
          "ARG"
         ],
         "legendgroup": "ARG",
         "marker": {
          "color": "#EF553B",
          "size": {
           "bdata": "CQ==",
           "dtype": "i1"
          },
          "sizemode": "area",
          "sizeref": 0.04,
          "symbol": "circle"
         },
         "mode": "markers",
         "name": "ARG",
         "orientation": "v",
         "showlegend": true,
         "type": "scatter",
         "x": [
          "ARG"
         ],
         "xaxis": "x",
         "y": {
          "bdata": "UAd1UAd10D8=",
          "dtype": "f8"
         },
         "yaxis": "y"
        },
        {
         "hovertemplate": "<b>%{hovertext}</b><br><br>Country=%{x}<br>Proportion of Q154_1=%{y}<br>Sentence Count=%{marker.size}<extra></extra>",
         "hovertext": [
          "ARM"
         ],
         "legendgroup": "ARM",
         "marker": {
          "color": "#00cc96",
          "size": {
           "bdata": "Cw==",
           "dtype": "i1"
          },
          "sizemode": "area",
          "sizeref": 0.04,
          "symbol": "circle"
         },
         "mode": "markers",
         "name": "ARM",
         "orientation": "v",
         "showlegend": true,
         "type": "scatter",
         "x": [
          "ARM"
         ],
         "xaxis": "x",
         "y": {
          "bdata": "AAAAAAAA1j8=",
          "dtype": "f8"
         },
         "yaxis": "y"
        },
        {
         "hovertemplate": "<b>%{hovertext}</b><br><br>Country=%{x}<br>Proportion of Q154_1=%{y}<br>Sentence Count=%{marker.size}<extra></extra>",
         "hovertext": [
          "AUS"
         ],
         "legendgroup": "AUS",
         "marker": {
          "color": "#ab63fa",
          "size": {
           "bdata": "Hg==",
           "dtype": "i1"
          },
          "sizemode": "area",
          "sizeref": 0.04,
          "symbol": "circle"
         },
         "mode": "markers",
         "name": "AUS",
         "orientation": "v",
         "showlegend": true,
         "type": "scatter",
         "x": [
          "AUS"
         ],
         "xaxis": "x",
         "y": {
          "bdata": "3dMIyz2N4D8=",
          "dtype": "f8"
         },
         "yaxis": "y"
        },
        {
         "hovertemplate": "<b>%{hovertext}</b><br><br>Country=%{x}<br>Proportion of Q154_1=%{y}<br>Sentence Count=%{marker.size}<extra></extra>",
         "hovertext": [
          "BGD"
         ],
         "legendgroup": "BGD",
         "marker": {
          "color": "#FFA15A",
          "size": {
           "bdata": "Dw==",
           "dtype": "i1"
          },
          "sizemode": "area",
          "sizeref": 0.04,
          "symbol": "circle"
         },
         "mode": "markers",
         "name": "BGD",
         "orientation": "v",
         "showlegend": true,
         "type": "scatter",
         "x": [
          "BGD"
         ],
         "xaxis": "x",
         "y": {
          "bdata": "PDw8PDw83D8=",
          "dtype": "f8"
         },
         "yaxis": "y"
        },
        {
         "hovertemplate": "<b>%{hovertext}</b><br><br>Country=%{x}<br>Proportion of Q154_1=%{y}<br>Sentence Count=%{marker.size}<extra></extra>",
         "hovertext": [
          "BOL"
         ],
         "legendgroup": "BOL",
         "marker": {
          "color": "#19d3f3",
          "size": {
           "bdata": "EA==",
           "dtype": "i1"
          },
          "sizemode": "area",
          "sizeref": 0.04,
          "symbol": "circle"
         },
         "mode": "markers",
         "name": "BOL",
         "orientation": "v",
         "showlegend": true,
         "type": "scatter",
         "x": [
          "BOL"
         ],
         "xaxis": "x",
         "y": {
          "bdata": "ZCELWchC1j8=",
          "dtype": "f8"
         },
         "yaxis": "y"
        },
        {
         "hovertemplate": "<b>%{hovertext}</b><br><br>Country=%{x}<br>Proportion of Q154_1=%{y}<br>Sentence Count=%{marker.size}<extra></extra>",
         "hovertext": [
          "BRA"
         ],
         "legendgroup": "BRA",
         "marker": {
          "color": "#FF6692",
          "size": {
           "bdata": "Cw==",
           "dtype": "i1"
          },
          "sizemode": "area",
          "sizeref": 0.04,
          "symbol": "circle"
         },
         "mode": "markers",
         "name": "BRA",
         "orientation": "v",
         "showlegend": true,
         "type": "scatter",
         "x": [
          "BRA"
         ],
         "xaxis": "x",
         "y": {
          "bdata": "mpmZmZmZ0T8=",
          "dtype": "f8"
         },
         "yaxis": "y"
        },
        {
         "hovertemplate": "<b>%{hovertext}</b><br><br>Country=%{x}<br>Proportion of Q154_1=%{y}<br>Sentence Count=%{marker.size}<extra></extra>",
         "hovertext": [
          "CAN"
         ],
         "legendgroup": "CAN",
         "marker": {
          "color": "#B6E880",
          "size": {
           "bdata": "FA==",
           "dtype": "i1"
          },
          "sizemode": "area",
          "sizeref": 0.04,
          "symbol": "circle"
         },
         "mode": "markers",
         "name": "CAN",
         "orientation": "v",
         "showlegend": true,
         "type": "scatter",
         "x": [
          "CAN"
         ],
         "xaxis": "x",
         "y": {
          "bdata": "TGcxncV01j8=",
          "dtype": "f8"
         },
         "yaxis": "y"
        },
        {
         "hovertemplate": "<b>%{hovertext}</b><br><br>Country=%{x}<br>Proportion of Q154_1=%{y}<br>Sentence Count=%{marker.size}<extra></extra>",
         "hovertext": [
          "CHL"
         ],
         "legendgroup": "CHL",
         "marker": {
          "color": "#FF97FF",
          "size": {
           "bdata": "Cg==",
           "dtype": "i1"
          },
          "sizemode": "area",
          "sizeref": 0.04,
          "symbol": "circle"
         },
         "mode": "markers",
         "name": "CHL",
         "orientation": "v",
         "showlegend": true,
         "type": "scatter",
         "x": [
          "CHL"
         ],
         "xaxis": "x",
         "y": {
          "bdata": "GRkZGRkZyT8=",
          "dtype": "f8"
         },
         "yaxis": "y"
        },
        {
         "hovertemplate": "<b>%{hovertext}</b><br><br>Country=%{x}<br>Proportion of Q154_1=%{y}<br>Sentence Count=%{marker.size}<extra></extra>",
         "hovertext": [
          "CHN"
         ],
         "legendgroup": "CHN",
         "marker": {
          "color": "#FECB52",
          "size": {
           "bdata": "QA==",
           "dtype": "i1"
          },
          "sizemode": "area",
          "sizeref": 0.04,
          "symbol": "circle"
         },
         "mode": "markers",
         "name": "CHN",
         "orientation": "v",
         "showlegend": true,
         "type": "scatter",
         "x": [
          "CHN"
         ],
         "xaxis": "x",
         "y": {
          "bdata": "exSuR+F65D8=",
          "dtype": "f8"
         },
         "yaxis": "y"
        },
        {
         "hovertemplate": "<b>%{hovertext}</b><br><br>Country=%{x}<br>Proportion of Q154_1=%{y}<br>Sentence Count=%{marker.size}<extra></extra>",
         "hovertext": [
          "COL"
         ],
         "legendgroup": "COL",
         "marker": {
          "color": "#636efa",
          "size": {
           "bdata": "DA==",
           "dtype": "i1"
          },
          "sizemode": "area",
          "sizeref": 0.04,
          "symbol": "circle"
         },
         "mode": "markers",
         "name": "COL",
         "orientation": "v",
         "showlegend": true,
         "type": "scatter",
         "x": [
          "COL"
         ],
         "xaxis": "x",
         "y": {
          "bdata": "HEyRz7rB1D8=",
          "dtype": "f8"
         },
         "yaxis": "y"
        },
        {
         "hovertemplate": "<b>%{hovertext}</b><br><br>Country=%{x}<br>Proportion of Q154_1=%{y}<br>Sentence Count=%{marker.size}<extra></extra>",
         "hovertext": [
          "CYP"
         ],
         "legendgroup": "CYP",
         "marker": {
          "color": "#EF553B",
          "size": {
           "bdata": "DQ==",
           "dtype": "i1"
          },
          "sizemode": "area",
          "sizeref": 0.04,
          "symbol": "circle"
         },
         "mode": "markers",
         "name": "CYP",
         "orientation": "v",
         "showlegend": true,
         "type": "scatter",
         "x": [
          "CYP"
         ],
         "xaxis": "x",
         "y": {
          "bdata": "AAAAAAAA4D8=",
          "dtype": "f8"
         },
         "yaxis": "y"
        },
        {
         "hovertemplate": "<b>%{hovertext}</b><br><br>Country=%{x}<br>Proportion of Q154_1=%{y}<br>Sentence Count=%{marker.size}<extra></extra>",
         "hovertext": [
          "CZE"
         ],
         "legendgroup": "CZE",
         "marker": {
          "color": "#00cc96",
          "size": {
           "bdata": "EA==",
           "dtype": "i1"
          },
          "sizemode": "area",
          "sizeref": 0.04,
          "symbol": "circle"
         },
         "mode": "markers",
         "name": "CZE",
         "orientation": "v",
         "showlegend": true,
         "type": "scatter",
         "x": [
          "CZE"
         ],
         "xaxis": "x",
         "y": {
          "bdata": "Hh4eHh4e3j8=",
          "dtype": "f8"
         },
         "yaxis": "y"
        },
        {
         "hovertemplate": "<b>%{hovertext}</b><br><br>Country=%{x}<br>Proportion of Q154_1=%{y}<br>Sentence Count=%{marker.size}<extra></extra>",
         "hovertext": [
          "DEU"
         ],
         "legendgroup": "DEU",
         "marker": {
          "color": "#ab63fa",
          "size": {
           "bdata": "JA==",
           "dtype": "i1"
          },
          "sizemode": "area",
          "sizeref": 0.04,
          "symbol": "circle"
         },
         "mode": "markers",
         "name": "DEU",
         "orientation": "v",
         "showlegend": true,
         "type": "scatter",
         "x": [
          "DEU"
         ],
         "xaxis": "x",
         "y": {
          "bdata": "/Pjx48eP3z8=",
          "dtype": "f8"
         },
         "yaxis": "y"
        },
        {
         "hovertemplate": "<b>%{hovertext}</b><br><br>Country=%{x}<br>Proportion of Q154_1=%{y}<br>Sentence Count=%{marker.size}<extra></extra>",
         "hovertext": [
          "ECU"
         ],
         "legendgroup": "ECU",
         "marker": {
          "color": "#FFA15A",
          "size": {
           "bdata": "Gw==",
           "dtype": "i1"
          },
          "sizemode": "area",
          "sizeref": 0.04,
          "symbol": "circle"
         },
         "mode": "markers",
         "name": "ECU",
         "orientation": "v",
         "showlegend": true,
         "type": "scatter",
         "x": [
          "ECU"
         ],
         "xaxis": "x",
         "y": {
          "bdata": "zczMzMzM3D8=",
          "dtype": "f8"
         },
         "yaxis": "y"
        },
        {
         "hovertemplate": "<b>%{hovertext}</b><br><br>Country=%{x}<br>Proportion of Q154_1=%{y}<br>Sentence Count=%{marker.size}<extra></extra>",
         "hovertext": [
          "EGY"
         ],
         "legendgroup": "EGY",
         "marker": {
          "color": "#19d3f3",
          "size": {
           "bdata": "Iw==",
           "dtype": "i1"
          },
          "sizemode": "area",
          "sizeref": 0.04,
          "symbol": "circle"
         },
         "mode": "markers",
         "name": "EGY",
         "orientation": "v",
         "showlegend": true,
         "type": "scatter",
         "x": [
          "EGY"
         ],
         "xaxis": "x",
         "y": {
          "bdata": "E4y3ss8h5T8=",
          "dtype": "f8"
         },
         "yaxis": "y"
        },
        {
         "hovertemplate": "<b>%{hovertext}</b><br><br>Country=%{x}<br>Proportion of Q154_1=%{y}<br>Sentence Count=%{marker.size}<extra></extra>",
         "hovertext": [
          "ETH"
         ],
         "legendgroup": "ETH",
         "marker": {
          "color": "#FF6692",
          "size": {
           "bdata": "EA==",
           "dtype": "i1"
          },
          "sizemode": "area",
          "sizeref": 0.04,
          "symbol": "circle"
         },
         "mode": "markers",
         "name": "ETH",
         "orientation": "v",
         "showlegend": true,
         "type": "scatter",
         "x": [
          "ETH"
         ],
         "xaxis": "x",
         "y": {
          "bdata": "0LrBFPms2z8=",
          "dtype": "f8"
         },
         "yaxis": "y"
        },
        {
         "hovertemplate": "<b>%{hovertext}</b><br><br>Country=%{x}<br>Proportion of Q154_1=%{y}<br>Sentence Count=%{marker.size}<extra></extra>",
         "hovertext": [
          "GBR"
         ],
         "legendgroup": "GBR",
         "marker": {
          "color": "#B6E880",
          "size": {
           "bdata": "Dg==",
           "dtype": "i1"
          },
          "sizemode": "area",
          "sizeref": 0.04,
          "symbol": "circle"
         },
         "mode": "markers",
         "name": "GBR",
         "orientation": "v",
         "showlegend": true,
         "type": "scatter",
         "x": [
          "GBR"
         ],
         "xaxis": "x",
         "y": {
          "bdata": "XXTRRRdd1D8=",
          "dtype": "f8"
         },
         "yaxis": "y"
        },
        {
         "hovertemplate": "<b>%{hovertext}</b><br><br>Country=%{x}<br>Proportion of Q154_1=%{y}<br>Sentence Count=%{marker.size}<extra></extra>",
         "hovertext": [
          "GRC"
         ],
         "legendgroup": "GRC",
         "marker": {
          "color": "#FF97FF",
          "size": {
           "bdata": "EA==",
           "dtype": "i1"
          },
          "sizemode": "area",
          "sizeref": 0.04,
          "symbol": "circle"
         },
         "mode": "markers",
         "name": "GRC",
         "orientation": "v",
         "showlegend": true,
         "type": "scatter",
         "x": [
          "GRC"
         ],
         "xaxis": "x",
         "y": {
          "bdata": "CB988MEH3z8=",
          "dtype": "f8"
         },
         "yaxis": "y"
        },
        {
         "hovertemplate": "<b>%{hovertext}</b><br><br>Country=%{x}<br>Proportion of Q154_1=%{y}<br>Sentence Count=%{marker.size}<extra></extra>",
         "hovertext": [
          "GTM"
         ],
         "legendgroup": "GTM",
         "marker": {
          "color": "#FECB52",
          "size": {
           "bdata": "DQ==",
           "dtype": "i1"
          },
          "sizemode": "area",
          "sizeref": 0.04,
          "symbol": "circle"
         },
         "mode": "markers",
         "name": "GTM",
         "orientation": "v",
         "showlegend": true,
         "type": "scatter",
         "x": [
          "GTM"
         ],
         "xaxis": "x",
         "y": {
          "bdata": "6aKLLrro4j8=",
          "dtype": "f8"
         },
         "yaxis": "y"
        },
        {
         "hovertemplate": "<b>%{hovertext}</b><br><br>Country=%{x}<br>Proportion of Q154_1=%{y}<br>Sentence Count=%{marker.size}<extra></extra>",
         "hovertext": [
          "IDN"
         ],
         "legendgroup": "IDN",
         "marker": {
          "color": "#636efa",
          "size": {
           "bdata": "LA==",
           "dtype": "i1"
          },
          "sizemode": "area",
          "sizeref": 0.04,
          "symbol": "circle"
         },
         "mode": "markers",
         "name": "IDN",
         "orientation": "v",
         "showlegend": true,
         "type": "scatter",
         "x": [
          "IDN"
         ],
         "xaxis": "x",
         "y": {
          "bdata": "bCivobyG4j8=",
          "dtype": "f8"
         },
         "yaxis": "y"
        },
        {
         "hovertemplate": "<b>%{hovertext}</b><br><br>Country=%{x}<br>Proportion of Q154_1=%{y}<br>Sentence Count=%{marker.size}<extra></extra>",
         "hovertext": [
          "IND"
         ],
         "legendgroup": "IND",
         "marker": {
          "color": "#EF553B",
          "size": {
           "bdata": "CA==",
           "dtype": "i1"
          },
          "sizemode": "area",
          "sizeref": 0.04,
          "symbol": "circle"
         },
         "mode": "markers",
         "name": "IND",
         "orientation": "v",
         "showlegend": true,
         "type": "scatter",
         "x": [
          "IND"
         ],
         "xaxis": "x",
         "y": {
          "bdata": "GqRBGqRByj8=",
          "dtype": "f8"
         },
         "yaxis": "y"
        },
        {
         "hovertemplate": "<b>%{hovertext}</b><br><br>Country=%{x}<br>Proportion of Q154_1=%{y}<br>Sentence Count=%{marker.size}<extra></extra>",
         "hovertext": [
          "IRN"
         ],
         "legendgroup": "IRN",
         "marker": {
          "color": "#00cc96",
          "size": {
           "bdata": "IQ==",
           "dtype": "i1"
          },
          "sizemode": "area",
          "sizeref": 0.04,
          "symbol": "circle"
         },
         "mode": "markers",
         "name": "IRN",
         "orientation": "v",
         "showlegend": true,
         "type": "scatter",
         "x": [
          "IRN"
         ],
         "xaxis": "x",
         "y": {
          "bdata": "H4XrUbge5T8=",
          "dtype": "f8"
         },
         "yaxis": "y"
        },
        {
         "hovertemplate": "<b>%{hovertext}</b><br><br>Country=%{x}<br>Proportion of Q154_1=%{y}<br>Sentence Count=%{marker.size}<extra></extra>",
         "hovertext": [
          "IRQ"
         ],
         "legendgroup": "IRQ",
         "marker": {
          "color": "#ab63fa",
          "size": {
           "bdata": "Jw==",
           "dtype": "i1"
          },
          "sizemode": "area",
          "sizeref": 0.04,
          "symbol": "circle"
         },
         "mode": "markers",
         "name": "IRQ",
         "orientation": "v",
         "showlegend": true,
         "type": "scatter",
         "x": [
          "IRQ"
         ],
         "xaxis": "x",
         "y": {
          "bdata": "UV5DeQ3l5T8=",
          "dtype": "f8"
         },
         "yaxis": "y"
        },
        {
         "hovertemplate": "<b>%{hovertext}</b><br><br>Country=%{x}<br>Proportion of Q154_1=%{y}<br>Sentence Count=%{marker.size}<extra></extra>",
         "hovertext": [
          "JOR"
         ],
         "legendgroup": "JOR",
         "marker": {
          "color": "#FFA15A",
          "size": {
           "bdata": "Ew==",
           "dtype": "i1"
          },
          "sizemode": "area",
          "sizeref": 0.04,
          "symbol": "circle"
         },
         "mode": "markers",
         "name": "JOR",
         "orientation": "v",
         "showlegend": true,
         "type": "scatter",
         "x": [
          "JOR"
         ],
         "xaxis": "x",
         "y": {
          "bdata": "8RVf8RVf4T8=",
          "dtype": "f8"
         },
         "yaxis": "y"
        },
        {
         "hovertemplate": "<b>%{hovertext}</b><br><br>Country=%{x}<br>Proportion of Q154_1=%{y}<br>Sentence Count=%{marker.size}<extra></extra>",
         "hovertext": [
          "JPN"
         ],
         "legendgroup": "JPN",
         "marker": {
          "color": "#19d3f3",
          "size": {
           "bdata": "EQ==",
           "dtype": "i1"
          },
          "sizemode": "area",
          "sizeref": 0.04,
          "symbol": "circle"
         },
         "mode": "markers",
         "name": "JPN",
         "orientation": "v",
         "showlegend": true,
         "type": "scatter",
         "x": [
          "JPN"
         ],
         "xaxis": "x",
         "y": {
          "bdata": "w/UoXI/C5T8=",
          "dtype": "f8"
         },
         "yaxis": "y"
        },
        {
         "hovertemplate": "<b>%{hovertext}</b><br><br>Country=%{x}<br>Proportion of Q154_1=%{y}<br>Sentence Count=%{marker.size}<extra></extra>",
         "hovertext": [
          "KAZ"
         ],
         "legendgroup": "KAZ",
         "marker": {
          "color": "#FF6692",
          "size": {
           "bdata": "GA==",
           "dtype": "i1"
          },
          "sizemode": "area",
          "sizeref": 0.04,
          "symbol": "circle"
         },
         "mode": "markers",
         "name": "KAZ",
         "orientation": "v",
         "showlegend": true,
         "type": "scatter",
         "x": [
          "KAZ"
         ],
         "xaxis": "x",
         "y": {
          "bdata": "uxK1K1G74j8=",
          "dtype": "f8"
         },
         "yaxis": "y"
        },
        {
         "hovertemplate": "<b>%{hovertext}</b><br><br>Country=%{x}<br>Proportion of Q154_1=%{y}<br>Sentence Count=%{marker.size}<extra></extra>",
         "hovertext": [
          "KEN"
         ],
         "legendgroup": "KEN",
         "marker": {
          "color": "#B6E880",
          "size": {
           "bdata": "EQ==",
           "dtype": "i1"
          },
          "sizemode": "area",
          "sizeref": 0.04,
          "symbol": "circle"
         },
         "mode": "markers",
         "name": "KEN",
         "orientation": "v",
         "showlegend": true,
         "type": "scatter",
         "x": [
          "KEN"
         ],
         "xaxis": "x",
         "y": {
          "bdata": "XL7lW77l2z8=",
          "dtype": "f8"
         },
         "yaxis": "y"
        },
        {
         "hovertemplate": "<b>%{hovertext}</b><br><br>Country=%{x}<br>Proportion of Q154_1=%{y}<br>Sentence Count=%{marker.size}<extra></extra>",
         "hovertext": [
          "KGZ"
         ],
         "legendgroup": "KGZ",
         "marker": {
          "color": "#FF97FF",
          "size": {
           "bdata": "Gw==",
           "dtype": "i1"
          },
          "sizemode": "area",
          "sizeref": 0.04,
          "symbol": "circle"
         },
         "mode": "markers",
         "name": "KGZ",
         "orientation": "v",
         "showlegend": true,
         "type": "scatter",
         "x": [
          "KGZ"
         ],
         "xaxis": "x",
         "y": {
          "bdata": "dmIndmIn5j8=",
          "dtype": "f8"
         },
         "yaxis": "y"
        },
        {
         "hovertemplate": "<b>%{hovertext}</b><br><br>Country=%{x}<br>Proportion of Q154_1=%{y}<br>Sentence Count=%{marker.size}<extra></extra>",
         "hovertext": [
          "KOR"
         ],
         "legendgroup": "KOR",
         "marker": {
          "color": "#FECB52",
          "size": {
           "bdata": "Jg==",
           "dtype": "i1"
          },
          "sizemode": "area",
          "sizeref": 0.04,
          "symbol": "circle"
         },
         "mode": "markers",
         "name": "KOR",
         "orientation": "v",
         "showlegend": true,
         "type": "scatter",
         "x": [
          "KOR"
         ],
         "xaxis": "x",
         "y": {
          "bdata": "nXPOOeec4z8=",
          "dtype": "f8"
         },
         "yaxis": "y"
        },
        {
         "hovertemplate": "<b>%{hovertext}</b><br><br>Country=%{x}<br>Proportion of Q154_1=%{y}<br>Sentence Count=%{marker.size}<extra></extra>",
         "hovertext": [
          "LBN"
         ],
         "legendgroup": "LBN",
         "marker": {
          "color": "#636efa",
          "size": {
           "bdata": "EA==",
           "dtype": "i1"
          },
          "sizemode": "area",
          "sizeref": 0.04,
          "symbol": "circle"
         },
         "mode": "markers",
         "name": "LBN",
         "orientation": "v",
         "showlegend": true,
         "type": "scatter",
         "x": [
          "LBN"
         ],
         "xaxis": "x",
         "y": {
          "bdata": "kiRJkiRJ4j8=",
          "dtype": "f8"
         },
         "yaxis": "y"
        },
        {
         "hovertemplate": "<b>%{hovertext}</b><br><br>Country=%{x}<br>Proportion of Q154_1=%{y}<br>Sentence Count=%{marker.size}<extra></extra>",
         "hovertext": [
          "LBY"
         ],
         "legendgroup": "LBY",
         "marker": {
          "color": "#EF553B",
          "size": {
           "bdata": "EA==",
           "dtype": "i1"
          },
          "sizemode": "area",
          "sizeref": 0.04,
          "symbol": "circle"
         },
         "mode": "markers",
         "name": "LBY",
         "orientation": "v",
         "showlegend": true,
         "type": "scatter",
         "x": [
          "LBY"
         ],
         "xaxis": "x",
         "y": {
          "bdata": "+hicj8H52D8=",
          "dtype": "f8"
         },
         "yaxis": "y"
        },
        {
         "hovertemplate": "<b>%{hovertext}</b><br><br>Country=%{x}<br>Proportion of Q154_1=%{y}<br>Sentence Count=%{marker.size}<extra></extra>",
         "hovertext": [
          "MAR"
         ],
         "legendgroup": "MAR",
         "marker": {
          "color": "#00cc96",
          "size": {
           "bdata": "Cg==",
           "dtype": "i1"
          },
          "sizemode": "area",
          "sizeref": 0.04,
          "symbol": "circle"
         },
         "mode": "markers",
         "name": "MAR",
         "orientation": "v",
         "showlegend": true,
         "type": "scatter",
         "x": [
          "MAR"
         ],
         "xaxis": "x",
         "y": {
          "bdata": "ZZNNNtlk0z8=",
          "dtype": "f8"
         },
         "yaxis": "y"
        },
        {
         "hovertemplate": "<b>%{hovertext}</b><br><br>Country=%{x}<br>Proportion of Q154_1=%{y}<br>Sentence Count=%{marker.size}<extra></extra>",
         "hovertext": [
          "MDV"
         ],
         "legendgroup": "MDV",
         "marker": {
          "color": "#ab63fa",
          "size": {
           "bdata": "Dg==",
           "dtype": "i1"
          },
          "sizemode": "area",
          "sizeref": 0.04,
          "symbol": "circle"
         },
         "mode": "markers",
         "name": "MDV",
         "orientation": "v",
         "showlegend": true,
         "type": "scatter",
         "x": [
          "MDV"
         ],
         "xaxis": "x",
         "y": {
          "bdata": "WlpaWlpa2j8=",
          "dtype": "f8"
         },
         "yaxis": "y"
        },
        {
         "hovertemplate": "<b>%{hovertext}</b><br><br>Country=%{x}<br>Proportion of Q154_1=%{y}<br>Sentence Count=%{marker.size}<extra></extra>",
         "hovertext": [
          "MEX"
         ],
         "legendgroup": "MEX",
         "marker": {
          "color": "#FFA15A",
          "size": {
           "bdata": "Bg==",
           "dtype": "i1"
          },
          "sizemode": "area",
          "sizeref": 0.04,
          "symbol": "circle"
         },
         "mode": "markers",
         "name": "MEX",
         "orientation": "v",
         "showlegend": true,
         "type": "scatter",
         "x": [
          "MEX"
         ],
         "xaxis": "x",
         "y": {
          "bdata": "ntiJndiJzT8=",
          "dtype": "f8"
         },
         "yaxis": "y"
        },
        {
         "hovertemplate": "<b>%{hovertext}</b><br><br>Country=%{x}<br>Proportion of Q154_1=%{y}<br>Sentence Count=%{marker.size}<extra></extra>",
         "hovertext": [
          "MMR"
         ],
         "legendgroup": "MMR",
         "marker": {
          "color": "#19d3f3",
          "size": {
           "bdata": "GA==",
           "dtype": "i1"
          },
          "sizemode": "area",
          "sizeref": 0.04,
          "symbol": "circle"
         },
         "mode": "markers",
         "name": "MMR",
         "orientation": "v",
         "showlegend": true,
         "type": "scatter",
         "x": [
          "MMR"
         ],
         "xaxis": "x",
         "y": {
          "bdata": "FDuxEzux4z8=",
          "dtype": "f8"
         },
         "yaxis": "y"
        },
        {
         "hovertemplate": "<b>%{hovertext}</b><br><br>Country=%{x}<br>Proportion of Q154_1=%{y}<br>Sentence Count=%{marker.size}<extra></extra>",
         "hovertext": [
          "MNG"
         ],
         "legendgroup": "MNG",
         "marker": {
          "color": "#FF6692",
          "size": {
           "bdata": "Cw==",
           "dtype": "i1"
          },
          "sizemode": "area",
          "sizeref": 0.04,
          "symbol": "circle"
         },
         "mode": "markers",
         "name": "MNG",
         "orientation": "v",
         "showlegend": true,
         "type": "scatter",
         "x": [
          "MNG"
         ],
         "xaxis": "x",
         "y": {
          "bdata": "AAAAAAAA1j8=",
          "dtype": "f8"
         },
         "yaxis": "y"
        },
        {
         "hovertemplate": "<b>%{hovertext}</b><br><br>Country=%{x}<br>Proportion of Q154_1=%{y}<br>Sentence Count=%{marker.size}<extra></extra>",
         "hovertext": [
          "MYS"
         ],
         "legendgroup": "MYS",
         "marker": {
          "color": "#B6E880",
          "size": {
           "bdata": "Fw==",
           "dtype": "i1"
          },
          "sizemode": "area",
          "sizeref": 0.04,
          "symbol": "circle"
         },
         "mode": "markers",
         "name": "MYS",
         "orientation": "v",
         "showlegend": true,
         "type": "scatter",
         "x": [
          "MYS"
         ],
         "xaxis": "x",
         "y": {
          "bdata": "g5dT8HIK3j8=",
          "dtype": "f8"
         },
         "yaxis": "y"
        },
        {
         "hovertemplate": "<b>%{hovertext}</b><br><br>Country=%{x}<br>Proportion of Q154_1=%{y}<br>Sentence Count=%{marker.size}<extra></extra>",
         "hovertext": [
          "NGA"
         ],
         "legendgroup": "NGA",
         "marker": {
          "color": "#FF97FF",
          "size": {
           "bdata": "DQ==",
           "dtype": "i1"
          },
          "sizemode": "area",
          "sizeref": 0.04,
          "symbol": "circle"
         },
         "mode": "markers",
         "name": "NGA",
         "orientation": "v",
         "showlegend": true,
         "type": "scatter",
         "x": [
          "NGA"
         ],
         "xaxis": "x",
         "y": {
          "bdata": "Ntlkk0022T8=",
          "dtype": "f8"
         },
         "yaxis": "y"
        },
        {
         "hovertemplate": "<b>%{hovertext}</b><br><br>Country=%{x}<br>Proportion of Q154_1=%{y}<br>Sentence Count=%{marker.size}<extra></extra>",
         "hovertext": [
          "NIC"
         ],
         "legendgroup": "NIC",
         "marker": {
          "color": "#FECB52",
          "size": {
           "bdata": "Cw==",
           "dtype": "i1"
          },
          "sizemode": "area",
          "sizeref": 0.04,
          "symbol": "circle"
         },
         "mode": "markers",
         "name": "NIC",
         "orientation": "v",
         "showlegend": true,
         "type": "scatter",
         "x": [
          "NIC"
         ],
         "xaxis": "x",
         "y": {
          "bdata": "SZIkSZIk2T8=",
          "dtype": "f8"
         },
         "yaxis": "y"
        },
        {
         "hovertemplate": "<b>%{hovertext}</b><br><br>Country=%{x}<br>Proportion of Q154_1=%{y}<br>Sentence Count=%{marker.size}<extra></extra>",
         "hovertext": [
          "NLD"
         ],
         "legendgroup": "NLD",
         "marker": {
          "color": "#636efa",
          "size": {
           "bdata": "Ew==",
           "dtype": "i1"
          },
          "sizemode": "area",
          "sizeref": 0.04,
          "symbol": "circle"
         },
         "mode": "markers",
         "name": "NLD",
         "orientation": "v",
         "showlegend": true,
         "type": "scatter",
         "x": [
          "NLD"
         ],
         "xaxis": "x",
         "y": {
          "bdata": "2NfX19fX1z8=",
          "dtype": "f8"
         },
         "yaxis": "y"
        },
        {
         "hovertemplate": "<b>%{hovertext}</b><br><br>Country=%{x}<br>Proportion of Q154_1=%{y}<br>Sentence Count=%{marker.size}<extra></extra>",
         "hovertext": [
          "NZL"
         ],
         "legendgroup": "NZL",
         "marker": {
          "color": "#EF553B",
          "size": {
           "bdata": "DQ==",
           "dtype": "i1"
          },
          "sizemode": "area",
          "sizeref": 0.04,
          "symbol": "circle"
         },
         "mode": "markers",
         "name": "NZL",
         "orientation": "v",
         "showlegend": true,
         "type": "scatter",
         "x": [
          "NZL"
         ],
         "xaxis": "x",
         "y": {
          "bdata": "R31no76z0T8=",
          "dtype": "f8"
         },
         "yaxis": "y"
        },
        {
         "hovertemplate": "<b>%{hovertext}</b><br><br>Country=%{x}<br>Proportion of Q154_1=%{y}<br>Sentence Count=%{marker.size}<extra></extra>",
         "hovertext": [
          "PAK"
         ],
         "legendgroup": "PAK",
         "marker": {
          "color": "#00cc96",
          "size": {
           "bdata": "HA==",
           "dtype": "i1"
          },
          "sizemode": "area",
          "sizeref": 0.04,
          "symbol": "circle"
         },
         "mode": "markers",
         "name": "PAK",
         "orientation": "v",
         "showlegend": true,
         "type": "scatter",
         "x": [
          "PAK"
         ],
         "xaxis": "x",
         "y": {
          "bdata": "sRM7sRM74T8=",
          "dtype": "f8"
         },
         "yaxis": "y"
        },
        {
         "hovertemplate": "<b>%{hovertext}</b><br><br>Country=%{x}<br>Proportion of Q154_1=%{y}<br>Sentence Count=%{marker.size}<extra></extra>",
         "hovertext": [
          "PER"
         ],
         "legendgroup": "PER",
         "marker": {
          "color": "#ab63fa",
          "size": {
           "bdata": "DQ==",
           "dtype": "i1"
          },
          "sizemode": "area",
          "sizeref": 0.04,
          "symbol": "circle"
         },
         "mode": "markers",
         "name": "PER",
         "orientation": "v",
         "showlegend": true,
         "type": "scatter",
         "x": [
          "PER"
         ],
         "xaxis": "x",
         "y": {
          "bdata": "1AjLPY2w3D8=",
          "dtype": "f8"
         },
         "yaxis": "y"
        },
        {
         "hovertemplate": "<b>%{hovertext}</b><br><br>Country=%{x}<br>Proportion of Q154_1=%{y}<br>Sentence Count=%{marker.size}<extra></extra>",
         "hovertext": [
          "PHL"
         ],
         "legendgroup": "PHL",
         "marker": {
          "color": "#FFA15A",
          "size": {
           "bdata": "Hg==",
           "dtype": "i1"
          },
          "sizemode": "area",
          "sizeref": 0.04,
          "symbol": "circle"
         },
         "mode": "markers",
         "name": "PHL",
         "orientation": "v",
         "showlegend": true,
         "type": "scatter",
         "x": [
          "PHL"
         ],
         "xaxis": "x",
         "y": {
          "bdata": "LhmCdbR53z8=",
          "dtype": "f8"
         },
         "yaxis": "y"
        },
        {
         "hovertemplate": "<b>%{hovertext}</b><br><br>Country=%{x}<br>Proportion of Q154_1=%{y}<br>Sentence Count=%{marker.size}<extra></extra>",
         "hovertext": [
          "ROU"
         ],
         "legendgroup": "ROU",
         "marker": {
          "color": "#19d3f3",
          "size": {
           "bdata": "Gg==",
           "dtype": "i1"
          },
          "sizemode": "area",
          "sizeref": 0.04,
          "symbol": "circle"
         },
         "mode": "markers",
         "name": "ROU",
         "orientation": "v",
         "showlegend": true,
         "type": "scatter",
         "x": [
          "ROU"
         ],
         "xaxis": "x",
         "y": {
          "bdata": "vLu7u7u72z8=",
          "dtype": "f8"
         },
         "yaxis": "y"
        },
        {
         "hovertemplate": "<b>%{hovertext}</b><br><br>Country=%{x}<br>Proportion of Q154_1=%{y}<br>Sentence Count=%{marker.size}<extra></extra>",
         "hovertext": [
          "RUS"
         ],
         "legendgroup": "RUS",
         "marker": {
          "color": "#FF6692",
          "size": {
           "bdata": "GQ==",
           "dtype": "i1"
          },
          "sizemode": "area",
          "sizeref": 0.04,
          "symbol": "circle"
         },
         "mode": "markers",
         "name": "RUS",
         "orientation": "v",
         "showlegend": true,
         "type": "scatter",
         "x": [
          "RUS"
         ],
         "xaxis": "x",
         "y": {
          "bdata": "F1100UUX3T8=",
          "dtype": "f8"
         },
         "yaxis": "y"
        },
        {
         "hovertemplate": "<b>%{hovertext}</b><br><br>Country=%{x}<br>Proportion of Q154_1=%{y}<br>Sentence Count=%{marker.size}<extra></extra>",
         "hovertext": [
          "SGP"
         ],
         "legendgroup": "SGP",
         "marker": {
          "color": "#B6E880",
          "size": {
           "bdata": "Eg==",
           "dtype": "i1"
          },
          "sizemode": "area",
          "sizeref": 0.04,
          "symbol": "circle"
         },
         "mode": "markers",
         "name": "SGP",
         "orientation": "v",
         "showlegend": true,
         "type": "scatter",
         "x": [
          "SGP"
         ],
         "xaxis": "x",
         "y": {
          "bdata": "JUmSJEmS1D8=",
          "dtype": "f8"
         },
         "yaxis": "y"
        },
        {
         "hovertemplate": "<b>%{hovertext}</b><br><br>Country=%{x}<br>Proportion of Q154_1=%{y}<br>Sentence Count=%{marker.size}<extra></extra>",
         "hovertext": [
          "SRB"
         ],
         "legendgroup": "SRB",
         "marker": {
          "color": "#FF97FF",
          "size": {
           "bdata": "Fw==",
           "dtype": "i1"
          },
          "sizemode": "area",
          "sizeref": 0.04,
          "symbol": "circle"
         },
         "mode": "markers",
         "name": "SRB",
         "orientation": "v",
         "showlegend": true,
         "type": "scatter",
         "x": [
          "SRB"
         ],
         "xaxis": "x",
         "y": {
          "bdata": "RT7rBlPk4z8=",
          "dtype": "f8"
         },
         "yaxis": "y"
        },
        {
         "hovertemplate": "<b>%{hovertext}</b><br><br>Country=%{x}<br>Proportion of Q154_1=%{y}<br>Sentence Count=%{marker.size}<extra></extra>",
         "hovertext": [
          "SVK"
         ],
         "legendgroup": "SVK",
         "marker": {
          "color": "#FECB52",
          "size": {
           "bdata": "FA==",
           "dtype": "i1"
          },
          "sizemode": "area",
          "sizeref": 0.04,
          "symbol": "circle"
         },
         "mode": "markers",
         "name": "SVK",
         "orientation": "v",
         "showlegend": true,
         "type": "scatter",
         "x": [
          "SVK"
         ],
         "xaxis": "x",
         "y": {
          "bdata": "cUfcEXfE3T8=",
          "dtype": "f8"
         },
         "yaxis": "y"
        },
        {
         "hovertemplate": "<b>%{hovertext}</b><br><br>Country=%{x}<br>Proportion of Q154_1=%{y}<br>Sentence Count=%{marker.size}<extra></extra>",
         "hovertext": [
          "THA"
         ],
         "legendgroup": "THA",
         "marker": {
          "color": "#636efa",
          "size": {
           "bdata": "Dg==",
           "dtype": "i1"
          },
          "sizemode": "area",
          "sizeref": 0.04,
          "symbol": "circle"
         },
         "mode": "markers",
         "name": "THA",
         "orientation": "v",
         "showlegend": true,
         "type": "scatter",
         "x": [
          "THA"
         ],
         "xaxis": "x",
         "y": {
          "bdata": "R1juaYTl3j8=",
          "dtype": "f8"
         },
         "yaxis": "y"
        },
        {
         "hovertemplate": "<b>%{hovertext}</b><br><br>Country=%{x}<br>Proportion of Q154_1=%{y}<br>Sentence Count=%{marker.size}<extra></extra>",
         "hovertext": [
          "TJK"
         ],
         "legendgroup": "TJK",
         "marker": {
          "color": "#EF553B",
          "size": {
           "bdata": "GQ==",
           "dtype": "i1"
          },
          "sizemode": "area",
          "sizeref": 0.04,
          "symbol": "circle"
         },
         "mode": "markers",
         "name": "TJK",
         "orientation": "v",
         "showlegend": true,
         "type": "scatter",
         "x": [
          "TJK"
         ],
         "xaxis": "x",
         "y": {
          "bdata": "FrKQhSxk4T8=",
          "dtype": "f8"
         },
         "yaxis": "y"
        },
        {
         "hovertemplate": "<b>%{hovertext}</b><br><br>Country=%{x}<br>Proportion of Q154_1=%{y}<br>Sentence Count=%{marker.size}<extra></extra>",
         "hovertext": [
          "TUN"
         ],
         "legendgroup": "TUN",
         "marker": {
          "color": "#00cc96",
          "size": {
           "bdata": "Dg==",
           "dtype": "i1"
          },
          "sizemode": "area",
          "sizeref": 0.04,
          "symbol": "circle"
         },
         "mode": "markers",
         "name": "TUN",
         "orientation": "v",
         "showlegend": true,
         "type": "scatter",
         "x": [
          "TUN"
         ],
         "xaxis": "x",
         "y": {
          "bdata": "55xzzjnn3D8=",
          "dtype": "f8"
         },
         "yaxis": "y"
        },
        {
         "hovertemplate": "<b>%{hovertext}</b><br><br>Country=%{x}<br>Proportion of Q154_1=%{y}<br>Sentence Count=%{marker.size}<extra></extra>",
         "hovertext": [
          "TUR"
         ],
         "legendgroup": "TUR",
         "marker": {
          "color": "#ab63fa",
          "size": {
           "bdata": "Gg==",
           "dtype": "i1"
          },
          "sizemode": "area",
          "sizeref": 0.04,
          "symbol": "circle"
         },
         "mode": "markers",
         "name": "TUR",
         "orientation": "v",
         "showlegend": true,
         "type": "scatter",
         "x": [
          "TUR"
         ],
         "xaxis": "x",
         "y": {
          "bdata": "mqZpmqZp2j8=",
          "dtype": "f8"
         },
         "yaxis": "y"
        },
        {
         "hovertemplate": "<b>%{hovertext}</b><br><br>Country=%{x}<br>Proportion of Q154_1=%{y}<br>Sentence Count=%{marker.size}<extra></extra>",
         "hovertext": [
          "UKR"
         ],
         "legendgroup": "UKR",
         "marker": {
          "color": "#FFA15A",
          "size": {
           "bdata": "Gw==",
           "dtype": "i1"
          },
          "sizemode": "area",
          "sizeref": 0.04,
          "symbol": "circle"
         },
         "mode": "markers",
         "name": "UKR",
         "orientation": "v",
         "showlegend": true,
         "type": "scatter",
         "x": [
          "UKR"
         ],
         "xaxis": "x",
         "y": {
          "bdata": "5rEVQcNJ3T8=",
          "dtype": "f8"
         },
         "yaxis": "y"
        },
        {
         "hovertemplate": "<b>%{hovertext}</b><br><br>Country=%{x}<br>Proportion of Q154_1=%{y}<br>Sentence Count=%{marker.size}<extra></extra>",
         "hovertext": [
          "URY"
         ],
         "legendgroup": "URY",
         "marker": {
          "color": "#19d3f3",
          "size": {
           "bdata": "Cg==",
           "dtype": "i1"
          },
          "sizemode": "area",
          "sizeref": 0.04,
          "symbol": "circle"
         },
         "mode": "markers",
         "name": "URY",
         "orientation": "v",
         "showlegend": true,
         "type": "scatter",
         "x": [
          "URY"
         ],
         "xaxis": "x",
         "y": {
          "bdata": "AAAAAAAA1D8=",
          "dtype": "f8"
         },
         "yaxis": "y"
        },
        {
         "hovertemplate": "<b>%{hovertext}</b><br><br>Country=%{x}<br>Proportion of Q154_1=%{y}<br>Sentence Count=%{marker.size}<extra></extra>",
         "hovertext": [
          "USA"
         ],
         "legendgroup": "USA",
         "marker": {
          "color": "#FF6692",
          "size": {
           "bdata": "JQ==",
           "dtype": "i1"
          },
          "sizemode": "area",
          "sizeref": 0.04,
          "symbol": "circle"
         },
         "mode": "markers",
         "name": "USA",
         "orientation": "v",
         "showlegend": true,
         "type": "scatter",
         "x": [
          "USA"
         ],
         "xaxis": "x",
         "y": {
          "bdata": "ggMHDhw44D8=",
          "dtype": "f8"
         },
         "yaxis": "y"
        },
        {
         "hovertemplate": "<b>%{hovertext}</b><br><br>Country=%{x}<br>Proportion of Q154_1=%{y}<br>Sentence Count=%{marker.size}<extra></extra>",
         "hovertext": [
          "UZB"
         ],
         "legendgroup": "UZB",
         "marker": {
          "color": "#B6E880",
          "size": {
           "bdata": "Dg==",
           "dtype": "i1"
          },
          "sizemode": "area",
          "sizeref": 0.04,
          "symbol": "circle"
         },
         "mode": "markers",
         "name": "UZB",
         "orientation": "v",
         "showlegend": true,
         "type": "scatter",
         "x": [
          "UZB"
         ],
         "xaxis": "x",
         "y": {
          "bdata": "Q3kN5TWU1z8=",
          "dtype": "f8"
         },
         "yaxis": "y"
        },
        {
         "hovertemplate": "<b>%{hovertext}</b><br><br>Country=%{x}<br>Proportion of Q154_1=%{y}<br>Sentence Count=%{marker.size}<extra></extra>",
         "hovertext": [
          "VEN"
         ],
         "legendgroup": "VEN",
         "marker": {
          "color": "#FF97FF",
          "size": {
           "bdata": "Cg==",
           "dtype": "i1"
          },
          "sizemode": "area",
          "sizeref": 0.04,
          "symbol": "circle"
         },
         "mode": "markers",
         "name": "VEN",
         "orientation": "v",
         "showlegend": true,
         "type": "scatter",
         "x": [
          "VEN"
         ],
         "xaxis": "x",
         "y": {
          "bdata": "F1100UUXzT8=",
          "dtype": "f8"
         },
         "yaxis": "y"
        },
        {
         "hovertemplate": "<b>%{hovertext}</b><br><br>Country=%{x}<br>Proportion of Q154_1=%{y}<br>Sentence Count=%{marker.size}<extra></extra>",
         "hovertext": [
          "VNM"
         ],
         "legendgroup": "VNM",
         "marker": {
          "color": "#FECB52",
          "size": {
           "bdata": "Iw==",
           "dtype": "i1"
          },
          "sizemode": "area",
          "sizeref": 0.04,
          "symbol": "circle"
         },
         "mode": "markers",
         "name": "VNM",
         "orientation": "v",
         "showlegend": true,
         "type": "scatter",
         "x": [
          "VNM"
         ],
         "xaxis": "x",
         "y": {
          "bdata": "+OCDDz744D8=",
          "dtype": "f8"
         },
         "yaxis": "y"
        },
        {
         "hovertemplate": "<b>%{hovertext}</b><br><br>Country=%{x}<br>Proportion of Q154_1=%{y}<br>Sentence Count=%{marker.size}<extra></extra>",
         "hovertext": [
          "ZWE"
         ],
         "legendgroup": "ZWE",
         "marker": {
          "color": "#636efa",
          "size": {
           "bdata": "FQ==",
           "dtype": "i1"
          },
          "sizemode": "area",
          "sizeref": 0.04,
          "symbol": "circle"
         },
         "mode": "markers",
         "name": "ZWE",
         "orientation": "v",
         "showlegend": true,
         "type": "scatter",
         "x": [
          "ZWE"
         ],
         "xaxis": "x",
         "y": {
          "bdata": "AAAAAAAA3D8=",
          "dtype": "f8"
         },
         "yaxis": "y"
        }
       ],
       "layout": {
        "height": 600,
        "legend": {
         "itemsizing": "constant",
         "title": {
          "text": "Country"
         },
         "tracegroupgap": 0
        },
        "margin": {
         "b": 40,
         "l": 40,
         "r": 40,
         "t": 80
        },
        "template": {
         "data": {
          "bar": [
           {
            "error_x": {
             "color": "#2a3f5f"
            },
            "error_y": {
             "color": "#2a3f5f"
            },
            "marker": {
             "line": {
              "color": "#E5ECF6",
              "width": 0.5
             },
             "pattern": {
              "fillmode": "overlay",
              "size": 10,
              "solidity": 0.2
             }
            },
            "type": "bar"
           }
          ],
          "barpolar": [
           {
            "marker": {
             "line": {
              "color": "#E5ECF6",
              "width": 0.5
             },
             "pattern": {
              "fillmode": "overlay",
              "size": 10,
              "solidity": 0.2
             }
            },
            "type": "barpolar"
           }
          ],
          "carpet": [
           {
            "aaxis": {
             "endlinecolor": "#2a3f5f",
             "gridcolor": "white",
             "linecolor": "white",
             "minorgridcolor": "white",
             "startlinecolor": "#2a3f5f"
            },
            "baxis": {
             "endlinecolor": "#2a3f5f",
             "gridcolor": "white",
             "linecolor": "white",
             "minorgridcolor": "white",
             "startlinecolor": "#2a3f5f"
            },
            "type": "carpet"
           }
          ],
          "choropleth": [
           {
            "colorbar": {
             "outlinewidth": 0,
             "ticks": ""
            },
            "type": "choropleth"
           }
          ],
          "contour": [
           {
            "colorbar": {
             "outlinewidth": 0,
             "ticks": ""
            },
            "colorscale": [
             [
              0,
              "#0d0887"
             ],
             [
              0.1111111111111111,
              "#46039f"
             ],
             [
              0.2222222222222222,
              "#7201a8"
             ],
             [
              0.3333333333333333,
              "#9c179e"
             ],
             [
              0.4444444444444444,
              "#bd3786"
             ],
             [
              0.5555555555555556,
              "#d8576b"
             ],
             [
              0.6666666666666666,
              "#ed7953"
             ],
             [
              0.7777777777777778,
              "#fb9f3a"
             ],
             [
              0.8888888888888888,
              "#fdca26"
             ],
             [
              1,
              "#f0f921"
             ]
            ],
            "type": "contour"
           }
          ],
          "contourcarpet": [
           {
            "colorbar": {
             "outlinewidth": 0,
             "ticks": ""
            },
            "type": "contourcarpet"
           }
          ],
          "heatmap": [
           {
            "colorbar": {
             "outlinewidth": 0,
             "ticks": ""
            },
            "colorscale": [
             [
              0,
              "#0d0887"
             ],
             [
              0.1111111111111111,
              "#46039f"
             ],
             [
              0.2222222222222222,
              "#7201a8"
             ],
             [
              0.3333333333333333,
              "#9c179e"
             ],
             [
              0.4444444444444444,
              "#bd3786"
             ],
             [
              0.5555555555555556,
              "#d8576b"
             ],
             [
              0.6666666666666666,
              "#ed7953"
             ],
             [
              0.7777777777777778,
              "#fb9f3a"
             ],
             [
              0.8888888888888888,
              "#fdca26"
             ],
             [
              1,
              "#f0f921"
             ]
            ],
            "type": "heatmap"
           }
          ],
          "histogram": [
           {
            "marker": {
             "pattern": {
              "fillmode": "overlay",
              "size": 10,
              "solidity": 0.2
             }
            },
            "type": "histogram"
           }
          ],
          "histogram2d": [
           {
            "colorbar": {
             "outlinewidth": 0,
             "ticks": ""
            },
            "colorscale": [
             [
              0,
              "#0d0887"
             ],
             [
              0.1111111111111111,
              "#46039f"
             ],
             [
              0.2222222222222222,
              "#7201a8"
             ],
             [
              0.3333333333333333,
              "#9c179e"
             ],
             [
              0.4444444444444444,
              "#bd3786"
             ],
             [
              0.5555555555555556,
              "#d8576b"
             ],
             [
              0.6666666666666666,
              "#ed7953"
             ],
             [
              0.7777777777777778,
              "#fb9f3a"
             ],
             [
              0.8888888888888888,
              "#fdca26"
             ],
             [
              1,
              "#f0f921"
             ]
            ],
            "type": "histogram2d"
           }
          ],
          "histogram2dcontour": [
           {
            "colorbar": {
             "outlinewidth": 0,
             "ticks": ""
            },
            "colorscale": [
             [
              0,
              "#0d0887"
             ],
             [
              0.1111111111111111,
              "#46039f"
             ],
             [
              0.2222222222222222,
              "#7201a8"
             ],
             [
              0.3333333333333333,
              "#9c179e"
             ],
             [
              0.4444444444444444,
              "#bd3786"
             ],
             [
              0.5555555555555556,
              "#d8576b"
             ],
             [
              0.6666666666666666,
              "#ed7953"
             ],
             [
              0.7777777777777778,
              "#fb9f3a"
             ],
             [
              0.8888888888888888,
              "#fdca26"
             ],
             [
              1,
              "#f0f921"
             ]
            ],
            "type": "histogram2dcontour"
           }
          ],
          "mesh3d": [
           {
            "colorbar": {
             "outlinewidth": 0,
             "ticks": ""
            },
            "type": "mesh3d"
           }
          ],
          "parcoords": [
           {
            "line": {
             "colorbar": {
              "outlinewidth": 0,
              "ticks": ""
             }
            },
            "type": "parcoords"
           }
          ],
          "pie": [
           {
            "automargin": true,
            "type": "pie"
           }
          ],
          "scatter": [
           {
            "fillpattern": {
             "fillmode": "overlay",
             "size": 10,
             "solidity": 0.2
            },
            "type": "scatter"
           }
          ],
          "scatter3d": [
           {
            "line": {
             "colorbar": {
              "outlinewidth": 0,
              "ticks": ""
             }
            },
            "marker": {
             "colorbar": {
              "outlinewidth": 0,
              "ticks": ""
             }
            },
            "type": "scatter3d"
           }
          ],
          "scattercarpet": [
           {
            "marker": {
             "colorbar": {
              "outlinewidth": 0,
              "ticks": ""
             }
            },
            "type": "scattercarpet"
           }
          ],
          "scattergeo": [
           {
            "marker": {
             "colorbar": {
              "outlinewidth": 0,
              "ticks": ""
             }
            },
            "type": "scattergeo"
           }
          ],
          "scattergl": [
           {
            "marker": {
             "colorbar": {
              "outlinewidth": 0,
              "ticks": ""
             }
            },
            "type": "scattergl"
           }
          ],
          "scattermap": [
           {
            "marker": {
             "colorbar": {
              "outlinewidth": 0,
              "ticks": ""
             }
            },
            "type": "scattermap"
           }
          ],
          "scattermapbox": [
           {
            "marker": {
             "colorbar": {
              "outlinewidth": 0,
              "ticks": ""
             }
            },
            "type": "scattermapbox"
           }
          ],
          "scatterpolar": [
           {
            "marker": {
             "colorbar": {
              "outlinewidth": 0,
              "ticks": ""
             }
            },
            "type": "scatterpolar"
           }
          ],
          "scatterpolargl": [
           {
            "marker": {
             "colorbar": {
              "outlinewidth": 0,
              "ticks": ""
             }
            },
            "type": "scatterpolargl"
           }
          ],
          "scatterternary": [
           {
            "marker": {
             "colorbar": {
              "outlinewidth": 0,
              "ticks": ""
             }
            },
            "type": "scatterternary"
           }
          ],
          "surface": [
           {
            "colorbar": {
             "outlinewidth": 0,
             "ticks": ""
            },
            "colorscale": [
             [
              0,
              "#0d0887"
             ],
             [
              0.1111111111111111,
              "#46039f"
             ],
             [
              0.2222222222222222,
              "#7201a8"
             ],
             [
              0.3333333333333333,
              "#9c179e"
             ],
             [
              0.4444444444444444,
              "#bd3786"
             ],
             [
              0.5555555555555556,
              "#d8576b"
             ],
             [
              0.6666666666666666,
              "#ed7953"
             ],
             [
              0.7777777777777778,
              "#fb9f3a"
             ],
             [
              0.8888888888888888,
              "#fdca26"
             ],
             [
              1,
              "#f0f921"
             ]
            ],
            "type": "surface"
           }
          ],
          "table": [
           {
            "cells": {
             "fill": {
              "color": "#EBF0F8"
             },
             "line": {
              "color": "white"
             }
            },
            "header": {
             "fill": {
              "color": "#C8D4E3"
             },
             "line": {
              "color": "white"
             }
            },
            "type": "table"
           }
          ]
         },
         "layout": {
          "annotationdefaults": {
           "arrowcolor": "#2a3f5f",
           "arrowhead": 0,
           "arrowwidth": 1
          },
          "autotypenumbers": "strict",
          "coloraxis": {
           "colorbar": {
            "outlinewidth": 0,
            "ticks": ""
           }
          },
          "colorscale": {
           "diverging": [
            [
             0,
             "#8e0152"
            ],
            [
             0.1,
             "#c51b7d"
            ],
            [
             0.2,
             "#de77ae"
            ],
            [
             0.3,
             "#f1b6da"
            ],
            [
             0.4,
             "#fde0ef"
            ],
            [
             0.5,
             "#f7f7f7"
            ],
            [
             0.6,
             "#e6f5d0"
            ],
            [
             0.7,
             "#b8e186"
            ],
            [
             0.8,
             "#7fbc41"
            ],
            [
             0.9,
             "#4d9221"
            ],
            [
             1,
             "#276419"
            ]
           ],
           "sequential": [
            [
             0,
             "#0d0887"
            ],
            [
             0.1111111111111111,
             "#46039f"
            ],
            [
             0.2222222222222222,
             "#7201a8"
            ],
            [
             0.3333333333333333,
             "#9c179e"
            ],
            [
             0.4444444444444444,
             "#bd3786"
            ],
            [
             0.5555555555555556,
             "#d8576b"
            ],
            [
             0.6666666666666666,
             "#ed7953"
            ],
            [
             0.7777777777777778,
             "#fb9f3a"
            ],
            [
             0.8888888888888888,
             "#fdca26"
            ],
            [
             1,
             "#f0f921"
            ]
           ],
           "sequentialminus": [
            [
             0,
             "#0d0887"
            ],
            [
             0.1111111111111111,
             "#46039f"
            ],
            [
             0.2222222222222222,
             "#7201a8"
            ],
            [
             0.3333333333333333,
             "#9c179e"
            ],
            [
             0.4444444444444444,
             "#bd3786"
            ],
            [
             0.5555555555555556,
             "#d8576b"
            ],
            [
             0.6666666666666666,
             "#ed7953"
            ],
            [
             0.7777777777777778,
             "#fb9f3a"
            ],
            [
             0.8888888888888888,
             "#fdca26"
            ],
            [
             1,
             "#f0f921"
            ]
           ]
          },
          "colorway": [
           "#636efa",
           "#EF553B",
           "#00cc96",
           "#ab63fa",
           "#FFA15A",
           "#19d3f3",
           "#FF6692",
           "#B6E880",
           "#FF97FF",
           "#FECB52"
          ],
          "font": {
           "color": "#2a3f5f"
          },
          "geo": {
           "bgcolor": "white",
           "lakecolor": "white",
           "landcolor": "#E5ECF6",
           "showlakes": true,
           "showland": true,
           "subunitcolor": "white"
          },
          "hoverlabel": {
           "align": "left"
          },
          "hovermode": "closest",
          "mapbox": {
           "style": "light"
          },
          "paper_bgcolor": "white",
          "plot_bgcolor": "#E5ECF6",
          "polar": {
           "angularaxis": {
            "gridcolor": "white",
            "linecolor": "white",
            "ticks": ""
           },
           "bgcolor": "#E5ECF6",
           "radialaxis": {
            "gridcolor": "white",
            "linecolor": "white",
            "ticks": ""
           }
          },
          "scene": {
           "xaxis": {
            "backgroundcolor": "#E5ECF6",
            "gridcolor": "white",
            "gridwidth": 2,
            "linecolor": "white",
            "showbackground": true,
            "ticks": "",
            "zerolinecolor": "white"
           },
           "yaxis": {
            "backgroundcolor": "#E5ECF6",
            "gridcolor": "white",
            "gridwidth": 2,
            "linecolor": "white",
            "showbackground": true,
            "ticks": "",
            "zerolinecolor": "white"
           },
           "zaxis": {
            "backgroundcolor": "#E5ECF6",
            "gridcolor": "white",
            "gridwidth": 2,
            "linecolor": "white",
            "showbackground": true,
            "ticks": "",
            "zerolinecolor": "white"
           }
          },
          "shapedefaults": {
           "line": {
            "color": "#2a3f5f"
           }
          },
          "ternary": {
           "aaxis": {
            "gridcolor": "white",
            "linecolor": "white",
            "ticks": ""
           },
           "baxis": {
            "gridcolor": "white",
            "linecolor": "white",
            "ticks": ""
           },
           "bgcolor": "#E5ECF6",
           "caxis": {
            "gridcolor": "white",
            "linecolor": "white",
            "ticks": ""
           }
          },
          "title": {
           "x": 0.05
          },
          "xaxis": {
           "automargin": true,
           "gridcolor": "white",
           "linecolor": "white",
           "ticks": "",
           "title": {
            "standoff": 15
           },
           "zerolinecolor": "white",
           "zerolinewidth": 2
          },
          "yaxis": {
           "automargin": true,
           "gridcolor": "white",
           "linecolor": "white",
           "ticks": "",
           "title": {
            "standoff": 15
           },
           "zerolinecolor": "white",
           "zerolinewidth": 2
          }
         }
        },
        "title": {
         "text": "Proportion of Q154_1 Sentences Relative to Total Q154 Sentences by Country"
        },
        "xaxis": {
         "anchor": "y",
         "categoryarray": [
          "AND",
          "ARG",
          "ARM",
          "AUS",
          "BGD",
          "BOL",
          "BRA",
          "CAN",
          "CHL",
          "CHN",
          "COL",
          "CYP",
          "CZE",
          "DEU",
          "ECU",
          "EGY",
          "ETH",
          "GBR",
          "GRC",
          "GTM",
          "IDN",
          "IND",
          "IRN",
          "IRQ",
          "JOR",
          "JPN",
          "KAZ",
          "KEN",
          "KGZ",
          "KOR",
          "LBN",
          "LBY",
          "MAR",
          "MDV",
          "MEX",
          "MMR",
          "MNG",
          "MYS",
          "NGA",
          "NIC",
          "NLD",
          "NZL",
          "PAK",
          "PER",
          "PHL",
          "ROU",
          "RUS",
          "SGP",
          "SRB",
          "SVK",
          "THA",
          "TJK",
          "TUN",
          "TUR",
          "UKR",
          "URY",
          "USA",
          "UZB",
          "VEN",
          "VNM",
          "ZWE"
         ],
         "categoryorder": "array",
         "domain": [
          0,
          1
         ],
         "title": {
          "text": "Country"
         }
        },
        "yaxis": {
         "anchor": "x",
         "domain": [
          0,
          1
         ],
         "title": {
          "text": "Proportion of Q154_1"
         }
        }
       }
      }
     },
     "metadata": {},
     "output_type": "display_data"
    }
   ],
   "source": [
    "## (Visualization -I) ##\n",
    "\n",
    "# This code filters predicted Q154-related labels from the predictions dataset,\n",
    "# calculates sentence counts and proportions of given response per country,\n",
    "# prepares the data for ordered plotting,\n",
    "# then creates and displays a scatter plot showing the proportion of Q154_1 sentences relative to total Q154 sentences by country,\n",
    "# with point sizes representing sentence counts, x-axis showing the countries and y-axis the proportion of given response to total count responses.\n",
    "\n",
    "%run visualize_preds_props.py"
   ]
  },
  {
   "cell_type": "code",
   "execution_count": 8,
   "id": "7f482e3c",
   "metadata": {},
   "outputs": [
    {
     "data": {
      "application/vnd.plotly.v1+json": {
       "config": {
        "plotlyServerURL": "https://plot.ly"
       },
       "data": [
        {
         "hovertemplate": "<b>%{hovertext}</b><br><br>Country=%{x}<br>Proportion of Q154=1=%{y}<br>Total Responses=%{marker.size}<extra></extra>",
         "hovertext": [
          "AND"
         ],
         "legendgroup": "AND",
         "marker": {
          "color": "#636efa",
          "size": {
           "bdata": "7AM=",
           "dtype": "i2"
          },
          "sizemode": "area",
          "sizeref": 2.51125,
          "symbol": "circle"
         },
         "mode": "markers",
         "name": "AND",
         "orientation": "v",
         "showlegend": true,
         "type": "scatter",
         "x": [
          "AND"
         ],
         "xaxis": "x",
         "y": {
          "bdata": "BQHN9f1l1D8=",
          "dtype": "f8"
         },
         "yaxis": "y"
        },
        {
         "hovertemplate": "<b>%{hovertext}</b><br><br>Country=%{x}<br>Proportion of Q154=1=%{y}<br>Total Responses=%{marker.size}<extra></extra>",
         "hovertext": [
          "ARG"
         ],
         "legendgroup": "ARG",
         "marker": {
          "color": "#EF553B",
          "size": {
           "bdata": "6wM=",
           "dtype": "i2"
          },
          "sizemode": "area",
          "sizeref": 2.51125,
          "symbol": "circle"
         },
         "mode": "markers",
         "name": "ARG",
         "orientation": "v",
         "showlegend": true,
         "type": "scatter",
         "x": [
          "ARG"
         ],
         "xaxis": "x",
         "y": {
          "bdata": "coO3Uyimzz8=",
          "dtype": "f8"
         },
         "yaxis": "y"
        },
        {
         "hovertemplate": "<b>%{hovertext}</b><br><br>Country=%{x}<br>Proportion of Q154=1=%{y}<br>Total Responses=%{marker.size}<extra></extra>",
         "hovertext": [
          "ARM"
         ],
         "legendgroup": "ARM",
         "marker": {
          "color": "#00cc96",
          "size": {
           "bdata": "xwQ=",
           "dtype": "i2"
          },
          "sizemode": "area",
          "sizeref": 2.51125,
          "symbol": "circle"
         },
         "mode": "markers",
         "name": "ARM",
         "orientation": "v",
         "showlegend": true,
         "type": "scatter",
         "x": [
          "ARM"
         ],
         "xaxis": "x",
         "y": {
          "bdata": "LHSDFHIp5j8=",
          "dtype": "f8"
         },
         "yaxis": "y"
        },
        {
         "hovertemplate": "<b>%{hovertext}</b><br><br>Country=%{x}<br>Proportion of Q154=1=%{y}<br>Total Responses=%{marker.size}<extra></extra>",
         "hovertext": [
          "AUS"
         ],
         "legendgroup": "AUS",
         "marker": {
          "color": "#ab63fa",
          "size": {
           "bdata": "FQc=",
           "dtype": "i2"
          },
          "sizemode": "area",
          "sizeref": 2.51125,
          "symbol": "circle"
         },
         "mode": "markers",
         "name": "AUS",
         "orientation": "v",
         "showlegend": true,
         "type": "scatter",
         "x": [
          "AUS"
         ],
         "xaxis": "x",
         "y": {
          "bdata": "jOniFREr0z8=",
          "dtype": "f8"
         },
         "yaxis": "y"
        },
        {
         "hovertemplate": "<b>%{hovertext}</b><br><br>Country=%{x}<br>Proportion of Q154=1=%{y}<br>Total Responses=%{marker.size}<extra></extra>",
         "hovertext": [
          "BGD"
         ],
         "legendgroup": "BGD",
         "marker": {
          "color": "#FFA15A",
          "size": {
           "bdata": "sAQ=",
           "dtype": "i2"
          },
          "sizemode": "area",
          "sizeref": 2.51125,
          "symbol": "circle"
         },
         "mode": "markers",
         "name": "BGD",
         "orientation": "v",
         "showlegend": true,
         "type": "scatter",
         "x": [
          "BGD"
         ],
         "xaxis": "x",
         "y": {
          "bdata": "9ihcj8L14j8=",
          "dtype": "f8"
         },
         "yaxis": "y"
        },
        {
         "hovertemplate": "<b>%{hovertext}</b><br><br>Country=%{x}<br>Proportion of Q154=1=%{y}<br>Total Responses=%{marker.size}<extra></extra>",
         "hovertext": [
          "BOL"
         ],
         "legendgroup": "BOL",
         "marker": {
          "color": "#19d3f3",
          "size": {
           "bdata": "Ewg=",
           "dtype": "i2"
          },
          "sizemode": "area",
          "sizeref": 2.51125,
          "symbol": "circle"
         },
         "mode": "markers",
         "name": "BOL",
         "orientation": "v",
         "showlegend": true,
         "type": "scatter",
         "x": [
          "BOL"
         ],
         "xaxis": "x",
         "y": {
          "bdata": "IyesZpEu2D8=",
          "dtype": "f8"
         },
         "yaxis": "y"
        },
        {
         "hovertemplate": "<b>%{hovertext}</b><br><br>Country=%{x}<br>Proportion of Q154=1=%{y}<br>Total Responses=%{marker.size}<extra></extra>",
         "hovertext": [
          "BRA"
         ],
         "legendgroup": "BRA",
         "marker": {
          "color": "#FF6692",
          "size": {
           "bdata": "4gY=",
           "dtype": "i2"
          },
          "sizemode": "area",
          "sizeref": 2.51125,
          "symbol": "circle"
         },
         "mode": "markers",
         "name": "BRA",
         "orientation": "v",
         "showlegend": true,
         "type": "scatter",
         "x": [
          "BRA"
         ],
         "xaxis": "x",
         "y": {
          "bdata": "4zTqemll0z8=",
          "dtype": "f8"
         },
         "yaxis": "y"
        },
        {
         "hovertemplate": "<b>%{hovertext}</b><br><br>Country=%{x}<br>Proportion of Q154=1=%{y}<br>Total Responses=%{marker.size}<extra></extra>",
         "hovertext": [
          "CAN"
         ],
         "legendgroup": "CAN",
         "marker": {
          "color": "#B6E880",
          "size": {
           "bdata": "sg8=",
           "dtype": "i2"
          },
          "sizemode": "area",
          "sizeref": 2.51125,
          "symbol": "circle"
         },
         "mode": "markers",
         "name": "CAN",
         "orientation": "v",
         "showlegend": true,
         "type": "scatter",
         "x": [
          "CAN"
         ],
         "xaxis": "x",
         "y": {
          "bdata": "IfNsUekByT8=",
          "dtype": "f8"
         },
         "yaxis": "y"
        },
        {
         "hovertemplate": "<b>%{hovertext}</b><br><br>Country=%{x}<br>Proportion of Q154=1=%{y}<br>Total Responses=%{marker.size}<extra></extra>",
         "hovertext": [
          "CHL"
         ],
         "legendgroup": "CHL",
         "marker": {
          "color": "#FF97FF",
          "size": {
           "bdata": "6AM=",
           "dtype": "i2"
          },
          "sizemode": "area",
          "sizeref": 2.51125,
          "symbol": "circle"
         },
         "mode": "markers",
         "name": "CHL",
         "orientation": "v",
         "showlegend": true,
         "type": "scatter",
         "x": [
          "CHL"
         ],
         "xaxis": "x",
         "y": {
          "bdata": "DAIrhxbZ1j8=",
          "dtype": "f8"
         },
         "yaxis": "y"
        },
        {
         "hovertemplate": "<b>%{hovertext}</b><br><br>Country=%{x}<br>Proportion of Q154=1=%{y}<br>Total Responses=%{marker.size}<extra></extra>",
         "hovertext": [
          "CHN"
         ],
         "legendgroup": "CHN",
         "marker": {
          "color": "#FECB52",
          "size": {
           "bdata": "3As=",
           "dtype": "i2"
          },
          "sizemode": "area",
          "sizeref": 2.51125,
          "symbol": "circle"
         },
         "mode": "markers",
         "name": "CHN",
         "orientation": "v",
         "showlegend": true,
         "type": "scatter",
         "x": [
          "CHN"
         ],
         "xaxis": "x",
         "y": {
          "bdata": "27pa5Wg/3D8=",
          "dtype": "f8"
         },
         "yaxis": "y"
        },
        {
         "hovertemplate": "<b>%{hovertext}</b><br><br>Country=%{x}<br>Proportion of Q154=1=%{y}<br>Total Responses=%{marker.size}<extra></extra>",
         "hovertext": [
          "COL"
         ],
         "legendgroup": "COL",
         "marker": {
          "color": "#636efa",
          "size": {
           "bdata": "8AU=",
           "dtype": "i2"
          },
          "sizemode": "area",
          "sizeref": 2.51125,
          "symbol": "circle"
         },
         "mode": "markers",
         "name": "COL",
         "orientation": "v",
         "showlegend": true,
         "type": "scatter",
         "x": [
          "COL"
         ],
         "xaxis": "x",
         "y": {
          "bdata": "OfV7bolT1z8=",
          "dtype": "f8"
         },
         "yaxis": "y"
        },
        {
         "hovertemplate": "<b>%{hovertext}</b><br><br>Country=%{x}<br>Proportion of Q154=1=%{y}<br>Total Responses=%{marker.size}<extra></extra>",
         "hovertext": [
          "CYP"
         ],
         "legendgroup": "CYP",
         "marker": {
          "color": "#EF553B",
          "size": {
           "bdata": "6AM=",
           "dtype": "i2"
          },
          "sizemode": "area",
          "sizeref": 2.51125,
          "symbol": "circle"
         },
         "mode": "markers",
         "name": "CYP",
         "orientation": "v",
         "showlegend": true,
         "type": "scatter",
         "x": [
          "CYP"
         ],
         "xaxis": "x",
         "y": {
          "bdata": "K4cW2c730z8=",
          "dtype": "f8"
         },
         "yaxis": "y"
        },
        {
         "hovertemplate": "<b>%{hovertext}</b><br><br>Country=%{x}<br>Proportion of Q154=1=%{y}<br>Total Responses=%{marker.size}<extra></extra>",
         "hovertext": [
          "CZE"
         ],
         "legendgroup": "CZE",
         "marker": {
          "color": "#00cc96",
          "size": {
           "bdata": "sAQ=",
           "dtype": "i2"
          },
          "sizemode": "area",
          "sizeref": 2.51125,
          "symbol": "circle"
         },
         "mode": "markers",
         "name": "CZE",
         "orientation": "v",
         "showlegend": true,
         "type": "scatter",
         "x": [
          "CZE"
         ],
         "xaxis": "x",
         "y": {
          "bdata": "iYiIiIiIyD8=",
          "dtype": "f8"
         },
         "yaxis": "y"
        },
        {
         "hovertemplate": "<b>%{hovertext}</b><br><br>Country=%{x}<br>Proportion of Q154=1=%{y}<br>Total Responses=%{marker.size}<extra></extra>",
         "hovertext": [
          "DEU"
         ],
         "legendgroup": "DEU",
         "marker": {
          "color": "#ab63fa",
          "size": {
           "bdata": "+AU=",
           "dtype": "i2"
          },
          "sizemode": "area",
          "sizeref": 2.51125,
          "symbol": "circle"
         },
         "mode": "markers",
         "name": "DEU",
         "orientation": "v",
         "showlegend": true,
         "type": "scatter",
         "x": [
          "DEU"
         ],
         "xaxis": "x",
         "y": {
          "bdata": "jurv8zbpzj8=",
          "dtype": "f8"
         },
         "yaxis": "y"
        },
        {
         "hovertemplate": "<b>%{hovertext}</b><br><br>Country=%{x}<br>Proportion of Q154=1=%{y}<br>Total Responses=%{marker.size}<extra></extra>",
         "hovertext": [
          "ECU"
         ],
         "legendgroup": "ECU",
         "marker": {
          "color": "#FFA15A",
          "size": {
           "bdata": "sAQ=",
           "dtype": "i2"
          },
          "sizemode": "area",
          "sizeref": 2.51125,
          "symbol": "circle"
         },
         "mode": "markers",
         "name": "ECU",
         "orientation": "v",
         "showlegend": true,
         "type": "scatter",
         "x": [
          "ECU"
         ],
         "xaxis": "x",
         "y": {
          "bdata": "MJb8Yskv4D8=",
          "dtype": "f8"
         },
         "yaxis": "y"
        },
        {
         "hovertemplate": "<b>%{hovertext}</b><br><br>Country=%{x}<br>Proportion of Q154=1=%{y}<br>Total Responses=%{marker.size}<extra></extra>",
         "hovertext": [
          "EGY"
         ],
         "legendgroup": "EGY",
         "marker": {
          "color": "#19d3f3",
          "size": {
           "bdata": "sAQ=",
           "dtype": "i2"
          },
          "sizemode": "area",
          "sizeref": 2.51125,
          "symbol": "circle"
         },
         "mode": "markers",
         "name": "EGY",
         "orientation": "v",
         "showlegend": true,
         "type": "scatter",
         "x": [
          "EGY"
         ],
         "xaxis": "x",
         "y": {
          "bdata": "baDTBjpt2D8=",
          "dtype": "f8"
         },
         "yaxis": "y"
        },
        {
         "hovertemplate": "<b>%{hovertext}</b><br><br>Country=%{x}<br>Proportion of Q154=1=%{y}<br>Total Responses=%{marker.size}<extra></extra>",
         "hovertext": [
          "ETH"
         ],
         "legendgroup": "ETH",
         "marker": {
          "color": "#FF6692",
          "size": {
           "bdata": "zgQ=",
           "dtype": "i2"
          },
          "sizemode": "area",
          "sizeref": 2.51125,
          "symbol": "circle"
         },
         "mode": "markers",
         "name": "ETH",
         "orientation": "v",
         "showlegend": true,
         "type": "scatter",
         "x": [
          "ETH"
         ],
         "xaxis": "x",
         "y": {
          "bdata": "lf9W+W+V3z8=",
          "dtype": "f8"
         },
         "yaxis": "y"
        },
        {
         "hovertemplate": "<b>%{hovertext}</b><br><br>Country=%{x}<br>Proportion of Q154=1=%{y}<br>Total Responses=%{marker.size}<extra></extra>",
         "hovertext": [
          "GBR"
         ],
         "legendgroup": "GBR",
         "marker": {
          "color": "#B6E880",
          "size": {
           "bdata": "MQo=",
           "dtype": "i2"
          },
          "sizemode": "area",
          "sizeref": 2.51125,
          "symbol": "circle"
         },
         "mode": "markers",
         "name": "GBR",
         "orientation": "v",
         "showlegend": true,
         "type": "scatter",
         "x": [
          "GBR"
         ],
         "xaxis": "x",
         "y": {
          "bdata": "iUw02ya0xD8=",
          "dtype": "f8"
         },
         "yaxis": "y"
        },
        {
         "hovertemplate": "<b>%{hovertext}</b><br><br>Country=%{x}<br>Proportion of Q154=1=%{y}<br>Total Responses=%{marker.size}<extra></extra>",
         "hovertext": [
          "GRC"
         ],
         "legendgroup": "GRC",
         "marker": {
          "color": "#FF97FF",
          "size": {
           "bdata": "sAQ=",
           "dtype": "i2"
          },
          "sizemode": "area",
          "sizeref": 2.51125,
          "symbol": "circle"
         },
         "mode": "markers",
         "name": "GRC",
         "orientation": "v",
         "showlegend": true,
         "type": "scatter",
         "x": [
          "GRC"
         ],
         "xaxis": "x",
         "y": {
          "bdata": "baDTBjpt2D8=",
          "dtype": "f8"
         },
         "yaxis": "y"
        },
        {
         "hovertemplate": "<b>%{hovertext}</b><br><br>Country=%{x}<br>Proportion of Q154=1=%{y}<br>Total Responses=%{marker.size}<extra></extra>",
         "hovertext": [
          "GTM"
         ],
         "legendgroup": "GTM",
         "marker": {
          "color": "#FECB52",
          "size": {
           "bdata": "zQQ=",
           "dtype": "i2"
          },
          "sizemode": "area",
          "sizeref": 2.51125,
          "symbol": "circle"
         },
         "mode": "markers",
         "name": "GTM",
         "orientation": "v",
         "showlegend": true,
         "type": "scatter",
         "x": [
          "GTM"
         ],
         "xaxis": "x",
         "y": {
          "bdata": "tQzPltxR0z8=",
          "dtype": "f8"
         },
         "yaxis": "y"
        },
        {
         "hovertemplate": "<b>%{hovertext}</b><br><br>Country=%{x}<br>Proportion of Q154=1=%{y}<br>Total Responses=%{marker.size}<extra></extra>",
         "hovertext": [
          "IDN"
         ],
         "legendgroup": "IDN",
         "marker": {
          "color": "#636efa",
          "size": {
           "bdata": "gAw=",
           "dtype": "i2"
          },
          "sizemode": "area",
          "sizeref": 2.51125,
          "symbol": "circle"
         },
         "mode": "markers",
         "name": "IDN",
         "orientation": "v",
         "showlegend": true,
         "type": "scatter",
         "x": [
          "IDN"
         ],
         "xaxis": "x",
         "y": {
          "bdata": "w/UoXI/C4z8=",
          "dtype": "f8"
         },
         "yaxis": "y"
        },
        {
         "hovertemplate": "<b>%{hovertext}</b><br><br>Country=%{x}<br>Proportion of Q154=1=%{y}<br>Total Responses=%{marker.size}<extra></extra>",
         "hovertext": [
          "IND"
         ],
         "legendgroup": "IND",
         "marker": {
          "color": "#EF553B",
          "size": {
           "bdata": "nAY=",
           "dtype": "i2"
          },
          "sizemode": "area",
          "sizeref": 2.51125,
          "symbol": "circle"
         },
         "mode": "markers",
         "name": "IND",
         "orientation": "v",
         "showlegend": true,
         "type": "scatter",
         "x": [
          "IND"
         ],
         "xaxis": "x",
         "y": {
          "bdata": "OY7jOI7j2D8=",
          "dtype": "f8"
         },
         "yaxis": "y"
        },
        {
         "hovertemplate": "<b>%{hovertext}</b><br><br>Country=%{x}<br>Proportion of Q154=1=%{y}<br>Total Responses=%{marker.size}<extra></extra>",
         "hovertext": [
          "IRN"
         ],
         "legendgroup": "IRN",
         "marker": {
          "color": "#00cc96",
          "size": {
           "bdata": "2wU=",
           "dtype": "i2"
          },
          "sizemode": "area",
          "sizeref": 2.51125,
          "symbol": "circle"
         },
         "mode": "markers",
         "name": "IRN",
         "orientation": "v",
         "showlegend": true,
         "type": "scatter",
         "x": [
          "IRN"
         ],
         "xaxis": "x",
         "y": {
          "bdata": "rkW4KwCt0T8=",
          "dtype": "f8"
         },
         "yaxis": "y"
        },
        {
         "hovertemplate": "<b>%{hovertext}</b><br><br>Country=%{x}<br>Proportion of Q154=1=%{y}<br>Total Responses=%{marker.size}<extra></extra>",
         "hovertext": [
          "IRQ"
         ],
         "legendgroup": "IRQ",
         "marker": {
          "color": "#ab63fa",
          "size": {
           "bdata": "sAQ=",
           "dtype": "i2"
          },
          "sizemode": "area",
          "sizeref": 2.51125,
          "symbol": "circle"
         },
         "mode": "markers",
         "name": "IRQ",
         "orientation": "v",
         "showlegend": true,
         "type": "scatter",
         "x": [
          "IRQ"
         ],
         "xaxis": "x",
         "y": {
          "bdata": "WfKLJb9Y5D8=",
          "dtype": "f8"
         },
         "yaxis": "y"
        },
        {
         "hovertemplate": "<b>%{hovertext}</b><br><br>Country=%{x}<br>Proportion of Q154=1=%{y}<br>Total Responses=%{marker.size}<extra></extra>",
         "hovertext": [
          "JOR"
         ],
         "legendgroup": "JOR",
         "marker": {
          "color": "#FFA15A",
          "size": {
           "bdata": "swQ=",
           "dtype": "i2"
          },
          "sizemode": "area",
          "sizeref": 2.51125,
          "symbol": "circle"
         },
         "mode": "markers",
         "name": "JOR",
         "orientation": "v",
         "showlegend": true,
         "type": "scatter",
         "x": [
          "JOR"
         ],
         "xaxis": "x",
         "y": {
          "bdata": "Z3Qv2x5V4D8=",
          "dtype": "f8"
         },
         "yaxis": "y"
        },
        {
         "hovertemplate": "<b>%{hovertext}</b><br><br>Country=%{x}<br>Proportion of Q154=1=%{y}<br>Total Responses=%{marker.size}<extra></extra>",
         "hovertext": [
          "JPN"
         ],
         "legendgroup": "JPN",
         "marker": {
          "color": "#19d3f3",
          "size": {
           "bdata": "SQU=",
           "dtype": "i2"
          },
          "sizemode": "area",
          "sizeref": 2.51125,
          "symbol": "circle"
         },
         "mode": "markers",
         "name": "JPN",
         "orientation": "v",
         "showlegend": true,
         "type": "scatter",
         "x": [
          "JPN"
         ],
         "xaxis": "x",
         "y": {
          "bdata": "HBrGoWEc2j8=",
          "dtype": "f8"
         },
         "yaxis": "y"
        },
        {
         "hovertemplate": "<b>%{hovertext}</b><br><br>Country=%{x}<br>Proportion of Q154=1=%{y}<br>Total Responses=%{marker.size}<extra></extra>",
         "hovertext": [
          "KAZ"
         ],
         "legendgroup": "KAZ",
         "marker": {
          "color": "#FF6692",
          "size": {
           "bdata": "/AQ=",
           "dtype": "i2"
          },
          "sizemode": "area",
          "sizeref": 2.51125,
          "symbol": "circle"
         },
         "mode": "markers",
         "name": "KAZ",
         "orientation": "v",
         "showlegend": true,
         "type": "scatter",
         "x": [
          "KAZ"
         ],
         "xaxis": "x",
         "y": {
          "bdata": "/fu6KTSB4T8=",
          "dtype": "f8"
         },
         "yaxis": "y"
        },
        {
         "hovertemplate": "<b>%{hovertext}</b><br><br>Country=%{x}<br>Proportion of Q154=1=%{y}<br>Total Responses=%{marker.size}<extra></extra>",
         "hovertext": [
          "KEN"
         ],
         "legendgroup": "KEN",
         "marker": {
          "color": "#B6E880",
          "size": {
           "bdata": "8gQ=",
           "dtype": "i2"
          },
          "sizemode": "area",
          "sizeref": 2.51125,
          "symbol": "circle"
         },
         "mode": "markers",
         "name": "KEN",
         "orientation": "v",
         "showlegend": true,
         "type": "scatter",
         "x": [
          "KEN"
         ],
         "xaxis": "x",
         "y": {
          "bdata": "ROGrT1NC3D8=",
          "dtype": "f8"
         },
         "yaxis": "y"
        },
        {
         "hovertemplate": "<b>%{hovertext}</b><br><br>Country=%{x}<br>Proportion of Q154=1=%{y}<br>Total Responses=%{marker.size}<extra></extra>",
         "hovertext": [
          "KGZ"
         ],
         "legendgroup": "KGZ",
         "marker": {
          "color": "#FF97FF",
          "size": {
           "bdata": "sAQ=",
           "dtype": "i2"
          },
          "sizemode": "area",
          "sizeref": 2.51125,
          "symbol": "circle"
         },
         "mode": "markers",
         "name": "KGZ",
         "orientation": "v",
         "showlegend": true,
         "type": "scatter",
         "x": [
          "KGZ"
         ],
         "xaxis": "x",
         "y": {
          "bdata": "YCz5xZJf4j8=",
          "dtype": "f8"
         },
         "yaxis": "y"
        },
        {
         "hovertemplate": "<b>%{hovertext}</b><br><br>Country=%{x}<br>Proportion of Q154=1=%{y}<br>Total Responses=%{marker.size}<extra></extra>",
         "hovertext": [
          "KOR"
         ],
         "legendgroup": "KOR",
         "marker": {
          "color": "#FECB52",
          "size": {
           "bdata": "3QQ=",
           "dtype": "i2"
          },
          "sizemode": "area",
          "sizeref": 2.51125,
          "symbol": "circle"
         },
         "mode": "markers",
         "name": "KOR",
         "orientation": "v",
         "showlegend": true,
         "type": "scatter",
         "x": [
          "KOR"
         ],
         "xaxis": "x",
         "y": {
          "bdata": "FJWnhe7Y1T8=",
          "dtype": "f8"
         },
         "yaxis": "y"
        },
        {
         "hovertemplate": "<b>%{hovertext}</b><br><br>Country=%{x}<br>Proportion of Q154=1=%{y}<br>Total Responses=%{marker.size}<extra></extra>",
         "hovertext": [
          "LBN"
         ],
         "legendgroup": "LBN",
         "marker": {
          "color": "#636efa",
          "size": {
           "bdata": "sAQ=",
           "dtype": "i2"
          },
          "sizemode": "area",
          "sizeref": 2.51125,
          "symbol": "circle"
         },
         "mode": "markers",
         "name": "LBN",
         "orientation": "v",
         "showlegend": true,
         "type": "scatter",
         "x": [
          "LBN"
         ],
         "xaxis": "x",
         "y": {
          "bdata": "gk4b6LSB4D8=",
          "dtype": "f8"
         },
         "yaxis": "y"
        },
        {
         "hovertemplate": "<b>%{hovertext}</b><br><br>Country=%{x}<br>Proportion of Q154=1=%{y}<br>Total Responses=%{marker.size}<extra></extra>",
         "hovertext": [
          "LBY"
         ],
         "legendgroup": "LBY",
         "marker": {
          "color": "#EF553B",
          "size": {
           "bdata": "rAQ=",
           "dtype": "i2"
          },
          "sizemode": "area",
          "sizeref": 2.51125,
          "symbol": "circle"
         },
         "mode": "markers",
         "name": "LBY",
         "orientation": "v",
         "showlegend": true,
         "type": "scatter",
         "x": [
          "LBY"
         ],
         "xaxis": "x",
         "y": {
          "bdata": "IoijQ5P84z8=",
          "dtype": "f8"
         },
         "yaxis": "y"
        },
        {
         "hovertemplate": "<b>%{hovertext}</b><br><br>Country=%{x}<br>Proportion of Q154=1=%{y}<br>Total Responses=%{marker.size}<extra></extra>",
         "hovertext": [
          "MAR"
         ],
         "legendgroup": "MAR",
         "marker": {
          "color": "#00cc96",
          "size": {
           "bdata": "sAQ=",
           "dtype": "i2"
          },
          "sizemode": "area",
          "sizeref": 2.51125,
          "symbol": "circle"
         },
         "mode": "markers",
         "name": "MAR",
         "orientation": "v",
         "showlegend": true,
         "type": "scatter",
         "x": [
          "MAR"
         ],
         "xaxis": "x",
         "y": {
          "bdata": "q6qqqqqq3j8=",
          "dtype": "f8"
         },
         "yaxis": "y"
        },
        {
         "hovertemplate": "<b>%{hovertext}</b><br><br>Country=%{x}<br>Proportion of Q154=1=%{y}<br>Total Responses=%{marker.size}<extra></extra>",
         "hovertext": [
          "MDV"
         ],
         "legendgroup": "MDV",
         "marker": {
          "color": "#ab63fa",
          "size": {
           "bdata": "DwQ=",
           "dtype": "i2"
          },
          "sizemode": "area",
          "sizeref": 2.51125,
          "symbol": "circle"
         },
         "mode": "markers",
         "name": "MDV",
         "orientation": "v",
         "showlegend": true,
         "type": "scatter",
         "x": [
          "MDV"
         ],
         "xaxis": "x",
         "y": {
          "bdata": "ScqFDy+v5z8=",
          "dtype": "f8"
         },
         "yaxis": "y"
        },
        {
         "hovertemplate": "<b>%{hovertext}</b><br><br>Country=%{x}<br>Proportion of Q154=1=%{y}<br>Total Responses=%{marker.size}<extra></extra>",
         "hovertext": [
          "MEX"
         ],
         "legendgroup": "MEX",
         "marker": {
          "color": "#FFA15A",
          "size": {
           "bdata": "zQY=",
           "dtype": "i2"
          },
          "sizemode": "area",
          "sizeref": 2.51125,
          "symbol": "circle"
         },
         "mode": "markers",
         "name": "MEX",
         "orientation": "v",
         "showlegend": true,
         "type": "scatter",
         "x": [
          "MEX"
         ],
         "xaxis": "x",
         "y": {
          "bdata": "jwm7KJfs0z8=",
          "dtype": "f8"
         },
         "yaxis": "y"
        },
        {
         "hovertemplate": "<b>%{hovertext}</b><br><br>Country=%{x}<br>Proportion of Q154=1=%{y}<br>Total Responses=%{marker.size}<extra></extra>",
         "hovertext": [
          "MMR"
         ],
         "legendgroup": "MMR",
         "marker": {
          "color": "#19d3f3",
          "size": {
           "bdata": "sAQ=",
           "dtype": "i2"
          },
          "sizemode": "area",
          "sizeref": 2.51125,
          "symbol": "circle"
         },
         "mode": "markers",
         "name": "MMR",
         "orientation": "v",
         "showlegend": true,
         "type": "scatter",
         "x": [
          "MMR"
         ],
         "xaxis": "x",
         "y": {
          "bdata": "6LSBThvo1D8=",
          "dtype": "f8"
         },
         "yaxis": "y"
        },
        {
         "hovertemplate": "<b>%{hovertext}</b><br><br>Country=%{x}<br>Proportion of Q154=1=%{y}<br>Total Responses=%{marker.size}<extra></extra>",
         "hovertext": [
          "MNG"
         ],
         "legendgroup": "MNG",
         "marker": {
          "color": "#FF6692",
          "size": {
           "bdata": "ZgY=",
           "dtype": "i2"
          },
          "sizemode": "area",
          "sizeref": 2.51125,
          "symbol": "circle"
         },
         "mode": "markers",
         "name": "MNG",
         "orientation": "v",
         "showlegend": true,
         "type": "scatter",
         "x": [
          "MNG"
         ],
         "xaxis": "x",
         "y": {
          "bdata": "+Id/+Id/2D8=",
          "dtype": "f8"
         },
         "yaxis": "y"
        },
        {
         "hovertemplate": "<b>%{hovertext}</b><br><br>Country=%{x}<br>Proportion of Q154=1=%{y}<br>Total Responses=%{marker.size}<extra></extra>",
         "hovertext": [
          "MYS"
         ],
         "legendgroup": "MYS",
         "marker": {
          "color": "#B6E880",
          "size": {
           "bdata": "IQU=",
           "dtype": "i2"
          },
          "sizemode": "area",
          "sizeref": 2.51125,
          "symbol": "circle"
         },
         "mode": "markers",
         "name": "MYS",
         "orientation": "v",
         "showlegend": true,
         "type": "scatter",
         "x": [
          "MYS"
         ],
         "xaxis": "x",
         "y": {
          "bdata": "AV3DVuMy2z8=",
          "dtype": "f8"
         },
         "yaxis": "y"
        },
        {
         "hovertemplate": "<b>%{hovertext}</b><br><br>Country=%{x}<br>Proportion of Q154=1=%{y}<br>Total Responses=%{marker.size}<extra></extra>",
         "hovertext": [
          "NGA"
         ],
         "legendgroup": "NGA",
         "marker": {
          "color": "#FF97FF",
          "size": {
           "bdata": "1QQ=",
           "dtype": "i2"
          },
          "sizemode": "area",
          "sizeref": 2.51125,
          "symbol": "circle"
         },
         "mode": "markers",
         "name": "NGA",
         "orientation": "v",
         "showlegend": true,
         "type": "scatter",
         "x": [
          "NGA"
         ],
         "xaxis": "x",
         "y": {
          "bdata": "v1f4EPZv1z8=",
          "dtype": "f8"
         },
         "yaxis": "y"
        },
        {
         "hovertemplate": "<b>%{hovertext}</b><br><br>Country=%{x}<br>Proportion of Q154=1=%{y}<br>Total Responses=%{marker.size}<extra></extra>",
         "hovertext": [
          "NIC"
         ],
         "legendgroup": "NIC",
         "marker": {
          "color": "#FECB52",
          "size": {
           "bdata": "sAQ=",
           "dtype": "i2"
          },
          "sizemode": "area",
          "sizeref": 2.51125,
          "symbol": "circle"
         },
         "mode": "markers",
         "name": "NIC",
         "orientation": "v",
         "showlegend": true,
         "type": "scatter",
         "x": [
          "NIC"
         ],
         "xaxis": "x",
         "y": {
          "bdata": "4XoUrkfh3j8=",
          "dtype": "f8"
         },
         "yaxis": "y"
        },
        {
         "hovertemplate": "<b>%{hovertext}</b><br><br>Country=%{x}<br>Proportion of Q154=1=%{y}<br>Total Responses=%{marker.size}<extra></extra>",
         "hovertext": [
          "NLD"
         ],
         "legendgroup": "NLD",
         "marker": {
          "color": "#636efa",
          "size": {
           "bdata": "YQg=",
           "dtype": "i2"
          },
          "sizemode": "area",
          "sizeref": 2.51125,
          "symbol": "circle"
         },
         "mode": "markers",
         "name": "NLD",
         "orientation": "v",
         "showlegend": true,
         "type": "scatter",
         "x": [
          "NLD"
         ],
         "xaxis": "x",
         "y": {
          "bdata": "4CyIa1tC1D8=",
          "dtype": "f8"
         },
         "yaxis": "y"
        },
        {
         "hovertemplate": "<b>%{hovertext}</b><br><br>Country=%{x}<br>Proportion of Q154=1=%{y}<br>Total Responses=%{marker.size}<extra></extra>",
         "hovertext": [
          "NZL"
         ],
         "legendgroup": "NZL",
         "marker": {
          "color": "#EF553B",
          "size": {
           "bdata": "IQQ=",
           "dtype": "i2"
          },
          "sizemode": "area",
          "sizeref": 2.51125,
          "symbol": "circle"
         },
         "mode": "markers",
         "name": "NZL",
         "orientation": "v",
         "showlegend": true,
         "type": "scatter",
         "x": [
          "NZL"
         ],
         "xaxis": "x",
         "y": {
          "bdata": "3PRt+jZ9yz8=",
          "dtype": "f8"
         },
         "yaxis": "y"
        },
        {
         "hovertemplate": "<b>%{hovertext}</b><br><br>Country=%{x}<br>Proportion of Q154=1=%{y}<br>Total Responses=%{marker.size}<extra></extra>",
         "hovertext": [
          "PAK"
         ],
         "legendgroup": "PAK",
         "marker": {
          "color": "#00cc96",
          "size": {
           "bdata": "ywc=",
           "dtype": "i2"
          },
          "sizemode": "area",
          "sizeref": 2.51125,
          "symbol": "circle"
         },
         "mode": "markers",
         "name": "PAK",
         "orientation": "v",
         "showlegend": true,
         "type": "scatter",
         "x": [
          "PAK"
         ],
         "xaxis": "x",
         "y": {
          "bdata": "FHK1Ljwh1z8=",
          "dtype": "f8"
         },
         "yaxis": "y"
        },
        {
         "hovertemplate": "<b>%{hovertext}</b><br><br>Country=%{x}<br>Proportion of Q154=1=%{y}<br>Total Responses=%{marker.size}<extra></extra>",
         "hovertext": [
          "PER"
         ],
         "legendgroup": "PER",
         "marker": {
          "color": "#ab63fa",
          "size": {
           "bdata": "eAU=",
           "dtype": "i2"
          },
          "sizemode": "area",
          "sizeref": 2.51125,
          "symbol": "circle"
         },
         "mode": "markers",
         "name": "PER",
         "orientation": "v",
         "showlegend": true,
         "type": "scatter",
         "x": [
          "PER"
         ],
         "xaxis": "x",
         "y": {
          "bdata": "dVAHdVAH4T8=",
          "dtype": "f8"
         },
         "yaxis": "y"
        },
        {
         "hovertemplate": "<b>%{hovertext}</b><br><br>Country=%{x}<br>Proportion of Q154=1=%{y}<br>Total Responses=%{marker.size}<extra></extra>",
         "hovertext": [
          "PHL"
         ],
         "legendgroup": "PHL",
         "marker": {
          "color": "#FFA15A",
          "size": {
           "bdata": "sAQ=",
           "dtype": "i2"
          },
          "sizemode": "area",
          "sizeref": 2.51125,
          "symbol": "circle"
         },
         "mode": "markers",
         "name": "PHL",
         "orientation": "v",
         "showlegend": true,
         "type": "scatter",
         "x": [
          "PHL"
         ],
         "xaxis": "x",
         "y": {
          "bdata": "gk4b6LSB4D8=",
          "dtype": "f8"
         },
         "yaxis": "y"
        },
        {
         "hovertemplate": "<b>%{hovertext}</b><br><br>Country=%{x}<br>Proportion of Q154=1=%{y}<br>Total Responses=%{marker.size}<extra></extra>",
         "hovertext": [
          "ROU"
         ],
         "legendgroup": "ROU",
         "marker": {
          "color": "#19d3f3",
          "size": {
           "bdata": "6QQ=",
           "dtype": "i2"
          },
          "sizemode": "area",
          "sizeref": 2.51125,
          "symbol": "circle"
         },
         "mode": "markers",
         "name": "ROU",
         "orientation": "v",
         "showlegend": true,
         "type": "scatter",
         "x": [
          "ROU"
         ],
         "xaxis": "x",
         "y": {
          "bdata": "I+YmmZAq1z8=",
          "dtype": "f8"
         },
         "yaxis": "y"
        },
        {
         "hovertemplate": "<b>%{hovertext}</b><br><br>Country=%{x}<br>Proportion of Q154=1=%{y}<br>Total Responses=%{marker.size}<extra></extra>",
         "hovertext": [
          "RUS"
         ],
         "legendgroup": "RUS",
         "marker": {
          "color": "#FF6692",
          "size": {
           "bdata": "Egc=",
           "dtype": "i2"
          },
          "sizemode": "area",
          "sizeref": 2.51125,
          "symbol": "circle"
         },
         "mode": "markers",
         "name": "RUS",
         "orientation": "v",
         "showlegend": true,
         "type": "scatter",
         "x": [
          "RUS"
         ],
         "xaxis": "x",
         "y": {
          "bdata": "b7jUkACO2j8=",
          "dtype": "f8"
         },
         "yaxis": "y"
        },
        {
         "hovertemplate": "<b>%{hovertext}</b><br><br>Country=%{x}<br>Proportion of Q154=1=%{y}<br>Total Responses=%{marker.size}<extra></extra>",
         "hovertext": [
          "SGP"
         ],
         "legendgroup": "SGP",
         "marker": {
          "color": "#B6E880",
          "size": {
           "bdata": "3Ac=",
           "dtype": "i2"
          },
          "sizemode": "area",
          "sizeref": 2.51125,
          "symbol": "circle"
         },
         "mode": "markers",
         "name": "SGP",
         "orientation": "v",
         "showlegend": true,
         "type": "scatter",
         "x": [
          "SGP"
         ],
         "xaxis": "x",
         "y": {
          "bdata": "L7VED64m3D8=",
          "dtype": "f8"
         },
         "yaxis": "y"
        },
        {
         "hovertemplate": "<b>%{hovertext}</b><br><br>Country=%{x}<br>Proportion of Q154=1=%{y}<br>Total Responses=%{marker.size}<extra></extra>",
         "hovertext": [
          "SRB"
         ],
         "legendgroup": "SRB",
         "marker": {
          "color": "#FF97FF",
          "size": {
           "bdata": "FgQ=",
           "dtype": "i2"
          },
          "sizemode": "area",
          "sizeref": 2.51125,
          "symbol": "circle"
         },
         "mode": "markers",
         "name": "SRB",
         "orientation": "v",
         "showlegend": true,
         "type": "scatter",
         "x": [
          "SRB"
         ],
         "xaxis": "x",
         "y": {
          "bdata": "y2ZKOMfb3T8=",
          "dtype": "f8"
         },
         "yaxis": "y"
        },
        {
         "hovertemplate": "<b>%{hovertext}</b><br><br>Country=%{x}<br>Proportion of Q154=1=%{y}<br>Total Responses=%{marker.size}<extra></extra>",
         "hovertext": [
          "SVK"
         ],
         "legendgroup": "SVK",
         "marker": {
          "color": "#FECB52",
          "size": {
           "bdata": "sAQ=",
           "dtype": "i2"
          },
          "sizemode": "area",
          "sizeref": 2.51125,
          "symbol": "circle"
         },
         "mode": "markers",
         "name": "SVK",
         "orientation": "v",
         "showlegend": true,
         "type": "scatter",
         "x": [
          "SVK"
         ],
         "xaxis": "x",
         "y": {
          "bdata": "dNpApw10yj8=",
          "dtype": "f8"
         },
         "yaxis": "y"
        },
        {
         "hovertemplate": "<b>%{hovertext}</b><br><br>Country=%{x}<br>Proportion of Q154=1=%{y}<br>Total Responses=%{marker.size}<extra></extra>",
         "hovertext": [
          "THA"
         ],
         "legendgroup": "THA",
         "marker": {
          "color": "#636efa",
          "size": {
           "bdata": "3AU=",
           "dtype": "i2"
          },
          "sizemode": "area",
          "sizeref": 2.51125,
          "symbol": "circle"
         },
         "mode": "markers",
         "name": "THA",
         "orientation": "v",
         "showlegend": true,
         "type": "scatter",
         "x": [
          "THA"
         ],
         "xaxis": "x",
         "y": {
          "bdata": "xGfYFSD32j8=",
          "dtype": "f8"
         },
         "yaxis": "y"
        },
        {
         "hovertemplate": "<b>%{hovertext}</b><br><br>Country=%{x}<br>Proportion of Q154=1=%{y}<br>Total Responses=%{marker.size}<extra></extra>",
         "hovertext": [
          "TJK"
         ],
         "legendgroup": "TJK",
         "marker": {
          "color": "#EF553B",
          "size": {
           "bdata": "sAQ=",
           "dtype": "i2"
          },
          "sizemode": "area",
          "sizeref": 2.51125,
          "symbol": "circle"
         },
         "mode": "markers",
         "name": "TJK",
         "orientation": "v",
         "showlegend": true,
         "type": "scatter",
         "x": [
          "TJK"
         ],
         "xaxis": "x",
         "y": {
          "bdata": "5RdLfrHk0z8=",
          "dtype": "f8"
         },
         "yaxis": "y"
        },
        {
         "hovertemplate": "<b>%{hovertext}</b><br><br>Country=%{x}<br>Proportion of Q154=1=%{y}<br>Total Responses=%{marker.size}<extra></extra>",
         "hovertext": [
          "TUN"
         ],
         "legendgroup": "TUN",
         "marker": {
          "color": "#00cc96",
          "size": {
           "bdata": "uAQ=",
           "dtype": "i2"
          },
          "sizemode": "area",
          "sizeref": 2.51125,
          "symbol": "circle"
         },
         "mode": "markers",
         "name": "TUN",
         "orientation": "v",
         "showlegend": true,
         "type": "scatter",
         "x": [
          "TUN"
         ],
         "xaxis": "x",
         "y": {
          "bdata": "R5ojzZHm2D8=",
          "dtype": "f8"
         },
         "yaxis": "y"
        },
        {
         "hovertemplate": "<b>%{hovertext}</b><br><br>Country=%{x}<br>Proportion of Q154=1=%{y}<br>Total Responses=%{marker.size}<extra></extra>",
         "hovertext": [
          "TUR"
         ],
         "legendgroup": "TUR",
         "marker": {
          "color": "#ab63fa",
          "size": {
           "bdata": "bwk=",
           "dtype": "i2"
          },
          "sizemode": "area",
          "sizeref": 2.51125,
          "symbol": "circle"
         },
         "mode": "markers",
         "name": "TUR",
         "orientation": "v",
         "showlegend": true,
         "type": "scatter",
         "x": [
          "TUR"
         ],
         "xaxis": "x",
         "y": {
          "bdata": "y/j7OXPP1T8=",
          "dtype": "f8"
         },
         "yaxis": "y"
        },
        {
         "hovertemplate": "<b>%{hovertext}</b><br><br>Country=%{x}<br>Proportion of Q154=1=%{y}<br>Total Responses=%{marker.size}<extra></extra>",
         "hovertext": [
          "UKR"
         ],
         "legendgroup": "UKR",
         "marker": {
          "color": "#FFA15A",
          "size": {
           "bdata": "CQU=",
           "dtype": "i2"
          },
          "sizemode": "area",
          "sizeref": 2.51125,
          "symbol": "circle"
         },
         "mode": "markers",
         "name": "UKR",
         "orientation": "v",
         "showlegend": true,
         "type": "scatter",
         "x": [
          "UKR"
         ],
         "xaxis": "x",
         "y": {
          "bdata": "UWHmuLVF2T8=",
          "dtype": "f8"
         },
         "yaxis": "y"
        },
        {
         "hovertemplate": "<b>%{hovertext}</b><br><br>Country=%{x}<br>Proportion of Q154=1=%{y}<br>Total Responses=%{marker.size}<extra></extra>",
         "hovertext": [
          "URY"
         ],
         "legendgroup": "URY",
         "marker": {
          "color": "#19d3f3",
          "size": {
           "bdata": "6AM=",
           "dtype": "i2"
          },
          "sizemode": "area",
          "sizeref": 2.51125,
          "symbol": "circle"
         },
         "mode": "markers",
         "name": "URY",
         "orientation": "v",
         "showlegend": true,
         "type": "scatter",
         "x": [
          "URY"
         ],
         "xaxis": "x",
         "y": {
          "bdata": "Di2yne+n1j8=",
          "dtype": "f8"
         },
         "yaxis": "y"
        },
        {
         "hovertemplate": "<b>%{hovertext}</b><br><br>Country=%{x}<br>Proportion of Q154=1=%{y}<br>Total Responses=%{marker.size}<extra></extra>",
         "hovertext": [
          "USA"
         ],
         "legendgroup": "USA",
         "marker": {
          "color": "#FF6692",
          "size": {
           "bdata": "JAo=",
           "dtype": "i2"
          },
          "sizemode": "area",
          "sizeref": 2.51125,
          "symbol": "circle"
         },
         "mode": "markers",
         "name": "USA",
         "orientation": "v",
         "showlegend": true,
         "type": "scatter",
         "x": [
          "USA"
         ],
         "xaxis": "x",
         "y": {
          "bdata": "/pxiVr0g1T8=",
          "dtype": "f8"
         },
         "yaxis": "y"
        },
        {
         "hovertemplate": "<b>%{hovertext}</b><br><br>Country=%{x}<br>Proportion of Q154=1=%{y}<br>Total Responses=%{marker.size}<extra></extra>",
         "hovertext": [
          "UZB"
         ],
         "legendgroup": "UZB",
         "marker": {
          "color": "#B6E880",
          "size": {
           "bdata": "4gQ=",
           "dtype": "i2"
          },
          "sizemode": "area",
          "sizeref": 2.51125,
          "symbol": "circle"
         },
         "mode": "markers",
         "name": "UZB",
         "orientation": "v",
         "showlegend": true,
         "type": "scatter",
         "x": [
          "UZB"
         ],
         "xaxis": "x",
         "y": {
          "bdata": "E2HD0ytl2T8=",
          "dtype": "f8"
         },
         "yaxis": "y"
        },
        {
         "hovertemplate": "<b>%{hovertext}</b><br><br>Country=%{x}<br>Proportion of Q154=1=%{y}<br>Total Responses=%{marker.size}<extra></extra>",
         "hovertext": [
          "VEN"
         ],
         "legendgroup": "VEN",
         "marker": {
          "color": "#FF97FF",
          "size": {
           "bdata": "pgQ=",
           "dtype": "i2"
          },
          "sizemode": "area",
          "sizeref": 2.51125,
          "symbol": "circle"
         },
         "mode": "markers",
         "name": "VEN",
         "orientation": "v",
         "showlegend": true,
         "type": "scatter",
         "x": [
          "VEN"
         ],
         "xaxis": "x",
         "y": {
          "bdata": "eHh4eHh42D8=",
          "dtype": "f8"
         },
         "yaxis": "y"
        },
        {
         "hovertemplate": "<b>%{hovertext}</b><br><br>Country=%{x}<br>Proportion of Q154=1=%{y}<br>Total Responses=%{marker.size}<extra></extra>",
         "hovertext": [
          "VNM"
         ],
         "legendgroup": "VNM",
         "marker": {
          "color": "#FECB52",
          "size": {
           "bdata": "sAQ=",
           "dtype": "i2"
          },
          "sizemode": "area",
          "sizeref": 2.51125,
          "symbol": "circle"
         },
         "mode": "markers",
         "name": "VNM",
         "orientation": "v",
         "showlegend": true,
         "type": "scatter",
         "x": [
          "VNM"
         ],
         "xaxis": "x",
         "y": {
          "bdata": "1AY6baDT4D8=",
          "dtype": "f8"
         },
         "yaxis": "y"
        },
        {
         "hovertemplate": "<b>%{hovertext}</b><br><br>Country=%{x}<br>Proportion of Q154=1=%{y}<br>Total Responses=%{marker.size}<extra></extra>",
         "hovertext": [
          "ZWE"
         ],
         "legendgroup": "ZWE",
         "marker": {
          "color": "#636efa",
          "size": {
           "bdata": "vwQ=",
           "dtype": "i2"
          },
          "sizemode": "area",
          "sizeref": 2.51125,
          "symbol": "circle"
         },
         "mode": "markers",
         "name": "ZWE",
         "orientation": "v",
         "showlegend": true,
         "type": "scatter",
         "x": [
          "ZWE"
         ],
         "xaxis": "x",
         "y": {
          "bdata": "8LPWOxwG3T8=",
          "dtype": "f8"
         },
         "yaxis": "y"
        }
       ],
       "layout": {
        "height": 600,
        "legend": {
         "itemsizing": "constant",
         "title": {
          "text": "Country"
         },
         "tracegroupgap": 0
        },
        "margin": {
         "b": 40,
         "l": 40,
         "r": 40,
         "t": 80
        },
        "template": {
         "data": {
          "bar": [
           {
            "error_x": {
             "color": "#2a3f5f"
            },
            "error_y": {
             "color": "#2a3f5f"
            },
            "marker": {
             "line": {
              "color": "#E5ECF6",
              "width": 0.5
             },
             "pattern": {
              "fillmode": "overlay",
              "size": 10,
              "solidity": 0.2
             }
            },
            "type": "bar"
           }
          ],
          "barpolar": [
           {
            "marker": {
             "line": {
              "color": "#E5ECF6",
              "width": 0.5
             },
             "pattern": {
              "fillmode": "overlay",
              "size": 10,
              "solidity": 0.2
             }
            },
            "type": "barpolar"
           }
          ],
          "carpet": [
           {
            "aaxis": {
             "endlinecolor": "#2a3f5f",
             "gridcolor": "white",
             "linecolor": "white",
             "minorgridcolor": "white",
             "startlinecolor": "#2a3f5f"
            },
            "baxis": {
             "endlinecolor": "#2a3f5f",
             "gridcolor": "white",
             "linecolor": "white",
             "minorgridcolor": "white",
             "startlinecolor": "#2a3f5f"
            },
            "type": "carpet"
           }
          ],
          "choropleth": [
           {
            "colorbar": {
             "outlinewidth": 0,
             "ticks": ""
            },
            "type": "choropleth"
           }
          ],
          "contour": [
           {
            "colorbar": {
             "outlinewidth": 0,
             "ticks": ""
            },
            "colorscale": [
             [
              0,
              "#0d0887"
             ],
             [
              0.1111111111111111,
              "#46039f"
             ],
             [
              0.2222222222222222,
              "#7201a8"
             ],
             [
              0.3333333333333333,
              "#9c179e"
             ],
             [
              0.4444444444444444,
              "#bd3786"
             ],
             [
              0.5555555555555556,
              "#d8576b"
             ],
             [
              0.6666666666666666,
              "#ed7953"
             ],
             [
              0.7777777777777778,
              "#fb9f3a"
             ],
             [
              0.8888888888888888,
              "#fdca26"
             ],
             [
              1,
              "#f0f921"
             ]
            ],
            "type": "contour"
           }
          ],
          "contourcarpet": [
           {
            "colorbar": {
             "outlinewidth": 0,
             "ticks": ""
            },
            "type": "contourcarpet"
           }
          ],
          "heatmap": [
           {
            "colorbar": {
             "outlinewidth": 0,
             "ticks": ""
            },
            "colorscale": [
             [
              0,
              "#0d0887"
             ],
             [
              0.1111111111111111,
              "#46039f"
             ],
             [
              0.2222222222222222,
              "#7201a8"
             ],
             [
              0.3333333333333333,
              "#9c179e"
             ],
             [
              0.4444444444444444,
              "#bd3786"
             ],
             [
              0.5555555555555556,
              "#d8576b"
             ],
             [
              0.6666666666666666,
              "#ed7953"
             ],
             [
              0.7777777777777778,
              "#fb9f3a"
             ],
             [
              0.8888888888888888,
              "#fdca26"
             ],
             [
              1,
              "#f0f921"
             ]
            ],
            "type": "heatmap"
           }
          ],
          "histogram": [
           {
            "marker": {
             "pattern": {
              "fillmode": "overlay",
              "size": 10,
              "solidity": 0.2
             }
            },
            "type": "histogram"
           }
          ],
          "histogram2d": [
           {
            "colorbar": {
             "outlinewidth": 0,
             "ticks": ""
            },
            "colorscale": [
             [
              0,
              "#0d0887"
             ],
             [
              0.1111111111111111,
              "#46039f"
             ],
             [
              0.2222222222222222,
              "#7201a8"
             ],
             [
              0.3333333333333333,
              "#9c179e"
             ],
             [
              0.4444444444444444,
              "#bd3786"
             ],
             [
              0.5555555555555556,
              "#d8576b"
             ],
             [
              0.6666666666666666,
              "#ed7953"
             ],
             [
              0.7777777777777778,
              "#fb9f3a"
             ],
             [
              0.8888888888888888,
              "#fdca26"
             ],
             [
              1,
              "#f0f921"
             ]
            ],
            "type": "histogram2d"
           }
          ],
          "histogram2dcontour": [
           {
            "colorbar": {
             "outlinewidth": 0,
             "ticks": ""
            },
            "colorscale": [
             [
              0,
              "#0d0887"
             ],
             [
              0.1111111111111111,
              "#46039f"
             ],
             [
              0.2222222222222222,
              "#7201a8"
             ],
             [
              0.3333333333333333,
              "#9c179e"
             ],
             [
              0.4444444444444444,
              "#bd3786"
             ],
             [
              0.5555555555555556,
              "#d8576b"
             ],
             [
              0.6666666666666666,
              "#ed7953"
             ],
             [
              0.7777777777777778,
              "#fb9f3a"
             ],
             [
              0.8888888888888888,
              "#fdca26"
             ],
             [
              1,
              "#f0f921"
             ]
            ],
            "type": "histogram2dcontour"
           }
          ],
          "mesh3d": [
           {
            "colorbar": {
             "outlinewidth": 0,
             "ticks": ""
            },
            "type": "mesh3d"
           }
          ],
          "parcoords": [
           {
            "line": {
             "colorbar": {
              "outlinewidth": 0,
              "ticks": ""
             }
            },
            "type": "parcoords"
           }
          ],
          "pie": [
           {
            "automargin": true,
            "type": "pie"
           }
          ],
          "scatter": [
           {
            "fillpattern": {
             "fillmode": "overlay",
             "size": 10,
             "solidity": 0.2
            },
            "type": "scatter"
           }
          ],
          "scatter3d": [
           {
            "line": {
             "colorbar": {
              "outlinewidth": 0,
              "ticks": ""
             }
            },
            "marker": {
             "colorbar": {
              "outlinewidth": 0,
              "ticks": ""
             }
            },
            "type": "scatter3d"
           }
          ],
          "scattercarpet": [
           {
            "marker": {
             "colorbar": {
              "outlinewidth": 0,
              "ticks": ""
             }
            },
            "type": "scattercarpet"
           }
          ],
          "scattergeo": [
           {
            "marker": {
             "colorbar": {
              "outlinewidth": 0,
              "ticks": ""
             }
            },
            "type": "scattergeo"
           }
          ],
          "scattergl": [
           {
            "marker": {
             "colorbar": {
              "outlinewidth": 0,
              "ticks": ""
             }
            },
            "type": "scattergl"
           }
          ],
          "scattermap": [
           {
            "marker": {
             "colorbar": {
              "outlinewidth": 0,
              "ticks": ""
             }
            },
            "type": "scattermap"
           }
          ],
          "scattermapbox": [
           {
            "marker": {
             "colorbar": {
              "outlinewidth": 0,
              "ticks": ""
             }
            },
            "type": "scattermapbox"
           }
          ],
          "scatterpolar": [
           {
            "marker": {
             "colorbar": {
              "outlinewidth": 0,
              "ticks": ""
             }
            },
            "type": "scatterpolar"
           }
          ],
          "scatterpolargl": [
           {
            "marker": {
             "colorbar": {
              "outlinewidth": 0,
              "ticks": ""
             }
            },
            "type": "scatterpolargl"
           }
          ],
          "scatterternary": [
           {
            "marker": {
             "colorbar": {
              "outlinewidth": 0,
              "ticks": ""
             }
            },
            "type": "scatterternary"
           }
          ],
          "surface": [
           {
            "colorbar": {
             "outlinewidth": 0,
             "ticks": ""
            },
            "colorscale": [
             [
              0,
              "#0d0887"
             ],
             [
              0.1111111111111111,
              "#46039f"
             ],
             [
              0.2222222222222222,
              "#7201a8"
             ],
             [
              0.3333333333333333,
              "#9c179e"
             ],
             [
              0.4444444444444444,
              "#bd3786"
             ],
             [
              0.5555555555555556,
              "#d8576b"
             ],
             [
              0.6666666666666666,
              "#ed7953"
             ],
             [
              0.7777777777777778,
              "#fb9f3a"
             ],
             [
              0.8888888888888888,
              "#fdca26"
             ],
             [
              1,
              "#f0f921"
             ]
            ],
            "type": "surface"
           }
          ],
          "table": [
           {
            "cells": {
             "fill": {
              "color": "#EBF0F8"
             },
             "line": {
              "color": "white"
             }
            },
            "header": {
             "fill": {
              "color": "#C8D4E3"
             },
             "line": {
              "color": "white"
             }
            },
            "type": "table"
           }
          ]
         },
         "layout": {
          "annotationdefaults": {
           "arrowcolor": "#2a3f5f",
           "arrowhead": 0,
           "arrowwidth": 1
          },
          "autotypenumbers": "strict",
          "coloraxis": {
           "colorbar": {
            "outlinewidth": 0,
            "ticks": ""
           }
          },
          "colorscale": {
           "diverging": [
            [
             0,
             "#8e0152"
            ],
            [
             0.1,
             "#c51b7d"
            ],
            [
             0.2,
             "#de77ae"
            ],
            [
             0.3,
             "#f1b6da"
            ],
            [
             0.4,
             "#fde0ef"
            ],
            [
             0.5,
             "#f7f7f7"
            ],
            [
             0.6,
             "#e6f5d0"
            ],
            [
             0.7,
             "#b8e186"
            ],
            [
             0.8,
             "#7fbc41"
            ],
            [
             0.9,
             "#4d9221"
            ],
            [
             1,
             "#276419"
            ]
           ],
           "sequential": [
            [
             0,
             "#0d0887"
            ],
            [
             0.1111111111111111,
             "#46039f"
            ],
            [
             0.2222222222222222,
             "#7201a8"
            ],
            [
             0.3333333333333333,
             "#9c179e"
            ],
            [
             0.4444444444444444,
             "#bd3786"
            ],
            [
             0.5555555555555556,
             "#d8576b"
            ],
            [
             0.6666666666666666,
             "#ed7953"
            ],
            [
             0.7777777777777778,
             "#fb9f3a"
            ],
            [
             0.8888888888888888,
             "#fdca26"
            ],
            [
             1,
             "#f0f921"
            ]
           ],
           "sequentialminus": [
            [
             0,
             "#0d0887"
            ],
            [
             0.1111111111111111,
             "#46039f"
            ],
            [
             0.2222222222222222,
             "#7201a8"
            ],
            [
             0.3333333333333333,
             "#9c179e"
            ],
            [
             0.4444444444444444,
             "#bd3786"
            ],
            [
             0.5555555555555556,
             "#d8576b"
            ],
            [
             0.6666666666666666,
             "#ed7953"
            ],
            [
             0.7777777777777778,
             "#fb9f3a"
            ],
            [
             0.8888888888888888,
             "#fdca26"
            ],
            [
             1,
             "#f0f921"
            ]
           ]
          },
          "colorway": [
           "#636efa",
           "#EF553B",
           "#00cc96",
           "#ab63fa",
           "#FFA15A",
           "#19d3f3",
           "#FF6692",
           "#B6E880",
           "#FF97FF",
           "#FECB52"
          ],
          "font": {
           "color": "#2a3f5f"
          },
          "geo": {
           "bgcolor": "white",
           "lakecolor": "white",
           "landcolor": "#E5ECF6",
           "showlakes": true,
           "showland": true,
           "subunitcolor": "white"
          },
          "hoverlabel": {
           "align": "left"
          },
          "hovermode": "closest",
          "mapbox": {
           "style": "light"
          },
          "paper_bgcolor": "white",
          "plot_bgcolor": "#E5ECF6",
          "polar": {
           "angularaxis": {
            "gridcolor": "white",
            "linecolor": "white",
            "ticks": ""
           },
           "bgcolor": "#E5ECF6",
           "radialaxis": {
            "gridcolor": "white",
            "linecolor": "white",
            "ticks": ""
           }
          },
          "scene": {
           "xaxis": {
            "backgroundcolor": "#E5ECF6",
            "gridcolor": "white",
            "gridwidth": 2,
            "linecolor": "white",
            "showbackground": true,
            "ticks": "",
            "zerolinecolor": "white"
           },
           "yaxis": {
            "backgroundcolor": "#E5ECF6",
            "gridcolor": "white",
            "gridwidth": 2,
            "linecolor": "white",
            "showbackground": true,
            "ticks": "",
            "zerolinecolor": "white"
           },
           "zaxis": {
            "backgroundcolor": "#E5ECF6",
            "gridcolor": "white",
            "gridwidth": 2,
            "linecolor": "white",
            "showbackground": true,
            "ticks": "",
            "zerolinecolor": "white"
           }
          },
          "shapedefaults": {
           "line": {
            "color": "#2a3f5f"
           }
          },
          "ternary": {
           "aaxis": {
            "gridcolor": "white",
            "linecolor": "white",
            "ticks": ""
           },
           "baxis": {
            "gridcolor": "white",
            "linecolor": "white",
            "ticks": ""
           },
           "bgcolor": "#E5ECF6",
           "caxis": {
            "gridcolor": "white",
            "linecolor": "white",
            "ticks": ""
           }
          },
          "title": {
           "x": 0.05
          },
          "xaxis": {
           "automargin": true,
           "gridcolor": "white",
           "linecolor": "white",
           "ticks": "",
           "title": {
            "standoff": 15
           },
           "zerolinecolor": "white",
           "zerolinewidth": 2
          },
          "yaxis": {
           "automargin": true,
           "gridcolor": "white",
           "linecolor": "white",
           "ticks": "",
           "title": {
            "standoff": 15
           },
           "zerolinecolor": "white",
           "zerolinewidth": 2
          }
         }
        },
        "title": {
         "text": "Proportion of Q154 Responses Equal to 1 by Country"
        },
        "xaxis": {
         "anchor": "y",
         "categoryarray": [
          "AND",
          "ARG",
          "ARM",
          "AUS",
          "BGD",
          "BOL",
          "BRA",
          "CAN",
          "CHL",
          "CHN",
          "COL",
          "CYP",
          "CZE",
          "DEU",
          "ECU",
          "EGY",
          "ETH",
          "GBR",
          "GRC",
          "GTM",
          "IDN",
          "IND",
          "IRN",
          "IRQ",
          "JOR",
          "JPN",
          "KAZ",
          "KEN",
          "KGZ",
          "KOR",
          "LBN",
          "LBY",
          "MAR",
          "MDV",
          "MEX",
          "MMR",
          "MNG",
          "MYS",
          "NGA",
          "NIC",
          "NLD",
          "NZL",
          "PAK",
          "PER",
          "PHL",
          "ROU",
          "RUS",
          "SGP",
          "SRB",
          "SVK",
          "THA",
          "TJK",
          "TUN",
          "TUR",
          "UKR",
          "URY",
          "USA",
          "UZB",
          "VEN",
          "VNM",
          "ZWE"
         ],
         "categoryorder": "array",
         "domain": [
          0,
          1
         ],
         "title": {
          "text": "Country"
         }
        },
        "yaxis": {
         "anchor": "x",
         "domain": [
          0,
          1
         ],
         "title": {
          "text": "Proportion of Q154=1"
         }
        }
       }
      }
     },
     "metadata": {},
     "output_type": "display_data"
    }
   ],
   "source": [
    "## (Visualization -II) ##\n",
    "\n",
    "# This code loads World Values Survey (WVS) data and filters it by countries found in scored sentences.\n",
    "# It processes Q154 survey responses to calculate per-country counts and proportions of respondents answering '1'.\n",
    "# It prepares the country data in a categorical order for consistent plotting.\n",
    "# Then it creates a scatter plot showing the proportion of Q154=1 responses per country, sized by total responses.\n",
    "# The plot visually compares response distributions across countries with hover details and a clean layout.\n",
    "# The x and y-axis labels are the same as the prediction visualization.\n",
    "\n",
    "%run visualize_response_props.py"
   ]
  },
  {
   "cell_type": "code",
   "execution_count": 7,
   "id": "548694b9",
   "metadata": {},
   "outputs": [
    {
     "data": {
      "application/vnd.plotly.v1+json": {
       "config": {
        "plotlyServerURL": "https://plot.ly"
       },
       "data": [
        {
         "hoverinfo": "skip",
         "line": {
          "color": "gray"
         },
         "mode": "lines",
         "showlegend": false,
         "type": "scatter",
         "x": [
          "AND_2018",
          "AND_2018"
         ],
         "y": [
          0.31872509960159373,
          0.25
         ]
        },
        {
         "hoverinfo": "skip",
         "line": {
          "color": "gray"
         },
         "mode": "lines",
         "showlegend": false,
         "type": "scatter",
         "x": [
          "ARG_2017",
          "ARG_2017"
         ],
         "y": [
          0.2472582253240279,
          0.2
         ]
        },
        {
         "hoverinfo": "skip",
         "line": {
          "color": "gray"
         },
         "mode": "lines",
         "showlegend": false,
         "type": "scatter",
         "x": [
          "AUS_2018",
          "AUS_2018"
         ],
         "y": [
          0.2995035852178709,
          0.75
         ]
        },
        {
         "hoverinfo": "skip",
         "line": {
          "color": "gray"
         },
         "mode": "lines",
         "showlegend": false,
         "type": "scatter",
         "x": [
          "BGD_2018",
          "BGD_2018"
         ],
         "y": [
          0.5925000000000001,
          0.5
         ]
        },
        {
         "hoverinfo": "skip",
         "line": {
          "color": "gray"
         },
         "mode": "lines",
         "showlegend": false,
         "type": "scatter",
         "x": [
          "BOL_2017",
          "BOL_2017"
         ],
         "y": [
          0.3778422835026608,
          0.5714285714285714
         ]
        },
        {
         "hoverinfo": "skip",
         "line": {
          "color": "gray"
         },
         "mode": "lines",
         "showlegend": false,
         "type": "scatter",
         "x": [
          "BRA_2018",
          "BRA_2018"
         ],
         "y": [
          0.30306469920544826,
          0.23529411764705882
         ]
        },
        {
         "hoverinfo": "skip",
         "line": {
          "color": "gray"
         },
         "mode": "lines",
         "showlegend": false,
         "type": "scatter",
         "x": [
          "CAN_2020",
          "CAN_2020"
         ],
         "y": [
          0.19537083125933308,
          0.6666666666666666
         ]
        },
        {
         "hoverinfo": "skip",
         "line": {
          "color": "gray"
         },
         "mode": "lines",
         "showlegend": false,
         "type": "scatter",
         "x": [
          "CHL_2018",
          "CHL_2018"
         ],
         "y": [
          0.357,
          0.21428571428571427
         ]
        },
        {
         "hoverinfo": "skip",
         "line": {
          "color": "gray"
         },
         "mode": "lines",
         "showlegend": false,
         "type": "scatter",
         "x": [
          "CHN_2018",
          "CHN_2018"
         ],
         "y": [
          0.4413702239789196,
          0.7777777777777778
         ]
        },
        {
         "hoverinfo": "skip",
         "line": {
          "color": "gray"
         },
         "mode": "lines",
         "showlegend": false,
         "type": "scatter",
         "x": [
          "COL_2018",
          "COL_2018"
         ],
         "y": [
          0.36447368421052634,
          0.125
         ]
        },
        {
         "hoverinfo": "skip",
         "line": {
          "color": "gray"
         },
         "mode": "lines",
         "showlegend": false,
         "type": "scatter",
         "x": [
          "CYP_2019",
          "CYP_2019"
         ],
         "y": [
          0.312,
          0.2
         ]
        },
        {
         "hoverinfo": "skip",
         "line": {
          "color": "gray"
         },
         "mode": "lines",
         "showlegend": false,
         "type": "scatter",
         "x": [
          "CZE_2022",
          "CZE_2022"
         ],
         "y": [
          0.1916666666666667,
          0.2
         ]
        },
        {
         "hoverinfo": "skip",
         "line": {
          "color": "gray"
         },
         "mode": "lines",
         "showlegend": false,
         "type": "scatter",
         "x": [
          "DEU_2018",
          "DEU_2018"
         ],
         "y": [
          0.2414921465968587,
          0.6
         ]
        },
        {
         "hoverinfo": "skip",
         "line": {
          "color": "gray"
         },
         "mode": "lines",
         "showlegend": false,
         "type": "scatter",
         "x": [
          "ECU_2018",
          "ECU_2018"
         ],
         "y": [
          0.5058333333333335,
          0.4
         ]
        },
        {
         "hoverinfo": "skip",
         "line": {
          "color": "gray"
         },
         "mode": "lines",
         "showlegend": false,
         "type": "scatter",
         "x": [
          "EGY_2018",
          "EGY_2018"
         ],
         "y": [
          0.3816666666666667,
          0.45454545454545453
         ]
        },
        {
         "hoverinfo": "skip",
         "line": {
          "color": "gray"
         },
         "mode": "lines",
         "showlegend": false,
         "type": "scatter",
         "x": [
          "ETH_2020",
          "ETH_2020"
         ],
         "y": [
          0.49349593495934957,
          1
         ]
        },
        {
         "hoverinfo": "skip",
         "line": {
          "color": "gray"
         },
         "mode": "lines",
         "showlegend": false,
         "type": "scatter",
         "x": [
          "GBR_2022",
          "GBR_2022"
         ],
         "y": [
          0.1617477960904561,
          0.375
         ]
        },
        {
         "hoverinfo": "skip",
         "line": {
          "color": "gray"
         },
         "mode": "lines",
         "showlegend": false,
         "type": "scatter",
         "x": [
          "GRC_2017",
          "GRC_2017"
         ],
         "y": [
          0.3816666666666667,
          0.7142857142857143
         ]
        },
        {
         "hoverinfo": "skip",
         "line": {
          "color": "gray"
         },
         "mode": "lines",
         "showlegend": false,
         "type": "scatter",
         "x": [
          "IDN_2018",
          "IDN_2018"
         ],
         "y": [
          0.6175,
          0.65
         ]
        },
        {
         "hoverinfo": "skip",
         "line": {
          "color": "gray"
         },
         "mode": "lines",
         "showlegend": false,
         "type": "scatter",
         "x": [
          "JOR_2018",
          "JOR_2018"
         ],
         "y": [
          0.5103906899418121,
          0.7
         ]
        },
        {
         "hoverinfo": "skip",
         "line": {
          "color": "gray"
         },
         "mode": "lines",
         "showlegend": false,
         "type": "scatter",
         "x": [
          "KAZ_2018",
          "KAZ_2018"
         ],
         "y": [
          0.5470219435736676,
          1
         ]
        },
        {
         "hoverinfo": "skip",
         "line": {
          "color": "gray"
         },
         "mode": "lines",
         "showlegend": false,
         "type": "scatter",
         "x": [
          "KEN_2021",
          "KEN_2021"
         ],
         "y": [
          0.4415481832543445,
          0.6666666666666666
         ]
        },
        {
         "hoverinfo": "skip",
         "line": {
          "color": "gray"
         },
         "mode": "lines",
         "showlegend": false,
         "type": "scatter",
         "x": [
          "KGZ_2020",
          "KGZ_2020"
         ],
         "y": [
          0.5741666666666667,
          0.25
         ]
        },
        {
         "hoverinfo": "skip",
         "line": {
          "color": "gray"
         },
         "mode": "lines",
         "showlegend": false,
         "type": "scatter",
         "x": [
          "KOR_2018",
          "KOR_2018"
         ],
         "y": [
          0.34136546184738953,
          0.5
         ]
        },
        {
         "hoverinfo": "skip",
         "line": {
          "color": "gray"
         },
         "mode": "lines",
         "showlegend": false,
         "type": "scatter",
         "x": [
          "LBN_2018",
          "LBN_2018"
         ],
         "y": [
          0.5158333333333335,
          0.45454545454545453
         ]
        },
        {
         "hoverinfo": "skip",
         "line": {
          "color": "gray"
         },
         "mode": "lines",
         "showlegend": false,
         "type": "scatter",
         "x": [
          "LBY_2022",
          "LBY_2022"
         ],
         "y": [
          0.624581939799331,
          0.3333333333333333
         ]
        },
        {
         "hoverinfo": "skip",
         "line": {
          "color": "gray"
         },
         "mode": "lines",
         "showlegend": false,
         "type": "scatter",
         "x": [
          "MAR_2021",
          "MAR_2021"
         ],
         "y": [
          0.47916666666666674,
          0.3333333333333333
         ]
        },
        {
         "hoverinfo": "skip",
         "line": {
          "color": "gray"
         },
         "mode": "lines",
         "showlegend": false,
         "type": "scatter",
         "x": [
          "MDV_2021",
          "MDV_2021"
         ],
         "y": [
          0.7401347449470645,
          0.4
         ]
        },
        {
         "hoverinfo": "skip",
         "line": {
          "color": "gray"
         },
         "mode": "lines",
         "showlegend": false,
         "type": "scatter",
         "x": [
          "MEX_2018",
          "MEX_2018"
         ],
         "y": [
          0.3113153360137851,
          0.3333333333333333
         ]
        },
        {
         "hoverinfo": "skip",
         "line": {
          "color": "gray"
         },
         "mode": "lines",
         "showlegend": false,
         "type": "scatter",
         "x": [
          "MMR_2020",
          "MMR_2020"
         ],
         "y": [
          0.32666666666666677,
          0.3333333333333333
         ]
        },
        {
         "hoverinfo": "skip",
         "line": {
          "color": "gray"
         },
         "mode": "lines",
         "showlegend": false,
         "type": "scatter",
         "x": [
          "MNG_2020",
          "MNG_2020"
         ],
         "y": [
          0.3827838827838828,
          0.6666666666666666
         ]
        },
        {
         "hoverinfo": "skip",
         "line": {
          "color": "gray"
         },
         "mode": "lines",
         "showlegend": false,
         "type": "scatter",
         "x": [
          "MYS_2018",
          "MYS_2018"
         ],
         "y": [
          0.42498095963442506,
          0.5555555555555556
         ]
        },
        {
         "hoverinfo": "skip",
         "line": {
          "color": "gray"
         },
         "mode": "lines",
         "showlegend": false,
         "type": "scatter",
         "x": [
          "NGA_2018",
          "NGA_2018"
         ],
         "y": [
          0.3662085691188359,
          1
         ]
        },
        {
         "hoverinfo": "skip",
         "line": {
          "color": "gray"
         },
         "mode": "lines",
         "showlegend": false,
         "type": "scatter",
         "x": [
          "NIC_2020",
          "NIC_2020"
         ],
         "y": [
          0.4825000000000001,
          0.25
         ]
        },
        {
         "hoverinfo": "skip",
         "line": {
          "color": "gray"
         },
         "mode": "lines",
         "showlegend": false,
         "type": "scatter",
         "x": [
          "NLD_2022",
          "NLD_2022"
         ],
         "y": [
          0.3165501165501165,
          0.8
         ]
        },
        {
         "hoverinfo": "skip",
         "line": {
          "color": "gray"
         },
         "mode": "lines",
         "showlegend": false,
         "type": "scatter",
         "x": [
          "NZL_2020",
          "NZL_2020"
         ],
         "y": [
          0.21475875118259222,
          0.42857142857142855
         ]
        },
        {
         "hoverinfo": "skip",
         "line": {
          "color": "gray"
         },
         "mode": "lines",
         "showlegend": false,
         "type": "scatter",
         "x": [
          "PAK_2018",
          "PAK_2018"
         ],
         "y": [
          0.36140350877192984,
          0.5384615384615384
         ]
        },
        {
         "hoverinfo": "skip",
         "line": {
          "color": "gray"
         },
         "mode": "lines",
         "showlegend": false,
         "type": "scatter",
         "x": [
          "PHL_2019",
          "PHL_2019"
         ],
         "y": [
          0.5158333333333335,
          0.7692307692307693
         ]
        },
        {
         "hoverinfo": "skip",
         "line": {
          "color": "gray"
         },
         "mode": "lines",
         "showlegend": false,
         "type": "scatter",
         "x": [
          "ROU_2018",
          "ROU_2018"
         ],
         "y": [
          0.36197295147175806,
          0.5
         ]
        },
        {
         "hoverinfo": "skip",
         "line": {
          "color": "gray"
         },
         "mode": "lines",
         "showlegend": false,
         "type": "scatter",
         "x": [
          "RUS_2017",
          "RUS_2017"
         ],
         "y": [
          0.4149171270718233,
          0.4166666666666667
         ]
        },
        {
         "hoverinfo": "skip",
         "line": {
          "color": "gray"
         },
         "mode": "lines",
         "showlegend": false,
         "type": "scatter",
         "x": [
          "SGP_2020",
          "SGP_2020"
         ],
         "y": [
          0.4398608349900595,
          0.2222222222222222
         ]
        },
        {
         "hoverinfo": "skip",
         "line": {
          "color": "gray"
         },
         "mode": "lines",
         "showlegend": false,
         "type": "scatter",
         "x": [
          "SRB_2017",
          "SRB_2017"
         ],
         "y": [
          0.4665391969407265,
          0.8
         ]
        },
        {
         "hoverinfo": "skip",
         "line": {
          "color": "gray"
         },
         "mode": "lines",
         "showlegend": false,
         "type": "scatter",
         "x": [
          "SVK_2022",
          "SVK_2022"
         ],
         "y": [
          0.20666666666666672,
          0.5
         ]
        },
        {
         "hoverinfo": "skip",
         "line": {
          "color": "gray"
         },
         "mode": "lines",
         "showlegend": false,
         "type": "scatter",
         "x": [
          "TJK_2020",
          "TJK_2020"
         ],
         "y": [
          0.3108333333333334,
          0.5
         ]
        },
        {
         "hoverinfo": "skip",
         "line": {
          "color": "gray"
         },
         "mode": "lines",
         "showlegend": false,
         "type": "scatter",
         "x": [
          "TUN_2019",
          "TUN_2019"
         ],
         "y": [
          0.3890728476821192,
          0.42857142857142855
         ]
        },
        {
         "hoverinfo": "skip",
         "line": {
          "color": "gray"
         },
         "mode": "lines",
         "showlegend": false,
         "type": "scatter",
         "x": [
          "TUR_2018",
          "TUR_2018"
         ],
         "y": [
          0.34078674948240156,
          0.18181818181818182
         ]
        },
        {
         "hoverinfo": "skip",
         "line": {
          "color": "gray"
         },
         "mode": "lines",
         "showlegend": false,
         "type": "scatter",
         "x": [
          "UKR_2020",
          "UKR_2020"
         ],
         "y": [
          0.39487975174553913,
          0.25
         ]
        },
        {
         "hoverinfo": "skip",
         "line": {
          "color": "gray"
         },
         "mode": "lines",
         "showlegend": false,
         "type": "scatter",
         "x": [
          "URY_2022",
          "URY_2022"
         ],
         "y": [
          0.354,
          0.25
         ]
        },
        {
         "hoverinfo": "skip",
         "line": {
          "color": "gray"
         },
         "mode": "lines",
         "showlegend": false,
         "type": "scatter",
         "x": [
          "USA_2017",
          "USA_2017"
         ],
         "y": [
          0.33012326656394453,
          0.7894736842105263
         ]
        },
        {
         "hoverinfo": "skip",
         "line": {
          "color": "gray"
         },
         "mode": "lines",
         "showlegend": false,
         "type": "scatter",
         "x": [
          "UZB_2022",
          "UZB_2022"
         ],
         "y": [
          0.39680000000000004,
          0.5714285714285714
         ]
        },
        {
         "hoverinfo": "skip",
         "line": {
          "color": "gray"
         },
         "mode": "lines",
         "showlegend": false,
         "type": "scatter",
         "x": [
          "VEN_2021",
          "VEN_2021"
         ],
         "y": [
          0.38235294117647056,
          0.25
         ]
        },
        {
         "hoverinfo": "skip",
         "line": {
          "color": "gray"
         },
         "mode": "lines",
         "showlegend": false,
         "type": "scatter",
         "x": [
          "VNM_2020",
          "VNM_2020"
         ],
         "y": [
          0.5258333333333335,
          0.5714285714285714
         ]
        },
        {
         "hoverinfo": "skip",
         "line": {
          "color": "gray"
         },
         "mode": "lines",
         "showlegend": false,
         "type": "scatter",
         "x": [
          "ZWE_2020",
          "ZWE_2020"
         ],
         "y": [
          0.4534979423868311,
          0.6
         ]
        },
        {
         "hovertemplate": "%{x}<br>WVS Weighted Proportion: %{y:.2f}<extra></extra>",
         "marker": {
          "color": "blue",
          "size": 8
         },
         "mode": "markers",
         "name": "WVS Weighted Q154_1",
         "type": "scatter",
         "x": [
          "AND_2018",
          "ARG_2017",
          "AUS_2018",
          "BGD_2018",
          "BOL_2017",
          "BRA_2018",
          "CAN_2020",
          "CHL_2018",
          "CHN_2018",
          "COL_2018",
          "CYP_2019",
          "CZE_2022",
          "DEU_2018",
          "ECU_2018",
          "EGY_2018",
          "ETH_2020",
          "GBR_2022",
          "GRC_2017",
          "IDN_2018",
          "JOR_2018",
          "KAZ_2018",
          "KEN_2021",
          "KGZ_2020",
          "KOR_2018",
          "LBN_2018",
          "LBY_2022",
          "MAR_2021",
          "MDV_2021",
          "MEX_2018",
          "MMR_2020",
          "MNG_2020",
          "MYS_2018",
          "NGA_2018",
          "NIC_2020",
          "NLD_2022",
          "NZL_2020",
          "PAK_2018",
          "PHL_2019",
          "ROU_2018",
          "RUS_2017",
          "SGP_2020",
          "SRB_2017",
          "SVK_2022",
          "TJK_2020",
          "TUN_2019",
          "TUR_2018",
          "UKR_2020",
          "URY_2022",
          "USA_2017",
          "UZB_2022",
          "VEN_2021",
          "VNM_2020",
          "ZWE_2020"
         ],
         "y": {
          "bdata": "BwHN9f1l1D9yg7dTKKbPP4zp4hURK9M/9yhcj8L14j8iJ6xmkS7YP+E06nppZdM/JPNsUekByT8MAiuHFtnWP9u6WuVoP9w/OfV7bolT1z8rhxbZzvfTP4qIiIiIiMg/kOrv8zbpzj8xlvxiyS/gP26g0wY6bdg/lf9W+W+V3z+ITDTbJrTEP26g0wY6bdg/w/UoXI/C4z9ndC/bHlXgP/z7uik0geE/ReGrT1NC3D9gLPnFkl/iPxOVp4Xu2NU/g04b6LSB4D8hiKNDk/zjP6yqqqqqqt4/SsqFDy+v5z+NCbsol+zTP+q0gU4b6NQ/+Yd/+Id/2D8CXcNW4zLbP8BX+BD2b9c/43oUrkfh3j/fLIhrW0LUP9v0bfo2fcs/FHK1Ljwh1z+DThvotIHgPyHmJpmQKtc/cbjUkACO2j8ttUQPribcP8lmSjjH290/dtpApw10yj/mF0t+seTTP0eaI82R5tg/yfj7OXPP1T9QYea4tUXZPw4tsp3vp9Y//pxiVr0g1T8UYcPTK2XZP3h4eHh4eNg/1QY6baDT4D/ts9Y7HAbdPw==",
          "dtype": "f8"
         }
        },
        {
         "hovertemplate": "%{x}<br>Sentence Proportion: %{y:.2f}<extra></extra>",
         "marker": {
          "color": "red",
          "size": 8
         },
         "mode": "markers",
         "name": "Scored Sentences Q154_1",
         "type": "scatter",
         "x": [
          "AND_2018",
          "ARG_2017",
          "AUS_2018",
          "BGD_2018",
          "BOL_2017",
          "BRA_2018",
          "CAN_2020",
          "CHL_2018",
          "CHN_2018",
          "COL_2018",
          "CYP_2019",
          "CZE_2022",
          "DEU_2018",
          "ECU_2018",
          "EGY_2018",
          "ETH_2020",
          "GBR_2022",
          "GRC_2017",
          "IDN_2018",
          "JOR_2018",
          "KAZ_2018",
          "KEN_2021",
          "KGZ_2020",
          "KOR_2018",
          "LBN_2018",
          "LBY_2022",
          "MAR_2021",
          "MDV_2021",
          "MEX_2018",
          "MMR_2020",
          "MNG_2020",
          "MYS_2018",
          "NGA_2018",
          "NIC_2020",
          "NLD_2022",
          "NZL_2020",
          "PAK_2018",
          "PHL_2019",
          "ROU_2018",
          "RUS_2017",
          "SGP_2020",
          "SRB_2017",
          "SVK_2022",
          "TJK_2020",
          "TUN_2019",
          "TUR_2018",
          "UKR_2020",
          "URY_2022",
          "USA_2017",
          "UZB_2022",
          "VEN_2021",
          "VNM_2020",
          "ZWE_2020"
         ],
         "y": {
          "bdata": "AAAAAAAA0D+amZmZmZnJPwAAAAAAAOg/AAAAAAAA4D+SJEmSJEniPx4eHh4eHs4/VVVVVVVV5T/btm3btm3LPzmO4ziO4+g/AAAAAAAAwD+amZmZmZnJP5qZmZmZmck/MzMzMzMz4z+amZmZmZnZPxdddNFFF90/AAAAAAAA8D8AAAAAAADYP7dt27Zt2+Y/zczMzMzM5D9mZmZmZmbmPwAAAAAAAPA/VVVVVVVV5T8AAAAAAADQPwAAAAAAAOA/F1100UUX3T9VVVVVVVXVP1VVVVVVVdU/mpmZmZmZ2T9VVVVVVVXVP1VVVVVVVdU/VVVVVVVV5T9yHMdxHMfhPwAAAAAAAPA/AAAAAAAA0D+amZmZmZnpP9u2bdu2bds/sRM7sRM74T/ZiZ3YiZ3oPwAAAAAAAOA/q6qqqqqq2j8cx3Ecx3HMP5qZmZmZmek/AAAAAAAA4D8AAAAAAADgP9u2bdu2bds/RhdddNFFxz8AAAAAAADQPwAAAAAAANA/NpTXUF5D6T+SJEmSJEniPwAAAAAAANA/kiRJkiRJ4j8zMzMzMzPjPw==",
          "dtype": "f8"
         }
        }
       ],
       "layout": {
        "height": 600,
        "hovermode": "x unified",
        "template": {
         "data": {
          "bar": [
           {
            "error_x": {
             "color": "#2a3f5f"
            },
            "error_y": {
             "color": "#2a3f5f"
            },
            "marker": {
             "line": {
              "color": "#E5ECF6",
              "width": 0.5
             },
             "pattern": {
              "fillmode": "overlay",
              "size": 10,
              "solidity": 0.2
             }
            },
            "type": "bar"
           }
          ],
          "barpolar": [
           {
            "marker": {
             "line": {
              "color": "#E5ECF6",
              "width": 0.5
             },
             "pattern": {
              "fillmode": "overlay",
              "size": 10,
              "solidity": 0.2
             }
            },
            "type": "barpolar"
           }
          ],
          "carpet": [
           {
            "aaxis": {
             "endlinecolor": "#2a3f5f",
             "gridcolor": "white",
             "linecolor": "white",
             "minorgridcolor": "white",
             "startlinecolor": "#2a3f5f"
            },
            "baxis": {
             "endlinecolor": "#2a3f5f",
             "gridcolor": "white",
             "linecolor": "white",
             "minorgridcolor": "white",
             "startlinecolor": "#2a3f5f"
            },
            "type": "carpet"
           }
          ],
          "choropleth": [
           {
            "colorbar": {
             "outlinewidth": 0,
             "ticks": ""
            },
            "type": "choropleth"
           }
          ],
          "contour": [
           {
            "colorbar": {
             "outlinewidth": 0,
             "ticks": ""
            },
            "colorscale": [
             [
              0,
              "#0d0887"
             ],
             [
              0.1111111111111111,
              "#46039f"
             ],
             [
              0.2222222222222222,
              "#7201a8"
             ],
             [
              0.3333333333333333,
              "#9c179e"
             ],
             [
              0.4444444444444444,
              "#bd3786"
             ],
             [
              0.5555555555555556,
              "#d8576b"
             ],
             [
              0.6666666666666666,
              "#ed7953"
             ],
             [
              0.7777777777777778,
              "#fb9f3a"
             ],
             [
              0.8888888888888888,
              "#fdca26"
             ],
             [
              1,
              "#f0f921"
             ]
            ],
            "type": "contour"
           }
          ],
          "contourcarpet": [
           {
            "colorbar": {
             "outlinewidth": 0,
             "ticks": ""
            },
            "type": "contourcarpet"
           }
          ],
          "heatmap": [
           {
            "colorbar": {
             "outlinewidth": 0,
             "ticks": ""
            },
            "colorscale": [
             [
              0,
              "#0d0887"
             ],
             [
              0.1111111111111111,
              "#46039f"
             ],
             [
              0.2222222222222222,
              "#7201a8"
             ],
             [
              0.3333333333333333,
              "#9c179e"
             ],
             [
              0.4444444444444444,
              "#bd3786"
             ],
             [
              0.5555555555555556,
              "#d8576b"
             ],
             [
              0.6666666666666666,
              "#ed7953"
             ],
             [
              0.7777777777777778,
              "#fb9f3a"
             ],
             [
              0.8888888888888888,
              "#fdca26"
             ],
             [
              1,
              "#f0f921"
             ]
            ],
            "type": "heatmap"
           }
          ],
          "histogram": [
           {
            "marker": {
             "pattern": {
              "fillmode": "overlay",
              "size": 10,
              "solidity": 0.2
             }
            },
            "type": "histogram"
           }
          ],
          "histogram2d": [
           {
            "colorbar": {
             "outlinewidth": 0,
             "ticks": ""
            },
            "colorscale": [
             [
              0,
              "#0d0887"
             ],
             [
              0.1111111111111111,
              "#46039f"
             ],
             [
              0.2222222222222222,
              "#7201a8"
             ],
             [
              0.3333333333333333,
              "#9c179e"
             ],
             [
              0.4444444444444444,
              "#bd3786"
             ],
             [
              0.5555555555555556,
              "#d8576b"
             ],
             [
              0.6666666666666666,
              "#ed7953"
             ],
             [
              0.7777777777777778,
              "#fb9f3a"
             ],
             [
              0.8888888888888888,
              "#fdca26"
             ],
             [
              1,
              "#f0f921"
             ]
            ],
            "type": "histogram2d"
           }
          ],
          "histogram2dcontour": [
           {
            "colorbar": {
             "outlinewidth": 0,
             "ticks": ""
            },
            "colorscale": [
             [
              0,
              "#0d0887"
             ],
             [
              0.1111111111111111,
              "#46039f"
             ],
             [
              0.2222222222222222,
              "#7201a8"
             ],
             [
              0.3333333333333333,
              "#9c179e"
             ],
             [
              0.4444444444444444,
              "#bd3786"
             ],
             [
              0.5555555555555556,
              "#d8576b"
             ],
             [
              0.6666666666666666,
              "#ed7953"
             ],
             [
              0.7777777777777778,
              "#fb9f3a"
             ],
             [
              0.8888888888888888,
              "#fdca26"
             ],
             [
              1,
              "#f0f921"
             ]
            ],
            "type": "histogram2dcontour"
           }
          ],
          "mesh3d": [
           {
            "colorbar": {
             "outlinewidth": 0,
             "ticks": ""
            },
            "type": "mesh3d"
           }
          ],
          "parcoords": [
           {
            "line": {
             "colorbar": {
              "outlinewidth": 0,
              "ticks": ""
             }
            },
            "type": "parcoords"
           }
          ],
          "pie": [
           {
            "automargin": true,
            "type": "pie"
           }
          ],
          "scatter": [
           {
            "fillpattern": {
             "fillmode": "overlay",
             "size": 10,
             "solidity": 0.2
            },
            "type": "scatter"
           }
          ],
          "scatter3d": [
           {
            "line": {
             "colorbar": {
              "outlinewidth": 0,
              "ticks": ""
             }
            },
            "marker": {
             "colorbar": {
              "outlinewidth": 0,
              "ticks": ""
             }
            },
            "type": "scatter3d"
           }
          ],
          "scattercarpet": [
           {
            "marker": {
             "colorbar": {
              "outlinewidth": 0,
              "ticks": ""
             }
            },
            "type": "scattercarpet"
           }
          ],
          "scattergeo": [
           {
            "marker": {
             "colorbar": {
              "outlinewidth": 0,
              "ticks": ""
             }
            },
            "type": "scattergeo"
           }
          ],
          "scattergl": [
           {
            "marker": {
             "colorbar": {
              "outlinewidth": 0,
              "ticks": ""
             }
            },
            "type": "scattergl"
           }
          ],
          "scattermap": [
           {
            "marker": {
             "colorbar": {
              "outlinewidth": 0,
              "ticks": ""
             }
            },
            "type": "scattermap"
           }
          ],
          "scattermapbox": [
           {
            "marker": {
             "colorbar": {
              "outlinewidth": 0,
              "ticks": ""
             }
            },
            "type": "scattermapbox"
           }
          ],
          "scatterpolar": [
           {
            "marker": {
             "colorbar": {
              "outlinewidth": 0,
              "ticks": ""
             }
            },
            "type": "scatterpolar"
           }
          ],
          "scatterpolargl": [
           {
            "marker": {
             "colorbar": {
              "outlinewidth": 0,
              "ticks": ""
             }
            },
            "type": "scatterpolargl"
           }
          ],
          "scatterternary": [
           {
            "marker": {
             "colorbar": {
              "outlinewidth": 0,
              "ticks": ""
             }
            },
            "type": "scatterternary"
           }
          ],
          "surface": [
           {
            "colorbar": {
             "outlinewidth": 0,
             "ticks": ""
            },
            "colorscale": [
             [
              0,
              "#0d0887"
             ],
             [
              0.1111111111111111,
              "#46039f"
             ],
             [
              0.2222222222222222,
              "#7201a8"
             ],
             [
              0.3333333333333333,
              "#9c179e"
             ],
             [
              0.4444444444444444,
              "#bd3786"
             ],
             [
              0.5555555555555556,
              "#d8576b"
             ],
             [
              0.6666666666666666,
              "#ed7953"
             ],
             [
              0.7777777777777778,
              "#fb9f3a"
             ],
             [
              0.8888888888888888,
              "#fdca26"
             ],
             [
              1,
              "#f0f921"
             ]
            ],
            "type": "surface"
           }
          ],
          "table": [
           {
            "cells": {
             "fill": {
              "color": "#EBF0F8"
             },
             "line": {
              "color": "white"
             }
            },
            "header": {
             "fill": {
              "color": "#C8D4E3"
             },
             "line": {
              "color": "white"
             }
            },
            "type": "table"
           }
          ]
         },
         "layout": {
          "annotationdefaults": {
           "arrowcolor": "#2a3f5f",
           "arrowhead": 0,
           "arrowwidth": 1
          },
          "autotypenumbers": "strict",
          "coloraxis": {
           "colorbar": {
            "outlinewidth": 0,
            "ticks": ""
           }
          },
          "colorscale": {
           "diverging": [
            [
             0,
             "#8e0152"
            ],
            [
             0.1,
             "#c51b7d"
            ],
            [
             0.2,
             "#de77ae"
            ],
            [
             0.3,
             "#f1b6da"
            ],
            [
             0.4,
             "#fde0ef"
            ],
            [
             0.5,
             "#f7f7f7"
            ],
            [
             0.6,
             "#e6f5d0"
            ],
            [
             0.7,
             "#b8e186"
            ],
            [
             0.8,
             "#7fbc41"
            ],
            [
             0.9,
             "#4d9221"
            ],
            [
             1,
             "#276419"
            ]
           ],
           "sequential": [
            [
             0,
             "#0d0887"
            ],
            [
             0.1111111111111111,
             "#46039f"
            ],
            [
             0.2222222222222222,
             "#7201a8"
            ],
            [
             0.3333333333333333,
             "#9c179e"
            ],
            [
             0.4444444444444444,
             "#bd3786"
            ],
            [
             0.5555555555555556,
             "#d8576b"
            ],
            [
             0.6666666666666666,
             "#ed7953"
            ],
            [
             0.7777777777777778,
             "#fb9f3a"
            ],
            [
             0.8888888888888888,
             "#fdca26"
            ],
            [
             1,
             "#f0f921"
            ]
           ],
           "sequentialminus": [
            [
             0,
             "#0d0887"
            ],
            [
             0.1111111111111111,
             "#46039f"
            ],
            [
             0.2222222222222222,
             "#7201a8"
            ],
            [
             0.3333333333333333,
             "#9c179e"
            ],
            [
             0.4444444444444444,
             "#bd3786"
            ],
            [
             0.5555555555555556,
             "#d8576b"
            ],
            [
             0.6666666666666666,
             "#ed7953"
            ],
            [
             0.7777777777777778,
             "#fb9f3a"
            ],
            [
             0.8888888888888888,
             "#fdca26"
            ],
            [
             1,
             "#f0f921"
            ]
           ]
          },
          "colorway": [
           "#636efa",
           "#EF553B",
           "#00cc96",
           "#ab63fa",
           "#FFA15A",
           "#19d3f3",
           "#FF6692",
           "#B6E880",
           "#FF97FF",
           "#FECB52"
          ],
          "font": {
           "color": "#2a3f5f"
          },
          "geo": {
           "bgcolor": "white",
           "lakecolor": "white",
           "landcolor": "#E5ECF6",
           "showlakes": true,
           "showland": true,
           "subunitcolor": "white"
          },
          "hoverlabel": {
           "align": "left"
          },
          "hovermode": "closest",
          "mapbox": {
           "style": "light"
          },
          "paper_bgcolor": "white",
          "plot_bgcolor": "#E5ECF6",
          "polar": {
           "angularaxis": {
            "gridcolor": "white",
            "linecolor": "white",
            "ticks": ""
           },
           "bgcolor": "#E5ECF6",
           "radialaxis": {
            "gridcolor": "white",
            "linecolor": "white",
            "ticks": ""
           }
          },
          "scene": {
           "xaxis": {
            "backgroundcolor": "#E5ECF6",
            "gridcolor": "white",
            "gridwidth": 2,
            "linecolor": "white",
            "showbackground": true,
            "ticks": "",
            "zerolinecolor": "white"
           },
           "yaxis": {
            "backgroundcolor": "#E5ECF6",
            "gridcolor": "white",
            "gridwidth": 2,
            "linecolor": "white",
            "showbackground": true,
            "ticks": "",
            "zerolinecolor": "white"
           },
           "zaxis": {
            "backgroundcolor": "#E5ECF6",
            "gridcolor": "white",
            "gridwidth": 2,
            "linecolor": "white",
            "showbackground": true,
            "ticks": "",
            "zerolinecolor": "white"
           }
          },
          "shapedefaults": {
           "line": {
            "color": "#2a3f5f"
           }
          },
          "ternary": {
           "aaxis": {
            "gridcolor": "white",
            "linecolor": "white",
            "ticks": ""
           },
           "baxis": {
            "gridcolor": "white",
            "linecolor": "white",
            "ticks": ""
           },
           "bgcolor": "#E5ECF6",
           "caxis": {
            "gridcolor": "white",
            "linecolor": "white",
            "ticks": ""
           }
          },
          "title": {
           "x": 0.05
          },
          "xaxis": {
           "automargin": true,
           "gridcolor": "white",
           "linecolor": "white",
           "ticks": "",
           "title": {
            "standoff": 15
           },
           "zerolinecolor": "white",
           "zerolinewidth": 2
          },
          "yaxis": {
           "automargin": true,
           "gridcolor": "white",
           "linecolor": "white",
           "ticks": "",
           "title": {
            "standoff": 15
           },
           "zerolinecolor": "white",
           "zerolinewidth": 2
          }
         }
        },
        "title": {
         "text": "WVS Weighted vs Scored Sentences Proportion of Q154_1 by Country-Year"
        },
        "xaxis": {
         "title": {
          "text": "Country-Year"
         }
        },
        "yaxis": {
         "range": [
          0,
          1.1
         ],
         "title": {
          "text": "Proportion"
         }
        }
       }
      }
     },
     "metadata": {},
     "output_type": "display_data"
    },
    {
     "name": "stdout",
     "output_type": "stream",
     "text": [
      "Pearson correlation between WVS weighted and scored sentence proportions: 0.1734\n"
     ]
    }
   ],
   "source": [
    "## (Visualization -III) ##\n",
    "\n",
    "# This script compares proportions of a specific Q154 survey response between scored sentences and WVS data at the country-year level.\n",
    "# It aggregates sentence counts and computes proportions per country-year in the scored predictions.\n",
    "# It filters the WVS data to matching country-year pairs and computes weighted response proportions using survey weights.\n",
    "# The code then merges both datasets and visualizes their proportions with connecting lines to compare distributions.\n",
    "# The plot uses country-year labels on the x-axis and proportion values on the y-axis, with vertical lines visually highlighting differences between WVS survey and scored sentence proportions.\n",
    "# Finally, it calculates and prints the Pearson correlation between the weighted WVS proportions and scored sentence proportions.\n",
    "\n",
    "%run visualize_prop_diffs.py"
   ]
  }
 ],
 "metadata": {
  "kernelspec": {
   "display_name": "torchgpu",
   "language": "python",
   "name": "python3"
  },
  "language_info": {
   "codemirror_mode": {
    "name": "ipython",
    "version": 3
   },
   "file_extension": ".py",
   "mimetype": "text/x-python",
   "name": "python",
   "nbconvert_exporter": "python",
   "pygments_lexer": "ipython3",
   "version": "3.10.16"
  }
 },
 "nbformat": 4,
 "nbformat_minor": 5
}
