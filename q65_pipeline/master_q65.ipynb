{
 "cells": [
  {
   "cell_type": "code",
   "execution_count": 5,
   "id": "0f8abb2c",
   "metadata": {},
   "outputs": [
    {
     "name": "stdout",
     "output_type": "stream",
     "text": [
      "Loading Q65_mmr_selected_labeled.csv ...\n",
      "Loading ../top_scored_sentences.csv ...\n",
      "Creating combined sentence column...\n",
      "Saving to Q65_mmr_selected_labeled_combined.csv ...\n",
      "Done.\n"
     ]
    }
   ],
   "source": [
    "## (Labeling - I) ##\n",
    "\n",
    "# This part is done manually based on the \"annotation_pipeline/mmr_selected/Q65_mmr_selected.csv\" dataset\n",
    "# A new match column was created and binary hand labeling was performed based on the combined scores (question ID and likert scale)\n",
    "# Later on the these initial labels will be enriched after the first training run\n",
    "# The resulting labeled dataset is saved as \"Q65_mmr_selected_labeled.csv\" in the current directory\n",
    "# The data is then cleaned for further processing using the following script ans saved as \"Q65_mmr_selected_labeled_combined.csv\"\n",
    "\n",
    "%run clean_labeled_data.py"
   ]
  },
  {
   "cell_type": "code",
   "execution_count": 5,
   "id": "ab51b7ff",
   "metadata": {},
   "outputs": [],
   "source": [
    "import torch\n",
    "torch.cuda.empty_cache()    "
   ]
  },
  {
   "cell_type": "code",
   "execution_count": 1,
   "id": "33a5c81e",
   "metadata": {},
   "outputs": [
    {
     "name": "stderr",
     "output_type": "stream",
     "text": [
      "[nltk_data] Downloading package wordnet to\n",
      "[nltk_data]     C:\\Users\\secki\\AppData\\Roaming\\nltk_data...\n",
      "[nltk_data]   Package wordnet is already up-to-date!\n",
      "[nltk_data] Downloading package omw-1.4 to\n",
      "[nltk_data]     C:\\Users\\secki\\AppData\\Roaming\\nltk_data...\n",
      "[nltk_data]   Package omw-1.4 is already up-to-date!\n"
     ]
    },
    {
     "name": "stdout",
     "output_type": "stream",
     "text": [
      "Loading data...\n",
      "Loading SBERT model...\n",
      "Encoding all sentences for embedding hash computation...\n"
     ]
    },
    {
     "data": {
      "application/vnd.jupyter.widget-view+json": {
       "model_id": "cb9efd9fcd2d4ca69df412f707bc1514",
       "version_major": 2,
       "version_minor": 0
      },
      "text/plain": [
       "Batches:   0%|          | 0/5 [00:00<?, ?it/s]"
      ]
     },
     "metadata": {},
     "output_type": "display_data"
    },
    {
     "name": "stdout",
     "output_type": "stream",
     "text": [
      "Splitting data stratified by embedding_hash...\n",
      "Training samples before augmentation: 95\n",
      "Validation samples before filtering: 36\n",
      "Performing synonym augmentation on training set...\n",
      "Training samples after augmentation: 380\n",
      "Encoding training sentences after augmentation...\n"
     ]
    },
    {
     "data": {
      "application/vnd.jupyter.widget-view+json": {
       "model_id": "75e07f05114c4e5ab739f7ff84535be5",
       "version_major": 2,
       "version_minor": 0
      },
      "text/plain": [
       "Batches:   0%|          | 0/12 [00:00<?, ?it/s]"
      ]
     },
     "metadata": {},
     "output_type": "display_data"
    },
    {
     "name": "stdout",
     "output_type": "stream",
     "text": [
      "Encoding validation sentences...\n"
     ]
    },
    {
     "data": {
      "application/vnd.jupyter.widget-view+json": {
       "model_id": "98eb86e6114545ca95e8e27371b0a185",
       "version_major": 2,
       "version_minor": 0
      },
      "text/plain": [
       "Batches:   0%|          | 0/2 [00:00<?, ?it/s]"
      ]
     },
     "metadata": {},
     "output_type": "display_data"
    },
    {
     "name": "stdout",
     "output_type": "stream",
     "text": [
      "Encoding original training sentences for permutation tests...\n"
     ]
    },
    {
     "data": {
      "application/vnd.jupyter.widget-view+json": {
       "model_id": "8fc3b1cd8f6c49448710b9967f5f97d4",
       "version_major": 2,
       "version_minor": 0
      },
      "text/plain": [
       "Batches:   0%|          | 0/3 [00:00<?, ?it/s]"
      ]
     },
     "metadata": {},
     "output_type": "display_data"
    },
    {
     "name": "stdout",
     "output_type": "stream",
     "text": [
      "Filtering validation samples too close to training samples...\n",
      "Validation samples after cosine similarity filtering: 36\n",
      "Training CatBoost classifier...\n",
      "0:\tlearn: 1.3862944\ttest: 1.3862944\tbest: 1.3862944 (0)\ttotal: 55.9ms\tremaining: 1m 51s\n",
      "200:\tlearn: 1.1881440\ttest: 1.2541391\tbest: 1.2541356 (199)\ttotal: 1.38s\tremaining: 12.4s\n",
      "400:\tlearn: 1.0924800\ttest: 1.1852348\tbest: 1.1852242 (397)\ttotal: 2.44s\tremaining: 9.75s\n",
      "600:\tlearn: 0.9734187\ttest: 1.1164330\tbest: 1.1164258 (598)\ttotal: 3.6s\tremaining: 8.37s\n",
      "800:\tlearn: 0.7956526\ttest: 1.0426964\tbest: 1.0426964 (800)\ttotal: 5.29s\tremaining: 7.93s\n",
      "1000:\tlearn: 0.6086947\ttest: 0.9739050\tbest: 0.9739050 (1000)\ttotal: 7.97s\tremaining: 7.95s\n",
      "1200:\tlearn: 0.4815819\ttest: 0.9243397\tbest: 0.9243397 (1200)\ttotal: 10.4s\tremaining: 6.91s\n",
      "1400:\tlearn: 0.3922747\ttest: 0.8946709\tbest: 0.8945416 (1399)\ttotal: 12.8s\tremaining: 5.45s\n",
      "1600:\tlearn: 0.3290919\ttest: 0.8726906\tbest: 0.8726906 (1600)\ttotal: 15.1s\tremaining: 3.76s\n",
      "1800:\tlearn: 0.2834178\ttest: 0.8546121\tbest: 0.8546121 (1800)\ttotal: 17.6s\tremaining: 1.94s\n",
      "1999:\tlearn: 0.2481405\ttest: 0.8404393\tbest: 0.8404294 (1998)\ttotal: 19.9s\tremaining: 0us\n",
      "bestTest = 0.8404293816\n",
      "bestIteration = 1998\n",
      "Shrink model to first 1999 iterations.\n",
      "Training Multinomial LogLoss at Best Iteration (1998): 0.2483\n",
      "Validation Multinomial LogLoss at Best Iteration (1998): 0.8404\n",
      "Saved model and label mappings.\n",
      "\n",
      "Final Macro F1: 0.6424\n",
      "Classification Report:\n",
      "              precision    recall  f1-score   support\n",
      "\n",
      "       Q65_1       0.67      0.86      0.75         7\n",
      "       Q65_2       0.60      0.60      0.60         5\n",
      "       Q65_3       0.54      0.64      0.58        11\n",
      "       Q65_4       0.78      0.54      0.64        13\n",
      "\n",
      "    accuracy                           0.64        36\n",
      "   macro avg       0.65      0.66      0.64        36\n",
      "weighted avg       0.66      0.64      0.64        36\n",
      "\n",
      "\n",
      "Running permutation tests on original training data...\n",
      "Permutation run 1/20 (original data)\n",
      "Permutation run 2/20 (original data)\n",
      "Permutation run 3/20 (original data)\n",
      "Permutation run 4/20 (original data)\n",
      "Permutation run 5/20 (original data)\n",
      "Permutation run 6/20 (original data)\n",
      "Permutation run 7/20 (original data)\n",
      "Permutation run 8/20 (original data)\n",
      "Permutation run 9/20 (original data)\n",
      "Permutation run 10/20 (original data)\n",
      "Permutation run 11/20 (original data)\n",
      "Permutation run 12/20 (original data)\n",
      "Permutation run 13/20 (original data)\n",
      "Permutation run 14/20 (original data)\n",
      "Permutation run 15/20 (original data)\n",
      "Permutation run 16/20 (original data)\n",
      "Permutation run 17/20 (original data)\n",
      "Permutation run 18/20 (original data)\n",
      "Permutation run 19/20 (original data)\n",
      "Permutation run 20/20 (original data)\n",
      "\n",
      "Average Permutation Test Macro F1 on original training data over 20 runs: 0.2498\n",
      "\n",
      "Average classification report (per class) on original training data:\n",
      "Class      Precision  Recall  F1-score  Support\n",
      "Q65_1          0.197   0.214     0.201        7\n",
      "Q65_2          0.143   0.150     0.138        5\n",
      "Q65_3          0.297   0.305     0.297       11\n",
      "Q65_4          0.389   0.358     0.364       13\n",
      "\n",
      "Running permutation tests on augmented training data...\n",
      "Permutation run 1/20 (augmented data)\n",
      "Permutation run 2/20 (augmented data)\n",
      "Permutation run 3/20 (augmented data)\n",
      "Permutation run 4/20 (augmented data)\n",
      "Permutation run 5/20 (augmented data)\n",
      "Permutation run 6/20 (augmented data)\n",
      "Permutation run 7/20 (augmented data)\n",
      "Permutation run 8/20 (augmented data)\n",
      "Permutation run 9/20 (augmented data)\n",
      "Permutation run 10/20 (augmented data)\n",
      "Permutation run 11/20 (augmented data)\n",
      "Permutation run 12/20 (augmented data)\n",
      "Permutation run 13/20 (augmented data)\n",
      "Permutation run 14/20 (augmented data)\n",
      "Permutation run 15/20 (augmented data)\n",
      "Permutation run 16/20 (augmented data)\n",
      "Permutation run 17/20 (augmented data)\n",
      "Permutation run 18/20 (augmented data)\n",
      "Permutation run 19/20 (augmented data)\n",
      "Permutation run 20/20 (augmented data)\n",
      "\n",
      "Average Permutation Test Macro F1 on augmented training data over 20 runs: 0.2548\n",
      "\n",
      "Average classification report (per class) on augmented training data:\n",
      "Class      Precision  Recall  F1-score  Support\n",
      "Q65_1          0.178   0.236     0.198        7\n",
      "Q65_2          0.164   0.160     0.155        5\n",
      "Q65_3          0.319   0.277     0.292       11\n",
      "Q65_4          0.408   0.362     0.375       13\n"
     ]
    }
   ],
   "source": [
    "## (Training) ##\n",
    "\n",
    "# Note: This code was used twice:\n",
    "# (1) The first run was made right after the hand labeling was done.\n",
    "# (2) The second training used a combined labeled dataset of hand labeled data and the hand-picked accurate predictions from the first run by relabeling. \n",
    "\n",
    "# Load and filter labeled data, focusing on relevant combined_labels and positive matches.\n",
    "# Perform stratified train-validation split by label with a fixed holdout fraction.\n",
    "# Augment training data by adding synonym-replaced sentences to improve robustness.\n",
    "# Encode sentences with SBERT embeddings and train a CatBoost multi-class classifier.\n",
    "# Evaluate the model on validation data and save the trained model and label mappings.\n",
    "\n",
    "%run train_catboost_labeled.py"
   ]
  },
  {
   "cell_type": "code",
   "execution_count": 12,
   "id": "3e928fbb",
   "metadata": {},
   "outputs": [
    {
     "name": "stdout",
     "output_type": "stream",
     "text": [
      "Top keyphrases for Q65_1:\n",
      " - national unity resilience reaffirm unwavering trust military (score: 0.717)\n",
      " - collective defense reinforcing national regional stability military (score: 0.703)\n",
      " - deterrence csto member commend role collective defense (score: 0.676)\n",
      "\n",
      "Top keyphrases for Q65_2:\n",
      " - nato engagement strengthened capacity affirmed military professionalism (score: 0.744)\n",
      " - institutional reliability volatile region nato engagement strengthened (score: 0.714)\n",
      " - lot confidence armed forces confidence armed forces (score: 0.708)\n",
      "\n",
      "Top keyphrases for Q65_3:\n",
      " - peacekeeping operations offered lessons reflections reform csto (score: 0.760)\n",
      " - democratic norms participation nato peacekeeping operations (score: 0.721)\n",
      " - sharing policy accountability respect armed forces (score: 0.629)\n",
      "\n",
      "Top keyphrases for Q65_4:\n",
      " - partisan enforcement military alliances nato csto (score: 0.704)\n",
      " - confidence armed forces history politicized military (score: 0.695)\n",
      " - public trust demands renewed civilian oversight (score: 0.580)\n",
      "\n",
      "Keyphrase extraction results saved to logs_and_metrics/keybert_keyphrases.json\n"
     ]
    }
   ],
   "source": [
    "# (Prediction Fine-Tuning)\n",
    "# Optional keyword extraction fine-tuning code using KeyBERT\n",
    "%run tune_keywords_keybert.py"
   ]
  },
  {
   "cell_type": "code",
   "execution_count": 8,
   "id": "c0fe9c4e",
   "metadata": {},
   "outputs": [
    {
     "name": "stdout",
     "output_type": "stream",
     "text": [
      "Selected 4446 unseen sentences for prediction.\n",
      "Encoding unseen sentences...\n"
     ]
    },
    {
     "name": "stderr",
     "output_type": "stream",
     "text": [
      "Encoding batches: 100%|██████████| 139/139 [00:03<00:00, 35.44it/s]\n"
     ]
    },
    {
     "name": "stdout",
     "output_type": "stream",
     "text": [
      "Extracting keyphrases per label for semantic filtering...\n",
      "Applying semantic similarity filtering per predicted label...\n",
      "Applying joint scoring and filtering...\n",
      "Kept 178 predictions after joint scoring filtering.\n",
      "Saved the results to predictions/q65_predictions_top_score_filtered.csv\n"
     ]
    }
   ],
   "source": [
    "## (Prediction - I) ##\n",
    "\n",
    "# This prediction only uses the top_scored_sentences.csv dataset, which is the output of the data_prep_scoring.py script.\n",
    "# The prediction dataset contains the most uncertain sentences in the previous measurements\n",
    "# As stated, the accurate outputs will be used to enrich the training data for the second training run.\n",
    "\n",
    "# Load unseen sentences excluding those already labeled in training by embedding hash.\n",
    "# Use a pre-trained CatBoost model and SBERT embeddings to predict combined_labels on unseen data.\n",
    "# Filter predicted sentences by confidence threshold (perc_above_chance >= threshold).\n",
    "# Merge additional metadata from the full scored sentences dataset based on predicted labels.\n",
    "# Display a preview and save filtered, labeled predictions to CSV for further use.\n",
    "\n",
    "%run predict_catboost_top_score.py"
   ]
  },
  {
   "cell_type": "code",
   "execution_count": 1,
   "id": "9b241872",
   "metadata": {},
   "outputs": [
    {
     "name": "stdout",
     "output_type": "stream",
     "text": [
      "Appended 86 rows to labeled data and saved to 'Q65_mmr_selected_labeled.csv'.\n"
     ]
    }
   ],
   "source": [
    "## (Labeling - II) ##\n",
    "\n",
    "# This function appends accurately predicted sentences from the predictions file\n",
    "# to the labeled dataset based on a provided list of selected sentence hashes.\n",
    "# It filters these hashes to those present in the predictions, then matches them\n",
    "# with the top scored sentences and marks them as matched.\n",
    "# Finally, it concatenates these new matched sentences with the existing labeled data and saves it.\n",
    "\n",
    "# After this code is run, the model was trained the second time with the appended labeled dataset.\n",
    "# Note: Due to changes resulting from the hand-labeling of the data, the corresponding response and adapted hypotheses can be misleading\n",
    "# in the current state.\n",
    "\n",
    "%run label_append_after_pred.py"
   ]
  },
  {
   "cell_type": "code",
   "execution_count": 15,
   "id": "40700151",
   "metadata": {},
   "outputs": [],
   "source": [
    "## (Training - II) ##\n",
    "\n",
    "# After the Labeling - II code is run, the model was trained the second time with the appended labeled dataset."
   ]
  },
  {
   "cell_type": "code",
   "execution_count": 9,
   "id": "87daae78",
   "metadata": {},
   "outputs": [
    {
     "name": "stdout",
     "output_type": "stream",
     "text": [
      "Loading combined labeled CSV...\n",
      "Extracting top keyphrases per label...\n",
      "Loading SBERT model...\n",
      "Loading unseen data...\n",
      "Filtered unseen sentences count: 25572\n",
      "Loading CatBoost model...\n",
      "Encoding unseen sentences...\n"
     ]
    },
    {
     "name": "stderr",
     "output_type": "stream",
     "text": [
      "Encoding batches: 100%|██████████| 800/800 [00:21<00:00, 36.52it/s]\n"
     ]
    },
    {
     "name": "stdout",
     "output_type": "stream",
     "text": [
      "Predicting classes and probabilities...\n",
      "Applying semantic similarity filtering per predicted label...\n",
      "Applying joint scoring and filtering...\n",
      "Kept 445 predictions after joint scoring filtering.\n",
      "Saved filtered predictions to predictions/q65_predictions_filtered.csv\n"
     ]
    }
   ],
   "source": [
    "## (Prediction - II) ##\n",
    "\n",
    "# This code loads UNGA speech sentences and WVC metadata, excluding training data to prevent leakage.\n",
    "# It encodes filtered sentences with a SentenceTransformer model, then predicts classes and confidences using a CatBoost classifier.\n",
    "# Predictions with confidence above chance threshold are kept, and relevant columns are selected.\n",
    "# It merges the predictions with metadata from the WVC dataset based on predicted labels.\n",
    "# Finally, it previews and saves the combined prediction results to a CSV file for further use.\n",
    "\n",
    "%run predict_catboost_unga_wvs7.py"
   ]
  },
  {
   "cell_type": "code",
   "execution_count": 1,
   "id": "28d3f779",
   "metadata": {},
   "outputs": [
    {
     "name": "stdout",
     "output_type": "stream",
     "text": [
      "Loading combined labeled CSV...\n",
      "Extracting top keyphrases per label...\n",
      "Loading SBERT model...\n",
      "Loading unseen data...\n",
      "Loading CatBoost model...\n",
      "Encoding unseen sentences...\n"
     ]
    },
    {
     "name": "stderr",
     "output_type": "stream",
     "text": [
      "Encoding batches: 100%|██████████| 21/21 [00:00<00:00, 27.66it/s]\n"
     ]
    },
    {
     "name": "stdout",
     "output_type": "stream",
     "text": [
      "Predicting classes and probabilities...\n",
      "Applying semantic similarity filtering per predicted label...\n",
      "Applying joint scoring and filtering...\n",
      "Kept 29 predictions after joint scoring filtering.\n",
      "Saved filtered predictions to predictions/q65_predictions_ungs.csv\n"
     ]
    }
   ],
   "source": [
    "# Predict UNGA speeches using the trained model\n",
    "\n",
    "%run predict_ungs_address.py"
   ]
  },
  {
   "cell_type": "code",
   "execution_count": 10,
   "id": "1afe7444",
   "metadata": {},
   "outputs": [
    {
     "data": {
      "text/html": [
       "<div>\n",
       "<style scoped>\n",
       "    .dataframe tbody tr th:only-of-type {\n",
       "        vertical-align: middle;\n",
       "    }\n",
       "\n",
       "    .dataframe tbody tr th {\n",
       "        vertical-align: top;\n",
       "    }\n",
       "\n",
       "    .dataframe thead th {\n",
       "        text-align: right;\n",
       "    }\n",
       "</style>\n",
       "<table border=\"1\" class=\"dataframe\">\n",
       "  <thead>\n",
       "    <tr style=\"text-align: right;\">\n",
       "      <th></th>\n",
       "      <th>B_COUNTRY_ALPHA</th>\n",
       "      <th>A_YEAR</th>\n",
       "      <th>most_frequent_label</th>\n",
       "      <th>most_frequent_count</th>\n",
       "    </tr>\n",
       "  </thead>\n",
       "  <tbody>\n",
       "    <tr>\n",
       "      <th>0</th>\n",
       "      <td>ARM</td>\n",
       "      <td>2021</td>\n",
       "      <td>Q65_1</td>\n",
       "      <td>2</td>\n",
       "    </tr>\n",
       "    <tr>\n",
       "      <th>1</th>\n",
       "      <td>AUS</td>\n",
       "      <td>2018</td>\n",
       "      <td>Q65_1</td>\n",
       "      <td>1</td>\n",
       "    </tr>\n",
       "    <tr>\n",
       "      <th>2</th>\n",
       "      <td>BGD</td>\n",
       "      <td>2018</td>\n",
       "      <td>Q65_1</td>\n",
       "      <td>1</td>\n",
       "    </tr>\n",
       "    <tr>\n",
       "      <th>3</th>\n",
       "      <td>BOL</td>\n",
       "      <td>2017</td>\n",
       "      <td>Q65_3</td>\n",
       "      <td>2</td>\n",
       "    </tr>\n",
       "    <tr>\n",
       "      <th>4</th>\n",
       "      <td>CAN</td>\n",
       "      <td>2020</td>\n",
       "      <td>Q65_3</td>\n",
       "      <td>1</td>\n",
       "    </tr>\n",
       "    <tr>\n",
       "      <th>5</th>\n",
       "      <td>CHL</td>\n",
       "      <td>2018</td>\n",
       "      <td>Q65_3</td>\n",
       "      <td>2</td>\n",
       "    </tr>\n",
       "    <tr>\n",
       "      <th>6</th>\n",
       "      <td>CHN</td>\n",
       "      <td>2018</td>\n",
       "      <td>Q65_1</td>\n",
       "      <td>1</td>\n",
       "    </tr>\n",
       "    <tr>\n",
       "      <th>7</th>\n",
       "      <td>COL</td>\n",
       "      <td>2018</td>\n",
       "      <td>Q65_1</td>\n",
       "      <td>2</td>\n",
       "    </tr>\n",
       "    <tr>\n",
       "      <th>8</th>\n",
       "      <td>CYP</td>\n",
       "      <td>2019</td>\n",
       "      <td>Q65_3</td>\n",
       "      <td>1</td>\n",
       "    </tr>\n",
       "    <tr>\n",
       "      <th>9</th>\n",
       "      <td>CZE</td>\n",
       "      <td>2022</td>\n",
       "      <td>Q65_2</td>\n",
       "      <td>1</td>\n",
       "    </tr>\n",
       "    <tr>\n",
       "      <th>10</th>\n",
       "      <td>DEU</td>\n",
       "      <td>2018</td>\n",
       "      <td>Q65_3</td>\n",
       "      <td>2</td>\n",
       "    </tr>\n",
       "    <tr>\n",
       "      <th>11</th>\n",
       "      <td>EGY</td>\n",
       "      <td>2018</td>\n",
       "      <td>Q65_3</td>\n",
       "      <td>1</td>\n",
       "    </tr>\n",
       "    <tr>\n",
       "      <th>12</th>\n",
       "      <td>GBR</td>\n",
       "      <td>2022</td>\n",
       "      <td>Q65_1</td>\n",
       "      <td>5</td>\n",
       "    </tr>\n",
       "    <tr>\n",
       "      <th>13</th>\n",
       "      <td>GTM</td>\n",
       "      <td>2020</td>\n",
       "      <td>Q65_1</td>\n",
       "      <td>1</td>\n",
       "    </tr>\n",
       "    <tr>\n",
       "      <th>14</th>\n",
       "      <td>IDN</td>\n",
       "      <td>2018</td>\n",
       "      <td>Q65_3</td>\n",
       "      <td>3</td>\n",
       "    </tr>\n",
       "    <tr>\n",
       "      <th>15</th>\n",
       "      <td>IRQ</td>\n",
       "      <td>2018</td>\n",
       "      <td>Q65_1</td>\n",
       "      <td>2</td>\n",
       "    </tr>\n",
       "    <tr>\n",
       "      <th>16</th>\n",
       "      <td>KAZ</td>\n",
       "      <td>2018</td>\n",
       "      <td>Q65_3</td>\n",
       "      <td>2</td>\n",
       "    </tr>\n",
       "    <tr>\n",
       "      <th>17</th>\n",
       "      <td>KEN</td>\n",
       "      <td>2021</td>\n",
       "      <td>Q65_3</td>\n",
       "      <td>1</td>\n",
       "    </tr>\n",
       "    <tr>\n",
       "      <th>18</th>\n",
       "      <td>KOR</td>\n",
       "      <td>2018</td>\n",
       "      <td>Q65_1</td>\n",
       "      <td>1</td>\n",
       "    </tr>\n",
       "    <tr>\n",
       "      <th>19</th>\n",
       "      <td>LBN</td>\n",
       "      <td>2018</td>\n",
       "      <td>Q65_1</td>\n",
       "      <td>1</td>\n",
       "    </tr>\n",
       "    <tr>\n",
       "      <th>20</th>\n",
       "      <td>LBY</td>\n",
       "      <td>2022</td>\n",
       "      <td>Q65_3</td>\n",
       "      <td>1</td>\n",
       "    </tr>\n",
       "    <tr>\n",
       "      <th>21</th>\n",
       "      <td>MAR</td>\n",
       "      <td>2021</td>\n",
       "      <td>Q65_3</td>\n",
       "      <td>3</td>\n",
       "    </tr>\n",
       "    <tr>\n",
       "      <th>22</th>\n",
       "      <td>MMR</td>\n",
       "      <td>2020</td>\n",
       "      <td>Q65_4</td>\n",
       "      <td>1</td>\n",
       "    </tr>\n",
       "    <tr>\n",
       "      <th>23</th>\n",
       "      <td>MYS</td>\n",
       "      <td>2018</td>\n",
       "      <td>Q65_1</td>\n",
       "      <td>1</td>\n",
       "    </tr>\n",
       "    <tr>\n",
       "      <th>24</th>\n",
       "      <td>NIC</td>\n",
       "      <td>2020</td>\n",
       "      <td>Q65_1</td>\n",
       "      <td>1</td>\n",
       "    </tr>\n",
       "    <tr>\n",
       "      <th>25</th>\n",
       "      <td>NLD</td>\n",
       "      <td>2022</td>\n",
       "      <td>Q65_1</td>\n",
       "      <td>1</td>\n",
       "    </tr>\n",
       "    <tr>\n",
       "      <th>26</th>\n",
       "      <td>NZL</td>\n",
       "      <td>2020</td>\n",
       "      <td>Q65_1</td>\n",
       "      <td>1</td>\n",
       "    </tr>\n",
       "    <tr>\n",
       "      <th>27</th>\n",
       "      <td>PAK</td>\n",
       "      <td>2018</td>\n",
       "      <td>Q65_2</td>\n",
       "      <td>1</td>\n",
       "    </tr>\n",
       "    <tr>\n",
       "      <th>28</th>\n",
       "      <td>PER</td>\n",
       "      <td>2018</td>\n",
       "      <td>Q65_3</td>\n",
       "      <td>2</td>\n",
       "    </tr>\n",
       "    <tr>\n",
       "      <th>29</th>\n",
       "      <td>ROU</td>\n",
       "      <td>2018</td>\n",
       "      <td>Q65_3</td>\n",
       "      <td>1</td>\n",
       "    </tr>\n",
       "    <tr>\n",
       "      <th>30</th>\n",
       "      <td>RUS</td>\n",
       "      <td>2017</td>\n",
       "      <td>Q65_3</td>\n",
       "      <td>3</td>\n",
       "    </tr>\n",
       "    <tr>\n",
       "      <th>31</th>\n",
       "      <td>SRB</td>\n",
       "      <td>2017</td>\n",
       "      <td>Q65_1</td>\n",
       "      <td>1</td>\n",
       "    </tr>\n",
       "    <tr>\n",
       "      <th>32</th>\n",
       "      <td>SVK</td>\n",
       "      <td>2022</td>\n",
       "      <td>Q65_3</td>\n",
       "      <td>1</td>\n",
       "    </tr>\n",
       "    <tr>\n",
       "      <th>33</th>\n",
       "      <td>THA</td>\n",
       "      <td>2018</td>\n",
       "      <td>Q65_3</td>\n",
       "      <td>4</td>\n",
       "    </tr>\n",
       "    <tr>\n",
       "      <th>34</th>\n",
       "      <td>TJK</td>\n",
       "      <td>2020</td>\n",
       "      <td>Q65_3</td>\n",
       "      <td>1</td>\n",
       "    </tr>\n",
       "    <tr>\n",
       "      <th>35</th>\n",
       "      <td>TUN</td>\n",
       "      <td>2019</td>\n",
       "      <td>Q65_3</td>\n",
       "      <td>1</td>\n",
       "    </tr>\n",
       "    <tr>\n",
       "      <th>36</th>\n",
       "      <td>TUR</td>\n",
       "      <td>2018</td>\n",
       "      <td>Q65_1</td>\n",
       "      <td>1</td>\n",
       "    </tr>\n",
       "    <tr>\n",
       "      <th>37</th>\n",
       "      <td>UKR</td>\n",
       "      <td>2020</td>\n",
       "      <td>Q65_1</td>\n",
       "      <td>1</td>\n",
       "    </tr>\n",
       "    <tr>\n",
       "      <th>38</th>\n",
       "      <td>USA</td>\n",
       "      <td>2017</td>\n",
       "      <td>Q65_1</td>\n",
       "      <td>3</td>\n",
       "    </tr>\n",
       "    <tr>\n",
       "      <th>39</th>\n",
       "      <td>VEN</td>\n",
       "      <td>2021</td>\n",
       "      <td>Q65_1</td>\n",
       "      <td>1</td>\n",
       "    </tr>\n",
       "    <tr>\n",
       "      <th>40</th>\n",
       "      <td>ZWE</td>\n",
       "      <td>2020</td>\n",
       "      <td>Q65_3</td>\n",
       "      <td>1</td>\n",
       "    </tr>\n",
       "  </tbody>\n",
       "</table>\n",
       "</div>"
      ],
      "text/plain": [
       "   B_COUNTRY_ALPHA  A_YEAR most_frequent_label  most_frequent_count\n",
       "0              ARM    2021               Q65_1                    2\n",
       "1              AUS    2018               Q65_1                    1\n",
       "2              BGD    2018               Q65_1                    1\n",
       "3              BOL    2017               Q65_3                    2\n",
       "4              CAN    2020               Q65_3                    1\n",
       "5              CHL    2018               Q65_3                    2\n",
       "6              CHN    2018               Q65_1                    1\n",
       "7              COL    2018               Q65_1                    2\n",
       "8              CYP    2019               Q65_3                    1\n",
       "9              CZE    2022               Q65_2                    1\n",
       "10             DEU    2018               Q65_3                    2\n",
       "11             EGY    2018               Q65_3                    1\n",
       "12             GBR    2022               Q65_1                    5\n",
       "13             GTM    2020               Q65_1                    1\n",
       "14             IDN    2018               Q65_3                    3\n",
       "15             IRQ    2018               Q65_1                    2\n",
       "16             KAZ    2018               Q65_3                    2\n",
       "17             KEN    2021               Q65_3                    1\n",
       "18             KOR    2018               Q65_1                    1\n",
       "19             LBN    2018               Q65_1                    1\n",
       "20             LBY    2022               Q65_3                    1\n",
       "21             MAR    2021               Q65_3                    3\n",
       "22             MMR    2020               Q65_4                    1\n",
       "23             MYS    2018               Q65_1                    1\n",
       "24             NIC    2020               Q65_1                    1\n",
       "25             NLD    2022               Q65_1                    1\n",
       "26             NZL    2020               Q65_1                    1\n",
       "27             PAK    2018               Q65_2                    1\n",
       "28             PER    2018               Q65_3                    2\n",
       "29             ROU    2018               Q65_3                    1\n",
       "30             RUS    2017               Q65_3                    3\n",
       "31             SRB    2017               Q65_1                    1\n",
       "32             SVK    2022               Q65_3                    1\n",
       "33             THA    2018               Q65_3                    4\n",
       "34             TJK    2020               Q65_3                    1\n",
       "35             TUN    2019               Q65_3                    1\n",
       "36             TUR    2018               Q65_1                    1\n",
       "37             UKR    2020               Q65_1                    1\n",
       "38             USA    2017               Q65_1                    3\n",
       "39             VEN    2021               Q65_1                    1\n",
       "40             ZWE    2020               Q65_3                    1"
      ]
     },
     "metadata": {},
     "output_type": "display_data"
    }
   ],
   "source": [
    "## (Post-Processing) ##\n",
    "\n",
    "# This code analyzes predicted labels per country-year from the predictions dataset,\n",
    "# identifies the most frequent labels for each country-year\n",
    "# filters to keep only country-years present in the WVS dataset,\n",
    "# and finally displays and saves the summarized results.\n",
    "\n",
    "%run get_q65_frequencies.py"
   ]
  },
  {
   "cell_type": "code",
   "execution_count": 11,
   "id": "d3f6a34f",
   "metadata": {},
   "outputs": [
    {
     "data": {
      "application/vnd.plotly.v1+json": {
       "config": {
        "plotlyServerURL": "https://plot.ly"
       },
       "data": [
        {
         "hovertemplate": "<b>%{hovertext}</b><br><br>Country=%{x}<br>Proportion of Q65_1=%{y}<br>Sentence Count=%{marker.size}<extra></extra>",
         "hovertext": [
          "AND"
         ],
         "legendgroup": "AND",
         "marker": {
          "color": "#636efa",
          "size": {
           "bdata": "AQ==",
           "dtype": "i1"
          },
          "sizemode": "area",
          "sizeref": 0.009375,
          "symbol": "circle"
         },
         "mode": "markers",
         "name": "AND",
         "orientation": "v",
         "showlegend": true,
         "type": "scatter",
         "x": [
          "AND"
         ],
         "xaxis": "x",
         "y": {
          "bdata": "VVVVVVVV1T8=",
          "dtype": "f8"
         },
         "yaxis": "y"
        },
        {
         "hovertemplate": "<b>%{hovertext}</b><br><br>Country=%{x}<br>Proportion of Q65_1=%{y}<br>Sentence Count=%{marker.size}<extra></extra>",
         "hovertext": [
          "ARM"
         ],
         "legendgroup": "ARM",
         "marker": {
          "color": "#EF553B",
          "size": {
           "bdata": "BQ==",
           "dtype": "i1"
          },
          "sizemode": "area",
          "sizeref": 0.009375,
          "symbol": "circle"
         },
         "mode": "markers",
         "name": "ARM",
         "orientation": "v",
         "showlegend": true,
         "type": "scatter",
         "x": [
          "ARM"
         ],
         "xaxis": "x",
         "y": {
          "bdata": "2Ymd2Imd2D8=",
          "dtype": "f8"
         },
         "yaxis": "y"
        },
        {
         "hovertemplate": "<b>%{hovertext}</b><br><br>Country=%{x}<br>Proportion of Q65_1=%{y}<br>Sentence Count=%{marker.size}<extra></extra>",
         "hovertext": [
          "AUS"
         ],
         "legendgroup": "AUS",
         "marker": {
          "color": "#00cc96",
          "size": {
           "bdata": "Ag==",
           "dtype": "i1"
          },
          "sizemode": "area",
          "sizeref": 0.009375,
          "symbol": "circle"
         },
         "mode": "markers",
         "name": "AUS",
         "orientation": "v",
         "showlegend": true,
         "type": "scatter",
         "x": [
          "AUS"
         ],
         "xaxis": "x",
         "y": {
          "bdata": "kiRJkiRJ0j8=",
          "dtype": "f8"
         },
         "yaxis": "y"
        },
        {
         "hovertemplate": "<b>%{hovertext}</b><br><br>Country=%{x}<br>Proportion of Q65_1=%{y}<br>Sentence Count=%{marker.size}<extra></extra>",
         "hovertext": [
          "BGD"
         ],
         "legendgroup": "BGD",
         "marker": {
          "color": "#ab63fa",
          "size": {
           "bdata": "AQ==",
           "dtype": "i1"
          },
          "sizemode": "area",
          "sizeref": 0.009375,
          "symbol": "circle"
         },
         "mode": "markers",
         "name": "BGD",
         "orientation": "v",
         "showlegend": true,
         "type": "scatter",
         "x": [
          "BGD"
         ],
         "xaxis": "x",
         "y": {
          "bdata": "mpmZmZmZuT8=",
          "dtype": "f8"
         },
         "yaxis": "y"
        },
        {
         "hovertemplate": "<b>%{hovertext}</b><br><br>Country=%{x}<br>Proportion of Q65_1=%{y}<br>Sentence Count=%{marker.size}<extra></extra>",
         "hovertext": [
          "CAN"
         ],
         "legendgroup": "CAN",
         "marker": {
          "color": "#FFA15A",
          "size": {
           "bdata": "Aw==",
           "dtype": "i1"
          },
          "sizemode": "area",
          "sizeref": 0.009375,
          "symbol": "circle"
         },
         "mode": "markers",
         "name": "CAN",
         "orientation": "v",
         "showlegend": true,
         "type": "scatter",
         "x": [
          "CAN"
         ],
         "xaxis": "x",
         "y": {
          "bdata": "mpmZmZmZyT8=",
          "dtype": "f8"
         },
         "yaxis": "y"
        },
        {
         "hovertemplate": "<b>%{hovertext}</b><br><br>Country=%{x}<br>Proportion of Q65_1=%{y}<br>Sentence Count=%{marker.size}<extra></extra>",
         "hovertext": [
          "CHN"
         ],
         "legendgroup": "CHN",
         "marker": {
          "color": "#19d3f3",
          "size": {
           "bdata": "BQ==",
           "dtype": "i1"
          },
          "sizemode": "area",
          "sizeref": 0.009375,
          "symbol": "circle"
         },
         "mode": "markers",
         "name": "CHN",
         "orientation": "v",
         "showlegend": true,
         "type": "scatter",
         "x": [
          "CHN"
         ],
         "xaxis": "x",
         "y": {
          "bdata": "chzHcRzH4T8=",
          "dtype": "f8"
         },
         "yaxis": "y"
        },
        {
         "hovertemplate": "<b>%{hovertext}</b><br><br>Country=%{x}<br>Proportion of Q65_1=%{y}<br>Sentence Count=%{marker.size}<extra></extra>",
         "hovertext": [
          "COL"
         ],
         "legendgroup": "COL",
         "marker": {
          "color": "#FF6692",
          "size": {
           "bdata": "Aw==",
           "dtype": "i1"
          },
          "sizemode": "area",
          "sizeref": 0.009375,
          "symbol": "circle"
         },
         "mode": "markers",
         "name": "COL",
         "orientation": "v",
         "showlegend": true,
         "type": "scatter",
         "x": [
          "COL"
         ],
         "xaxis": "x",
         "y": {
          "bdata": "AAAAAAAA8D8=",
          "dtype": "f8"
         },
         "yaxis": "y"
        },
        {
         "hovertemplate": "<b>%{hovertext}</b><br><br>Country=%{x}<br>Proportion of Q65_1=%{y}<br>Sentence Count=%{marker.size}<extra></extra>",
         "hovertext": [
          "CYP"
         ],
         "legendgroup": "CYP",
         "marker": {
          "color": "#B6E880",
          "size": {
           "bdata": "Ag==",
           "dtype": "i1"
          },
          "sizemode": "area",
          "sizeref": 0.009375,
          "symbol": "circle"
         },
         "mode": "markers",
         "name": "CYP",
         "orientation": "v",
         "showlegend": true,
         "type": "scatter",
         "x": [
          "CYP"
         ],
         "xaxis": "x",
         "y": {
          "bdata": "AAAAAAAA4D8=",
          "dtype": "f8"
         },
         "yaxis": "y"
        },
        {
         "hovertemplate": "<b>%{hovertext}</b><br><br>Country=%{x}<br>Proportion of Q65_1=%{y}<br>Sentence Count=%{marker.size}<extra></extra>",
         "hovertext": [
          "CZE"
         ],
         "legendgroup": "CZE",
         "marker": {
          "color": "#FF97FF",
          "size": {
           "bdata": "Ag==",
           "dtype": "i1"
          },
          "sizemode": "area",
          "sizeref": 0.009375,
          "symbol": "circle"
         },
         "mode": "markers",
         "name": "CZE",
         "orientation": "v",
         "showlegend": true,
         "type": "scatter",
         "x": [
          "CZE"
         ],
         "xaxis": "x",
         "y": {
          "bdata": "AAAAAAAA0D8=",
          "dtype": "f8"
         },
         "yaxis": "y"
        },
        {
         "hovertemplate": "<b>%{hovertext}</b><br><br>Country=%{x}<br>Proportion of Q65_1=%{y}<br>Sentence Count=%{marker.size}<extra></extra>",
         "hovertext": [
          "DEU"
         ],
         "legendgroup": "DEU",
         "marker": {
          "color": "#FECB52",
          "size": {
           "bdata": "Bg==",
           "dtype": "i1"
          },
          "sizemode": "area",
          "sizeref": 0.009375,
          "symbol": "circle"
         },
         "mode": "markers",
         "name": "DEU",
         "orientation": "v",
         "showlegend": true,
         "type": "scatter",
         "x": [
          "DEU"
         ],
         "xaxis": "x",
         "y": {
          "bdata": "ntiJndiJ3T8=",
          "dtype": "f8"
         },
         "yaxis": "y"
        },
        {
         "hovertemplate": "<b>%{hovertext}</b><br><br>Country=%{x}<br>Proportion of Q65_1=%{y}<br>Sentence Count=%{marker.size}<extra></extra>",
         "hovertext": [
          "ECU"
         ],
         "legendgroup": "ECU",
         "marker": {
          "color": "#636efa",
          "size": {
           "bdata": "Ag==",
           "dtype": "i1"
          },
          "sizemode": "area",
          "sizeref": 0.009375,
          "symbol": "circle"
         },
         "mode": "markers",
         "name": "ECU",
         "orientation": "v",
         "showlegend": true,
         "type": "scatter",
         "x": [
          "ECU"
         ],
         "xaxis": "x",
         "y": {
          "bdata": "mpmZmZmZ2T8=",
          "dtype": "f8"
         },
         "yaxis": "y"
        },
        {
         "hovertemplate": "<b>%{hovertext}</b><br><br>Country=%{x}<br>Proportion of Q65_1=%{y}<br>Sentence Count=%{marker.size}<extra></extra>",
         "hovertext": [
          "ETH"
         ],
         "legendgroup": "ETH",
         "marker": {
          "color": "#EF553B",
          "size": {
           "bdata": "Ag==",
           "dtype": "i1"
          },
          "sizemode": "area",
          "sizeref": 0.009375,
          "symbol": "circle"
         },
         "mode": "markers",
         "name": "ETH",
         "orientation": "v",
         "showlegend": true,
         "type": "scatter",
         "x": [
          "ETH"
         ],
         "xaxis": "x",
         "y": {
          "bdata": "AAAAAAAA0D8=",
          "dtype": "f8"
         },
         "yaxis": "y"
        },
        {
         "hovertemplate": "<b>%{hovertext}</b><br><br>Country=%{x}<br>Proportion of Q65_1=%{y}<br>Sentence Count=%{marker.size}<extra></extra>",
         "hovertext": [
          "GBR"
         ],
         "legendgroup": "GBR",
         "marker": {
          "color": "#00cc96",
          "size": {
           "bdata": "Bg==",
           "dtype": "i1"
          },
          "sizemode": "area",
          "sizeref": 0.009375,
          "symbol": "circle"
         },
         "mode": "markers",
         "name": "GBR",
         "orientation": "v",
         "showlegend": true,
         "type": "scatter",
         "x": [
          "GBR"
         ],
         "xaxis": "x",
         "y": {
          "bdata": "mpmZmZmZ2T8=",
          "dtype": "f8"
         },
         "yaxis": "y"
        },
        {
         "hovertemplate": "<b>%{hovertext}</b><br><br>Country=%{x}<br>Proportion of Q65_1=%{y}<br>Sentence Count=%{marker.size}<extra></extra>",
         "hovertext": [
          "GRC"
         ],
         "legendgroup": "GRC",
         "marker": {
          "color": "#ab63fa",
          "size": {
           "bdata": "Aw==",
           "dtype": "i1"
          },
          "sizemode": "area",
          "sizeref": 0.009375,
          "symbol": "circle"
         },
         "mode": "markers",
         "name": "GRC",
         "orientation": "v",
         "showlegend": true,
         "type": "scatter",
         "x": [
          "GRC"
         ],
         "xaxis": "x",
         "y": {
          "bdata": "MzMzMzMz4z8=",
          "dtype": "f8"
         },
         "yaxis": "y"
        },
        {
         "hovertemplate": "<b>%{hovertext}</b><br><br>Country=%{x}<br>Proportion of Q65_1=%{y}<br>Sentence Count=%{marker.size}<extra></extra>",
         "hovertext": [
          "GTM"
         ],
         "legendgroup": "GTM",
         "marker": {
          "color": "#FFA15A",
          "size": {
           "bdata": "Aw==",
           "dtype": "i1"
          },
          "sizemode": "area",
          "sizeref": 0.009375,
          "symbol": "circle"
         },
         "mode": "markers",
         "name": "GTM",
         "orientation": "v",
         "showlegend": true,
         "type": "scatter",
         "x": [
          "GTM"
         ],
         "xaxis": "x",
         "y": {
          "bdata": "MzMzMzMz4z8=",
          "dtype": "f8"
         },
         "yaxis": "y"
        },
        {
         "hovertemplate": "<b>%{hovertext}</b><br><br>Country=%{x}<br>Proportion of Q65_1=%{y}<br>Sentence Count=%{marker.size}<extra></extra>",
         "hovertext": [
          "IND"
         ],
         "legendgroup": "IND",
         "marker": {
          "color": "#19d3f3",
          "size": {
           "bdata": "AQ==",
           "dtype": "i1"
          },
          "sizemode": "area",
          "sizeref": 0.009375,
          "symbol": "circle"
         },
         "mode": "markers",
         "name": "IND",
         "orientation": "v",
         "showlegend": true,
         "type": "scatter",
         "x": [
          "IND"
         ],
         "xaxis": "x",
         "y": {
          "bdata": "kiRJkiRJwj8=",
          "dtype": "f8"
         },
         "yaxis": "y"
        },
        {
         "hovertemplate": "<b>%{hovertext}</b><br><br>Country=%{x}<br>Proportion of Q65_1=%{y}<br>Sentence Count=%{marker.size}<extra></extra>",
         "hovertext": [
          "IRN"
         ],
         "legendgroup": "IRN",
         "marker": {
          "color": "#FF6692",
          "size": {
           "bdata": "CA==",
           "dtype": "i1"
          },
          "sizemode": "area",
          "sizeref": 0.009375,
          "symbol": "circle"
         },
         "mode": "markers",
         "name": "IRN",
         "orientation": "v",
         "showlegend": true,
         "type": "scatter",
         "x": [
          "IRN"
         ],
         "xaxis": "x",
         "y": {
          "bdata": "FDuxEzux4z8=",
          "dtype": "f8"
         },
         "yaxis": "y"
        },
        {
         "hovertemplate": "<b>%{hovertext}</b><br><br>Country=%{x}<br>Proportion of Q65_1=%{y}<br>Sentence Count=%{marker.size}<extra></extra>",
         "hovertext": [
          "IRQ"
         ],
         "legendgroup": "IRQ",
         "marker": {
          "color": "#B6E880",
          "size": {
           "bdata": "DA==",
           "dtype": "i1"
          },
          "sizemode": "area",
          "sizeref": 0.009375,
          "symbol": "circle"
         },
         "mode": "markers",
         "name": "IRQ",
         "orientation": "v",
         "showlegend": true,
         "type": "scatter",
         "x": [
          "IRQ"
         ],
         "xaxis": "x",
         "y": {
          "bdata": "27Zt27Zt6z8=",
          "dtype": "f8"
         },
         "yaxis": "y"
        },
        {
         "hovertemplate": "<b>%{hovertext}</b><br><br>Country=%{x}<br>Proportion of Q65_1=%{y}<br>Sentence Count=%{marker.size}<extra></extra>",
         "hovertext": [
          "KAZ"
         ],
         "legendgroup": "KAZ",
         "marker": {
          "color": "#FF97FF",
          "size": {
           "bdata": "Aw==",
           "dtype": "i1"
          },
          "sizemode": "area",
          "sizeref": 0.009375,
          "symbol": "circle"
         },
         "mode": "markers",
         "name": "KAZ",
         "orientation": "v",
         "showlegend": true,
         "type": "scatter",
         "x": [
          "KAZ"
         ],
         "xaxis": "x",
         "y": {
          "bdata": "AAAAAAAA2D8=",
          "dtype": "f8"
         },
         "yaxis": "y"
        },
        {
         "hovertemplate": "<b>%{hovertext}</b><br><br>Country=%{x}<br>Proportion of Q65_1=%{y}<br>Sentence Count=%{marker.size}<extra></extra>",
         "hovertext": [
          "KGZ"
         ],
         "legendgroup": "KGZ",
         "marker": {
          "color": "#FECB52",
          "size": {
           "bdata": "AQ==",
           "dtype": "i1"
          },
          "sizemode": "area",
          "sizeref": 0.009375,
          "symbol": "circle"
         },
         "mode": "markers",
         "name": "KGZ",
         "orientation": "v",
         "showlegend": true,
         "type": "scatter",
         "x": [
          "KGZ"
         ],
         "xaxis": "x",
         "y": {
          "bdata": "AAAAAAAA0D8=",
          "dtype": "f8"
         },
         "yaxis": "y"
        },
        {
         "hovertemplate": "<b>%{hovertext}</b><br><br>Country=%{x}<br>Proportion of Q65_1=%{y}<br>Sentence Count=%{marker.size}<extra></extra>",
         "hovertext": [
          "KOR"
         ],
         "legendgroup": "KOR",
         "marker": {
          "color": "#636efa",
          "size": {
           "bdata": "Aw==",
           "dtype": "i1"
          },
          "sizemode": "area",
          "sizeref": 0.009375,
          "symbol": "circle"
         },
         "mode": "markers",
         "name": "KOR",
         "orientation": "v",
         "showlegend": true,
         "type": "scatter",
         "x": [
          "KOR"
         ],
         "xaxis": "x",
         "y": {
          "bdata": "AAAAAAAA2D8=",
          "dtype": "f8"
         },
         "yaxis": "y"
        },
        {
         "hovertemplate": "<b>%{hovertext}</b><br><br>Country=%{x}<br>Proportion of Q65_1=%{y}<br>Sentence Count=%{marker.size}<extra></extra>",
         "hovertext": [
          "LBN"
         ],
         "legendgroup": "LBN",
         "marker": {
          "color": "#EF553B",
          "size": {
           "bdata": "Aw==",
           "dtype": "i1"
          },
          "sizemode": "area",
          "sizeref": 0.009375,
          "symbol": "circle"
         },
         "mode": "markers",
         "name": "LBN",
         "orientation": "v",
         "showlegend": true,
         "type": "scatter",
         "x": [
          "LBN"
         ],
         "xaxis": "x",
         "y": {
          "bdata": "MzMzMzMz4z8=",
          "dtype": "f8"
         },
         "yaxis": "y"
        },
        {
         "hovertemplate": "<b>%{hovertext}</b><br><br>Country=%{x}<br>Proportion of Q65_1=%{y}<br>Sentence Count=%{marker.size}<extra></extra>",
         "hovertext": [
          "LBY"
         ],
         "legendgroup": "LBY",
         "marker": {
          "color": "#00cc96",
          "size": {
           "bdata": "Bw==",
           "dtype": "i1"
          },
          "sizemode": "area",
          "sizeref": 0.009375,
          "symbol": "circle"
         },
         "mode": "markers",
         "name": "LBY",
         "orientation": "v",
         "showlegend": true,
         "type": "scatter",
         "x": [
          "LBY"
         ],
         "xaxis": "x",
         "y": {
          "bdata": "XXTRRRdd5D8=",
          "dtype": "f8"
         },
         "yaxis": "y"
        },
        {
         "hovertemplate": "<b>%{hovertext}</b><br><br>Country=%{x}<br>Proportion of Q65_1=%{y}<br>Sentence Count=%{marker.size}<extra></extra>",
         "hovertext": [
          "MDV"
         ],
         "legendgroup": "MDV",
         "marker": {
          "color": "#ab63fa",
          "size": {
           "bdata": "Ag==",
           "dtype": "i1"
          },
          "sizemode": "area",
          "sizeref": 0.009375,
          "symbol": "circle"
         },
         "mode": "markers",
         "name": "MDV",
         "orientation": "v",
         "showlegend": true,
         "type": "scatter",
         "x": [
          "MDV"
         ],
         "xaxis": "x",
         "y": {
          "bdata": "VVVVVVVV5T8=",
          "dtype": "f8"
         },
         "yaxis": "y"
        },
        {
         "hovertemplate": "<b>%{hovertext}</b><br><br>Country=%{x}<br>Proportion of Q65_1=%{y}<br>Sentence Count=%{marker.size}<extra></extra>",
         "hovertext": [
          "MMR"
         ],
         "legendgroup": "MMR",
         "marker": {
          "color": "#FFA15A",
          "size": {
           "bdata": "Ag==",
           "dtype": "i1"
          },
          "sizemode": "area",
          "sizeref": 0.009375,
          "symbol": "circle"
         },
         "mode": "markers",
         "name": "MMR",
         "orientation": "v",
         "showlegend": true,
         "type": "scatter",
         "x": [
          "MMR"
         ],
         "xaxis": "x",
         "y": {
          "bdata": "AAAAAAAA4D8=",
          "dtype": "f8"
         },
         "yaxis": "y"
        },
        {
         "hovertemplate": "<b>%{hovertext}</b><br><br>Country=%{x}<br>Proportion of Q65_1=%{y}<br>Sentence Count=%{marker.size}<extra></extra>",
         "hovertext": [
          "MNG"
         ],
         "legendgroup": "MNG",
         "marker": {
          "color": "#19d3f3",
          "size": {
           "bdata": "Ag==",
           "dtype": "i1"
          },
          "sizemode": "area",
          "sizeref": 0.009375,
          "symbol": "circle"
         },
         "mode": "markers",
         "name": "MNG",
         "orientation": "v",
         "showlegend": true,
         "type": "scatter",
         "x": [
          "MNG"
         ],
         "xaxis": "x",
         "y": {
          "bdata": "RhdddNFFxz8=",
          "dtype": "f8"
         },
         "yaxis": "y"
        },
        {
         "hovertemplate": "<b>%{hovertext}</b><br><br>Country=%{x}<br>Proportion of Q65_1=%{y}<br>Sentence Count=%{marker.size}<extra></extra>",
         "hovertext": [
          "MYS"
         ],
         "legendgroup": "MYS",
         "marker": {
          "color": "#FF6692",
          "size": {
           "bdata": "BQ==",
           "dtype": "i1"
          },
          "sizemode": "area",
          "sizeref": 0.009375,
          "symbol": "circle"
         },
         "mode": "markers",
         "name": "MYS",
         "orientation": "v",
         "showlegend": true,
         "type": "scatter",
         "x": [
          "MYS"
         ],
         "xaxis": "x",
         "y": {
          "bdata": "F1100UUX3T8=",
          "dtype": "f8"
         },
         "yaxis": "y"
        },
        {
         "hovertemplate": "<b>%{hovertext}</b><br><br>Country=%{x}<br>Proportion of Q65_1=%{y}<br>Sentence Count=%{marker.size}<extra></extra>",
         "hovertext": [
          "NGA"
         ],
         "legendgroup": "NGA",
         "marker": {
          "color": "#B6E880",
          "size": {
           "bdata": "BA==",
           "dtype": "i1"
          },
          "sizemode": "area",
          "sizeref": 0.009375,
          "symbol": "circle"
         },
         "mode": "markers",
         "name": "NGA",
         "orientation": "v",
         "showlegend": true,
         "type": "scatter",
         "x": [
          "NGA"
         ],
         "xaxis": "x",
         "y": {
          "bdata": "mpmZmZmZ6T8=",
          "dtype": "f8"
         },
         "yaxis": "y"
        },
        {
         "hovertemplate": "<b>%{hovertext}</b><br><br>Country=%{x}<br>Proportion of Q65_1=%{y}<br>Sentence Count=%{marker.size}<extra></extra>",
         "hovertext": [
          "NIC"
         ],
         "legendgroup": "NIC",
         "marker": {
          "color": "#FF97FF",
          "size": {
           "bdata": "Aw==",
           "dtype": "i1"
          },
          "sizemode": "area",
          "sizeref": 0.009375,
          "symbol": "circle"
         },
         "mode": "markers",
         "name": "NIC",
         "orientation": "v",
         "showlegend": true,
         "type": "scatter",
         "x": [
          "NIC"
         ],
         "xaxis": "x",
         "y": {
          "bdata": "AAAAAAAA6D8=",
          "dtype": "f8"
         },
         "yaxis": "y"
        },
        {
         "hovertemplate": "<b>%{hovertext}</b><br><br>Country=%{x}<br>Proportion of Q65_1=%{y}<br>Sentence Count=%{marker.size}<extra></extra>",
         "hovertext": [
          "NLD"
         ],
         "legendgroup": "NLD",
         "marker": {
          "color": "#FECB52",
          "size": {
           "bdata": "AQ==",
           "dtype": "i1"
          },
          "sizemode": "area",
          "sizeref": 0.009375,
          "symbol": "circle"
         },
         "mode": "markers",
         "name": "NLD",
         "orientation": "v",
         "showlegend": true,
         "type": "scatter",
         "x": [
          "NLD"
         ],
         "xaxis": "x",
         "y": {
          "bdata": "mpmZmZmZuT8=",
          "dtype": "f8"
         },
         "yaxis": "y"
        },
        {
         "hovertemplate": "<b>%{hovertext}</b><br><br>Country=%{x}<br>Proportion of Q65_1=%{y}<br>Sentence Count=%{marker.size}<extra></extra>",
         "hovertext": [
          "NZL"
         ],
         "legendgroup": "NZL",
         "marker": {
          "color": "#636efa",
          "size": {
           "bdata": "Aw==",
           "dtype": "i1"
          },
          "sizemode": "area",
          "sizeref": 0.009375,
          "symbol": "circle"
         },
         "mode": "markers",
         "name": "NZL",
         "orientation": "v",
         "showlegend": true,
         "type": "scatter",
         "x": [
          "NZL"
         ],
         "xaxis": "x",
         "y": {
          "bdata": "MzMzMzMz4z8=",
          "dtype": "f8"
         },
         "yaxis": "y"
        },
        {
         "hovertemplate": "<b>%{hovertext}</b><br><br>Country=%{x}<br>Proportion of Q65_1=%{y}<br>Sentence Count=%{marker.size}<extra></extra>",
         "hovertext": [
          "PAK"
         ],
         "legendgroup": "PAK",
         "marker": {
          "color": "#EF553B",
          "size": {
           "bdata": "AQ==",
           "dtype": "i1"
          },
          "sizemode": "area",
          "sizeref": 0.009375,
          "symbol": "circle"
         },
         "mode": "markers",
         "name": "PAK",
         "orientation": "v",
         "showlegend": true,
         "type": "scatter",
         "x": [
          "PAK"
         ],
         "xaxis": "x",
         "y": {
          "bdata": "AAAAAAAA0D8=",
          "dtype": "f8"
         },
         "yaxis": "y"
        },
        {
         "hovertemplate": "<b>%{hovertext}</b><br><br>Country=%{x}<br>Proportion of Q65_1=%{y}<br>Sentence Count=%{marker.size}<extra></extra>",
         "hovertext": [
          "PHL"
         ],
         "legendgroup": "PHL",
         "marker": {
          "color": "#00cc96",
          "size": {
           "bdata": "Ag==",
           "dtype": "i1"
          },
          "sizemode": "area",
          "sizeref": 0.009375,
          "symbol": "circle"
         },
         "mode": "markers",
         "name": "PHL",
         "orientation": "v",
         "showlegend": true,
         "type": "scatter",
         "x": [
          "PHL"
         ],
         "xaxis": "x",
         "y": {
          "bdata": "mpmZmZmZ2T8=",
          "dtype": "f8"
         },
         "yaxis": "y"
        },
        {
         "hovertemplate": "<b>%{hovertext}</b><br><br>Country=%{x}<br>Proportion of Q65_1=%{y}<br>Sentence Count=%{marker.size}<extra></extra>",
         "hovertext": [
          "ROU"
         ],
         "legendgroup": "ROU",
         "marker": {
          "color": "#ab63fa",
          "size": {
           "bdata": "Ag==",
           "dtype": "i1"
          },
          "sizemode": "area",
          "sizeref": 0.009375,
          "symbol": "circle"
         },
         "mode": "markers",
         "name": "ROU",
         "orientation": "v",
         "showlegend": true,
         "type": "scatter",
         "x": [
          "ROU"
         ],
         "xaxis": "x",
         "y": {
          "bdata": "HMdxHMdxzD8=",
          "dtype": "f8"
         },
         "yaxis": "y"
        },
        {
         "hovertemplate": "<b>%{hovertext}</b><br><br>Country=%{x}<br>Proportion of Q65_1=%{y}<br>Sentence Count=%{marker.size}<extra></extra>",
         "hovertext": [
          "RUS"
         ],
         "legendgroup": "RUS",
         "marker": {
          "color": "#FFA15A",
          "size": {
           "bdata": "Aw==",
           "dtype": "i1"
          },
          "sizemode": "area",
          "sizeref": 0.009375,
          "symbol": "circle"
         },
         "mode": "markers",
         "name": "RUS",
         "orientation": "v",
         "showlegend": true,
         "type": "scatter",
         "x": [
          "RUS"
         ],
         "xaxis": "x",
         "y": {
          "bdata": "VVVVVVVVxT8=",
          "dtype": "f8"
         },
         "yaxis": "y"
        },
        {
         "hovertemplate": "<b>%{hovertext}</b><br><br>Country=%{x}<br>Proportion of Q65_1=%{y}<br>Sentence Count=%{marker.size}<extra></extra>",
         "hovertext": [
          "SRB"
         ],
         "legendgroup": "SRB",
         "marker": {
          "color": "#19d3f3",
          "size": {
           "bdata": "AQ==",
           "dtype": "i1"
          },
          "sizemode": "area",
          "sizeref": 0.009375,
          "symbol": "circle"
         },
         "mode": "markers",
         "name": "SRB",
         "orientation": "v",
         "showlegend": true,
         "type": "scatter",
         "x": [
          "SRB"
         ],
         "xaxis": "x",
         "y": {
          "bdata": "AAAAAAAA0D8=",
          "dtype": "f8"
         },
         "yaxis": "y"
        },
        {
         "hovertemplate": "<b>%{hovertext}</b><br><br>Country=%{x}<br>Proportion of Q65_1=%{y}<br>Sentence Count=%{marker.size}<extra></extra>",
         "hovertext": [
          "SVK"
         ],
         "legendgroup": "SVK",
         "marker": {
          "color": "#FF6692",
          "size": {
           "bdata": "Ag==",
           "dtype": "i1"
          },
          "sizemode": "area",
          "sizeref": 0.009375,
          "symbol": "circle"
         },
         "mode": "markers",
         "name": "SVK",
         "orientation": "v",
         "showlegend": true,
         "type": "scatter",
         "x": [
          "SVK"
         ],
         "xaxis": "x",
         "y": {
          "bdata": "VVVVVVVV5T8=",
          "dtype": "f8"
         },
         "yaxis": "y"
        },
        {
         "hovertemplate": "<b>%{hovertext}</b><br><br>Country=%{x}<br>Proportion of Q65_1=%{y}<br>Sentence Count=%{marker.size}<extra></extra>",
         "hovertext": [
          "THA"
         ],
         "legendgroup": "THA",
         "marker": {
          "color": "#B6E880",
          "size": {
           "bdata": "AQ==",
           "dtype": "i1"
          },
          "sizemode": "area",
          "sizeref": 0.009375,
          "symbol": "circle"
         },
         "mode": "markers",
         "name": "THA",
         "orientation": "v",
         "showlegend": true,
         "type": "scatter",
         "x": [
          "THA"
         ],
         "xaxis": "x",
         "y": {
          "bdata": "kiRJkiRJwj8=",
          "dtype": "f8"
         },
         "yaxis": "y"
        },
        {
         "hovertemplate": "<b>%{hovertext}</b><br><br>Country=%{x}<br>Proportion of Q65_1=%{y}<br>Sentence Count=%{marker.size}<extra></extra>",
         "hovertext": [
          "TJK"
         ],
         "legendgroup": "TJK",
         "marker": {
          "color": "#FF97FF",
          "size": {
           "bdata": "AQ==",
           "dtype": "i1"
          },
          "sizemode": "area",
          "sizeref": 0.009375,
          "symbol": "circle"
         },
         "mode": "markers",
         "name": "TJK",
         "orientation": "v",
         "showlegend": true,
         "type": "scatter",
         "x": [
          "TJK"
         ],
         "xaxis": "x",
         "y": {
          "bdata": "HMdxHMdxvD8=",
          "dtype": "f8"
         },
         "yaxis": "y"
        },
        {
         "hovertemplate": "<b>%{hovertext}</b><br><br>Country=%{x}<br>Proportion of Q65_1=%{y}<br>Sentence Count=%{marker.size}<extra></extra>",
         "hovertext": [
          "TUN"
         ],
         "legendgroup": "TUN",
         "marker": {
          "color": "#FECB52",
          "size": {
           "bdata": "Ag==",
           "dtype": "i1"
          },
          "sizemode": "area",
          "sizeref": 0.009375,
          "symbol": "circle"
         },
         "mode": "markers",
         "name": "TUN",
         "orientation": "v",
         "showlegend": true,
         "type": "scatter",
         "x": [
          "TUN"
         ],
         "xaxis": "x",
         "y": {
          "bdata": "AAAAAAAA4D8=",
          "dtype": "f8"
         },
         "yaxis": "y"
        },
        {
         "hovertemplate": "<b>%{hovertext}</b><br><br>Country=%{x}<br>Proportion of Q65_1=%{y}<br>Sentence Count=%{marker.size}<extra></extra>",
         "hovertext": [
          "TUR"
         ],
         "legendgroup": "TUR",
         "marker": {
          "color": "#636efa",
          "size": {
           "bdata": "CQ==",
           "dtype": "i1"
          },
          "sizemode": "area",
          "sizeref": 0.009375,
          "symbol": "circle"
         },
         "mode": "markers",
         "name": "TUR",
         "orientation": "v",
         "showlegend": true,
         "type": "scatter",
         "x": [
          "TUR"
         ],
         "xaxis": "x",
         "y": {
          "bdata": "AAAAAAAA6D8=",
          "dtype": "f8"
         },
         "yaxis": "y"
        },
        {
         "hovertemplate": "<b>%{hovertext}</b><br><br>Country=%{x}<br>Proportion of Q65_1=%{y}<br>Sentence Count=%{marker.size}<extra></extra>",
         "hovertext": [
          "UKR"
         ],
         "legendgroup": "UKR",
         "marker": {
          "color": "#EF553B",
          "size": {
           "bdata": "CQ==",
           "dtype": "i1"
          },
          "sizemode": "area",
          "sizeref": 0.009375,
          "symbol": "circle"
         },
         "mode": "markers",
         "name": "UKR",
         "orientation": "v",
         "showlegend": true,
         "type": "scatter",
         "x": [
          "UKR"
         ],
         "xaxis": "x",
         "y": {
          "bdata": "DeU1lNdQ3j8=",
          "dtype": "f8"
         },
         "yaxis": "y"
        },
        {
         "hovertemplate": "<b>%{hovertext}</b><br><br>Country=%{x}<br>Proportion of Q65_1=%{y}<br>Sentence Count=%{marker.size}<extra></extra>",
         "hovertext": [
          "URY"
         ],
         "legendgroup": "URY",
         "marker": {
          "color": "#00cc96",
          "size": {
           "bdata": "Ag==",
           "dtype": "i1"
          },
          "sizemode": "area",
          "sizeref": 0.009375,
          "symbol": "circle"
         },
         "mode": "markers",
         "name": "URY",
         "orientation": "v",
         "showlegend": true,
         "type": "scatter",
         "x": [
          "URY"
         ],
         "xaxis": "x",
         "y": {
          "bdata": "VVVVVVVV1T8=",
          "dtype": "f8"
         },
         "yaxis": "y"
        },
        {
         "hovertemplate": "<b>%{hovertext}</b><br><br>Country=%{x}<br>Proportion of Q65_1=%{y}<br>Sentence Count=%{marker.size}<extra></extra>",
         "hovertext": [
          "USA"
         ],
         "legendgroup": "USA",
         "marker": {
          "color": "#ab63fa",
          "size": {
           "bdata": "Dw==",
           "dtype": "i1"
          },
          "sizemode": "area",
          "sizeref": 0.009375,
          "symbol": "circle"
         },
         "mode": "markers",
         "name": "USA",
         "orientation": "v",
         "showlegend": true,
         "type": "scatter",
         "x": [
          "USA"
         ],
         "xaxis": "x",
         "y": {
          "bdata": "t23btm3b5j8=",
          "dtype": "f8"
         },
         "yaxis": "y"
        },
        {
         "hovertemplate": "<b>%{hovertext}</b><br><br>Country=%{x}<br>Proportion of Q65_1=%{y}<br>Sentence Count=%{marker.size}<extra></extra>",
         "hovertext": [
          "UZB"
         ],
         "legendgroup": "UZB",
         "marker": {
          "color": "#FFA15A",
          "size": {
           "bdata": "AQ==",
           "dtype": "i1"
          },
          "sizemode": "area",
          "sizeref": 0.009375,
          "symbol": "circle"
         },
         "mode": "markers",
         "name": "UZB",
         "orientation": "v",
         "showlegend": true,
         "type": "scatter",
         "x": [
          "UZB"
         ],
         "xaxis": "x",
         "y": {
          "bdata": "AAAAAAAA0D8=",
          "dtype": "f8"
         },
         "yaxis": "y"
        },
        {
         "hovertemplate": "<b>%{hovertext}</b><br><br>Country=%{x}<br>Proportion of Q65_1=%{y}<br>Sentence Count=%{marker.size}<extra></extra>",
         "hovertext": [
          "VEN"
         ],
         "legendgroup": "VEN",
         "marker": {
          "color": "#19d3f3",
          "size": {
           "bdata": "BQ==",
           "dtype": "i1"
          },
          "sizemode": "area",
          "sizeref": 0.009375,
          "symbol": "circle"
         },
         "mode": "markers",
         "name": "VEN",
         "orientation": "v",
         "showlegend": true,
         "type": "scatter",
         "x": [
          "VEN"
         ],
         "xaxis": "x",
         "y": {
          "bdata": "AAAAAAAA5D8=",
          "dtype": "f8"
         },
         "yaxis": "y"
        },
        {
         "hovertemplate": "<b>%{hovertext}</b><br><br>Country=%{x}<br>Proportion of Q65_1=%{y}<br>Sentence Count=%{marker.size}<extra></extra>",
         "hovertext": [
          "VNM"
         ],
         "legendgroup": "VNM",
         "marker": {
          "color": "#FF6692",
          "size": {
           "bdata": "Aw==",
           "dtype": "i1"
          },
          "sizemode": "area",
          "sizeref": 0.009375,
          "symbol": "circle"
         },
         "mode": "markers",
         "name": "VNM",
         "orientation": "v",
         "showlegend": true,
         "type": "scatter",
         "x": [
          "VNM"
         ],
         "xaxis": "x",
         "y": {
          "bdata": "MzMzMzMz0z8=",
          "dtype": "f8"
         },
         "yaxis": "y"
        }
       ],
       "layout": {
        "height": 600,
        "legend": {
         "itemsizing": "constant",
         "title": {
          "text": "Country"
         },
         "tracegroupgap": 0
        },
        "margin": {
         "b": 40,
         "l": 40,
         "r": 40,
         "t": 80
        },
        "template": {
         "data": {
          "bar": [
           {
            "error_x": {
             "color": "#2a3f5f"
            },
            "error_y": {
             "color": "#2a3f5f"
            },
            "marker": {
             "line": {
              "color": "#E5ECF6",
              "width": 0.5
             },
             "pattern": {
              "fillmode": "overlay",
              "size": 10,
              "solidity": 0.2
             }
            },
            "type": "bar"
           }
          ],
          "barpolar": [
           {
            "marker": {
             "line": {
              "color": "#E5ECF6",
              "width": 0.5
             },
             "pattern": {
              "fillmode": "overlay",
              "size": 10,
              "solidity": 0.2
             }
            },
            "type": "barpolar"
           }
          ],
          "carpet": [
           {
            "aaxis": {
             "endlinecolor": "#2a3f5f",
             "gridcolor": "white",
             "linecolor": "white",
             "minorgridcolor": "white",
             "startlinecolor": "#2a3f5f"
            },
            "baxis": {
             "endlinecolor": "#2a3f5f",
             "gridcolor": "white",
             "linecolor": "white",
             "minorgridcolor": "white",
             "startlinecolor": "#2a3f5f"
            },
            "type": "carpet"
           }
          ],
          "choropleth": [
           {
            "colorbar": {
             "outlinewidth": 0,
             "ticks": ""
            },
            "type": "choropleth"
           }
          ],
          "contour": [
           {
            "colorbar": {
             "outlinewidth": 0,
             "ticks": ""
            },
            "colorscale": [
             [
              0,
              "#0d0887"
             ],
             [
              0.1111111111111111,
              "#46039f"
             ],
             [
              0.2222222222222222,
              "#7201a8"
             ],
             [
              0.3333333333333333,
              "#9c179e"
             ],
             [
              0.4444444444444444,
              "#bd3786"
             ],
             [
              0.5555555555555556,
              "#d8576b"
             ],
             [
              0.6666666666666666,
              "#ed7953"
             ],
             [
              0.7777777777777778,
              "#fb9f3a"
             ],
             [
              0.8888888888888888,
              "#fdca26"
             ],
             [
              1,
              "#f0f921"
             ]
            ],
            "type": "contour"
           }
          ],
          "contourcarpet": [
           {
            "colorbar": {
             "outlinewidth": 0,
             "ticks": ""
            },
            "type": "contourcarpet"
           }
          ],
          "heatmap": [
           {
            "colorbar": {
             "outlinewidth": 0,
             "ticks": ""
            },
            "colorscale": [
             [
              0,
              "#0d0887"
             ],
             [
              0.1111111111111111,
              "#46039f"
             ],
             [
              0.2222222222222222,
              "#7201a8"
             ],
             [
              0.3333333333333333,
              "#9c179e"
             ],
             [
              0.4444444444444444,
              "#bd3786"
             ],
             [
              0.5555555555555556,
              "#d8576b"
             ],
             [
              0.6666666666666666,
              "#ed7953"
             ],
             [
              0.7777777777777778,
              "#fb9f3a"
             ],
             [
              0.8888888888888888,
              "#fdca26"
             ],
             [
              1,
              "#f0f921"
             ]
            ],
            "type": "heatmap"
           }
          ],
          "histogram": [
           {
            "marker": {
             "pattern": {
              "fillmode": "overlay",
              "size": 10,
              "solidity": 0.2
             }
            },
            "type": "histogram"
           }
          ],
          "histogram2d": [
           {
            "colorbar": {
             "outlinewidth": 0,
             "ticks": ""
            },
            "colorscale": [
             [
              0,
              "#0d0887"
             ],
             [
              0.1111111111111111,
              "#46039f"
             ],
             [
              0.2222222222222222,
              "#7201a8"
             ],
             [
              0.3333333333333333,
              "#9c179e"
             ],
             [
              0.4444444444444444,
              "#bd3786"
             ],
             [
              0.5555555555555556,
              "#d8576b"
             ],
             [
              0.6666666666666666,
              "#ed7953"
             ],
             [
              0.7777777777777778,
              "#fb9f3a"
             ],
             [
              0.8888888888888888,
              "#fdca26"
             ],
             [
              1,
              "#f0f921"
             ]
            ],
            "type": "histogram2d"
           }
          ],
          "histogram2dcontour": [
           {
            "colorbar": {
             "outlinewidth": 0,
             "ticks": ""
            },
            "colorscale": [
             [
              0,
              "#0d0887"
             ],
             [
              0.1111111111111111,
              "#46039f"
             ],
             [
              0.2222222222222222,
              "#7201a8"
             ],
             [
              0.3333333333333333,
              "#9c179e"
             ],
             [
              0.4444444444444444,
              "#bd3786"
             ],
             [
              0.5555555555555556,
              "#d8576b"
             ],
             [
              0.6666666666666666,
              "#ed7953"
             ],
             [
              0.7777777777777778,
              "#fb9f3a"
             ],
             [
              0.8888888888888888,
              "#fdca26"
             ],
             [
              1,
              "#f0f921"
             ]
            ],
            "type": "histogram2dcontour"
           }
          ],
          "mesh3d": [
           {
            "colorbar": {
             "outlinewidth": 0,
             "ticks": ""
            },
            "type": "mesh3d"
           }
          ],
          "parcoords": [
           {
            "line": {
             "colorbar": {
              "outlinewidth": 0,
              "ticks": ""
             }
            },
            "type": "parcoords"
           }
          ],
          "pie": [
           {
            "automargin": true,
            "type": "pie"
           }
          ],
          "scatter": [
           {
            "fillpattern": {
             "fillmode": "overlay",
             "size": 10,
             "solidity": 0.2
            },
            "type": "scatter"
           }
          ],
          "scatter3d": [
           {
            "line": {
             "colorbar": {
              "outlinewidth": 0,
              "ticks": ""
             }
            },
            "marker": {
             "colorbar": {
              "outlinewidth": 0,
              "ticks": ""
             }
            },
            "type": "scatter3d"
           }
          ],
          "scattercarpet": [
           {
            "marker": {
             "colorbar": {
              "outlinewidth": 0,
              "ticks": ""
             }
            },
            "type": "scattercarpet"
           }
          ],
          "scattergeo": [
           {
            "marker": {
             "colorbar": {
              "outlinewidth": 0,
              "ticks": ""
             }
            },
            "type": "scattergeo"
           }
          ],
          "scattergl": [
           {
            "marker": {
             "colorbar": {
              "outlinewidth": 0,
              "ticks": ""
             }
            },
            "type": "scattergl"
           }
          ],
          "scattermap": [
           {
            "marker": {
             "colorbar": {
              "outlinewidth": 0,
              "ticks": ""
             }
            },
            "type": "scattermap"
           }
          ],
          "scattermapbox": [
           {
            "marker": {
             "colorbar": {
              "outlinewidth": 0,
              "ticks": ""
             }
            },
            "type": "scattermapbox"
           }
          ],
          "scatterpolar": [
           {
            "marker": {
             "colorbar": {
              "outlinewidth": 0,
              "ticks": ""
             }
            },
            "type": "scatterpolar"
           }
          ],
          "scatterpolargl": [
           {
            "marker": {
             "colorbar": {
              "outlinewidth": 0,
              "ticks": ""
             }
            },
            "type": "scatterpolargl"
           }
          ],
          "scatterternary": [
           {
            "marker": {
             "colorbar": {
              "outlinewidth": 0,
              "ticks": ""
             }
            },
            "type": "scatterternary"
           }
          ],
          "surface": [
           {
            "colorbar": {
             "outlinewidth": 0,
             "ticks": ""
            },
            "colorscale": [
             [
              0,
              "#0d0887"
             ],
             [
              0.1111111111111111,
              "#46039f"
             ],
             [
              0.2222222222222222,
              "#7201a8"
             ],
             [
              0.3333333333333333,
              "#9c179e"
             ],
             [
              0.4444444444444444,
              "#bd3786"
             ],
             [
              0.5555555555555556,
              "#d8576b"
             ],
             [
              0.6666666666666666,
              "#ed7953"
             ],
             [
              0.7777777777777778,
              "#fb9f3a"
             ],
             [
              0.8888888888888888,
              "#fdca26"
             ],
             [
              1,
              "#f0f921"
             ]
            ],
            "type": "surface"
           }
          ],
          "table": [
           {
            "cells": {
             "fill": {
              "color": "#EBF0F8"
             },
             "line": {
              "color": "white"
             }
            },
            "header": {
             "fill": {
              "color": "#C8D4E3"
             },
             "line": {
              "color": "white"
             }
            },
            "type": "table"
           }
          ]
         },
         "layout": {
          "annotationdefaults": {
           "arrowcolor": "#2a3f5f",
           "arrowhead": 0,
           "arrowwidth": 1
          },
          "autotypenumbers": "strict",
          "coloraxis": {
           "colorbar": {
            "outlinewidth": 0,
            "ticks": ""
           }
          },
          "colorscale": {
           "diverging": [
            [
             0,
             "#8e0152"
            ],
            [
             0.1,
             "#c51b7d"
            ],
            [
             0.2,
             "#de77ae"
            ],
            [
             0.3,
             "#f1b6da"
            ],
            [
             0.4,
             "#fde0ef"
            ],
            [
             0.5,
             "#f7f7f7"
            ],
            [
             0.6,
             "#e6f5d0"
            ],
            [
             0.7,
             "#b8e186"
            ],
            [
             0.8,
             "#7fbc41"
            ],
            [
             0.9,
             "#4d9221"
            ],
            [
             1,
             "#276419"
            ]
           ],
           "sequential": [
            [
             0,
             "#0d0887"
            ],
            [
             0.1111111111111111,
             "#46039f"
            ],
            [
             0.2222222222222222,
             "#7201a8"
            ],
            [
             0.3333333333333333,
             "#9c179e"
            ],
            [
             0.4444444444444444,
             "#bd3786"
            ],
            [
             0.5555555555555556,
             "#d8576b"
            ],
            [
             0.6666666666666666,
             "#ed7953"
            ],
            [
             0.7777777777777778,
             "#fb9f3a"
            ],
            [
             0.8888888888888888,
             "#fdca26"
            ],
            [
             1,
             "#f0f921"
            ]
           ],
           "sequentialminus": [
            [
             0,
             "#0d0887"
            ],
            [
             0.1111111111111111,
             "#46039f"
            ],
            [
             0.2222222222222222,
             "#7201a8"
            ],
            [
             0.3333333333333333,
             "#9c179e"
            ],
            [
             0.4444444444444444,
             "#bd3786"
            ],
            [
             0.5555555555555556,
             "#d8576b"
            ],
            [
             0.6666666666666666,
             "#ed7953"
            ],
            [
             0.7777777777777778,
             "#fb9f3a"
            ],
            [
             0.8888888888888888,
             "#fdca26"
            ],
            [
             1,
             "#f0f921"
            ]
           ]
          },
          "colorway": [
           "#636efa",
           "#EF553B",
           "#00cc96",
           "#ab63fa",
           "#FFA15A",
           "#19d3f3",
           "#FF6692",
           "#B6E880",
           "#FF97FF",
           "#FECB52"
          ],
          "font": {
           "color": "#2a3f5f"
          },
          "geo": {
           "bgcolor": "white",
           "lakecolor": "white",
           "landcolor": "#E5ECF6",
           "showlakes": true,
           "showland": true,
           "subunitcolor": "white"
          },
          "hoverlabel": {
           "align": "left"
          },
          "hovermode": "closest",
          "mapbox": {
           "style": "light"
          },
          "paper_bgcolor": "white",
          "plot_bgcolor": "#E5ECF6",
          "polar": {
           "angularaxis": {
            "gridcolor": "white",
            "linecolor": "white",
            "ticks": ""
           },
           "bgcolor": "#E5ECF6",
           "radialaxis": {
            "gridcolor": "white",
            "linecolor": "white",
            "ticks": ""
           }
          },
          "scene": {
           "xaxis": {
            "backgroundcolor": "#E5ECF6",
            "gridcolor": "white",
            "gridwidth": 2,
            "linecolor": "white",
            "showbackground": true,
            "ticks": "",
            "zerolinecolor": "white"
           },
           "yaxis": {
            "backgroundcolor": "#E5ECF6",
            "gridcolor": "white",
            "gridwidth": 2,
            "linecolor": "white",
            "showbackground": true,
            "ticks": "",
            "zerolinecolor": "white"
           },
           "zaxis": {
            "backgroundcolor": "#E5ECF6",
            "gridcolor": "white",
            "gridwidth": 2,
            "linecolor": "white",
            "showbackground": true,
            "ticks": "",
            "zerolinecolor": "white"
           }
          },
          "shapedefaults": {
           "line": {
            "color": "#2a3f5f"
           }
          },
          "ternary": {
           "aaxis": {
            "gridcolor": "white",
            "linecolor": "white",
            "ticks": ""
           },
           "baxis": {
            "gridcolor": "white",
            "linecolor": "white",
            "ticks": ""
           },
           "bgcolor": "#E5ECF6",
           "caxis": {
            "gridcolor": "white",
            "linecolor": "white",
            "ticks": ""
           }
          },
          "title": {
           "x": 0.05
          },
          "xaxis": {
           "automargin": true,
           "gridcolor": "white",
           "linecolor": "white",
           "ticks": "",
           "title": {
            "standoff": 15
           },
           "zerolinecolor": "white",
           "zerolinewidth": 2
          },
          "yaxis": {
           "automargin": true,
           "gridcolor": "white",
           "linecolor": "white",
           "ticks": "",
           "title": {
            "standoff": 15
           },
           "zerolinecolor": "white",
           "zerolinewidth": 2
          }
         }
        },
        "title": {
         "text": "Proportion of Q65_1 Sentences Relative to Total Q65 Sentences by Country"
        },
        "xaxis": {
         "anchor": "y",
         "categoryarray": [
          "AND",
          "ARM",
          "AUS",
          "BGD",
          "CAN",
          "CHN",
          "COL",
          "CYP",
          "CZE",
          "DEU",
          "ECU",
          "ETH",
          "GBR",
          "GRC",
          "GTM",
          "IND",
          "IRN",
          "IRQ",
          "KAZ",
          "KGZ",
          "KOR",
          "LBN",
          "LBY",
          "MDV",
          "MMR",
          "MNG",
          "MYS",
          "NGA",
          "NIC",
          "NLD",
          "NZL",
          "PAK",
          "PHL",
          "ROU",
          "RUS",
          "SRB",
          "SVK",
          "THA",
          "TJK",
          "TUN",
          "TUR",
          "UKR",
          "URY",
          "USA",
          "UZB",
          "VEN",
          "VNM"
         ],
         "categoryorder": "array",
         "domain": [
          0,
          1
         ],
         "title": {
          "text": "Country"
         }
        },
        "yaxis": {
         "anchor": "x",
         "domain": [
          0,
          1
         ],
         "title": {
          "text": "Proportion of Q65_1"
         }
        }
       }
      }
     },
     "metadata": {},
     "output_type": "display_data"
    }
   ],
   "source": [
    "## (Visualization -I) ##\n",
    "\n",
    "# This code filters predicted Q65-related labels from the predictions dataset,\n",
    "# calculates sentence counts and proportions of given response per country,\n",
    "# prepares the data for ordered plotting,\n",
    "# then creates and displays a scatter plot showing the proportion of Q65_1 sentences relative to total Q65 sentences by country,\n",
    "# with point sizes representing sentence counts, x-axis showing the countries and y-axis the proportion of given response to total count responses.\n",
    "\n",
    "%run visualize_preds_props.py"
   ]
  },
  {
   "cell_type": "code",
   "execution_count": 19,
   "id": "7f482e3c",
   "metadata": {},
   "outputs": [
    {
     "data": {
      "application/vnd.plotly.v1+json": {
       "config": {
        "plotlyServerURL": "https://plot.ly"
       },
       "data": [
        {
         "hovertemplate": "<b>%{hovertext}</b><br><br>Country=%{x}<br>Proportion of Q65=1=%{y}<br>Total Responses=%{marker.size}<extra></extra>",
         "hovertext": [
          "AND"
         ],
         "legendgroup": "AND",
         "marker": {
          "color": "#636efa",
          "size": {
           "bdata": "7AM=",
           "dtype": "i2"
          },
          "sizemode": "area",
          "sizeref": 2.51125,
          "symbol": "circle"
         },
         "mode": "markers",
         "name": "AND",
         "orientation": "v",
         "showlegend": true,
         "type": "scatter",
         "x": [
          "AND"
         ],
         "xaxis": "x",
         "y": {
          "bdata": "AAAAAAAAAAA=",
          "dtype": "f8"
         },
         "yaxis": "y"
        },
        {
         "hovertemplate": "<b>%{hovertext}</b><br><br>Country=%{x}<br>Proportion of Q65=1=%{y}<br>Total Responses=%{marker.size}<extra></extra>",
         "hovertext": [
          "ARG"
         ],
         "legendgroup": "ARG",
         "marker": {
          "color": "#EF553B",
          "size": {
           "bdata": "6wM=",
           "dtype": "i2"
          },
          "sizemode": "area",
          "sizeref": 2.51125,
          "symbol": "circle"
         },
         "mode": "markers",
         "name": "ARG",
         "orientation": "v",
         "showlegend": true,
         "type": "scatter",
         "x": [
          "ARG"
         ],
         "xaxis": "x",
         "y": {
          "bdata": "AbfZQXojrz8=",
          "dtype": "f8"
         },
         "yaxis": "y"
        },
        {
         "hovertemplate": "<b>%{hovertext}</b><br><br>Country=%{x}<br>Proportion of Q65=1=%{y}<br>Total Responses=%{marker.size}<extra></extra>",
         "hovertext": [
          "ARM"
         ],
         "legendgroup": "ARM",
         "marker": {
          "color": "#00cc96",
          "size": {
           "bdata": "xwQ=",
           "dtype": "i2"
          },
          "sizemode": "area",
          "sizeref": 2.51125,
          "symbol": "circle"
         },
         "mode": "markers",
         "name": "ARM",
         "orientation": "v",
         "showlegend": true,
         "type": "scatter",
         "x": [
          "ARM"
         ],
         "xaxis": "x",
         "y": {
          "bdata": "YnSMl3SV2j8=",
          "dtype": "f8"
         },
         "yaxis": "y"
        },
        {
         "hovertemplate": "<b>%{hovertext}</b><br><br>Country=%{x}<br>Proportion of Q65=1=%{y}<br>Total Responses=%{marker.size}<extra></extra>",
         "hovertext": [
          "AUS"
         ],
         "legendgroup": "AUS",
         "marker": {
          "color": "#ab63fa",
          "size": {
           "bdata": "FQc=",
           "dtype": "i2"
          },
          "sizemode": "area",
          "sizeref": 2.51125,
          "symbol": "circle"
         },
         "mode": "markers",
         "name": "AUS",
         "orientation": "v",
         "showlegend": true,
         "type": "scatter",
         "x": [
          "AUS"
         ],
         "xaxis": "x",
         "y": {
          "bdata": "VzjtsG+F0z8=",
          "dtype": "f8"
         },
         "yaxis": "y"
        },
        {
         "hovertemplate": "<b>%{hovertext}</b><br><br>Country=%{x}<br>Proportion of Q65=1=%{y}<br>Total Responses=%{marker.size}<extra></extra>",
         "hovertext": [
          "BGD"
         ],
         "legendgroup": "BGD",
         "marker": {
          "color": "#FFA15A",
          "size": {
           "bdata": "sAQ=",
           "dtype": "i2"
          },
          "sizemode": "area",
          "sizeref": 2.51125,
          "symbol": "circle"
         },
         "mode": "markers",
         "name": "BGD",
         "orientation": "v",
         "showlegend": true,
         "type": "scatter",
         "x": [
          "BGD"
         ],
         "xaxis": "x",
         "y": {
          "bdata": "N9BpA5023D8=",
          "dtype": "f8"
         },
         "yaxis": "y"
        },
        {
         "hovertemplate": "<b>%{hovertext}</b><br><br>Country=%{x}<br>Proportion of Q65=1=%{y}<br>Total Responses=%{marker.size}<extra></extra>",
         "hovertext": [
          "BOL"
         ],
         "legendgroup": "BOL",
         "marker": {
          "color": "#19d3f3",
          "size": {
           "bdata": "Ewg=",
           "dtype": "i2"
          },
          "sizemode": "area",
          "sizeref": 2.51125,
          "symbol": "circle"
         },
         "mode": "markers",
         "name": "BOL",
         "orientation": "v",
         "showlegend": true,
         "type": "scatter",
         "x": [
          "BOL"
         ],
         "xaxis": "x",
         "y": {
          "bdata": "TKr7sEk/uz8=",
          "dtype": "f8"
         },
         "yaxis": "y"
        },
        {
         "hovertemplate": "<b>%{hovertext}</b><br><br>Country=%{x}<br>Proportion of Q65=1=%{y}<br>Total Responses=%{marker.size}<extra></extra>",
         "hovertext": [
          "BRA"
         ],
         "legendgroup": "BRA",
         "marker": {
          "color": "#FF6692",
          "size": {
           "bdata": "4gY=",
           "dtype": "i2"
          },
          "sizemode": "area",
          "sizeref": 2.51125,
          "symbol": "circle"
         },
         "mode": "markers",
         "name": "BRA",
         "orientation": "v",
         "showlegend": true,
         "type": "scatter",
         "x": [
          "BRA"
         ],
         "xaxis": "x",
         "y": {
          "bdata": "zvw6Bc5rzT8=",
          "dtype": "f8"
         },
         "yaxis": "y"
        },
        {
         "hovertemplate": "<b>%{hovertext}</b><br><br>Country=%{x}<br>Proportion of Q65=1=%{y}<br>Total Responses=%{marker.size}<extra></extra>",
         "hovertext": [
          "CAN"
         ],
         "legendgroup": "CAN",
         "marker": {
          "color": "#B6E880",
          "size": {
           "bdata": "sg8=",
           "dtype": "i2"
          },
          "sizemode": "area",
          "sizeref": 2.51125,
          "symbol": "circle"
         },
         "mode": "markers",
         "name": "CAN",
         "orientation": "v",
         "showlegend": true,
         "type": "scatter",
         "x": [
          "CAN"
         ],
         "xaxis": "x",
         "y": {
          "bdata": "XLBYiCLZyD8=",
          "dtype": "f8"
         },
         "yaxis": "y"
        },
        {
         "hovertemplate": "<b>%{hovertext}</b><br><br>Country=%{x}<br>Proportion of Q65=1=%{y}<br>Total Responses=%{marker.size}<extra></extra>",
         "hovertext": [
          "CHL"
         ],
         "legendgroup": "CHL",
         "marker": {
          "color": "#FF97FF",
          "size": {
           "bdata": "6AM=",
           "dtype": "i2"
          },
          "sizemode": "area",
          "sizeref": 2.51125,
          "symbol": "circle"
         },
         "mode": "markers",
         "name": "CHL",
         "orientation": "v",
         "showlegend": true,
         "type": "scatter",
         "x": [
          "CHL"
         ],
         "xaxis": "x",
         "y": {
          "bdata": "ObTIdr6fuj8=",
          "dtype": "f8"
         },
         "yaxis": "y"
        },
        {
         "hovertemplate": "<b>%{hovertext}</b><br><br>Country=%{x}<br>Proportion of Q65=1=%{y}<br>Total Responses=%{marker.size}<extra></extra>",
         "hovertext": [
          "CHN"
         ],
         "legendgroup": "CHN",
         "marker": {
          "color": "#FECB52",
          "size": {
           "bdata": "3As=",
           "dtype": "i2"
          },
          "sizemode": "area",
          "sizeref": 2.51125,
          "symbol": "circle"
         },
         "mode": "markers",
         "name": "CHN",
         "orientation": "v",
         "showlegend": true,
         "type": "scatter",
         "x": [
          "CHN"
         ],
         "xaxis": "x",
         "y": {
          "bdata": "0ymcF5YV4D8=",
          "dtype": "f8"
         },
         "yaxis": "y"
        },
        {
         "hovertemplate": "<b>%{hovertext}</b><br><br>Country=%{x}<br>Proportion of Q65=1=%{y}<br>Total Responses=%{marker.size}<extra></extra>",
         "hovertext": [
          "COL"
         ],
         "legendgroup": "COL",
         "marker": {
          "color": "#636efa",
          "size": {
           "bdata": "8AU=",
           "dtype": "i2"
          },
          "sizemode": "area",
          "sizeref": 2.51125,
          "symbol": "circle"
         },
         "mode": "markers",
         "name": "COL",
         "orientation": "v",
         "showlegend": true,
         "type": "scatter",
         "x": [
          "COL"
         ],
         "xaxis": "x",
         "y": {
          "bdata": "iVO/55Y4zT8=",
          "dtype": "f8"
         },
         "yaxis": "y"
        },
        {
         "hovertemplate": "<b>%{hovertext}</b><br><br>Country=%{x}<br>Proportion of Q65=1=%{y}<br>Total Responses=%{marker.size}<extra></extra>",
         "hovertext": [
          "CYP"
         ],
         "legendgroup": "CYP",
         "marker": {
          "color": "#EF553B",
          "size": {
           "bdata": "6AM=",
           "dtype": "i2"
          },
          "sizemode": "area",
          "sizeref": 2.51125,
          "symbol": "circle"
         },
         "mode": "markers",
         "name": "CYP",
         "orientation": "v",
         "showlegend": true,
         "type": "scatter",
         "x": [
          "CYP"
         ],
         "xaxis": "x",
         "y": {
          "bdata": "+n5qvHST0D8=",
          "dtype": "f8"
         },
         "yaxis": "y"
        },
        {
         "hovertemplate": "<b>%{hovertext}</b><br><br>Country=%{x}<br>Proportion of Q65=1=%{y}<br>Total Responses=%{marker.size}<extra></extra>",
         "hovertext": [
          "CZE"
         ],
         "legendgroup": "CZE",
         "marker": {
          "color": "#00cc96",
          "size": {
           "bdata": "sAQ=",
           "dtype": "i2"
          },
          "sizemode": "area",
          "sizeref": 2.51125,
          "symbol": "circle"
         },
         "mode": "markers",
         "name": "CZE",
         "orientation": "v",
         "showlegend": true,
         "type": "scatter",
         "x": [
          "CZE"
         ],
         "xaxis": "x",
         "y": {
          "bdata": "/WLJL5b8sj8=",
          "dtype": "f8"
         },
         "yaxis": "y"
        },
        {
         "hovertemplate": "<b>%{hovertext}</b><br><br>Country=%{x}<br>Proportion of Q65=1=%{y}<br>Total Responses=%{marker.size}<extra></extra>",
         "hovertext": [
          "DEU"
         ],
         "legendgroup": "DEU",
         "marker": {
          "color": "#ab63fa",
          "size": {
           "bdata": "+AU=",
           "dtype": "i2"
          },
          "sizemode": "area",
          "sizeref": 2.51125,
          "symbol": "circle"
         },
         "mode": "markers",
         "name": "DEU",
         "orientation": "v",
         "showlegend": true,
         "type": "scatter",
         "x": [
          "DEU"
         ],
         "xaxis": "x",
         "y": {
          "bdata": "xdMeVwHBsD8=",
          "dtype": "f8"
         },
         "yaxis": "y"
        },
        {
         "hovertemplate": "<b>%{hovertext}</b><br><br>Country=%{x}<br>Proportion of Q65=1=%{y}<br>Total Responses=%{marker.size}<extra></extra>",
         "hovertext": [
          "ECU"
         ],
         "legendgroup": "ECU",
         "marker": {
          "color": "#FFA15A",
          "size": {
           "bdata": "sAQ=",
           "dtype": "i2"
          },
          "sizemode": "area",
          "sizeref": 2.51125,
          "symbol": "circle"
         },
         "mode": "markers",
         "name": "ECU",
         "orientation": "v",
         "showlegend": true,
         "type": "scatter",
         "x": [
          "ECU"
         ],
         "xaxis": "x",
         "y": {
          "bdata": "iYiIiIiIyD8=",
          "dtype": "f8"
         },
         "yaxis": "y"
        },
        {
         "hovertemplate": "<b>%{hovertext}</b><br><br>Country=%{x}<br>Proportion of Q65=1=%{y}<br>Total Responses=%{marker.size}<extra></extra>",
         "hovertext": [
          "EGY"
         ],
         "legendgroup": "EGY",
         "marker": {
          "color": "#19d3f3",
          "size": {
           "bdata": "sAQ=",
           "dtype": "i2"
          },
          "sizemode": "area",
          "sizeref": 2.51125,
          "symbol": "circle"
         },
         "mode": "markers",
         "name": "EGY",
         "orientation": "v",
         "showlegend": true,
         "type": "scatter",
         "x": [
          "EGY"
         ],
         "xaxis": "x",
         "y": {
          "bdata": "AAAAAAAAAAA=",
          "dtype": "f8"
         },
         "yaxis": "y"
        },
        {
         "hovertemplate": "<b>%{hovertext}</b><br><br>Country=%{x}<br>Proportion of Q65=1=%{y}<br>Total Responses=%{marker.size}<extra></extra>",
         "hovertext": [
          "ETH"
         ],
         "legendgroup": "ETH",
         "marker": {
          "color": "#FF6692",
          "size": {
           "bdata": "zgQ=",
           "dtype": "i2"
          },
          "sizemode": "area",
          "sizeref": 2.51125,
          "symbol": "circle"
         },
         "mode": "markers",
         "name": "ETH",
         "orientation": "v",
         "showlegend": true,
         "type": "scatter",
         "x": [
          "ETH"
         ],
         "xaxis": "x",
         "y": {
          "bdata": "KlanYnUq1j8=",
          "dtype": "f8"
         },
         "yaxis": "y"
        },
        {
         "hovertemplate": "<b>%{hovertext}</b><br><br>Country=%{x}<br>Proportion of Q65=1=%{y}<br>Total Responses=%{marker.size}<extra></extra>",
         "hovertext": [
          "GBR"
         ],
         "legendgroup": "GBR",
         "marker": {
          "color": "#B6E880",
          "size": {
           "bdata": "MQo=",
           "dtype": "i2"
          },
          "sizemode": "area",
          "sizeref": 2.51125,
          "symbol": "circle"
         },
         "mode": "markers",
         "name": "GBR",
         "orientation": "v",
         "showlegend": true,
         "type": "scatter",
         "x": [
          "GBR"
         ],
         "xaxis": "x",
         "y": {
          "bdata": "GrzzDDxc1D8=",
          "dtype": "f8"
         },
         "yaxis": "y"
        },
        {
         "hovertemplate": "<b>%{hovertext}</b><br><br>Country=%{x}<br>Proportion of Q65=1=%{y}<br>Total Responses=%{marker.size}<extra></extra>",
         "hovertext": [
          "GRC"
         ],
         "legendgroup": "GRC",
         "marker": {
          "color": "#FF97FF",
          "size": {
           "bdata": "sAQ=",
           "dtype": "i2"
          },
          "sizemode": "area",
          "sizeref": 2.51125,
          "symbol": "circle"
         },
         "mode": "markers",
         "name": "GRC",
         "orientation": "v",
         "showlegend": true,
         "type": "scatter",
         "x": [
          "GRC"
         ],
         "xaxis": "x",
         "y": {
          "bdata": "MzMzMzMz0z8=",
          "dtype": "f8"
         },
         "yaxis": "y"
        },
        {
         "hovertemplate": "<b>%{hovertext}</b><br><br>Country=%{x}<br>Proportion of Q65=1=%{y}<br>Total Responses=%{marker.size}<extra></extra>",
         "hovertext": [
          "GTM"
         ],
         "legendgroup": "GTM",
         "marker": {
          "color": "#FECB52",
          "size": {
           "bdata": "zQQ=",
           "dtype": "i2"
          },
          "sizemode": "area",
          "sizeref": 2.51125,
          "symbol": "circle"
         },
         "mode": "markers",
         "name": "GTM",
         "orientation": "v",
         "showlegend": true,
         "type": "scatter",
         "x": [
          "GTM"
         ],
         "xaxis": "x",
         "y": {
          "bdata": "cH4lfFxUpz8=",
          "dtype": "f8"
         },
         "yaxis": "y"
        },
        {
         "hovertemplate": "<b>%{hovertext}</b><br><br>Country=%{x}<br>Proportion of Q65=1=%{y}<br>Total Responses=%{marker.size}<extra></extra>",
         "hovertext": [
          "IDN"
         ],
         "legendgroup": "IDN",
         "marker": {
          "color": "#636efa",
          "size": {
           "bdata": "gAw=",
           "dtype": "i2"
          },
          "sizemode": "area",
          "sizeref": 2.51125,
          "symbol": "circle"
         },
         "mode": "markers",
         "name": "IDN",
         "orientation": "v",
         "showlegend": true,
         "type": "scatter",
         "x": [
          "IDN"
         ],
         "xaxis": "x",
         "y": {
          "bdata": "exSuR+F63j8=",
          "dtype": "f8"
         },
         "yaxis": "y"
        },
        {
         "hovertemplate": "<b>%{hovertext}</b><br><br>Country=%{x}<br>Proportion of Q65=1=%{y}<br>Total Responses=%{marker.size}<extra></extra>",
         "hovertext": [
          "IND"
         ],
         "legendgroup": "IND",
         "marker": {
          "color": "#EF553B",
          "size": {
           "bdata": "nAY=",
           "dtype": "i2"
          },
          "sizemode": "area",
          "sizeref": 2.51125,
          "symbol": "circle"
         },
         "mode": "markers",
         "name": "IND",
         "orientation": "v",
         "showlegend": true,
         "type": "scatter",
         "x": [
          "IND"
         ],
         "xaxis": "x",
         "y": {
          "bdata": "LHEzXSq25T8=",
          "dtype": "f8"
         },
         "yaxis": "y"
        },
        {
         "hovertemplate": "<b>%{hovertext}</b><br><br>Country=%{x}<br>Proportion of Q65=1=%{y}<br>Total Responses=%{marker.size}<extra></extra>",
         "hovertext": [
          "IRN"
         ],
         "legendgroup": "IRN",
         "marker": {
          "color": "#00cc96",
          "size": {
           "bdata": "2wU=",
           "dtype": "i2"
          },
          "sizemode": "area",
          "sizeref": 2.51125,
          "symbol": "circle"
         },
         "mode": "markers",
         "name": "IRN",
         "orientation": "v",
         "showlegend": true,
         "type": "scatter",
         "x": [
          "IRN"
         ],
         "xaxis": "x",
         "y": {
          "bdata": "9iBt05565j8=",
          "dtype": "f8"
         },
         "yaxis": "y"
        },
        {
         "hovertemplate": "<b>%{hovertext}</b><br><br>Country=%{x}<br>Proportion of Q65=1=%{y}<br>Total Responses=%{marker.size}<extra></extra>",
         "hovertext": [
          "IRQ"
         ],
         "legendgroup": "IRQ",
         "marker": {
          "color": "#ab63fa",
          "size": {
           "bdata": "sAQ=",
           "dtype": "i2"
          },
          "sizemode": "area",
          "sizeref": 2.51125,
          "symbol": "circle"
         },
         "mode": "markers",
         "name": "IRQ",
         "orientation": "v",
         "showlegend": true,
         "type": "scatter",
         "x": [
          "IRQ"
         ],
         "xaxis": "x",
         "y": {
          "bdata": "1AY6baDT2j8=",
          "dtype": "f8"
         },
         "yaxis": "y"
        },
        {
         "hovertemplate": "<b>%{hovertext}</b><br><br>Country=%{x}<br>Proportion of Q65=1=%{y}<br>Total Responses=%{marker.size}<extra></extra>",
         "hovertext": [
          "JOR"
         ],
         "legendgroup": "JOR",
         "marker": {
          "color": "#FFA15A",
          "size": {
           "bdata": "swQ=",
           "dtype": "i2"
          },
          "sizemode": "area",
          "sizeref": 2.51125,
          "symbol": "circle"
         },
         "mode": "markers",
         "name": "JOR",
         "orientation": "v",
         "showlegend": true,
         "type": "scatter",
         "x": [
          "JOR"
         ],
         "xaxis": "x",
         "y": {
          "bdata": "MzXiQ7sw6T8=",
          "dtype": "f8"
         },
         "yaxis": "y"
        },
        {
         "hovertemplate": "<b>%{hovertext}</b><br><br>Country=%{x}<br>Proportion of Q65=1=%{y}<br>Total Responses=%{marker.size}<extra></extra>",
         "hovertext": [
          "JPN"
         ],
         "legendgroup": "JPN",
         "marker": {
          "color": "#19d3f3",
          "size": {
           "bdata": "SQU=",
           "dtype": "i2"
          },
          "sizemode": "area",
          "sizeref": 2.51125,
          "symbol": "circle"
         },
         "mode": "markers",
         "name": "JPN",
         "orientation": "v",
         "showlegend": true,
         "type": "scatter",
         "x": [
          "JPN"
         ],
         "xaxis": "x",
         "y": {
          "bdata": "1x517VHXzj8=",
          "dtype": "f8"
         },
         "yaxis": "y"
        },
        {
         "hovertemplate": "<b>%{hovertext}</b><br><br>Country=%{x}<br>Proportion of Q65=1=%{y}<br>Total Responses=%{marker.size}<extra></extra>",
         "hovertext": [
          "KAZ"
         ],
         "legendgroup": "KAZ",
         "marker": {
          "color": "#FF6692",
          "size": {
           "bdata": "/AQ=",
           "dtype": "i2"
          },
          "sizemode": "area",
          "sizeref": 2.51125,
          "symbol": "circle"
         },
         "mode": "markers",
         "name": "KAZ",
         "orientation": "v",
         "showlegend": true,
         "type": "scatter",
         "x": [
          "KAZ"
         ],
         "xaxis": "x",
         "y": {
          "bdata": "WO5phOWe1j8=",
          "dtype": "f8"
         },
         "yaxis": "y"
        },
        {
         "hovertemplate": "<b>%{hovertext}</b><br><br>Country=%{x}<br>Proportion of Q65=1=%{y}<br>Total Responses=%{marker.size}<extra></extra>",
         "hovertext": [
          "KEN"
         ],
         "legendgroup": "KEN",
         "marker": {
          "color": "#B6E880",
          "size": {
           "bdata": "8gQ=",
           "dtype": "i2"
          },
          "sizemode": "area",
          "sizeref": 2.51125,
          "symbol": "circle"
         },
         "mode": "markers",
         "name": "KEN",
         "orientation": "v",
         "showlegend": true,
         "type": "scatter",
         "x": [
          "KEN"
         ],
         "xaxis": "x",
         "y": {
          "bdata": "ovDVpykhzj8=",
          "dtype": "f8"
         },
         "yaxis": "y"
        },
        {
         "hovertemplate": "<b>%{hovertext}</b><br><br>Country=%{x}<br>Proportion of Q65=1=%{y}<br>Total Responses=%{marker.size}<extra></extra>",
         "hovertext": [
          "KGZ"
         ],
         "legendgroup": "KGZ",
         "marker": {
          "color": "#FF97FF",
          "size": {
           "bdata": "sAQ=",
           "dtype": "i2"
          },
          "sizemode": "area",
          "sizeref": 2.51125,
          "symbol": "circle"
         },
         "mode": "markers",
         "name": "KGZ",
         "orientation": "v",
         "showlegend": true,
         "type": "scatter",
         "x": [
          "KGZ"
         ],
         "xaxis": "x",
         "y": {
          "bdata": "UrgehetR0D8=",
          "dtype": "f8"
         },
         "yaxis": "y"
        },
        {
         "hovertemplate": "<b>%{hovertext}</b><br><br>Country=%{x}<br>Proportion of Q65=1=%{y}<br>Total Responses=%{marker.size}<extra></extra>",
         "hovertext": [
          "KOR"
         ],
         "legendgroup": "KOR",
         "marker": {
          "color": "#FECB52",
          "size": {
           "bdata": "3QQ=",
           "dtype": "i2"
          },
          "sizemode": "area",
          "sizeref": 2.51125,
          "symbol": "circle"
         },
         "mode": "markers",
         "name": "KOR",
         "orientation": "v",
         "showlegend": true,
         "type": "scatter",
         "x": [
          "KOR"
         ],
         "xaxis": "x",
         "y": {
          "bdata": "cYzZdtZRqj8=",
          "dtype": "f8"
         },
         "yaxis": "y"
        },
        {
         "hovertemplate": "<b>%{hovertext}</b><br><br>Country=%{x}<br>Proportion of Q65=1=%{y}<br>Total Responses=%{marker.size}<extra></extra>",
         "hovertext": [
          "LBN"
         ],
         "legendgroup": "LBN",
         "marker": {
          "color": "#636efa",
          "size": {
           "bdata": "sAQ=",
           "dtype": "i2"
          },
          "sizemode": "area",
          "sizeref": 2.51125,
          "symbol": "circle"
         },
         "mode": "markers",
         "name": "LBN",
         "orientation": "v",
         "showlegend": true,
         "type": "scatter",
         "x": [
          "LBN"
         ],
         "xaxis": "x",
         "y": {
          "bdata": "SOF6FK5H4z8=",
          "dtype": "f8"
         },
         "yaxis": "y"
        },
        {
         "hovertemplate": "<b>%{hovertext}</b><br><br>Country=%{x}<br>Proportion of Q65=1=%{y}<br>Total Responses=%{marker.size}<extra></extra>",
         "hovertext": [
          "LBY"
         ],
         "legendgroup": "LBY",
         "marker": {
          "color": "#EF553B",
          "size": {
           "bdata": "rAQ=",
           "dtype": "i2"
          },
          "sizemode": "area",
          "sizeref": 2.51125,
          "symbol": "circle"
         },
         "mode": "markers",
         "name": "LBY",
         "orientation": "v",
         "showlegend": true,
         "type": "scatter",
         "x": [
          "LBY"
         ],
         "xaxis": "x",
         "y": {
          "bdata": "/I6Ll22Azj8=",
          "dtype": "f8"
         },
         "yaxis": "y"
        },
        {
         "hovertemplate": "<b>%{hovertext}</b><br><br>Country=%{x}<br>Proportion of Q65=1=%{y}<br>Total Responses=%{marker.size}<extra></extra>",
         "hovertext": [
          "MAR"
         ],
         "legendgroup": "MAR",
         "marker": {
          "color": "#00cc96",
          "size": {
           "bdata": "sAQ=",
           "dtype": "i2"
          },
          "sizemode": "area",
          "sizeref": 2.51125,
          "symbol": "circle"
         },
         "mode": "markers",
         "name": "MAR",
         "orientation": "v",
         "showlegend": true,
         "type": "scatter",
         "x": [
          "MAR"
         ],
         "xaxis": "x",
         "y": {
          "bdata": "XI/C9Shczz8=",
          "dtype": "f8"
         },
         "yaxis": "y"
        },
        {
         "hovertemplate": "<b>%{hovertext}</b><br><br>Country=%{x}<br>Proportion of Q65=1=%{y}<br>Total Responses=%{marker.size}<extra></extra>",
         "hovertext": [
          "MDV"
         ],
         "legendgroup": "MDV",
         "marker": {
          "color": "#ab63fa",
          "size": {
           "bdata": "DwQ=",
           "dtype": "i2"
          },
          "sizemode": "area",
          "sizeref": 2.51125,
          "symbol": "circle"
         },
         "mode": "markers",
         "name": "MDV",
         "orientation": "v",
         "showlegend": true,
         "type": "scatter",
         "x": [
          "MDV"
         ],
         "xaxis": "x",
         "y": {
          "bdata": "lT7e5jmb1j8=",
          "dtype": "f8"
         },
         "yaxis": "y"
        },
        {
         "hovertemplate": "<b>%{hovertext}</b><br><br>Country=%{x}<br>Proportion of Q65=1=%{y}<br>Total Responses=%{marker.size}<extra></extra>",
         "hovertext": [
          "MEX"
         ],
         "legendgroup": "MEX",
         "marker": {
          "color": "#FFA15A",
          "size": {
           "bdata": "zQY=",
           "dtype": "i2"
          },
          "sizemode": "area",
          "sizeref": 2.51125,
          "symbol": "circle"
         },
         "mode": "markers",
         "name": "MEX",
         "orientation": "v",
         "showlegend": true,
         "type": "scatter",
         "x": [
          "MEX"
         ],
         "xaxis": "x",
         "y": {
          "bdata": "sKQgqmc7zD8=",
          "dtype": "f8"
         },
         "yaxis": "y"
        },
        {
         "hovertemplate": "<b>%{hovertext}</b><br><br>Country=%{x}<br>Proportion of Q65=1=%{y}<br>Total Responses=%{marker.size}<extra></extra>",
         "hovertext": [
          "MMR"
         ],
         "legendgroup": "MMR",
         "marker": {
          "color": "#19d3f3",
          "size": {
           "bdata": "sAQ=",
           "dtype": "i2"
          },
          "sizemode": "area",
          "sizeref": 2.51125,
          "symbol": "circle"
         },
         "mode": "markers",
         "name": "MMR",
         "orientation": "v",
         "showlegend": true,
         "type": "scatter",
         "x": [
          "MMR"
         ],
         "xaxis": "x",
         "y": {
          "bdata": "4XoUrkfhuj8=",
          "dtype": "f8"
         },
         "yaxis": "y"
        },
        {
         "hovertemplate": "<b>%{hovertext}</b><br><br>Country=%{x}<br>Proportion of Q65=1=%{y}<br>Total Responses=%{marker.size}<extra></extra>",
         "hovertext": [
          "MNG"
         ],
         "legendgroup": "MNG",
         "marker": {
          "color": "#FF6692",
          "size": {
           "bdata": "ZgY=",
           "dtype": "i2"
          },
          "sizemode": "area",
          "sizeref": 2.51125,
          "symbol": "circle"
         },
         "mode": "markers",
         "name": "MNG",
         "orientation": "v",
         "showlegend": true,
         "type": "scatter",
         "x": [
          "MNG"
         ],
         "xaxis": "x",
         "y": {
          "bdata": "mqEZmqEZuj8=",
          "dtype": "f8"
         },
         "yaxis": "y"
        },
        {
         "hovertemplate": "<b>%{hovertext}</b><br><br>Country=%{x}<br>Proportion of Q65=1=%{y}<br>Total Responses=%{marker.size}<extra></extra>",
         "hovertext": [
          "MYS"
         ],
         "legendgroup": "MYS",
         "marker": {
          "color": "#B6E880",
          "size": {
           "bdata": "IQU=",
           "dtype": "i2"
          },
          "sizemode": "area",
          "sizeref": 2.51125,
          "symbol": "circle"
         },
         "mode": "markers",
         "name": "MYS",
         "orientation": "v",
         "showlegend": true,
         "type": "scatter",
         "x": [
          "MYS"
         ],
         "xaxis": "x",
         "y": {
          "bdata": "/qozF2lFzD8=",
          "dtype": "f8"
         },
         "yaxis": "y"
        },
        {
         "hovertemplate": "<b>%{hovertext}</b><br><br>Country=%{x}<br>Proportion of Q65=1=%{y}<br>Total Responses=%{marker.size}<extra></extra>",
         "hovertext": [
          "NGA"
         ],
         "legendgroup": "NGA",
         "marker": {
          "color": "#FF97FF",
          "size": {
           "bdata": "1QQ=",
           "dtype": "i2"
          },
          "sizemode": "area",
          "sizeref": 2.51125,
          "symbol": "circle"
         },
         "mode": "markers",
         "name": "NGA",
         "orientation": "v",
         "showlegend": true,
         "type": "scatter",
         "x": [
          "NGA"
         ],
         "xaxis": "x",
         "y": {
          "bdata": "KVj+56NIzT8=",
          "dtype": "f8"
         },
         "yaxis": "y"
        },
        {
         "hovertemplate": "<b>%{hovertext}</b><br><br>Country=%{x}<br>Proportion of Q65=1=%{y}<br>Total Responses=%{marker.size}<extra></extra>",
         "hovertext": [
          "NIC"
         ],
         "legendgroup": "NIC",
         "marker": {
          "color": "#FECB52",
          "size": {
           "bdata": "sAQ=",
           "dtype": "i2"
          },
          "sizemode": "area",
          "sizeref": 2.51125,
          "symbol": "circle"
         },
         "mode": "markers",
         "name": "NIC",
         "orientation": "v",
         "showlegend": true,
         "type": "scatter",
         "x": [
          "NIC"
         ],
         "xaxis": "x",
         "y": {
          "bdata": "k18s+cWSvz8=",
          "dtype": "f8"
         },
         "yaxis": "y"
        },
        {
         "hovertemplate": "<b>%{hovertext}</b><br><br>Country=%{x}<br>Proportion of Q65=1=%{y}<br>Total Responses=%{marker.size}<extra></extra>",
         "hovertext": [
          "NLD"
         ],
         "legendgroup": "NLD",
         "marker": {
          "color": "#636efa",
          "size": {
           "bdata": "YQg=",
           "dtype": "i2"
          },
          "sizemode": "area",
          "sizeref": 2.51125,
          "symbol": "circle"
         },
         "mode": "markers",
         "name": "NLD",
         "orientation": "v",
         "showlegend": true,
         "type": "scatter",
         "x": [
          "NLD"
         ],
         "xaxis": "x",
         "y": {
          "bdata": "XNsSovJvpj8=",
          "dtype": "f8"
         },
         "yaxis": "y"
        },
        {
         "hovertemplate": "<b>%{hovertext}</b><br><br>Country=%{x}<br>Proportion of Q65=1=%{y}<br>Total Responses=%{marker.size}<extra></extra>",
         "hovertext": [
          "NZL"
         ],
         "legendgroup": "NZL",
         "marker": {
          "color": "#EF553B",
          "size": {
           "bdata": "IQQ=",
           "dtype": "i2"
          },
          "sizemode": "area",
          "sizeref": 2.51125,
          "symbol": "circle"
         },
         "mode": "markers",
         "name": "NZL",
         "orientation": "v",
         "showlegend": true,
         "type": "scatter",
         "x": [
          "NZL"
         ],
         "xaxis": "x",
         "y": {
          "bdata": "gC5AF6AL0D8=",
          "dtype": "f8"
         },
         "yaxis": "y"
        },
        {
         "hovertemplate": "<b>%{hovertext}</b><br><br>Country=%{x}<br>Proportion of Q65=1=%{y}<br>Total Responses=%{marker.size}<extra></extra>",
         "hovertext": [
          "PAK"
         ],
         "legendgroup": "PAK",
         "marker": {
          "color": "#00cc96",
          "size": {
           "bdata": "ywc=",
           "dtype": "i2"
          },
          "sizemode": "area",
          "sizeref": 2.51125,
          "symbol": "circle"
         },
         "mode": "markers",
         "name": "PAK",
         "orientation": "v",
         "showlegend": true,
         "type": "scatter",
         "x": [
          "PAK"
         ],
         "xaxis": "x",
         "y": {
          "bdata": "k5ixyCyJ6T8=",
          "dtype": "f8"
         },
         "yaxis": "y"
        },
        {
         "hovertemplate": "<b>%{hovertext}</b><br><br>Country=%{x}<br>Proportion of Q65=1=%{y}<br>Total Responses=%{marker.size}<extra></extra>",
         "hovertext": [
          "PER"
         ],
         "legendgroup": "PER",
         "marker": {
          "color": "#ab63fa",
          "size": {
           "bdata": "eAU=",
           "dtype": "i2"
          },
          "sizemode": "area",
          "sizeref": 2.51125,
          "symbol": "circle"
         },
         "mode": "markers",
         "name": "PER",
         "orientation": "v",
         "showlegend": true,
         "type": "scatter",
         "x": [
          "PER"
         ],
         "xaxis": "x",
         "y": {
          "bdata": "mpmZmZmZuT8=",
          "dtype": "f8"
         },
         "yaxis": "y"
        },
        {
         "hovertemplate": "<b>%{hovertext}</b><br><br>Country=%{x}<br>Proportion of Q65=1=%{y}<br>Total Responses=%{marker.size}<extra></extra>",
         "hovertext": [
          "PHL"
         ],
         "legendgroup": "PHL",
         "marker": {
          "color": "#FFA15A",
          "size": {
           "bdata": "sAQ=",
           "dtype": "i2"
          },
          "sizemode": "area",
          "sizeref": 2.51125,
          "symbol": "circle"
         },
         "mode": "markers",
         "name": "PHL",
         "orientation": "v",
         "showlegend": true,
         "type": "scatter",
         "x": [
          "PHL"
         ],
         "xaxis": "x",
         "y": {
          "bdata": "pHA9Ctej1D8=",
          "dtype": "f8"
         },
         "yaxis": "y"
        },
        {
         "hovertemplate": "<b>%{hovertext}</b><br><br>Country=%{x}<br>Proportion of Q65=1=%{y}<br>Total Responses=%{marker.size}<extra></extra>",
         "hovertext": [
          "ROU"
         ],
         "legendgroup": "ROU",
         "marker": {
          "color": "#19d3f3",
          "size": {
           "bdata": "6QQ=",
           "dtype": "i2"
          },
          "sizemode": "area",
          "sizeref": 2.51125,
          "symbol": "circle"
         },
         "mode": "markers",
         "name": "ROU",
         "orientation": "v",
         "showlegend": true,
         "type": "scatter",
         "x": [
          "ROU"
         ],
         "xaxis": "x",
         "y": {
          "bdata": "d/jcy/9Y0z8=",
          "dtype": "f8"
         },
         "yaxis": "y"
        },
        {
         "hovertemplate": "<b>%{hovertext}</b><br><br>Country=%{x}<br>Proportion of Q65=1=%{y}<br>Total Responses=%{marker.size}<extra></extra>",
         "hovertext": [
          "RUS"
         ],
         "legendgroup": "RUS",
         "marker": {
          "color": "#FF6692",
          "size": {
           "bdata": "Egc=",
           "dtype": "i2"
          },
          "sizemode": "area",
          "sizeref": 2.51125,
          "symbol": "circle"
         },
         "mode": "markers",
         "name": "RUS",
         "orientation": "v",
         "showlegend": true,
         "type": "scatter",
         "x": [
          "RUS"
         ],
         "xaxis": "x",
         "y": {
          "bdata": "owd9lozX1j8=",
          "dtype": "f8"
         },
         "yaxis": "y"
        },
        {
         "hovertemplate": "<b>%{hovertext}</b><br><br>Country=%{x}<br>Proportion of Q65=1=%{y}<br>Total Responses=%{marker.size}<extra></extra>",
         "hovertext": [
          "SGP"
         ],
         "legendgroup": "SGP",
         "marker": {
          "color": "#B6E880",
          "size": {
           "bdata": "3Ac=",
           "dtype": "i2"
          },
          "sizemode": "area",
          "sizeref": 2.51125,
          "symbol": "circle"
         },
         "mode": "markers",
         "name": "SGP",
         "orientation": "v",
         "showlegend": true,
         "type": "scatter",
         "x": [
          "SGP"
         ],
         "xaxis": "x",
         "y": {
          "bdata": "RJ3N9Blbyz8=",
          "dtype": "f8"
         },
         "yaxis": "y"
        },
        {
         "hovertemplate": "<b>%{hovertext}</b><br><br>Country=%{x}<br>Proportion of Q65=1=%{y}<br>Total Responses=%{marker.size}<extra></extra>",
         "hovertext": [
          "SRB"
         ],
         "legendgroup": "SRB",
         "marker": {
          "color": "#FF97FF",
          "size": {
           "bdata": "FgQ=",
           "dtype": "i2"
          },
          "sizemode": "area",
          "sizeref": 2.51125,
          "symbol": "circle"
         },
         "mode": "markers",
         "name": "SRB",
         "orientation": "v",
         "showlegend": true,
         "type": "scatter",
         "x": [
          "SRB"
         ],
         "xaxis": "x",
         "y": {
          "bdata": "+qOzUx9Axz8=",
          "dtype": "f8"
         },
         "yaxis": "y"
        },
        {
         "hovertemplate": "<b>%{hovertext}</b><br><br>Country=%{x}<br>Proportion of Q65=1=%{y}<br>Total Responses=%{marker.size}<extra></extra>",
         "hovertext": [
          "SVK"
         ],
         "legendgroup": "SVK",
         "marker": {
          "color": "#FECB52",
          "size": {
           "bdata": "sAQ=",
           "dtype": "i2"
          },
          "sizemode": "area",
          "sizeref": 2.51125,
          "symbol": "circle"
         },
         "mode": "markers",
         "name": "SVK",
         "orientation": "v",
         "showlegend": true,
         "type": "scatter",
         "x": [
          "SVK"
         ],
         "xaxis": "x",
         "y": {
          "bdata": "5RdLfrHktz8=",
          "dtype": "f8"
         },
         "yaxis": "y"
        },
        {
         "hovertemplate": "<b>%{hovertext}</b><br><br>Country=%{x}<br>Proportion of Q65=1=%{y}<br>Total Responses=%{marker.size}<extra></extra>",
         "hovertext": [
          "THA"
         ],
         "legendgroup": "THA",
         "marker": {
          "color": "#636efa",
          "size": {
           "bdata": "3AU=",
           "dtype": "i2"
          },
          "sizemode": "area",
          "sizeref": 2.51125,
          "symbol": "circle"
         },
         "mode": "markers",
         "name": "THA",
         "orientation": "v",
         "showlegend": true,
         "type": "scatter",
         "x": [
          "THA"
         ],
         "xaxis": "x",
         "y": {
          "bdata": "qX8jlNHbwj8=",
          "dtype": "f8"
         },
         "yaxis": "y"
        },
        {
         "hovertemplate": "<b>%{hovertext}</b><br><br>Country=%{x}<br>Proportion of Q65=1=%{y}<br>Total Responses=%{marker.size}<extra></extra>",
         "hovertext": [
          "TJK"
         ],
         "legendgroup": "TJK",
         "marker": {
          "color": "#EF553B",
          "size": {
           "bdata": "sAQ=",
           "dtype": "i2"
          },
          "sizemode": "area",
          "sizeref": 2.51125,
          "symbol": "circle"
         },
         "mode": "markers",
         "name": "TJK",
         "orientation": "v",
         "showlegend": true,
         "type": "scatter",
         "x": [
          "TJK"
         ],
         "xaxis": "x",
         "y": {
          "bdata": "4XoUrkfh3j8=",
          "dtype": "f8"
         },
         "yaxis": "y"
        },
        {
         "hovertemplate": "<b>%{hovertext}</b><br><br>Country=%{x}<br>Proportion of Q65=1=%{y}<br>Total Responses=%{marker.size}<extra></extra>",
         "hovertext": [
          "TUN"
         ],
         "legendgroup": "TUN",
         "marker": {
          "color": "#00cc96",
          "size": {
           "bdata": "uAQ=",
           "dtype": "i2"
          },
          "sizemode": "area",
          "sizeref": 2.51125,
          "symbol": "circle"
         },
         "mode": "markers",
         "name": "TUN",
         "orientation": "v",
         "showlegend": true,
         "type": "scatter",
         "x": [
          "TUN"
         ],
         "xaxis": "x",
         "y": {
          "bdata": "gWxANiAb2D8=",
          "dtype": "f8"
         },
         "yaxis": "y"
        },
        {
         "hovertemplate": "<b>%{hovertext}</b><br><br>Country=%{x}<br>Proportion of Q65=1=%{y}<br>Total Responses=%{marker.size}<extra></extra>",
         "hovertext": [
          "TUR"
         ],
         "legendgroup": "TUR",
         "marker": {
          "color": "#ab63fa",
          "size": {
           "bdata": "bwk=",
           "dtype": "i2"
          },
          "sizemode": "area",
          "sizeref": 2.51125,
          "symbol": "circle"
         },
         "mode": "markers",
         "name": "TUR",
         "orientation": "v",
         "showlegend": true,
         "type": "scatter",
         "x": [
          "TUR"
         ],
         "xaxis": "x",
         "y": {
          "bdata": "AmNGGBXX3T8=",
          "dtype": "f8"
         },
         "yaxis": "y"
        },
        {
         "hovertemplate": "<b>%{hovertext}</b><br><br>Country=%{x}<br>Proportion of Q65=1=%{y}<br>Total Responses=%{marker.size}<extra></extra>",
         "hovertext": [
          "UKR"
         ],
         "legendgroup": "UKR",
         "marker": {
          "color": "#FFA15A",
          "size": {
           "bdata": "CQU=",
           "dtype": "i2"
          },
          "sizemode": "area",
          "sizeref": 2.51125,
          "symbol": "circle"
         },
         "mode": "markers",
         "name": "UKR",
         "orientation": "v",
         "showlegend": true,
         "type": "scatter",
         "x": [
          "UKR"
         ],
         "xaxis": "x",
         "y": {
          "bdata": "lK1m4w8wzj8=",
          "dtype": "f8"
         },
         "yaxis": "y"
        },
        {
         "hovertemplate": "<b>%{hovertext}</b><br><br>Country=%{x}<br>Proportion of Q65=1=%{y}<br>Total Responses=%{marker.size}<extra></extra>",
         "hovertext": [
          "URY"
         ],
         "legendgroup": "URY",
         "marker": {
          "color": "#19d3f3",
          "size": {
           "bdata": "6AM=",
           "dtype": "i2"
          },
          "sizemode": "area",
          "sizeref": 2.51125,
          "symbol": "circle"
         },
         "mode": "markers",
         "name": "URY",
         "orientation": "v",
         "showlegend": true,
         "type": "scatter",
         "x": [
          "URY"
         ],
         "xaxis": "x",
         "y": {
          "bdata": "fT81XrpJzD8=",
          "dtype": "f8"
         },
         "yaxis": "y"
        },
        {
         "hovertemplate": "<b>%{hovertext}</b><br><br>Country=%{x}<br>Proportion of Q65=1=%{y}<br>Total Responses=%{marker.size}<extra></extra>",
         "hovertext": [
          "USA"
         ],
         "legendgroup": "USA",
         "marker": {
          "color": "#FF6692",
          "size": {
           "bdata": "JAo=",
           "dtype": "i2"
          },
          "sizemode": "area",
          "sizeref": 2.51125,
          "symbol": "circle"
         },
         "mode": "markers",
         "name": "USA",
         "orientation": "v",
         "showlegend": true,
         "type": "scatter",
         "x": [
          "USA"
         ],
         "xaxis": "x",
         "y": {
          "bdata": "g81/3Anv0j8=",
          "dtype": "f8"
         },
         "yaxis": "y"
        },
        {
         "hovertemplate": "<b>%{hovertext}</b><br><br>Country=%{x}<br>Proportion of Q65=1=%{y}<br>Total Responses=%{marker.size}<extra></extra>",
         "hovertext": [
          "UZB"
         ],
         "legendgroup": "UZB",
         "marker": {
          "color": "#B6E880",
          "size": {
           "bdata": "4gQ=",
           "dtype": "i2"
          },
          "sizemode": "area",
          "sizeref": 2.51125,
          "symbol": "circle"
         },
         "mode": "markers",
         "name": "UZB",
         "orientation": "v",
         "showlegend": true,
         "type": "scatter",
         "x": [
          "UZB"
         ],
         "xaxis": "x",
         "y": {
          "bdata": "4C2QoPgx5j8=",
          "dtype": "f8"
         },
         "yaxis": "y"
        },
        {
         "hovertemplate": "<b>%{hovertext}</b><br><br>Country=%{x}<br>Proportion of Q65=1=%{y}<br>Total Responses=%{marker.size}<extra></extra>",
         "hovertext": [
          "VEN"
         ],
         "legendgroup": "VEN",
         "marker": {
          "color": "#FF97FF",
          "size": {
           "bdata": "pgQ=",
           "dtype": "i2"
          },
          "sizemode": "area",
          "sizeref": 2.51125,
          "symbol": "circle"
         },
         "mode": "markers",
         "name": "VEN",
         "orientation": "v",
         "showlegend": true,
         "type": "scatter",
         "x": [
          "VEN"
         ],
         "xaxis": "x",
         "y": {
          "bdata": "Ha/THK/TrD8=",
          "dtype": "f8"
         },
         "yaxis": "y"
        },
        {
         "hovertemplate": "<b>%{hovertext}</b><br><br>Country=%{x}<br>Proportion of Q65=1=%{y}<br>Total Responses=%{marker.size}<extra></extra>",
         "hovertext": [
          "VNM"
         ],
         "legendgroup": "VNM",
         "marker": {
          "color": "#FECB52",
          "size": {
           "bdata": "sAQ=",
           "dtype": "i2"
          },
          "sizemode": "area",
          "sizeref": 2.51125,
          "symbol": "circle"
         },
         "mode": "markers",
         "name": "VNM",
         "orientation": "v",
         "showlegend": true,
         "type": "scatter",
         "x": [
          "VNM"
         ],
         "xaxis": "x",
         "y": {
          "bdata": "4XoUrkfh0j8=",
          "dtype": "f8"
         },
         "yaxis": "y"
        },
        {
         "hovertemplate": "<b>%{hovertext}</b><br><br>Country=%{x}<br>Proportion of Q65=1=%{y}<br>Total Responses=%{marker.size}<extra></extra>",
         "hovertext": [
          "ZWE"
         ],
         "legendgroup": "ZWE",
         "marker": {
          "color": "#636efa",
          "size": {
           "bdata": "vwQ=",
           "dtype": "i2"
          },
          "sizemode": "area",
          "sizeref": 2.51125,
          "symbol": "circle"
         },
         "mode": "markers",
         "name": "ZWE",
         "orientation": "v",
         "showlegend": true,
         "type": "scatter",
         "x": [
          "ZWE"
         ],
         "xaxis": "x",
         "y": {
          "bdata": "QXNj2EPCyj8=",
          "dtype": "f8"
         },
         "yaxis": "y"
        }
       ],
       "layout": {
        "height": 600,
        "legend": {
         "itemsizing": "constant",
         "title": {
          "text": "Country"
         },
         "tracegroupgap": 0
        },
        "margin": {
         "b": 40,
         "l": 40,
         "r": 40,
         "t": 80
        },
        "template": {
         "data": {
          "bar": [
           {
            "error_x": {
             "color": "#2a3f5f"
            },
            "error_y": {
             "color": "#2a3f5f"
            },
            "marker": {
             "line": {
              "color": "#E5ECF6",
              "width": 0.5
             },
             "pattern": {
              "fillmode": "overlay",
              "size": 10,
              "solidity": 0.2
             }
            },
            "type": "bar"
           }
          ],
          "barpolar": [
           {
            "marker": {
             "line": {
              "color": "#E5ECF6",
              "width": 0.5
             },
             "pattern": {
              "fillmode": "overlay",
              "size": 10,
              "solidity": 0.2
             }
            },
            "type": "barpolar"
           }
          ],
          "carpet": [
           {
            "aaxis": {
             "endlinecolor": "#2a3f5f",
             "gridcolor": "white",
             "linecolor": "white",
             "minorgridcolor": "white",
             "startlinecolor": "#2a3f5f"
            },
            "baxis": {
             "endlinecolor": "#2a3f5f",
             "gridcolor": "white",
             "linecolor": "white",
             "minorgridcolor": "white",
             "startlinecolor": "#2a3f5f"
            },
            "type": "carpet"
           }
          ],
          "choropleth": [
           {
            "colorbar": {
             "outlinewidth": 0,
             "ticks": ""
            },
            "type": "choropleth"
           }
          ],
          "contour": [
           {
            "colorbar": {
             "outlinewidth": 0,
             "ticks": ""
            },
            "colorscale": [
             [
              0,
              "#0d0887"
             ],
             [
              0.1111111111111111,
              "#46039f"
             ],
             [
              0.2222222222222222,
              "#7201a8"
             ],
             [
              0.3333333333333333,
              "#9c179e"
             ],
             [
              0.4444444444444444,
              "#bd3786"
             ],
             [
              0.5555555555555556,
              "#d8576b"
             ],
             [
              0.6666666666666666,
              "#ed7953"
             ],
             [
              0.7777777777777778,
              "#fb9f3a"
             ],
             [
              0.8888888888888888,
              "#fdca26"
             ],
             [
              1,
              "#f0f921"
             ]
            ],
            "type": "contour"
           }
          ],
          "contourcarpet": [
           {
            "colorbar": {
             "outlinewidth": 0,
             "ticks": ""
            },
            "type": "contourcarpet"
           }
          ],
          "heatmap": [
           {
            "colorbar": {
             "outlinewidth": 0,
             "ticks": ""
            },
            "colorscale": [
             [
              0,
              "#0d0887"
             ],
             [
              0.1111111111111111,
              "#46039f"
             ],
             [
              0.2222222222222222,
              "#7201a8"
             ],
             [
              0.3333333333333333,
              "#9c179e"
             ],
             [
              0.4444444444444444,
              "#bd3786"
             ],
             [
              0.5555555555555556,
              "#d8576b"
             ],
             [
              0.6666666666666666,
              "#ed7953"
             ],
             [
              0.7777777777777778,
              "#fb9f3a"
             ],
             [
              0.8888888888888888,
              "#fdca26"
             ],
             [
              1,
              "#f0f921"
             ]
            ],
            "type": "heatmap"
           }
          ],
          "histogram": [
           {
            "marker": {
             "pattern": {
              "fillmode": "overlay",
              "size": 10,
              "solidity": 0.2
             }
            },
            "type": "histogram"
           }
          ],
          "histogram2d": [
           {
            "colorbar": {
             "outlinewidth": 0,
             "ticks": ""
            },
            "colorscale": [
             [
              0,
              "#0d0887"
             ],
             [
              0.1111111111111111,
              "#46039f"
             ],
             [
              0.2222222222222222,
              "#7201a8"
             ],
             [
              0.3333333333333333,
              "#9c179e"
             ],
             [
              0.4444444444444444,
              "#bd3786"
             ],
             [
              0.5555555555555556,
              "#d8576b"
             ],
             [
              0.6666666666666666,
              "#ed7953"
             ],
             [
              0.7777777777777778,
              "#fb9f3a"
             ],
             [
              0.8888888888888888,
              "#fdca26"
             ],
             [
              1,
              "#f0f921"
             ]
            ],
            "type": "histogram2d"
           }
          ],
          "histogram2dcontour": [
           {
            "colorbar": {
             "outlinewidth": 0,
             "ticks": ""
            },
            "colorscale": [
             [
              0,
              "#0d0887"
             ],
             [
              0.1111111111111111,
              "#46039f"
             ],
             [
              0.2222222222222222,
              "#7201a8"
             ],
             [
              0.3333333333333333,
              "#9c179e"
             ],
             [
              0.4444444444444444,
              "#bd3786"
             ],
             [
              0.5555555555555556,
              "#d8576b"
             ],
             [
              0.6666666666666666,
              "#ed7953"
             ],
             [
              0.7777777777777778,
              "#fb9f3a"
             ],
             [
              0.8888888888888888,
              "#fdca26"
             ],
             [
              1,
              "#f0f921"
             ]
            ],
            "type": "histogram2dcontour"
           }
          ],
          "mesh3d": [
           {
            "colorbar": {
             "outlinewidth": 0,
             "ticks": ""
            },
            "type": "mesh3d"
           }
          ],
          "parcoords": [
           {
            "line": {
             "colorbar": {
              "outlinewidth": 0,
              "ticks": ""
             }
            },
            "type": "parcoords"
           }
          ],
          "pie": [
           {
            "automargin": true,
            "type": "pie"
           }
          ],
          "scatter": [
           {
            "fillpattern": {
             "fillmode": "overlay",
             "size": 10,
             "solidity": 0.2
            },
            "type": "scatter"
           }
          ],
          "scatter3d": [
           {
            "line": {
             "colorbar": {
              "outlinewidth": 0,
              "ticks": ""
             }
            },
            "marker": {
             "colorbar": {
              "outlinewidth": 0,
              "ticks": ""
             }
            },
            "type": "scatter3d"
           }
          ],
          "scattercarpet": [
           {
            "marker": {
             "colorbar": {
              "outlinewidth": 0,
              "ticks": ""
             }
            },
            "type": "scattercarpet"
           }
          ],
          "scattergeo": [
           {
            "marker": {
             "colorbar": {
              "outlinewidth": 0,
              "ticks": ""
             }
            },
            "type": "scattergeo"
           }
          ],
          "scattergl": [
           {
            "marker": {
             "colorbar": {
              "outlinewidth": 0,
              "ticks": ""
             }
            },
            "type": "scattergl"
           }
          ],
          "scattermap": [
           {
            "marker": {
             "colorbar": {
              "outlinewidth": 0,
              "ticks": ""
             }
            },
            "type": "scattermap"
           }
          ],
          "scattermapbox": [
           {
            "marker": {
             "colorbar": {
              "outlinewidth": 0,
              "ticks": ""
             }
            },
            "type": "scattermapbox"
           }
          ],
          "scatterpolar": [
           {
            "marker": {
             "colorbar": {
              "outlinewidth": 0,
              "ticks": ""
             }
            },
            "type": "scatterpolar"
           }
          ],
          "scatterpolargl": [
           {
            "marker": {
             "colorbar": {
              "outlinewidth": 0,
              "ticks": ""
             }
            },
            "type": "scatterpolargl"
           }
          ],
          "scatterternary": [
           {
            "marker": {
             "colorbar": {
              "outlinewidth": 0,
              "ticks": ""
             }
            },
            "type": "scatterternary"
           }
          ],
          "surface": [
           {
            "colorbar": {
             "outlinewidth": 0,
             "ticks": ""
            },
            "colorscale": [
             [
              0,
              "#0d0887"
             ],
             [
              0.1111111111111111,
              "#46039f"
             ],
             [
              0.2222222222222222,
              "#7201a8"
             ],
             [
              0.3333333333333333,
              "#9c179e"
             ],
             [
              0.4444444444444444,
              "#bd3786"
             ],
             [
              0.5555555555555556,
              "#d8576b"
             ],
             [
              0.6666666666666666,
              "#ed7953"
             ],
             [
              0.7777777777777778,
              "#fb9f3a"
             ],
             [
              0.8888888888888888,
              "#fdca26"
             ],
             [
              1,
              "#f0f921"
             ]
            ],
            "type": "surface"
           }
          ],
          "table": [
           {
            "cells": {
             "fill": {
              "color": "#EBF0F8"
             },
             "line": {
              "color": "white"
             }
            },
            "header": {
             "fill": {
              "color": "#C8D4E3"
             },
             "line": {
              "color": "white"
             }
            },
            "type": "table"
           }
          ]
         },
         "layout": {
          "annotationdefaults": {
           "arrowcolor": "#2a3f5f",
           "arrowhead": 0,
           "arrowwidth": 1
          },
          "autotypenumbers": "strict",
          "coloraxis": {
           "colorbar": {
            "outlinewidth": 0,
            "ticks": ""
           }
          },
          "colorscale": {
           "diverging": [
            [
             0,
             "#8e0152"
            ],
            [
             0.1,
             "#c51b7d"
            ],
            [
             0.2,
             "#de77ae"
            ],
            [
             0.3,
             "#f1b6da"
            ],
            [
             0.4,
             "#fde0ef"
            ],
            [
             0.5,
             "#f7f7f7"
            ],
            [
             0.6,
             "#e6f5d0"
            ],
            [
             0.7,
             "#b8e186"
            ],
            [
             0.8,
             "#7fbc41"
            ],
            [
             0.9,
             "#4d9221"
            ],
            [
             1,
             "#276419"
            ]
           ],
           "sequential": [
            [
             0,
             "#0d0887"
            ],
            [
             0.1111111111111111,
             "#46039f"
            ],
            [
             0.2222222222222222,
             "#7201a8"
            ],
            [
             0.3333333333333333,
             "#9c179e"
            ],
            [
             0.4444444444444444,
             "#bd3786"
            ],
            [
             0.5555555555555556,
             "#d8576b"
            ],
            [
             0.6666666666666666,
             "#ed7953"
            ],
            [
             0.7777777777777778,
             "#fb9f3a"
            ],
            [
             0.8888888888888888,
             "#fdca26"
            ],
            [
             1,
             "#f0f921"
            ]
           ],
           "sequentialminus": [
            [
             0,
             "#0d0887"
            ],
            [
             0.1111111111111111,
             "#46039f"
            ],
            [
             0.2222222222222222,
             "#7201a8"
            ],
            [
             0.3333333333333333,
             "#9c179e"
            ],
            [
             0.4444444444444444,
             "#bd3786"
            ],
            [
             0.5555555555555556,
             "#d8576b"
            ],
            [
             0.6666666666666666,
             "#ed7953"
            ],
            [
             0.7777777777777778,
             "#fb9f3a"
            ],
            [
             0.8888888888888888,
             "#fdca26"
            ],
            [
             1,
             "#f0f921"
            ]
           ]
          },
          "colorway": [
           "#636efa",
           "#EF553B",
           "#00cc96",
           "#ab63fa",
           "#FFA15A",
           "#19d3f3",
           "#FF6692",
           "#B6E880",
           "#FF97FF",
           "#FECB52"
          ],
          "font": {
           "color": "#2a3f5f"
          },
          "geo": {
           "bgcolor": "white",
           "lakecolor": "white",
           "landcolor": "#E5ECF6",
           "showlakes": true,
           "showland": true,
           "subunitcolor": "white"
          },
          "hoverlabel": {
           "align": "left"
          },
          "hovermode": "closest",
          "mapbox": {
           "style": "light"
          },
          "paper_bgcolor": "white",
          "plot_bgcolor": "#E5ECF6",
          "polar": {
           "angularaxis": {
            "gridcolor": "white",
            "linecolor": "white",
            "ticks": ""
           },
           "bgcolor": "#E5ECF6",
           "radialaxis": {
            "gridcolor": "white",
            "linecolor": "white",
            "ticks": ""
           }
          },
          "scene": {
           "xaxis": {
            "backgroundcolor": "#E5ECF6",
            "gridcolor": "white",
            "gridwidth": 2,
            "linecolor": "white",
            "showbackground": true,
            "ticks": "",
            "zerolinecolor": "white"
           },
           "yaxis": {
            "backgroundcolor": "#E5ECF6",
            "gridcolor": "white",
            "gridwidth": 2,
            "linecolor": "white",
            "showbackground": true,
            "ticks": "",
            "zerolinecolor": "white"
           },
           "zaxis": {
            "backgroundcolor": "#E5ECF6",
            "gridcolor": "white",
            "gridwidth": 2,
            "linecolor": "white",
            "showbackground": true,
            "ticks": "",
            "zerolinecolor": "white"
           }
          },
          "shapedefaults": {
           "line": {
            "color": "#2a3f5f"
           }
          },
          "ternary": {
           "aaxis": {
            "gridcolor": "white",
            "linecolor": "white",
            "ticks": ""
           },
           "baxis": {
            "gridcolor": "white",
            "linecolor": "white",
            "ticks": ""
           },
           "bgcolor": "#E5ECF6",
           "caxis": {
            "gridcolor": "white",
            "linecolor": "white",
            "ticks": ""
           }
          },
          "title": {
           "x": 0.05
          },
          "xaxis": {
           "automargin": true,
           "gridcolor": "white",
           "linecolor": "white",
           "ticks": "",
           "title": {
            "standoff": 15
           },
           "zerolinecolor": "white",
           "zerolinewidth": 2
          },
          "yaxis": {
           "automargin": true,
           "gridcolor": "white",
           "linecolor": "white",
           "ticks": "",
           "title": {
            "standoff": 15
           },
           "zerolinecolor": "white",
           "zerolinewidth": 2
          }
         }
        },
        "title": {
         "text": "Proportion of Q65 Responses Equal to 1 by Country"
        },
        "xaxis": {
         "anchor": "y",
         "categoryarray": [
          "AND",
          "ARG",
          "ARM",
          "AUS",
          "BGD",
          "BOL",
          "BRA",
          "CAN",
          "CHL",
          "CHN",
          "COL",
          "CYP",
          "CZE",
          "DEU",
          "ECU",
          "EGY",
          "ETH",
          "GBR",
          "GRC",
          "GTM",
          "IDN",
          "IND",
          "IRN",
          "IRQ",
          "JOR",
          "JPN",
          "KAZ",
          "KEN",
          "KGZ",
          "KOR",
          "LBN",
          "LBY",
          "MAR",
          "MDV",
          "MEX",
          "MMR",
          "MNG",
          "MYS",
          "NGA",
          "NIC",
          "NLD",
          "NZL",
          "PAK",
          "PER",
          "PHL",
          "ROU",
          "RUS",
          "SGP",
          "SRB",
          "SVK",
          "THA",
          "TJK",
          "TUN",
          "TUR",
          "UKR",
          "URY",
          "USA",
          "UZB",
          "VEN",
          "VNM",
          "ZWE"
         ],
         "categoryorder": "array",
         "domain": [
          0,
          1
         ],
         "title": {
          "text": "Country"
         }
        },
        "yaxis": {
         "anchor": "x",
         "domain": [
          0,
          1
         ],
         "title": {
          "text": "Proportion of Q65=1"
         }
        }
       }
      }
     },
     "metadata": {},
     "output_type": "display_data"
    }
   ],
   "source": [
    "## (Visualization -II) ##\n",
    "\n",
    "# This code loads World Values Survey (WVS) data and filters it by countries found in scored sentences.\n",
    "# It processes Q65 survey responses to calculate per-country counts and proportions of respondents answering '1'.\n",
    "# It prepares the country data in a categorical order for consistent plotting.\n",
    "# Then it creates a scatter plot showing the proportion of Q65=1 responses per country, sized by total responses.\n",
    "# The plot visually compares response distributions across countries with hover details and a clean layout.\n",
    "# The x and y-axis labels are the same as the prediction visualization.\n",
    "\n",
    "%run visualize_response_props.py"
   ]
  },
  {
   "cell_type": "code",
   "execution_count": 13,
   "id": "548694b9",
   "metadata": {},
   "outputs": [
    {
     "data": {
      "application/vnd.plotly.v1+json": {
       "config": {
        "plotlyServerURL": "https://plot.ly"
       },
       "data": [
        {
         "hoverinfo": "skip",
         "line": {
          "color": "gray"
         },
         "mode": "lines",
         "showlegend": false,
         "type": "scatter",
         "x": [
          "ARM_2021",
          "ARM_2021"
         ],
         "y": [
          0.4153720359771055,
          1
         ]
        },
        {
         "hoverinfo": "skip",
         "line": {
          "color": "gray"
         },
         "mode": "lines",
         "showlegend": false,
         "type": "scatter",
         "x": [
          "AUS_2018",
          "AUS_2018"
         ],
         "y": [
          0.30501930501930496,
          0.5
         ]
        },
        {
         "hoverinfo": "skip",
         "line": {
          "color": "gray"
         },
         "mode": "lines",
         "showlegend": false,
         "type": "scatter",
         "x": [
          "BGD_2018",
          "BGD_2018"
         ],
         "y": [
          0.44083333333333347,
          1
         ]
        },
        {
         "hoverinfo": "skip",
         "line": {
          "color": "gray"
         },
         "mode": "lines",
         "showlegend": false,
         "type": "scatter",
         "x": [
          "CHN_2018",
          "CHN_2018"
         ],
         "y": [
          0.5026350461133069,
          1
         ]
        },
        {
         "hoverinfo": "skip",
         "line": {
          "color": "gray"
         },
         "mode": "lines",
         "showlegend": false,
         "type": "scatter",
         "x": [
          "COL_2018",
          "COL_2018"
         ],
         "y": [
          0.22828947368421057,
          1
         ]
        },
        {
         "hoverinfo": "skip",
         "line": {
          "color": "gray"
         },
         "mode": "lines",
         "showlegend": false,
         "type": "scatter",
         "x": [
          "GBR_2022",
          "GBR_2022"
         ],
         "y": [
          0.3181295515523188,
          0.625
         ]
        },
        {
         "hoverinfo": "skip",
         "line": {
          "color": "gray"
         },
         "mode": "lines",
         "showlegend": false,
         "type": "scatter",
         "x": [
          "GTM_2020",
          "GTM_2020"
         ],
         "y": [
          0.04556550040683481,
          1
         ]
        },
        {
         "hoverinfo": "skip",
         "line": {
          "color": "gray"
         },
         "mode": "lines",
         "showlegend": false,
         "type": "scatter",
         "x": [
          "IRQ_2018",
          "IRQ_2018"
         ],
         "y": [
          0.41916666666666674,
          1
         ]
        },
        {
         "hoverinfo": "skip",
         "line": {
          "color": "gray"
         },
         "mode": "lines",
         "showlegend": false,
         "type": "scatter",
         "x": [
          "KAZ_2018",
          "KAZ_2018"
         ],
         "y": [
          0.35344827586206895,
          0.3333333333333333
         ]
        },
        {
         "hoverinfo": "skip",
         "line": {
          "color": "gray"
         },
         "mode": "lines",
         "showlegend": false,
         "type": "scatter",
         "x": [
          "KOR_2018",
          "KOR_2018"
         ],
         "y": [
          0.051405622489959835,
          1
         ]
        },
        {
         "hoverinfo": "skip",
         "line": {
          "color": "gray"
         },
         "mode": "lines",
         "showlegend": false,
         "type": "scatter",
         "x": [
          "LBN_2018",
          "LBN_2018"
         ],
         "y": [
          0.6025000000000001,
          1
         ]
        },
        {
         "hoverinfo": "skip",
         "line": {
          "color": "gray"
         },
         "mode": "lines",
         "showlegend": false,
         "type": "scatter",
         "x": [
          "MYS_2018",
          "MYS_2018"
         ],
         "y": [
          0.2208682406702209,
          0.5
         ]
        },
        {
         "hoverinfo": "skip",
         "line": {
          "color": "gray"
         },
         "mode": "lines",
         "showlegend": false,
         "type": "scatter",
         "x": [
          "NIC_2020",
          "NIC_2020"
         ],
         "y": [
          0.12333333333333336,
          1
         ]
        },
        {
         "hoverinfo": "skip",
         "line": {
          "color": "gray"
         },
         "mode": "lines",
         "showlegend": false,
         "type": "scatter",
         "x": [
          "NLD_2022",
          "NLD_2022"
         ],
         "y": [
          0.043822843822843814,
          1
         ]
        },
        {
         "hoverinfo": "skip",
         "line": {
          "color": "gray"
         },
         "mode": "lines",
         "showlegend": false,
         "type": "scatter",
         "x": [
          "NZL_2020",
          "NZL_2020"
         ],
         "y": [
          0.25070955534531697,
          1
         ]
        },
        {
         "hoverinfo": "skip",
         "line": {
          "color": "gray"
         },
         "mode": "lines",
         "showlegend": false,
         "type": "scatter",
         "x": [
          "SRB_2017",
          "SRB_2017"
         ],
         "y": [
          0.18164435946462712,
          1
         ]
        },
        {
         "hoverinfo": "skip",
         "line": {
          "color": "gray"
         },
         "mode": "lines",
         "showlegend": false,
         "type": "scatter",
         "x": [
          "TUR_2018",
          "TUR_2018"
         ],
         "y": [
          0.46625258799171837,
          0.5
         ]
        },
        {
         "hoverinfo": "skip",
         "line": {
          "color": "gray"
         },
         "mode": "lines",
         "showlegend": false,
         "type": "scatter",
         "x": [
          "UKR_2020",
          "UKR_2020"
         ],
         "y": [
          0.23584173778122572,
          1
         ]
        },
        {
         "hoverinfo": "skip",
         "line": {
          "color": "gray"
         },
         "mode": "lines",
         "showlegend": false,
         "type": "scatter",
         "x": [
          "USA_2017",
          "USA_2017"
         ],
         "y": [
          0.29583975346687214,
          1
         ]
        },
        {
         "hoverinfo": "skip",
         "line": {
          "color": "gray"
         },
         "mode": "lines",
         "showlegend": false,
         "type": "scatter",
         "x": [
          "VEN_2021",
          "VEN_2021"
         ],
         "y": [
          0.05630252100840336,
          0.5
         ]
        },
        {
         "hovertemplate": "%{x}<br>WVS Weighted Proportion: %{y:.2f}<extra></extra>",
         "marker": {
          "color": "blue",
          "size": 8
         },
         "mode": "markers",
         "name": "WVS Weighted Q65_1",
         "type": "scatter",
         "x": [
          "ARM_2021",
          "AUS_2018",
          "BGD_2018",
          "CHN_2018",
          "COL_2018",
          "GBR_2022",
          "GTM_2020",
          "IRQ_2018",
          "KAZ_2018",
          "KOR_2018",
          "LBN_2018",
          "MYS_2018",
          "NIC_2020",
          "NLD_2022",
          "NZL_2020",
          "SRB_2017",
          "TUR_2018",
          "UKR_2020",
          "USA_2017",
          "VEN_2021"
         ],
         "y": {
          "bdata": "YnSMl3SV2j9WOO2wb4XTPznQaQOdNtw/0imcF5YV4D+LU7/nljjNPxi88ww8XNQ/bn4lfFxUpz/VBjptoNPaP1juaYTlntY/cIzZdtZRqj9J4XoUrkfjP/+qMxdpRcw/lV8s+cWSvz9b2xKi8m+mP4EuQBegC9A/+aOzUx9Axz8BY0YYFdfdP5OtZuMPMM4/g81/3Anv0j8dr9Mcr9OsPw==",
          "dtype": "f8"
         }
        },
        {
         "hovertemplate": "%{x}<br>Sentence Proportion: %{y:.2f}<extra></extra>",
         "marker": {
          "color": "red",
          "size": 8
         },
         "mode": "markers",
         "name": "Scored Sentences Q65_1",
         "type": "scatter",
         "x": [
          "ARM_2021",
          "AUS_2018",
          "BGD_2018",
          "CHN_2018",
          "COL_2018",
          "GBR_2022",
          "GTM_2020",
          "IRQ_2018",
          "KAZ_2018",
          "KOR_2018",
          "LBN_2018",
          "MYS_2018",
          "NIC_2020",
          "NLD_2022",
          "NZL_2020",
          "SRB_2017",
          "TUR_2018",
          "UKR_2020",
          "USA_2017",
          "VEN_2021"
         ],
         "y": {
          "bdata": "AAAAAAAA8D8AAAAAAADgPwAAAAAAAPA/AAAAAAAA8D8AAAAAAADwPwAAAAAAAOQ/AAAAAAAA8D8AAAAAAADwP1VVVVVVVdU/AAAAAAAA8D8AAAAAAADwPwAAAAAAAOA/AAAAAAAA8D8AAAAAAADwPwAAAAAAAPA/AAAAAAAA8D8AAAAAAADgPwAAAAAAAPA/AAAAAAAA8D8AAAAAAADgPw==",
          "dtype": "f8"
         }
        }
       ],
       "layout": {
        "height": 600,
        "hovermode": "x unified",
        "template": {
         "data": {
          "bar": [
           {
            "error_x": {
             "color": "#2a3f5f"
            },
            "error_y": {
             "color": "#2a3f5f"
            },
            "marker": {
             "line": {
              "color": "#E5ECF6",
              "width": 0.5
             },
             "pattern": {
              "fillmode": "overlay",
              "size": 10,
              "solidity": 0.2
             }
            },
            "type": "bar"
           }
          ],
          "barpolar": [
           {
            "marker": {
             "line": {
              "color": "#E5ECF6",
              "width": 0.5
             },
             "pattern": {
              "fillmode": "overlay",
              "size": 10,
              "solidity": 0.2
             }
            },
            "type": "barpolar"
           }
          ],
          "carpet": [
           {
            "aaxis": {
             "endlinecolor": "#2a3f5f",
             "gridcolor": "white",
             "linecolor": "white",
             "minorgridcolor": "white",
             "startlinecolor": "#2a3f5f"
            },
            "baxis": {
             "endlinecolor": "#2a3f5f",
             "gridcolor": "white",
             "linecolor": "white",
             "minorgridcolor": "white",
             "startlinecolor": "#2a3f5f"
            },
            "type": "carpet"
           }
          ],
          "choropleth": [
           {
            "colorbar": {
             "outlinewidth": 0,
             "ticks": ""
            },
            "type": "choropleth"
           }
          ],
          "contour": [
           {
            "colorbar": {
             "outlinewidth": 0,
             "ticks": ""
            },
            "colorscale": [
             [
              0,
              "#0d0887"
             ],
             [
              0.1111111111111111,
              "#46039f"
             ],
             [
              0.2222222222222222,
              "#7201a8"
             ],
             [
              0.3333333333333333,
              "#9c179e"
             ],
             [
              0.4444444444444444,
              "#bd3786"
             ],
             [
              0.5555555555555556,
              "#d8576b"
             ],
             [
              0.6666666666666666,
              "#ed7953"
             ],
             [
              0.7777777777777778,
              "#fb9f3a"
             ],
             [
              0.8888888888888888,
              "#fdca26"
             ],
             [
              1,
              "#f0f921"
             ]
            ],
            "type": "contour"
           }
          ],
          "contourcarpet": [
           {
            "colorbar": {
             "outlinewidth": 0,
             "ticks": ""
            },
            "type": "contourcarpet"
           }
          ],
          "heatmap": [
           {
            "colorbar": {
             "outlinewidth": 0,
             "ticks": ""
            },
            "colorscale": [
             [
              0,
              "#0d0887"
             ],
             [
              0.1111111111111111,
              "#46039f"
             ],
             [
              0.2222222222222222,
              "#7201a8"
             ],
             [
              0.3333333333333333,
              "#9c179e"
             ],
             [
              0.4444444444444444,
              "#bd3786"
             ],
             [
              0.5555555555555556,
              "#d8576b"
             ],
             [
              0.6666666666666666,
              "#ed7953"
             ],
             [
              0.7777777777777778,
              "#fb9f3a"
             ],
             [
              0.8888888888888888,
              "#fdca26"
             ],
             [
              1,
              "#f0f921"
             ]
            ],
            "type": "heatmap"
           }
          ],
          "histogram": [
           {
            "marker": {
             "pattern": {
              "fillmode": "overlay",
              "size": 10,
              "solidity": 0.2
             }
            },
            "type": "histogram"
           }
          ],
          "histogram2d": [
           {
            "colorbar": {
             "outlinewidth": 0,
             "ticks": ""
            },
            "colorscale": [
             [
              0,
              "#0d0887"
             ],
             [
              0.1111111111111111,
              "#46039f"
             ],
             [
              0.2222222222222222,
              "#7201a8"
             ],
             [
              0.3333333333333333,
              "#9c179e"
             ],
             [
              0.4444444444444444,
              "#bd3786"
             ],
             [
              0.5555555555555556,
              "#d8576b"
             ],
             [
              0.6666666666666666,
              "#ed7953"
             ],
             [
              0.7777777777777778,
              "#fb9f3a"
             ],
             [
              0.8888888888888888,
              "#fdca26"
             ],
             [
              1,
              "#f0f921"
             ]
            ],
            "type": "histogram2d"
           }
          ],
          "histogram2dcontour": [
           {
            "colorbar": {
             "outlinewidth": 0,
             "ticks": ""
            },
            "colorscale": [
             [
              0,
              "#0d0887"
             ],
             [
              0.1111111111111111,
              "#46039f"
             ],
             [
              0.2222222222222222,
              "#7201a8"
             ],
             [
              0.3333333333333333,
              "#9c179e"
             ],
             [
              0.4444444444444444,
              "#bd3786"
             ],
             [
              0.5555555555555556,
              "#d8576b"
             ],
             [
              0.6666666666666666,
              "#ed7953"
             ],
             [
              0.7777777777777778,
              "#fb9f3a"
             ],
             [
              0.8888888888888888,
              "#fdca26"
             ],
             [
              1,
              "#f0f921"
             ]
            ],
            "type": "histogram2dcontour"
           }
          ],
          "mesh3d": [
           {
            "colorbar": {
             "outlinewidth": 0,
             "ticks": ""
            },
            "type": "mesh3d"
           }
          ],
          "parcoords": [
           {
            "line": {
             "colorbar": {
              "outlinewidth": 0,
              "ticks": ""
             }
            },
            "type": "parcoords"
           }
          ],
          "pie": [
           {
            "automargin": true,
            "type": "pie"
           }
          ],
          "scatter": [
           {
            "fillpattern": {
             "fillmode": "overlay",
             "size": 10,
             "solidity": 0.2
            },
            "type": "scatter"
           }
          ],
          "scatter3d": [
           {
            "line": {
             "colorbar": {
              "outlinewidth": 0,
              "ticks": ""
             }
            },
            "marker": {
             "colorbar": {
              "outlinewidth": 0,
              "ticks": ""
             }
            },
            "type": "scatter3d"
           }
          ],
          "scattercarpet": [
           {
            "marker": {
             "colorbar": {
              "outlinewidth": 0,
              "ticks": ""
             }
            },
            "type": "scattercarpet"
           }
          ],
          "scattergeo": [
           {
            "marker": {
             "colorbar": {
              "outlinewidth": 0,
              "ticks": ""
             }
            },
            "type": "scattergeo"
           }
          ],
          "scattergl": [
           {
            "marker": {
             "colorbar": {
              "outlinewidth": 0,
              "ticks": ""
             }
            },
            "type": "scattergl"
           }
          ],
          "scattermap": [
           {
            "marker": {
             "colorbar": {
              "outlinewidth": 0,
              "ticks": ""
             }
            },
            "type": "scattermap"
           }
          ],
          "scattermapbox": [
           {
            "marker": {
             "colorbar": {
              "outlinewidth": 0,
              "ticks": ""
             }
            },
            "type": "scattermapbox"
           }
          ],
          "scatterpolar": [
           {
            "marker": {
             "colorbar": {
              "outlinewidth": 0,
              "ticks": ""
             }
            },
            "type": "scatterpolar"
           }
          ],
          "scatterpolargl": [
           {
            "marker": {
             "colorbar": {
              "outlinewidth": 0,
              "ticks": ""
             }
            },
            "type": "scatterpolargl"
           }
          ],
          "scatterternary": [
           {
            "marker": {
             "colorbar": {
              "outlinewidth": 0,
              "ticks": ""
             }
            },
            "type": "scatterternary"
           }
          ],
          "surface": [
           {
            "colorbar": {
             "outlinewidth": 0,
             "ticks": ""
            },
            "colorscale": [
             [
              0,
              "#0d0887"
             ],
             [
              0.1111111111111111,
              "#46039f"
             ],
             [
              0.2222222222222222,
              "#7201a8"
             ],
             [
              0.3333333333333333,
              "#9c179e"
             ],
             [
              0.4444444444444444,
              "#bd3786"
             ],
             [
              0.5555555555555556,
              "#d8576b"
             ],
             [
              0.6666666666666666,
              "#ed7953"
             ],
             [
              0.7777777777777778,
              "#fb9f3a"
             ],
             [
              0.8888888888888888,
              "#fdca26"
             ],
             [
              1,
              "#f0f921"
             ]
            ],
            "type": "surface"
           }
          ],
          "table": [
           {
            "cells": {
             "fill": {
              "color": "#EBF0F8"
             },
             "line": {
              "color": "white"
             }
            },
            "header": {
             "fill": {
              "color": "#C8D4E3"
             },
             "line": {
              "color": "white"
             }
            },
            "type": "table"
           }
          ]
         },
         "layout": {
          "annotationdefaults": {
           "arrowcolor": "#2a3f5f",
           "arrowhead": 0,
           "arrowwidth": 1
          },
          "autotypenumbers": "strict",
          "coloraxis": {
           "colorbar": {
            "outlinewidth": 0,
            "ticks": ""
           }
          },
          "colorscale": {
           "diverging": [
            [
             0,
             "#8e0152"
            ],
            [
             0.1,
             "#c51b7d"
            ],
            [
             0.2,
             "#de77ae"
            ],
            [
             0.3,
             "#f1b6da"
            ],
            [
             0.4,
             "#fde0ef"
            ],
            [
             0.5,
             "#f7f7f7"
            ],
            [
             0.6,
             "#e6f5d0"
            ],
            [
             0.7,
             "#b8e186"
            ],
            [
             0.8,
             "#7fbc41"
            ],
            [
             0.9,
             "#4d9221"
            ],
            [
             1,
             "#276419"
            ]
           ],
           "sequential": [
            [
             0,
             "#0d0887"
            ],
            [
             0.1111111111111111,
             "#46039f"
            ],
            [
             0.2222222222222222,
             "#7201a8"
            ],
            [
             0.3333333333333333,
             "#9c179e"
            ],
            [
             0.4444444444444444,
             "#bd3786"
            ],
            [
             0.5555555555555556,
             "#d8576b"
            ],
            [
             0.6666666666666666,
             "#ed7953"
            ],
            [
             0.7777777777777778,
             "#fb9f3a"
            ],
            [
             0.8888888888888888,
             "#fdca26"
            ],
            [
             1,
             "#f0f921"
            ]
           ],
           "sequentialminus": [
            [
             0,
             "#0d0887"
            ],
            [
             0.1111111111111111,
             "#46039f"
            ],
            [
             0.2222222222222222,
             "#7201a8"
            ],
            [
             0.3333333333333333,
             "#9c179e"
            ],
            [
             0.4444444444444444,
             "#bd3786"
            ],
            [
             0.5555555555555556,
             "#d8576b"
            ],
            [
             0.6666666666666666,
             "#ed7953"
            ],
            [
             0.7777777777777778,
             "#fb9f3a"
            ],
            [
             0.8888888888888888,
             "#fdca26"
            ],
            [
             1,
             "#f0f921"
            ]
           ]
          },
          "colorway": [
           "#636efa",
           "#EF553B",
           "#00cc96",
           "#ab63fa",
           "#FFA15A",
           "#19d3f3",
           "#FF6692",
           "#B6E880",
           "#FF97FF",
           "#FECB52"
          ],
          "font": {
           "color": "#2a3f5f"
          },
          "geo": {
           "bgcolor": "white",
           "lakecolor": "white",
           "landcolor": "#E5ECF6",
           "showlakes": true,
           "showland": true,
           "subunitcolor": "white"
          },
          "hoverlabel": {
           "align": "left"
          },
          "hovermode": "closest",
          "mapbox": {
           "style": "light"
          },
          "paper_bgcolor": "white",
          "plot_bgcolor": "#E5ECF6",
          "polar": {
           "angularaxis": {
            "gridcolor": "white",
            "linecolor": "white",
            "ticks": ""
           },
           "bgcolor": "#E5ECF6",
           "radialaxis": {
            "gridcolor": "white",
            "linecolor": "white",
            "ticks": ""
           }
          },
          "scene": {
           "xaxis": {
            "backgroundcolor": "#E5ECF6",
            "gridcolor": "white",
            "gridwidth": 2,
            "linecolor": "white",
            "showbackground": true,
            "ticks": "",
            "zerolinecolor": "white"
           },
           "yaxis": {
            "backgroundcolor": "#E5ECF6",
            "gridcolor": "white",
            "gridwidth": 2,
            "linecolor": "white",
            "showbackground": true,
            "ticks": "",
            "zerolinecolor": "white"
           },
           "zaxis": {
            "backgroundcolor": "#E5ECF6",
            "gridcolor": "white",
            "gridwidth": 2,
            "linecolor": "white",
            "showbackground": true,
            "ticks": "",
            "zerolinecolor": "white"
           }
          },
          "shapedefaults": {
           "line": {
            "color": "#2a3f5f"
           }
          },
          "ternary": {
           "aaxis": {
            "gridcolor": "white",
            "linecolor": "white",
            "ticks": ""
           },
           "baxis": {
            "gridcolor": "white",
            "linecolor": "white",
            "ticks": ""
           },
           "bgcolor": "#E5ECF6",
           "caxis": {
            "gridcolor": "white",
            "linecolor": "white",
            "ticks": ""
           }
          },
          "title": {
           "x": 0.05
          },
          "xaxis": {
           "automargin": true,
           "gridcolor": "white",
           "linecolor": "white",
           "ticks": "",
           "title": {
            "standoff": 15
           },
           "zerolinecolor": "white",
           "zerolinewidth": 2
          },
          "yaxis": {
           "automargin": true,
           "gridcolor": "white",
           "linecolor": "white",
           "ticks": "",
           "title": {
            "standoff": 15
           },
           "zerolinecolor": "white",
           "zerolinewidth": 2
          }
         }
        },
        "title": {
         "text": "WVS Weighted vs Scored Sentences Proportion of Q65_1 by Country-Year"
        },
        "xaxis": {
         "title": {
          "text": "Country-Year"
         }
        },
        "yaxis": {
         "range": [
          0,
          1.1
         ],
         "title": {
          "text": "Proportion"
         }
        }
       }
      }
     },
     "metadata": {},
     "output_type": "display_data"
    },
    {
     "name": "stdout",
     "output_type": "stream",
     "text": [
      "Pearson correlation between WVS weighted and scored sentence proportions: -0.0447\n"
     ]
    }
   ],
   "source": [
    "## (Visualization -III) ##\n",
    "\n",
    "# This script compares proportions of a specific Q65 survey response between scored sentences and WVS data at the country-year level.\n",
    "# It aggregates sentence counts and computes proportions per country-year in the scored predictions.\n",
    "# It filters the WVS data to matching country-year pairs and computes weighted response proportions using survey weights.\n",
    "# The code then merges both datasets and visualizes their proportions with connecting lines to compare distributions.\n",
    "# The plot uses country-year labels on the x-axis and proportion values on the y-axis, with vertical lines visually highlighting differences between WVS survey and scored sentence proportions.\n",
    "# Finally, it calculates and prints the Pearson correlation between the weighted WVS proportions and scored sentence proportions.\n",
    "\n",
    "%run visualize_prop_diffs.py"
   ]
  }
 ],
 "metadata": {
  "kernelspec": {
   "display_name": "torchgpu",
   "language": "python",
   "name": "python3"
  },
  "language_info": {
   "codemirror_mode": {
    "name": "ipython",
    "version": 3
   },
   "file_extension": ".py",
   "mimetype": "text/x-python",
   "name": "python",
   "nbconvert_exporter": "python",
   "pygments_lexer": "ipython3",
   "version": "3.10.16"
  }
 },
 "nbformat": 4,
 "nbformat_minor": 5
}
